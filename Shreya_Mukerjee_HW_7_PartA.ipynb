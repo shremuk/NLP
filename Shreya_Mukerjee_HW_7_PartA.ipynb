{
  "nbformat": 4,
  "nbformat_minor": 0,
  "metadata": {
    "colab": {
      "provenance": [],
      "machine_shape": "hm",
      "gpuType": "T4"
    },
    "kernelspec": {
      "name": "python3",
      "display_name": "Python 3"
    },
    "language_info": {
      "name": "python"
    },
    "widgets": {
      "application/vnd.jupyter.widget-state+json": {
        "eb0c6e638247401d91cd20ba3cd00719": {
          "model_module": "@jupyter-widgets/controls",
          "model_name": "HBoxModel",
          "model_module_version": "1.5.0",
          "state": {
            "_dom_classes": [],
            "_model_module": "@jupyter-widgets/controls",
            "_model_module_version": "1.5.0",
            "_model_name": "HBoxModel",
            "_view_count": null,
            "_view_module": "@jupyter-widgets/controls",
            "_view_module_version": "1.5.0",
            "_view_name": "HBoxView",
            "box_style": "",
            "children": [
              "IPY_MODEL_b9f75c2b36654eaeb6c30871fe76cb31",
              "IPY_MODEL_efcf995e2e6548cf81868349fa5d0882",
              "IPY_MODEL_c48602f628d045ccad735f83b24184b9"
            ],
            "layout": "IPY_MODEL_6fc938fe64d54cc3a915b8c8f87018ac"
          }
        },
        "b9f75c2b36654eaeb6c30871fe76cb31": {
          "model_module": "@jupyter-widgets/controls",
          "model_name": "HTMLModel",
          "model_module_version": "1.5.0",
          "state": {
            "_dom_classes": [],
            "_model_module": "@jupyter-widgets/controls",
            "_model_module_version": "1.5.0",
            "_model_name": "HTMLModel",
            "_view_count": null,
            "_view_module": "@jupyter-widgets/controls",
            "_view_module_version": "1.5.0",
            "_view_name": "HTMLView",
            "description": "",
            "description_tooltip": null,
            "layout": "IPY_MODEL_82a9be5fb9264cc38cf13a7c83576b6b",
            "placeholder": "​",
            "style": "IPY_MODEL_71efc0f9c498499f9ece6cde6a2fe1dc",
            "value": "tokenizer_config.json: 100%"
          }
        },
        "efcf995e2e6548cf81868349fa5d0882": {
          "model_module": "@jupyter-widgets/controls",
          "model_name": "FloatProgressModel",
          "model_module_version": "1.5.0",
          "state": {
            "_dom_classes": [],
            "_model_module": "@jupyter-widgets/controls",
            "_model_module_version": "1.5.0",
            "_model_name": "FloatProgressModel",
            "_view_count": null,
            "_view_module": "@jupyter-widgets/controls",
            "_view_module_version": "1.5.0",
            "_view_name": "ProgressView",
            "bar_style": "success",
            "description": "",
            "description_tooltip": null,
            "layout": "IPY_MODEL_b4075d15e7d24efc925621c62fa038f1",
            "max": 28,
            "min": 0,
            "orientation": "horizontal",
            "style": "IPY_MODEL_559b1051020a41b6add8400bdc33cd7a",
            "value": 28
          }
        },
        "c48602f628d045ccad735f83b24184b9": {
          "model_module": "@jupyter-widgets/controls",
          "model_name": "HTMLModel",
          "model_module_version": "1.5.0",
          "state": {
            "_dom_classes": [],
            "_model_module": "@jupyter-widgets/controls",
            "_model_module_version": "1.5.0",
            "_model_name": "HTMLModel",
            "_view_count": null,
            "_view_module": "@jupyter-widgets/controls",
            "_view_module_version": "1.5.0",
            "_view_name": "HTMLView",
            "description": "",
            "description_tooltip": null,
            "layout": "IPY_MODEL_5d35b4b91ba247d39601ebfeddf14203",
            "placeholder": "​",
            "style": "IPY_MODEL_01f11d3ef28c43f087f4a6f478ca803f",
            "value": " 28.0/28.0 [00:00&lt;00:00, 2.09kB/s]"
          }
        },
        "6fc938fe64d54cc3a915b8c8f87018ac": {
          "model_module": "@jupyter-widgets/base",
          "model_name": "LayoutModel",
          "model_module_version": "1.2.0",
          "state": {
            "_model_module": "@jupyter-widgets/base",
            "_model_module_version": "1.2.0",
            "_model_name": "LayoutModel",
            "_view_count": null,
            "_view_module": "@jupyter-widgets/base",
            "_view_module_version": "1.2.0",
            "_view_name": "LayoutView",
            "align_content": null,
            "align_items": null,
            "align_self": null,
            "border": null,
            "bottom": null,
            "display": null,
            "flex": null,
            "flex_flow": null,
            "grid_area": null,
            "grid_auto_columns": null,
            "grid_auto_flow": null,
            "grid_auto_rows": null,
            "grid_column": null,
            "grid_gap": null,
            "grid_row": null,
            "grid_template_areas": null,
            "grid_template_columns": null,
            "grid_template_rows": null,
            "height": null,
            "justify_content": null,
            "justify_items": null,
            "left": null,
            "margin": null,
            "max_height": null,
            "max_width": null,
            "min_height": null,
            "min_width": null,
            "object_fit": null,
            "object_position": null,
            "order": null,
            "overflow": null,
            "overflow_x": null,
            "overflow_y": null,
            "padding": null,
            "right": null,
            "top": null,
            "visibility": null,
            "width": null
          }
        },
        "82a9be5fb9264cc38cf13a7c83576b6b": {
          "model_module": "@jupyter-widgets/base",
          "model_name": "LayoutModel",
          "model_module_version": "1.2.0",
          "state": {
            "_model_module": "@jupyter-widgets/base",
            "_model_module_version": "1.2.0",
            "_model_name": "LayoutModel",
            "_view_count": null,
            "_view_module": "@jupyter-widgets/base",
            "_view_module_version": "1.2.0",
            "_view_name": "LayoutView",
            "align_content": null,
            "align_items": null,
            "align_self": null,
            "border": null,
            "bottom": null,
            "display": null,
            "flex": null,
            "flex_flow": null,
            "grid_area": null,
            "grid_auto_columns": null,
            "grid_auto_flow": null,
            "grid_auto_rows": null,
            "grid_column": null,
            "grid_gap": null,
            "grid_row": null,
            "grid_template_areas": null,
            "grid_template_columns": null,
            "grid_template_rows": null,
            "height": null,
            "justify_content": null,
            "justify_items": null,
            "left": null,
            "margin": null,
            "max_height": null,
            "max_width": null,
            "min_height": null,
            "min_width": null,
            "object_fit": null,
            "object_position": null,
            "order": null,
            "overflow": null,
            "overflow_x": null,
            "overflow_y": null,
            "padding": null,
            "right": null,
            "top": null,
            "visibility": null,
            "width": null
          }
        },
        "71efc0f9c498499f9ece6cde6a2fe1dc": {
          "model_module": "@jupyter-widgets/controls",
          "model_name": "DescriptionStyleModel",
          "model_module_version": "1.5.0",
          "state": {
            "_model_module": "@jupyter-widgets/controls",
            "_model_module_version": "1.5.0",
            "_model_name": "DescriptionStyleModel",
            "_view_count": null,
            "_view_module": "@jupyter-widgets/base",
            "_view_module_version": "1.2.0",
            "_view_name": "StyleView",
            "description_width": ""
          }
        },
        "b4075d15e7d24efc925621c62fa038f1": {
          "model_module": "@jupyter-widgets/base",
          "model_name": "LayoutModel",
          "model_module_version": "1.2.0",
          "state": {
            "_model_module": "@jupyter-widgets/base",
            "_model_module_version": "1.2.0",
            "_model_name": "LayoutModel",
            "_view_count": null,
            "_view_module": "@jupyter-widgets/base",
            "_view_module_version": "1.2.0",
            "_view_name": "LayoutView",
            "align_content": null,
            "align_items": null,
            "align_self": null,
            "border": null,
            "bottom": null,
            "display": null,
            "flex": null,
            "flex_flow": null,
            "grid_area": null,
            "grid_auto_columns": null,
            "grid_auto_flow": null,
            "grid_auto_rows": null,
            "grid_column": null,
            "grid_gap": null,
            "grid_row": null,
            "grid_template_areas": null,
            "grid_template_columns": null,
            "grid_template_rows": null,
            "height": null,
            "justify_content": null,
            "justify_items": null,
            "left": null,
            "margin": null,
            "max_height": null,
            "max_width": null,
            "min_height": null,
            "min_width": null,
            "object_fit": null,
            "object_position": null,
            "order": null,
            "overflow": null,
            "overflow_x": null,
            "overflow_y": null,
            "padding": null,
            "right": null,
            "top": null,
            "visibility": null,
            "width": null
          }
        },
        "559b1051020a41b6add8400bdc33cd7a": {
          "model_module": "@jupyter-widgets/controls",
          "model_name": "ProgressStyleModel",
          "model_module_version": "1.5.0",
          "state": {
            "_model_module": "@jupyter-widgets/controls",
            "_model_module_version": "1.5.0",
            "_model_name": "ProgressStyleModel",
            "_view_count": null,
            "_view_module": "@jupyter-widgets/base",
            "_view_module_version": "1.2.0",
            "_view_name": "StyleView",
            "bar_color": null,
            "description_width": ""
          }
        },
        "5d35b4b91ba247d39601ebfeddf14203": {
          "model_module": "@jupyter-widgets/base",
          "model_name": "LayoutModel",
          "model_module_version": "1.2.0",
          "state": {
            "_model_module": "@jupyter-widgets/base",
            "_model_module_version": "1.2.0",
            "_model_name": "LayoutModel",
            "_view_count": null,
            "_view_module": "@jupyter-widgets/base",
            "_view_module_version": "1.2.0",
            "_view_name": "LayoutView",
            "align_content": null,
            "align_items": null,
            "align_self": null,
            "border": null,
            "bottom": null,
            "display": null,
            "flex": null,
            "flex_flow": null,
            "grid_area": null,
            "grid_auto_columns": null,
            "grid_auto_flow": null,
            "grid_auto_rows": null,
            "grid_column": null,
            "grid_gap": null,
            "grid_row": null,
            "grid_template_areas": null,
            "grid_template_columns": null,
            "grid_template_rows": null,
            "height": null,
            "justify_content": null,
            "justify_items": null,
            "left": null,
            "margin": null,
            "max_height": null,
            "max_width": null,
            "min_height": null,
            "min_width": null,
            "object_fit": null,
            "object_position": null,
            "order": null,
            "overflow": null,
            "overflow_x": null,
            "overflow_y": null,
            "padding": null,
            "right": null,
            "top": null,
            "visibility": null,
            "width": null
          }
        },
        "01f11d3ef28c43f087f4a6f478ca803f": {
          "model_module": "@jupyter-widgets/controls",
          "model_name": "DescriptionStyleModel",
          "model_module_version": "1.5.0",
          "state": {
            "_model_module": "@jupyter-widgets/controls",
            "_model_module_version": "1.5.0",
            "_model_name": "DescriptionStyleModel",
            "_view_count": null,
            "_view_module": "@jupyter-widgets/base",
            "_view_module_version": "1.2.0",
            "_view_name": "StyleView",
            "description_width": ""
          }
        },
        "b06d4b907d054eee8d267bc740df2868": {
          "model_module": "@jupyter-widgets/controls",
          "model_name": "HBoxModel",
          "model_module_version": "1.5.0",
          "state": {
            "_dom_classes": [],
            "_model_module": "@jupyter-widgets/controls",
            "_model_module_version": "1.5.0",
            "_model_name": "HBoxModel",
            "_view_count": null,
            "_view_module": "@jupyter-widgets/controls",
            "_view_module_version": "1.5.0",
            "_view_name": "HBoxView",
            "box_style": "",
            "children": [
              "IPY_MODEL_51b90d3e52794e12b1d9519ff0931781",
              "IPY_MODEL_c673e7f19675458d87d90287f5b38db3",
              "IPY_MODEL_f4030976081b40a4864643b83c0a00ea"
            ],
            "layout": "IPY_MODEL_7478fc0f007c47f59eba32c8aee566aa"
          }
        },
        "51b90d3e52794e12b1d9519ff0931781": {
          "model_module": "@jupyter-widgets/controls",
          "model_name": "HTMLModel",
          "model_module_version": "1.5.0",
          "state": {
            "_dom_classes": [],
            "_model_module": "@jupyter-widgets/controls",
            "_model_module_version": "1.5.0",
            "_model_name": "HTMLModel",
            "_view_count": null,
            "_view_module": "@jupyter-widgets/controls",
            "_view_module_version": "1.5.0",
            "_view_name": "HTMLView",
            "description": "",
            "description_tooltip": null,
            "layout": "IPY_MODEL_9786a778615c41d6ae60d3d52b0e3c5a",
            "placeholder": "​",
            "style": "IPY_MODEL_b0d5506a901848858c9647900609e016",
            "value": "config.json: 100%"
          }
        },
        "c673e7f19675458d87d90287f5b38db3": {
          "model_module": "@jupyter-widgets/controls",
          "model_name": "FloatProgressModel",
          "model_module_version": "1.5.0",
          "state": {
            "_dom_classes": [],
            "_model_module": "@jupyter-widgets/controls",
            "_model_module_version": "1.5.0",
            "_model_name": "FloatProgressModel",
            "_view_count": null,
            "_view_module": "@jupyter-widgets/controls",
            "_view_module_version": "1.5.0",
            "_view_name": "ProgressView",
            "bar_style": "success",
            "description": "",
            "description_tooltip": null,
            "layout": "IPY_MODEL_d67e78b1413942ae85e9b7d6529aff97",
            "max": 570,
            "min": 0,
            "orientation": "horizontal",
            "style": "IPY_MODEL_3079a019db3241e2a27e35eb82bac224",
            "value": 570
          }
        },
        "f4030976081b40a4864643b83c0a00ea": {
          "model_module": "@jupyter-widgets/controls",
          "model_name": "HTMLModel",
          "model_module_version": "1.5.0",
          "state": {
            "_dom_classes": [],
            "_model_module": "@jupyter-widgets/controls",
            "_model_module_version": "1.5.0",
            "_model_name": "HTMLModel",
            "_view_count": null,
            "_view_module": "@jupyter-widgets/controls",
            "_view_module_version": "1.5.0",
            "_view_name": "HTMLView",
            "description": "",
            "description_tooltip": null,
            "layout": "IPY_MODEL_f91003b3657c4f87aba4e1dba0207334",
            "placeholder": "​",
            "style": "IPY_MODEL_1d5ca4e707b94d43b55ab2b99cfe4059",
            "value": " 570/570 [00:00&lt;00:00, 32.0kB/s]"
          }
        },
        "7478fc0f007c47f59eba32c8aee566aa": {
          "model_module": "@jupyter-widgets/base",
          "model_name": "LayoutModel",
          "model_module_version": "1.2.0",
          "state": {
            "_model_module": "@jupyter-widgets/base",
            "_model_module_version": "1.2.0",
            "_model_name": "LayoutModel",
            "_view_count": null,
            "_view_module": "@jupyter-widgets/base",
            "_view_module_version": "1.2.0",
            "_view_name": "LayoutView",
            "align_content": null,
            "align_items": null,
            "align_self": null,
            "border": null,
            "bottom": null,
            "display": null,
            "flex": null,
            "flex_flow": null,
            "grid_area": null,
            "grid_auto_columns": null,
            "grid_auto_flow": null,
            "grid_auto_rows": null,
            "grid_column": null,
            "grid_gap": null,
            "grid_row": null,
            "grid_template_areas": null,
            "grid_template_columns": null,
            "grid_template_rows": null,
            "height": null,
            "justify_content": null,
            "justify_items": null,
            "left": null,
            "margin": null,
            "max_height": null,
            "max_width": null,
            "min_height": null,
            "min_width": null,
            "object_fit": null,
            "object_position": null,
            "order": null,
            "overflow": null,
            "overflow_x": null,
            "overflow_y": null,
            "padding": null,
            "right": null,
            "top": null,
            "visibility": null,
            "width": null
          }
        },
        "9786a778615c41d6ae60d3d52b0e3c5a": {
          "model_module": "@jupyter-widgets/base",
          "model_name": "LayoutModel",
          "model_module_version": "1.2.0",
          "state": {
            "_model_module": "@jupyter-widgets/base",
            "_model_module_version": "1.2.0",
            "_model_name": "LayoutModel",
            "_view_count": null,
            "_view_module": "@jupyter-widgets/base",
            "_view_module_version": "1.2.0",
            "_view_name": "LayoutView",
            "align_content": null,
            "align_items": null,
            "align_self": null,
            "border": null,
            "bottom": null,
            "display": null,
            "flex": null,
            "flex_flow": null,
            "grid_area": null,
            "grid_auto_columns": null,
            "grid_auto_flow": null,
            "grid_auto_rows": null,
            "grid_column": null,
            "grid_gap": null,
            "grid_row": null,
            "grid_template_areas": null,
            "grid_template_columns": null,
            "grid_template_rows": null,
            "height": null,
            "justify_content": null,
            "justify_items": null,
            "left": null,
            "margin": null,
            "max_height": null,
            "max_width": null,
            "min_height": null,
            "min_width": null,
            "object_fit": null,
            "object_position": null,
            "order": null,
            "overflow": null,
            "overflow_x": null,
            "overflow_y": null,
            "padding": null,
            "right": null,
            "top": null,
            "visibility": null,
            "width": null
          }
        },
        "b0d5506a901848858c9647900609e016": {
          "model_module": "@jupyter-widgets/controls",
          "model_name": "DescriptionStyleModel",
          "model_module_version": "1.5.0",
          "state": {
            "_model_module": "@jupyter-widgets/controls",
            "_model_module_version": "1.5.0",
            "_model_name": "DescriptionStyleModel",
            "_view_count": null,
            "_view_module": "@jupyter-widgets/base",
            "_view_module_version": "1.2.0",
            "_view_name": "StyleView",
            "description_width": ""
          }
        },
        "d67e78b1413942ae85e9b7d6529aff97": {
          "model_module": "@jupyter-widgets/base",
          "model_name": "LayoutModel",
          "model_module_version": "1.2.0",
          "state": {
            "_model_module": "@jupyter-widgets/base",
            "_model_module_version": "1.2.0",
            "_model_name": "LayoutModel",
            "_view_count": null,
            "_view_module": "@jupyter-widgets/base",
            "_view_module_version": "1.2.0",
            "_view_name": "LayoutView",
            "align_content": null,
            "align_items": null,
            "align_self": null,
            "border": null,
            "bottom": null,
            "display": null,
            "flex": null,
            "flex_flow": null,
            "grid_area": null,
            "grid_auto_columns": null,
            "grid_auto_flow": null,
            "grid_auto_rows": null,
            "grid_column": null,
            "grid_gap": null,
            "grid_row": null,
            "grid_template_areas": null,
            "grid_template_columns": null,
            "grid_template_rows": null,
            "height": null,
            "justify_content": null,
            "justify_items": null,
            "left": null,
            "margin": null,
            "max_height": null,
            "max_width": null,
            "min_height": null,
            "min_width": null,
            "object_fit": null,
            "object_position": null,
            "order": null,
            "overflow": null,
            "overflow_x": null,
            "overflow_y": null,
            "padding": null,
            "right": null,
            "top": null,
            "visibility": null,
            "width": null
          }
        },
        "3079a019db3241e2a27e35eb82bac224": {
          "model_module": "@jupyter-widgets/controls",
          "model_name": "ProgressStyleModel",
          "model_module_version": "1.5.0",
          "state": {
            "_model_module": "@jupyter-widgets/controls",
            "_model_module_version": "1.5.0",
            "_model_name": "ProgressStyleModel",
            "_view_count": null,
            "_view_module": "@jupyter-widgets/base",
            "_view_module_version": "1.2.0",
            "_view_name": "StyleView",
            "bar_color": null,
            "description_width": ""
          }
        },
        "f91003b3657c4f87aba4e1dba0207334": {
          "model_module": "@jupyter-widgets/base",
          "model_name": "LayoutModel",
          "model_module_version": "1.2.0",
          "state": {
            "_model_module": "@jupyter-widgets/base",
            "_model_module_version": "1.2.0",
            "_model_name": "LayoutModel",
            "_view_count": null,
            "_view_module": "@jupyter-widgets/base",
            "_view_module_version": "1.2.0",
            "_view_name": "LayoutView",
            "align_content": null,
            "align_items": null,
            "align_self": null,
            "border": null,
            "bottom": null,
            "display": null,
            "flex": null,
            "flex_flow": null,
            "grid_area": null,
            "grid_auto_columns": null,
            "grid_auto_flow": null,
            "grid_auto_rows": null,
            "grid_column": null,
            "grid_gap": null,
            "grid_row": null,
            "grid_template_areas": null,
            "grid_template_columns": null,
            "grid_template_rows": null,
            "height": null,
            "justify_content": null,
            "justify_items": null,
            "left": null,
            "margin": null,
            "max_height": null,
            "max_width": null,
            "min_height": null,
            "min_width": null,
            "object_fit": null,
            "object_position": null,
            "order": null,
            "overflow": null,
            "overflow_x": null,
            "overflow_y": null,
            "padding": null,
            "right": null,
            "top": null,
            "visibility": null,
            "width": null
          }
        },
        "1d5ca4e707b94d43b55ab2b99cfe4059": {
          "model_module": "@jupyter-widgets/controls",
          "model_name": "DescriptionStyleModel",
          "model_module_version": "1.5.0",
          "state": {
            "_model_module": "@jupyter-widgets/controls",
            "_model_module_version": "1.5.0",
            "_model_name": "DescriptionStyleModel",
            "_view_count": null,
            "_view_module": "@jupyter-widgets/base",
            "_view_module_version": "1.2.0",
            "_view_name": "StyleView",
            "description_width": ""
          }
        },
        "cf66eb1280f64fe796b77e33237fc25a": {
          "model_module": "@jupyter-widgets/controls",
          "model_name": "HBoxModel",
          "model_module_version": "1.5.0",
          "state": {
            "_dom_classes": [],
            "_model_module": "@jupyter-widgets/controls",
            "_model_module_version": "1.5.0",
            "_model_name": "HBoxModel",
            "_view_count": null,
            "_view_module": "@jupyter-widgets/controls",
            "_view_module_version": "1.5.0",
            "_view_name": "HBoxView",
            "box_style": "",
            "children": [
              "IPY_MODEL_79de0aaccc1644a6818c6134e12a53ea",
              "IPY_MODEL_b69bc6cc435548659787680462ac721d",
              "IPY_MODEL_81dcbf1f98b1473bbfee4d6533772447"
            ],
            "layout": "IPY_MODEL_7bbbf1e49ab94db0b1996faaa9e29b25"
          }
        },
        "79de0aaccc1644a6818c6134e12a53ea": {
          "model_module": "@jupyter-widgets/controls",
          "model_name": "HTMLModel",
          "model_module_version": "1.5.0",
          "state": {
            "_dom_classes": [],
            "_model_module": "@jupyter-widgets/controls",
            "_model_module_version": "1.5.0",
            "_model_name": "HTMLModel",
            "_view_count": null,
            "_view_module": "@jupyter-widgets/controls",
            "_view_module_version": "1.5.0",
            "_view_name": "HTMLView",
            "description": "",
            "description_tooltip": null,
            "layout": "IPY_MODEL_b4ba219135044f4990706d9b453afa92",
            "placeholder": "​",
            "style": "IPY_MODEL_7cd86138081d442591dc1f600b382920",
            "value": "vocab.txt: 100%"
          }
        },
        "b69bc6cc435548659787680462ac721d": {
          "model_module": "@jupyter-widgets/controls",
          "model_name": "FloatProgressModel",
          "model_module_version": "1.5.0",
          "state": {
            "_dom_classes": [],
            "_model_module": "@jupyter-widgets/controls",
            "_model_module_version": "1.5.0",
            "_model_name": "FloatProgressModel",
            "_view_count": null,
            "_view_module": "@jupyter-widgets/controls",
            "_view_module_version": "1.5.0",
            "_view_name": "ProgressView",
            "bar_style": "success",
            "description": "",
            "description_tooltip": null,
            "layout": "IPY_MODEL_b952c1f7765f420bbd984987c39bbd8c",
            "max": 231508,
            "min": 0,
            "orientation": "horizontal",
            "style": "IPY_MODEL_219c7748dfe84d27b693f9b7037fa66f",
            "value": 231508
          }
        },
        "81dcbf1f98b1473bbfee4d6533772447": {
          "model_module": "@jupyter-widgets/controls",
          "model_name": "HTMLModel",
          "model_module_version": "1.5.0",
          "state": {
            "_dom_classes": [],
            "_model_module": "@jupyter-widgets/controls",
            "_model_module_version": "1.5.0",
            "_model_name": "HTMLModel",
            "_view_count": null,
            "_view_module": "@jupyter-widgets/controls",
            "_view_module_version": "1.5.0",
            "_view_name": "HTMLView",
            "description": "",
            "description_tooltip": null,
            "layout": "IPY_MODEL_f3a266cb9ae04377bd0169f2a72656da",
            "placeholder": "​",
            "style": "IPY_MODEL_7b3299193d9f44b6b14e29dbcac7c3a8",
            "value": " 232k/232k [00:00&lt;00:00, 592kB/s]"
          }
        },
        "7bbbf1e49ab94db0b1996faaa9e29b25": {
          "model_module": "@jupyter-widgets/base",
          "model_name": "LayoutModel",
          "model_module_version": "1.2.0",
          "state": {
            "_model_module": "@jupyter-widgets/base",
            "_model_module_version": "1.2.0",
            "_model_name": "LayoutModel",
            "_view_count": null,
            "_view_module": "@jupyter-widgets/base",
            "_view_module_version": "1.2.0",
            "_view_name": "LayoutView",
            "align_content": null,
            "align_items": null,
            "align_self": null,
            "border": null,
            "bottom": null,
            "display": null,
            "flex": null,
            "flex_flow": null,
            "grid_area": null,
            "grid_auto_columns": null,
            "grid_auto_flow": null,
            "grid_auto_rows": null,
            "grid_column": null,
            "grid_gap": null,
            "grid_row": null,
            "grid_template_areas": null,
            "grid_template_columns": null,
            "grid_template_rows": null,
            "height": null,
            "justify_content": null,
            "justify_items": null,
            "left": null,
            "margin": null,
            "max_height": null,
            "max_width": null,
            "min_height": null,
            "min_width": null,
            "object_fit": null,
            "object_position": null,
            "order": null,
            "overflow": null,
            "overflow_x": null,
            "overflow_y": null,
            "padding": null,
            "right": null,
            "top": null,
            "visibility": null,
            "width": null
          }
        },
        "b4ba219135044f4990706d9b453afa92": {
          "model_module": "@jupyter-widgets/base",
          "model_name": "LayoutModel",
          "model_module_version": "1.2.0",
          "state": {
            "_model_module": "@jupyter-widgets/base",
            "_model_module_version": "1.2.0",
            "_model_name": "LayoutModel",
            "_view_count": null,
            "_view_module": "@jupyter-widgets/base",
            "_view_module_version": "1.2.0",
            "_view_name": "LayoutView",
            "align_content": null,
            "align_items": null,
            "align_self": null,
            "border": null,
            "bottom": null,
            "display": null,
            "flex": null,
            "flex_flow": null,
            "grid_area": null,
            "grid_auto_columns": null,
            "grid_auto_flow": null,
            "grid_auto_rows": null,
            "grid_column": null,
            "grid_gap": null,
            "grid_row": null,
            "grid_template_areas": null,
            "grid_template_columns": null,
            "grid_template_rows": null,
            "height": null,
            "justify_content": null,
            "justify_items": null,
            "left": null,
            "margin": null,
            "max_height": null,
            "max_width": null,
            "min_height": null,
            "min_width": null,
            "object_fit": null,
            "object_position": null,
            "order": null,
            "overflow": null,
            "overflow_x": null,
            "overflow_y": null,
            "padding": null,
            "right": null,
            "top": null,
            "visibility": null,
            "width": null
          }
        },
        "7cd86138081d442591dc1f600b382920": {
          "model_module": "@jupyter-widgets/controls",
          "model_name": "DescriptionStyleModel",
          "model_module_version": "1.5.0",
          "state": {
            "_model_module": "@jupyter-widgets/controls",
            "_model_module_version": "1.5.0",
            "_model_name": "DescriptionStyleModel",
            "_view_count": null,
            "_view_module": "@jupyter-widgets/base",
            "_view_module_version": "1.2.0",
            "_view_name": "StyleView",
            "description_width": ""
          }
        },
        "b952c1f7765f420bbd984987c39bbd8c": {
          "model_module": "@jupyter-widgets/base",
          "model_name": "LayoutModel",
          "model_module_version": "1.2.0",
          "state": {
            "_model_module": "@jupyter-widgets/base",
            "_model_module_version": "1.2.0",
            "_model_name": "LayoutModel",
            "_view_count": null,
            "_view_module": "@jupyter-widgets/base",
            "_view_module_version": "1.2.0",
            "_view_name": "LayoutView",
            "align_content": null,
            "align_items": null,
            "align_self": null,
            "border": null,
            "bottom": null,
            "display": null,
            "flex": null,
            "flex_flow": null,
            "grid_area": null,
            "grid_auto_columns": null,
            "grid_auto_flow": null,
            "grid_auto_rows": null,
            "grid_column": null,
            "grid_gap": null,
            "grid_row": null,
            "grid_template_areas": null,
            "grid_template_columns": null,
            "grid_template_rows": null,
            "height": null,
            "justify_content": null,
            "justify_items": null,
            "left": null,
            "margin": null,
            "max_height": null,
            "max_width": null,
            "min_height": null,
            "min_width": null,
            "object_fit": null,
            "object_position": null,
            "order": null,
            "overflow": null,
            "overflow_x": null,
            "overflow_y": null,
            "padding": null,
            "right": null,
            "top": null,
            "visibility": null,
            "width": null
          }
        },
        "219c7748dfe84d27b693f9b7037fa66f": {
          "model_module": "@jupyter-widgets/controls",
          "model_name": "ProgressStyleModel",
          "model_module_version": "1.5.0",
          "state": {
            "_model_module": "@jupyter-widgets/controls",
            "_model_module_version": "1.5.0",
            "_model_name": "ProgressStyleModel",
            "_view_count": null,
            "_view_module": "@jupyter-widgets/base",
            "_view_module_version": "1.2.0",
            "_view_name": "StyleView",
            "bar_color": null,
            "description_width": ""
          }
        },
        "f3a266cb9ae04377bd0169f2a72656da": {
          "model_module": "@jupyter-widgets/base",
          "model_name": "LayoutModel",
          "model_module_version": "1.2.0",
          "state": {
            "_model_module": "@jupyter-widgets/base",
            "_model_module_version": "1.2.0",
            "_model_name": "LayoutModel",
            "_view_count": null,
            "_view_module": "@jupyter-widgets/base",
            "_view_module_version": "1.2.0",
            "_view_name": "LayoutView",
            "align_content": null,
            "align_items": null,
            "align_self": null,
            "border": null,
            "bottom": null,
            "display": null,
            "flex": null,
            "flex_flow": null,
            "grid_area": null,
            "grid_auto_columns": null,
            "grid_auto_flow": null,
            "grid_auto_rows": null,
            "grid_column": null,
            "grid_gap": null,
            "grid_row": null,
            "grid_template_areas": null,
            "grid_template_columns": null,
            "grid_template_rows": null,
            "height": null,
            "justify_content": null,
            "justify_items": null,
            "left": null,
            "margin": null,
            "max_height": null,
            "max_width": null,
            "min_height": null,
            "min_width": null,
            "object_fit": null,
            "object_position": null,
            "order": null,
            "overflow": null,
            "overflow_x": null,
            "overflow_y": null,
            "padding": null,
            "right": null,
            "top": null,
            "visibility": null,
            "width": null
          }
        },
        "7b3299193d9f44b6b14e29dbcac7c3a8": {
          "model_module": "@jupyter-widgets/controls",
          "model_name": "DescriptionStyleModel",
          "model_module_version": "1.5.0",
          "state": {
            "_model_module": "@jupyter-widgets/controls",
            "_model_module_version": "1.5.0",
            "_model_name": "DescriptionStyleModel",
            "_view_count": null,
            "_view_module": "@jupyter-widgets/base",
            "_view_module_version": "1.2.0",
            "_view_name": "StyleView",
            "description_width": ""
          }
        },
        "dc3d3f017216490aa97f97cb6aed805f": {
          "model_module": "@jupyter-widgets/controls",
          "model_name": "HBoxModel",
          "model_module_version": "1.5.0",
          "state": {
            "_dom_classes": [],
            "_model_module": "@jupyter-widgets/controls",
            "_model_module_version": "1.5.0",
            "_model_name": "HBoxModel",
            "_view_count": null,
            "_view_module": "@jupyter-widgets/controls",
            "_view_module_version": "1.5.0",
            "_view_name": "HBoxView",
            "box_style": "",
            "children": [
              "IPY_MODEL_63c4af9a0c6649df939d7b5e4e3b9fb8",
              "IPY_MODEL_b4fd143fafa749efb92b3679dc64b161",
              "IPY_MODEL_72996c344b6b4c2fbe85e69d68d9a796"
            ],
            "layout": "IPY_MODEL_be440b062a944ae685dc09d8ba8b70a2"
          }
        },
        "63c4af9a0c6649df939d7b5e4e3b9fb8": {
          "model_module": "@jupyter-widgets/controls",
          "model_name": "HTMLModel",
          "model_module_version": "1.5.0",
          "state": {
            "_dom_classes": [],
            "_model_module": "@jupyter-widgets/controls",
            "_model_module_version": "1.5.0",
            "_model_name": "HTMLModel",
            "_view_count": null,
            "_view_module": "@jupyter-widgets/controls",
            "_view_module_version": "1.5.0",
            "_view_name": "HTMLView",
            "description": "",
            "description_tooltip": null,
            "layout": "IPY_MODEL_d65ace5a9f784e4a838fc6d6b8620977",
            "placeholder": "​",
            "style": "IPY_MODEL_cabb522551934b88b5edc15a966848e1",
            "value": "tokenizer.json: 100%"
          }
        },
        "b4fd143fafa749efb92b3679dc64b161": {
          "model_module": "@jupyter-widgets/controls",
          "model_name": "FloatProgressModel",
          "model_module_version": "1.5.0",
          "state": {
            "_dom_classes": [],
            "_model_module": "@jupyter-widgets/controls",
            "_model_module_version": "1.5.0",
            "_model_name": "FloatProgressModel",
            "_view_count": null,
            "_view_module": "@jupyter-widgets/controls",
            "_view_module_version": "1.5.0",
            "_view_name": "ProgressView",
            "bar_style": "success",
            "description": "",
            "description_tooltip": null,
            "layout": "IPY_MODEL_4d1d9822885345bb9e07bce1285f455d",
            "max": 466062,
            "min": 0,
            "orientation": "horizontal",
            "style": "IPY_MODEL_a3af00ad7f3c4a539994255d977c6910",
            "value": 466062
          }
        },
        "72996c344b6b4c2fbe85e69d68d9a796": {
          "model_module": "@jupyter-widgets/controls",
          "model_name": "HTMLModel",
          "model_module_version": "1.5.0",
          "state": {
            "_dom_classes": [],
            "_model_module": "@jupyter-widgets/controls",
            "_model_module_version": "1.5.0",
            "_model_name": "HTMLModel",
            "_view_count": null,
            "_view_module": "@jupyter-widgets/controls",
            "_view_module_version": "1.5.0",
            "_view_name": "HTMLView",
            "description": "",
            "description_tooltip": null,
            "layout": "IPY_MODEL_8eb96a110ced4730ab339a55e794f276",
            "placeholder": "​",
            "style": "IPY_MODEL_73d745e9724b477b92fe63c87a308c14",
            "value": " 466k/466k [00:00&lt;00:00, 795kB/s]"
          }
        },
        "be440b062a944ae685dc09d8ba8b70a2": {
          "model_module": "@jupyter-widgets/base",
          "model_name": "LayoutModel",
          "model_module_version": "1.2.0",
          "state": {
            "_model_module": "@jupyter-widgets/base",
            "_model_module_version": "1.2.0",
            "_model_name": "LayoutModel",
            "_view_count": null,
            "_view_module": "@jupyter-widgets/base",
            "_view_module_version": "1.2.0",
            "_view_name": "LayoutView",
            "align_content": null,
            "align_items": null,
            "align_self": null,
            "border": null,
            "bottom": null,
            "display": null,
            "flex": null,
            "flex_flow": null,
            "grid_area": null,
            "grid_auto_columns": null,
            "grid_auto_flow": null,
            "grid_auto_rows": null,
            "grid_column": null,
            "grid_gap": null,
            "grid_row": null,
            "grid_template_areas": null,
            "grid_template_columns": null,
            "grid_template_rows": null,
            "height": null,
            "justify_content": null,
            "justify_items": null,
            "left": null,
            "margin": null,
            "max_height": null,
            "max_width": null,
            "min_height": null,
            "min_width": null,
            "object_fit": null,
            "object_position": null,
            "order": null,
            "overflow": null,
            "overflow_x": null,
            "overflow_y": null,
            "padding": null,
            "right": null,
            "top": null,
            "visibility": null,
            "width": null
          }
        },
        "d65ace5a9f784e4a838fc6d6b8620977": {
          "model_module": "@jupyter-widgets/base",
          "model_name": "LayoutModel",
          "model_module_version": "1.2.0",
          "state": {
            "_model_module": "@jupyter-widgets/base",
            "_model_module_version": "1.2.0",
            "_model_name": "LayoutModel",
            "_view_count": null,
            "_view_module": "@jupyter-widgets/base",
            "_view_module_version": "1.2.0",
            "_view_name": "LayoutView",
            "align_content": null,
            "align_items": null,
            "align_self": null,
            "border": null,
            "bottom": null,
            "display": null,
            "flex": null,
            "flex_flow": null,
            "grid_area": null,
            "grid_auto_columns": null,
            "grid_auto_flow": null,
            "grid_auto_rows": null,
            "grid_column": null,
            "grid_gap": null,
            "grid_row": null,
            "grid_template_areas": null,
            "grid_template_columns": null,
            "grid_template_rows": null,
            "height": null,
            "justify_content": null,
            "justify_items": null,
            "left": null,
            "margin": null,
            "max_height": null,
            "max_width": null,
            "min_height": null,
            "min_width": null,
            "object_fit": null,
            "object_position": null,
            "order": null,
            "overflow": null,
            "overflow_x": null,
            "overflow_y": null,
            "padding": null,
            "right": null,
            "top": null,
            "visibility": null,
            "width": null
          }
        },
        "cabb522551934b88b5edc15a966848e1": {
          "model_module": "@jupyter-widgets/controls",
          "model_name": "DescriptionStyleModel",
          "model_module_version": "1.5.0",
          "state": {
            "_model_module": "@jupyter-widgets/controls",
            "_model_module_version": "1.5.0",
            "_model_name": "DescriptionStyleModel",
            "_view_count": null,
            "_view_module": "@jupyter-widgets/base",
            "_view_module_version": "1.2.0",
            "_view_name": "StyleView",
            "description_width": ""
          }
        },
        "4d1d9822885345bb9e07bce1285f455d": {
          "model_module": "@jupyter-widgets/base",
          "model_name": "LayoutModel",
          "model_module_version": "1.2.0",
          "state": {
            "_model_module": "@jupyter-widgets/base",
            "_model_module_version": "1.2.0",
            "_model_name": "LayoutModel",
            "_view_count": null,
            "_view_module": "@jupyter-widgets/base",
            "_view_module_version": "1.2.0",
            "_view_name": "LayoutView",
            "align_content": null,
            "align_items": null,
            "align_self": null,
            "border": null,
            "bottom": null,
            "display": null,
            "flex": null,
            "flex_flow": null,
            "grid_area": null,
            "grid_auto_columns": null,
            "grid_auto_flow": null,
            "grid_auto_rows": null,
            "grid_column": null,
            "grid_gap": null,
            "grid_row": null,
            "grid_template_areas": null,
            "grid_template_columns": null,
            "grid_template_rows": null,
            "height": null,
            "justify_content": null,
            "justify_items": null,
            "left": null,
            "margin": null,
            "max_height": null,
            "max_width": null,
            "min_height": null,
            "min_width": null,
            "object_fit": null,
            "object_position": null,
            "order": null,
            "overflow": null,
            "overflow_x": null,
            "overflow_y": null,
            "padding": null,
            "right": null,
            "top": null,
            "visibility": null,
            "width": null
          }
        },
        "a3af00ad7f3c4a539994255d977c6910": {
          "model_module": "@jupyter-widgets/controls",
          "model_name": "ProgressStyleModel",
          "model_module_version": "1.5.0",
          "state": {
            "_model_module": "@jupyter-widgets/controls",
            "_model_module_version": "1.5.0",
            "_model_name": "ProgressStyleModel",
            "_view_count": null,
            "_view_module": "@jupyter-widgets/base",
            "_view_module_version": "1.2.0",
            "_view_name": "StyleView",
            "bar_color": null,
            "description_width": ""
          }
        },
        "8eb96a110ced4730ab339a55e794f276": {
          "model_module": "@jupyter-widgets/base",
          "model_name": "LayoutModel",
          "model_module_version": "1.2.0",
          "state": {
            "_model_module": "@jupyter-widgets/base",
            "_model_module_version": "1.2.0",
            "_model_name": "LayoutModel",
            "_view_count": null,
            "_view_module": "@jupyter-widgets/base",
            "_view_module_version": "1.2.0",
            "_view_name": "LayoutView",
            "align_content": null,
            "align_items": null,
            "align_self": null,
            "border": null,
            "bottom": null,
            "display": null,
            "flex": null,
            "flex_flow": null,
            "grid_area": null,
            "grid_auto_columns": null,
            "grid_auto_flow": null,
            "grid_auto_rows": null,
            "grid_column": null,
            "grid_gap": null,
            "grid_row": null,
            "grid_template_areas": null,
            "grid_template_columns": null,
            "grid_template_rows": null,
            "height": null,
            "justify_content": null,
            "justify_items": null,
            "left": null,
            "margin": null,
            "max_height": null,
            "max_width": null,
            "min_height": null,
            "min_width": null,
            "object_fit": null,
            "object_position": null,
            "order": null,
            "overflow": null,
            "overflow_x": null,
            "overflow_y": null,
            "padding": null,
            "right": null,
            "top": null,
            "visibility": null,
            "width": null
          }
        },
        "73d745e9724b477b92fe63c87a308c14": {
          "model_module": "@jupyter-widgets/controls",
          "model_name": "DescriptionStyleModel",
          "model_module_version": "1.5.0",
          "state": {
            "_model_module": "@jupyter-widgets/controls",
            "_model_module_version": "1.5.0",
            "_model_name": "DescriptionStyleModel",
            "_view_count": null,
            "_view_module": "@jupyter-widgets/base",
            "_view_module_version": "1.2.0",
            "_view_name": "StyleView",
            "description_width": ""
          }
        },
        "463f46457bd0413fa29201c5fb93b213": {
          "model_module": "@jupyter-widgets/controls",
          "model_name": "HBoxModel",
          "model_module_version": "1.5.0",
          "state": {
            "_dom_classes": [],
            "_model_module": "@jupyter-widgets/controls",
            "_model_module_version": "1.5.0",
            "_model_name": "HBoxModel",
            "_view_count": null,
            "_view_module": "@jupyter-widgets/controls",
            "_view_module_version": "1.5.0",
            "_view_name": "HBoxView",
            "box_style": "",
            "children": [
              "IPY_MODEL_5babfe5ea80748328c67858c6817c130",
              "IPY_MODEL_0995696384714b4696ecf75b990fad6e",
              "IPY_MODEL_aa47d64fb67c4e81a64c29b5d387e2e6"
            ],
            "layout": "IPY_MODEL_93bd67f71c8a4136b360e9253ac7aeae"
          }
        },
        "5babfe5ea80748328c67858c6817c130": {
          "model_module": "@jupyter-widgets/controls",
          "model_name": "HTMLModel",
          "model_module_version": "1.5.0",
          "state": {
            "_dom_classes": [],
            "_model_module": "@jupyter-widgets/controls",
            "_model_module_version": "1.5.0",
            "_model_name": "HTMLModel",
            "_view_count": null,
            "_view_module": "@jupyter-widgets/controls",
            "_view_module_version": "1.5.0",
            "_view_name": "HTMLView",
            "description": "",
            "description_tooltip": null,
            "layout": "IPY_MODEL_d759ae1cde1e4ec3bb7900931087e72f",
            "placeholder": "​",
            "style": "IPY_MODEL_959a20be3a254bffb0eabaec96933f90",
            "value": "model.safetensors: 100%"
          }
        },
        "0995696384714b4696ecf75b990fad6e": {
          "model_module": "@jupyter-widgets/controls",
          "model_name": "FloatProgressModel",
          "model_module_version": "1.5.0",
          "state": {
            "_dom_classes": [],
            "_model_module": "@jupyter-widgets/controls",
            "_model_module_version": "1.5.0",
            "_model_name": "FloatProgressModel",
            "_view_count": null,
            "_view_module": "@jupyter-widgets/controls",
            "_view_module_version": "1.5.0",
            "_view_name": "ProgressView",
            "bar_style": "success",
            "description": "",
            "description_tooltip": null,
            "layout": "IPY_MODEL_47985448d269433c9a35381a991583a7",
            "max": 440449768,
            "min": 0,
            "orientation": "horizontal",
            "style": "IPY_MODEL_41a025357f914595a22f1b32c843f476",
            "value": 440449768
          }
        },
        "aa47d64fb67c4e81a64c29b5d387e2e6": {
          "model_module": "@jupyter-widgets/controls",
          "model_name": "HTMLModel",
          "model_module_version": "1.5.0",
          "state": {
            "_dom_classes": [],
            "_model_module": "@jupyter-widgets/controls",
            "_model_module_version": "1.5.0",
            "_model_name": "HTMLModel",
            "_view_count": null,
            "_view_module": "@jupyter-widgets/controls",
            "_view_module_version": "1.5.0",
            "_view_name": "HTMLView",
            "description": "",
            "description_tooltip": null,
            "layout": "IPY_MODEL_6bee5fbacada46c98136e126e628e545",
            "placeholder": "​",
            "style": "IPY_MODEL_9f08da0da67443f6a5fd18be620fcf1a",
            "value": " 440M/440M [00:04&lt;00:00, 94.1MB/s]"
          }
        },
        "93bd67f71c8a4136b360e9253ac7aeae": {
          "model_module": "@jupyter-widgets/base",
          "model_name": "LayoutModel",
          "model_module_version": "1.2.0",
          "state": {
            "_model_module": "@jupyter-widgets/base",
            "_model_module_version": "1.2.0",
            "_model_name": "LayoutModel",
            "_view_count": null,
            "_view_module": "@jupyter-widgets/base",
            "_view_module_version": "1.2.0",
            "_view_name": "LayoutView",
            "align_content": null,
            "align_items": null,
            "align_self": null,
            "border": null,
            "bottom": null,
            "display": null,
            "flex": null,
            "flex_flow": null,
            "grid_area": null,
            "grid_auto_columns": null,
            "grid_auto_flow": null,
            "grid_auto_rows": null,
            "grid_column": null,
            "grid_gap": null,
            "grid_row": null,
            "grid_template_areas": null,
            "grid_template_columns": null,
            "grid_template_rows": null,
            "height": null,
            "justify_content": null,
            "justify_items": null,
            "left": null,
            "margin": null,
            "max_height": null,
            "max_width": null,
            "min_height": null,
            "min_width": null,
            "object_fit": null,
            "object_position": null,
            "order": null,
            "overflow": null,
            "overflow_x": null,
            "overflow_y": null,
            "padding": null,
            "right": null,
            "top": null,
            "visibility": null,
            "width": null
          }
        },
        "d759ae1cde1e4ec3bb7900931087e72f": {
          "model_module": "@jupyter-widgets/base",
          "model_name": "LayoutModel",
          "model_module_version": "1.2.0",
          "state": {
            "_model_module": "@jupyter-widgets/base",
            "_model_module_version": "1.2.0",
            "_model_name": "LayoutModel",
            "_view_count": null,
            "_view_module": "@jupyter-widgets/base",
            "_view_module_version": "1.2.0",
            "_view_name": "LayoutView",
            "align_content": null,
            "align_items": null,
            "align_self": null,
            "border": null,
            "bottom": null,
            "display": null,
            "flex": null,
            "flex_flow": null,
            "grid_area": null,
            "grid_auto_columns": null,
            "grid_auto_flow": null,
            "grid_auto_rows": null,
            "grid_column": null,
            "grid_gap": null,
            "grid_row": null,
            "grid_template_areas": null,
            "grid_template_columns": null,
            "grid_template_rows": null,
            "height": null,
            "justify_content": null,
            "justify_items": null,
            "left": null,
            "margin": null,
            "max_height": null,
            "max_width": null,
            "min_height": null,
            "min_width": null,
            "object_fit": null,
            "object_position": null,
            "order": null,
            "overflow": null,
            "overflow_x": null,
            "overflow_y": null,
            "padding": null,
            "right": null,
            "top": null,
            "visibility": null,
            "width": null
          }
        },
        "959a20be3a254bffb0eabaec96933f90": {
          "model_module": "@jupyter-widgets/controls",
          "model_name": "DescriptionStyleModel",
          "model_module_version": "1.5.0",
          "state": {
            "_model_module": "@jupyter-widgets/controls",
            "_model_module_version": "1.5.0",
            "_model_name": "DescriptionStyleModel",
            "_view_count": null,
            "_view_module": "@jupyter-widgets/base",
            "_view_module_version": "1.2.0",
            "_view_name": "StyleView",
            "description_width": ""
          }
        },
        "47985448d269433c9a35381a991583a7": {
          "model_module": "@jupyter-widgets/base",
          "model_name": "LayoutModel",
          "model_module_version": "1.2.0",
          "state": {
            "_model_module": "@jupyter-widgets/base",
            "_model_module_version": "1.2.0",
            "_model_name": "LayoutModel",
            "_view_count": null,
            "_view_module": "@jupyter-widgets/base",
            "_view_module_version": "1.2.0",
            "_view_name": "LayoutView",
            "align_content": null,
            "align_items": null,
            "align_self": null,
            "border": null,
            "bottom": null,
            "display": null,
            "flex": null,
            "flex_flow": null,
            "grid_area": null,
            "grid_auto_columns": null,
            "grid_auto_flow": null,
            "grid_auto_rows": null,
            "grid_column": null,
            "grid_gap": null,
            "grid_row": null,
            "grid_template_areas": null,
            "grid_template_columns": null,
            "grid_template_rows": null,
            "height": null,
            "justify_content": null,
            "justify_items": null,
            "left": null,
            "margin": null,
            "max_height": null,
            "max_width": null,
            "min_height": null,
            "min_width": null,
            "object_fit": null,
            "object_position": null,
            "order": null,
            "overflow": null,
            "overflow_x": null,
            "overflow_y": null,
            "padding": null,
            "right": null,
            "top": null,
            "visibility": null,
            "width": null
          }
        },
        "41a025357f914595a22f1b32c843f476": {
          "model_module": "@jupyter-widgets/controls",
          "model_name": "ProgressStyleModel",
          "model_module_version": "1.5.0",
          "state": {
            "_model_module": "@jupyter-widgets/controls",
            "_model_module_version": "1.5.0",
            "_model_name": "ProgressStyleModel",
            "_view_count": null,
            "_view_module": "@jupyter-widgets/base",
            "_view_module_version": "1.2.0",
            "_view_name": "StyleView",
            "bar_color": null,
            "description_width": ""
          }
        },
        "6bee5fbacada46c98136e126e628e545": {
          "model_module": "@jupyter-widgets/base",
          "model_name": "LayoutModel",
          "model_module_version": "1.2.0",
          "state": {
            "_model_module": "@jupyter-widgets/base",
            "_model_module_version": "1.2.0",
            "_model_name": "LayoutModel",
            "_view_count": null,
            "_view_module": "@jupyter-widgets/base",
            "_view_module_version": "1.2.0",
            "_view_name": "LayoutView",
            "align_content": null,
            "align_items": null,
            "align_self": null,
            "border": null,
            "bottom": null,
            "display": null,
            "flex": null,
            "flex_flow": null,
            "grid_area": null,
            "grid_auto_columns": null,
            "grid_auto_flow": null,
            "grid_auto_rows": null,
            "grid_column": null,
            "grid_gap": null,
            "grid_row": null,
            "grid_template_areas": null,
            "grid_template_columns": null,
            "grid_template_rows": null,
            "height": null,
            "justify_content": null,
            "justify_items": null,
            "left": null,
            "margin": null,
            "max_height": null,
            "max_width": null,
            "min_height": null,
            "min_width": null,
            "object_fit": null,
            "object_position": null,
            "order": null,
            "overflow": null,
            "overflow_x": null,
            "overflow_y": null,
            "padding": null,
            "right": null,
            "top": null,
            "visibility": null,
            "width": null
          }
        },
        "9f08da0da67443f6a5fd18be620fcf1a": {
          "model_module": "@jupyter-widgets/controls",
          "model_name": "DescriptionStyleModel",
          "model_module_version": "1.5.0",
          "state": {
            "_model_module": "@jupyter-widgets/controls",
            "_model_module_version": "1.5.0",
            "_model_name": "DescriptionStyleModel",
            "_view_count": null,
            "_view_module": "@jupyter-widgets/base",
            "_view_module_version": "1.2.0",
            "_view_name": "StyleView",
            "description_width": ""
          }
        },
        "584aa76ea4044c0d90c6d45135e615c7": {
          "model_module": "@jupyter-widgets/controls",
          "model_name": "HBoxModel",
          "model_module_version": "1.5.0",
          "state": {
            "_dom_classes": [],
            "_model_module": "@jupyter-widgets/controls",
            "_model_module_version": "1.5.0",
            "_model_name": "HBoxModel",
            "_view_count": null,
            "_view_module": "@jupyter-widgets/controls",
            "_view_module_version": "1.5.0",
            "_view_name": "HBoxView",
            "box_style": "",
            "children": [
              "IPY_MODEL_280a9f2285014fc7a4b7a419e10b8097",
              "IPY_MODEL_ce66e940fec847ef8e6393c30d85b87f",
              "IPY_MODEL_d43115a9acea47a680687d82dbc2c6dc"
            ],
            "layout": "IPY_MODEL_d2ae4182752c48a7957d27f20e4f6e59"
          }
        },
        "280a9f2285014fc7a4b7a419e10b8097": {
          "model_module": "@jupyter-widgets/controls",
          "model_name": "HTMLModel",
          "model_module_version": "1.5.0",
          "state": {
            "_dom_classes": [],
            "_model_module": "@jupyter-widgets/controls",
            "_model_module_version": "1.5.0",
            "_model_name": "HTMLModel",
            "_view_count": null,
            "_view_module": "@jupyter-widgets/controls",
            "_view_module_version": "1.5.0",
            "_view_name": "HTMLView",
            "description": "",
            "description_tooltip": null,
            "layout": "IPY_MODEL_f335e79ed6554b75835fc691516f6091",
            "placeholder": "​",
            "style": "IPY_MODEL_946365de799a45ec8d41292856318f33",
            "value": "Downloading builder script: 100%"
          }
        },
        "ce66e940fec847ef8e6393c30d85b87f": {
          "model_module": "@jupyter-widgets/controls",
          "model_name": "FloatProgressModel",
          "model_module_version": "1.5.0",
          "state": {
            "_dom_classes": [],
            "_model_module": "@jupyter-widgets/controls",
            "_model_module_version": "1.5.0",
            "_model_name": "FloatProgressModel",
            "_view_count": null,
            "_view_module": "@jupyter-widgets/controls",
            "_view_module_version": "1.5.0",
            "_view_name": "ProgressView",
            "bar_style": "success",
            "description": "",
            "description_tooltip": null,
            "layout": "IPY_MODEL_6e463ce257c4429293f54ae4ea6f4c0f",
            "max": 4203,
            "min": 0,
            "orientation": "horizontal",
            "style": "IPY_MODEL_d9976eef3cc7414e8aea8d45e9bfd880",
            "value": 4203
          }
        },
        "d43115a9acea47a680687d82dbc2c6dc": {
          "model_module": "@jupyter-widgets/controls",
          "model_name": "HTMLModel",
          "model_module_version": "1.5.0",
          "state": {
            "_dom_classes": [],
            "_model_module": "@jupyter-widgets/controls",
            "_model_module_version": "1.5.0",
            "_model_name": "HTMLModel",
            "_view_count": null,
            "_view_module": "@jupyter-widgets/controls",
            "_view_module_version": "1.5.0",
            "_view_name": "HTMLView",
            "description": "",
            "description_tooltip": null,
            "layout": "IPY_MODEL_5ddc5bbdafed4f19b18cb81dc6892bfa",
            "placeholder": "​",
            "style": "IPY_MODEL_150e773615454695a838003b1047ebc9",
            "value": " 4.20k/4.20k [00:00&lt;00:00, 325kB/s]"
          }
        },
        "d2ae4182752c48a7957d27f20e4f6e59": {
          "model_module": "@jupyter-widgets/base",
          "model_name": "LayoutModel",
          "model_module_version": "1.2.0",
          "state": {
            "_model_module": "@jupyter-widgets/base",
            "_model_module_version": "1.2.0",
            "_model_name": "LayoutModel",
            "_view_count": null,
            "_view_module": "@jupyter-widgets/base",
            "_view_module_version": "1.2.0",
            "_view_name": "LayoutView",
            "align_content": null,
            "align_items": null,
            "align_self": null,
            "border": null,
            "bottom": null,
            "display": null,
            "flex": null,
            "flex_flow": null,
            "grid_area": null,
            "grid_auto_columns": null,
            "grid_auto_flow": null,
            "grid_auto_rows": null,
            "grid_column": null,
            "grid_gap": null,
            "grid_row": null,
            "grid_template_areas": null,
            "grid_template_columns": null,
            "grid_template_rows": null,
            "height": null,
            "justify_content": null,
            "justify_items": null,
            "left": null,
            "margin": null,
            "max_height": null,
            "max_width": null,
            "min_height": null,
            "min_width": null,
            "object_fit": null,
            "object_position": null,
            "order": null,
            "overflow": null,
            "overflow_x": null,
            "overflow_y": null,
            "padding": null,
            "right": null,
            "top": null,
            "visibility": null,
            "width": null
          }
        },
        "f335e79ed6554b75835fc691516f6091": {
          "model_module": "@jupyter-widgets/base",
          "model_name": "LayoutModel",
          "model_module_version": "1.2.0",
          "state": {
            "_model_module": "@jupyter-widgets/base",
            "_model_module_version": "1.2.0",
            "_model_name": "LayoutModel",
            "_view_count": null,
            "_view_module": "@jupyter-widgets/base",
            "_view_module_version": "1.2.0",
            "_view_name": "LayoutView",
            "align_content": null,
            "align_items": null,
            "align_self": null,
            "border": null,
            "bottom": null,
            "display": null,
            "flex": null,
            "flex_flow": null,
            "grid_area": null,
            "grid_auto_columns": null,
            "grid_auto_flow": null,
            "grid_auto_rows": null,
            "grid_column": null,
            "grid_gap": null,
            "grid_row": null,
            "grid_template_areas": null,
            "grid_template_columns": null,
            "grid_template_rows": null,
            "height": null,
            "justify_content": null,
            "justify_items": null,
            "left": null,
            "margin": null,
            "max_height": null,
            "max_width": null,
            "min_height": null,
            "min_width": null,
            "object_fit": null,
            "object_position": null,
            "order": null,
            "overflow": null,
            "overflow_x": null,
            "overflow_y": null,
            "padding": null,
            "right": null,
            "top": null,
            "visibility": null,
            "width": null
          }
        },
        "946365de799a45ec8d41292856318f33": {
          "model_module": "@jupyter-widgets/controls",
          "model_name": "DescriptionStyleModel",
          "model_module_version": "1.5.0",
          "state": {
            "_model_module": "@jupyter-widgets/controls",
            "_model_module_version": "1.5.0",
            "_model_name": "DescriptionStyleModel",
            "_view_count": null,
            "_view_module": "@jupyter-widgets/base",
            "_view_module_version": "1.2.0",
            "_view_name": "StyleView",
            "description_width": ""
          }
        },
        "6e463ce257c4429293f54ae4ea6f4c0f": {
          "model_module": "@jupyter-widgets/base",
          "model_name": "LayoutModel",
          "model_module_version": "1.2.0",
          "state": {
            "_model_module": "@jupyter-widgets/base",
            "_model_module_version": "1.2.0",
            "_model_name": "LayoutModel",
            "_view_count": null,
            "_view_module": "@jupyter-widgets/base",
            "_view_module_version": "1.2.0",
            "_view_name": "LayoutView",
            "align_content": null,
            "align_items": null,
            "align_self": null,
            "border": null,
            "bottom": null,
            "display": null,
            "flex": null,
            "flex_flow": null,
            "grid_area": null,
            "grid_auto_columns": null,
            "grid_auto_flow": null,
            "grid_auto_rows": null,
            "grid_column": null,
            "grid_gap": null,
            "grid_row": null,
            "grid_template_areas": null,
            "grid_template_columns": null,
            "grid_template_rows": null,
            "height": null,
            "justify_content": null,
            "justify_items": null,
            "left": null,
            "margin": null,
            "max_height": null,
            "max_width": null,
            "min_height": null,
            "min_width": null,
            "object_fit": null,
            "object_position": null,
            "order": null,
            "overflow": null,
            "overflow_x": null,
            "overflow_y": null,
            "padding": null,
            "right": null,
            "top": null,
            "visibility": null,
            "width": null
          }
        },
        "d9976eef3cc7414e8aea8d45e9bfd880": {
          "model_module": "@jupyter-widgets/controls",
          "model_name": "ProgressStyleModel",
          "model_module_version": "1.5.0",
          "state": {
            "_model_module": "@jupyter-widgets/controls",
            "_model_module_version": "1.5.0",
            "_model_name": "ProgressStyleModel",
            "_view_count": null,
            "_view_module": "@jupyter-widgets/base",
            "_view_module_version": "1.2.0",
            "_view_name": "StyleView",
            "bar_color": null,
            "description_width": ""
          }
        },
        "5ddc5bbdafed4f19b18cb81dc6892bfa": {
          "model_module": "@jupyter-widgets/base",
          "model_name": "LayoutModel",
          "model_module_version": "1.2.0",
          "state": {
            "_model_module": "@jupyter-widgets/base",
            "_model_module_version": "1.2.0",
            "_model_name": "LayoutModel",
            "_view_count": null,
            "_view_module": "@jupyter-widgets/base",
            "_view_module_version": "1.2.0",
            "_view_name": "LayoutView",
            "align_content": null,
            "align_items": null,
            "align_self": null,
            "border": null,
            "bottom": null,
            "display": null,
            "flex": null,
            "flex_flow": null,
            "grid_area": null,
            "grid_auto_columns": null,
            "grid_auto_flow": null,
            "grid_auto_rows": null,
            "grid_column": null,
            "grid_gap": null,
            "grid_row": null,
            "grid_template_areas": null,
            "grid_template_columns": null,
            "grid_template_rows": null,
            "height": null,
            "justify_content": null,
            "justify_items": null,
            "left": null,
            "margin": null,
            "max_height": null,
            "max_width": null,
            "min_height": null,
            "min_width": null,
            "object_fit": null,
            "object_position": null,
            "order": null,
            "overflow": null,
            "overflow_x": null,
            "overflow_y": null,
            "padding": null,
            "right": null,
            "top": null,
            "visibility": null,
            "width": null
          }
        },
        "150e773615454695a838003b1047ebc9": {
          "model_module": "@jupyter-widgets/controls",
          "model_name": "DescriptionStyleModel",
          "model_module_version": "1.5.0",
          "state": {
            "_model_module": "@jupyter-widgets/controls",
            "_model_module_version": "1.5.0",
            "_model_name": "DescriptionStyleModel",
            "_view_count": null,
            "_view_module": "@jupyter-widgets/base",
            "_view_module_version": "1.2.0",
            "_view_name": "StyleView",
            "description_width": ""
          }
        },
        "376ecfc0a908434a8aeea748703175bc": {
          "model_module": "@jupyter-widgets/controls",
          "model_name": "VBoxModel",
          "model_module_version": "1.5.0",
          "state": {
            "_dom_classes": [],
            "_model_module": "@jupyter-widgets/controls",
            "_model_module_version": "1.5.0",
            "_model_name": "VBoxModel",
            "_view_count": null,
            "_view_module": "@jupyter-widgets/controls",
            "_view_module_version": "1.5.0",
            "_view_name": "VBoxView",
            "box_style": "",
            "children": [
              "IPY_MODEL_69a8e078fb1b431790528ab4beffca73",
              "IPY_MODEL_9279b3aba2e2462f8ac5dceb2ab03c7a"
            ],
            "layout": "IPY_MODEL_797734474ac94116b06d5943073d7dbc"
          }
        },
        "69a8e078fb1b431790528ab4beffca73": {
          "model_module": "@jupyter-widgets/controls",
          "model_name": "LabelModel",
          "model_module_version": "1.5.0",
          "state": {
            "_dom_classes": [],
            "_model_module": "@jupyter-widgets/controls",
            "_model_module_version": "1.5.0",
            "_model_name": "LabelModel",
            "_view_count": null,
            "_view_module": "@jupyter-widgets/controls",
            "_view_module_version": "1.5.0",
            "_view_name": "LabelView",
            "description": "",
            "description_tooltip": null,
            "layout": "IPY_MODEL_3381723984584c5ab8fcfcd201a84266",
            "placeholder": "​",
            "style": "IPY_MODEL_c85ff972db9e46e2a6856ac0c0d85c06",
            "value": "0.024 MB of 0.024 MB uploaded\r"
          }
        },
        "9279b3aba2e2462f8ac5dceb2ab03c7a": {
          "model_module": "@jupyter-widgets/controls",
          "model_name": "FloatProgressModel",
          "model_module_version": "1.5.0",
          "state": {
            "_dom_classes": [],
            "_model_module": "@jupyter-widgets/controls",
            "_model_module_version": "1.5.0",
            "_model_name": "FloatProgressModel",
            "_view_count": null,
            "_view_module": "@jupyter-widgets/controls",
            "_view_module_version": "1.5.0",
            "_view_name": "ProgressView",
            "bar_style": "",
            "description": "",
            "description_tooltip": null,
            "layout": "IPY_MODEL_65f22e8d40bd4d24a088b581f8e62bbb",
            "max": 1,
            "min": 0,
            "orientation": "horizontal",
            "style": "IPY_MODEL_a0b5d0f2902c4e76a7c14e3fe89e19b5",
            "value": 1
          }
        },
        "797734474ac94116b06d5943073d7dbc": {
          "model_module": "@jupyter-widgets/base",
          "model_name": "LayoutModel",
          "model_module_version": "1.2.0",
          "state": {
            "_model_module": "@jupyter-widgets/base",
            "_model_module_version": "1.2.0",
            "_model_name": "LayoutModel",
            "_view_count": null,
            "_view_module": "@jupyter-widgets/base",
            "_view_module_version": "1.2.0",
            "_view_name": "LayoutView",
            "align_content": null,
            "align_items": null,
            "align_self": null,
            "border": null,
            "bottom": null,
            "display": null,
            "flex": null,
            "flex_flow": null,
            "grid_area": null,
            "grid_auto_columns": null,
            "grid_auto_flow": null,
            "grid_auto_rows": null,
            "grid_column": null,
            "grid_gap": null,
            "grid_row": null,
            "grid_template_areas": null,
            "grid_template_columns": null,
            "grid_template_rows": null,
            "height": null,
            "justify_content": null,
            "justify_items": null,
            "left": null,
            "margin": null,
            "max_height": null,
            "max_width": null,
            "min_height": null,
            "min_width": null,
            "object_fit": null,
            "object_position": null,
            "order": null,
            "overflow": null,
            "overflow_x": null,
            "overflow_y": null,
            "padding": null,
            "right": null,
            "top": null,
            "visibility": null,
            "width": null
          }
        },
        "3381723984584c5ab8fcfcd201a84266": {
          "model_module": "@jupyter-widgets/base",
          "model_name": "LayoutModel",
          "model_module_version": "1.2.0",
          "state": {
            "_model_module": "@jupyter-widgets/base",
            "_model_module_version": "1.2.0",
            "_model_name": "LayoutModel",
            "_view_count": null,
            "_view_module": "@jupyter-widgets/base",
            "_view_module_version": "1.2.0",
            "_view_name": "LayoutView",
            "align_content": null,
            "align_items": null,
            "align_self": null,
            "border": null,
            "bottom": null,
            "display": null,
            "flex": null,
            "flex_flow": null,
            "grid_area": null,
            "grid_auto_columns": null,
            "grid_auto_flow": null,
            "grid_auto_rows": null,
            "grid_column": null,
            "grid_gap": null,
            "grid_row": null,
            "grid_template_areas": null,
            "grid_template_columns": null,
            "grid_template_rows": null,
            "height": null,
            "justify_content": null,
            "justify_items": null,
            "left": null,
            "margin": null,
            "max_height": null,
            "max_width": null,
            "min_height": null,
            "min_width": null,
            "object_fit": null,
            "object_position": null,
            "order": null,
            "overflow": null,
            "overflow_x": null,
            "overflow_y": null,
            "padding": null,
            "right": null,
            "top": null,
            "visibility": null,
            "width": null
          }
        },
        "c85ff972db9e46e2a6856ac0c0d85c06": {
          "model_module": "@jupyter-widgets/controls",
          "model_name": "DescriptionStyleModel",
          "model_module_version": "1.5.0",
          "state": {
            "_model_module": "@jupyter-widgets/controls",
            "_model_module_version": "1.5.0",
            "_model_name": "DescriptionStyleModel",
            "_view_count": null,
            "_view_module": "@jupyter-widgets/base",
            "_view_module_version": "1.2.0",
            "_view_name": "StyleView",
            "description_width": ""
          }
        },
        "65f22e8d40bd4d24a088b581f8e62bbb": {
          "model_module": "@jupyter-widgets/base",
          "model_name": "LayoutModel",
          "model_module_version": "1.2.0",
          "state": {
            "_model_module": "@jupyter-widgets/base",
            "_model_module_version": "1.2.0",
            "_model_name": "LayoutModel",
            "_view_count": null,
            "_view_module": "@jupyter-widgets/base",
            "_view_module_version": "1.2.0",
            "_view_name": "LayoutView",
            "align_content": null,
            "align_items": null,
            "align_self": null,
            "border": null,
            "bottom": null,
            "display": null,
            "flex": null,
            "flex_flow": null,
            "grid_area": null,
            "grid_auto_columns": null,
            "grid_auto_flow": null,
            "grid_auto_rows": null,
            "grid_column": null,
            "grid_gap": null,
            "grid_row": null,
            "grid_template_areas": null,
            "grid_template_columns": null,
            "grid_template_rows": null,
            "height": null,
            "justify_content": null,
            "justify_items": null,
            "left": null,
            "margin": null,
            "max_height": null,
            "max_width": null,
            "min_height": null,
            "min_width": null,
            "object_fit": null,
            "object_position": null,
            "order": null,
            "overflow": null,
            "overflow_x": null,
            "overflow_y": null,
            "padding": null,
            "right": null,
            "top": null,
            "visibility": null,
            "width": null
          }
        },
        "a0b5d0f2902c4e76a7c14e3fe89e19b5": {
          "model_module": "@jupyter-widgets/controls",
          "model_name": "ProgressStyleModel",
          "model_module_version": "1.5.0",
          "state": {
            "_model_module": "@jupyter-widgets/controls",
            "_model_module_version": "1.5.0",
            "_model_name": "ProgressStyleModel",
            "_view_count": null,
            "_view_module": "@jupyter-widgets/base",
            "_view_module_version": "1.2.0",
            "_view_name": "StyleView",
            "bar_color": null,
            "description_width": ""
          }
        }
      }
    },
    "accelerator": "GPU"
  },
  "cells": [
    {
      "cell_type": "markdown",
      "source": [
        "# <font color = 'pickle'>**Handling Long Sequence - Chunking by Shreya Mukerjee SXM220064** </font>"
      ],
      "metadata": {
        "id": "Z_caqi830UAy"
      }
    },
    {
      "cell_type": "code",
      "execution_count": 1,
      "metadata": {
        "colab": {
          "base_uri": "https://localhost:8080/"
        },
        "id": "Ugb_xJleTu4N",
        "outputId": "0124e13f-ed87-4d70-bd5c-ef9336ab0f1a"
      },
      "outputs": [
        {
          "output_type": "stream",
          "name": "stdout",
          "text": [
            "Mounted at /content/drive\n",
            "\u001b[2K     \u001b[90m━━━━━━━━━━━━━━━━━━━━━━━━━━━━━━━━━━━━━━━━\u001b[0m \u001b[32m521.2/521.2 kB\u001b[0m \u001b[31m7.6 MB/s\u001b[0m eta \u001b[36m0:00:00\u001b[0m\n",
            "\u001b[2K     \u001b[90m━━━━━━━━━━━━━━━━━━━━━━━━━━━━━━━━━━━━━━━━\u001b[0m \u001b[32m84.1/84.1 kB\u001b[0m \u001b[31m11.0 MB/s\u001b[0m eta \u001b[36m0:00:00\u001b[0m\n",
            "\u001b[2K     \u001b[90m━━━━━━━━━━━━━━━━━━━━━━━━━━━━━━━━━━━━━━━━\u001b[0m \u001b[32m2.1/2.1 MB\u001b[0m \u001b[31m48.2 MB/s\u001b[0m eta \u001b[36m0:00:00\u001b[0m\n",
            "\u001b[2K     \u001b[90m━━━━━━━━━━━━━━━━━━━━━━━━━━━━━━━━━━━━━━━━\u001b[0m \u001b[32m261.4/261.4 kB\u001b[0m \u001b[31m32.7 MB/s\u001b[0m eta \u001b[36m0:00:00\u001b[0m\n",
            "\u001b[2K     \u001b[90m━━━━━━━━━━━━━━━━━━━━━━━━━━━━━━━━━━━━━━━━\u001b[0m \u001b[32m115.3/115.3 kB\u001b[0m \u001b[31m16.2 MB/s\u001b[0m eta \u001b[36m0:00:00\u001b[0m\n",
            "\u001b[2K     \u001b[90m━━━━━━━━━━━━━━━━━━━━━━━━━━━━━━━━━━━━━━━━\u001b[0m \u001b[32m134.8/134.8 kB\u001b[0m \u001b[31m17.1 MB/s\u001b[0m eta \u001b[36m0:00:00\u001b[0m\n",
            "\u001b[2K     \u001b[90m━━━━━━━━━━━━━━━━━━━━━━━━━━━━━━━━━━━━━━━━\u001b[0m \u001b[32m190.6/190.6 kB\u001b[0m \u001b[31m23.0 MB/s\u001b[0m eta \u001b[36m0:00:00\u001b[0m\n",
            "\u001b[2K     \u001b[90m━━━━━━━━━━━━━━━━━━━━━━━━━━━━━━━━━━━━━━━━\u001b[0m \u001b[32m248.6/248.6 kB\u001b[0m \u001b[31m30.1 MB/s\u001b[0m eta \u001b[36m0:00:00\u001b[0m\n",
            "\u001b[2K     \u001b[90m━━━━━━━━━━━━━━━━━━━━━━━━━━━━━━━━━━━━━━━━\u001b[0m \u001b[32m62.7/62.7 kB\u001b[0m \u001b[31m8.5 MB/s\u001b[0m eta \u001b[36m0:00:00\u001b[0m\n",
            "\u001b[?25h"
          ]
        }
      ],
      "source": [
        "from pathlib import Path\n",
        "if 'google.colab' in str(get_ipython()):\n",
        "    from google.colab import drive\n",
        "    drive.mount(\"/content/drive\")\n",
        "    !pip install datasets transformers evaluate wandb accelerate -U -qq\n",
        "    base_folder = Path(\"/content/drive/MyDrive/Colab_Notebooks/NLP\") # CHANGE BASED ON YOUR SETUP\n",
        "else:\n",
        "    pass\n",
        "\n",
        "from functools import partial\n",
        "import torch.nn.functional as F\n",
        "from transformers import AutoConfig, AutoModelForSequenceClassification, AutoTokenizer, Trainer, TrainingArguments\n",
        "from transformers import AutoTokenizer, DataCollatorWithPadding, pipeline\n",
        "from datasets import load_dataset, DatasetDict, Dataset, ClassLabel\n",
        "import evaluate\n",
        "import torch.nn as nn\n",
        "from transformers.trainer_utils import EvalPrediction\n",
        "\n",
        "import torch\n",
        "from transformers import PreTrainedModel\n",
        "from evaluate import load\n",
        "from collections import Counter\n",
        "from torch.utils.data import DataLoader\n",
        "from scipy.special import logsumexp\n",
        "from scipy.special import softmax\n",
        "\n",
        "import wandb\n",
        "\n",
        "import numpy as np\n",
        "from sklearn.metrics import ConfusionMatrixDisplay\n",
        "import matplotlib.pyplot as plt\n",
        "import random\n",
        "\n",
        "import textwrap\n",
        "import gc\n",
        "from datasets import load_dataset, DatasetDict\n",
        "import plotly.express as px\n",
        "\n",
        "from datasets.utils.logging import disable_progress_bar\n",
        "disable_progress_bar()\n",
        "\n",
        "data_folder = base_folder/'Datasets' # CHANGE BASED ON YOUR SETUP\n",
        "model_folder = base_folder/'Models' # CHANGE BASED ON YOUR SETUP\n",
        "model_folder.mkdir(exist_ok=True)"
      ]
    },
    {
      "cell_type": "code",
      "source": [
        "def print_wrap(text, d):\n",
        "    # Wrap the text to limit the width to 'd'\n",
        "    wrapped_text = textwrap.fill(text, width=d)\n",
        "\n",
        "    # Print the wrapped text\n",
        "    print(wrapped_text)"
      ],
      "metadata": {
        "id": "n7PtTSpf0iCV"
      },
      "execution_count": 2,
      "outputs": []
    },
    {
      "cell_type": "code",
      "source": [
        "olddf = load_dataset('csv', data_files= str(data_folder /'multiclass_hw_basic_clean.csv'))"
      ],
      "metadata": {
        "id": "0IViYMWj1pzB"
      },
      "execution_count": 3,
      "outputs": []
    },
    {
      "cell_type": "markdown",
      "source": [
        "# <font color = 'pickle'>**Understanding the data** </font>"
      ],
      "metadata": {
        "id": "FhSx6kPO4c--"
      }
    },
    {
      "cell_type": "code",
      "source": [
        "print(olddf)"
      ],
      "metadata": {
        "colab": {
          "base_uri": "https://localhost:8080/"
        },
        "id": "R9UgI60w4JPa",
        "outputId": "ce7d644a-80b4-4464-b52b-fc36789896b2"
      },
      "execution_count": 4,
      "outputs": [
        {
          "output_type": "stream",
          "name": "stdout",
          "text": [
            "DatasetDict({\n",
            "    train: Dataset({\n",
            "        features: ['Unnamed: 0.1', 'Unnamed: 0', 'Title', 'Body', 'cleaned_text', 'Tags', 'Tag_Number_final', 'combined_text', 'basic_cleaned_text'],\n",
            "        num_rows: 188878\n",
            "    })\n",
            "})\n"
          ]
        }
      ]
    },
    {
      "cell_type": "code",
      "source": [
        "olddf['train'].features           # [:, [2, 3, 4, 5, 6, 7, 8]]"
      ],
      "metadata": {
        "colab": {
          "base_uri": "https://localhost:8080/"
        },
        "id": "ssB8BGXZ_ugN",
        "outputId": "2893e02b-17ad-4883-ec51-0e0cf9e7206e"
      },
      "execution_count": 5,
      "outputs": [
        {
          "output_type": "execute_result",
          "data": {
            "text/plain": [
              "{'Unnamed: 0.1': Value(dtype='int64', id=None),\n",
              " 'Unnamed: 0': Value(dtype='int64', id=None),\n",
              " 'Title': Value(dtype='string', id=None),\n",
              " 'Body': Value(dtype='string', id=None),\n",
              " 'cleaned_text': Value(dtype='string', id=None),\n",
              " 'Tags': Value(dtype='string', id=None),\n",
              " 'Tag_Number_final': Value(dtype='int64', id=None),\n",
              " 'combined_text': Value(dtype='string', id=None),\n",
              " 'basic_cleaned_text': Value(dtype='string', id=None)}"
            ]
          },
          "metadata": {},
          "execution_count": 5
        }
      ]
    },
    {
      "cell_type": "code",
      "source": [
        "selected_columns = {\n",
        "    'text': olddf['train']['basic_cleaned_text'],\n",
        "    'label': olddf['train']['Tag_Number_final']\n",
        "}\n",
        "\n",
        "# Create a new dataset with the selected columns\n",
        "df = Dataset.from_dict(selected_columns)"
      ],
      "metadata": {
        "id": "LOc7cF10jtfA"
      },
      "execution_count": 6,
      "outputs": []
    },
    {
      "cell_type": "code",
      "source": [
        "olddf"
      ],
      "metadata": {
        "colab": {
          "base_uri": "https://localhost:8080/"
        },
        "id": "IUvjyUQgzfGz",
        "outputId": "8b1ec92c-8401-4020-84b0-be66c1180cd3"
      },
      "execution_count": 7,
      "outputs": [
        {
          "output_type": "execute_result",
          "data": {
            "text/plain": [
              "DatasetDict({\n",
              "    train: Dataset({\n",
              "        features: ['Unnamed: 0.1', 'Unnamed: 0', 'Title', 'Body', 'cleaned_text', 'Tags', 'Tag_Number_final', 'combined_text', 'basic_cleaned_text'],\n",
              "        num_rows: 188878\n",
              "    })\n",
              "})"
            ]
          },
          "metadata": {},
          "execution_count": 7
        }
      ]
    },
    {
      "cell_type": "code",
      "source": [
        "df"
      ],
      "metadata": {
        "colab": {
          "base_uri": "https://localhost:8080/"
        },
        "id": "3ChTLNlmkC5g",
        "outputId": "6da76186-d8fc-45bc-c821-25b59263ce19"
      },
      "execution_count": 8,
      "outputs": [
        {
          "output_type": "execute_result",
          "data": {
            "text/plain": [
              "Dataset({\n",
              "    features: ['text', 'label'],\n",
              "    num_rows: 188878\n",
              "})"
            ]
          },
          "metadata": {},
          "execution_count": 8
        }
      ]
    },
    {
      "cell_type": "markdown",
      "source": [
        "## <font color = 'pickle'> **Exploratory Data Analysis (EDA)**"
      ],
      "metadata": {
        "id": "Ot39LdsR5Fdo"
      }
    },
    {
      "cell_type": "code",
      "source": [
        "# Convert to Pandas\n",
        "df.set_format(type='pandas')"
      ],
      "metadata": {
        "id": "ViM3ccl04zVG"
      },
      "execution_count": 9,
      "outputs": []
    },
    {
      "cell_type": "code",
      "source": [
        "df_train = df[:]"
      ],
      "metadata": {
        "id": "Ib4A2kFZ5TVs"
      },
      "execution_count": 10,
      "outputs": []
    },
    {
      "cell_type": "code",
      "source": [
        "df_train.head()"
      ],
      "metadata": {
        "colab": {
          "base_uri": "https://localhost:8080/",
          "height": 206
        },
        "id": "n1u-77S95fhJ",
        "outputId": "a7b61c46-4713-4b2f-a212-19c29a178003"
      },
      "execution_count": 11,
      "outputs": [
        {
          "output_type": "execute_result",
          "data": {
            "text/plain": [
              "                                                text  label\n",
              "0  detail disclosure indicator on UIButton Is the...      8\n",
              "1  hello world fails to show up in emulator I fol...      4\n",
              "2  Why is JSHint throwing a \"possible strict viol...      3\n",
              "3  Programmatically Make Bound Column Invisible I...      9\n",
              "4  More than one EditText - not getting focus, no...      4"
            ],
            "text/html": [
              "\n",
              "  <div id=\"df-378c891b-3875-4680-a951-93249b6127c7\" class=\"colab-df-container\">\n",
              "    <div>\n",
              "<style scoped>\n",
              "    .dataframe tbody tr th:only-of-type {\n",
              "        vertical-align: middle;\n",
              "    }\n",
              "\n",
              "    .dataframe tbody tr th {\n",
              "        vertical-align: top;\n",
              "    }\n",
              "\n",
              "    .dataframe thead th {\n",
              "        text-align: right;\n",
              "    }\n",
              "</style>\n",
              "<table border=\"1\" class=\"dataframe\">\n",
              "  <thead>\n",
              "    <tr style=\"text-align: right;\">\n",
              "      <th></th>\n",
              "      <th>text</th>\n",
              "      <th>label</th>\n",
              "    </tr>\n",
              "  </thead>\n",
              "  <tbody>\n",
              "    <tr>\n",
              "      <th>0</th>\n",
              "      <td>detail disclosure indicator on UIButton Is the...</td>\n",
              "      <td>8</td>\n",
              "    </tr>\n",
              "    <tr>\n",
              "      <th>1</th>\n",
              "      <td>hello world fails to show up in emulator I fol...</td>\n",
              "      <td>4</td>\n",
              "    </tr>\n",
              "    <tr>\n",
              "      <th>2</th>\n",
              "      <td>Why is JSHint throwing a \"possible strict viol...</td>\n",
              "      <td>3</td>\n",
              "    </tr>\n",
              "    <tr>\n",
              "      <th>3</th>\n",
              "      <td>Programmatically Make Bound Column Invisible I...</td>\n",
              "      <td>9</td>\n",
              "    </tr>\n",
              "    <tr>\n",
              "      <th>4</th>\n",
              "      <td>More than one EditText - not getting focus, no...</td>\n",
              "      <td>4</td>\n",
              "    </tr>\n",
              "  </tbody>\n",
              "</table>\n",
              "</div>\n",
              "    <div class=\"colab-df-buttons\">\n",
              "\n",
              "  <div class=\"colab-df-container\">\n",
              "    <button class=\"colab-df-convert\" onclick=\"convertToInteractive('df-378c891b-3875-4680-a951-93249b6127c7')\"\n",
              "            title=\"Convert this dataframe to an interactive table.\"\n",
              "            style=\"display:none;\">\n",
              "\n",
              "  <svg xmlns=\"http://www.w3.org/2000/svg\" height=\"24px\" viewBox=\"0 -960 960 960\">\n",
              "    <path d=\"M120-120v-720h720v720H120Zm60-500h600v-160H180v160Zm220 220h160v-160H400v160Zm0 220h160v-160H400v160ZM180-400h160v-160H180v160Zm440 0h160v-160H620v160ZM180-180h160v-160H180v160Zm440 0h160v-160H620v160Z\"/>\n",
              "  </svg>\n",
              "    </button>\n",
              "\n",
              "  <style>\n",
              "    .colab-df-container {\n",
              "      display:flex;\n",
              "      gap: 12px;\n",
              "    }\n",
              "\n",
              "    .colab-df-convert {\n",
              "      background-color: #E8F0FE;\n",
              "      border: none;\n",
              "      border-radius: 50%;\n",
              "      cursor: pointer;\n",
              "      display: none;\n",
              "      fill: #1967D2;\n",
              "      height: 32px;\n",
              "      padding: 0 0 0 0;\n",
              "      width: 32px;\n",
              "    }\n",
              "\n",
              "    .colab-df-convert:hover {\n",
              "      background-color: #E2EBFA;\n",
              "      box-shadow: 0px 1px 2px rgba(60, 64, 67, 0.3), 0px 1px 3px 1px rgba(60, 64, 67, 0.15);\n",
              "      fill: #174EA6;\n",
              "    }\n",
              "\n",
              "    .colab-df-buttons div {\n",
              "      margin-bottom: 4px;\n",
              "    }\n",
              "\n",
              "    [theme=dark] .colab-df-convert {\n",
              "      background-color: #3B4455;\n",
              "      fill: #D2E3FC;\n",
              "    }\n",
              "\n",
              "    [theme=dark] .colab-df-convert:hover {\n",
              "      background-color: #434B5C;\n",
              "      box-shadow: 0px 1px 3px 1px rgba(0, 0, 0, 0.15);\n",
              "      filter: drop-shadow(0px 1px 2px rgba(0, 0, 0, 0.3));\n",
              "      fill: #FFFFFF;\n",
              "    }\n",
              "  </style>\n",
              "\n",
              "    <script>\n",
              "      const buttonEl =\n",
              "        document.querySelector('#df-378c891b-3875-4680-a951-93249b6127c7 button.colab-df-convert');\n",
              "      buttonEl.style.display =\n",
              "        google.colab.kernel.accessAllowed ? 'block' : 'none';\n",
              "\n",
              "      async function convertToInteractive(key) {\n",
              "        const element = document.querySelector('#df-378c891b-3875-4680-a951-93249b6127c7');\n",
              "        const dataTable =\n",
              "          await google.colab.kernel.invokeFunction('convertToInteractive',\n",
              "                                                    [key], {});\n",
              "        if (!dataTable) return;\n",
              "\n",
              "        const docLinkHtml = 'Like what you see? Visit the ' +\n",
              "          '<a target=\"_blank\" href=https://colab.research.google.com/notebooks/data_table.ipynb>data table notebook</a>'\n",
              "          + ' to learn more about interactive tables.';\n",
              "        element.innerHTML = '';\n",
              "        dataTable['output_type'] = 'display_data';\n",
              "        await google.colab.output.renderOutput(dataTable, element);\n",
              "        const docLink = document.createElement('div');\n",
              "        docLink.innerHTML = docLinkHtml;\n",
              "        element.appendChild(docLink);\n",
              "      }\n",
              "    </script>\n",
              "  </div>\n",
              "\n",
              "\n",
              "<div id=\"df-a5a6ee79-c74e-4928-b441-1a7993a9b5cf\">\n",
              "  <button class=\"colab-df-quickchart\" onclick=\"quickchart('df-a5a6ee79-c74e-4928-b441-1a7993a9b5cf')\"\n",
              "            title=\"Suggest charts\"\n",
              "            style=\"display:none;\">\n",
              "\n",
              "<svg xmlns=\"http://www.w3.org/2000/svg\" height=\"24px\"viewBox=\"0 0 24 24\"\n",
              "     width=\"24px\">\n",
              "    <g>\n",
              "        <path d=\"M19 3H5c-1.1 0-2 .9-2 2v14c0 1.1.9 2 2 2h14c1.1 0 2-.9 2-2V5c0-1.1-.9-2-2-2zM9 17H7v-7h2v7zm4 0h-2V7h2v10zm4 0h-2v-4h2v4z\"/>\n",
              "    </g>\n",
              "</svg>\n",
              "  </button>\n",
              "\n",
              "<style>\n",
              "  .colab-df-quickchart {\n",
              "      --bg-color: #E8F0FE;\n",
              "      --fill-color: #1967D2;\n",
              "      --hover-bg-color: #E2EBFA;\n",
              "      --hover-fill-color: #174EA6;\n",
              "      --disabled-fill-color: #AAA;\n",
              "      --disabled-bg-color: #DDD;\n",
              "  }\n",
              "\n",
              "  [theme=dark] .colab-df-quickchart {\n",
              "      --bg-color: #3B4455;\n",
              "      --fill-color: #D2E3FC;\n",
              "      --hover-bg-color: #434B5C;\n",
              "      --hover-fill-color: #FFFFFF;\n",
              "      --disabled-bg-color: #3B4455;\n",
              "      --disabled-fill-color: #666;\n",
              "  }\n",
              "\n",
              "  .colab-df-quickchart {\n",
              "    background-color: var(--bg-color);\n",
              "    border: none;\n",
              "    border-radius: 50%;\n",
              "    cursor: pointer;\n",
              "    display: none;\n",
              "    fill: var(--fill-color);\n",
              "    height: 32px;\n",
              "    padding: 0;\n",
              "    width: 32px;\n",
              "  }\n",
              "\n",
              "  .colab-df-quickchart:hover {\n",
              "    background-color: var(--hover-bg-color);\n",
              "    box-shadow: 0 1px 2px rgba(60, 64, 67, 0.3), 0 1px 3px 1px rgba(60, 64, 67, 0.15);\n",
              "    fill: var(--button-hover-fill-color);\n",
              "  }\n",
              "\n",
              "  .colab-df-quickchart-complete:disabled,\n",
              "  .colab-df-quickchart-complete:disabled:hover {\n",
              "    background-color: var(--disabled-bg-color);\n",
              "    fill: var(--disabled-fill-color);\n",
              "    box-shadow: none;\n",
              "  }\n",
              "\n",
              "  .colab-df-spinner {\n",
              "    border: 2px solid var(--fill-color);\n",
              "    border-color: transparent;\n",
              "    border-bottom-color: var(--fill-color);\n",
              "    animation:\n",
              "      spin 1s steps(1) infinite;\n",
              "  }\n",
              "\n",
              "  @keyframes spin {\n",
              "    0% {\n",
              "      border-color: transparent;\n",
              "      border-bottom-color: var(--fill-color);\n",
              "      border-left-color: var(--fill-color);\n",
              "    }\n",
              "    20% {\n",
              "      border-color: transparent;\n",
              "      border-left-color: var(--fill-color);\n",
              "      border-top-color: var(--fill-color);\n",
              "    }\n",
              "    30% {\n",
              "      border-color: transparent;\n",
              "      border-left-color: var(--fill-color);\n",
              "      border-top-color: var(--fill-color);\n",
              "      border-right-color: var(--fill-color);\n",
              "    }\n",
              "    40% {\n",
              "      border-color: transparent;\n",
              "      border-right-color: var(--fill-color);\n",
              "      border-top-color: var(--fill-color);\n",
              "    }\n",
              "    60% {\n",
              "      border-color: transparent;\n",
              "      border-right-color: var(--fill-color);\n",
              "    }\n",
              "    80% {\n",
              "      border-color: transparent;\n",
              "      border-right-color: var(--fill-color);\n",
              "      border-bottom-color: var(--fill-color);\n",
              "    }\n",
              "    90% {\n",
              "      border-color: transparent;\n",
              "      border-bottom-color: var(--fill-color);\n",
              "    }\n",
              "  }\n",
              "</style>\n",
              "\n",
              "  <script>\n",
              "    async function quickchart(key) {\n",
              "      const quickchartButtonEl =\n",
              "        document.querySelector('#' + key + ' button');\n",
              "      quickchartButtonEl.disabled = true;  // To prevent multiple clicks.\n",
              "      quickchartButtonEl.classList.add('colab-df-spinner');\n",
              "      try {\n",
              "        const charts = await google.colab.kernel.invokeFunction(\n",
              "            'suggestCharts', [key], {});\n",
              "      } catch (error) {\n",
              "        console.error('Error during call to suggestCharts:', error);\n",
              "      }\n",
              "      quickchartButtonEl.classList.remove('colab-df-spinner');\n",
              "      quickchartButtonEl.classList.add('colab-df-quickchart-complete');\n",
              "    }\n",
              "    (() => {\n",
              "      let quickchartButtonEl =\n",
              "        document.querySelector('#df-a5a6ee79-c74e-4928-b441-1a7993a9b5cf button');\n",
              "      quickchartButtonEl.style.display =\n",
              "        google.colab.kernel.accessAllowed ? 'block' : 'none';\n",
              "    })();\n",
              "  </script>\n",
              "</div>\n",
              "\n",
              "    </div>\n",
              "  </div>\n"
            ]
          },
          "metadata": {},
          "execution_count": 11
        }
      ]
    },
    {
      "cell_type": "markdown",
      "source": [
        "### <font color = 'blue'> **Check length of the reviews** </font>\n"
      ],
      "metadata": {
        "id": "oX8eMrq-6Qgi"
      }
    },
    {
      "cell_type": "code",
      "source": [
        "df_train['words_per_review'] = df_train['text'].apply(lambda x: len(str(x).split()) if x is not None else 0)\n",
        "df_train.head()"
      ],
      "metadata": {
        "colab": {
          "base_uri": "https://localhost:8080/",
          "height": 206
        },
        "id": "yctWi9cH6MXK",
        "outputId": "d0564b2b-984e-472e-92e4-0ca43ccc0c5a"
      },
      "execution_count": 12,
      "outputs": [
        {
          "output_type": "execute_result",
          "data": {
            "text/plain": [
              "                                                text  label  words_per_review\n",
              "0  detail disclosure indicator on UIButton Is the...      8                80\n",
              "1  hello world fails to show up in emulator I fol...      4               256\n",
              "2  Why is JSHint throwing a \"possible strict viol...      3                40\n",
              "3  Programmatically Make Bound Column Invisible I...      9                60\n",
              "4  More than one EditText - not getting focus, no...      4               197"
            ],
            "text/html": [
              "\n",
              "  <div id=\"df-d7548be1-97df-4fdb-88e1-8e25a9104cb9\" class=\"colab-df-container\">\n",
              "    <div>\n",
              "<style scoped>\n",
              "    .dataframe tbody tr th:only-of-type {\n",
              "        vertical-align: middle;\n",
              "    }\n",
              "\n",
              "    .dataframe tbody tr th {\n",
              "        vertical-align: top;\n",
              "    }\n",
              "\n",
              "    .dataframe thead th {\n",
              "        text-align: right;\n",
              "    }\n",
              "</style>\n",
              "<table border=\"1\" class=\"dataframe\">\n",
              "  <thead>\n",
              "    <tr style=\"text-align: right;\">\n",
              "      <th></th>\n",
              "      <th>text</th>\n",
              "      <th>label</th>\n",
              "      <th>words_per_review</th>\n",
              "    </tr>\n",
              "  </thead>\n",
              "  <tbody>\n",
              "    <tr>\n",
              "      <th>0</th>\n",
              "      <td>detail disclosure indicator on UIButton Is the...</td>\n",
              "      <td>8</td>\n",
              "      <td>80</td>\n",
              "    </tr>\n",
              "    <tr>\n",
              "      <th>1</th>\n",
              "      <td>hello world fails to show up in emulator I fol...</td>\n",
              "      <td>4</td>\n",
              "      <td>256</td>\n",
              "    </tr>\n",
              "    <tr>\n",
              "      <th>2</th>\n",
              "      <td>Why is JSHint throwing a \"possible strict viol...</td>\n",
              "      <td>3</td>\n",
              "      <td>40</td>\n",
              "    </tr>\n",
              "    <tr>\n",
              "      <th>3</th>\n",
              "      <td>Programmatically Make Bound Column Invisible I...</td>\n",
              "      <td>9</td>\n",
              "      <td>60</td>\n",
              "    </tr>\n",
              "    <tr>\n",
              "      <th>4</th>\n",
              "      <td>More than one EditText - not getting focus, no...</td>\n",
              "      <td>4</td>\n",
              "      <td>197</td>\n",
              "    </tr>\n",
              "  </tbody>\n",
              "</table>\n",
              "</div>\n",
              "    <div class=\"colab-df-buttons\">\n",
              "\n",
              "  <div class=\"colab-df-container\">\n",
              "    <button class=\"colab-df-convert\" onclick=\"convertToInteractive('df-d7548be1-97df-4fdb-88e1-8e25a9104cb9')\"\n",
              "            title=\"Convert this dataframe to an interactive table.\"\n",
              "            style=\"display:none;\">\n",
              "\n",
              "  <svg xmlns=\"http://www.w3.org/2000/svg\" height=\"24px\" viewBox=\"0 -960 960 960\">\n",
              "    <path d=\"M120-120v-720h720v720H120Zm60-500h600v-160H180v160Zm220 220h160v-160H400v160Zm0 220h160v-160H400v160ZM180-400h160v-160H180v160Zm440 0h160v-160H620v160ZM180-180h160v-160H180v160Zm440 0h160v-160H620v160Z\"/>\n",
              "  </svg>\n",
              "    </button>\n",
              "\n",
              "  <style>\n",
              "    .colab-df-container {\n",
              "      display:flex;\n",
              "      gap: 12px;\n",
              "    }\n",
              "\n",
              "    .colab-df-convert {\n",
              "      background-color: #E8F0FE;\n",
              "      border: none;\n",
              "      border-radius: 50%;\n",
              "      cursor: pointer;\n",
              "      display: none;\n",
              "      fill: #1967D2;\n",
              "      height: 32px;\n",
              "      padding: 0 0 0 0;\n",
              "      width: 32px;\n",
              "    }\n",
              "\n",
              "    .colab-df-convert:hover {\n",
              "      background-color: #E2EBFA;\n",
              "      box-shadow: 0px 1px 2px rgba(60, 64, 67, 0.3), 0px 1px 3px 1px rgba(60, 64, 67, 0.15);\n",
              "      fill: #174EA6;\n",
              "    }\n",
              "\n",
              "    .colab-df-buttons div {\n",
              "      margin-bottom: 4px;\n",
              "    }\n",
              "\n",
              "    [theme=dark] .colab-df-convert {\n",
              "      background-color: #3B4455;\n",
              "      fill: #D2E3FC;\n",
              "    }\n",
              "\n",
              "    [theme=dark] .colab-df-convert:hover {\n",
              "      background-color: #434B5C;\n",
              "      box-shadow: 0px 1px 3px 1px rgba(0, 0, 0, 0.15);\n",
              "      filter: drop-shadow(0px 1px 2px rgba(0, 0, 0, 0.3));\n",
              "      fill: #FFFFFF;\n",
              "    }\n",
              "  </style>\n",
              "\n",
              "    <script>\n",
              "      const buttonEl =\n",
              "        document.querySelector('#df-d7548be1-97df-4fdb-88e1-8e25a9104cb9 button.colab-df-convert');\n",
              "      buttonEl.style.display =\n",
              "        google.colab.kernel.accessAllowed ? 'block' : 'none';\n",
              "\n",
              "      async function convertToInteractive(key) {\n",
              "        const element = document.querySelector('#df-d7548be1-97df-4fdb-88e1-8e25a9104cb9');\n",
              "        const dataTable =\n",
              "          await google.colab.kernel.invokeFunction('convertToInteractive',\n",
              "                                                    [key], {});\n",
              "        if (!dataTable) return;\n",
              "\n",
              "        const docLinkHtml = 'Like what you see? Visit the ' +\n",
              "          '<a target=\"_blank\" href=https://colab.research.google.com/notebooks/data_table.ipynb>data table notebook</a>'\n",
              "          + ' to learn more about interactive tables.';\n",
              "        element.innerHTML = '';\n",
              "        dataTable['output_type'] = 'display_data';\n",
              "        await google.colab.output.renderOutput(dataTable, element);\n",
              "        const docLink = document.createElement('div');\n",
              "        docLink.innerHTML = docLinkHtml;\n",
              "        element.appendChild(docLink);\n",
              "      }\n",
              "    </script>\n",
              "  </div>\n",
              "\n",
              "\n",
              "<div id=\"df-1f01eb0c-3ae8-4830-9636-abc1aa368e06\">\n",
              "  <button class=\"colab-df-quickchart\" onclick=\"quickchart('df-1f01eb0c-3ae8-4830-9636-abc1aa368e06')\"\n",
              "            title=\"Suggest charts\"\n",
              "            style=\"display:none;\">\n",
              "\n",
              "<svg xmlns=\"http://www.w3.org/2000/svg\" height=\"24px\"viewBox=\"0 0 24 24\"\n",
              "     width=\"24px\">\n",
              "    <g>\n",
              "        <path d=\"M19 3H5c-1.1 0-2 .9-2 2v14c0 1.1.9 2 2 2h14c1.1 0 2-.9 2-2V5c0-1.1-.9-2-2-2zM9 17H7v-7h2v7zm4 0h-2V7h2v10zm4 0h-2v-4h2v4z\"/>\n",
              "    </g>\n",
              "</svg>\n",
              "  </button>\n",
              "\n",
              "<style>\n",
              "  .colab-df-quickchart {\n",
              "      --bg-color: #E8F0FE;\n",
              "      --fill-color: #1967D2;\n",
              "      --hover-bg-color: #E2EBFA;\n",
              "      --hover-fill-color: #174EA6;\n",
              "      --disabled-fill-color: #AAA;\n",
              "      --disabled-bg-color: #DDD;\n",
              "  }\n",
              "\n",
              "  [theme=dark] .colab-df-quickchart {\n",
              "      --bg-color: #3B4455;\n",
              "      --fill-color: #D2E3FC;\n",
              "      --hover-bg-color: #434B5C;\n",
              "      --hover-fill-color: #FFFFFF;\n",
              "      --disabled-bg-color: #3B4455;\n",
              "      --disabled-fill-color: #666;\n",
              "  }\n",
              "\n",
              "  .colab-df-quickchart {\n",
              "    background-color: var(--bg-color);\n",
              "    border: none;\n",
              "    border-radius: 50%;\n",
              "    cursor: pointer;\n",
              "    display: none;\n",
              "    fill: var(--fill-color);\n",
              "    height: 32px;\n",
              "    padding: 0;\n",
              "    width: 32px;\n",
              "  }\n",
              "\n",
              "  .colab-df-quickchart:hover {\n",
              "    background-color: var(--hover-bg-color);\n",
              "    box-shadow: 0 1px 2px rgba(60, 64, 67, 0.3), 0 1px 3px 1px rgba(60, 64, 67, 0.15);\n",
              "    fill: var(--button-hover-fill-color);\n",
              "  }\n",
              "\n",
              "  .colab-df-quickchart-complete:disabled,\n",
              "  .colab-df-quickchart-complete:disabled:hover {\n",
              "    background-color: var(--disabled-bg-color);\n",
              "    fill: var(--disabled-fill-color);\n",
              "    box-shadow: none;\n",
              "  }\n",
              "\n",
              "  .colab-df-spinner {\n",
              "    border: 2px solid var(--fill-color);\n",
              "    border-color: transparent;\n",
              "    border-bottom-color: var(--fill-color);\n",
              "    animation:\n",
              "      spin 1s steps(1) infinite;\n",
              "  }\n",
              "\n",
              "  @keyframes spin {\n",
              "    0% {\n",
              "      border-color: transparent;\n",
              "      border-bottom-color: var(--fill-color);\n",
              "      border-left-color: var(--fill-color);\n",
              "    }\n",
              "    20% {\n",
              "      border-color: transparent;\n",
              "      border-left-color: var(--fill-color);\n",
              "      border-top-color: var(--fill-color);\n",
              "    }\n",
              "    30% {\n",
              "      border-color: transparent;\n",
              "      border-left-color: var(--fill-color);\n",
              "      border-top-color: var(--fill-color);\n",
              "      border-right-color: var(--fill-color);\n",
              "    }\n",
              "    40% {\n",
              "      border-color: transparent;\n",
              "      border-right-color: var(--fill-color);\n",
              "      border-top-color: var(--fill-color);\n",
              "    }\n",
              "    60% {\n",
              "      border-color: transparent;\n",
              "      border-right-color: var(--fill-color);\n",
              "    }\n",
              "    80% {\n",
              "      border-color: transparent;\n",
              "      border-right-color: var(--fill-color);\n",
              "      border-bottom-color: var(--fill-color);\n",
              "    }\n",
              "    90% {\n",
              "      border-color: transparent;\n",
              "      border-bottom-color: var(--fill-color);\n",
              "    }\n",
              "  }\n",
              "</style>\n",
              "\n",
              "  <script>\n",
              "    async function quickchart(key) {\n",
              "      const quickchartButtonEl =\n",
              "        document.querySelector('#' + key + ' button');\n",
              "      quickchartButtonEl.disabled = true;  // To prevent multiple clicks.\n",
              "      quickchartButtonEl.classList.add('colab-df-spinner');\n",
              "      try {\n",
              "        const charts = await google.colab.kernel.invokeFunction(\n",
              "            'suggestCharts', [key], {});\n",
              "      } catch (error) {\n",
              "        console.error('Error during call to suggestCharts:', error);\n",
              "      }\n",
              "      quickchartButtonEl.classList.remove('colab-df-spinner');\n",
              "      quickchartButtonEl.classList.add('colab-df-quickchart-complete');\n",
              "    }\n",
              "    (() => {\n",
              "      let quickchartButtonEl =\n",
              "        document.querySelector('#df-1f01eb0c-3ae8-4830-9636-abc1aa368e06 button');\n",
              "      quickchartButtonEl.style.display =\n",
              "        google.colab.kernel.accessAllowed ? 'block' : 'none';\n",
              "    })();\n",
              "  </script>\n",
              "</div>\n",
              "\n",
              "    </div>\n",
              "  </div>\n"
            ]
          },
          "metadata": {},
          "execution_count": 12
        }
      ]
    },
    {
      "cell_type": "code",
      "source": [
        "df_train.shape[0]"
      ],
      "metadata": {
        "colab": {
          "base_uri": "https://localhost:8080/"
        },
        "id": "cKI6qdJgbCmG",
        "outputId": "f643907a-7684-4f0f-d6cf-b1963ad48446"
      },
      "execution_count": 13,
      "outputs": [
        {
          "output_type": "execute_result",
          "data": {
            "text/plain": [
              "188878"
            ]
          },
          "metadata": {},
          "execution_count": 13
        }
      ]
    },
    {
      "cell_type": "code",
      "source": [
        "len(df_train[df_train.words_per_review > 400])"
      ],
      "metadata": {
        "colab": {
          "base_uri": "https://localhost:8080/"
        },
        "id": "UToMx39S6aJu",
        "outputId": "1d4afee3-31c0-47be-ef8f-9b4ed0bfd631"
      },
      "execution_count": 14,
      "outputs": [
        {
          "output_type": "execute_result",
          "data": {
            "text/plain": [
              "4772"
            ]
          },
          "metadata": {},
          "execution_count": 14
        }
      ]
    },
    {
      "cell_type": "code",
      "source": [
        "df_400 = df_train[df_train.words_per_review > 400]"
      ],
      "metadata": {
        "id": "lH9qCTldp9en"
      },
      "execution_count": 15,
      "outputs": []
    },
    {
      "cell_type": "code",
      "source": [
        "4772/188878"
      ],
      "metadata": {
        "colab": {
          "base_uri": "https://localhost:8080/"
        },
        "id": "hJI24PtsbsBs",
        "outputId": "07714488-c0b9-42cc-e8df-91db47b3bf72"
      },
      "execution_count": 16,
      "outputs": [
        {
          "output_type": "execute_result",
          "data": {
            "text/plain": [
              "0.025264985863890976"
            ]
          },
          "metadata": {},
          "execution_count": 16
        }
      ]
    },
    {
      "cell_type": "markdown",
      "source": [
        "#### <font color = 'red'> **We can observe that only 2.5% of reviews from the whole dataset has more than 400 words. Let's check it's distribution** </font>"
      ],
      "metadata": {
        "id": "AfQkQvfgboeY"
      }
    },
    {
      "cell_type": "code",
      "source": [
        "df_400.label.value_counts(normalize = True, ascending = True)"
      ],
      "metadata": {
        "colab": {
          "base_uri": "https://localhost:8080/"
        },
        "id": "5uJqdvfQqCVu",
        "outputId": "69a60723-e667-4c3f-91b6-40006ab9a5b4"
      },
      "execution_count": 17,
      "outputs": [
        {
          "output_type": "execute_result",
          "data": {
            "text/plain": [
              "8    0.019279\n",
              "9    0.029966\n",
              "7    0.051551\n",
              "5    0.060142\n",
              "3    0.065381\n",
              "0    0.083403\n",
              "6    0.100587\n",
              "2    0.113789\n",
              "1    0.137469\n",
              "4    0.338433\n",
              "Name: label, dtype: float64"
            ]
          },
          "metadata": {},
          "execution_count": 17
        }
      ]
    },
    {
      "cell_type": "markdown",
      "source": [
        "#### <font color = 'red'> **There is imbalance in the label distribution** </font>"
      ],
      "metadata": {
        "id": "Lzp7u5N8s6eF"
      }
    },
    {
      "cell_type": "code",
      "source": [
        "# Let's check the min and max length\n",
        "print(df_400.words_per_review.min())\n",
        "print(df_400.words_per_review.max())"
      ],
      "metadata": {
        "colab": {
          "base_uri": "https://localhost:8080/"
        },
        "id": "HKUn4X8KdbS2",
        "outputId": "7bfaa53f-5bc7-47c5-f902-05f008f23832"
      },
      "execution_count": 18,
      "outputs": [
        {
          "output_type": "stream",
          "name": "stdout",
          "text": [
            "401\n",
            "3596\n"
          ]
        }
      ]
    },
    {
      "cell_type": "code",
      "source": [
        "# counts, bins = np.histogram(df_train.words_per_review, bins = range(300, 4000, 700))\n",
        "# bins = 0.5 * (bins[:-1] + bins[1:])\n",
        "# print(counts)\n",
        "fig = px.histogram(df_400, x=\"words_per_review\")\n",
        "fig.show()"
      ],
      "metadata": {
        "colab": {
          "base_uri": "https://localhost:8080/",
          "height": 542
        },
        "id": "NLD0BJRYerhe",
        "outputId": "b72730af-33c0-49a9-ef9b-bef09c035a1b"
      },
      "execution_count": 19,
      "outputs": [
        {
          "output_type": "display_data",
          "data": {
            "text/html": [
              "<html>\n",
              "<head><meta charset=\"utf-8\" /></head>\n",
              "<body>\n",
              "    <div>            <script src=\"https://cdnjs.cloudflare.com/ajax/libs/mathjax/2.7.5/MathJax.js?config=TeX-AMS-MML_SVG\"></script><script type=\"text/javascript\">if (window.MathJax && window.MathJax.Hub && window.MathJax.Hub.Config) {window.MathJax.Hub.Config({SVG: {font: \"STIX-Web\"}});}</script>                <script type=\"text/javascript\">window.PlotlyConfig = {MathJaxConfig: 'local'};</script>\n",
              "        <script charset=\"utf-8\" src=\"https://cdn.plot.ly/plotly-2.24.1.min.js\"></script>                <div id=\"abb3f5ec-0a13-4ffd-bde1-e6cf5381c3ad\" class=\"plotly-graph-div\" style=\"height:525px; width:100%;\"></div>            <script type=\"text/javascript\">                                    window.PLOTLYENV=window.PLOTLYENV || {};                                    if (document.getElementById(\"abb3f5ec-0a13-4ffd-bde1-e6cf5381c3ad\")) {                    Plotly.newPlot(                        \"abb3f5ec-0a13-4ffd-bde1-e6cf5381c3ad\",                        [{\"alignmentgroup\":\"True\",\"bingroup\":\"x\",\"hovertemplate\":\"words_per_review=%{x}\\u003cbr\\u003ecount=%{y}\\u003cextra\\u003e\\u003c\\u002fextra\\u003e\",\"legendgroup\":\"\",\"marker\":{\"color\":\"#636efa\",\"pattern\":{\"shape\":\"\"}},\"name\":\"\",\"offsetgroup\":\"\",\"orientation\":\"v\",\"showlegend\":false,\"x\":[628,588,562,473,1042,426,407,993,546,627,638,402,1223,820,581,491,1529,813,458,874,895,753,805,423,824,503,1100,428,633,475,421,451,404,418,441,488,512,2046,428,504,527,506,414,493,486,438,435,1004,461,449,468,428,405,539,549,556,458,453,545,406,841,523,490,638,445,448,943,577,421,450,449,505,411,421,409,616,424,464,610,466,442,624,467,405,481,679,421,403,456,1365,656,479,544,426,515,496,511,597,694,501,943,481,432,460,559,455,613,414,418,406,702,1112,926,531,442,586,428,515,1100,436,489,523,441,450,703,428,420,714,494,872,602,421,638,427,487,930,406,946,523,444,413,484,788,469,1215,514,479,679,655,517,465,406,548,764,537,402,1752,707,3596,405,1732,429,656,541,403,413,486,522,422,713,415,417,599,480,706,503,1075,573,545,545,700,570,545,640,418,428,1157,401,449,577,507,776,654,788,650,1615,751,576,650,742,442,458,486,443,531,439,518,481,431,435,600,570,409,764,612,550,475,570,715,465,727,812,635,855,677,451,841,588,533,553,488,588,475,564,471,443,743,583,563,688,489,600,428,570,445,675,437,443,688,534,729,646,505,432,874,473,3075,513,2504,491,503,412,842,461,559,452,506,605,513,412,535,520,521,610,662,472,1023,1038,450,470,501,514,1133,2524,439,421,517,785,519,465,1986,790,412,657,411,539,553,428,748,408,460,652,660,598,1040,401,585,477,591,652,1681,452,494,562,425,1005,458,486,2215,446,458,956,454,421,422,515,746,462,420,1149,556,1370,793,492,592,774,801,703,1441,416,442,429,442,556,468,576,1448,466,915,434,410,515,427,545,506,822,405,417,486,571,540,536,525,440,460,557,442,596,648,809,801,482,420,457,497,648,426,513,413,409,597,428,569,554,719,439,467,458,448,488,591,419,1563,601,468,406,601,419,455,415,706,1081,534,408,429,461,1688,495,802,436,481,432,440,432,758,403,584,470,650,451,426,969,858,521,412,616,452,711,591,515,447,423,426,579,749,718,714,648,550,510,852,575,419,753,455,488,631,655,585,786,1079,507,422,972,539,648,471,489,405,531,592,493,618,420,455,494,1396,461,537,647,960,500,586,671,481,439,514,764,617,410,468,554,478,787,519,833,402,495,461,852,407,1084,765,423,600,427,413,432,515,418,506,450,406,491,563,868,497,426,540,592,579,546,1098,658,611,599,2570,428,936,839,458,589,587,442,412,480,619,505,483,770,552,753,430,497,729,412,427,552,717,711,656,670,457,887,435,429,514,457,700,1077,427,406,428,505,527,501,535,1286,452,2115,637,436,467,508,436,439,484,410,523,409,1414,411,432,977,414,432,522,454,453,414,467,785,444,466,1136,611,417,513,509,421,756,1450,525,673,493,410,471,1638,407,493,501,554,1380,425,527,506,465,706,406,486,409,575,637,451,565,1645,406,498,407,453,719,438,477,873,500,643,430,459,597,566,915,874,420,495,538,572,577,614,419,517,535,710,415,981,1420,774,473,445,569,478,981,738,492,625,418,411,467,437,441,461,426,504,663,606,460,459,451,469,564,432,404,426,778,720,416,419,535,573,821,642,630,473,490,1584,461,752,681,448,459,552,644,587,417,490,515,660,638,495,432,414,401,532,500,432,677,419,771,439,431,742,425,426,826,484,432,447,455,463,524,442,478,498,708,974,673,487,675,958,460,1967,658,605,696,515,434,479,620,1956,409,606,476,514,428,434,872,1353,626,556,408,722,644,516,406,451,404,740,601,557,759,442,605,430,651,495,529,539,419,436,488,672,443,508,422,897,947,1609,1668,762,522,409,423,478,657,848,427,481,1829,434,816,427,514,442,430,515,1002,515,1006,552,598,483,885,1385,447,401,534,409,406,472,492,563,454,519,423,447,1002,424,1882,455,431,769,765,491,479,823,2332,1094,1806,420,998,606,482,1420,409,905,689,1022,417,422,1038,677,635,652,418,570,463,484,413,480,784,492,450,573,544,774,503,409,419,481,1042,419,834,517,568,491,455,564,414,416,1331,576,610,459,567,613,429,531,1644,464,402,459,425,909,423,611,496,1148,431,447,443,417,404,1311,435,1105,1967,481,500,1631,428,622,1314,751,675,1026,456,406,624,428,494,550,516,710,630,569,452,516,1876,449,551,978,669,492,467,848,425,927,434,404,485,442,460,1152,485,528,443,419,633,502,820,924,406,718,462,1111,466,870,405,428,1356,957,428,1007,477,696,422,688,752,423,409,532,2626,465,556,533,495,411,630,535,533,485,540,669,421,498,455,642,500,402,451,675,611,420,439,500,467,766,468,405,447,752,700,586,1079,495,508,438,456,481,817,967,705,625,559,450,465,819,849,648,410,445,555,492,578,425,446,724,569,438,728,637,453,640,470,546,1079,803,438,1995,497,660,429,664,601,614,531,744,609,552,410,402,506,808,1838,570,976,648,983,670,694,425,874,405,1829,405,404,408,521,735,428,622,436,530,918,510,624,571,475,694,2029,1741,959,537,1414,413,996,1413,567,723,483,546,423,544,1336,445,484,522,1004,793,638,634,489,563,1210,433,473,451,507,630,439,608,452,610,424,1785,544,905,459,1127,526,522,426,522,1411,411,437,809,769,595,432,852,451,778,468,429,1517,420,710,607,608,979,446,411,650,402,504,460,403,424,422,641,436,501,822,638,1411,417,445,2163,403,911,465,484,1242,875,779,406,523,416,418,451,433,414,1318,419,845,408,705,583,430,1319,465,610,446,576,461,557,544,439,515,715,468,484,979,415,1631,436,460,458,526,487,565,790,407,711,937,641,942,432,725,595,454,540,722,459,447,545,404,475,444,432,537,401,525,481,452,425,426,457,533,1370,545,933,513,550,569,691,422,527,525,795,485,945,417,675,1031,869,495,530,406,526,484,483,429,596,564,681,1649,403,698,1102,629,662,643,1194,488,557,427,671,607,1521,580,499,561,411,858,626,673,638,406,602,431,549,903,408,529,423,423,444,432,463,489,420,765,1265,750,501,449,784,475,402,447,984,535,461,513,540,507,441,500,430,404,460,790,802,431,455,502,556,439,504,925,879,524,413,1042,461,623,516,671,620,546,439,462,758,540,1169,699,818,428,599,495,560,427,450,610,794,2115,519,402,414,790,749,445,414,485,403,735,510,505,570,546,778,481,941,607,426,531,523,507,570,2232,1057,685,544,591,493,710,823,632,420,467,796,574,449,492,422,687,865,436,571,404,408,402,918,410,731,1772,471,425,486,449,589,893,405,421,411,404,510,494,591,753,486,495,477,600,745,484,510,444,646,516,416,406,443,408,1068,725,478,1648,598,419,1282,967,525,431,410,523,2022,453,693,455,546,501,414,424,421,522,702,585,453,416,714,411,459,469,1075,481,1022,563,408,403,466,451,632,495,547,1152,430,463,725,640,706,1477,623,422,415,447,528,504,409,469,624,457,590,539,480,723,643,501,486,585,699,587,615,440,630,424,482,539,437,419,430,975,428,921,1262,432,570,401,723,701,851,426,460,511,490,544,483,880,780,442,3355,463,1252,607,1240,811,412,468,683,718,464,405,1316,491,1227,534,408,477,733,534,655,401,530,513,582,479,424,514,629,424,470,458,477,921,482,486,1262,469,604,565,543,442,585,413,900,484,441,481,1060,528,477,598,1226,938,526,427,841,458,802,540,2161,470,491,561,523,490,2307,510,874,611,466,651,521,646,405,485,870,461,518,408,447,473,1277,1049,568,413,458,444,968,498,742,773,519,1008,422,605,505,455,526,1314,598,401,430,520,982,708,528,553,805,555,712,526,427,757,736,506,410,481,651,596,478,631,778,1127,624,406,1117,625,514,463,993,477,2041,497,577,715,1007,758,1223,540,1042,481,645,574,475,440,453,608,1785,573,457,502,549,1112,1372,538,417,491,436,514,852,425,477,424,1205,508,544,426,750,425,643,455,693,423,403,1229,508,1651,585,942,875,428,427,574,505,510,644,662,431,533,424,408,434,1716,660,501,750,406,428,615,439,693,442,1154,457,408,1340,489,897,866,427,472,478,439,452,646,550,434,507,451,493,560,439,529,438,561,488,748,469,629,767,508,1262,419,417,451,442,519,524,454,401,412,694,451,461,653,413,1316,2019,442,464,424,1478,459,427,465,858,474,525,564,825,429,566,1314,502,506,524,501,677,481,569,553,494,986,784,525,484,931,479,715,676,426,487,401,466,492,625,405,426,667,715,1627,559,1138,408,790,458,615,1443,925,512,407,519,442,477,454,484,617,572,461,524,409,403,421,615,556,763,429,718,408,559,473,463,407,1414,550,411,457,613,1058,478,437,434,403,452,866,1486,737,404,2524,511,420,851,464,504,441,437,514,495,437,561,447,426,465,535,603,1054,491,638,799,415,533,441,945,607,553,437,422,567,616,849,445,419,918,1318,467,845,431,968,610,1185,416,681,432,428,413,411,416,638,427,595,493,407,455,556,406,413,568,496,413,423,412,703,443,626,1399,880,481,843,996,597,445,732,487,481,418,533,741,413,656,700,402,809,450,541,432,462,442,653,434,587,756,594,407,474,415,527,781,401,409,728,1120,410,505,1030,896,423,1011,984,418,1005,774,465,1246,622,485,450,803,633,405,411,596,403,426,477,694,488,1223,462,417,1032,645,450,492,474,467,494,488,423,589,424,465,501,479,514,412,410,716,721,414,412,474,472,403,876,489,497,442,413,454,455,537,428,421,949,547,510,699,821,414,549,1029,602,526,460,971,485,1027,497,478,522,465,526,575,815,637,613,484,532,620,441,771,410,474,510,570,519,839,1127,518,1441,559,442,421,417,429,613,1425,578,429,991,675,1986,406,423,402,820,631,450,630,673,410,621,474,420,949,642,496,683,595,432,583,408,486,1003,876,697,532,729,588,413,520,626,1289,484,431,1137,426,484,653,905,412,460,502,1056,509,451,454,725,455,528,536,450,465,425,765,540,612,432,438,780,622,412,424,406,432,412,502,1417,440,403,655,540,638,495,1114,448,562,404,511,1674,474,602,409,507,596,866,706,456,645,419,547,624,406,489,524,433,418,550,441,427,404,569,770,536,413,462,1460,600,521,607,727,697,526,478,411,440,701,461,823,667,781,406,609,643,588,442,582,439,573,673,543,566,429,838,434,437,458,431,417,886,610,422,429,681,722,507,742,490,1691,460,468,482,472,472,454,513,482,450,515,410,424,709,1584,462,626,449,431,481,453,571,525,577,576,416,466,572,1047,594,409,414,509,646,469,662,611,1122,409,1208,439,570,652,717,694,437,1419,462,609,861,722,649,472,504,467,466,449,1290,540,405,667,493,696,561,553,570,429,686,414,632,444,1131,488,543,566,486,516,483,939,424,443,675,690,406,480,1076,765,524,495,676,492,1329,454,656,539,405,468,447,614,549,441,920,479,980,475,401,680,952,580,438,523,425,509,561,468,681,513,977,401,789,1384,604,508,429,498,556,425,503,848,603,676,485,838,414,629,402,574,469,507,546,501,540,469,508,615,649,459,1111,514,895,418,481,571,692,1644,739,472,482,608,500,418,521,1417,638,809,1136,432,401,618,483,496,593,657,523,1001,579,412,511,420,1005,593,420,841,602,418,745,518,413,450,590,1350,1005,972,490,605,493,506,412,651,631,1506,509,436,533,574,448,684,773,410,551,492,633,540,495,503,874,431,1229,494,1097,688,437,499,441,416,432,451,723,618,454,455,602,541,573,500,687,1668,412,438,404,605,420,564,838,501,403,827,425,417,417,488,513,816,463,435,571,1036,1168,453,802,437,421,455,692,552,493,405,549,598,492,471,422,1320,426,587,403,437,592,611,425,435,428,828,786,536,702,443,414,521,416,435,429,476,422,770,710,450,415,458,478,658,420,415,548,588,435,411,1090,786,493,557,442,449,447,577,895,455,624,416,425,556,473,416,497,636,484,429,816,799,729,1763,1284,417,805,436,451,783,778,457,469,707,433,740,434,1762,850,784,428,489,839,552,526,449,479,437,465,914,548,1345,422,571,526,475,408,751,408,475,442,587,683,925,693,506,1253,530,465,576,422,520,449,501,546,403,457,576,425,453,1168,1146,544,429,434,1967,459,421,412,705,544,404,449,447,471,603,568,1135,419,513,782,566,1276,913,1481,513,519,526,481,510,558,423,569,1319,1289,972,458,618,409,1152,612,899,891,778,413,407,471,534,431,532,735,632,570,635,406,492,457,479,637,403,503,491,648,485,484,428,418,421,634,594,887,418,434,590,449,572,450,462,478,409,799,424,770,514,413,411,422,882,404,969,631,748,454,697,484,548,445,506,659,2318,883,684,552,602,1009,483,1046,963,439,567,524,515,885,1244,407,432,439,543,683,414,692,451,494,401,472,971,1071,421,441,1013,598,445,457,1092,435,435,604,1038,497,472,404,696,478,414,639,606,496,707,528,1157,405,415,2097,781,1354,634,726,629,506,579,539,1563,715,639,468,540,503,740,451,406,784,487,574,481,1163,582,1165,1018,592,602,477,1175,768,442,661,429,652,730,659,550,428,497,430,468,413,425,547,477,432,539,521,752,874,586,406,555,996,442,441,402,526,444,465,480,1224,547,468,569,652,437,608,1246,755,557,624,628,438,726,678,453,938,423,657,638,603,417,473,422,437,401,471,571,598,932,938,900,429,513,820,657,472,412,458,423,621,469,463,476,726,477,969,401,591,476,420,805,482,703,408,402,662,425,509,620,592,997,474,494,455,872,498,1413,622,635,431,447,925,492,458,542,512,467,802,474,528,694,461,1019,518,487,610,440,413,415,412,529,496,596,562,1092,858,402,1078,461,521,436,423,771,1411,676,577,446,793,780,438,917,415,415,401,448,555,541,500,449,515,429,460,531,477,1254,825,500,513,503,429,1271,455,424,723,429,1286,599,683,1621,779,444,437,1141,471,651,768,611,814,474,482,522,443,472,700,1714,451,462,1107,1101,564,823,642,431,459,463,492,403,413,451,927,434,401,800,526,450,423,541,1186,535,507,420,482,491,413,434,1940,881,448,1057,431,600,488,430,451,709,413,497,1690,622,403,421,417,501,416,421,1634,1001,913,413,416,421,553,458,510,543,539,504,441,407,477,536,548,456,651,451,1025,445,608,456,992,532,1024,420,467,462,628,430,475,503,507,440,446,805,406,1547,411,1034,1084,1506,510,459,1190,1486,908,624,807,495,427,408,492,417,458,721,479,478,594,513,490,442,455,517,718,900,641,455,688,574,929,504,1008,1262,423,404,672,565,423,636,497,435,628,489,555,540,555,985,968,599,436,481,585,787,519,464,408,621,1223,711,411,434,499,769,450,702,491,574,1892,601,416,418,1168,422,405,422,714,623,1290,681,433,811,595,536,402,536,428,726,475,509,455,654,429,1165,623,450,477,484,514,502,853,626,783,608,627,1414,438,554,437,699,885,412,457,635,546,588,1416,558,1206,564,802,713,538,579,423,403,661,535,727,480,943,418,427,667,416,1645,656,1535,411,1066,411,606,539,671,540,432,427,906,466,416,1068,442,1965,407,496,989,856,613,909,1311,418,409,903,575,438,509,516,421,494,480,784,820,409,564,728,614,403,479,419,551,644,465,722,410,1017,792,403,407,631,707,601,1674,1061,513,476,437,454,503,555,740,553,551,680,693,746,487,410,543,564,492,626,513,402,485,484,429,669,719,812,497,608,445,1584,959,1247,406,1365,874,517,1528,435,474,536,495,423,614,407,633,977,660,1121,514,446,598,521,885,586,438,500,513,420,1335,479,675,784,720,509,506,1400,461,636,528,605,417,430,1025,1019,406,665,906,640,555,717,665,403,418,609,423,437,421,488,584,413,462,426,477,406,419,767,611,563,691,430,889,472,426,1319,748,689,592,448,553,584,416,459,437,753,406,409,1084,500,486,946,832,553,437,1155,544,960,425,663,619,720,679,420,559,494,467,474,428,404,637,406,1210,609,437,431,939,525,569,1421,497,556,429,530,432,401,543,566,983,663,453,578,405,465,1152,417,443,447,715,699,473,1282,435,542,505,563,680,492,409,874,576,490,433,525,455,868,458,869,968,784,402,567,465,610,503,679,412,478,402,619,424,406,425,422,563,596,419,511,417,1053,565,446,454,1569,1105,477,729,441,575,745,875,623,477,496,909,553,521,1172,466,481,430,477,552,811,482,534,446,1318,450,1112,553,413,2097,403,409,434,405,422,548,505,828,419,739,485,647,973,428,564,464,444,641,466,461,606,620,455,736,403,530,755,501,1997,571,672,428,1417,514,716,415,663,739,462,983,428,979,431,615,615,2504,420,446,409,443,614,503,436,477,452,466,550,459,1166,758,548,502,584,483,577,734,723,513,424,766,455,598,1040,416,752,1115,602,650,494,1460,492,424,556,472,589,679,487,519,461,472,413,1551,1034,485,450,420,909,424,485,1060,517,621,469,468,420,552,654,2029,520,613,786,633,489,440,488,615,479,515,659,545,515,780,416,416,431,624,430,748,413,466,636,669,439,524,1638,778,401,461,1062,429,534,574,403,413,512,640,414,486,435,504,618,525,402,444,879,520,1743,402,477,712,424,561,1005,448,423,485,572,573,446,472,448,651,625,407,828,410,763,437,514,554,1289,414,1318,613,449,491,1520,1094,405,451,434,486,421,837,441,723,586,901,478,495,580,578,511,488,442,626,527,605,767,422,468,490,604,1107,533,437,423,811,636,412,612,614,642,474,508,452,429,497,497,520,484,469,420,401,406,767,438,479,1506,406,1550,752,436,542,544,566,431,798,742,438,437,411,1007,568,834,413,1117,457,423,681,574,983,417,505,412,655,520,583,1136,3573,859,470,428,544,455,481,461,1882,642,425,652,615,1126,466,577,499,594,509,579,438,614,923,1385,828,1688,468,435,414,478,432,429,786,413,1217,684,566,861,482,1740,792,432,1037,526,620,723,430,595,549,423,616,470,526,711,811,646,475,501,486,597,630,513,1521,592,416,537,438,525,793,441,688,407,802,437,1411,622,552,469,717,427,810,444,589,482,432,739,577,403,524,580,883,485,457,646,595,682,473,402,467,439,1225,406,434,816,1057,501,575,409,937,665,671,467,404,406,435,659,461,486,518,528,905,403,617,468,898,410,1350,481,1590,547,422,1666,698,747,481,470,1194,859,742,502,596,430,431,440,448,524,502,406,494,491,784,466,410,558,581,680,440,710,406,596,553,446,485,416,469,432,438,582,407,680,478,546,493,567,464,678,1111,733,584,581,408,580,998,401,768,461,407,407,890,763,570,402,416,810,529,969,447,484,405,471,624,472,611,534,736,526,421,550,610,740,891,897,787,522,577,493,438,437,699,419,414,682,466,436,450,447,1298,401,1017,549,619,605,407,445,533,594,1467,430,667,849,897,439,555,734,904,905,522,492,412,590,424,460,423,457,430,1329,1848,406,422,511,1023,1124,1261,720,1967,456,519,1131,540,421,407,1690,1890,531,1096,442,707,577,624,427,435,479,433,488,559,423,1038,1062,512,768,1191,884,638,705,571,526,432,735,407,780,422,501,429,653,443,447,573,777,561,489,432,662,473,576,411,409,416,882,404,525,530,538,943,689,489,424,542,402,513,619,495,627,463,1940,447,447,479,484,484,401,407,698,624,817,718,1766,567,675,861,463,726,988,545,516,407,655,655,434,905,517,642,437,1746,501,464,525,434,780,461,497,591,566,442,424,1124,1254,935,478,947,1759,522,506,813,406,402,671,444,479,676,615,456,713,1227,712,590,425,429,628,555,538,407,778,465,416,555,407,469,694,423,570,604,1108,407,485,403,484,546,591,689,423,455,1042,810,409,414,433,413,516,1312,423,1136,486,404,529,662,443,487,869,408,410,468,1697,483,817,470,619,413,445,453,408,444,440,874,423,702,455,724,412,544,637,1297,514,447,497,747,638,755,401,502,443,829,510,1047,626,484,722,523,403,982,1999,406,783,519,519,692,1101,963,520,436,454,525,401,411,417,1123,969,801,694,469,483,491,472,1286,596,414,1002,573,421,403,715,1325,432,1111,518,522,433,503,1003,414,622,1627,659,728,459,434,414,530,734,852,1508,403,575,620,521,1326,1086,419,649,544,1857,411,632,502,621,417,434,495,811,427,428,418,626,404,602,495,624,525,480,1053,405,461,819,1289,406,703,494,565,450,475,408,401,488,429,450,422,555,703,580,851,1316,475,423,1651,427,589,1318,459,541,474,799,450,413,477,431,562,845,712,742,554,413,1052,717,667,562,417,691,447,597,539,479,514,442,570,404,450,492,473,408,485,440,533,418,422,401,489,418,656,424,475,462,441,484,688,422,875,541,650,431,1380,603,807,413,649,438,513,435,1124,460,446,448,420,573,404,424,582,420,550,566,412,401,402,430,577,416,437,509,1108,1015,484,439,618,421,2593,578,429,402,470,617,614,993,447,409,535,494,960,694,671,442,427,429,469,1034,416,650,2446,591,623,473,539,504,853,406,454,428,673,849,684,879,502,419,982,910,599,638,457,973,507,465,572,807,528,409,614,432,613,706,546,470,754,407,699,1124,808,1095,657,493,483,563,446,520,627,460,460,455,721,577,473,466,993,2186,492,404,571,464,502,635,476,943,870,625,558,587,547,745,495,420,402,595,582,438,585,418,602,522,439,596,620,403,1138,930,527,494,520,439,463,700,409,463,462,428,486,441,409,801,547,418,752,1252,531,501,564,823,758,403,526,782,549,827,483,549,621,622,497,463,522,407,517,928,497,510,675,1270,545,474,425,463,458,516,1034,663,699,762,688,552,417,697,537,483,587,407,486,506,1013,756,850,660,494,492,470,623,625,1075,445,523,599,2206,619,487,810,591,563,493,547,589,1156,781,428,419,788,455,510,412,1485,513,565,451,708,627,423,794,509,874,594,562,575,533,722,419,402,976,488,1140,610,479,640,518,1891,839,572,434,522,689,454,595,785,1676,404,1477,509,413,483,1037,561,658,729,417,1481,455,500,434,683,749,425,2332,744,762,619,1104,688,473,790,431,854,409,555,533,485,432,634,427,574,1000,470,549,442,401,420,706,993,479,421,623,534,616,414,410,432,405,525,848,872,438,775,404,765,593,508,742,402,533,729,554,470,426,448,451,709,617,468,403,423,458,741,504,709,962,728,583,521,462,765,578,422,724,942,690,576,403,731,516,568,636,403,494,684,442,696,685,581,436],\"xaxis\":\"x\",\"yaxis\":\"y\",\"type\":\"histogram\"}],                        {\"template\":{\"data\":{\"histogram2dcontour\":[{\"type\":\"histogram2dcontour\",\"colorbar\":{\"outlinewidth\":0,\"ticks\":\"\"},\"colorscale\":[[0.0,\"#0d0887\"],[0.1111111111111111,\"#46039f\"],[0.2222222222222222,\"#7201a8\"],[0.3333333333333333,\"#9c179e\"],[0.4444444444444444,\"#bd3786\"],[0.5555555555555556,\"#d8576b\"],[0.6666666666666666,\"#ed7953\"],[0.7777777777777778,\"#fb9f3a\"],[0.8888888888888888,\"#fdca26\"],[1.0,\"#f0f921\"]]}],\"choropleth\":[{\"type\":\"choropleth\",\"colorbar\":{\"outlinewidth\":0,\"ticks\":\"\"}}],\"histogram2d\":[{\"type\":\"histogram2d\",\"colorbar\":{\"outlinewidth\":0,\"ticks\":\"\"},\"colorscale\":[[0.0,\"#0d0887\"],[0.1111111111111111,\"#46039f\"],[0.2222222222222222,\"#7201a8\"],[0.3333333333333333,\"#9c179e\"],[0.4444444444444444,\"#bd3786\"],[0.5555555555555556,\"#d8576b\"],[0.6666666666666666,\"#ed7953\"],[0.7777777777777778,\"#fb9f3a\"],[0.8888888888888888,\"#fdca26\"],[1.0,\"#f0f921\"]]}],\"heatmap\":[{\"type\":\"heatmap\",\"colorbar\":{\"outlinewidth\":0,\"ticks\":\"\"},\"colorscale\":[[0.0,\"#0d0887\"],[0.1111111111111111,\"#46039f\"],[0.2222222222222222,\"#7201a8\"],[0.3333333333333333,\"#9c179e\"],[0.4444444444444444,\"#bd3786\"],[0.5555555555555556,\"#d8576b\"],[0.6666666666666666,\"#ed7953\"],[0.7777777777777778,\"#fb9f3a\"],[0.8888888888888888,\"#fdca26\"],[1.0,\"#f0f921\"]]}],\"heatmapgl\":[{\"type\":\"heatmapgl\",\"colorbar\":{\"outlinewidth\":0,\"ticks\":\"\"},\"colorscale\":[[0.0,\"#0d0887\"],[0.1111111111111111,\"#46039f\"],[0.2222222222222222,\"#7201a8\"],[0.3333333333333333,\"#9c179e\"],[0.4444444444444444,\"#bd3786\"],[0.5555555555555556,\"#d8576b\"],[0.6666666666666666,\"#ed7953\"],[0.7777777777777778,\"#fb9f3a\"],[0.8888888888888888,\"#fdca26\"],[1.0,\"#f0f921\"]]}],\"contourcarpet\":[{\"type\":\"contourcarpet\",\"colorbar\":{\"outlinewidth\":0,\"ticks\":\"\"}}],\"contour\":[{\"type\":\"contour\",\"colorbar\":{\"outlinewidth\":0,\"ticks\":\"\"},\"colorscale\":[[0.0,\"#0d0887\"],[0.1111111111111111,\"#46039f\"],[0.2222222222222222,\"#7201a8\"],[0.3333333333333333,\"#9c179e\"],[0.4444444444444444,\"#bd3786\"],[0.5555555555555556,\"#d8576b\"],[0.6666666666666666,\"#ed7953\"],[0.7777777777777778,\"#fb9f3a\"],[0.8888888888888888,\"#fdca26\"],[1.0,\"#f0f921\"]]}],\"surface\":[{\"type\":\"surface\",\"colorbar\":{\"outlinewidth\":0,\"ticks\":\"\"},\"colorscale\":[[0.0,\"#0d0887\"],[0.1111111111111111,\"#46039f\"],[0.2222222222222222,\"#7201a8\"],[0.3333333333333333,\"#9c179e\"],[0.4444444444444444,\"#bd3786\"],[0.5555555555555556,\"#d8576b\"],[0.6666666666666666,\"#ed7953\"],[0.7777777777777778,\"#fb9f3a\"],[0.8888888888888888,\"#fdca26\"],[1.0,\"#f0f921\"]]}],\"mesh3d\":[{\"type\":\"mesh3d\",\"colorbar\":{\"outlinewidth\":0,\"ticks\":\"\"}}],\"scatter\":[{\"fillpattern\":{\"fillmode\":\"overlay\",\"size\":10,\"solidity\":0.2},\"type\":\"scatter\"}],\"parcoords\":[{\"type\":\"parcoords\",\"line\":{\"colorbar\":{\"outlinewidth\":0,\"ticks\":\"\"}}}],\"scatterpolargl\":[{\"type\":\"scatterpolargl\",\"marker\":{\"colorbar\":{\"outlinewidth\":0,\"ticks\":\"\"}}}],\"bar\":[{\"error_x\":{\"color\":\"#2a3f5f\"},\"error_y\":{\"color\":\"#2a3f5f\"},\"marker\":{\"line\":{\"color\":\"#E5ECF6\",\"width\":0.5},\"pattern\":{\"fillmode\":\"overlay\",\"size\":10,\"solidity\":0.2}},\"type\":\"bar\"}],\"scattergeo\":[{\"type\":\"scattergeo\",\"marker\":{\"colorbar\":{\"outlinewidth\":0,\"ticks\":\"\"}}}],\"scatterpolar\":[{\"type\":\"scatterpolar\",\"marker\":{\"colorbar\":{\"outlinewidth\":0,\"ticks\":\"\"}}}],\"histogram\":[{\"marker\":{\"pattern\":{\"fillmode\":\"overlay\",\"size\":10,\"solidity\":0.2}},\"type\":\"histogram\"}],\"scattergl\":[{\"type\":\"scattergl\",\"marker\":{\"colorbar\":{\"outlinewidth\":0,\"ticks\":\"\"}}}],\"scatter3d\":[{\"type\":\"scatter3d\",\"line\":{\"colorbar\":{\"outlinewidth\":0,\"ticks\":\"\"}},\"marker\":{\"colorbar\":{\"outlinewidth\":0,\"ticks\":\"\"}}}],\"scattermapbox\":[{\"type\":\"scattermapbox\",\"marker\":{\"colorbar\":{\"outlinewidth\":0,\"ticks\":\"\"}}}],\"scatterternary\":[{\"type\":\"scatterternary\",\"marker\":{\"colorbar\":{\"outlinewidth\":0,\"ticks\":\"\"}}}],\"scattercarpet\":[{\"type\":\"scattercarpet\",\"marker\":{\"colorbar\":{\"outlinewidth\":0,\"ticks\":\"\"}}}],\"carpet\":[{\"aaxis\":{\"endlinecolor\":\"#2a3f5f\",\"gridcolor\":\"white\",\"linecolor\":\"white\",\"minorgridcolor\":\"white\",\"startlinecolor\":\"#2a3f5f\"},\"baxis\":{\"endlinecolor\":\"#2a3f5f\",\"gridcolor\":\"white\",\"linecolor\":\"white\",\"minorgridcolor\":\"white\",\"startlinecolor\":\"#2a3f5f\"},\"type\":\"carpet\"}],\"table\":[{\"cells\":{\"fill\":{\"color\":\"#EBF0F8\"},\"line\":{\"color\":\"white\"}},\"header\":{\"fill\":{\"color\":\"#C8D4E3\"},\"line\":{\"color\":\"white\"}},\"type\":\"table\"}],\"barpolar\":[{\"marker\":{\"line\":{\"color\":\"#E5ECF6\",\"width\":0.5},\"pattern\":{\"fillmode\":\"overlay\",\"size\":10,\"solidity\":0.2}},\"type\":\"barpolar\"}],\"pie\":[{\"automargin\":true,\"type\":\"pie\"}]},\"layout\":{\"autotypenumbers\":\"strict\",\"colorway\":[\"#636efa\",\"#EF553B\",\"#00cc96\",\"#ab63fa\",\"#FFA15A\",\"#19d3f3\",\"#FF6692\",\"#B6E880\",\"#FF97FF\",\"#FECB52\"],\"font\":{\"color\":\"#2a3f5f\"},\"hovermode\":\"closest\",\"hoverlabel\":{\"align\":\"left\"},\"paper_bgcolor\":\"white\",\"plot_bgcolor\":\"#E5ECF6\",\"polar\":{\"bgcolor\":\"#E5ECF6\",\"angularaxis\":{\"gridcolor\":\"white\",\"linecolor\":\"white\",\"ticks\":\"\"},\"radialaxis\":{\"gridcolor\":\"white\",\"linecolor\":\"white\",\"ticks\":\"\"}},\"ternary\":{\"bgcolor\":\"#E5ECF6\",\"aaxis\":{\"gridcolor\":\"white\",\"linecolor\":\"white\",\"ticks\":\"\"},\"baxis\":{\"gridcolor\":\"white\",\"linecolor\":\"white\",\"ticks\":\"\"},\"caxis\":{\"gridcolor\":\"white\",\"linecolor\":\"white\",\"ticks\":\"\"}},\"coloraxis\":{\"colorbar\":{\"outlinewidth\":0,\"ticks\":\"\"}},\"colorscale\":{\"sequential\":[[0.0,\"#0d0887\"],[0.1111111111111111,\"#46039f\"],[0.2222222222222222,\"#7201a8\"],[0.3333333333333333,\"#9c179e\"],[0.4444444444444444,\"#bd3786\"],[0.5555555555555556,\"#d8576b\"],[0.6666666666666666,\"#ed7953\"],[0.7777777777777778,\"#fb9f3a\"],[0.8888888888888888,\"#fdca26\"],[1.0,\"#f0f921\"]],\"sequentialminus\":[[0.0,\"#0d0887\"],[0.1111111111111111,\"#46039f\"],[0.2222222222222222,\"#7201a8\"],[0.3333333333333333,\"#9c179e\"],[0.4444444444444444,\"#bd3786\"],[0.5555555555555556,\"#d8576b\"],[0.6666666666666666,\"#ed7953\"],[0.7777777777777778,\"#fb9f3a\"],[0.8888888888888888,\"#fdca26\"],[1.0,\"#f0f921\"]],\"diverging\":[[0,\"#8e0152\"],[0.1,\"#c51b7d\"],[0.2,\"#de77ae\"],[0.3,\"#f1b6da\"],[0.4,\"#fde0ef\"],[0.5,\"#f7f7f7\"],[0.6,\"#e6f5d0\"],[0.7,\"#b8e186\"],[0.8,\"#7fbc41\"],[0.9,\"#4d9221\"],[1,\"#276419\"]]},\"xaxis\":{\"gridcolor\":\"white\",\"linecolor\":\"white\",\"ticks\":\"\",\"title\":{\"standoff\":15},\"zerolinecolor\":\"white\",\"automargin\":true,\"zerolinewidth\":2},\"yaxis\":{\"gridcolor\":\"white\",\"linecolor\":\"white\",\"ticks\":\"\",\"title\":{\"standoff\":15},\"zerolinecolor\":\"white\",\"automargin\":true,\"zerolinewidth\":2},\"scene\":{\"xaxis\":{\"backgroundcolor\":\"#E5ECF6\",\"gridcolor\":\"white\",\"linecolor\":\"white\",\"showbackground\":true,\"ticks\":\"\",\"zerolinecolor\":\"white\",\"gridwidth\":2},\"yaxis\":{\"backgroundcolor\":\"#E5ECF6\",\"gridcolor\":\"white\",\"linecolor\":\"white\",\"showbackground\":true,\"ticks\":\"\",\"zerolinecolor\":\"white\",\"gridwidth\":2},\"zaxis\":{\"backgroundcolor\":\"#E5ECF6\",\"gridcolor\":\"white\",\"linecolor\":\"white\",\"showbackground\":true,\"ticks\":\"\",\"zerolinecolor\":\"white\",\"gridwidth\":2}},\"shapedefaults\":{\"line\":{\"color\":\"#2a3f5f\"}},\"annotationdefaults\":{\"arrowcolor\":\"#2a3f5f\",\"arrowhead\":0,\"arrowwidth\":1},\"geo\":{\"bgcolor\":\"white\",\"landcolor\":\"#E5ECF6\",\"subunitcolor\":\"white\",\"showland\":true,\"showlakes\":true,\"lakecolor\":\"white\"},\"title\":{\"x\":0.05},\"mapbox\":{\"style\":\"light\"}}},\"xaxis\":{\"anchor\":\"y\",\"domain\":[0.0,1.0],\"title\":{\"text\":\"words_per_review\"}},\"yaxis\":{\"anchor\":\"x\",\"domain\":[0.0,1.0],\"title\":{\"text\":\"count\"}},\"legend\":{\"tracegroupgap\":0},\"margin\":{\"t\":60},\"barmode\":\"relative\"},                        {\"responsive\": true}                    ).then(function(){\n",
              "                            \n",
              "var gd = document.getElementById('abb3f5ec-0a13-4ffd-bde1-e6cf5381c3ad');\n",
              "var x = new MutationObserver(function (mutations, observer) {{\n",
              "        var display = window.getComputedStyle(gd).display;\n",
              "        if (!display || display === 'none') {{\n",
              "            console.log([gd, 'removed!']);\n",
              "            Plotly.purge(gd);\n",
              "            observer.disconnect();\n",
              "        }}\n",
              "}});\n",
              "\n",
              "// Listen for the removal of the full notebook cells\n",
              "var notebookContainer = gd.closest('#notebook-container');\n",
              "if (notebookContainer) {{\n",
              "    x.observe(notebookContainer, {childList: true});\n",
              "}}\n",
              "\n",
              "// Listen for the clearing of the current output cell\n",
              "var outputEl = gd.closest('.output');\n",
              "if (outputEl) {{\n",
              "    x.observe(outputEl, {childList: true});\n",
              "}}\n",
              "\n",
              "                        })                };                            </script>        </div>\n",
              "</body>\n",
              "</html>"
            ]
          },
          "metadata": {}
        }
      ]
    },
    {
      "cell_type": "markdown",
      "source": [
        "### <font color = 'blue'> **Let's check the distribution of class labels** </font>"
      ],
      "metadata": {
        "id": "_Sq_41lun__T"
      }
    },
    {
      "cell_type": "code",
      "source": [
        "df_400.label.value_counts(ascending = True).plot.barh()"
      ],
      "metadata": {
        "colab": {
          "base_uri": "https://localhost:8080/",
          "height": 447
        },
        "id": "gYVWdkWZecFd",
        "outputId": "3d822def-25e0-4f00-daac-98b49533cfcd"
      },
      "execution_count": 20,
      "outputs": [
        {
          "output_type": "execute_result",
          "data": {
            "text/plain": [
              "<Axes: >"
            ]
          },
          "metadata": {},
          "execution_count": 20
        },
        {
          "output_type": "display_data",
          "data": {
            "text/plain": [
              "<Figure size 640x480 with 1 Axes>"
            ],
            "image/png": "[encoded data removed]"
          },
          "metadata": {}
        }
      ]
    },
    {
      "cell_type": "code",
      "source": [
        "fig = px.box(df_400, x = \"label\", y = \"words_per_review\")\n",
        "fig.show()"
      ],
      "metadata": {
        "colab": {
          "base_uri": "https://localhost:8080/",
          "height": 542
        },
        "id": "PuRT7tMAo-08",
        "outputId": "1526c3b9-cea6-41a9-db5b-fc31d8353020"
      },
      "execution_count": 21,
      "outputs": [
        {
          "output_type": "display_data",
          "data": {
            "text/html": [
              "<html>\n",
              "<head><meta charset=\"utf-8\" /></head>\n",
              "<body>\n",
              "    <div>            <script src=\"https://cdnjs.cloudflare.com/ajax/libs/mathjax/2.7.5/MathJax.js?config=TeX-AMS-MML_SVG\"></script><script type=\"text/javascript\">if (window.MathJax && window.MathJax.Hub && window.MathJax.Hub.Config) {window.MathJax.Hub.Config({SVG: {font: \"STIX-Web\"}});}</script>                <script type=\"text/javascript\">window.PlotlyConfig = {MathJaxConfig: 'local'};</script>\n",
              "        <script charset=\"utf-8\" src=\"https://cdn.plot.ly/plotly-2.24.1.min.js\"></script>                <div id=\"846fdb61-fccc-4ab0-9fd1-93b5ef2524ec\" class=\"plotly-graph-div\" style=\"height:525px; width:100%;\"></div>            <script type=\"text/javascript\">                                    window.PLOTLYENV=window.PLOTLYENV || {};                                    if (document.getElementById(\"846fdb61-fccc-4ab0-9fd1-93b5ef2524ec\")) {                    Plotly.newPlot(                        \"846fdb61-fccc-4ab0-9fd1-93b5ef2524ec\",                        [{\"alignmentgroup\":\"True\",\"hovertemplate\":\"label=%{x}\\u003cbr\\u003ewords_per_review=%{y}\\u003cextra\\u003e\\u003c\\u002fextra\\u003e\",\"legendgroup\":\"\",\"marker\":{\"color\":\"#636efa\"},\"name\":\"\",\"notched\":false,\"offsetgroup\":\"\",\"orientation\":\"v\",\"showlegend\":false,\"x\":[4,4,4,6,0,4,6,4,4,2,4,3,1,2,6,1,4,2,1,2,4,6,3,2,8,7,0,0,4,3,4,6,6,7,3,4,0,1,4,2,3,4,4,4,4,0,0,4,2,4,0,4,4,4,4,1,3,4,2,6,4,1,0,5,1,8,5,5,2,4,8,0,3,5,0,4,2,6,1,4,2,1,1,4,2,4,5,4,4,1,6,4,0,0,5,0,4,0,4,3,8,4,0,6,2,9,0,9,1,6,9,1,5,1,4,4,4,4,1,4,7,6,4,4,4,1,4,4,1,2,7,5,1,2,5,1,4,1,3,4,6,9,3,1,4,4,4,0,4,8,2,4,3,4,0,3,4,4,1,4,2,0,6,3,4,2,6,3,4,0,0,7,6,0,1,4,1,1,4,4,4,4,0,7,4,7,4,9,0,4,6,5,4,9,1,6,4,6,3,4,7,9,4,3,4,1,4,2,4,6,4,4,0,2,4,4,4,4,4,1,6,1,3,1,4,4,4,0,4,1,2,0,4,6,5,4,3,2,3,1,7,4,8,4,2,7,4,7,1,7,4,6,4,9,2,4,7,4,4,3,8,2,1,4,2,4,1,2,3,1,2,5,1,5,7,2,3,0,6,0,6,1,3,2,6,6,8,4,4,2,5,2,1,0,3,6,4,2,4,7,7,4,1,4,4,6,6,1,6,4,2,1,2,2,6,4,4,0,1,5,3,7,4,4,0,6,6,4,4,4,4,9,7,9,4,6,7,2,4,0,4,4,5,3,4,1,2,1,0,5,3,4,0,6,4,4,4,1,4,4,0,4,9,9,1,3,8,6,9,5,2,4,4,3,5,4,4,1,4,2,8,6,2,3,4,0,4,2,3,9,1,2,1,1,6,7,4,3,6,4,2,9,4,6,5,2,4,4,0,6,5,4,4,5,2,6,0,4,4,4,3,4,1,6,8,2,4,6,4,6,6,2,2,1,4,1,4,2,2,1,3,4,3,4,9,7,3,4,4,6,2,6,1,4,2,4,4,4,4,4,2,1,4,1,2,1,5,3,0,5,5,1,1,1,0,4,4,4,7,3,6,4,6,1,2,1,2,5,4,4,4,4,4,4,4,1,4,1,7,4,4,4,4,4,1,4,5,8,2,4,1,6,4,4,4,0,4,1,4,2,2,1,7,1,4,0,4,5,4,4,1,0,8,1,1,4,2,6,6,6,4,5,1,1,4,1,4,2,4,1,1,9,0,1,4,6,2,2,8,6,2,4,4,1,0,1,4,2,4,1,9,2,9,7,0,0,2,4,4,3,4,0,1,4,1,0,4,0,2,4,6,2,2,1,6,3,2,6,0,1,4,3,7,4,2,5,0,6,9,1,1,6,4,1,4,7,4,0,4,1,4,4,4,4,3,4,6,2,1,0,2,1,4,4,3,5,6,4,0,6,5,1,0,4,4,4,8,4,5,6,1,6,5,4,4,3,5,5,3,4,4,0,4,7,4,1,4,2,4,1,4,1,1,2,9,4,2,4,1,4,1,2,6,4,3,1,4,2,3,1,4,4,4,1,5,1,4,0,4,6,7,1,4,2,3,0,1,4,6,1,8,4,1,4,9,3,4,4,4,2,4,1,3,1,3,5,5,4,4,4,7,5,4,0,6,6,1,1,0,4,2,9,9,1,4,5,2,5,7,4,2,1,4,4,7,9,4,9,4,4,4,5,1,2,6,4,2,6,2,1,4,5,1,6,6,9,2,6,4,1,9,6,6,2,0,4,4,1,2,1,6,6,4,3,4,4,1,4,2,7,4,4,6,4,1,4,6,2,4,3,2,9,4,3,6,1,7,7,3,4,6,3,1,4,1,7,6,4,5,4,9,0,1,4,4,4,6,8,8,1,4,4,7,4,4,4,5,4,4,5,1,1,1,1,8,9,6,3,4,5,4,0,4,1,0,5,1,9,4,4,4,0,4,4,6,4,8,1,2,0,4,6,1,5,4,4,4,6,5,2,1,5,4,4,4,4,4,2,1,2,1,4,4,6,3,4,9,7,1,0,4,7,4,3,4,7,6,1,4,4,6,3,4,4,4,6,2,5,3,4,4,7,3,3,4,9,0,4,4,7,6,0,1,8,6,0,4,3,9,1,3,1,2,6,0,4,4,6,2,4,7,0,5,8,4,6,2,1,9,1,4,6,2,8,0,7,3,3,1,7,1,1,4,2,4,6,1,4,7,2,4,4,2,4,1,4,5,4,2,6,2,6,2,1,4,0,6,9,6,6,2,3,4,4,1,4,5,4,9,5,9,4,5,4,2,4,6,2,4,2,4,1,4,4,5,2,3,4,6,4,4,2,4,4,1,8,0,1,2,4,0,2,4,2,0,7,7,1,5,7,4,6,1,4,1,4,4,4,4,2,2,1,9,3,4,4,6,5,4,4,4,5,2,0,5,4,4,4,4,6,0,0,4,5,7,4,2,1,0,6,4,2,6,2,4,4,0,4,3,2,1,4,3,5,6,4,1,7,2,4,0,4,1,5,4,7,2,7,6,4,2,1,0,1,2,0,8,9,0,0,1,6,4,9,5,4,2,4,0,4,4,4,4,4,2,6,5,0,4,2,1,6,2,4,4,4,1,4,1,1,4,4,1,2,6,6,7,2,0,0,2,4,2,0,2,6,1,4,6,8,1,2,4,4,6,5,2,5,4,2,4,6,5,5,0,1,7,2,7,3,4,2,1,6,1,0,2,4,6,9,4,4,4,4,3,3,9,5,5,4,9,4,6,1,7,3,2,5,6,7,0,4,6,2,2,4,3,2,6,6,4,7,4,6,2,2,5,1,0,4,4,4,4,3,6,3,4,4,2,6,0,0,8,9,1,4,0,3,9,7,5,6,4,3,4,6,4,4,2,2,4,3,2,5,3,4,4,4,2,4,7,4,2,0,0,0,5,1,8,1,4,1,6,4,0,4,6,4,4,0,4,4,0,0,0,1,1,2,4,4,3,4,0,4,4,1,6,9,7,8,2,4,5,2,6,2,0,4,4,5,4,4,4,9,1,1,2,3,3,4,6,2,1,4,4,4,4,8,4,0,6,1,6,4,1,3,6,5,2,4,4,4,0,4,6,4,1,5,3,6,4,1,2,3,5,6,1,4,2,4,6,2,4,4,4,1,2,7,4,4,4,2,1,4,3,4,0,4,0,4,1,4,4,2,4,3,3,0,2,4,2,2,4,4,1,9,4,9,8,3,1,4,1,0,2,4,4,0,4,5,2,4,4,4,6,2,7,6,4,6,3,6,3,4,0,4,1,1,6,9,8,4,1,2,4,0,4,4,7,9,3,5,2,0,1,6,7,2,4,4,6,7,8,7,0,2,0,4,2,5,6,7,4,2,2,2,4,2,4,4,4,4,4,4,6,1,4,5,2,0,1,4,1,4,4,5,6,1,4,4,3,4,0,4,3,4,6,1,1,1,6,5,4,4,0,7,6,2,1,0,1,1,1,8,6,1,4,4,4,1,4,3,4,6,4,9,1,4,4,4,4,3,0,7,4,1,6,0,0,3,4,2,4,4,2,4,1,1,3,6,2,7,4,4,4,7,6,4,1,4,7,4,6,3,4,0,2,4,4,6,1,1,4,0,2,8,0,6,1,0,1,4,3,4,3,4,6,3,4,4,3,4,4,4,4,4,6,4,6,9,4,4,1,4,8,0,0,4,5,0,3,0,2,2,5,4,5,4,6,2,9,2,4,1,1,4,1,4,0,4,4,4,4,4,0,6,3,6,4,2,4,4,4,4,9,9,4,3,4,3,4,4,4,2,7,3,0,4,7,1,8,1,5,0,9,1,7,4,4,1,0,5,5,9,6,3,4,8,7,2,4,9,1,1,4,4,5,4,1,9,4,4,4,7,4,7,7,4,4,0,1,4,0,9,2,2,4,9,3,7,4,5,2,2,4,6,1,7,4,4,7,3,4,6,0,6,0,5,4,4,5,4,4,1,7,4,2,3,2,3,4,5,4,1,4,5,4,5,2,2,4,1,0,2,1,2,1,4,4,6,1,2,4,1,6,7,4,4,6,4,4,0,9,4,4,3,2,0,1,4,6,2,0,1,5,2,4,4,0,2,6,0,3,4,4,9,7,2,3,0,2,4,0,6,2,2,6,3,2,3,2,4,1,7,1,0,4,4,2,2,2,4,4,1,1,0,0,3,4,9,2,0,4,2,4,7,3,5,1,1,9,6,6,4,1,4,4,0,4,4,3,4,2,2,4,5,2,6,4,1,9,7,2,6,5,4,5,5,4,4,1,0,1,6,3,5,4,4,5,4,1,7,6,6,4,4,8,4,4,7,6,4,7,5,6,4,1,4,1,2,4,4,4,1,4,4,1,1,2,6,4,7,3,4,3,7,4,0,4,4,2,4,4,5,6,9,4,6,2,6,6,4,1,6,8,6,4,0,4,5,4,6,3,4,4,2,1,0,0,2,6,4,2,4,4,2,2,9,1,6,1,4,2,2,5,9,4,5,1,0,5,4,4,2,6,4,4,0,4,6,4,1,4,2,0,4,7,6,4,4,4,6,0,2,6,4,2,3,1,1,2,0,3,7,2,3,4,7,4,4,4,4,2,4,6,1,2,4,4,4,5,1,4,5,4,4,5,4,0,1,3,1,4,2,2,1,4,2,4,6,5,1,3,2,4,6,4,9,4,4,2,2,4,3,4,4,4,2,3,4,4,2,6,1,0,0,4,4,4,6,0,1,4,7,6,8,3,6,4,2,5,5,4,5,2,4,6,4,1,8,5,3,4,4,4,2,1,2,7,2,4,2,1,1,3,1,4,7,1,6,2,3,1,6,4,1,4,4,7,3,0,1,1,2,1,4,4,2,1,8,9,6,7,4,0,4,6,6,5,4,8,4,6,4,3,2,2,4,1,4,3,3,4,1,7,6,7,1,9,1,9,2,4,3,6,4,0,6,4,4,4,4,2,4,2,1,1,1,2,1,4,3,4,2,4,4,1,4,0,4,7,0,9,1,3,4,4,4,4,4,4,3,6,4,2,2,1,4,4,4,4,4,4,4,0,5,4,1,4,1,5,3,4,6,2,4,4,4,4,8,1,4,4,4,6,4,1,1,4,1,4,4,4,5,3,6,4,0,6,2,1,4,4,9,1,4,5,3,1,1,4,4,1,4,1,1,7,4,4,1,5,4,4,2,4,4,3,6,4,2,2,4,5,4,4,2,3,4,1,7,1,4,2,3,4,2,4,4,4,1,7,4,4,2,4,4,5,0,6,4,6,1,6,4,6,2,0,8,7,7,1,9,2,5,8,9,1,6,5,2,6,2,0,5,4,2,5,4,1,3,4,4,3,4,4,7,5,4,3,4,2,3,4,6,3,6,1,7,6,6,6,4,2,4,5,7,6,5,2,3,1,2,2,5,7,6,4,1,4,6,9,3,4,4,7,1,5,4,2,4,2,2,1,4,4,1,0,4,1,3,2,4,5,7,0,4,2,4,4,6,6,2,1,4,4,0,4,4,5,7,4,0,4,2,6,4,5,4,4,0,2,0,6,2,4,4,5,4,4,4,1,9,4,4,4,3,5,4,3,4,4,2,3,1,3,1,1,1,4,8,7,3,6,3,0,4,2,1,1,4,7,9,4,4,4,3,6,4,1,0,2,5,3,5,4,7,4,2,4,5,4,3,2,7,1,7,1,4,2,4,4,4,0,4,6,4,7,2,0,2,1,5,4,4,1,6,2,0,4,4,6,3,4,4,2,0,4,6,1,5,4,6,4,4,4,5,6,2,4,1,4,4,4,3,0,6,4,9,0,3,4,6,0,4,3,5,7,4,4,7,4,1,4,4,2,5,1,4,7,8,4,3,0,7,4,4,3,4,1,2,4,9,4,3,3,1,2,4,1,8,1,4,2,4,1,5,4,4,4,4,4,2,6,3,3,4,6,0,2,4,9,6,6,1,4,1,4,9,4,8,2,6,1,5,1,4,1,1,0,0,6,1,3,5,1,4,4,2,4,4,4,6,2,3,1,4,7,3,7,4,4,6,4,1,5,4,2,6,4,2,4,4,5,6,4,2,4,4,7,4,6,4,9,2,3,1,4,2,0,4,1,2,7,4,5,1,4,4,4,4,1,1,3,6,1,9,4,3,4,4,4,5,2,4,1,3,4,4,2,4,4,7,6,0,4,1,1,2,1,3,4,4,1,8,1,2,6,1,5,6,4,4,4,5,3,1,1,2,2,3,5,4,3,4,4,0,4,0,2,4,1,5,3,6,0,9,4,4,1,1,4,4,4,4,2,7,0,6,2,4,0,7,6,2,4,1,1,1,6,1,9,9,2,7,0,3,4,4,9,4,4,0,0,7,1,0,5,1,4,2,4,4,4,2,0,0,3,1,4,7,4,2,1,2,0,4,4,4,4,1,6,4,4,0,4,4,4,4,1,2,6,6,6,1,0,2,4,1,4,4,6,9,0,4,1,4,4,2,4,4,2,4,2,4,4,4,7,5,7,4,4,2,0,2,4,4,1,1,1,4,2,1,0,0,4,5,7,6,0,0,1,4,2,4,0,7,4,2,4,2,2,6,2,0,1,4,4,5,5,4,6,1,3,3,1,5,6,5,7,1,4,4,2,0,6,5,5,6,2,4,0,2,4,8,8,4,5,6,7,7,4,4,8,4,0,7,2,6,1,1,4,4,2,0,6,2,1,2,4,5,1,4,8,5,3,2,3,3,1,8,4,9,1,2,5,1,2,2,5,4,4,1,5,1,7,0,8,6,7,4,4,1,2,0,1,4,1,2,4,1,1,4,0,5,4,7,6,0,6,5,4,3,0,2,6,3,1,4,7,4,4,6,1,4,4,1,4,6,0,4,4,4,0,0,0,0,6,2,3,4,4,4,7,4,7,3,1,6,0,7,4,4,4,8,4,4,3,4,4,4,4,4,9,4,2,1,7,9,2,4,4,4,3,1,2,6,2,4,6,4,4,4,1,3,1,4,4,4,1,2,7,3,0,1,6,6,4,5,4,4,9,4,4,1,0,1,0,1,4,4,4,4,4,1,4,0,0,2,5,4,4,4,5,4,4,4,4,4,3,5,9,1,4,4,8,4,3,2,1,4,1,7,7,0,9,2,4,6,1,4,0,4,4,6,3,0,4,4,5,6,4,4,6,5,7,2,4,1,3,9,4,1,5,4,9,0,1,1,1,6,2,4,1,4,3,4,6,6,5,1,4,4,4,4,1,5,0,4,4,4,4,6,0,0,4,4,1,0,7,4,2,4,6,6,2,2,1,3,4,4,2,4,6,4,0,2,6,4,6,4,1,2,7,2,4,3,7,1,9,4,1,1,6,6,6,4,4,4,2,1,7,4,4,4,4,1,3,2,4,4,4,4,1,6,4,0,1,4,1,6,2,4,4,4,7,5,8,4,1,6,4,4,7,4,6,1,4,0,7,4,4,6,2,6,0,2,4,4,5,4,6,3,5,6,7,3,1,4,2,1,6,2,7,3,2,6,5,4,5,6,1,6,2,7,0,1,2,3,2,6,4,6,0,4,1,4,4,8,1,0,6,3,2,5,4,1,2,1,5,6,0,6,1,7,2,7,4,4,0,4,4,4,4,4,4,0,0,1,5,3,0,4,6,0,4,6,4,3,6,4,4,4,1,4,4,2,2,7,6,4,4,4,1,6,1,1,3,4,1,1,4,1,1,4,4,0,4,2,4,5,3,4,0,4,2,6,5,6,9,4,5,1,7,4,6,8,3,4,9,6,7,4,1,6,4,3,8,1,4,6,0,7,1,0,4,2,2,4,4,4,5,0,6,0,0,0,4,7,3,1,4,2,4,5,2,7,3,6,4,9,4,0,6,4,6,1,5,2,0,5,5,2,2,1,0,7,5,4,1,0,6,4,4,3,0,8,6,1,2,4,9,7,4,1,2,0,1,1,4,1,4,0,9,4,4,2,1,4,4,4,4,1,1,4,5,6,0,0,1,4,3,7,3,1,2,4,0,6,7,1,4,1,1,4,0,5,2,1,4,0,4,3,6,4,4,4,7,1,4,6,5,2,6,4,4,8,0,4,6,2,1,2,0,1,2,0,7,4,9,5,4,4,3,2,2,4,5,3,4,0,2,7,1,1,4,5,7,6,4,3,6,4,4,5,6,5,5,4,4,9,7,4,4,4,2,4,4,1,0,4,0,6,4,0,4,4,1,6,4,1,5,4,6,2,4,9,1,3,0,3,4,4,6,4,6,7,6,2,4,4,2,1,6,0,4,5,4,4,4,5,4,8,2,4,5,6,4,7,5,1,6,4,4,4,4,7,7,1,4,2,4,1,2,4,1,4,2,4,4,0,1,7,6,1,7,1,9,4,5,1,1,4,4,4,1,4,7,6,3,1,4,4,9,5,1,4,3,5,6,2,4,2,0,7,0,0,3,3,0,7,3,1,6,6,7,1,1,6,0,3,6,0,4,4,4,4,9,4,2,4,2,4,5,4,4,1,4,4,1,7,0,4,5,5,4,5,6,4,4,4,4,4,5,8,7,0,7,0,8,2,2,5,3,8,2,4,0,1,4,4,1,8,3,0,4,1,2,1,4,1,1,7,2,2,1,5,4,4,6,2,4,0,4,5,4,9,4,1,4,4,4,1,6,6,4,4,6,3,4,7,4,0,1,3,1,4,2,6,4,0,6,4,4,4,4,0,2,2,7,1,2,4,2,6,6,4,4,9,6,1,6,4,2,4,2,3,6,4,1,4,0,2,3,1,6,4,2,4,5,6,4,4,4,6,1,0,4,4,7,7,4,2,4,2,6,1,8,1,1,4,6,3,4,4,4,1,4,1,4,2,6,8,2,6,4,5,3,5,8,4,7,4,7,6,8,4,4,4,0,4,1,5,6,2,0,5,4,7,0,4,3,9,4,6,1,7,1,3,0,0,1,3,6,4,4,3,4,0,1,4,6,4,4,6,6,4,4,1,6,4,4,6,6,4,1,0,4,4,4,4,6,4,1,5,5,6,4,4,1,6,2,6,3,4,6,6,4,2,4,0,6,6,0,4,0,2,4,4,6,6,9,4,7,4,7,6,1,2,8,2,4,1,4,4,4,5,1,9,7,6,2,1,0,4,5,6,3,7,1,3,4,7,4,7,4,0,9,4,4,0,6,2,1,4,4,0,2,0,6,0,4,1,4,4,6,3,0,7,0,4,4,4,2,2,6,4,0,4,4,9,4,4,0,7,4,6,1,0,0,4,2,3,4,6,5,3,4,4,1,4,3,1,1,0,8,1,4,4,2,1,4,4,3,3,3,4,5,4,4,3,1,4,1,4,5,4,6,0,0,0,1,1,1,1,4,4,4,7,4,4,1,5,7,5,4,1,6,4,3,1,4,6,4,4,1,5,6,5,2,7,4,2,2,9,1,3,5,4,6,2,2,0,1,4,1,2,4,0,3,6,2,2,7,4,4,1,1,2,2,0,1,4,5,4,3,3,0,1,8,3,9,1,1,4,4,5,4,4,1,3,8,4,1,4,4,9,2,0,4,0,4,4,2,1,3,5,5,4,7,4,2,4,4,4,3,1,4,4,4,2,3,0,4,6,4,6,5,4,6,1,6,9,4,6,9,0,2,4,1,1,5,1,2,4,6,1,4,1,4,1,8,3,2,6,4,1,4,6,6,6,9,0,6,3,5,4,2,6,9,4,6,3,2,2,4,4,0,2,7,7,4,2,5,3,3,6,0,1,4,5,2,4,2,0,4,2,1,4,4,1,1,4,3,0,4,4,2,4,4,4,4,0,4,5,1,1,1,4,4,0,4,4,6,1,4,4,1,7,8,0,6,6,2,4,0,1,0,4,2,0,4,4,4,3,8,7,8,4,4,0,7,0,6,6,2,4,7,3,4,4,5,3,3,1,4,2,6,7,0,4,6,4,1,7,4,4,2,2,5,1,1,2,4,0,4,5,2,1,2,1,4,4,4,9,4,2,5,2,4,9,4,2,6,0,4,0,7,5,4,7,1,4,3,4,4,3,4,6,4,4,4,4,8,9,2,5,3,0,2,4,5,4,1,5,1,9,4,2,3,8,4,0,7,4,3,3,0,1,4,6,1,2,3,1,3,7,6,6,8,4,4,1,9,0,5,0,4,7,5,8,7,4,0,5,2,6,1,7,3,4,6,0,3,6,4,4,8,2,7,4,4,1,3,4,4,0,4,4,4,2,0,5,0,3,3,2,2,7,6,0,4,4,2,4,2,1,7,4,4,1,0,4,0,6,5,7,2,5,6,5,4,7,0,4,2,6,4,4,4,1,4,4,9,6,4,9,3,9,4,0,0,4,2,4,0,1,0,2,4,9,2,7,1,1,4,3,4,4,4,3,5,1,6,0,2,4,1,4,8,4,9,4,1,4,4,3,6,4,7,7,2,4,1,0,2,6,6,4,5,0,2,1,3,6,1,5,2,4,2,1,1,0,5,3,5,2,4,4,0,3,2,0,4,1,4,7,2,1,9,2,1,4,0,1,9,1,2,4,4,3,8,4,8,5,4,0,1,1,4,5,6,4,5,0,1,6,7,1,4,2,4,5,6,4,0,2,2,9,2,4,4,1,6,2,3,0,0,4,1,4,4,8,4,3,5,4,6,4,2,7,2,1,4,2,4,4,4,1,4,4,9,4,4,1,9,4,1,4,1,1,1,2,4,1,3,1,3,4,0,4,5,0],\"x0\":\" \",\"xaxis\":\"x\",\"y\":[628,588,562,473,1042,426,407,993,546,627,638,402,1223,820,581,491,1529,813,458,874,895,753,805,423,824,503,1100,428,633,475,421,451,404,418,441,488,512,2046,428,504,527,506,414,493,486,438,435,1004,461,449,468,428,405,539,549,556,458,453,545,406,841,523,490,638,445,448,943,577,421,450,449,505,411,421,409,616,424,464,610,466,442,624,467,405,481,679,421,403,456,1365,656,479,544,426,515,496,511,597,694,501,943,481,432,460,559,455,613,414,418,406,702,1112,926,531,442,586,428,515,1100,436,489,523,441,450,703,428,420,714,494,872,602,421,638,427,487,930,406,946,523,444,413,484,788,469,1215,514,479,679,655,517,465,406,548,764,537,402,1752,707,3596,405,1732,429,656,541,403,413,486,522,422,713,415,417,599,480,706,503,1075,573,545,545,700,570,545,640,418,428,1157,401,449,577,507,776,654,788,650,1615,751,576,650,742,442,458,486,443,531,439,518,481,431,435,600,570,409,764,612,550,475,570,715,465,727,812,635,855,677,451,841,588,533,553,488,588,475,564,471,443,743,583,563,688,489,600,428,570,445,675,437,443,688,534,729,646,505,432,874,473,3075,513,2504,491,503,412,842,461,559,452,506,605,513,412,535,520,521,610,662,472,1023,1038,450,470,501,514,1133,2524,439,421,517,785,519,465,1986,790,412,657,411,539,553,428,748,408,460,652,660,598,1040,401,585,477,591,652,1681,452,494,562,425,1005,458,486,2215,446,458,956,454,421,422,515,746,462,420,1149,556,1370,793,492,592,774,801,703,1441,416,442,429,442,556,468,576,1448,466,915,434,410,515,427,545,506,822,405,417,486,571,540,536,525,440,460,557,442,596,648,809,801,482,420,457,497,648,426,513,413,409,597,428,569,554,719,439,467,458,448,488,591,419,1563,601,468,406,601,419,455,415,706,1081,534,408,429,461,1688,495,802,436,481,432,440,432,758,403,584,470,650,451,426,969,858,521,412,616,452,711,591,515,447,423,426,579,749,718,714,648,550,510,852,575,419,753,455,488,631,655,585,786,1079,507,422,972,539,648,471,489,405,531,592,493,618,420,455,494,1396,461,537,647,960,500,586,671,481,439,514,764,617,410,468,554,478,787,519,833,402,495,461,852,407,1084,765,423,600,427,413,432,515,418,506,450,406,491,563,868,497,426,540,592,579,546,1098,658,611,599,2570,428,936,839,458,589,587,442,412,480,619,505,483,770,552,753,430,497,729,412,427,552,717,711,656,670,457,887,435,429,514,457,700,1077,427,406,428,505,527,501,535,1286,452,2115,637,436,467,508,436,439,484,410,523,409,1414,411,432,977,414,432,522,454,453,414,467,785,444,466,1136,611,417,513,509,421,756,1450,525,673,493,410,471,1638,407,493,501,554,1380,425,527,506,465,706,406,486,409,575,637,451,565,1645,406,498,407,453,719,438,477,873,500,643,430,459,597,566,915,874,420,495,538,572,577,614,419,517,535,710,415,981,1420,774,473,445,569,478,981,738,492,625,418,411,467,437,441,461,426,504,663,606,460,459,451,469,564,432,404,426,778,720,416,419,535,573,821,642,630,473,490,1584,461,752,681,448,459,552,644,587,417,490,515,660,638,495,432,414,401,532,500,432,677,419,771,439,431,742,425,426,826,484,432,447,455,463,524,442,478,498,708,974,673,487,675,958,460,1967,658,605,696,515,434,479,620,1956,409,606,476,514,428,434,872,1353,626,556,408,722,644,516,406,451,404,740,601,557,759,442,605,430,651,495,529,539,419,436,488,672,443,508,422,897,947,1609,1668,762,522,409,423,478,657,848,427,481,1829,434,816,427,514,442,430,515,1002,515,1006,552,598,483,885,1385,447,401,534,409,406,472,492,563,454,519,423,447,1002,424,1882,455,431,769,765,491,479,823,2332,1094,1806,420,998,606,482,1420,409,905,689,1022,417,422,1038,677,635,652,418,570,463,484,413,480,784,492,450,573,544,774,503,409,419,481,1042,419,834,517,568,491,455,564,414,416,1331,576,610,459,567,613,429,531,1644,464,402,459,425,909,423,611,496,1148,431,447,443,417,404,1311,435,1105,1967,481,500,1631,428,622,1314,751,675,1026,456,406,624,428,494,550,516,710,630,569,452,516,1876,449,551,978,669,492,467,848,425,927,434,404,485,442,460,1152,485,528,443,419,633,502,820,924,406,718,462,1111,466,870,405,428,1356,957,428,1007,477,696,422,688,752,423,409,532,2626,465,556,533,495,411,630,535,533,485,540,669,421,498,455,642,500,402,451,675,611,420,439,500,467,766,468,405,447,752,700,586,1079,495,508,438,456,481,817,967,705,625,559,450,465,819,849,648,410,445,555,492,578,425,446,724,569,438,728,637,453,640,470,546,1079,803,438,1995,497,660,429,664,601,614,531,744,609,552,410,402,506,808,1838,570,976,648,983,670,694,425,874,405,1829,405,404,408,521,735,428,622,436,530,918,510,624,571,475,694,2029,1741,959,537,1414,413,996,1413,567,723,483,546,423,544,1336,445,484,522,1004,793,638,634,489,563,1210,433,473,451,507,630,439,608,452,610,424,1785,544,905,459,1127,526,522,426,522,1411,411,437,809,769,595,432,852,451,778,468,429,1517,420,710,607,608,979,446,411,650,402,504,460,403,424,422,641,436,501,822,638,1411,417,445,2163,403,911,465,484,1242,875,779,406,523,416,418,451,433,414,1318,419,845,408,705,583,430,1319,465,610,446,576,461,557,544,439,515,715,468,484,979,415,1631,436,460,458,526,487,565,790,407,711,937,641,942,432,725,595,454,540,722,459,447,545,404,475,444,432,537,401,525,481,452,425,426,457,533,1370,545,933,513,550,569,691,422,527,525,795,485,945,417,675,1031,869,495,530,406,526,484,483,429,596,564,681,1649,403,698,1102,629,662,643,1194,488,557,427,671,607,1521,580,499,561,411,858,626,673,638,406,602,431,549,903,408,529,423,423,444,432,463,489,420,765,1265,750,501,449,784,475,402,447,984,535,461,513,540,507,441,500,430,404,460,790,802,431,455,502,556,439,504,925,879,524,413,1042,461,623,516,671,620,546,439,462,758,540,1169,699,818,428,599,495,560,427,450,610,794,2115,519,402,414,790,749,445,414,485,403,735,510,505,570,546,778,481,941,607,426,531,523,507,570,2232,1057,685,544,591,493,710,823,632,420,467,796,574,449,492,422,687,865,436,571,404,408,402,918,410,731,1772,471,425,486,449,589,893,405,421,411,404,510,494,591,753,486,495,477,600,745,484,510,444,646,516,416,406,443,408,1068,725,478,1648,598,419,1282,967,525,431,410,523,2022,453,693,455,546,501,414,424,421,522,702,585,453,416,714,411,459,469,1075,481,1022,563,408,403,466,451,632,495,547,1152,430,463,725,640,706,1477,623,422,415,447,528,504,409,469,624,457,590,539,480,723,643,501,486,585,699,587,615,440,630,424,482,539,437,419,430,975,428,921,1262,432,570,401,723,701,851,426,460,511,490,544,483,880,780,442,3355,463,1252,607,1240,811,412,468,683,718,464,405,1316,491,1227,534,408,477,733,534,655,401,530,513,582,479,424,514,629,424,470,458,477,921,482,486,1262,469,604,565,543,442,585,413,900,484,441,481,1060,528,477,598,1226,938,526,427,841,458,802,540,2161,470,491,561,523,490,2307,510,874,611,466,651,521,646,405,485,870,461,518,408,447,473,1277,1049,568,413,458,444,968,498,742,773,519,1008,422,605,505,455,526,1314,598,401,430,520,982,708,528,553,805,555,712,526,427,757,736,506,410,481,651,596,478,631,778,1127,624,406,1117,625,514,463,993,477,2041,497,577,715,1007,758,1223,540,1042,481,645,574,475,440,453,608,1785,573,457,502,549,1112,1372,538,417,491,436,514,852,425,477,424,1205,508,544,426,750,425,643,455,693,423,403,1229,508,1651,585,942,875,428,427,574,505,510,644,662,431,533,424,408,434,1716,660,501,750,406,428,615,439,693,442,1154,457,408,1340,489,897,866,427,472,478,439,452,646,550,434,507,451,493,560,439,529,438,561,488,748,469,629,767,508,1262,419,417,451,442,519,524,454,401,412,694,451,461,653,413,1316,2019,442,464,424,1478,459,427,465,858,474,525,564,825,429,566,1314,502,506,524,501,677,481,569,553,494,986,784,525,484,931,479,715,676,426,487,401,466,492,625,405,426,667,715,1627,559,1138,408,790,458,615,1443,925,512,407,519,442,477,454,484,617,572,461,524,409,403,421,615,556,763,429,718,408,559,473,463,407,1414,550,411,457,613,1058,478,437,434,403,452,866,1486,737,404,2524,511,420,851,464,504,441,437,514,495,437,561,447,426,465,535,603,1054,491,638,799,415,533,441,945,607,553,437,422,567,616,849,445,419,918,1318,467,845,431,968,610,1185,416,681,432,428,413,411,416,638,427,595,493,407,455,556,406,413,568,496,413,423,412,703,443,626,1399,880,481,843,996,597,445,732,487,481,418,533,741,413,656,700,402,809,450,541,432,462,442,653,434,587,756,594,407,474,415,527,781,401,409,728,1120,410,505,1030,896,423,1011,984,418,1005,774,465,1246,622,485,450,803,633,405,411,596,403,426,477,694,488,1223,462,417,1032,645,450,492,474,467,494,488,423,589,424,465,501,479,514,412,410,716,721,414,412,474,472,403,876,489,497,442,413,454,455,537,428,421,949,547,510,699,821,414,549,1029,602,526,460,971,485,1027,497,478,522,465,526,575,815,637,613,484,532,620,441,771,410,474,510,570,519,839,1127,518,1441,559,442,421,417,429,613,1425,578,429,991,675,1986,406,423,402,820,631,450,630,673,410,621,474,420,949,642,496,683,595,432,583,408,486,1003,876,697,532,729,588,413,520,626,1289,484,431,1137,426,484,653,905,412,460,502,1056,509,451,454,725,455,528,536,450,465,425,765,540,612,432,438,780,622,412,424,406,432,412,502,1417,440,403,655,540,638,495,1114,448,562,404,511,1674,474,602,409,507,596,866,706,456,645,419,547,624,406,489,524,433,418,550,441,427,404,569,770,536,413,462,1460,600,521,607,727,697,526,478,411,440,701,461,823,667,781,406,609,643,588,442,582,439,573,673,543,566,429,838,434,437,458,431,417,886,610,422,429,681,722,507,742,490,1691,460,468,482,472,472,454,513,482,450,515,410,424,709,1584,462,626,449,431,481,453,571,525,577,576,416,466,572,1047,594,409,414,509,646,469,662,611,1122,409,1208,439,570,652,717,694,437,1419,462,609,861,722,649,472,504,467,466,449,1290,540,405,667,493,696,561,553,570,429,686,414,632,444,1131,488,543,566,486,516,483,939,424,443,675,690,406,480,1076,765,524,495,676,492,1329,454,656,539,405,468,447,614,549,441,920,479,980,475,401,680,952,580,438,523,425,509,561,468,681,513,977,401,789,1384,604,508,429,498,556,425,503,848,603,676,485,838,414,629,402,574,469,507,546,501,540,469,508,615,649,459,1111,514,895,418,481,571,692,1644,739,472,482,608,500,418,521,1417,638,809,1136,432,401,618,483,496,593,657,523,1001,579,412,511,420,1005,593,420,841,602,418,745,518,413,450,590,1350,1005,972,490,605,493,506,412,651,631,1506,509,436,533,574,448,684,773,410,551,492,633,540,495,503,874,431,1229,494,1097,688,437,499,441,416,432,451,723,618,454,455,602,541,573,500,687,1668,412,438,404,605,420,564,838,501,403,827,425,417,417,488,513,816,463,435,571,1036,1168,453,802,437,421,455,692,552,493,405,549,598,492,471,422,1320,426,587,403,437,592,611,425,435,428,828,786,536,702,443,414,521,416,435,429,476,422,770,710,450,415,458,478,658,420,415,548,588,435,411,1090,786,493,557,442,449,447,577,895,455,624,416,425,556,473,416,497,636,484,429,816,799,729,1763,1284,417,805,436,451,783,778,457,469,707,433,740,434,1762,850,784,428,489,839,552,526,449,479,437,465,914,548,1345,422,571,526,475,408,751,408,475,442,587,683,925,693,506,1253,530,465,576,422,520,449,501,546,403,457,576,425,453,1168,1146,544,429,434,1967,459,421,412,705,544,404,449,447,471,603,568,1135,419,513,782,566,1276,913,1481,513,519,526,481,510,558,423,569,1319,1289,972,458,618,409,1152,612,899,891,778,413,407,471,534,431,532,735,632,570,635,406,492,457,479,637,403,503,491,648,485,484,428,418,421,634,594,887,418,434,590,449,572,450,462,478,409,799,424,770,514,413,411,422,882,404,969,631,748,454,697,484,548,445,506,659,2318,883,684,552,602,1009,483,1046,963,439,567,524,515,885,1244,407,432,439,543,683,414,692,451,494,401,472,971,1071,421,441,1013,598,445,457,1092,435,435,604,1038,497,472,404,696,478,414,639,606,496,707,528,1157,405,415,2097,781,1354,634,726,629,506,579,539,1563,715,639,468,540,503,740,451,406,784,487,574,481,1163,582,1165,1018,592,602,477,1175,768,442,661,429,652,730,659,550,428,497,430,468,413,425,547,477,432,539,521,752,874,586,406,555,996,442,441,402,526,444,465,480,1224,547,468,569,652,437,608,1246,755,557,624,628,438,726,678,453,938,423,657,638,603,417,473,422,437,401,471,571,598,932,938,900,429,513,820,657,472,412,458,423,621,469,463,476,726,477,969,401,591,476,420,805,482,703,408,402,662,425,509,620,592,997,474,494,455,872,498,1413,622,635,431,447,925,492,458,542,512,467,802,474,528,694,461,1019,518,487,610,440,413,415,412,529,496,596,562,1092,858,402,1078,461,521,436,423,771,1411,676,577,446,793,780,438,917,415,415,401,448,555,541,500,449,515,429,460,531,477,1254,825,500,513,503,429,1271,455,424,723,429,1286,599,683,1621,779,444,437,1141,471,651,768,611,814,474,482,522,443,472,700,1714,451,462,1107,1101,564,823,642,431,459,463,492,403,413,451,927,434,401,800,526,450,423,541,1186,535,507,420,482,491,413,434,1940,881,448,1057,431,600,488,430,451,709,413,497,1690,622,403,421,417,501,416,421,1634,1001,913,413,416,421,553,458,510,543,539,504,441,407,477,536,548,456,651,451,1025,445,608,456,992,532,1024,420,467,462,628,430,475,503,507,440,446,805,406,1547,411,1034,1084,1506,510,459,1190,1486,908,624,807,495,427,408,492,417,458,721,479,478,594,513,490,442,455,517,718,900,641,455,688,574,929,504,1008,1262,423,404,672,565,423,636,497,435,628,489,555,540,555,985,968,599,436,481,585,787,519,464,408,621,1223,711,411,434,499,769,450,702,491,574,1892,601,416,418,1168,422,405,422,714,623,1290,681,433,811,595,536,402,536,428,726,475,509,455,654,429,1165,623,450,477,484,514,502,853,626,783,608,627,1414,438,554,437,699,885,412,457,635,546,588,1416,558,1206,564,802,713,538,579,423,403,661,535,727,480,943,418,427,667,416,1645,656,1535,411,1066,411,606,539,671,540,432,427,906,466,416,1068,442,1965,407,496,989,856,613,909,1311,418,409,903,575,438,509,516,421,494,480,784,820,409,564,728,614,403,479,419,551,644,465,722,410,1017,792,403,407,631,707,601,1674,1061,513,476,437,454,503,555,740,553,551,680,693,746,487,410,543,564,492,626,513,402,485,484,429,669,719,812,497,608,445,1584,959,1247,406,1365,874,517,1528,435,474,536,495,423,614,407,633,977,660,1121,514,446,598,521,885,586,438,500,513,420,1335,479,675,784,720,509,506,1400,461,636,528,605,417,430,1025,1019,406,665,906,640,555,717,665,403,418,609,423,437,421,488,584,413,462,426,477,406,419,767,611,563,691,430,889,472,426,1319,748,689,592,448,553,584,416,459,437,753,406,409,1084,500,486,946,832,553,437,1155,544,960,425,663,619,720,679,420,559,494,467,474,428,404,637,406,1210,609,437,431,939,525,569,1421,497,556,429,530,432,401,543,566,983,663,453,578,405,465,1152,417,443,447,715,699,473,1282,435,542,505,563,680,492,409,874,576,490,433,525,455,868,458,869,968,784,402,567,465,610,503,679,412,478,402,619,424,406,425,422,563,596,419,511,417,1053,565,446,454,1569,1105,477,729,441,575,745,875,623,477,496,909,553,521,1172,466,481,430,477,552,811,482,534,446,1318,450,1112,553,413,2097,403,409,434,405,422,548,505,828,419,739,485,647,973,428,564,464,444,641,466,461,606,620,455,736,403,530,755,501,1997,571,672,428,1417,514,716,415,663,739,462,983,428,979,431,615,615,2504,420,446,409,443,614,503,436,477,452,466,550,459,1166,758,548,502,584,483,577,734,723,513,424,766,455,598,1040,416,752,1115,602,650,494,1460,492,424,556,472,589,679,487,519,461,472,413,1551,1034,485,450,420,909,424,485,1060,517,621,469,468,420,552,654,2029,520,613,786,633,489,440,488,615,479,515,659,545,515,780,416,416,431,624,430,748,413,466,636,669,439,524,1638,778,401,461,1062,429,534,574,403,413,512,640,414,486,435,504,618,525,402,444,879,520,1743,402,477,712,424,561,1005,448,423,485,572,573,446,472,448,651,625,407,828,410,763,437,514,554,1289,414,1318,613,449,491,1520,1094,405,451,434,486,421,837,441,723,586,901,478,495,580,578,511,488,442,626,527,605,767,422,468,490,604,1107,533,437,423,811,636,412,612,614,642,474,508,452,429,497,497,520,484,469,420,401,406,767,438,479,1506,406,1550,752,436,542,544,566,431,798,742,438,437,411,1007,568,834,413,1117,457,423,681,574,983,417,505,412,655,520,583,1136,3573,859,470,428,544,455,481,461,1882,642,425,652,615,1126,466,577,499,594,509,579,438,614,923,1385,828,1688,468,435,414,478,432,429,786,413,1217,684,566,861,482,1740,792,432,1037,526,620,723,430,595,549,423,616,470,526,711,811,646,475,501,486,597,630,513,1521,592,416,537,438,525,793,441,688,407,802,437,1411,622,552,469,717,427,810,444,589,482,432,739,577,403,524,580,883,485,457,646,595,682,473,402,467,439,1225,406,434,816,1057,501,575,409,937,665,671,467,404,406,435,659,461,486,518,528,905,403,617,468,898,410,1350,481,1590,547,422,1666,698,747,481,470,1194,859,742,502,596,430,431,440,448,524,502,406,494,491,784,466,410,558,581,680,440,710,406,596,553,446,485,416,469,432,438,582,407,680,478,546,493,567,464,678,1111,733,584,581,408,580,998,401,768,461,407,407,890,763,570,402,416,810,529,969,447,484,405,471,624,472,611,534,736,526,421,550,610,740,891,897,787,522,577,493,438,437,699,419,414,682,466,436,450,447,1298,401,1017,549,619,605,407,445,533,594,1467,430,667,849,897,439,555,734,904,905,522,492,412,590,424,460,423,457,430,1329,1848,406,422,511,1023,1124,1261,720,1967,456,519,1131,540,421,407,1690,1890,531,1096,442,707,577,624,427,435,479,433,488,559,423,1038,1062,512,768,1191,884,638,705,571,526,432,735,407,780,422,501,429,653,443,447,573,777,561,489,432,662,473,576,411,409,416,882,404,525,530,538,943,689,489,424,542,402,513,619,495,627,463,1940,447,447,479,484,484,401,407,698,624,817,718,1766,567,675,861,463,726,988,545,516,407,655,655,434,905,517,642,437,1746,501,464,525,434,780,461,497,591,566,442,424,1124,1254,935,478,947,1759,522,506,813,406,402,671,444,479,676,615,456,713,1227,712,590,425,429,628,555,538,407,778,465,416,555,407,469,694,423,570,604,1108,407,485,403,484,546,591,689,423,455,1042,810,409,414,433,413,516,1312,423,1136,486,404,529,662,443,487,869,408,410,468,1697,483,817,470,619,413,445,453,408,444,440,874,423,702,455,724,412,544,637,1297,514,447,497,747,638,755,401,502,443,829,510,1047,626,484,722,523,403,982,1999,406,783,519,519,692,1101,963,520,436,454,525,401,411,417,1123,969,801,694,469,483,491,472,1286,596,414,1002,573,421,403,715,1325,432,1111,518,522,433,503,1003,414,622,1627,659,728,459,434,414,530,734,852,1508,403,575,620,521,1326,1086,419,649,544,1857,411,632,502,621,417,434,495,811,427,428,418,626,404,602,495,624,525,480,1053,405,461,819,1289,406,703,494,565,450,475,408,401,488,429,450,422,555,703,580,851,1316,475,423,1651,427,589,1318,459,541,474,799,450,413,477,431,562,845,712,742,554,413,1052,717,667,562,417,691,447,597,539,479,514,442,570,404,450,492,473,408,485,440,533,418,422,401,489,418,656,424,475,462,441,484,688,422,875,541,650,431,1380,603,807,413,649,438,513,435,1124,460,446,448,420,573,404,424,582,420,550,566,412,401,402,430,577,416,437,509,1108,1015,484,439,618,421,2593,578,429,402,470,617,614,993,447,409,535,494,960,694,671,442,427,429,469,1034,416,650,2446,591,623,473,539,504,853,406,454,428,673,849,684,879,502,419,982,910,599,638,457,973,507,465,572,807,528,409,614,432,613,706,546,470,754,407,699,1124,808,1095,657,493,483,563,446,520,627,460,460,455,721,577,473,466,993,2186,492,404,571,464,502,635,476,943,870,625,558,587,547,745,495,420,402,595,582,438,585,418,602,522,439,596,620,403,1138,930,527,494,520,439,463,700,409,463,462,428,486,441,409,801,547,418,752,1252,531,501,564,823,758,403,526,782,549,827,483,549,621,622,497,463,522,407,517,928,497,510,675,1270,545,474,425,463,458,516,1034,663,699,762,688,552,417,697,537,483,587,407,486,506,1013,756,850,660,494,492,470,623,625,1075,445,523,599,2206,619,487,810,591,563,493,547,589,1156,781,428,419,788,455,510,412,1485,513,565,451,708,627,423,794,509,874,594,562,575,533,722,419,402,976,488,1140,610,479,640,518,1891,839,572,434,522,689,454,595,785,1676,404,1477,509,413,483,1037,561,658,729,417,1481,455,500,434,683,749,425,2332,744,762,619,1104,688,473,790,431,854,409,555,533,485,432,634,427,574,1000,470,549,442,401,420,706,993,479,421,623,534,616,414,410,432,405,525,848,872,438,775,404,765,593,508,742,402,533,729,554,470,426,448,451,709,617,468,403,423,458,741,504,709,962,728,583,521,462,765,578,422,724,942,690,576,403,731,516,568,636,403,494,684,442,696,685,581,436],\"y0\":\" \",\"yaxis\":\"y\",\"type\":\"box\"}],                        {\"template\":{\"data\":{\"histogram2dcontour\":[{\"type\":\"histogram2dcontour\",\"colorbar\":{\"outlinewidth\":0,\"ticks\":\"\"},\"colorscale\":[[0.0,\"#0d0887\"],[0.1111111111111111,\"#46039f\"],[0.2222222222222222,\"#7201a8\"],[0.3333333333333333,\"#9c179e\"],[0.4444444444444444,\"#bd3786\"],[0.5555555555555556,\"#d8576b\"],[0.6666666666666666,\"#ed7953\"],[0.7777777777777778,\"#fb9f3a\"],[0.8888888888888888,\"#fdca26\"],[1.0,\"#f0f921\"]]}],\"choropleth\":[{\"type\":\"choropleth\",\"colorbar\":{\"outlinewidth\":0,\"ticks\":\"\"}}],\"histogram2d\":[{\"type\":\"histogram2d\",\"colorbar\":{\"outlinewidth\":0,\"ticks\":\"\"},\"colorscale\":[[0.0,\"#0d0887\"],[0.1111111111111111,\"#46039f\"],[0.2222222222222222,\"#7201a8\"],[0.3333333333333333,\"#9c179e\"],[0.4444444444444444,\"#bd3786\"],[0.5555555555555556,\"#d8576b\"],[0.6666666666666666,\"#ed7953\"],[0.7777777777777778,\"#fb9f3a\"],[0.8888888888888888,\"#fdca26\"],[1.0,\"#f0f921\"]]}],\"heatmap\":[{\"type\":\"heatmap\",\"colorbar\":{\"outlinewidth\":0,\"ticks\":\"\"},\"colorscale\":[[0.0,\"#0d0887\"],[0.1111111111111111,\"#46039f\"],[0.2222222222222222,\"#7201a8\"],[0.3333333333333333,\"#9c179e\"],[0.4444444444444444,\"#bd3786\"],[0.5555555555555556,\"#d8576b\"],[0.6666666666666666,\"#ed7953\"],[0.7777777777777778,\"#fb9f3a\"],[0.8888888888888888,\"#fdca26\"],[1.0,\"#f0f921\"]]}],\"heatmapgl\":[{\"type\":\"heatmapgl\",\"colorbar\":{\"outlinewidth\":0,\"ticks\":\"\"},\"colorscale\":[[0.0,\"#0d0887\"],[0.1111111111111111,\"#46039f\"],[0.2222222222222222,\"#7201a8\"],[0.3333333333333333,\"#9c179e\"],[0.4444444444444444,\"#bd3786\"],[0.5555555555555556,\"#d8576b\"],[0.6666666666666666,\"#ed7953\"],[0.7777777777777778,\"#fb9f3a\"],[0.8888888888888888,\"#fdca26\"],[1.0,\"#f0f921\"]]}],\"contourcarpet\":[{\"type\":\"contourcarpet\",\"colorbar\":{\"outlinewidth\":0,\"ticks\":\"\"}}],\"contour\":[{\"type\":\"contour\",\"colorbar\":{\"outlinewidth\":0,\"ticks\":\"\"},\"colorscale\":[[0.0,\"#0d0887\"],[0.1111111111111111,\"#46039f\"],[0.2222222222222222,\"#7201a8\"],[0.3333333333333333,\"#9c179e\"],[0.4444444444444444,\"#bd3786\"],[0.5555555555555556,\"#d8576b\"],[0.6666666666666666,\"#ed7953\"],[0.7777777777777778,\"#fb9f3a\"],[0.8888888888888888,\"#fdca26\"],[1.0,\"#f0f921\"]]}],\"surface\":[{\"type\":\"surface\",\"colorbar\":{\"outlinewidth\":0,\"ticks\":\"\"},\"colorscale\":[[0.0,\"#0d0887\"],[0.1111111111111111,\"#46039f\"],[0.2222222222222222,\"#7201a8\"],[0.3333333333333333,\"#9c179e\"],[0.4444444444444444,\"#bd3786\"],[0.5555555555555556,\"#d8576b\"],[0.6666666666666666,\"#ed7953\"],[0.7777777777777778,\"#fb9f3a\"],[0.8888888888888888,\"#fdca26\"],[1.0,\"#f0f921\"]]}],\"mesh3d\":[{\"type\":\"mesh3d\",\"colorbar\":{\"outlinewidth\":0,\"ticks\":\"\"}}],\"scatter\":[{\"fillpattern\":{\"fillmode\":\"overlay\",\"size\":10,\"solidity\":0.2},\"type\":\"scatter\"}],\"parcoords\":[{\"type\":\"parcoords\",\"line\":{\"colorbar\":{\"outlinewidth\":0,\"ticks\":\"\"}}}],\"scatterpolargl\":[{\"type\":\"scatterpolargl\",\"marker\":{\"colorbar\":{\"outlinewidth\":0,\"ticks\":\"\"}}}],\"bar\":[{\"error_x\":{\"color\":\"#2a3f5f\"},\"error_y\":{\"color\":\"#2a3f5f\"},\"marker\":{\"line\":{\"color\":\"#E5ECF6\",\"width\":0.5},\"pattern\":{\"fillmode\":\"overlay\",\"size\":10,\"solidity\":0.2}},\"type\":\"bar\"}],\"scattergeo\":[{\"type\":\"scattergeo\",\"marker\":{\"colorbar\":{\"outlinewidth\":0,\"ticks\":\"\"}}}],\"scatterpolar\":[{\"type\":\"scatterpolar\",\"marker\":{\"colorbar\":{\"outlinewidth\":0,\"ticks\":\"\"}}}],\"histogram\":[{\"marker\":{\"pattern\":{\"fillmode\":\"overlay\",\"size\":10,\"solidity\":0.2}},\"type\":\"histogram\"}],\"scattergl\":[{\"type\":\"scattergl\",\"marker\":{\"colorbar\":{\"outlinewidth\":0,\"ticks\":\"\"}}}],\"scatter3d\":[{\"type\":\"scatter3d\",\"line\":{\"colorbar\":{\"outlinewidth\":0,\"ticks\":\"\"}},\"marker\":{\"colorbar\":{\"outlinewidth\":0,\"ticks\":\"\"}}}],\"scattermapbox\":[{\"type\":\"scattermapbox\",\"marker\":{\"colorbar\":{\"outlinewidth\":0,\"ticks\":\"\"}}}],\"scatterternary\":[{\"type\":\"scatterternary\",\"marker\":{\"colorbar\":{\"outlinewidth\":0,\"ticks\":\"\"}}}],\"scattercarpet\":[{\"type\":\"scattercarpet\",\"marker\":{\"colorbar\":{\"outlinewidth\":0,\"ticks\":\"\"}}}],\"carpet\":[{\"aaxis\":{\"endlinecolor\":\"#2a3f5f\",\"gridcolor\":\"white\",\"linecolor\":\"white\",\"minorgridcolor\":\"white\",\"startlinecolor\":\"#2a3f5f\"},\"baxis\":{\"endlinecolor\":\"#2a3f5f\",\"gridcolor\":\"white\",\"linecolor\":\"white\",\"minorgridcolor\":\"white\",\"startlinecolor\":\"#2a3f5f\"},\"type\":\"carpet\"}],\"table\":[{\"cells\":{\"fill\":{\"color\":\"#EBF0F8\"},\"line\":{\"color\":\"white\"}},\"header\":{\"fill\":{\"color\":\"#C8D4E3\"},\"line\":{\"color\":\"white\"}},\"type\":\"table\"}],\"barpolar\":[{\"marker\":{\"line\":{\"color\":\"#E5ECF6\",\"width\":0.5},\"pattern\":{\"fillmode\":\"overlay\",\"size\":10,\"solidity\":0.2}},\"type\":\"barpolar\"}],\"pie\":[{\"automargin\":true,\"type\":\"pie\"}]},\"layout\":{\"autotypenumbers\":\"strict\",\"colorway\":[\"#636efa\",\"#EF553B\",\"#00cc96\",\"#ab63fa\",\"#FFA15A\",\"#19d3f3\",\"#FF6692\",\"#B6E880\",\"#FF97FF\",\"#FECB52\"],\"font\":{\"color\":\"#2a3f5f\"},\"hovermode\":\"closest\",\"hoverlabel\":{\"align\":\"left\"},\"paper_bgcolor\":\"white\",\"plot_bgcolor\":\"#E5ECF6\",\"polar\":{\"bgcolor\":\"#E5ECF6\",\"angularaxis\":{\"gridcolor\":\"white\",\"linecolor\":\"white\",\"ticks\":\"\"},\"radialaxis\":{\"gridcolor\":\"white\",\"linecolor\":\"white\",\"ticks\":\"\"}},\"ternary\":{\"bgcolor\":\"#E5ECF6\",\"aaxis\":{\"gridcolor\":\"white\",\"linecolor\":\"white\",\"ticks\":\"\"},\"baxis\":{\"gridcolor\":\"white\",\"linecolor\":\"white\",\"ticks\":\"\"},\"caxis\":{\"gridcolor\":\"white\",\"linecolor\":\"white\",\"ticks\":\"\"}},\"coloraxis\":{\"colorbar\":{\"outlinewidth\":0,\"ticks\":\"\"}},\"colorscale\":{\"sequential\":[[0.0,\"#0d0887\"],[0.1111111111111111,\"#46039f\"],[0.2222222222222222,\"#7201a8\"],[0.3333333333333333,\"#9c179e\"],[0.4444444444444444,\"#bd3786\"],[0.5555555555555556,\"#d8576b\"],[0.6666666666666666,\"#ed7953\"],[0.7777777777777778,\"#fb9f3a\"],[0.8888888888888888,\"#fdca26\"],[1.0,\"#f0f921\"]],\"sequentialminus\":[[0.0,\"#0d0887\"],[0.1111111111111111,\"#46039f\"],[0.2222222222222222,\"#7201a8\"],[0.3333333333333333,\"#9c179e\"],[0.4444444444444444,\"#bd3786\"],[0.5555555555555556,\"#d8576b\"],[0.6666666666666666,\"#ed7953\"],[0.7777777777777778,\"#fb9f3a\"],[0.8888888888888888,\"#fdca26\"],[1.0,\"#f0f921\"]],\"diverging\":[[0,\"#8e0152\"],[0.1,\"#c51b7d\"],[0.2,\"#de77ae\"],[0.3,\"#f1b6da\"],[0.4,\"#fde0ef\"],[0.5,\"#f7f7f7\"],[0.6,\"#e6f5d0\"],[0.7,\"#b8e186\"],[0.8,\"#7fbc41\"],[0.9,\"#4d9221\"],[1,\"#276419\"]]},\"xaxis\":{\"gridcolor\":\"white\",\"linecolor\":\"white\",\"ticks\":\"\",\"title\":{\"standoff\":15},\"zerolinecolor\":\"white\",\"automargin\":true,\"zerolinewidth\":2},\"yaxis\":{\"gridcolor\":\"white\",\"linecolor\":\"white\",\"ticks\":\"\",\"title\":{\"standoff\":15},\"zerolinecolor\":\"white\",\"automargin\":true,\"zerolinewidth\":2},\"scene\":{\"xaxis\":{\"backgroundcolor\":\"#E5ECF6\",\"gridcolor\":\"white\",\"linecolor\":\"white\",\"showbackground\":true,\"ticks\":\"\",\"zerolinecolor\":\"white\",\"gridwidth\":2},\"yaxis\":{\"backgroundcolor\":\"#E5ECF6\",\"gridcolor\":\"white\",\"linecolor\":\"white\",\"showbackground\":true,\"ticks\":\"\",\"zerolinecolor\":\"white\",\"gridwidth\":2},\"zaxis\":{\"backgroundcolor\":\"#E5ECF6\",\"gridcolor\":\"white\",\"linecolor\":\"white\",\"showbackground\":true,\"ticks\":\"\",\"zerolinecolor\":\"white\",\"gridwidth\":2}},\"shapedefaults\":{\"line\":{\"color\":\"#2a3f5f\"}},\"annotationdefaults\":{\"arrowcolor\":\"#2a3f5f\",\"arrowhead\":0,\"arrowwidth\":1},\"geo\":{\"bgcolor\":\"white\",\"landcolor\":\"#E5ECF6\",\"subunitcolor\":\"white\",\"showland\":true,\"showlakes\":true,\"lakecolor\":\"white\"},\"title\":{\"x\":0.05},\"mapbox\":{\"style\":\"light\"}}},\"xaxis\":{\"anchor\":\"y\",\"domain\":[0.0,1.0],\"title\":{\"text\":\"label\"}},\"yaxis\":{\"anchor\":\"x\",\"domain\":[0.0,1.0],\"title\":{\"text\":\"words_per_review\"}},\"legend\":{\"tracegroupgap\":0},\"margin\":{\"t\":60},\"boxmode\":\"group\"},                        {\"responsive\": true}                    ).then(function(){\n",
              "                            \n",
              "var gd = document.getElementById('846fdb61-fccc-4ab0-9fd1-93b5ef2524ec');\n",
              "var x = new MutationObserver(function (mutations, observer) {{\n",
              "        var display = window.getComputedStyle(gd).display;\n",
              "        if (!display || display === 'none') {{\n",
              "            console.log([gd, 'removed!']);\n",
              "            Plotly.purge(gd);\n",
              "            observer.disconnect();\n",
              "        }}\n",
              "}});\n",
              "\n",
              "// Listen for the removal of the full notebook cells\n",
              "var notebookContainer = gd.closest('#notebook-container');\n",
              "if (notebookContainer) {{\n",
              "    x.observe(notebookContainer, {childList: true});\n",
              "}}\n",
              "\n",
              "// Listen for the clearing of the current output cell\n",
              "var outputEl = gd.closest('.output');\n",
              "if (outputEl) {{\n",
              "    x.observe(outputEl, {childList: true});\n",
              "}}\n",
              "\n",
              "                        })                };                            </script>        </div>\n",
              "</body>\n",
              "</html>"
            ]
          },
          "metadata": {}
        }
      ]
    },
    {
      "cell_type": "markdown",
      "source": [
        "#### <font color = 'baby pink'> **We can clearly see that class 4 has the highest frequency and class 8 has the lowest** </font>"
      ],
      "metadata": {
        "id": "ctRdCn9pveoY"
      }
    },
    {
      "cell_type": "markdown",
      "source": [
        "#  <font color = 'blue'> **Initializing the class weight function**"
      ],
      "metadata": {
        "id": "2NlkoQi6jghb"
      }
    },
    {
      "cell_type": "code",
      "source": [
        "# 1. Compute the class frequencies:\n",
        "class_weights = df['label'].value_counts(normalize=True, sort=False)\n",
        "\n",
        "# 2. Sort weights by index (i.e., by label):\n",
        "class_weights = class_weights.sort_index()\n",
        "\n",
        "# 3. Compute the inverse of the class frequencies:\n",
        "class_weights = 1/class_weights\n",
        "\n",
        "# 4. Normalize the weights so they sum up to 1 (this step is optional but can be useful):\n",
        "class_weights = class_weights / class_weights.sum()\n",
        "\n",
        "# 5. Convert the weights to a PyTorch tensor:\n",
        "weights = torch.tensor(class_weights.values, dtype=torch.float)\n",
        "weights"
      ],
      "metadata": {
        "colab": {
          "base_uri": "https://localhost:8080/"
        },
        "id": "2NnJyMjzjen5",
        "outputId": "7fa8ccc3-ea27-4eea-d3bc-feaaacd03f88"
      },
      "execution_count": 22,
      "outputs": [
        {
          "output_type": "execute_result",
          "data": {
            "text/plain": [
              "tensor([0.0864, 0.0834, 0.0646, 0.0791, 0.0396, 0.0701, 0.1296, 0.1194, 0.1576,\n",
              "        0.1700])"
            ]
          },
          "metadata": {},
          "execution_count": 22
        }
      ]
    },
    {
      "cell_type": "code",
      "source": [
        "# Restting the format\n",
        "df.reset_format()\n",
        "df"
      ],
      "metadata": {
        "colab": {
          "base_uri": "https://localhost:8080/"
        },
        "id": "FMV2hQ1EtkTF",
        "outputId": "008d0efa-88a9-4970-967f-96ac9c9d73b9"
      },
      "execution_count": 23,
      "outputs": [
        {
          "output_type": "execute_result",
          "data": {
            "text/plain": [
              "Dataset({\n",
              "    features: ['text', 'label'],\n",
              "    num_rows: 188878\n",
              "})"
            ]
          },
          "metadata": {},
          "execution_count": 23
        }
      ]
    },
    {
      "cell_type": "code",
      "source": [
        "# We know this information from how we created this dataset\n",
        "class_names = ['c#', 'java', 'php','javascript', 'android', 'jquery', 'c++',  'python', 'iphone', 'asp.net']\n",
        "\n",
        "# Cast the 'label' column of stack_selected_columns to the ClassLabel type with specified class names from class_names.\n",
        "df = df.cast_column('label', ClassLabel(names = class_names))"
      ],
      "metadata": {
        "id": "5EkTSmzNwpeU"
      },
      "execution_count": 24,
      "outputs": []
    },
    {
      "cell_type": "code",
      "source": [
        "df.features"
      ],
      "metadata": {
        "colab": {
          "base_uri": "https://localhost:8080/"
        },
        "id": "ejUqW9IN59Fc",
        "outputId": "c0679245-2a93-4d2d-dc99-ab7d35245681"
      },
      "execution_count": 25,
      "outputs": [
        {
          "output_type": "execute_result",
          "data": {
            "text/plain": [
              "{'text': Value(dtype='string', id=None),\n",
              " 'label': ClassLabel(names=['c#', 'java', 'php', 'javascript', 'android', 'jquery', 'c++', 'python', 'iphone', 'asp.net'], id=None)}"
            ]
          },
          "metadata": {},
          "execution_count": 25
        }
      ]
    },
    {
      "cell_type": "markdown",
      "source": [
        "We can observe that the text are now categorical data instead of numbers"
      ],
      "metadata": {
        "id": "O44fVqnD6eBl"
      }
    },
    {
      "cell_type": "markdown",
      "source": [
        "### <font color = 'blue'> **Filtering out rows with words > 400 for our analysis** </font>"
      ],
      "metadata": {
        "id": "YhqMf4q4wxxB"
      }
    },
    {
      "cell_type": "code",
      "source": [
        "def filter_long_samples(ex):\n",
        "  text = ex['text']\n",
        "  return text is not None and len(text.split()) > 400"
      ],
      "metadata": {
        "id": "tTsB6U9lwp8g"
      },
      "execution_count": 26,
      "outputs": []
    },
    {
      "cell_type": "code",
      "source": [
        "df_400 = df.filter(filter_long_samples)\n",
        "df_400"
      ],
      "metadata": {
        "colab": {
          "base_uri": "https://localhost:8080/"
        },
        "id": "joSamZ0exSNz",
        "outputId": "4c204012-f92d-44ef-9927-982354861139"
      },
      "execution_count": 27,
      "outputs": [
        {
          "output_type": "execute_result",
          "data": {
            "text/plain": [
              "Dataset({\n",
              "    features: ['text', 'label'],\n",
              "    num_rows: 4772\n",
              "})"
            ]
          },
          "metadata": {},
          "execution_count": 27
        }
      ]
    },
    {
      "cell_type": "code",
      "source": [
        "# First, split the dataset into a 60% training set and a 40% temporary set (to be further split).\n",
        "# Use stratified sampling based on the 'label' column to ensure that each split has a similar distribution of labels.\n",
        "test_val_splits = df_400.train_test_split(test_size=0.4, stratify_by_column=\"label\", seed=42)\n",
        "\n",
        "# Extract the 60% training dataset.\n",
        "train_split = test_val_splits['train']\n",
        "\n",
        "# # Split the 40% temporary set into two equal parts: validation (20%) and test (20%).\n",
        "# # Again, use stratified sampling based on the 'label' column.\n",
        "test_val_splits_again = test_val_splits['test'].train_test_split(test_size=0.5, stratify_by_column=\"label\", seed=42)\n",
        "\n",
        "# Extract the validation and test datasets.\n",
        "val_split = test_val_splits_again['train']\n",
        "test_split = test_val_splits_again['test']"
      ],
      "metadata": {
        "id": "LEsybgvDxY3P"
      },
      "execution_count": 28,
      "outputs": []
    },
    {
      "cell_type": "code",
      "source": [
        "test_val_splits"
      ],
      "metadata": {
        "colab": {
          "base_uri": "https://localhost:8080/"
        },
        "id": "hgOL8M4h8ifd",
        "outputId": "b990e719-cf82-45d1-eba2-20fb12f579a0"
      },
      "execution_count": 29,
      "outputs": [
        {
          "output_type": "execute_result",
          "data": {
            "text/plain": [
              "DatasetDict({\n",
              "    train: Dataset({\n",
              "        features: ['text', 'label'],\n",
              "        num_rows: 2863\n",
              "    })\n",
              "    test: Dataset({\n",
              "        features: ['text', 'label'],\n",
              "        num_rows: 1909\n",
              "    })\n",
              "})"
            ]
          },
          "metadata": {},
          "execution_count": 29
        }
      ]
    },
    {
      "cell_type": "code",
      "source": [
        "test_val_splits_again"
      ],
      "metadata": {
        "colab": {
          "base_uri": "https://localhost:8080/"
        },
        "id": "5sZB_y5Y9CXs",
        "outputId": "81b1e40a-2758-4220-d617-2c627b622483"
      },
      "execution_count": 30,
      "outputs": [
        {
          "output_type": "execute_result",
          "data": {
            "text/plain": [
              "DatasetDict({\n",
              "    train: Dataset({\n",
              "        features: ['text', 'label'],\n",
              "        num_rows: 954\n",
              "    })\n",
              "    test: Dataset({\n",
              "        features: ['text', 'label'],\n",
              "        num_rows: 955\n",
              "    })\n",
              "})"
            ]
          },
          "metadata": {},
          "execution_count": 30
        }
      ]
    },
    {
      "cell_type": "code",
      "source": [
        "# combine train, val splits into one dataset\n",
        "train_val_dataset = DatasetDict({'train': train_split, 'val': val_split})\n",
        "\n",
        "# create test dataset from test split\n",
        "test_dataset = DatasetDict({'test': test_split})"
      ],
      "metadata": {
        "id": "txqDkmlp8mwE"
      },
      "execution_count": 31,
      "outputs": []
    },
    {
      "cell_type": "code",
      "source": [
        "train_val_dataset"
      ],
      "metadata": {
        "colab": {
          "base_uri": "https://localhost:8080/"
        },
        "id": "prFCL8ps82NM",
        "outputId": "65f0f95f-1b51-47e9-c1f8-a08b594ce9b1"
      },
      "execution_count": 32,
      "outputs": [
        {
          "output_type": "execute_result",
          "data": {
            "text/plain": [
              "DatasetDict({\n",
              "    train: Dataset({\n",
              "        features: ['text', 'label'],\n",
              "        num_rows: 2863\n",
              "    })\n",
              "    val: Dataset({\n",
              "        features: ['text', 'label'],\n",
              "        num_rows: 954\n",
              "    })\n",
              "})"
            ]
          },
          "metadata": {},
          "execution_count": 32
        }
      ]
    },
    {
      "cell_type": "code",
      "source": [
        "test_dataset"
      ],
      "metadata": {
        "colab": {
          "base_uri": "https://localhost:8080/"
        },
        "id": "ZvAte5KI84ld",
        "outputId": "3f889445-9f39-4e33-c7cb-c17da5d25281"
      },
      "execution_count": 33,
      "outputs": [
        {
          "output_type": "execute_result",
          "data": {
            "text/plain": [
              "DatasetDict({\n",
              "    test: Dataset({\n",
              "        features: ['text', 'label'],\n",
              "        num_rows: 955\n",
              "    })\n",
              "})"
            ]
          },
          "metadata": {},
          "execution_count": 33
        }
      ]
    },
    {
      "cell_type": "markdown",
      "source": [
        "### <font color = 'fuschia pink'> **Create small subset for experimentation** </font>"
      ],
      "metadata": {
        "id": "VznppThs9la4"
      }
    },
    {
      "cell_type": "code",
      "source": [
        "# Objective: Create a balanced subset from the 'train_val_dataset' where each label has an equal number of samples.\n",
        "# The resulting subset is stored in a 'DatasetDict' structure for easy management of train and validation splits.\n",
        "\n",
        "train_val_subset = DatasetDict()\n",
        "\n",
        "for item in ['train', 'val']:\n",
        "  texts = []\n",
        "  labels = []\n",
        "\n",
        "  for label in range(10):\n",
        "    labels_text = train_val_dataset[item].filter(lambda x: x['label'] == label)['text']\n",
        "\n",
        "    # Randomly sample 10 subset for each class label\n",
        "    label_subset = random.sample(list(labels_text), 1)\n",
        "\n",
        "    texts.extend(label_subset)\n",
        "    labels.extend([label]*len(label_subset))\n",
        "\n",
        "  # After collecting samples for all labels in the current split, create a dataset with these samples.\n",
        "  # Then, add this dataset to the appropriate split in the 'train_val_subset' DatasetDict.\n",
        "  train_val_subset[item] = Dataset.from_dict({'text': texts, 'label': labels})\n"
      ],
      "metadata": {
        "id": "LxJ8Bkkl873W"
      },
      "execution_count": 34,
      "outputs": []
    },
    {
      "cell_type": "code",
      "source": [
        "train_val_subset"
      ],
      "metadata": {
        "colab": {
          "base_uri": "https://localhost:8080/"
        },
        "id": "WHwyhgO5AC4u",
        "outputId": "0f67d78f-5ba4-4df7-a4ed-53af9f9855fc"
      },
      "execution_count": 35,
      "outputs": [
        {
          "output_type": "execute_result",
          "data": {
            "text/plain": [
              "DatasetDict({\n",
              "    train: Dataset({\n",
              "        features: ['text', 'label'],\n",
              "        num_rows: 10\n",
              "    })\n",
              "    val: Dataset({\n",
              "        features: ['text', 'label'],\n",
              "        num_rows: 10\n",
              "    })\n",
              "})"
            ]
          },
          "metadata": {},
          "execution_count": 35
        }
      ]
    },
    {
      "cell_type": "code",
      "source": [
        "train_val_subset.set_format(type = 'pandas')"
      ],
      "metadata": {
        "id": "Mv7-1W0CAmea"
      },
      "execution_count": 36,
      "outputs": []
    },
    {
      "cell_type": "code",
      "source": [
        "train_val_subset['train']['label'].value_counts(ascending = True).plot.barh()"
      ],
      "metadata": {
        "colab": {
          "base_uri": "https://localhost:8080/",
          "height": 447
        },
        "id": "Skrh-oHzARm2",
        "outputId": "74362d81-a2c9-428a-f05b-d1f0eb4feff6"
      },
      "execution_count": 37,
      "outputs": [
        {
          "output_type": "execute_result",
          "data": {
            "text/plain": [
              "<Axes: >"
            ]
          },
          "metadata": {},
          "execution_count": 37
        },
        {
          "output_type": "display_data",
          "data": {
            "text/plain": [
              "<Figure size 640x480 with 1 Axes>"
            ],
            "image/png": "[encoded data removed]"
          },
          "metadata": {}
        }
      ]
    },
    {
      "cell_type": "code",
      "source": [
        "train_val_subset.reset_format()"
      ],
      "metadata": {
        "id": "iMDZQ7l1ArlN"
      },
      "execution_count": 38,
      "outputs": []
    },
    {
      "cell_type": "code",
      "source": [
        "train_val_subset = train_val_subset.cast_column('label', ClassLabel(names = class_names))"
      ],
      "metadata": {
        "id": "T9m7b3tKAwt0"
      },
      "execution_count": 39,
      "outputs": []
    },
    {
      "cell_type": "code",
      "source": [
        "train_val_subset['train'].features"
      ],
      "metadata": {
        "colab": {
          "base_uri": "https://localhost:8080/"
        },
        "id": "s8zy2HrHA7dY",
        "outputId": "d18263f5-0510-4161-df11-cc0eaae9a107"
      },
      "execution_count": 40,
      "outputs": [
        {
          "output_type": "execute_result",
          "data": {
            "text/plain": [
              "{'text': Value(dtype='string', id=None),\n",
              " 'label': ClassLabel(names=['c#', 'java', 'php', 'javascript', 'android', 'jquery', 'c++', 'python', 'iphone', 'asp.net'], id=None)}"
            ]
          },
          "metadata": {},
          "execution_count": 40
        }
      ]
    },
    {
      "cell_type": "markdown",
      "source": [
        "## <font color = 'baby pink'> **Tokenization**</font>"
      ],
      "metadata": {
        "id": "ofcrXGhmBK4W"
      }
    },
    {
      "cell_type": "code",
      "source": [
        "# Define a checkpoint for the BERT model with an uncased vocabulary.\n",
        "# Instantiate the tokenizer for this model using the specified checkpoint.\n",
        "checkpoint = \"bert-base-uncased\"\n",
        "tokenizer = AutoTokenizer.from_pretrained(checkpoint)"
      ],
      "metadata": {
        "colab": {
          "base_uri": "https://localhost:8080/",
          "height": 145,
          "referenced_widgets": [
            "eb0c6e638247401d91cd20ba3cd00719",
            "b9f75c2b36654eaeb6c30871fe76cb31",
            "efcf995e2e6548cf81868349fa5d0882",
            "c48602f628d045ccad735f83b24184b9",
            "6fc938fe64d54cc3a915b8c8f87018ac",
            "82a9be5fb9264cc38cf13a7c83576b6b",
            "71efc0f9c498499f9ece6cde6a2fe1dc",
            "b4075d15e7d24efc925621c62fa038f1",
            "559b1051020a41b6add8400bdc33cd7a",
            "5d35b4b91ba247d39601ebfeddf14203",
            "01f11d3ef28c43f087f4a6f478ca803f",
            "b06d4b907d054eee8d267bc740df2868",
            "51b90d3e52794e12b1d9519ff0931781",
            "c673e7f19675458d87d90287f5b38db3",
            "f4030976081b40a4864643b83c0a00ea",
            "7478fc0f007c47f59eba32c8aee566aa",
            "9786a778615c41d6ae60d3d52b0e3c5a",
            "b0d5506a901848858c9647900609e016",
            "d67e78b1413942ae85e9b7d6529aff97",
            "3079a019db3241e2a27e35eb82bac224",
            "f91003b3657c4f87aba4e1dba0207334",
            "1d5ca4e707b94d43b55ab2b99cfe4059",
            "cf66eb1280f64fe796b77e33237fc25a",
            "79de0aaccc1644a6818c6134e12a53ea",
            "b69bc6cc435548659787680462ac721d",
            "81dcbf1f98b1473bbfee4d6533772447",
            "7bbbf1e49ab94db0b1996faaa9e29b25",
            "b4ba219135044f4990706d9b453afa92",
            "7cd86138081d442591dc1f600b382920",
            "b952c1f7765f420bbd984987c39bbd8c",
            "219c7748dfe84d27b693f9b7037fa66f",
            "f3a266cb9ae04377bd0169f2a72656da",
            "7b3299193d9f44b6b14e29dbcac7c3a8",
            "dc3d3f017216490aa97f97cb6aed805f",
            "63c4af9a0c6649df939d7b5e4e3b9fb8",
            "b4fd143fafa749efb92b3679dc64b161",
            "72996c344b6b4c2fbe85e69d68d9a796",
            "be440b062a944ae685dc09d8ba8b70a2",
            "d65ace5a9f784e4a838fc6d6b8620977",
            "cabb522551934b88b5edc15a966848e1",
            "4d1d9822885345bb9e07bce1285f455d",
            "a3af00ad7f3c4a539994255d977c6910",
            "8eb96a110ced4730ab339a55e794f276",
            "73d745e9724b477b92fe63c87a308c14"
          ]
        },
        "id": "i2Bnzc1rA-b0",
        "outputId": "21cd471c-864a-4968-d7b6-b08fd494c3cc"
      },
      "execution_count": 41,
      "outputs": [
        {
          "output_type": "display_data",
          "data": {
            "text/plain": [
              "tokenizer_config.json:   0%|          | 0.00/28.0 [00:00<?, ?B/s]"
            ],
            "application/vnd.jupyter.widget-view+json": {
              "version_major": 2,
              "version_minor": 0,
              "model_id": "eb0c6e638247401d91cd20ba3cd00719"
            }
          },
          "metadata": {}
        },
        {
          "output_type": "display_data",
          "data": {
            "text/plain": [
              "config.json:   0%|          | 0.00/570 [00:00<?, ?B/s]"
            ],
            "application/vnd.jupyter.widget-view+json": {
              "version_major": 2,
              "version_minor": 0,
              "model_id": "b06d4b907d054eee8d267bc740df2868"
            }
          },
          "metadata": {}
        },
        {
          "output_type": "display_data",
          "data": {
            "text/plain": [
              "vocab.txt:   0%|          | 0.00/232k [00:00<?, ?B/s]"
            ],
            "application/vnd.jupyter.widget-view+json": {
              "version_major": 2,
              "version_minor": 0,
              "model_id": "cf66eb1280f64fe796b77e33237fc25a"
            }
          },
          "metadata": {}
        },
        {
          "output_type": "display_data",
          "data": {
            "text/plain": [
              "tokenizer.json:   0%|          | 0.00/466k [00:00<?, ?B/s]"
            ],
            "application/vnd.jupyter.widget-view+json": {
              "version_major": 2,
              "version_minor": 0,
              "model_id": "dc3d3f017216490aa97f97cb6aed805f"
            }
          },
          "metadata": {}
        }
      ]
    },
    {
      "cell_type": "markdown",
      "source": [
        "###  <font color = 'pickle'> **Understanding pre-trained Tokenizer**\n",
        "\n",
        "We will now understand how the tokenizer work by feeding one simple example."
      ],
      "metadata": {
        "id": "ky2fhimkBtyU"
      }
    },
    {
      "cell_type": "code",
      "source": [
        "tx = train_val_subset['train'][1]['text']\n",
        "encoded_text = tokenizer(tx, padding = True, truncation = False, return_tensors = 'pt')\n",
        "print(encoded_text.input_ids[0])\n",
        "convert_id_tok = tokenizer.convert_ids_to_tokens(encoded_text.input_ids[0])\n",
        "convert_id_tok[0:15]"
      ],
      "metadata": {
        "id": "vqKYJWVnBQ8g",
        "colab": {
          "base_uri": "https://localhost:8080/"
        },
        "outputId": "3e3804b4-6e53-4489-8d75-a2f86ff3df2f"
      },
      "execution_count": 42,
      "outputs": [
        {
          "output_type": "stream",
          "name": "stderr",
          "text": [
            "Token indices sequence length is longer than the specified maximum sequence length for this model (862 > 512). Running this sequence through the model will result in indexing errors\n"
          ]
        },
        {
          "output_type": "stream",
          "name": "stdout",
          "text": [
            "tensor([  101,  2129,  2064,  1045, 10408,  1037,  5903,  2465,  2004,  2649,\n",
            "         2917,  1996,  3642,  2917,  2515,  2054,  2003,  3223,  2005,  2090,\n",
            "         2184,  1998,  2322,  8213,  1012,  1996,  1005,  6942,  1005,  5836,\n",
            "         1037,  6123,  2489, 10713,  2110,  8285, 18900,  2239,  2005,  2019,\n",
            "         1048,  1011,  2291,  3291,  2013,  1000,  1996,  9896,  2594,  5053,\n",
            "         1997,  4264,  1000,  1010,  3931,  1019,  1998,  2003,  2025,  1037,\n",
            "        19453,  1012,  1045, 13566,  2000,  2944,  2023,  2478,  1037, 12702,\n",
            "        28522,  4371, 13151,  2006,  1037,  8418,  4115,  2595, 20670,  2509,\n",
            "         1042, 26952,  2050,  2021,  1045,  2572,  4975,  1996, 12504,  1999,\n",
            "         4007,  3322,  2000,  6709,  2004,  2116,  3314,  2004,  2825,  1012,\n",
            "         2174,  1045,  2085,  4299,  2000, 19933,  1996,  2565,  2061,  2008,\n",
            "         1996,  1005,  6942,  1005,  2112,  2064,  2022,  2109,  2000,  3073,\n",
            "         1037,  5903,  3169,  2738,  2084, 25582,  2135,  2004,  2085,  1012,\n",
            "         1045,  2079,  2113,  1045,  2064,  5672,  1996,  6942,  2007,  1037,\n",
            "         3796,  1997,  2065,  1012,  1012,  2842,  1005,  1055,  1012,  6516,\n",
            "         2054,  1045, 14071,  1005,  1056,  2000,  2079,  2003,  2000,  4372,\n",
            "        20464,  9232,  1996,  6942,  2046,  1037,  2465,  2007,  1037,  2839,\n",
            "         7953,  1998,  2839,  6434,  2714,  2000,  2085,  1012,  2059,  2191,\n",
            "         2019,  9140,  9863,  1997,  6942,  5200,  2107,  2008,  2169,  2047,\n",
            "         4874,  2038,  2019,  5950,  2008,  3503,  1996,  6149,  3526, 13874,\n",
            "         5950,  1010,  2061,  2005,  2169,  4245,  2035,  1997,  1996,  4442,\n",
            "         2024,  7172,  1999,  5903,  2738,  2084, 25582,  2135,  1012,  2009,\n",
            "         2089,  2022,  2008,  1037,  3074,  2453,  2022,  1996,  2126,  2830,\n",
            "         1012,  2151, 20884,  2015,  2097,  2022, 14044,  1012,  5954,  1012,\n",
            "        12324,  9262,  2595,  1012,  7370,  1012,  1008,  1025, 12324,  9262,\n",
            "         1012, 22091,  2102,  1012,  2724,  1012,  1008,  1025, 12324,  9262,\n",
            "         1012, 21183,  4014,  1012,  1008,  1025,  2270, 10061,  2465,  1040,\n",
            "         2692,  4877,  5714, 10814,  2487,  8908,  1046, 15643, 22164,  2895,\n",
            "         9863, 24454,  1063,  1013,  1013,  2797, 10763,  4874,  3526, 13874,\n",
            "         1025,  2270, 10763, 11675,  1040,  2692,  4877,  5714, 10814,  2487,\n",
            "         1006,  1007,  1063,  1013,  1013,  2330,  1037,  3332,  2000,  2131,\n",
            "         1996,  2051,  5402,  3091,  1998, 10463,  2013,  1037,  5164,  1013,\n",
            "         1013,  2000,  2019, 16109,  1012,  5164, 22975,  1027,  8183, 16790,\n",
            "         9739,  2063,  1012,  2265,  2378, 18780, 27184,  8649,  1006,  1000,\n",
            "         4607,  2193,  1997,  4245, 12709,  1010,  2442,  2022,  2090,  2184,\n",
            "         1998,  2322,  1012,  1000,  1007,  1025, 20014, 22975,  2100, 14321,\n",
            "         1027, 16109,  1012, 11968, 20240,  3372,  1006, 22975,  1007,  1025,\n",
            "         1013,  1013,  3443,  2019,  9140,  9863,  2007,  6534,  3526,  1037,\n",
            "         1012,  2862,  1026,  2839,  1028,  3526, 13874,  1027,  2047,  9140,\n",
            "         9863,  1026,  2839,  1028,  1006,  1007,  1025,  3526, 13874,  1012,\n",
            "         5587,  1006,  1005,  1037,  1005,  1007,  1025,  2291,  1012,  2041,\n",
            "         1012,  6140, 19666,  1006,  1000,  3526, 13874,  1024,  1000,  1009,\n",
            "         3526, 13874,  1007,  1025,  2862,  1026,  2839,  1028, 25597, 18863,\n",
            "         1027,  2047,  9140,  9863,  1026,  2839,  1028,  1006,  1007,  1025,\n",
            "         2096,  1006, 22975,  2100, 14321,  1028,  1014,  1007,  1063, 20014,\n",
            "         4013,  6895,  2094,  1027,  1006,  3526, 13874,  1012,  2946,  1006,\n",
            "         1007,  1011,  3526, 13874,  1012,  2946,  1006,  1007,  1007,  1025,\n",
            "         2096,  1006,  4013,  6895,  2094,   999,  1027,  3526, 13874,  1012,\n",
            "         2946,  1006,  1007,  1007,  1063, 25869,  2828,  1027,  3526, 13874,\n",
            "         1012,  2131,  1006,  4013,  6895,  2094,  1007,  1012, 25869, 10175,\n",
            "         5657,  1006,  1007,  1025,  6942,  1006,  2828,  1007,  1063,  2553,\n",
            "         1005,  1037,  1005,  1024, 25597, 18863,  1012,  5587,  1006,  1005,\n",
            "         1039,  1005,  1007,  1025, 25597, 18863,  1012,  5587,  1006,  1005,\n",
            "         1038,  1005,  1007,  1025,  3338,  1025,  2553,  1005,  1038,  1005,\n",
            "         1024, 25597, 18863,  1012,  5587,  1006,  1005,  1037,  1005,  1007,\n",
            "         1025,  3338,  1025,  2553,  1005,  1039,  1005,  1024, 25597, 18863,\n",
            "         1012,  5587,  1006,  1005,  1040,  1005,  1007,  1025, 25597, 18863,\n",
            "         1012,  5587,  1006,  1005,  1037,  1005,  1007,  1025,  3338,  1025,\n",
            "         2553,  1005,  1040,  1005,  1024, 25597, 18863,  1012,  5587,  1006,\n",
            "         1005,  1039,  1005,  1007,  1025,  3338,  1025, 12398,  1024,  2291,\n",
            "         1012,  2041,  1012,  6140, 19666,  1006,  1000, 19528,  3526,  2828,\n",
            "         1012,  1000,  1009,  2828,  1007,  1025,  3338,  1025,  1065,  4013,\n",
            "         6895,  2094,  1009,  1009,  1025,  1065,  2862,  1026,  2839,  1028,\n",
            "         8915,  8737,  1027,  2047,  9140,  9863,  1026,  2839,  1028,  1006,\n",
            "         3526, 13874,  1007,  1025,  3526, 13874,  1012,  3154,  1006,  1007,\n",
            "         1025,  3526, 13874,  1012,  5587,  8095,  1006, 25597, 18863,  1007,\n",
            "         1025, 25597, 18863,  1012,  3154,  1006,  1007,  1025,  1013,  1013,\n",
            "        25597, 18863,  1012,  5587,  8095,  1006,  8915,  8737,  1007,  1025,\n",
            "         2291,  1012,  2041,  1012,  6140, 19666,  1006,  1000,  4013,  6895,\n",
            "         2094,  1024,  1000,  1009,  4013,  6895,  2094,  1007,  1025,  2291,\n",
            "         1012,  2041,  1012,  6140, 19666,  1006,  1000,  3526, 13874,  1024,\n",
            "         1000,  1009,  3526, 13874,  1007,  1025,  1013,  1008,  1008,  2043,\n",
            "         2478,  2023,  2565,  2079,  2025,  7953,  1037,  2193,  2005,  3930,\n",
            "        12709,  1008,  3618,  2084,  4261,  1010,  2004,  2026,  3274,  2743,\n",
            "         2041,  1997,  4219,  1012,  1008,  2005, 20407,  3618,  2084,  1022,\n",
            "         2028,  1997,  1996,  6140, 19666,  2240,  2323,  2022,  1013,  1013,\n",
            "         2041,  1008,  7790,  2006,  2029,  2003,  2062,  2590,  1012,  1008,\n",
            "         1008,  1013, 22975,  2100, 14321,  1011,  1011,  1025,  1065,  1065,\n",
            "         2270, 10763, 11675,  2364,  1006,  5164,  1031,  1033, 12098,  5620,\n",
            "         1007,  1063,  1013,  1013,  6134,  1037,  3105,  2005,  1996,  2724,\n",
            "         1011, 18365,  2075, 11689,  1024,  1013,  1013,  4526,  1998,  4760,\n",
            "         2023,  4646,  1005,  1055, 26458,  1012,  9262,  2595,  1012,  7370,\n",
            "         1012,  7370, 21823, 15909,  3111,  1012,  1999,  6767, 11705, 24932,\n",
            "         1006,  2047,  2448, 22966,  1006,  1007,  1063,  1030,  2058, 15637,\n",
            "         2270, 11675,  2448,  1006,  1007,  1063,  1040,  2692,  4877,  5714,\n",
            "        10814,  2487,  1006,  1007,  1025,  1065,  1065,  1007,  1025,  1065,\n",
            "         1065,   102])\n"
          ]
        },
        {
          "output_type": "execute_result",
          "data": {
            "text/plain": [
              "['[CLS]',\n",
              " 'how',\n",
              " 'can',\n",
              " 'i',\n",
              " 'implement',\n",
              " 'a',\n",
              " 'parallel',\n",
              " 'class',\n",
              " 'as',\n",
              " 'described',\n",
              " 'below',\n",
              " 'the',\n",
              " 'code',\n",
              " 'below',\n",
              " 'does']"
            ]
          },
          "metadata": {},
          "execution_count": 42
        }
      ]
    },
    {
      "cell_type": "code",
      "source": [
        "def tokenize_fn(batch):\n",
        "  return tokenizer(batch['text'], truncation = False)"
      ],
      "metadata": {
        "id": "dCq2gNS-FXxH"
      },
      "execution_count": 43,
      "outputs": []
    },
    {
      "cell_type": "code",
      "source": [
        "tokenized_dataset = train_val_subset.map(tokenize_fn, batched = True)"
      ],
      "metadata": {
        "id": "m5RPWkrqVilX"
      },
      "execution_count": 44,
      "outputs": []
    },
    {
      "cell_type": "code",
      "source": [
        "tokenized_dataset"
      ],
      "metadata": {
        "colab": {
          "base_uri": "https://localhost:8080/"
        },
        "id": "KjYC9K2wWA_j",
        "outputId": "8e96f38b-b292-42da-bcae-4d9d0d5d8bdb"
      },
      "execution_count": 45,
      "outputs": [
        {
          "output_type": "execute_result",
          "data": {
            "text/plain": [
              "DatasetDict({\n",
              "    train: Dataset({\n",
              "        features: ['text', 'label', 'input_ids', 'token_type_ids', 'attention_mask'],\n",
              "        num_rows: 10\n",
              "    })\n",
              "    val: Dataset({\n",
              "        features: ['text', 'label', 'input_ids', 'token_type_ids', 'attention_mask'],\n",
              "        num_rows: 10\n",
              "    })\n",
              "})"
            ]
          },
          "metadata": {},
          "execution_count": 45
        }
      ]
    },
    {
      "cell_type": "code",
      "source": [
        "tokenized_dataset = tokenized_dataset.remove_columns(['text'])\n",
        "tokenized_dataset"
      ],
      "metadata": {
        "colab": {
          "base_uri": "https://localhost:8080/"
        },
        "id": "VZ0PY_IeWDV0",
        "outputId": "a76b20d4-98c0-47ea-a355-12bbad069bea"
      },
      "execution_count": 46,
      "outputs": [
        {
          "output_type": "execute_result",
          "data": {
            "text/plain": [
              "DatasetDict({\n",
              "    train: Dataset({\n",
              "        features: ['label', 'input_ids', 'token_type_ids', 'attention_mask'],\n",
              "        num_rows: 10\n",
              "    })\n",
              "    val: Dataset({\n",
              "        features: ['label', 'input_ids', 'token_type_ids', 'attention_mask'],\n",
              "        num_rows: 10\n",
              "    })\n",
              "})"
            ]
          },
          "metadata": {},
          "execution_count": 46
        }
      ]
    },
    {
      "cell_type": "markdown",
      "source": [
        "#  <font color = 'pickle'> **Collate fn**"
      ],
      "metadata": {
        "id": "lWZZ74gEY7pu"
      }
    },
    {
      "cell_type": "code",
      "source": [
        "def collate_function(batch, tokenizer, max_length, stride):\n",
        "\n",
        "  text_batch = [item['text'] for item in batch]\n",
        "\n",
        "  # Check if any of the batch items has 'label', if so process labels.\n",
        "  if all('label' in item for item in batch):\n",
        "    label_batch = [item['label'] for item in batch]\n",
        "    doc_labels = torch.tensor(label_batch, dtype=torch.long)\n",
        "  else:\n",
        "    doc_labels = None\n",
        "\n",
        "\n",
        "    # Tokenize the batch of texts\n",
        "  tokenized = tokenizer(text_batch,\n",
        "                        padding='longest',\n",
        "                        truncation=True,\n",
        "                        return_tensors='pt',\n",
        "                        max_length=max_length,\n",
        "                        return_overflowing_tokens=True,\n",
        "                        stride=stride)\n",
        "\n",
        "  # Flatten the chunks if necessary using overflow_to_sample_mapping\n",
        "  overflow_to_sample_mapping = tokenized.get(\"overflow_to_sample_mapping\", None)\n",
        "\n",
        "  result = {\n",
        "      **tokenized,\n",
        "      \"overflow_to_sample_mapping\": overflow_to_sample_mapping\n",
        "      }\n",
        "\n",
        "  # Repeat labels for the chunks based on overflow_to_sample_mapping, only if labels are present\n",
        "  if doc_labels is not None and overflow_to_sample_mapping is not None:\n",
        "    labels = doc_labels[overflow_to_sample_mapping]\n",
        "    result[\"labels\"] = labels\n",
        "    result[\"doc_labels\"] = doc_labels\n",
        "\n",
        "  return result"
      ],
      "metadata": {
        "id": "sB_onTEgizdX"
      },
      "execution_count": 47,
      "outputs": []
    },
    {
      "cell_type": "markdown",
      "source": [
        "#  <font color = 'pickle'> **Initialize model**"
      ],
      "metadata": {
        "id": "uGIykLymkuFr"
      }
    },
    {
      "cell_type": "code",
      "source": [
        "def initialize_model(checkpoint, class_names):\n",
        "    config = AutoConfig.from_pretrained(checkpoint)\n",
        "    id2label = {}\n",
        "    for id_, label_ in enumerate(class_names):\n",
        "        id2label[str(id_)] = label_\n",
        "\n",
        "    label2id = {}\n",
        "    for id_, label_ in enumerate(class_names):\n",
        "        label2id[label_] = id_\n",
        "\n",
        "    config.id2label = id2label\n",
        "    config.label2id = label2id\n",
        "\n",
        "    model = AutoModelForSequenceClassification.from_pretrained(checkpoint, config=config)\n",
        "\n",
        "    return model, config"
      ],
      "metadata": {
        "id": "hq8AC9MHktVQ"
      },
      "execution_count": 48,
      "outputs": []
    },
    {
      "cell_type": "markdown",
      "source": [
        "#  <font color = 'pickle'> **Aggregate Predictions**"
      ],
      "metadata": {
        "id": "Ecqhl3fSlGMZ"
      }
    },
    {
      "cell_type": "code",
      "source": [
        "def stable_log_softmax(x):\n",
        "    # Subtract the max for numerical stability along the last axis (axis=-1)\n",
        "    x_max = np.max(x, axis=-1, keepdims=True)\n",
        "    # Use logsumexp for better numerical stability\n",
        "    log_softmax = x - x_max - logsumexp(x - x_max, axis=-1, keepdims=True)\n",
        "\n",
        "    return log_softmax\n",
        "\n",
        "def aggregate_predictions(logits, aggregation_method, overflow_to_sample_mapping):\n",
        "\n",
        "  probabilities = softmax(logits, axis=-1)\n",
        "  log_probabilities = stable_log_softmax(logits)\n",
        "\n",
        "  # print('log_probs', log_probabilities.shape)\n",
        "  # print('overflow_to_sample_mapping', overflow_to_sample_mapping.shape)\n",
        "\n",
        "  # Get unique documents\n",
        "\n",
        "  unique_docs, inverse_indices = np.unique(overflow_to_sample_mapping, return_inverse=True)\n",
        "  num_docs = unique_docs.size\n",
        "\n",
        "  # Create a mask for documents\n",
        "  mask = overflow_to_sample_mapping[:, None] == unique_docs[None, :]\n",
        "\n",
        "  # Initialize the aggregated_predictions variable\n",
        "  aggregated_predictions = None\n",
        "\n",
        "  if aggregation_method == \"average_log_probs\":\n",
        "    # Compute average probabilities using NumPy\n",
        "    avg_log_probs = (log_probabilities[:, None, :] * mask[:, :, None].astype(float)).sum(axis=0) / mask.sum(axis=0, keepdims=True).transpose((1, 0))\n",
        "    aggregated_predictions = np.argmax(avg_log_probs, axis=-1)\n",
        "    scores = np.exp(avg_log_probs.max(axis=-1))\n",
        "\n",
        "  elif aggregation_method == \"average_probs\":\n",
        "    # Compute average probabilities using NumPy\n",
        "    avg_probs = (probabilities[:, None, :] * mask[:, :, None].astype(float)).sum(axis=0) / mask.sum(axis=0, keepdims=True).transpose((1, 0))\n",
        "    aggregated_predictions = np.argmax(avg_probs, axis=-1)\n",
        "    scores  = avg_probs.max(axis=-1)\n",
        "\n",
        "  elif aggregation_method == \"max_probs\":\n",
        "    # Compute max probabilities per document\n",
        "    max_values = np.where(mask[:, :, None], log_probabilities[:, None, :], float('-inf'))\n",
        "    max_log_probs = np.max(max_values, axis=0)\n",
        "    aggregated_predictions = np.argmax(max_log_probs, axis=-1)\n",
        "    scores = np.exp(max_log_probs.max(axis=-1))\n",
        "\n",
        "  elif aggregation_method == \"majority_vote\":\n",
        "    # Convert logits to actual predictions before voting\n",
        "    predictions = np.argmax(logits, axis=1)\n",
        "    # Tally the votes for each document\n",
        "    vote_tally = np.zeros((num_docs, logits.shape[-1]), dtype=int)\n",
        "    np.add.at(vote_tally, overflow_to_sample_mapping, np.eye(logits.shape[-1], dtype=int)[predictions])\n",
        "    # Determine the majority vote for each document\n",
        "    aggregated_predictions = np.argmax(vote_tally, axis=1)\n",
        "    scores = vote_tally.max(axis=-1) / vote_tally.sum(axis=-1)\n",
        "  else:\n",
        "    raise ValueError(f\"Unsupported aggregation_method: {aggregation_method}\")\n",
        "\n",
        "    # # Calculate evaluation metrics using document-level labels\n",
        "    # metrics = evaluate.combine([\n",
        "    #     evaluate.load(\"accuracy\"),\n",
        "    #     evaluate.load(\"f1\", average=\"macro\")\n",
        "    # ])\n",
        "    # evaluations = metrics.compute(predictions=aggregated_predictions, references=doc_labels)\n",
        "\n",
        "    # return evaluations\n",
        "\n",
        "  return aggregated_predictions, scores"
      ],
      "metadata": {
        "id": "h3UjAUxolUVY"
      },
      "execution_count": 49,
      "outputs": []
    },
    {
      "cell_type": "markdown",
      "source": [
        "#  <font color = 'pickle'> **Custom Trainer**"
      ],
      "metadata": {
        "id": "_5ZRmSY4oEk2"
      }
    },
    {
      "cell_type": "code",
      "source": [
        "class CustomTrainer(Trainer):\n",
        "    def __init__(self, *args, loss_type=\"average_log_probs\", **kwargs):\n",
        "        super(CustomTrainer, self).__init__(*args, **kwargs)\n",
        "        self.loss_type = loss_type\n",
        "\n",
        "\n",
        "\n",
        "    def compute_loss(self, model, inputs, return_outputs=False):\n",
        "\n",
        "        labels = inputs[\"labels\"]\n",
        "        overflow_to_sample_mapping = inputs.pop(\"overflow_to_sample_mapping\", None)\n",
        "        doc_labels = inputs.pop(\"doc_labels\", None)\n",
        "        logits = model(**inputs).logits\n",
        "\n",
        "        # convert logits to log probabilities, probabilities\n",
        "        log_probabilities = F.log_softmax(logits, dim=-1)\n",
        "        probabilities = F.softmax(logits, dim=-1)\n",
        "\n",
        "\n",
        "        # Number of unique documents and chunks\n",
        "        num_docs = doc_labels.size(0)\n",
        "        num_chunks = overflow_to_sample_mapping.size(0)\n",
        "\n",
        "        # Ensure overflow_to_sample_mapping is on the same device as doc_labels\n",
        "        overflow_to_sample_mapping = overflow_to_sample_mapping.to(doc_labels.device)\n",
        "\n",
        "        # Create a tensor representing each unique doc\n",
        "        unique_docs = torch.arange(num_docs).to(doc_labels.device)\n",
        "\n",
        "        # Create the mask\n",
        "        mask = overflow_to_sample_mapping[:, None] == unique_docs[None, :]\n",
        "\n",
        "        loss_fn = nn.NLLLoss(weight = weights.to(model.device))\n",
        "\n",
        "        #loss_fn = self.nll_loss(weight = cal_class_weights(labels).to(model.device))\n",
        "\n",
        "\n",
        "        if self.loss_type == \"average_log_probs\":\n",
        "            avg_log_probs = (log_probabilities[:, None, :] * mask.unsqueeze(-1).float()).sum(0) / mask.sum(0, keepdim=True).T\n",
        "\n",
        "            # print('avg_log_probs_shape', avg_log_probs.shape)\n",
        "            loss = loss_fn( avg_log_probs, doc_labels)\n",
        "            # print(loss)\n",
        "\n",
        "        elif self.loss_type == \"average_probs\":\n",
        "            avg_probs = (probabilities[:, None, :] * mask.unsqueeze(-1).float()).sum(0) / mask.sum(0, keepdim=True).T\n",
        "\n",
        "            avg_log_probs = torch.log(avg_probs)\n",
        "            # print('avg_log_probs_shape', avg_log_probs.shape)\n",
        "            loss = loss_fn(avg_log_probs, doc_labels)\n",
        "            # print(loss)\n",
        "\n",
        "        elif self.loss_type == \"max\":\n",
        "            max_values = torch.where(mask.unsqueeze(-1), log_probabilities[:, None, :], torch.tensor(float('-inf'), device=log_probabilities.device))\n",
        "            max_log_probs = max_values.max(dim=0).values\n",
        "            # print('max_log_probs_shape', max_log_probs.shape)\n",
        "            loss = loss_fn(max_log_probs, doc_labels)\n",
        "            # print(loss)\n",
        "\n",
        "        elif self.loss_type == \"loss_per_chunk\":\n",
        "            # print('log_probs_shape', log_probabilities.shape)\n",
        "            loss = loss_fn(log_probabilities, labels.view(-1))\n",
        "            # print(loss)\n",
        "\n",
        "        else:\n",
        "            raise ValueError(f\"Unsupported loss_type: {self.loss_type}\")\n",
        "\n",
        "        return (loss, logits) if return_outputs else loss"
      ],
      "metadata": {
        "id": "N_vxdJTDoVke"
      },
      "execution_count": 50,
      "outputs": []
    },
    {
      "cell_type": "markdown",
      "source": [
        "#  <font color = 'pickle'> **Function for confusion matrix**"
      ],
      "metadata": {
        "id": "KSvx4fJUpdA4"
      }
    },
    {
      "cell_type": "code",
      "source": [
        "def log_and_plot_confusion_matrix(filtered_labels, filtered_predictions, class_names):\n",
        "\n",
        "    wandb.log({\n",
        "        \"conf_mat\": wandb.plot.confusion_matrix(\n",
        "            preds=filtered_predictions,        # Model's predicted class labels.\n",
        "            y_true=filtered_labels,      # Actual labels from the validation set.\n",
        "            class_names=class_names   # Custom class names for display in the confusion matrix.\n",
        "        )\n",
        "    })\n",
        "\n",
        "    # Plot the confusion matrix using Matplotlib\n",
        "    fig, ax = plt.subplots(figsize=(8, 6))\n",
        "    ConfusionMatrixDisplay.from_predictions(\n",
        "        y_true=filtered_labels,\n",
        "        y_pred=filtered_predictions,\n",
        "        ax=ax,\n",
        "        normalize=\"true\",\n",
        "        display_labels=class_names,\n",
        "        xticks_rotation=90\n",
        "    )\n",
        "    plt.show()"
      ],
      "metadata": {
        "id": "iUtL9g0zpdYQ"
      },
      "execution_count": 51,
      "outputs": []
    },
    {
      "cell_type": "markdown",
      "source": [
        "#  <font color = 'pickle'> **Setting up logger for experiments**"
      ],
      "metadata": {
        "id": "fz-Fm1p1qzCr"
      }
    },
    {
      "cell_type": "code",
      "source": [
        "def get_trainer(model, training_args, train_dataset, eval_dataset, loss_type, tokenizer, data_collator):\n",
        "\n",
        "  trainer = CustomTrainer(\n",
        "  loss_type = loss_type,\n",
        "  model=model,\n",
        "  args=training_args,\n",
        "  train_dataset=train_dataset,\n",
        "  eval_dataset=eval_dataset,\n",
        "  data_collator=data_collator,\n",
        "  tokenizer=tokenizer)\n",
        "\n",
        "  return trainer"
      ],
      "metadata": {
        "id": "Beic1GQ9q-3M"
      },
      "execution_count": 52,
      "outputs": []
    },
    {
      "cell_type": "markdown",
      "source": [
        "#  <font color = 'pickle'> **Evaluate model function**"
      ],
      "metadata": {
        "id": "HeMkJy_yrbKe"
      }
    },
    {
      "cell_type": "code",
      "source": [
        "def evaluate_model(dataloader: DataLoader, model: PreTrainedModel, metric_only: bool = True, aggregation_method: str ='average_log_probs'):\n",
        "    # Load the accuracy metric\n",
        "    accuracy_metric = load(\"accuracy\")\n",
        "    device = 'cuda' if torch.cuda.is_available() else 'cpu'\n",
        "    predictions = []\n",
        "    all_doc_labels = []\n",
        "\n",
        "    # Loop over batches\n",
        "    for batch in dataloader:\n",
        "        model.eval()\n",
        "        doc_labels = batch.pop(\"doc_labels\", None).cpu().numpy()\n",
        "        overflow_to_sample_mapping = batch.pop(\"overflow_to_sample_mapping\", None).cpu().numpy()\n",
        "        batch = {k: v.to(device) for k, v in batch.items()}\n",
        "\n",
        "        with torch.no_grad():\n",
        "            outputs = model(**batch)\n",
        "            logits = outputs.logits.cpu().numpy()\n",
        "            aggregated_predictions, scores = aggregate_predictions(logits=logits,\n",
        "                                                            aggregation_method=aggregation_method,\n",
        "                                                            overflow_to_sample_mapping=overflow_to_sample_mapping)\n",
        "\n",
        "            accuracy_metric.add_batch(predictions=aggregated_predictions, references=doc_labels)\n",
        "            if not metric_only:\n",
        "                predictions.extend(aggregated_predictions)\n",
        "                all_doc_labels.extend(doc_labels)\n",
        "\n",
        "    # Calculate and return the final accuracy.\n",
        "    final_accuracy = accuracy_metric.compute()['accuracy']\n",
        "\n",
        "    if metric_only:\n",
        "        return final_accuracy\n",
        "    else:\n",
        "        return final_accuracy, predictions, all_doc_labels"
      ],
      "metadata": {
        "id": "tJSvAk2irw0c"
      },
      "execution_count": 53,
      "outputs": []
    },
    {
      "cell_type": "code",
      "source": [
        "def free_memory():\n",
        "    \"\"\"\n",
        "    Attempts to free up memory by deleting variables and running Python's garbage collector.\n",
        "    \"\"\"\n",
        "    gc.collect()\n",
        "    for device_id in range(torch.cuda.device_count()):\n",
        "        torch.cuda.set_device(device_id)\n",
        "        torch.cuda.empty_cache()\n",
        "\n",
        "    gc.collect()"
      ],
      "metadata": {
        "id": "Da9V2Zf9svvs"
      },
      "execution_count": 54,
      "outputs": []
    },
    {
      "cell_type": "code",
      "source": [
        "def tokenize_train_evaluate_log(training_args, checkpoint, base_folder, class_names, train_val_subset, loss_type):\n",
        "    # 1. Free memory\n",
        "    free_memory()\n",
        "\n",
        "    # 2. Setup wandb\n",
        "    wandb.login()\n",
        "    %env WANDB_PROJECT = HW7-stackoverflow-dataset\n",
        "\n",
        "    ######################## ALLOWED TO CHANGE THIS BLOCK ################################################\n",
        "\n",
        "    # MAKE SURE THE BASE FOLDER IS SETUP CORRECTLY\n",
        "    #  YOU CAN CHANGE THIS LINE IF YOU WANT TO SAVE IN A DIFFERENT FOLDER\n",
        "\n",
        "    model_folder = base_folder/\"Models\"/\"HW7\"/checkpoint\n",
        "    model_folder.mkdir(exist_ok=True, parents=True)\n",
        "\n",
        "    ######################## ALLOWED TO CHANGE THIS BLOCK ################################################\n",
        "\n",
        "\n",
        "    # 3. Get Tokenized Dataset and Data Collator\n",
        "    #train_val_tokenized_dataset = get_tokenized_dataset(checkpoint, train_val_subset)\n",
        "\n",
        "    # 4. Initialize Model and Tokenizer\n",
        "    model, config = initialize_model(checkpoint, class_names)\n",
        "    tokenizer = AutoTokenizer.from_pretrained(checkpoint)\n",
        "\n",
        "    # 5. Initialize Trainer\n",
        "    collate_fn = partial(collate_function, tokenizer=tokenizer,max_length = 512, stride = 16)\n",
        "\n",
        "    trainer = get_trainer(model, training_args, train_val_subset['train'], train_val_subset['val'], loss_type, tokenizer, collate_fn)\n",
        "\n",
        "    # 6. Train and Evaluate\n",
        "    trainer.train()\n",
        "    #trainer.evaluate(train_val_tokenized_dataset['val'])\n",
        "\n",
        "    # 7. Log Metrics and Plot\n",
        "\n",
        "    best_model_checkpoint_step = trainer.state.best_model_checkpoint.split('-')[-1]\n",
        "    wandb.log({\"best_model_checkpoint_step\": best_model_checkpoint_step})\n",
        "    print(f\"The best model was saved at step {best_model_checkpoint_step}.\")\n",
        "\n",
        "    path = 'checkpoint-'+ str(best_model_checkpoint_step)\n",
        "    checkpoint = str(model_folder/path)\n",
        "    model = AutoModelForSequenceClassification.from_pretrained(checkpoint)\n",
        "\n",
        "    # Make sure to use 'cuda' if a GPU is available.\n",
        "    device = 'cuda' if torch.cuda.is_available() else 'cpu'\n",
        "\n",
        "    model = model.to(device=device)\n",
        "\n",
        "    val_accuracy, val_predictions, val_labels = evaluate_model(trainer.get_test_dataloader(train_val_subset['val']), model, metric_only=False)\n",
        "\n",
        "    #log_and_plot_confusion_matrix(val_labels, val_predictions , class_names)\n",
        "\n",
        "    wandb.finish()\n",
        "\n",
        "    return best_model_checkpoint_step"
      ],
      "metadata": {
        "id": "tbF_YgGIsxID"
      },
      "execution_count": 55,
      "outputs": []
    },
    {
      "cell_type": "markdown",
      "source": [
        "## <font color = 'pickle'> **Hyperparameters and Checkpointing**</font>\n",
        "\n"
      ],
      "metadata": {
        "id": "mnndU6SPtb5H"
      }
    },
    {
      "cell_type": "code",
      "source": [
        "model_folder = base_folder/\"Models/HW7/bert-base-uncased/\"\n",
        "# Create the directory if it doesn't exist\n",
        "model_folder.mkdir(exist_ok=True, parents=True)\n",
        "\n",
        "# Configure training parameters\n",
        "training_args = TrainingArguments(\n",
        "    # Training-specific configurations\n",
        "    num_train_epochs = 3,  # Total number of training epochs\n",
        "    # Number of samples per training batch for each device\n",
        "    per_device_train_batch_size = 4,\n",
        "    # Number of samples per evaluation batch for each device\n",
        "    per_device_eval_batch_size = 4,\n",
        "    gradient_checkpointing=True,  # Use gradient checkpointing to reduce memory usage\n",
        "    gradient_accumulation_steps = 1,\n",
        "    weight_decay = 0.01,  # Apply L2 regularization to prevent overfitting\n",
        "    learning_rate = 1e-5,  # Step size for the optimizer during training\n",
        "    optim='adamw_torch',  # Optimizer,\n",
        "    fp16 = True, # Use mixed precision training for memroy optimization\n",
        "    # argument for EvalPred to include inputs and outputs\n",
        "    remove_unused_columns=False,\n",
        "\n",
        "    # Checkpoint saving and model evaluation settings\n",
        "    output_dir=str(model_folder),  # Directory to save model checkpoints\n",
        "    evaluation_strategy='steps',  # Evaluate model at specified step intervals\n",
        "    eval_steps=1,  # Perform evaluation every 20 training steps\n",
        "    save_strategy=\"steps\",  # Save model checkpoint at specified step intervals\n",
        "    save_steps=1,  # Save a model checkpoint every 20 training steps\n",
        "    load_best_model_at_end=True,  # Reload the best model at the end of training\n",
        "    save_total_limit=2,  # Retain only the best and the most recent model checkpoints\n",
        "\n",
        "    # Experiment logging configurations (commented out in this example)\n",
        "    logging_strategy='steps',\n",
        "    logging_steps = 1,\n",
        "    report_to='wandb',  # Log metrics and results to Weights & Biases platform\n",
        "    run_name='HW7_stackoverflow_partA',  # Experiment name for Weights & Biases\n",
        ")"
      ],
      "metadata": {
        "id": "s3d6igybta-t"
      },
      "execution_count": 56,
      "outputs": []
    },
    {
      "cell_type": "markdown",
      "source": [
        "## <font color = 'pickle'> **Initialize Trainer**</font>"
      ],
      "metadata": {
        "id": "4n1u9slTvDoj"
      }
    },
    {
      "cell_type": "code",
      "source": [
        "checkpoint = 'bert-base-uncased'\n",
        "training_args_dict = training_args.to_dict() # Convert TrainingArguments to dictionary\n",
        "training_args_dict['run_name'] = f'{checkpoint}' # Update the run_name\n",
        "new_training_args = TrainingArguments(**training_args_dict)"
      ],
      "metadata": {
        "colab": {
          "base_uri": "https://localhost:8080/"
        },
        "id": "aKSMReTtwtfJ",
        "outputId": "9a2c29ea-bd33-4001-f985-2f04e15ae93c"
      },
      "execution_count": 57,
      "outputs": [
        {
          "output_type": "stream",
          "name": "stderr",
          "text": [
            "/usr/local/lib/python3.10/dist-packages/transformers/training_args.py:1697: FutureWarning:\n",
            "\n",
            "`--push_to_hub_token` is deprecated and will be removed in version 5 of 🤗 Transformers. Use `--hub_token` instead.\n",
            "\n"
          ]
        }
      ]
    },
    {
      "cell_type": "code",
      "source": [
        "best_mod = tokenize_train_evaluate_log(training_args= new_training_args, checkpoint=checkpoint, base_folder=base_folder,\n",
        "                             class_names=class_names, train_val_subset=train_val_subset ,\n",
        "                             loss_type = 'average_log_probs')"
      ],
      "metadata": {
        "colab": {
          "base_uri": "https://localhost:8080/",
          "height": 1000,
          "referenced_widgets": [
            "463f46457bd0413fa29201c5fb93b213",
            "5babfe5ea80748328c67858c6817c130",
            "0995696384714b4696ecf75b990fad6e",
            "aa47d64fb67c4e81a64c29b5d387e2e6",
            "93bd67f71c8a4136b360e9253ac7aeae",
            "d759ae1cde1e4ec3bb7900931087e72f",
            "959a20be3a254bffb0eabaec96933f90",
            "47985448d269433c9a35381a991583a7",
            "41a025357f914595a22f1b32c843f476",
            "6bee5fbacada46c98136e126e628e545",
            "9f08da0da67443f6a5fd18be620fcf1a",
            "584aa76ea4044c0d90c6d45135e615c7",
            "280a9f2285014fc7a4b7a419e10b8097",
            "ce66e940fec847ef8e6393c30d85b87f",
            "d43115a9acea47a680687d82dbc2c6dc",
            "d2ae4182752c48a7957d27f20e4f6e59",
            "f335e79ed6554b75835fc691516f6091",
            "946365de799a45ec8d41292856318f33",
            "6e463ce257c4429293f54ae4ea6f4c0f",
            "d9976eef3cc7414e8aea8d45e9bfd880",
            "5ddc5bbdafed4f19b18cb81dc6892bfa",
            "150e773615454695a838003b1047ebc9",
            "376ecfc0a908434a8aeea748703175bc",
            "69a8e078fb1b431790528ab4beffca73",
            "9279b3aba2e2462f8ac5dceb2ab03c7a",
            "797734474ac94116b06d5943073d7dbc",
            "3381723984584c5ab8fcfcd201a84266",
            "c85ff972db9e46e2a6856ac0c0d85c06",
            "65f22e8d40bd4d24a088b581f8e62bbb",
            "a0b5d0f2902c4e76a7c14e3fe89e19b5"
          ]
        },
        "id": "i_IV_SszxMgg",
        "outputId": "e54b3c1e-d82f-47ff-eb59-bebbf8489bbe"
      },
      "execution_count": 58,
      "outputs": [
        {
          "output_type": "display_data",
          "data": {
            "text/plain": [
              "<IPython.core.display.Javascript object>"
            ],
            "application/javascript": [
              "\n",
              "        window._wandbApiKey = new Promise((resolve, reject) => {\n",
              "            function loadScript(url) {\n",
              "            return new Promise(function(resolve, reject) {\n",
              "                let newScript = document.createElement(\"script\");\n",
              "                newScript.onerror = reject;\n",
              "                newScript.onload = resolve;\n",
              "                document.body.appendChild(newScript);\n",
              "                newScript.src = url;\n",
              "            });\n",
              "            }\n",
              "            loadScript(\"https://cdn.jsdelivr.net/npm/postmate/build/postmate.min.js\").then(() => {\n",
              "            const iframe = document.createElement('iframe')\n",
              "            iframe.style.cssText = \"width:0;height:0;border:none\"\n",
              "            document.body.appendChild(iframe)\n",
              "            const handshake = new Postmate({\n",
              "                container: iframe,\n",
              "                url: 'https://wandb.ai/authorize'\n",
              "            });\n",
              "            const timeout = setTimeout(() => reject(\"Couldn't auto authenticate\"), 5000)\n",
              "            handshake.then(function(child) {\n",
              "                child.on('authorize', data => {\n",
              "                    clearTimeout(timeout)\n",
              "                    resolve(data)\n",
              "                });\n",
              "            });\n",
              "            })\n",
              "        });\n",
              "    "
            ]
          },
          "metadata": {}
        },
        {
          "output_type": "stream",
          "name": "stderr",
          "text": [
            "\u001b[34m\u001b[1mwandb\u001b[0m: Appending key for api.wandb.ai to your netrc file: /root/.netrc\n"
          ]
        },
        {
          "output_type": "stream",
          "name": "stdout",
          "text": [
            "env: WANDB_PROJECT=HW7-stackoverflow-dataset\n"
          ]
        },
        {
          "output_type": "display_data",
          "data": {
            "text/plain": [
              "model.safetensors:   0%|          | 0.00/440M [00:00<?, ?B/s]"
            ],
            "application/vnd.jupyter.widget-view+json": {
              "version_major": 2,
              "version_minor": 0,
              "model_id": "463f46457bd0413fa29201c5fb93b213"
            }
          },
          "metadata": {}
        },
        {
          "output_type": "stream",
          "name": "stderr",
          "text": [
            "Some weights of BertForSequenceClassification were not initialized from the model checkpoint at bert-base-uncased and are newly initialized: ['classifier.bias', 'classifier.weight']\n",
            "You should probably TRAIN this model on a down-stream task to be able to use it for predictions and inference.\n"
          ]
        },
        {
          "output_type": "display_data",
          "data": {
            "text/plain": [
              "<IPython.core.display.HTML object>"
            ],
            "text/html": [
              "Changes to your `wandb` environment variables will be ignored because your `wandb` session has already started. For more information on how to modify your settings with `wandb.init()` arguments, please refer to <a href='https://wandb.me/wandb-init' target=\"_blank\">the W&B docs</a>."
            ]
          },
          "metadata": {}
        },
        {
          "output_type": "stream",
          "name": "stderr",
          "text": [
            "\u001b[34m\u001b[1mwandb\u001b[0m: Currently logged in as: \u001b[33mshremuk\u001b[0m. Use \u001b[1m`wandb login --relogin`\u001b[0m to force relogin\n"
          ]
        },
        {
          "output_type": "display_data",
          "data": {
            "text/plain": [
              "<IPython.core.display.HTML object>"
            ],
            "text/html": [
              "Tracking run with wandb version 0.16.0"
            ]
          },
          "metadata": {}
        },
        {
          "output_type": "display_data",
          "data": {
            "text/plain": [
              "<IPython.core.display.HTML object>"
            ],
            "text/html": [
              "Run data is saved locally in <code>/content/wandb/run-20231119_033434-vpg93i0t</code>"
            ]
          },
          "metadata": {}
        },
        {
          "output_type": "display_data",
          "data": {
            "text/plain": [
              "<IPython.core.display.HTML object>"
            ],
            "text/html": [
              "Syncing run <strong><a href='https://wandb.ai/shremuk/HW7-stackoverflow-dataset/runs/vpg93i0t' target=\"_blank\">bert-base-uncased</a></strong> to <a href='https://wandb.ai/shremuk/HW7-stackoverflow-dataset' target=\"_blank\">Weights & Biases</a> (<a href='https://wandb.me/run' target=\"_blank\">docs</a>)<br/>"
            ]
          },
          "metadata": {}
        },
        {
          "output_type": "display_data",
          "data": {
            "text/plain": [
              "<IPython.core.display.HTML object>"
            ],
            "text/html": [
              " View project at <a href='https://wandb.ai/shremuk/HW7-stackoverflow-dataset' target=\"_blank\">https://wandb.ai/shremuk/HW7-stackoverflow-dataset</a>"
            ]
          },
          "metadata": {}
        },
        {
          "output_type": "display_data",
          "data": {
            "text/plain": [
              "<IPython.core.display.HTML object>"
            ],
            "text/html": [
              " View run at <a href='https://wandb.ai/shremuk/HW7-stackoverflow-dataset/runs/vpg93i0t' target=\"_blank\">https://wandb.ai/shremuk/HW7-stackoverflow-dataset/runs/vpg93i0t</a>"
            ]
          },
          "metadata": {}
        },
        {
          "output_type": "stream",
          "name": "stderr",
          "text": [
            "/usr/local/lib/python3.10/dist-packages/torch/utils/checkpoint.py:429: UserWarning:\n",
            "\n",
            "torch.utils.checkpoint: please pass in use_reentrant=True or use_reentrant=False explicitly. The default value of use_reentrant will be updated to be False in the future. To maintain current behavior, pass use_reentrant=True. It is recommended that you use use_reentrant=False. Refer to docs for more details on the differences between the two variants.\n",
            "\n"
          ]
        },
        {
          "output_type": "display_data",
          "data": {
            "text/plain": [
              "<IPython.core.display.HTML object>"
            ],
            "text/html": [
              "\n",
              "    <div>\n",
              "      \n",
              "      <progress value='9' max='9' style='width:300px; height:20px; vertical-align: middle;'></progress>\n",
              "      [9/9 00:52, Epoch 3/3]\n",
              "    </div>\n",
              "    <table border=\"1\" class=\"dataframe\">\n",
              "  <thead>\n",
              " <tr style=\"text-align: left;\">\n",
              "      <th>Step</th>\n",
              "      <th>Training Loss</th>\n",
              "      <th>Validation Loss</th>\n",
              "    </tr>\n",
              "  </thead>\n",
              "  <tbody>\n",
              "    <tr>\n",
              "      <td>1</td>\n",
              "      <td>2.553000</td>\n",
              "      <td>2.350486</td>\n",
              "    </tr>\n",
              "    <tr>\n",
              "      <td>2</td>\n",
              "      <td>2.489600</td>\n",
              "      <td>2.323623</td>\n",
              "    </tr>\n",
              "    <tr>\n",
              "      <td>3</td>\n",
              "      <td>2.209500</td>\n",
              "      <td>2.336241</td>\n",
              "    </tr>\n",
              "    <tr>\n",
              "      <td>4</td>\n",
              "      <td>2.341000</td>\n",
              "      <td>2.328743</td>\n",
              "    </tr>\n",
              "    <tr>\n",
              "      <td>5</td>\n",
              "      <td>2.409500</td>\n",
              "      <td>2.319735</td>\n",
              "    </tr>\n",
              "    <tr>\n",
              "      <td>6</td>\n",
              "      <td>2.091700</td>\n",
              "      <td>2.315876</td>\n",
              "    </tr>\n",
              "    <tr>\n",
              "      <td>7</td>\n",
              "      <td>2.281000</td>\n",
              "      <td>2.314233</td>\n",
              "    </tr>\n",
              "    <tr>\n",
              "      <td>8</td>\n",
              "      <td>2.246300</td>\n",
              "      <td>2.312848</td>\n",
              "    </tr>\n",
              "    <tr>\n",
              "      <td>9</td>\n",
              "      <td>2.472200</td>\n",
              "      <td>2.310282</td>\n",
              "    </tr>\n",
              "  </tbody>\n",
              "</table><p>"
            ]
          },
          "metadata": {}
        },
        {
          "output_type": "stream",
          "name": "stderr",
          "text": [
            "/usr/local/lib/python3.10/dist-packages/torch/utils/checkpoint.py:429: UserWarning:\n",
            "\n",
            "torch.utils.checkpoint: please pass in use_reentrant=True or use_reentrant=False explicitly. The default value of use_reentrant will be updated to be False in the future. To maintain current behavior, pass use_reentrant=True. It is recommended that you use use_reentrant=False. Refer to docs for more details on the differences between the two variants.\n",
            "\n",
            "/usr/local/lib/python3.10/dist-packages/torch/utils/checkpoint.py:429: UserWarning:\n",
            "\n",
            "torch.utils.checkpoint: please pass in use_reentrant=True or use_reentrant=False explicitly. The default value of use_reentrant will be updated to be False in the future. To maintain current behavior, pass use_reentrant=True. It is recommended that you use use_reentrant=False. Refer to docs for more details on the differences between the two variants.\n",
            "\n",
            "/usr/local/lib/python3.10/dist-packages/torch/utils/checkpoint.py:429: UserWarning:\n",
            "\n",
            "torch.utils.checkpoint: please pass in use_reentrant=True or use_reentrant=False explicitly. The default value of use_reentrant will be updated to be False in the future. To maintain current behavior, pass use_reentrant=True. It is recommended that you use use_reentrant=False. Refer to docs for more details on the differences between the two variants.\n",
            "\n",
            "/usr/local/lib/python3.10/dist-packages/torch/utils/checkpoint.py:429: UserWarning:\n",
            "\n",
            "torch.utils.checkpoint: please pass in use_reentrant=True or use_reentrant=False explicitly. The default value of use_reentrant will be updated to be False in the future. To maintain current behavior, pass use_reentrant=True. It is recommended that you use use_reentrant=False. Refer to docs for more details on the differences between the two variants.\n",
            "\n",
            "/usr/local/lib/python3.10/dist-packages/torch/utils/checkpoint.py:429: UserWarning:\n",
            "\n",
            "torch.utils.checkpoint: please pass in use_reentrant=True or use_reentrant=False explicitly. The default value of use_reentrant will be updated to be False in the future. To maintain current behavior, pass use_reentrant=True. It is recommended that you use use_reentrant=False. Refer to docs for more details on the differences between the two variants.\n",
            "\n",
            "/usr/local/lib/python3.10/dist-packages/torch/utils/checkpoint.py:429: UserWarning:\n",
            "\n",
            "torch.utils.checkpoint: please pass in use_reentrant=True or use_reentrant=False explicitly. The default value of use_reentrant will be updated to be False in the future. To maintain current behavior, pass use_reentrant=True. It is recommended that you use use_reentrant=False. Refer to docs for more details on the differences between the two variants.\n",
            "\n",
            "/usr/local/lib/python3.10/dist-packages/torch/utils/checkpoint.py:429: UserWarning:\n",
            "\n",
            "torch.utils.checkpoint: please pass in use_reentrant=True or use_reentrant=False explicitly. The default value of use_reentrant will be updated to be False in the future. To maintain current behavior, pass use_reentrant=True. It is recommended that you use use_reentrant=False. Refer to docs for more details on the differences between the two variants.\n",
            "\n",
            "/usr/local/lib/python3.10/dist-packages/torch/utils/checkpoint.py:429: UserWarning:\n",
            "\n",
            "torch.utils.checkpoint: please pass in use_reentrant=True or use_reentrant=False explicitly. The default value of use_reentrant will be updated to be False in the future. To maintain current behavior, pass use_reentrant=True. It is recommended that you use use_reentrant=False. Refer to docs for more details on the differences between the two variants.\n",
            "\n"
          ]
        },
        {
          "output_type": "stream",
          "name": "stdout",
          "text": [
            "The best model was saved at step 9.\n"
          ]
        },
        {
          "output_type": "display_data",
          "data": {
            "text/plain": [
              "Downloading builder script:   0%|          | 0.00/4.20k [00:00<?, ?B/s]"
            ],
            "application/vnd.jupyter.widget-view+json": {
              "version_major": 2,
              "version_minor": 0,
              "model_id": "584aa76ea4044c0d90c6d45135e615c7"
            }
          },
          "metadata": {}
        },
        {
          "output_type": "display_data",
          "data": {
            "text/plain": [
              "VBox(children=(Label(value='0.002 MB of 0.002 MB uploaded\\r'), FloatProgress(value=1.0, max=1.0)))"
            ],
            "application/vnd.jupyter.widget-view+json": {
              "version_major": 2,
              "version_minor": 0,
              "model_id": "376ecfc0a908434a8aeea748703175bc"
            }
          },
          "metadata": {}
        },
        {
          "output_type": "display_data",
          "data": {
            "text/plain": [
              "<IPython.core.display.HTML object>"
            ],
            "text/html": [
              "<style>\n",
              "    table.wandb td:nth-child(1) { padding: 0 10px; text-align: left ; width: auto;} td:nth-child(2) {text-align: left ; width: 100%}\n",
              "    .wandb-row { display: flex; flex-direction: row; flex-wrap: wrap; justify-content: flex-start; width: 100% }\n",
              "    .wandb-col { display: flex; flex-direction: column; flex-basis: 100%; flex: 1; padding: 10px; }\n",
              "    </style>\n",
              "<div class=\"wandb-row\"><div class=\"wandb-col\"><h3>Run history:</h3><br/><table class=\"wandb\"><tr><td>eval/loss</td><td>█▃▆▄▃▂▂▁▁</td></tr><tr><td>eval/runtime</td><td>▂▂▂▆▄█▄▄▁</td></tr><tr><td>eval/samples_per_second</td><td>▇▆▇▃▅▁▅▅█</td></tr><tr><td>eval/steps_per_second</td><td>▇▆▇▃▅▁▅▅█</td></tr><tr><td>train/epoch</td><td>▁▁▂▂▃▃▄▄▅▅▅▅▆▆▇▇███</td></tr><tr><td>train/global_step</td><td>▁▁▂▂▃▃▄▄▅▅▅▅▆▆▇▇████</td></tr><tr><td>train/learning_rate</td><td>█▇▆▅▅▄▃▂▁</td></tr><tr><td>train/loss</td><td>█▇▃▅▆▁▄▃▇</td></tr><tr><td>train/total_flos</td><td>▁</td></tr><tr><td>train/train_loss</td><td>▁</td></tr><tr><td>train/train_runtime</td><td>▁</td></tr><tr><td>train/train_samples_per_second</td><td>▁</td></tr><tr><td>train/train_steps_per_second</td><td>▁</td></tr></table><br/></div><div class=\"wandb-col\"><h3>Run summary:</h3><br/><table class=\"wandb\"><tr><td>best_model_checkpoint_step</td><td>9</td></tr><tr><td>eval/loss</td><td>2.31028</td></tr><tr><td>eval/runtime</td><td>0.5722</td></tr><tr><td>eval/samples_per_second</td><td>17.476</td></tr><tr><td>eval/steps_per_second</td><td>5.243</td></tr><tr><td>train/epoch</td><td>3.0</td></tr><tr><td>train/global_step</td><td>9</td></tr><tr><td>train/learning_rate</td><td>0.0</td></tr><tr><td>train/loss</td><td>2.4722</td></tr><tr><td>train/total_flos</td><td>33154374242304.0</td></tr><tr><td>train/train_loss</td><td>2.34375</td></tr><tr><td>train/train_runtime</td><td>58.4304</td></tr><tr><td>train/train_samples_per_second</td><td>0.513</td></tr><tr><td>train/train_steps_per_second</td><td>0.154</td></tr></table><br/></div></div>"
            ]
          },
          "metadata": {}
        },
        {
          "output_type": "display_data",
          "data": {
            "text/plain": [
              "<IPython.core.display.HTML object>"
            ],
            "text/html": [
              " View run <strong style=\"color:#cdcd00\">bert-base-uncased</strong> at: <a href='https://wandb.ai/shremuk/HW7-stackoverflow-dataset/runs/vpg93i0t' target=\"_blank\">https://wandb.ai/shremuk/HW7-stackoverflow-dataset/runs/vpg93i0t</a><br/>Synced 5 W&B file(s), 0 media file(s), 0 artifact file(s) and 0 other file(s)"
            ]
          },
          "metadata": {}
        },
        {
          "output_type": "display_data",
          "data": {
            "text/plain": [
              "<IPython.core.display.HTML object>"
            ],
            "text/html": [
              "Find logs at: <code>./wandb/run-20231119_033434-vpg93i0t/logs</code>"
            ]
          },
          "metadata": {}
        }
      ]
    },
    {
      "cell_type": "code",
      "source": [
        "model, config = initialize_model(checkpoint, class_names)\n",
        "tokenizer = AutoTokenizer.from_pretrained(checkpoint)\n",
        "\n",
        "# 5. Initialize Trainer\n",
        "collate_fn = partial(collate_function, tokenizer=tokenizer,max_length = 512, stride = 16)\n",
        "\n",
        "trainer = get_trainer(model, training_args, train_val_subset['train'], train_val_subset['val'], 'average_log_probs', tokenizer, collate_fn)\n",
        "path = 'checkpoint-'+ str(best_mod)\n",
        "checkpoint = str(model_folder/path)\n",
        "model = AutoModelForSequenceClassification.from_pretrained(checkpoint)\n",
        "\n",
        "# Make sure to use 'cuda' if a GPU is available.\n",
        "device = 'cuda' if torch.cuda.is_available() else 'cpu'\n",
        "\n",
        "model = model.to(device=device)\n",
        "\n",
        "val_acc, val_pred, val_labels = evaluate_model(trainer.get_test_dataloader(train_val_subset['val']), model, metric_only=False)"
      ],
      "metadata": {
        "id": "OH8W5-ixaWoS",
        "colab": {
          "base_uri": "https://localhost:8080/"
        },
        "outputId": "5ac36a96-445c-4751-fc0c-baaddfa84b3b"
      },
      "execution_count": 59,
      "outputs": [
        {
          "output_type": "stream",
          "name": "stderr",
          "text": [
            "Some weights of BertForSequenceClassification were not initialized from the model checkpoint at bert-base-uncased and are newly initialized: ['classifier.bias', 'classifier.weight']\n",
            "You should probably TRAIN this model on a down-stream task to be able to use it for predictions and inference.\n"
          ]
        }
      ]
    },
    {
      "cell_type": "code",
      "source": [
        "print(f'Val accuracy = {val_acc}', '\\n', f'Val predicted values = {val_pred}', '\\n', f'Val labels = {val_labels}')"
      ],
      "metadata": {
        "colab": {
          "base_uri": "https://localhost:8080/"
        },
        "id": "R717FsCRvzim",
        "outputId": "febdb8b1-0c06-4a10-8bbd-8d78b5b79172"
      },
      "execution_count": 60,
      "outputs": [
        {
          "output_type": "stream",
          "name": "stdout",
          "text": [
            "Val accuracy = 0.1 \n",
            " Val predicted values = [2, 2, 2, 2, 2, 2, 2, 2, 2, 2] \n",
            " Val labels = [0, 1, 2, 3, 4, 5, 6, 7, 8, 9]\n"
          ]
        }
      ]
    },
    {
      "cell_type": "code",
      "source": [
        "test_acc, test_pred, test_labels = evaluate_model(trainer.get_test_dataloader(test_dataset['test']), model, metric_only=False)"
      ],
      "metadata": {
        "id": "NeiQZmEhRBb0"
      },
      "execution_count": 61,
      "outputs": []
    },
    {
      "cell_type": "code",
      "source": [
        "print(f'Test accuracy = {test_acc}', '\\n', f'Test predicted values = {test_pred[0:10]}', '\\n', f'Test labels = {test_labels[0:10]}')"
      ],
      "metadata": {
        "colab": {
          "base_uri": "https://localhost:8080/"
        },
        "id": "UmjSIHRSRfbq",
        "outputId": "c951e841-90ca-4e82-d624-6728e09683be"
      },
      "execution_count": 62,
      "outputs": [
        {
          "output_type": "stream",
          "name": "stdout",
          "text": [
            "Test accuracy = 0.11413612565445026 \n",
            " Test predicted values = [2, 2, 2, 2, 2, 2, 2, 2, 2, 2] \n",
            " Test labels = [7, 1, 1, 9, 4, 1, 4, 4, 4, 4]\n"
          ]
        }
      ]
    }
  ]
}