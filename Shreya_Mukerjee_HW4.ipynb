{
  "cells": [
    {
      "cell_type": "code",
      "execution_count": 42,
      "id": "a8874050",
      "metadata": {
        "id": "a8874050"
      },
      "outputs": [],
      "source": [
        "import joblib\n",
        "import os\n",
        "import torch\n",
        "import torch.nn as nn\n",
        "import pandas as pd\n",
        "import ast\n",
        "from torchtext.vocab import vocab\n",
        "from collections import Counter\n",
        "from torch.utils.data import Dataset, DataLoader\n",
        "from sklearn.model_selection import train_test_split\n",
        "from sklearn.preprocessing import MultiLabelBinarizer\n",
        "from transformers.modeling_outputs import SequenceClassifierOutput\n",
        "from transformers import PreTrainedModel, PretrainedConfig\n",
        "from functools import partial\n",
        "from types import SimpleNamespace as sn\n",
        "import torch.nn.functional as F\n",
        "\n",
        "from torchinfo import summary\n",
        "import random\n",
        "import numpy as np\n",
        "\n",
        "# For filesystem path handling, generating and displaying confusion matrices, and date-time manipulations\n",
        "from pathlib import Path\n",
        "from sklearn.metrics import confusion_matrix, ConfusionMatrixDisplay\n",
        "from datetime import datetime\n",
        "from torchmetrics import HammingDistance\n",
        "\n",
        "# For plotting and visualization\n",
        "import matplotlib.pyplot as plt"
      ]
    },
    {
      "cell_type": "code",
      "source": [
        "# !pip install torchinfo"
      ],
      "metadata": {
        "id": "EFzcUCX7Ywr4"
      },
      "id": "EFzcUCX7Ywr4",
      "execution_count": 43,
      "outputs": []
    },
    {
      "cell_type": "code",
      "source": [
        "# Determine the storage location based on the execution environment\n",
        "# If running on Google Colab, use Google Drive as storage\n",
        "if 'google.colab' in str(get_ipython()):\n",
        "    from google.colab import drive  # Import Google Drive mounting utility\n",
        "    drive.mount('/content/drive')  # Mount Google Drive\n",
        "    os.chdir('/content//drive//My Drive//Colab_Notebooks//NLP')\n",
        "\n",
        "    # REPLACE WITH YOUR FOLDER\n",
        "    project_folder = Path('content//drive//My Drive/Colab_Notebooks/NLP')\n",
        "\n",
        "# If running locally, specify a different path\n",
        "else:\n",
        "    # Set base folder path for storing files on local machine\n",
        "    # REPLACE WITH YOUR FOLDER\n",
        "    # FILL THIS ONLY IF YOU ARE RUNNING ON A LOCAL MACHINE\n",
        "\n",
        "    project_folder = Path('')"
      ],
      "metadata": {
        "colab": {
          "base_uri": "https://localhost:8080/"
        },
        "id": "Pbe5TOpzXyaQ",
        "outputId": "c6594855-419c-4f3c-e4a5-84b8941aab51"
      },
      "id": "Pbe5TOpzXyaQ",
      "execution_count": 44,
      "outputs": [
        {
          "output_type": "stream",
          "name": "stdout",
          "text": [
            "Drive already mounted at /content/drive; to attempt to forcibly remount, call drive.mount(\"/content/drive\", force_remount=True).\n"
          ]
        }
      ]
    },
    {
      "cell_type": "code",
      "execution_count": 45,
      "id": "8df716d2",
      "metadata": {
        "id": "8df716d2"
      },
      "outputs": [],
      "source": [
        "data = joblib.load('df_multilabel_hw_cleaned.joblib')"
      ]
    },
    {
      "cell_type": "code",
      "execution_count": 46,
      "id": "5413838f",
      "metadata": {
        "colab": {
          "base_uri": "https://localhost:8080/",
          "height": 206
        },
        "id": "5413838f",
        "outputId": "84141a5c-3956-4b4c-b0e1-df7f2f456398"
      },
      "outputs": [
        {
          "output_type": "execute_result",
          "data": {
            "text/plain": [
              "                                        cleaned_text               Tags  \\\n",
              "0  asp query stre dropdown webpage follow control...         c# asp.net   \n",
              "1  run javascript code server java code want run ...    java javascript   \n",
              "2  linq sql throw exception row find change hi li...         c# asp.net   \n",
              "3  run python script php server run nginx web ser...         php python   \n",
              "4  advice write function m try write function res...  javascript jquery   \n",
              "\n",
              "  Tag_Number  \n",
              "0     [0, 9]  \n",
              "1     [1, 3]  \n",
              "2     [0, 9]  \n",
              "3     [2, 7]  \n",
              "4     [3, 5]  "
            ],
            "text/html": [
              "\n",
              "  <div id=\"df-d0845371-29f2-44a5-b221-bddb38337c38\" class=\"colab-df-container\">\n",
              "    <div>\n",
              "<style scoped>\n",
              "    .dataframe tbody tr th:only-of-type {\n",
              "        vertical-align: middle;\n",
              "    }\n",
              "\n",
              "    .dataframe tbody tr th {\n",
              "        vertical-align: top;\n",
              "    }\n",
              "\n",
              "    .dataframe thead th {\n",
              "        text-align: right;\n",
              "    }\n",
              "</style>\n",
              "<table border=\"1\" class=\"dataframe\">\n",
              "  <thead>\n",
              "    <tr style=\"text-align: right;\">\n",
              "      <th></th>\n",
              "      <th>cleaned_text</th>\n",
              "      <th>Tags</th>\n",
              "      <th>Tag_Number</th>\n",
              "    </tr>\n",
              "  </thead>\n",
              "  <tbody>\n",
              "    <tr>\n",
              "      <th>0</th>\n",
              "      <td>asp query stre dropdown webpage follow control...</td>\n",
              "      <td>c# asp.net</td>\n",
              "      <td>[0, 9]</td>\n",
              "    </tr>\n",
              "    <tr>\n",
              "      <th>1</th>\n",
              "      <td>run javascript code server java code want run ...</td>\n",
              "      <td>java javascript</td>\n",
              "      <td>[1, 3]</td>\n",
              "    </tr>\n",
              "    <tr>\n",
              "      <th>2</th>\n",
              "      <td>linq sql throw exception row find change hi li...</td>\n",
              "      <td>c# asp.net</td>\n",
              "      <td>[0, 9]</td>\n",
              "    </tr>\n",
              "    <tr>\n",
              "      <th>3</th>\n",
              "      <td>run python script php server run nginx web ser...</td>\n",
              "      <td>php python</td>\n",
              "      <td>[2, 7]</td>\n",
              "    </tr>\n",
              "    <tr>\n",
              "      <th>4</th>\n",
              "      <td>advice write function m try write function res...</td>\n",
              "      <td>javascript jquery</td>\n",
              "      <td>[3, 5]</td>\n",
              "    </tr>\n",
              "  </tbody>\n",
              "</table>\n",
              "</div>\n",
              "    <div class=\"colab-df-buttons\">\n",
              "\n",
              "  <div class=\"colab-df-container\">\n",
              "    <button class=\"colab-df-convert\" onclick=\"convertToInteractive('df-d0845371-29f2-44a5-b221-bddb38337c38')\"\n",
              "            title=\"Convert this dataframe to an interactive table.\"\n",
              "            style=\"display:none;\">\n",
              "\n",
              "  <svg xmlns=\"http://www.w3.org/2000/svg\" height=\"24px\" viewBox=\"0 -960 960 960\">\n",
              "    <path d=\"M120-120v-720h720v720H120Zm60-500h600v-160H180v160Zm220 220h160v-160H400v160Zm0 220h160v-160H400v160ZM180-400h160v-160H180v160Zm440 0h160v-160H620v160ZM180-180h160v-160H180v160Zm440 0h160v-160H620v160Z\"/>\n",
              "  </svg>\n",
              "    </button>\n",
              "\n",
              "  <style>\n",
              "    .colab-df-container {\n",
              "      display:flex;\n",
              "      gap: 12px;\n",
              "    }\n",
              "\n",
              "    .colab-df-convert {\n",
              "      background-color: #E8F0FE;\n",
              "      border: none;\n",
              "      border-radius: 50%;\n",
              "      cursor: pointer;\n",
              "      display: none;\n",
              "      fill: #1967D2;\n",
              "      height: 32px;\n",
              "      padding: 0 0 0 0;\n",
              "      width: 32px;\n",
              "    }\n",
              "\n",
              "    .colab-df-convert:hover {\n",
              "      background-color: #E2EBFA;\n",
              "      box-shadow: 0px 1px 2px rgba(60, 64, 67, 0.3), 0px 1px 3px 1px rgba(60, 64, 67, 0.15);\n",
              "      fill: #174EA6;\n",
              "    }\n",
              "\n",
              "    .colab-df-buttons div {\n",
              "      margin-bottom: 4px;\n",
              "    }\n",
              "\n",
              "    [theme=dark] .colab-df-convert {\n",
              "      background-color: #3B4455;\n",
              "      fill: #D2E3FC;\n",
              "    }\n",
              "\n",
              "    [theme=dark] .colab-df-convert:hover {\n",
              "      background-color: #434B5C;\n",
              "      box-shadow: 0px 1px 3px 1px rgba(0, 0, 0, 0.15);\n",
              "      filter: drop-shadow(0px 1px 2px rgba(0, 0, 0, 0.3));\n",
              "      fill: #FFFFFF;\n",
              "    }\n",
              "  </style>\n",
              "\n",
              "    <script>\n",
              "      const buttonEl =\n",
              "        document.querySelector('#df-d0845371-29f2-44a5-b221-bddb38337c38 button.colab-df-convert');\n",
              "      buttonEl.style.display =\n",
              "        google.colab.kernel.accessAllowed ? 'block' : 'none';\n",
              "\n",
              "      async function convertToInteractive(key) {\n",
              "        const element = document.querySelector('#df-d0845371-29f2-44a5-b221-bddb38337c38');\n",
              "        const dataTable =\n",
              "          await google.colab.kernel.invokeFunction('convertToInteractive',\n",
              "                                                    [key], {});\n",
              "        if (!dataTable) return;\n",
              "\n",
              "        const docLinkHtml = 'Like what you see? Visit the ' +\n",
              "          '<a target=\"_blank\" href=https://colab.research.google.com/notebooks/data_table.ipynb>data table notebook</a>'\n",
              "          + ' to learn more about interactive tables.';\n",
              "        element.innerHTML = '';\n",
              "        dataTable['output_type'] = 'display_data';\n",
              "        await google.colab.output.renderOutput(dataTable, element);\n",
              "        const docLink = document.createElement('div');\n",
              "        docLink.innerHTML = docLinkHtml;\n",
              "        element.appendChild(docLink);\n",
              "      }\n",
              "    </script>\n",
              "  </div>\n",
              "\n",
              "\n",
              "<div id=\"df-a23371cb-4179-40c7-a425-2d37d6ee75c3\">\n",
              "  <button class=\"colab-df-quickchart\" onclick=\"quickchart('df-a23371cb-4179-40c7-a425-2d37d6ee75c3')\"\n",
              "            title=\"Suggest charts.\"\n",
              "            style=\"display:none;\">\n",
              "\n",
              "<svg xmlns=\"http://www.w3.org/2000/svg\" height=\"24px\"viewBox=\"0 0 24 24\"\n",
              "     width=\"24px\">\n",
              "    <g>\n",
              "        <path d=\"M19 3H5c-1.1 0-2 .9-2 2v14c0 1.1.9 2 2 2h14c1.1 0 2-.9 2-2V5c0-1.1-.9-2-2-2zM9 17H7v-7h2v7zm4 0h-2V7h2v10zm4 0h-2v-4h2v4z\"/>\n",
              "    </g>\n",
              "</svg>\n",
              "  </button>\n",
              "\n",
              "<style>\n",
              "  .colab-df-quickchart {\n",
              "      --bg-color: #E8F0FE;\n",
              "      --fill-color: #1967D2;\n",
              "      --hover-bg-color: #E2EBFA;\n",
              "      --hover-fill-color: #174EA6;\n",
              "      --disabled-fill-color: #AAA;\n",
              "      --disabled-bg-color: #DDD;\n",
              "  }\n",
              "\n",
              "  [theme=dark] .colab-df-quickchart {\n",
              "      --bg-color: #3B4455;\n",
              "      --fill-color: #D2E3FC;\n",
              "      --hover-bg-color: #434B5C;\n",
              "      --hover-fill-color: #FFFFFF;\n",
              "      --disabled-bg-color: #3B4455;\n",
              "      --disabled-fill-color: #666;\n",
              "  }\n",
              "\n",
              "  .colab-df-quickchart {\n",
              "    background-color: var(--bg-color);\n",
              "    border: none;\n",
              "    border-radius: 50%;\n",
              "    cursor: pointer;\n",
              "    display: none;\n",
              "    fill: var(--fill-color);\n",
              "    height: 32px;\n",
              "    padding: 0;\n",
              "    width: 32px;\n",
              "  }\n",
              "\n",
              "  .colab-df-quickchart:hover {\n",
              "    background-color: var(--hover-bg-color);\n",
              "    box-shadow: 0 1px 2px rgba(60, 64, 67, 0.3), 0 1px 3px 1px rgba(60, 64, 67, 0.15);\n",
              "    fill: var(--button-hover-fill-color);\n",
              "  }\n",
              "\n",
              "  .colab-df-quickchart-complete:disabled,\n",
              "  .colab-df-quickchart-complete:disabled:hover {\n",
              "    background-color: var(--disabled-bg-color);\n",
              "    fill: var(--disabled-fill-color);\n",
              "    box-shadow: none;\n",
              "  }\n",
              "\n",
              "  .colab-df-spinner {\n",
              "    border: 2px solid var(--fill-color);\n",
              "    border-color: transparent;\n",
              "    border-bottom-color: var(--fill-color);\n",
              "    animation:\n",
              "      spin 1s steps(1) infinite;\n",
              "  }\n",
              "\n",
              "  @keyframes spin {\n",
              "    0% {\n",
              "      border-color: transparent;\n",
              "      border-bottom-color: var(--fill-color);\n",
              "      border-left-color: var(--fill-color);\n",
              "    }\n",
              "    20% {\n",
              "      border-color: transparent;\n",
              "      border-left-color: var(--fill-color);\n",
              "      border-top-color: var(--fill-color);\n",
              "    }\n",
              "    30% {\n",
              "      border-color: transparent;\n",
              "      border-left-color: var(--fill-color);\n",
              "      border-top-color: var(--fill-color);\n",
              "      border-right-color: var(--fill-color);\n",
              "    }\n",
              "    40% {\n",
              "      border-color: transparent;\n",
              "      border-right-color: var(--fill-color);\n",
              "      border-top-color: var(--fill-color);\n",
              "    }\n",
              "    60% {\n",
              "      border-color: transparent;\n",
              "      border-right-color: var(--fill-color);\n",
              "    }\n",
              "    80% {\n",
              "      border-color: transparent;\n",
              "      border-right-color: var(--fill-color);\n",
              "      border-bottom-color: var(--fill-color);\n",
              "    }\n",
              "    90% {\n",
              "      border-color: transparent;\n",
              "      border-bottom-color: var(--fill-color);\n",
              "    }\n",
              "  }\n",
              "</style>\n",
              "\n",
              "  <script>\n",
              "    async function quickchart(key) {\n",
              "      const quickchartButtonEl =\n",
              "        document.querySelector('#' + key + ' button');\n",
              "      quickchartButtonEl.disabled = true;  // To prevent multiple clicks.\n",
              "      quickchartButtonEl.classList.add('colab-df-spinner');\n",
              "      try {\n",
              "        const charts = await google.colab.kernel.invokeFunction(\n",
              "            'suggestCharts', [key], {});\n",
              "      } catch (error) {\n",
              "        console.error('Error during call to suggestCharts:', error);\n",
              "      }\n",
              "      quickchartButtonEl.classList.remove('colab-df-spinner');\n",
              "      quickchartButtonEl.classList.add('colab-df-quickchart-complete');\n",
              "    }\n",
              "    (() => {\n",
              "      let quickchartButtonEl =\n",
              "        document.querySelector('#df-a23371cb-4179-40c7-a425-2d37d6ee75c3 button');\n",
              "      quickchartButtonEl.style.display =\n",
              "        google.colab.kernel.accessAllowed ? 'block' : 'none';\n",
              "    })();\n",
              "  </script>\n",
              "</div>\n",
              "    </div>\n",
              "  </div>\n"
            ]
          },
          "metadata": {},
          "execution_count": 46
        }
      ],
      "source": [
        "data.head()"
      ]
    },
    {
      "cell_type": "code",
      "execution_count": 47,
      "id": "3af9c7b3",
      "metadata": {
        "colab": {
          "base_uri": "https://localhost:8080/"
        },
        "id": "3af9c7b3",
        "outputId": "abec9c4d-d76d-4796-9efb-6b4732263dc7"
      },
      "outputs": [
        {
          "output_type": "execute_result",
          "data": {
            "text/plain": [
              "javascript jquery                   0.421469\n",
              "c# asp.net                          0.168385\n",
              "java android                        0.145951\n",
              "php javascript                      0.045649\n",
              "php jquery                          0.031606\n",
              "                                      ...   \n",
              "c# php javascript asp.net jquery    0.000021\n",
              "javascript asp.net android          0.000021\n",
              "php javascript iphone               0.000021\n",
              "java php iphone c++ android         0.000021\n",
              "javascript php                      0.000021\n",
              "Name: Tags, Length: 176, dtype: float64"
            ]
          },
          "metadata": {},
          "execution_count": 47
        }
      ],
      "source": [
        "data.Tags.value_counts(normalize = True)"
      ]
    },
    {
      "cell_type": "code",
      "execution_count": 48,
      "id": "dc87a4ef",
      "metadata": {
        "colab": {
          "base_uri": "https://localhost:8080/"
        },
        "id": "dc87a4ef",
        "outputId": "71fef1a3-c674-4472-8fc1-545d70aa2177"
      },
      "outputs": [
        {
          "output_type": "execute_result",
          "data": {
            "text/plain": [
              "(0, 9)"
            ]
          },
          "metadata": {},
          "execution_count": 48
        }
      ],
      "source": [
        "tuple(ast.literal_eval(data.Tag_Number[0]))"
      ]
    },
    {
      "cell_type": "code",
      "execution_count": 49,
      "id": "4af75140",
      "metadata": {
        "id": "4af75140"
      },
      "outputs": [],
      "source": [
        "data['Tag_Number'] = data.Tag_Number.apply(lambda x: tuple(ast.literal_eval(x)))"
      ]
    },
    {
      "cell_type": "code",
      "execution_count": 50,
      "id": "e4b6a3a7",
      "metadata": {
        "colab": {
          "base_uri": "https://localhost:8080/",
          "height": 206
        },
        "id": "e4b6a3a7",
        "outputId": "127293ba-ba1d-4e9f-c456-22f263cef987"
      },
      "outputs": [
        {
          "output_type": "execute_result",
          "data": {
            "text/plain": [
              "                                        cleaned_text               Tags  \\\n",
              "0  asp query stre dropdown webpage follow control...         c# asp.net   \n",
              "1  run javascript code server java code want run ...    java javascript   \n",
              "2  linq sql throw exception row find change hi li...         c# asp.net   \n",
              "3  run python script php server run nginx web ser...         php python   \n",
              "4  advice write function m try write function res...  javascript jquery   \n",
              "\n",
              "  Tag_Number  \n",
              "0     (0, 9)  \n",
              "1     (1, 3)  \n",
              "2     (0, 9)  \n",
              "3     (2, 7)  \n",
              "4     (3, 5)  "
            ],
            "text/html": [
              "\n",
              "  <div id=\"df-76752241-efd8-4360-acc2-542dd0d897bd\" class=\"colab-df-container\">\n",
              "    <div>\n",
              "<style scoped>\n",
              "    .dataframe tbody tr th:only-of-type {\n",
              "        vertical-align: middle;\n",
              "    }\n",
              "\n",
              "    .dataframe tbody tr th {\n",
              "        vertical-align: top;\n",
              "    }\n",
              "\n",
              "    .dataframe thead th {\n",
              "        text-align: right;\n",
              "    }\n",
              "</style>\n",
              "<table border=\"1\" class=\"dataframe\">\n",
              "  <thead>\n",
              "    <tr style=\"text-align: right;\">\n",
              "      <th></th>\n",
              "      <th>cleaned_text</th>\n",
              "      <th>Tags</th>\n",
              "      <th>Tag_Number</th>\n",
              "    </tr>\n",
              "  </thead>\n",
              "  <tbody>\n",
              "    <tr>\n",
              "      <th>0</th>\n",
              "      <td>asp query stre dropdown webpage follow control...</td>\n",
              "      <td>c# asp.net</td>\n",
              "      <td>(0, 9)</td>\n",
              "    </tr>\n",
              "    <tr>\n",
              "      <th>1</th>\n",
              "      <td>run javascript code server java code want run ...</td>\n",
              "      <td>java javascript</td>\n",
              "      <td>(1, 3)</td>\n",
              "    </tr>\n",
              "    <tr>\n",
              "      <th>2</th>\n",
              "      <td>linq sql throw exception row find change hi li...</td>\n",
              "      <td>c# asp.net</td>\n",
              "      <td>(0, 9)</td>\n",
              "    </tr>\n",
              "    <tr>\n",
              "      <th>3</th>\n",
              "      <td>run python script php server run nginx web ser...</td>\n",
              "      <td>php python</td>\n",
              "      <td>(2, 7)</td>\n",
              "    </tr>\n",
              "    <tr>\n",
              "      <th>4</th>\n",
              "      <td>advice write function m try write function res...</td>\n",
              "      <td>javascript jquery</td>\n",
              "      <td>(3, 5)</td>\n",
              "    </tr>\n",
              "  </tbody>\n",
              "</table>\n",
              "</div>\n",
              "    <div class=\"colab-df-buttons\">\n",
              "\n",
              "  <div class=\"colab-df-container\">\n",
              "    <button class=\"colab-df-convert\" onclick=\"convertToInteractive('df-76752241-efd8-4360-acc2-542dd0d897bd')\"\n",
              "            title=\"Convert this dataframe to an interactive table.\"\n",
              "            style=\"display:none;\">\n",
              "\n",
              "  <svg xmlns=\"http://www.w3.org/2000/svg\" height=\"24px\" viewBox=\"0 -960 960 960\">\n",
              "    <path d=\"M120-120v-720h720v720H120Zm60-500h600v-160H180v160Zm220 220h160v-160H400v160Zm0 220h160v-160H400v160ZM180-400h160v-160H180v160Zm440 0h160v-160H620v160ZM180-180h160v-160H180v160Zm440 0h160v-160H620v160Z\"/>\n",
              "  </svg>\n",
              "    </button>\n",
              "\n",
              "  <style>\n",
              "    .colab-df-container {\n",
              "      display:flex;\n",
              "      gap: 12px;\n",
              "    }\n",
              "\n",
              "    .colab-df-convert {\n",
              "      background-color: #E8F0FE;\n",
              "      border: none;\n",
              "      border-radius: 50%;\n",
              "      cursor: pointer;\n",
              "      display: none;\n",
              "      fill: #1967D2;\n",
              "      height: 32px;\n",
              "      padding: 0 0 0 0;\n",
              "      width: 32px;\n",
              "    }\n",
              "\n",
              "    .colab-df-convert:hover {\n",
              "      background-color: #E2EBFA;\n",
              "      box-shadow: 0px 1px 2px rgba(60, 64, 67, 0.3), 0px 1px 3px 1px rgba(60, 64, 67, 0.15);\n",
              "      fill: #174EA6;\n",
              "    }\n",
              "\n",
              "    .colab-df-buttons div {\n",
              "      margin-bottom: 4px;\n",
              "    }\n",
              "\n",
              "    [theme=dark] .colab-df-convert {\n",
              "      background-color: #3B4455;\n",
              "      fill: #D2E3FC;\n",
              "    }\n",
              "\n",
              "    [theme=dark] .colab-df-convert:hover {\n",
              "      background-color: #434B5C;\n",
              "      box-shadow: 0px 1px 3px 1px rgba(0, 0, 0, 0.15);\n",
              "      filter: drop-shadow(0px 1px 2px rgba(0, 0, 0, 0.3));\n",
              "      fill: #FFFFFF;\n",
              "    }\n",
              "  </style>\n",
              "\n",
              "    <script>\n",
              "      const buttonEl =\n",
              "        document.querySelector('#df-76752241-efd8-4360-acc2-542dd0d897bd button.colab-df-convert');\n",
              "      buttonEl.style.display =\n",
              "        google.colab.kernel.accessAllowed ? 'block' : 'none';\n",
              "\n",
              "      async function convertToInteractive(key) {\n",
              "        const element = document.querySelector('#df-76752241-efd8-4360-acc2-542dd0d897bd');\n",
              "        const dataTable =\n",
              "          await google.colab.kernel.invokeFunction('convertToInteractive',\n",
              "                                                    [key], {});\n",
              "        if (!dataTable) return;\n",
              "\n",
              "        const docLinkHtml = 'Like what you see? Visit the ' +\n",
              "          '<a target=\"_blank\" href=https://colab.research.google.com/notebooks/data_table.ipynb>data table notebook</a>'\n",
              "          + ' to learn more about interactive tables.';\n",
              "        element.innerHTML = '';\n",
              "        dataTable['output_type'] = 'display_data';\n",
              "        await google.colab.output.renderOutput(dataTable, element);\n",
              "        const docLink = document.createElement('div');\n",
              "        docLink.innerHTML = docLinkHtml;\n",
              "        element.appendChild(docLink);\n",
              "      }\n",
              "    </script>\n",
              "  </div>\n",
              "\n",
              "\n",
              "<div id=\"df-c88c2c82-c80e-4e05-bd36-48b113dc01df\">\n",
              "  <button class=\"colab-df-quickchart\" onclick=\"quickchart('df-c88c2c82-c80e-4e05-bd36-48b113dc01df')\"\n",
              "            title=\"Suggest charts.\"\n",
              "            style=\"display:none;\">\n",
              "\n",
              "<svg xmlns=\"http://www.w3.org/2000/svg\" height=\"24px\"viewBox=\"0 0 24 24\"\n",
              "     width=\"24px\">\n",
              "    <g>\n",
              "        <path d=\"M19 3H5c-1.1 0-2 .9-2 2v14c0 1.1.9 2 2 2h14c1.1 0 2-.9 2-2V5c0-1.1-.9-2-2-2zM9 17H7v-7h2v7zm4 0h-2V7h2v10zm4 0h-2v-4h2v4z\"/>\n",
              "    </g>\n",
              "</svg>\n",
              "  </button>\n",
              "\n",
              "<style>\n",
              "  .colab-df-quickchart {\n",
              "      --bg-color: #E8F0FE;\n",
              "      --fill-color: #1967D2;\n",
              "      --hover-bg-color: #E2EBFA;\n",
              "      --hover-fill-color: #174EA6;\n",
              "      --disabled-fill-color: #AAA;\n",
              "      --disabled-bg-color: #DDD;\n",
              "  }\n",
              "\n",
              "  [theme=dark] .colab-df-quickchart {\n",
              "      --bg-color: #3B4455;\n",
              "      --fill-color: #D2E3FC;\n",
              "      --hover-bg-color: #434B5C;\n",
              "      --hover-fill-color: #FFFFFF;\n",
              "      --disabled-bg-color: #3B4455;\n",
              "      --disabled-fill-color: #666;\n",
              "  }\n",
              "\n",
              "  .colab-df-quickchart {\n",
              "    background-color: var(--bg-color);\n",
              "    border: none;\n",
              "    border-radius: 50%;\n",
              "    cursor: pointer;\n",
              "    display: none;\n",
              "    fill: var(--fill-color);\n",
              "    height: 32px;\n",
              "    padding: 0;\n",
              "    width: 32px;\n",
              "  }\n",
              "\n",
              "  .colab-df-quickchart:hover {\n",
              "    background-color: var(--hover-bg-color);\n",
              "    box-shadow: 0 1px 2px rgba(60, 64, 67, 0.3), 0 1px 3px 1px rgba(60, 64, 67, 0.15);\n",
              "    fill: var(--button-hover-fill-color);\n",
              "  }\n",
              "\n",
              "  .colab-df-quickchart-complete:disabled,\n",
              "  .colab-df-quickchart-complete:disabled:hover {\n",
              "    background-color: var(--disabled-bg-color);\n",
              "    fill: var(--disabled-fill-color);\n",
              "    box-shadow: none;\n",
              "  }\n",
              "\n",
              "  .colab-df-spinner {\n",
              "    border: 2px solid var(--fill-color);\n",
              "    border-color: transparent;\n",
              "    border-bottom-color: var(--fill-color);\n",
              "    animation:\n",
              "      spin 1s steps(1) infinite;\n",
              "  }\n",
              "\n",
              "  @keyframes spin {\n",
              "    0% {\n",
              "      border-color: transparent;\n",
              "      border-bottom-color: var(--fill-color);\n",
              "      border-left-color: var(--fill-color);\n",
              "    }\n",
              "    20% {\n",
              "      border-color: transparent;\n",
              "      border-left-color: var(--fill-color);\n",
              "      border-top-color: var(--fill-color);\n",
              "    }\n",
              "    30% {\n",
              "      border-color: transparent;\n",
              "      border-left-color: var(--fill-color);\n",
              "      border-top-color: var(--fill-color);\n",
              "      border-right-color: var(--fill-color);\n",
              "    }\n",
              "    40% {\n",
              "      border-color: transparent;\n",
              "      border-right-color: var(--fill-color);\n",
              "      border-top-color: var(--fill-color);\n",
              "    }\n",
              "    60% {\n",
              "      border-color: transparent;\n",
              "      border-right-color: var(--fill-color);\n",
              "    }\n",
              "    80% {\n",
              "      border-color: transparent;\n",
              "      border-right-color: var(--fill-color);\n",
              "      border-bottom-color: var(--fill-color);\n",
              "    }\n",
              "    90% {\n",
              "      border-color: transparent;\n",
              "      border-bottom-color: var(--fill-color);\n",
              "    }\n",
              "  }\n",
              "</style>\n",
              "\n",
              "  <script>\n",
              "    async function quickchart(key) {\n",
              "      const quickchartButtonEl =\n",
              "        document.querySelector('#' + key + ' button');\n",
              "      quickchartButtonEl.disabled = true;  // To prevent multiple clicks.\n",
              "      quickchartButtonEl.classList.add('colab-df-spinner');\n",
              "      try {\n",
              "        const charts = await google.colab.kernel.invokeFunction(\n",
              "            'suggestCharts', [key], {});\n",
              "      } catch (error) {\n",
              "        console.error('Error during call to suggestCharts:', error);\n",
              "      }\n",
              "      quickchartButtonEl.classList.remove('colab-df-spinner');\n",
              "      quickchartButtonEl.classList.add('colab-df-quickchart-complete');\n",
              "    }\n",
              "    (() => {\n",
              "      let quickchartButtonEl =\n",
              "        document.querySelector('#df-c88c2c82-c80e-4e05-bd36-48b113dc01df button');\n",
              "      quickchartButtonEl.style.display =\n",
              "        google.colab.kernel.accessAllowed ? 'block' : 'none';\n",
              "    })();\n",
              "  </script>\n",
              "</div>\n",
              "    </div>\n",
              "  </div>\n"
            ]
          },
          "metadata": {},
          "execution_count": 50
        }
      ],
      "source": [
        "data.head()"
      ]
    },
    {
      "cell_type": "markdown",
      "id": "189a3137",
      "metadata": {
        "id": "189a3137"
      },
      "source": [
        "#### One Hot encoding of target variable"
      ]
    },
    {
      "cell_type": "code",
      "execution_count": 51,
      "id": "87ace497",
      "metadata": {
        "id": "87ace497"
      },
      "outputs": [],
      "source": [
        "mb = MultiLabelBinarizer()\n",
        "mb_fit = mb.fit_transform(data.Tag_Number)"
      ]
    },
    {
      "cell_type": "code",
      "execution_count": 52,
      "id": "e410297e",
      "metadata": {
        "colab": {
          "base_uri": "https://localhost:8080/"
        },
        "id": "e410297e",
        "outputId": "d3be6405-1231-466f-a8df-8b822a164953"
      },
      "outputs": [
        {
          "output_type": "execute_result",
          "data": {
            "text/plain": [
              "array([0, 1, 2, 3, 4, 5, 6, 7, 8, 9])"
            ]
          },
          "metadata": {},
          "execution_count": 52
        }
      ],
      "source": [
        "mb.classes_"
      ]
    },
    {
      "cell_type": "code",
      "execution_count": 53,
      "id": "6c862930",
      "metadata": {
        "colab": {
          "base_uri": "https://localhost:8080/"
        },
        "id": "6c862930",
        "outputId": "93921b2f-1094-4af7-a5b6-6689d6deac02"
      },
      "outputs": [
        {
          "output_type": "execute_result",
          "data": {
            "text/plain": [
              "array([[1, 0, 0, ..., 0, 0, 1],\n",
              "       [0, 1, 0, ..., 0, 0, 0],\n",
              "       [1, 0, 0, ..., 0, 0, 1],\n",
              "       ...,\n",
              "       [0, 1, 0, ..., 0, 0, 0],\n",
              "       [0, 0, 0, ..., 0, 0, 1],\n",
              "       [0, 0, 0, ..., 0, 0, 0]])"
            ]
          },
          "metadata": {},
          "execution_count": 53
        }
      ],
      "source": [
        "mb_fit"
      ]
    },
    {
      "cell_type": "code",
      "execution_count": 54,
      "id": "7803fcbd",
      "metadata": {
        "id": "7803fcbd"
      },
      "outputs": [],
      "source": [
        "data['Target_encoded'] = mb_fit.tolist()"
      ]
    },
    {
      "cell_type": "code",
      "execution_count": 55,
      "id": "d6232d93",
      "metadata": {
        "colab": {
          "base_uri": "https://localhost:8080/",
          "height": 206
        },
        "id": "d6232d93",
        "outputId": "e0864387-e80e-4164-e32b-d9acb6076362"
      },
      "outputs": [
        {
          "output_type": "execute_result",
          "data": {
            "text/plain": [
              "                                        cleaned_text               Tags  \\\n",
              "0  asp query stre dropdown webpage follow control...         c# asp.net   \n",
              "1  run javascript code server java code want run ...    java javascript   \n",
              "2  linq sql throw exception row find change hi li...         c# asp.net   \n",
              "3  run python script php server run nginx web ser...         php python   \n",
              "4  advice write function m try write function res...  javascript jquery   \n",
              "\n",
              "  Tag_Number                  Target_encoded  \n",
              "0     (0, 9)  [1, 0, 0, 0, 0, 0, 0, 0, 0, 1]  \n",
              "1     (1, 3)  [0, 1, 0, 1, 0, 0, 0, 0, 0, 0]  \n",
              "2     (0, 9)  [1, 0, 0, 0, 0, 0, 0, 0, 0, 1]  \n",
              "3     (2, 7)  [0, 0, 1, 0, 0, 0, 0, 1, 0, 0]  \n",
              "4     (3, 5)  [0, 0, 0, 1, 0, 1, 0, 0, 0, 0]  "
            ],
            "text/html": [
              "\n",
              "  <div id=\"df-1fcb22d5-5d4a-4d6b-9c51-04678cb33e79\" class=\"colab-df-container\">\n",
              "    <div>\n",
              "<style scoped>\n",
              "    .dataframe tbody tr th:only-of-type {\n",
              "        vertical-align: middle;\n",
              "    }\n",
              "\n",
              "    .dataframe tbody tr th {\n",
              "        vertical-align: top;\n",
              "    }\n",
              "\n",
              "    .dataframe thead th {\n",
              "        text-align: right;\n",
              "    }\n",
              "</style>\n",
              "<table border=\"1\" class=\"dataframe\">\n",
              "  <thead>\n",
              "    <tr style=\"text-align: right;\">\n",
              "      <th></th>\n",
              "      <th>cleaned_text</th>\n",
              "      <th>Tags</th>\n",
              "      <th>Tag_Number</th>\n",
              "      <th>Target_encoded</th>\n",
              "    </tr>\n",
              "  </thead>\n",
              "  <tbody>\n",
              "    <tr>\n",
              "      <th>0</th>\n",
              "      <td>asp query stre dropdown webpage follow control...</td>\n",
              "      <td>c# asp.net</td>\n",
              "      <td>(0, 9)</td>\n",
              "      <td>[1, 0, 0, 0, 0, 0, 0, 0, 0, 1]</td>\n",
              "    </tr>\n",
              "    <tr>\n",
              "      <th>1</th>\n",
              "      <td>run javascript code server java code want run ...</td>\n",
              "      <td>java javascript</td>\n",
              "      <td>(1, 3)</td>\n",
              "      <td>[0, 1, 0, 1, 0, 0, 0, 0, 0, 0]</td>\n",
              "    </tr>\n",
              "    <tr>\n",
              "      <th>2</th>\n",
              "      <td>linq sql throw exception row find change hi li...</td>\n",
              "      <td>c# asp.net</td>\n",
              "      <td>(0, 9)</td>\n",
              "      <td>[1, 0, 0, 0, 0, 0, 0, 0, 0, 1]</td>\n",
              "    </tr>\n",
              "    <tr>\n",
              "      <th>3</th>\n",
              "      <td>run python script php server run nginx web ser...</td>\n",
              "      <td>php python</td>\n",
              "      <td>(2, 7)</td>\n",
              "      <td>[0, 0, 1, 0, 0, 0, 0, 1, 0, 0]</td>\n",
              "    </tr>\n",
              "    <tr>\n",
              "      <th>4</th>\n",
              "      <td>advice write function m try write function res...</td>\n",
              "      <td>javascript jquery</td>\n",
              "      <td>(3, 5)</td>\n",
              "      <td>[0, 0, 0, 1, 0, 1, 0, 0, 0, 0]</td>\n",
              "    </tr>\n",
              "  </tbody>\n",
              "</table>\n",
              "</div>\n",
              "    <div class=\"colab-df-buttons\">\n",
              "\n",
              "  <div class=\"colab-df-container\">\n",
              "    <button class=\"colab-df-convert\" onclick=\"convertToInteractive('df-1fcb22d5-5d4a-4d6b-9c51-04678cb33e79')\"\n",
              "            title=\"Convert this dataframe to an interactive table.\"\n",
              "            style=\"display:none;\">\n",
              "\n",
              "  <svg xmlns=\"http://www.w3.org/2000/svg\" height=\"24px\" viewBox=\"0 -960 960 960\">\n",
              "    <path d=\"M120-120v-720h720v720H120Zm60-500h600v-160H180v160Zm220 220h160v-160H400v160Zm0 220h160v-160H400v160ZM180-400h160v-160H180v160Zm440 0h160v-160H620v160ZM180-180h160v-160H180v160Zm440 0h160v-160H620v160Z\"/>\n",
              "  </svg>\n",
              "    </button>\n",
              "\n",
              "  <style>\n",
              "    .colab-df-container {\n",
              "      display:flex;\n",
              "      gap: 12px;\n",
              "    }\n",
              "\n",
              "    .colab-df-convert {\n",
              "      background-color: #E8F0FE;\n",
              "      border: none;\n",
              "      border-radius: 50%;\n",
              "      cursor: pointer;\n",
              "      display: none;\n",
              "      fill: #1967D2;\n",
              "      height: 32px;\n",
              "      padding: 0 0 0 0;\n",
              "      width: 32px;\n",
              "    }\n",
              "\n",
              "    .colab-df-convert:hover {\n",
              "      background-color: #E2EBFA;\n",
              "      box-shadow: 0px 1px 2px rgba(60, 64, 67, 0.3), 0px 1px 3px 1px rgba(60, 64, 67, 0.15);\n",
              "      fill: #174EA6;\n",
              "    }\n",
              "\n",
              "    .colab-df-buttons div {\n",
              "      margin-bottom: 4px;\n",
              "    }\n",
              "\n",
              "    [theme=dark] .colab-df-convert {\n",
              "      background-color: #3B4455;\n",
              "      fill: #D2E3FC;\n",
              "    }\n",
              "\n",
              "    [theme=dark] .colab-df-convert:hover {\n",
              "      background-color: #434B5C;\n",
              "      box-shadow: 0px 1px 3px 1px rgba(0, 0, 0, 0.15);\n",
              "      filter: drop-shadow(0px 1px 2px rgba(0, 0, 0, 0.3));\n",
              "      fill: #FFFFFF;\n",
              "    }\n",
              "  </style>\n",
              "\n",
              "    <script>\n",
              "      const buttonEl =\n",
              "        document.querySelector('#df-1fcb22d5-5d4a-4d6b-9c51-04678cb33e79 button.colab-df-convert');\n",
              "      buttonEl.style.display =\n",
              "        google.colab.kernel.accessAllowed ? 'block' : 'none';\n",
              "\n",
              "      async function convertToInteractive(key) {\n",
              "        const element = document.querySelector('#df-1fcb22d5-5d4a-4d6b-9c51-04678cb33e79');\n",
              "        const dataTable =\n",
              "          await google.colab.kernel.invokeFunction('convertToInteractive',\n",
              "                                                    [key], {});\n",
              "        if (!dataTable) return;\n",
              "\n",
              "        const docLinkHtml = 'Like what you see? Visit the ' +\n",
              "          '<a target=\"_blank\" href=https://colab.research.google.com/notebooks/data_table.ipynb>data table notebook</a>'\n",
              "          + ' to learn more about interactive tables.';\n",
              "        element.innerHTML = '';\n",
              "        dataTable['output_type'] = 'display_data';\n",
              "        await google.colab.output.renderOutput(dataTable, element);\n",
              "        const docLink = document.createElement('div');\n",
              "        docLink.innerHTML = docLinkHtml;\n",
              "        element.appendChild(docLink);\n",
              "      }\n",
              "    </script>\n",
              "  </div>\n",
              "\n",
              "\n",
              "<div id=\"df-e7b52455-4fcb-4a48-a955-0632e117953e\">\n",
              "  <button class=\"colab-df-quickchart\" onclick=\"quickchart('df-e7b52455-4fcb-4a48-a955-0632e117953e')\"\n",
              "            title=\"Suggest charts.\"\n",
              "            style=\"display:none;\">\n",
              "\n",
              "<svg xmlns=\"http://www.w3.org/2000/svg\" height=\"24px\"viewBox=\"0 0 24 24\"\n",
              "     width=\"24px\">\n",
              "    <g>\n",
              "        <path d=\"M19 3H5c-1.1 0-2 .9-2 2v14c0 1.1.9 2 2 2h14c1.1 0 2-.9 2-2V5c0-1.1-.9-2-2-2zM9 17H7v-7h2v7zm4 0h-2V7h2v10zm4 0h-2v-4h2v4z\"/>\n",
              "    </g>\n",
              "</svg>\n",
              "  </button>\n",
              "\n",
              "<style>\n",
              "  .colab-df-quickchart {\n",
              "      --bg-color: #E8F0FE;\n",
              "      --fill-color: #1967D2;\n",
              "      --hover-bg-color: #E2EBFA;\n",
              "      --hover-fill-color: #174EA6;\n",
              "      --disabled-fill-color: #AAA;\n",
              "      --disabled-bg-color: #DDD;\n",
              "  }\n",
              "\n",
              "  [theme=dark] .colab-df-quickchart {\n",
              "      --bg-color: #3B4455;\n",
              "      --fill-color: #D2E3FC;\n",
              "      --hover-bg-color: #434B5C;\n",
              "      --hover-fill-color: #FFFFFF;\n",
              "      --disabled-bg-color: #3B4455;\n",
              "      --disabled-fill-color: #666;\n",
              "  }\n",
              "\n",
              "  .colab-df-quickchart {\n",
              "    background-color: var(--bg-color);\n",
              "    border: none;\n",
              "    border-radius: 50%;\n",
              "    cursor: pointer;\n",
              "    display: none;\n",
              "    fill: var(--fill-color);\n",
              "    height: 32px;\n",
              "    padding: 0;\n",
              "    width: 32px;\n",
              "  }\n",
              "\n",
              "  .colab-df-quickchart:hover {\n",
              "    background-color: var(--hover-bg-color);\n",
              "    box-shadow: 0 1px 2px rgba(60, 64, 67, 0.3), 0 1px 3px 1px rgba(60, 64, 67, 0.15);\n",
              "    fill: var(--button-hover-fill-color);\n",
              "  }\n",
              "\n",
              "  .colab-df-quickchart-complete:disabled,\n",
              "  .colab-df-quickchart-complete:disabled:hover {\n",
              "    background-color: var(--disabled-bg-color);\n",
              "    fill: var(--disabled-fill-color);\n",
              "    box-shadow: none;\n",
              "  }\n",
              "\n",
              "  .colab-df-spinner {\n",
              "    border: 2px solid var(--fill-color);\n",
              "    border-color: transparent;\n",
              "    border-bottom-color: var(--fill-color);\n",
              "    animation:\n",
              "      spin 1s steps(1) infinite;\n",
              "  }\n",
              "\n",
              "  @keyframes spin {\n",
              "    0% {\n",
              "      border-color: transparent;\n",
              "      border-bottom-color: var(--fill-color);\n",
              "      border-left-color: var(--fill-color);\n",
              "    }\n",
              "    20% {\n",
              "      border-color: transparent;\n",
              "      border-left-color: var(--fill-color);\n",
              "      border-top-color: var(--fill-color);\n",
              "    }\n",
              "    30% {\n",
              "      border-color: transparent;\n",
              "      border-left-color: var(--fill-color);\n",
              "      border-top-color: var(--fill-color);\n",
              "      border-right-color: var(--fill-color);\n",
              "    }\n",
              "    40% {\n",
              "      border-color: transparent;\n",
              "      border-right-color: var(--fill-color);\n",
              "      border-top-color: var(--fill-color);\n",
              "    }\n",
              "    60% {\n",
              "      border-color: transparent;\n",
              "      border-right-color: var(--fill-color);\n",
              "    }\n",
              "    80% {\n",
              "      border-color: transparent;\n",
              "      border-right-color: var(--fill-color);\n",
              "      border-bottom-color: var(--fill-color);\n",
              "    }\n",
              "    90% {\n",
              "      border-color: transparent;\n",
              "      border-bottom-color: var(--fill-color);\n",
              "    }\n",
              "  }\n",
              "</style>\n",
              "\n",
              "  <script>\n",
              "    async function quickchart(key) {\n",
              "      const quickchartButtonEl =\n",
              "        document.querySelector('#' + key + ' button');\n",
              "      quickchartButtonEl.disabled = true;  // To prevent multiple clicks.\n",
              "      quickchartButtonEl.classList.add('colab-df-spinner');\n",
              "      try {\n",
              "        const charts = await google.colab.kernel.invokeFunction(\n",
              "            'suggestCharts', [key], {});\n",
              "      } catch (error) {\n",
              "        console.error('Error during call to suggestCharts:', error);\n",
              "      }\n",
              "      quickchartButtonEl.classList.remove('colab-df-spinner');\n",
              "      quickchartButtonEl.classList.add('colab-df-quickchart-complete');\n",
              "    }\n",
              "    (() => {\n",
              "      let quickchartButtonEl =\n",
              "        document.querySelector('#df-e7b52455-4fcb-4a48-a955-0632e117953e button');\n",
              "      quickchartButtonEl.style.display =\n",
              "        google.colab.kernel.accessAllowed ? 'block' : 'none';\n",
              "    })();\n",
              "  </script>\n",
              "</div>\n",
              "    </div>\n",
              "  </div>\n"
            ]
          },
          "metadata": {},
          "execution_count": 55
        }
      ],
      "source": [
        "data.head()"
      ]
    },
    {
      "cell_type": "markdown",
      "id": "f30e27ee",
      "metadata": {
        "id": "f30e27ee"
      },
      "source": [
        "## Creating custom torch Dataset"
      ]
    },
    {
      "cell_type": "code",
      "execution_count": 56,
      "id": "50c2bbc1",
      "metadata": {
        "id": "50c2bbc1"
      },
      "outputs": [],
      "source": [
        "X = data.cleaned_text\n",
        "y = data.Target_encoded"
      ]
    },
    {
      "cell_type": "code",
      "execution_count": 57,
      "id": "c99a0655",
      "metadata": {
        "id": "c99a0655"
      },
      "outputs": [],
      "source": [
        "X_train, X_test, y_train, y_test = train_test_split(X, y, test_size = 0.2, random_state=1)\n",
        "\n",
        "X_train, X_val, y_train, y_val = train_test_split(X_train, y_train, test_size = 0.25, random_state=1)"
      ]
    },
    {
      "cell_type": "code",
      "execution_count": 58,
      "id": "0073a00d",
      "metadata": {
        "colab": {
          "base_uri": "https://localhost:8080/"
        },
        "id": "0073a00d",
        "outputId": "941fc3b4-8bc4-44ef-be76-1cd8770114c4"
      },
      "outputs": [
        {
          "output_type": "execute_result",
          "data": {
            "text/plain": [
              "4787     getscript file reduce load size sense use $ .g...\n",
              "10968    php javascript calendar start date picker sear...\n",
              "45369    url address bar php   possible duplicate entir...\n",
              "20060    pass multivariable new page gridview select gr...\n",
              "39369    jquery plugin function method follow code esse...\n",
              "Name: cleaned_text, dtype: object"
            ]
          },
          "metadata": {},
          "execution_count": 58
        }
      ],
      "source": [
        "X_train.head()"
      ]
    },
    {
      "cell_type": "code",
      "execution_count": 59,
      "id": "7548afb0",
      "metadata": {
        "id": "7548afb0"
      },
      "outputs": [],
      "source": [
        "class CustomDataset(Dataset):\n",
        "    def __init__(self, X, y):\n",
        "\n",
        "        self.X = X\n",
        "        self.y = y\n",
        "\n",
        "    def __len__(self):\n",
        "\n",
        "        return(len(self.X))\n",
        "\n",
        "    def __getitem__(self, idx):\n",
        "\n",
        "        text = self.X.iloc[idx]\n",
        "        labels = self.y.iloc[idx]\n",
        "        sample = (labels, text)\n",
        "\n",
        "        return sample"
      ]
    },
    {
      "cell_type": "code",
      "execution_count": 60,
      "id": "c1b68c78",
      "metadata": {
        "id": "c1b68c78"
      },
      "outputs": [],
      "source": [
        "train_dataset = CustomDataset(X_train, y_train)\n",
        "valid_dataset = CustomDataset(X_val, y_val)\n",
        "test_dataset = CustomDataset(X_test, y_test)"
      ]
    },
    {
      "cell_type": "code",
      "execution_count": 61,
      "id": "306e58e4",
      "metadata": {
        "colab": {
          "base_uri": "https://localhost:8080/"
        },
        "id": "306e58e4",
        "outputId": "9351f10a-7db9-44d1-8dca-bc277369dd19"
      },
      "outputs": [
        {
          "output_type": "stream",
          "name": "stdout",
          "text": [
            "10 [0, 0, 0, 1, 0, 1, 0, 0, 0, 0] jquery click link event trigger jquery click link d mylink\n"
          ]
        }
      ],
      "source": [
        "for i, (y, x) in enumerate(train_dataset):\n",
        "    if i == 10:\n",
        "        print(i, y, x)"
      ]
    },
    {
      "cell_type": "markdown",
      "id": "3f6dd71f",
      "metadata": {
        "id": "3f6dd71f"
      },
      "source": [
        "## Create Vocab"
      ]
    },
    {
      "cell_type": "code",
      "execution_count": 62,
      "id": "6d893077",
      "metadata": {
        "id": "6d893077"
      },
      "outputs": [],
      "source": [
        "def get_vocab(dataset, min_freq):\n",
        "    \"\"\"\n",
        "    Generate a vocabulary from a dataset.\n",
        "\n",
        "    Args:\n",
        "        dataset (list of tuple): List of tuples where each tuple contains a label and a text.\n",
        "        min_freq (int): The minimum frequency for a token to be included in the vocabulary.\n",
        "\n",
        "    Returns:\n",
        "        torchtext.vocab.Vocab: Vocabulary object.\n",
        "    \"\"\"\n",
        "    # Initialize a counter object to hold token frequencies\n",
        "    counter = Counter()\n",
        "\n",
        "    # Update the counter with tokens from each text in the dataset\n",
        "    for (l_, text) in dataset:\n",
        "        counter.update(str(text).split())\n",
        "\n",
        "    # Create a vocabulary using the counter object\n",
        "    # Tokens that appear fewer times than `min_freq` are excluded\n",
        "    my_vocab = vocab(counter, min_freq=min_freq)\n",
        "\n",
        "    # Insert a '<unk>' token at index 0 to represent unknown words\n",
        "    my_vocab.insert_token('<unk>', 0)\n",
        "\n",
        "    # Set the default index to 0\n",
        "    # This ensures that any unknown word will be mapped to '<unk>'\n",
        "    my_vocab.set_default_index(0)\n",
        "\n",
        "    return my_vocab"
      ]
    },
    {
      "cell_type": "code",
      "execution_count": 63,
      "id": "557e1a7d",
      "metadata": {
        "id": "557e1a7d"
      },
      "outputs": [],
      "source": [
        "train_vocab = get_vocab(train_dataset, 2)"
      ]
    },
    {
      "cell_type": "code",
      "execution_count": 64,
      "id": "fd0f1c7c",
      "metadata": {
        "colab": {
          "base_uri": "https://localhost:8080/"
        },
        "id": "fd0f1c7c",
        "outputId": "5c67c86c-d2cb-4efd-ee31-b3a4dfa5ea47"
      },
      "outputs": [
        {
          "output_type": "execute_result",
          "data": {
            "text/plain": [
              "89451"
            ]
          },
          "metadata": {},
          "execution_count": 64
        }
      ],
      "source": [
        "len(train_vocab)"
      ]
    },
    {
      "cell_type": "code",
      "execution_count": 65,
      "id": "a7758418",
      "metadata": {
        "id": "a7758418"
      },
      "outputs": [],
      "source": [
        "# Get the index where the frequency of the word is saved\n",
        "#train_vocab.get_stoi()"
      ]
    },
    {
      "cell_type": "markdown",
      "id": "2e26c711",
      "metadata": {
        "id": "2e26c711"
      },
      "source": [
        "# <Font color = 'pickle'>**Create Collate function**"
      ]
    },
    {
      "cell_type": "code",
      "execution_count": 66,
      "id": "7e66a073",
      "metadata": {
        "id": "7e66a073"
      },
      "outputs": [],
      "source": [
        "# Creating a function that will be used to get the indices of words from vocab\n",
        "def text_pipeline(x, vocab):\n",
        "    \"\"\"Converts text to a list of indices using a vocabulary dictionary\"\"\"\n",
        "    return [vocab[token] for token in str(x).split()]"
      ]
    },
    {
      "cell_type": "code",
      "execution_count": 67,
      "id": "60303c25",
      "metadata": {
        "id": "60303c25"
      },
      "outputs": [],
      "source": [
        "def collate_batch(batch, my_vocab):\n",
        "    \"\"\"\n",
        "    Collates a batch of samples into tensors of labels, texts, and offsets.\n",
        "\n",
        "    Parameters:\n",
        "        batch (list): A list of tuples, each containing a label and a text.\n",
        "\n",
        "    Returns:\n",
        "        tuple: A tuple containing three tensors:\n",
        "               - Labels tensor\n",
        "               - Concatenated texts tensor\n",
        "               - Offsets tensor indicating the start positions of each text in the concatenated tensor\n",
        "    \"\"\"\n",
        "    # Unpack the batch into separate lists for labels and texts\n",
        "    labels, texts = zip(*batch)\n",
        "\n",
        "    # Convert the list of labels into a tensor of dtype int32\n",
        "    labels = torch.tensor(labels, dtype=torch.long)\n",
        "\n",
        "    # Convert the list of texts into a list of lists; each inner list contains the vocabulary indices for a text\n",
        "    list_of_list_of_indices = [text_pipeline(text, my_vocab) for text in texts]\n",
        "\n",
        "    # Compute the offsets for each text in the concatenated tensor\n",
        "    offsets = [0] + [len(i) for i in list_of_list_of_indices]\n",
        "    offsets = torch.tensor(offsets[:-1]).cumsum(dim=0)\n",
        "\n",
        "    # Concatenate all text indices into a single tensor\n",
        "    texts = torch.cat([torch.tensor(i, dtype=torch.int64) for i in list_of_list_of_indices])\n",
        "\n",
        "    return (texts, offsets), labels"
      ]
    },
    {
      "cell_type": "code",
      "execution_count": 68,
      "id": "11c39cbf",
      "metadata": {
        "id": "11c39cbf"
      },
      "outputs": [],
      "source": [
        "batch_size = 2\n",
        "check_loader = torch.utils.data.DataLoader(dataset=train_dataset,\n",
        "                                           batch_size=batch_size,\n",
        "                                           shuffle=True,\n",
        "                                           collate_fn=partial(collate_batch, my_vocab = train_vocab),\n",
        "                                           )"
      ]
    },
    {
      "cell_type": "code",
      "execution_count": 69,
      "id": "adde6101",
      "metadata": {
        "colab": {
          "base_uri": "https://localhost:8080/"
        },
        "id": "adde6101",
        "outputId": "f27b06c0-0e99-43fb-b2d2-7f5f3e8eb9e4"
      },
      "outputs": [
        {
          "output_type": "stream",
          "name": "stdout",
          "text": [
            "tensor([  527,   578,  2624,   283, 33825,   578,     2,   568, 52012,    97,\n",
            "        54497, 52012, 54498, 54499, 54500,   578, 54501,    78,  7083, 52012,\n",
            "        54502,  2112, 52012, 54503, 54504,  2112, 52012, 54505,  2112, 52012,\n",
            "        54506, 54507, 54508,    73,    74,   504, 54509,    76, 54510, 54511,\n",
            "         2112, 52012, 54506, 54507, 54512,  2112, 54513, 54514,  2112, 52012,\n",
            "        54515,  2112,   538, 54516,    97,  1960, 37911,   210, 54517,   538,\n",
            "        54516,    97,   351,  9144, 54518,    97,   964, 19086, 54519,    97,\n",
            "        54520, 54516, 19089,   527, 54519,   989, 23269, 54521,    97, 54522,\n",
            "        54521, 54523, 54521,   989,   347,    74,   504,    73,    74,   504,\n",
            "        54509,    76, 54510,   504,    78, 54524,   504,    19,  5362,  1505,\n",
            "           55,  1505,    55, 44397,    58,   630,   123,  1505,    55,  2416,\n",
            "         1505,    55,     4,    16,    44, 44398,   837,   747,  1505,    55,\n",
            "            4]) tensor([ 0, 99]) tensor([[1, 0, 0, 0, 0, 0, 0, 0, 0, 1],\n",
            "        [1, 0, 0, 0, 0, 0, 0, 0, 0, 1]])\n"
          ]
        }
      ],
      "source": [
        "torch.manual_seed(22)\n",
        "for (text, offset), label in check_loader:\n",
        "    print(text, offset, label)\n",
        "    break"
      ]
    },
    {
      "cell_type": "markdown",
      "id": "3968828a",
      "metadata": {
        "id": "3968828a"
      },
      "source": [
        "## Model"
      ]
    },
    {
      "cell_type": "code",
      "execution_count": 70,
      "id": "f897b286",
      "metadata": {
        "id": "f897b286"
      },
      "outputs": [],
      "source": [
        "class CustomBlock(nn.Module):\n",
        "    def __init__(self, input_dim, output_dim, drop_prob):\n",
        "\n",
        "        super().__init__()\n",
        "\n",
        "        self.layers = nn.Sequential(\n",
        "            nn.Linear(input_dim, output_dim),\n",
        "            nn.ReLU(),\n",
        "            nn.Dropout(p=drop_prob),\n",
        "            nn.BatchNorm1d(num_features=output_dim)\n",
        "        )\n",
        "    def forward(self, x):\n",
        "      return self.layers(x)"
      ]
    },
    {
      "cell_type": "code",
      "execution_count": 71,
      "id": "b5c0203b",
      "metadata": {
        "id": "b5c0203b"
      },
      "outputs": [],
      "source": [
        "class CustomMLP(nn.Module):\n",
        "    def __init__(self, vocab_size, embedding_dim, hidden_dim1, hidden_dim2, drop_prob1, drop_prob2, num_outputs):\n",
        "        super().__init__()\n",
        "\n",
        "        self.embedding_bag = nn.EmbeddingBag(vocab_size, embedding_dim)\n",
        "        self.layers = nn.Sequential(\n",
        "            CustomBlock(embedding_dim , hidden_dim1, drop_prob1),\n",
        "            CustomBlock(hidden_dim1, hidden_dim2, drop_prob2),\n",
        "            nn.Linear(hidden_dim2, num_outputs)\n",
        "        )\n",
        "\n",
        "    def forward(self, input_tuple):\n",
        "        data, offsets = input_tuple\n",
        "        embed_out = self.embedding_bag(data, offsets)\n",
        "        out = self.layers(embed_out)\n",
        "\n",
        "        return out"
      ]
    },
    {
      "cell_type": "code",
      "execution_count": 72,
      "id": "838feae5",
      "metadata": {
        "colab": {
          "base_uri": "https://localhost:8080/"
        },
        "id": "838feae5",
        "outputId": "e64dcc23-358b-4414-8a3f-a63bd880bf2f"
      },
      "outputs": [
        {
          "output_type": "execute_result",
          "data": {
            "text/plain": [
              "==========================================================================================\n",
              "Layer (type:depth-idx)                   Output Shape              Param #\n",
              "==========================================================================================\n",
              "CustomMLP                                [3, 10]                   --\n",
              "├─EmbeddingBag: 1-1                      [3, 300]                  26,835,300\n",
              "├─Sequential: 1-2                        [3, 10]                   --\n",
              "│    └─CustomBlock: 2-1                  [3, 200]                  --\n",
              "│    │    └─Sequential: 3-1              [3, 200]                  --\n",
              "│    │    │    └─Linear: 4-1             [3, 200]                  60,200\n",
              "│    │    │    └─ReLU: 4-2               [3, 200]                  --\n",
              "│    │    │    └─Dropout: 4-3            [3, 200]                  --\n",
              "│    │    │    └─BatchNorm1d: 4-4        [3, 200]                  400\n",
              "│    └─CustomBlock: 2-2                  [3, 100]                  --\n",
              "│    │    └─Sequential: 3-2              [3, 100]                  --\n",
              "│    │    │    └─Linear: 4-5             [3, 100]                  20,100\n",
              "│    │    │    └─ReLU: 4-6               [3, 100]                  --\n",
              "│    │    │    └─Dropout: 4-7            [3, 100]                  --\n",
              "│    │    │    └─BatchNorm1d: 4-8        [3, 100]                  200\n",
              "│    └─Linear: 2-3                       [3, 10]                   1,010\n",
              "==========================================================================================\n",
              "Total params: 26,917,210\n",
              "Trainable params: 26,917,210\n",
              "Non-trainable params: 0\n",
              "Total mult-adds (M): 80.75\n",
              "==========================================================================================\n",
              "Input size (MB): 0.00\n",
              "Forward/backward pass size (MB): 0.02\n",
              "Params size (MB): 107.67\n",
              "Estimated Total Size (MB): 107.69\n",
              "=========================================================================================="
            ]
          },
          "metadata": {},
          "execution_count": 72
        }
      ],
      "source": [
        "# Define the device\n",
        "device = torch.device('cuda:0' if torch.cuda.is_available() else 'cpu')\n",
        "\n",
        "# Define the sequential model\n",
        "model= CustomMLP(vocab_size= len(train_vocab), embedding_dim = 300, hidden_dim1 = 200, hidden_dim2 = 100, drop_prob1=0.5, drop_prob2=0.5, num_outputs=10)\n",
        "\n",
        "# Move the model to the device\n",
        "model = model.to(device)\n",
        "\n",
        "# Generate some dummy input data and offsets, and move them to the device\n",
        "data = torch.tensor([1, 2, 4, 5, 4], dtype = torch.int32).to(device)\n",
        "offsets = torch.tensor([0, 2, 4], dtype = torch.int32).to(device)\n",
        "\n",
        "# Generate summary\n",
        "summary(model, input_data=[(data, offsets)], device=device, depth =4)\n"
      ]
    },
    {
      "cell_type": "code",
      "execution_count": 73,
      "id": "ef5b8316",
      "metadata": {
        "id": "ef5b8316"
      },
      "outputs": [],
      "source": [
        "# def hamming_metric(prediction, original):\n",
        "\n",
        "#     ham = (prediction != original).sum().item()\n",
        "\n",
        "#     return ham"
      ]
    },
    {
      "cell_type": "code",
      "execution_count": 74,
      "id": "dacbfa9f",
      "metadata": {
        "id": "dacbfa9f"
      },
      "outputs": [],
      "source": [
        "# optimizer = torch.optim.SGD(model.parameters(), lr)"
      ]
    },
    {
      "cell_type": "code",
      "execution_count": 75,
      "id": "1d539d2d",
      "metadata": {
        "id": "1d539d2d"
      },
      "outputs": [],
      "source": [
        "def step(inputs, targets, model, device, loss_function=None, optimizer=None):\n",
        "\n",
        "    # Move the model and data to the device\n",
        "    model = model.to(device)\n",
        "    inputs = tuple(input_tensor.to(device) for input_tensor in inputs)\n",
        "\n",
        "    targets = targets.to(device, dtype=torch.float32)\n",
        "\n",
        "    # Step 1: Forward pass to get the model's predictions\n",
        "    outputs = model(inputs)\n",
        "\n",
        "    # Step 2: Compute the loss using the provided loss function\n",
        "    if loss_function:\n",
        "        loss = loss_function(outputs, targets)\n",
        "\n",
        "    # Step 2: Calculate the number of correctly classified samples\n",
        "    predicted = (outputs > 0.5).float()\n",
        "    #correct = (predicted == targets).sum().item()\n",
        "\n",
        "    # Step 3 and 4: Perform backward pass and update model parameters if an optimizer is provided\n",
        "    if optimizer:\n",
        "        optimizer.zero_grad()\n",
        "        loss.backward()\n",
        "        torch.nn.utils.clip_grad_value_(model.parameters(), clip_value=10.0)\n",
        "        optimizer.step()\n",
        "\n",
        "\n",
        "    # Return relevant metrics\n",
        "    if loss_function:\n",
        "        return loss, outputs, predicted\n",
        "    else:\n",
        "        return outputs, predicted"
      ]
    },
    {
      "cell_type": "code",
      "execution_count": 76,
      "id": "f8d35188",
      "metadata": {
        "id": "f8d35188"
      },
      "outputs": [],
      "source": [
        "def train_epoch(train_loader, model, device, loss_function, optimizer):\n",
        "\n",
        "    train_hamming_distance = HammingDistance(task = \"multilabel\", num_labels = 10).to(device)\n",
        "\n",
        "    # Set the model to training mode\n",
        "    model.train()\n",
        "\n",
        "    # Initialize variables to track running training loss and correct predictions\n",
        "    running_train_loss = 0.0\n",
        "\n",
        "    # Iterate over all batches in the training data\n",
        "    for inputs, targets in train_loader:\n",
        "        # Perform a forward and backward pass, updating model parameters\n",
        "        loss, _, predict = step(inputs, targets, model, device, loss_function, optimizer)\n",
        "        # ham_dist = train_hamming_distance(predict, targets)\n",
        "\n",
        "        # Update running loss and correct predictions counter\n",
        "        running_train_loss += loss.item()\n",
        "        train_hamming_distance.update(predict, targets)\n",
        "\n",
        "    epoch_hamming_distance = train_hamming_distance.compute()\n",
        "\n",
        "    # Compute average loss and accuracy for the entire training set\n",
        "    train_loss = running_train_loss / len(train_loader)\n",
        "    print(f'Train Loss: {train_loss:.4f} | Train Hamming Distance: {epoch_hamming_distance:.4f}')\n",
        "\n",
        "    train_hamming_distance.reset()\n",
        "\n",
        "    return train_loss, epoch_hamming_distance"
      ]
    },
    {
      "cell_type": "code",
      "execution_count": 77,
      "id": "e5adcb24",
      "metadata": {
        "id": "e5adcb24"
      },
      "outputs": [],
      "source": [
        "def val_epoch(valid_loader, model, device, loss_function):\n",
        "\n",
        "    \"\"\"\n",
        "    Validates the model for one epoch using the provided data loader.\n",
        "\n",
        "    Parameters:\n",
        "    - valid_loader (torch.utils.data.DataLoader): DataLoader object for the validation set.\n",
        "    - model (torch.nn.Module): The neural network model to be validated.\n",
        "    - device (torch.device): The computing device (CPU or GPU).\n",
        "    - loss_function (torch.nn.Module): The loss function to evaluate the model.\n",
        "\n",
        "    Returns:\n",
        "    - val_loss (float): Average validation loss for the epoch.\n",
        "    - val_acc (float): Validation accuracy for the epoch.\n",
        "    \"\"\"\n",
        "    train_hamming_distance = HammingDistance(task = \"multilabel\", num_labels = 10).to(device)\n",
        "    # Set the model to evaluation mode\n",
        "\n",
        "    model.eval()\n",
        "\n",
        "    # Initialize variables to track running validation loss and correct predictions\n",
        "    running_val_loss = 0.0\n",
        "\n",
        "    for inputs, targets in valid_loader:\n",
        "        # Perform a forward and backward pass, updating model parameters\n",
        "        loss, _, predict = step(inputs, targets, model, device, loss_function, optimizer = None)\n",
        "        # train_hamming_distance = train_hamming_distance(predict, targets)\n",
        "\n",
        "        # Update running loss and correct predictions counter\n",
        "        running_val_loss += loss.item()\n",
        "        train_hamming_distance.update(predict, targets)\n",
        "\n",
        "    epoch_hamming_distance = train_hamming_distance.compute()\n",
        "\n",
        "    # Compute average loss and accuracy for the entire training set\n",
        "    train_loss = running_val_loss / len(valid_loader)\n",
        "    print(f'Valid Loss: {train_loss:.4f} | Valid Hamming Distance: {epoch_hamming_distance:.4f}')\n",
        "\n",
        "    train_hamming_distance.reset()\n",
        "\n",
        "    return train_loss, epoch_hamming_distance"
      ]
    },
    {
      "cell_type": "code",
      "execution_count": 78,
      "id": "ece7b1fd",
      "metadata": {
        "id": "ece7b1fd"
      },
      "outputs": [],
      "source": [
        "def train(train_loader, valid_loader, model, optimizer, loss_function, epochs, device):\n",
        "\n",
        "    # Initialize lists to store metrics for each epoch\n",
        "    train_loss_history = []\n",
        "    valid_loss_history = []\n",
        "    train_ham_history = []\n",
        "    valid_ham_history = []\n",
        "\n",
        "    # Loop over the number of specified epochs\n",
        "    for epoch in range(epochs):\n",
        "        # Train model on training data and capture metrics\n",
        "        train_loss, train_ham = train_epoch(train_loader, model, device, loss_function, optimizer)\n",
        "\n",
        "        # Validate model on validation data and capture metrics\n",
        "        valid_loss, valid_ham = val_epoch(valid_loader, model, device, loss_function)\n",
        "\n",
        "        # Store metrics for this epoch\n",
        "        train_loss_history.append(train_loss)\n",
        "        train_ham_history.append(train_ham)\n",
        "        valid_loss_history.append(valid_loss)\n",
        "        valid_ham_history.append(valid_ham)\n",
        "\n",
        "        # Output epoch-level summary\n",
        "        print(f\"Epoch {epoch+1}/{epochs}\")\n",
        "        print(f\"Train Loss: {train_loss:.4f} | Train Hamming distance: {train_ham*100:.2f}%\")\n",
        "        print(f\"Valid Loss: {valid_loss:.4f} | Valid Hamming distance: {valid_ham*100:.2f}%\")\n",
        "        print()\n",
        "\n",
        "    return train_loss_history, train_ham_history, valid_loss_history, valid_ham_history"
      ]
    },
    {
      "cell_type": "markdown",
      "id": "4529551a",
      "metadata": {
        "id": "4529551a"
      },
      "source": [
        "### Hyperparameters"
      ]
    },
    {
      "cell_type": "code",
      "execution_count": 79,
      "id": "359a2a21",
      "metadata": {
        "id": "359a2a21"
      },
      "outputs": [],
      "source": [
        "hyperparameters = sn(\n",
        "    # model Parameters\n",
        "    EMBED_DIM=300,\n",
        "    VOCAB_SIZE=len(train_vocab),\n",
        "    OUTPUT_DIM=10,\n",
        "    HIDDEN_DIM1=200,\n",
        "    HIDDEN_DIM2=100,\n",
        "    DROP_PROB1=0.5,\n",
        "    DROP_PROB2=0.5,\n",
        "    NUM_OUTPUTS=10,\n",
        "\n",
        "    # training\n",
        "    EPOCHS=5,\n",
        "    BATCH_SIZE=128,\n",
        "    LEARNING_RATE=0.001,\n",
        "    WEIGHT_DECAY=0.1,\n",
        ")"
      ]
    },
    {
      "cell_type": "markdown",
      "id": "2af8627a",
      "metadata": {
        "id": "2af8627a"
      },
      "source": [
        "## Training Configuration"
      ]
    },
    {
      "cell_type": "code",
      "execution_count": 80,
      "id": "981a467d",
      "metadata": {
        "colab": {
          "base_uri": "https://localhost:8080/"
        },
        "id": "981a467d",
        "outputId": "b3a87183-930f-4055-b274-940847a315ad"
      },
      "outputs": [
        {
          "output_type": "stream",
          "name": "stderr",
          "text": [
            "/usr/local/lib/python3.10/dist-packages/torch/utils/data/dataloader.py:560: UserWarning: This DataLoader will create 4 worker processes in total. Our suggested max number of worker in current system is 2, which is smaller than what this DataLoader is going to create. Please be aware that excessive worker creation might get DataLoader running slow or even freeze, lower the worker number to avoid potential slowness/freeze if necessary.\n",
            "  warnings.warn(_create_warning_msg(\n"
          ]
        }
      ],
      "source": [
        "# Fix seed value\n",
        "SEED = 2345\n",
        "random.seed(SEED)\n",
        "np.random.seed(SEED)\n",
        "torch.manual_seed(SEED)\n",
        "torch.cuda.manual_seed(SEED)\n",
        "torch.backends.cudnn.deterministic = True\n",
        "\n",
        "collate_fn = partial(collate_batch, my_vocab = train_vocab)\n",
        "\n",
        "# Data Loader\n",
        "train_loader = torch.utils.data.DataLoader(train_dataset, batch_size=hyperparameters.BATCH_SIZE, shuffle=True,\n",
        "                                           collate_fn=collate_fn, num_workers=4)\n",
        "valid_loader = torch.utils.data.DataLoader(valid_dataset, batch_size=hyperparameters.BATCH_SIZE, shuffle=False,\n",
        "                                           collate_fn=collate_fn,  num_workers=4)\n",
        "test_loader = torch.utils.data.DataLoader(test_dataset, batch_size=hyperparameters.BATCH_SIZE,  shuffle=False,\n",
        "                                          collate_fn=collate_fn,  num_workers=4)\n",
        "\n",
        "\n",
        "loss_function = nn.BCEWithLogitsLoss()\n",
        "\n",
        "model_nlp = CustomMLP(vocab_size=hyperparameters.VOCAB_SIZE,\n",
        "                       embedding_dim=hyperparameters.EMBED_DIM,\n",
        "                       hidden_dim1=hyperparameters.HIDDEN_DIM1,\n",
        "                       hidden_dim2=hyperparameters.HIDDEN_DIM2,\n",
        "                       drop_prob1=hyperparameters.DROP_PROB1,\n",
        "                       drop_prob2=hyperparameters.DROP_PROB2,\n",
        "                       num_outputs=hyperparameters.NUM_OUTPUTS)\n",
        "\n",
        "def init_weights(m):\n",
        "    if type(m) == nn.Linear:\n",
        "        torch.nn.init.kaiming_normal_(m.weight)\n",
        "        torch.nn.init.zeros_(m.bias)\n",
        "\n",
        "\n",
        "# apply initialization recursively  to all modules\n",
        "model_nlp.apply(init_weights)\n",
        "\n",
        "optimizer = torch.optim.SGD(model.parameters(), lr = hyperparameters.LEARNING_RATE)\n",
        "\n",
        "device = torch.device('cuda:0' if torch.cuda.is_available() else 'cpu')"
      ]
    },
    {
      "cell_type": "markdown",
      "id": "f7b7f65f",
      "metadata": {
        "id": "f7b7f65f"
      },
      "source": [
        "### Sanity Check"
      ]
    },
    {
      "cell_type": "code",
      "execution_count": 81,
      "id": "17ba5f21",
      "metadata": {
        "colab": {
          "base_uri": "https://localhost:8080/"
        },
        "id": "17ba5f21",
        "outputId": "66b020bb-ae99-49c2-8963-d0d3ab929ee5"
      },
      "outputs": [
        {
          "output_type": "stream",
          "name": "stdout",
          "text": [
            "Actual loss: 0.711052656173706\n",
            "Expected Theoretical loss: 0.6931471805599453\n"
          ]
        }
      ],
      "source": [
        "for input_ , targets  in train_loader:\n",
        "\n",
        "    # move inputs and outputs to GPUs\n",
        "    model_nlp = model_nlp.to(device)\n",
        "\n",
        "    input_ = tuple(input_tensor.to(device) for input_tensor in input_)\n",
        "    targets = targets.to(device, dtype = torch.float32)\n",
        "\n",
        "    model_nlp.eval()\n",
        "    # Forward pass\n",
        "    output = model_nlp(input_)\n",
        "    loss = loss_function(output, targets)\n",
        "    print(f'Actual loss: {loss}')\n",
        "    break\n",
        "\n",
        "print(f'Expected Theoretical loss: {np.log(2)}')"
      ]
    },
    {
      "cell_type": "markdown",
      "id": "72d5d922",
      "metadata": {
        "id": "72d5d922"
      },
      "source": [
        "### Calling train function"
      ]
    },
    {
      "cell_type": "code",
      "execution_count": 82,
      "id": "9cc027b7",
      "metadata": {
        "colab": {
          "base_uri": "https://localhost:8080/"
        },
        "id": "9cc027b7",
        "outputId": "cf5378f0-37d1-48d1-aa79-4a4d486ae911"
      },
      "outputs": [
        {
          "output_type": "stream",
          "name": "stdout",
          "text": [
            "Train Loss: 0.9100 | Train Hamming Distance: 0.4209\n",
            "Valid Loss: 0.7644 | Valid Hamming Distance: 0.3534\n",
            "Epoch 1/5\n",
            "Train Loss: 0.9100 | Train Hamming distance: 42.09%\n",
            "Valid Loss: 0.7644 | Valid Hamming distance: 35.34%\n",
            "\n",
            "Train Loss: 0.9097 | Train Hamming Distance: 0.4206\n",
            "Valid Loss: 0.7695 | Valid Hamming Distance: 0.3567\n",
            "Epoch 2/5\n",
            "Train Loss: 0.9097 | Train Hamming distance: 42.06%\n",
            "Valid Loss: 0.7695 | Valid Hamming distance: 35.67%\n",
            "\n",
            "Train Loss: 0.9086 | Train Hamming Distance: 0.4220\n",
            "Valid Loss: 0.7626 | Valid Hamming Distance: 0.3484\n",
            "Epoch 3/5\n",
            "Train Loss: 0.9086 | Train Hamming distance: 42.20%\n",
            "Valid Loss: 0.7626 | Valid Hamming distance: 34.84%\n",
            "\n",
            "Train Loss: 0.9073 | Train Hamming Distance: 0.4195\n",
            "Valid Loss: 0.7614 | Valid Hamming Distance: 0.3493\n",
            "Epoch 4/5\n",
            "Train Loss: 0.9073 | Train Hamming distance: 41.95%\n",
            "Valid Loss: 0.7614 | Valid Hamming distance: 34.93%\n",
            "\n",
            "Train Loss: 0.9079 | Train Hamming Distance: 0.4205\n",
            "Valid Loss: 0.7657 | Valid Hamming Distance: 0.3538\n",
            "Epoch 5/5\n",
            "Train Loss: 0.9079 | Train Hamming distance: 42.05%\n",
            "Valid Loss: 0.7657 | Valid Hamming distance: 35.38%\n",
            "\n"
          ]
        }
      ],
      "source": [
        "train_losses, train_ham, valid_losses, valid_ham = train(train_loader, valid_loader, model_nlp, optimizer, loss_function, hyperparameters.EPOCHS, device)"
      ]
    }
  ],
  "metadata": {
    "kernelspec": {
      "display_name": "Python 3",
      "name": "python3"
    },
    "language_info": {
      "codemirror_mode": {
        "name": "ipython",
        "version": 3
      },
      "file_extension": ".py",
      "mimetype": "text/x-python",
      "name": "python",
      "nbconvert_exporter": "python",
      "pygments_lexer": "ipython3",
      "version": "3.9.13"
    },
    "colab": {
      "provenance": [],
      "gpuType": "T4"
    },
    "accelerator": "GPU"
  },
  "nbformat": 4,
  "nbformat_minor": 5
}