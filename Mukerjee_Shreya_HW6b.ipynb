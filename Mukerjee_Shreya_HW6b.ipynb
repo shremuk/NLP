{
  "cells": [
    {
      "cell_type": "code",
      "execution_count": 1,
      "id": "A2qd_0mMMfhA",
      "metadata": {
        "colab": {
          "base_uri": "https://localhost:8080/"
        },
        "id": "A2qd_0mMMfhA",
        "outputId": "d081dcc2-2ff6-4678-d262-9b453bab5697"
      },
      "outputs": [
        {
          "output_type": "stream",
          "name": "stdout",
          "text": [
            "Sun Oct 29 04:15:19 2023       \n",
            "+-----------------------------------------------------------------------------+\n",
            "| NVIDIA-SMI 525.105.17   Driver Version: 525.105.17   CUDA Version: 12.0     |\n",
            "|-------------------------------+----------------------+----------------------+\n",
            "| GPU  Name        Persistence-M| Bus-Id        Disp.A | Volatile Uncorr. ECC |\n",
            "| Fan  Temp  Perf  Pwr:Usage/Cap|         Memory-Usage | GPU-Util  Compute M. |\n",
            "|                               |                      |               MIG M. |\n",
            "|===============================+======================+======================|\n",
            "|   0  Tesla T4            Off  | 00000000:00:04.0 Off |                    0 |\n",
            "| N/A   37C    P8     9W /  70W |      0MiB / 15360MiB |      0%      Default |\n",
            "|                               |                      |                  N/A |\n",
            "+-------------------------------+----------------------+----------------------+\n",
            "                                                                               \n",
            "+-----------------------------------------------------------------------------+\n",
            "| Processes:                                                                  |\n",
            "|  GPU   GI   CI        PID   Type   Process name                  GPU Memory |\n",
            "|        ID   ID                                                   Usage      |\n",
            "|=============================================================================|\n",
            "|  No running processes found                                                 |\n",
            "+-----------------------------------------------------------------------------+\n"
          ]
        }
      ],
      "source": [
        "!nvidia-smi"
      ]
    },
    {
      "cell_type": "markdown",
      "id": "b84121b7-f061-4e3b-8e4d-95e94859115b",
      "metadata": {
        "id": "b84121b7-f061-4e3b-8e4d-95e94859115b"
      },
      "source": [
        "# <font color = 'pickle'>**Translation** </font>\n",
        "\n",
        "\n",
        "\n",
        "\n"
      ]
    },
    {
      "cell_type": "markdown",
      "id": "7cde75b6",
      "metadata": {
        "id": "7cde75b6"
      },
      "source": [
        "\n",
        "## Outline\n",
        "1. **Setting up the Environment**: Installing necessary libraries and setting up paths.\n",
        "2. **Exploring and Understanding IMDB Dataset**: Understanding the structure and content of the dataset.\n",
        "\n",
        "3. **Data Preprocessing**: Techniques to prepare the data for training, including handling different data splits and tokenization\n",
        "4. **Training the Model**: Feeding data and adjusting weights.\n",
        "5. **Prediction and Evaluation**: Evaluate model on test set and making predictions.\n",
        "\n"
      ]
    },
    {
      "cell_type": "markdown",
      "id": "fj41POPjrtzA",
      "metadata": {
        "id": "fj41POPjrtzA"
      },
      "source": [
        "# <font color = 'pickle'> **Setting up the Environment** </font>"
      ]
    },
    {
      "cell_type": "code",
      "execution_count": 2,
      "id": "0d54de23-80e9-4e1b-816c-6f6916c92836",
      "metadata": {
        "execution": {
          "iopub.execute_input": "2022-12-23T23:12:55.528562Z",
          "iopub.status.busy": "2022-12-23T23:12:55.528020Z",
          "iopub.status.idle": "2022-12-23T23:12:55.539182Z",
          "shell.execute_reply": "2022-12-23T23:12:55.538417Z",
          "shell.execute_reply.started": "2022-12-23T23:12:55.528532Z"
        },
        "id": "0d54de23-80e9-4e1b-816c-6f6916c92836",
        "outputId": "98a2e069-2440-4b30-c1be-f5bffd3be7df",
        "tags": [],
        "colab": {
          "base_uri": "https://localhost:8080/"
        }
      },
      "outputs": [
        {
          "output_type": "stream",
          "name": "stdout",
          "text": [
            "Drive already mounted at /content/drive; to attempt to forcibly remount, call drive.mount(\"/content/drive\", force_remount=True).\n"
          ]
        }
      ],
      "source": [
        "from pathlib import Path\n",
        "if 'google.colab' in str(get_ipython()):\n",
        "    from google.colab import drive\n",
        "    drive.mount(\"/content/drive\")\n",
        "    !pip install datasets transformers evaluate wandb accelerate -U -qq\n",
        "    base_folder = Path(\"/content/drive/MyDrive/Colab_Notebooks/NLP\")\n",
        "else:\n",
        "    base_folder = Path(\"/home/harpreet/Insync/google_drive_shaannoor/data\")\n",
        "\n",
        "\n",
        "from transformers import AutoConfig, AutoModelForSeq2SeqLM, AutoTokenizer, Seq2SeqTrainer\n",
        "from transformers import AutoTokenizer, DataCollatorForSeq2Seq, pipeline\n",
        "from datasets import load_dataset, DatasetDict\n",
        "import evaluate\n",
        "from evaluate import evaluator\n",
        "\n",
        "\n",
        "import wandb\n",
        "import numpy as np\n",
        "import pandas as pd"
      ]
    },
    {
      "cell_type": "markdown",
      "id": "O_xxXoyw_2x1",
      "metadata": {
        "id": "O_xxXoyw_2x1"
      },
      "source": [
        "# <font color = 'pickle'> **Exploring and Understanding Dataset**"
      ]
    },
    {
      "cell_type": "markdown",
      "id": "7ae39760-8c90-4bef-a1c9-66a302b29da3",
      "metadata": {
        "id": "7ae39760-8c90-4bef-a1c9-66a302b29da3",
        "tags": []
      },
      "source": [
        "## <font color = 'pickle'> **English_French_Translation**</font>\n",
        "\n"
      ]
    },
    {
      "cell_type": "markdown",
      "id": "b906904c-8f24-4de0-8e07-720863e8cd99",
      "metadata": {
        "id": "b906904c-8f24-4de0-8e07-720863e8cd99"
      },
      "source": [
        "## <font color = 'pickle'> **Load Data set**\n",
        "    \n"
      ]
    },
    {
      "cell_type": "code",
      "execution_count": 3,
      "id": "1JpTLLoCvuAY",
      "metadata": {
        "id": "1JpTLLoCvuAY"
      },
      "outputs": [],
      "source": [
        "kde_dataset = load_dataset('kde4', lang1='en', lang2='fr')"
      ]
    },
    {
      "cell_type": "markdown",
      "id": "MluH2KHxHfF0",
      "metadata": {
        "id": "MluH2KHxHfF0"
      },
      "source": [
        "## <font color = 'pickle'> **Understanding your data**"
      ]
    },
    {
      "cell_type": "code",
      "execution_count": 4,
      "id": "13c259d6-3936-47d7-aae4-467cf479368d",
      "metadata": {
        "colab": {
          "base_uri": "https://localhost:8080/"
        },
        "execution": {
          "iopub.execute_input": "2022-12-23T23:13:19.870767Z",
          "iopub.status.busy": "2022-12-23T23:13:19.870527Z",
          "iopub.status.idle": "2022-12-23T23:13:20.007104Z",
          "shell.execute_reply": "2022-12-23T23:13:20.006616Z",
          "shell.execute_reply.started": "2022-12-23T23:13:19.870741Z"
        },
        "id": "13c259d6-3936-47d7-aae4-467cf479368d",
        "outputId": "e609cffa-617c-43be-9eca-3c79ebfbf894",
        "tags": []
      },
      "outputs": [
        {
          "output_type": "stream",
          "name": "stdout",
          "text": [
            "DatasetDict({\n",
            "    train: Dataset({\n",
            "        features: ['id', 'translation'],\n",
            "        num_rows: 210173\n",
            "    })\n",
            "})\n"
          ]
        }
      ],
      "source": [
        "print(kde_dataset)\n"
      ]
    },
    {
      "cell_type": "markdown",
      "id": "G8mgUnP9fS7i",
      "metadata": {
        "id": "G8mgUnP9fS7i"
      },
      "source": [
        "## <font color = 'pickle'> **Understanding the datatype of columns**\n"
      ]
    },
    {
      "cell_type": "code",
      "execution_count": 5,
      "id": "wq_SXtXzeXWg",
      "metadata": {
        "colab": {
          "base_uri": "https://localhost:8080/"
        },
        "id": "wq_SXtXzeXWg",
        "outputId": "4eb95a6a-b024-47c5-8343-92695ac742c8"
      },
      "outputs": [
        {
          "output_type": "execute_result",
          "data": {
            "text/plain": [
              "{'id': Value(dtype='string', id=None),\n",
              " 'translation': Translation(languages=['en', 'fr'], id=None)}"
            ]
          },
          "metadata": {},
          "execution_count": 5
        }
      ],
      "source": [
        "kde_dataset[\"train\"].features\n"
      ]
    },
    {
      "cell_type": "markdown",
      "id": "z80MwfKWSuxn",
      "metadata": {
        "id": "z80MwfKWSuxn"
      },
      "source": [
        "## <font color = 'pickle'> **Acess indivdual element** </font>\n",
        " The dataset behaves like an Python array or list. We can use the familiar indexing/slicing methods to access individual elements."
      ]
    },
    {
      "cell_type": "code",
      "execution_count": 6,
      "id": "McaQFKL94fff",
      "metadata": {
        "colab": {
          "base_uri": "https://localhost:8080/"
        },
        "id": "McaQFKL94fff",
        "outputId": "4a33ba95-2e7b-41e2-de9e-8f9136461050"
      },
      "outputs": [
        {
          "output_type": "execute_result",
          "data": {
            "text/plain": [
              "{'id': '42',\n",
              " 'translation': {'en': 'The Embedded Media Player',\n",
              "  'fr': 'Le Lecteur de Média incorporé'}}"
            ]
          },
          "metadata": {},
          "execution_count": 6
        }
      ],
      "source": [
        "# get the first example of the dataset\n",
        "kde_dataset[\"train\"][42]\n"
      ]
    },
    {
      "cell_type": "markdown",
      "id": "tFDvl9r94reU",
      "metadata": {
        "id": "tFDvl9r94reU"
      },
      "source": [
        "The dialogues resemble typical SMS or WhatsApp chats, complete with emojis and spaces for GIFs. The \"dialogue\" field presents the entire text, while the \"summary\" field provides the summary of the conversation."
      ]
    },
    {
      "cell_type": "markdown",
      "id": "CzxEpA9FCYjC",
      "metadata": {
        "id": "CzxEpA9FCYjC"
      },
      "source": [
        "## <font color = 'pickle'> **Exploratory Data Analysis (EDA)**"
      ]
    },
    {
      "cell_type": "markdown",
      "id": "cWJBOfEj4_lE",
      "metadata": {
        "id": "cWJBOfEj4_lE"
      },
      "source": [
        "### <font color = 'pickle'> **Change dataset format to Pandas**  </font>\n"
      ]
    },
    {
      "cell_type": "code",
      "execution_count": 7,
      "id": "HjQ2Q-3d14UL",
      "metadata": {
        "id": "HjQ2Q-3d14UL"
      },
      "outputs": [],
      "source": [
        "# This will convert all the splits into Pandas dataframe\n",
        "kde_dataset.set_format(type=\"pandas\")\n"
      ]
    },
    {
      "cell_type": "code",
      "execution_count": 8,
      "id": "nM-OqQ493Io9",
      "metadata": {
        "id": "nM-OqQ493Io9"
      },
      "outputs": [],
      "source": [
        "# Get all rows from training split\n",
        "df_train = kde_dataset[\"train\"][:]\n"
      ]
    },
    {
      "cell_type": "code",
      "execution_count": 9,
      "id": "Aah_Ji9EdgSQ",
      "metadata": {
        "colab": {
          "base_uri": "https://localhost:8080/",
          "height": 206
        },
        "id": "Aah_Ji9EdgSQ",
        "outputId": "66ee4d21-c115-4735-b802-6da85813ac7a"
      },
      "outputs": [
        {
          "output_type": "execute_result",
          "data": {
            "text/plain": [
              "  id                                        translation\n",
              "0  0         {'en': 'Lauri Watts', 'fr': 'Lauri Watts'}\n",
              "1  1  {'en': '& Lauri. Watts. mail;', 'fr': '& Lauri...\n",
              "2  2  {'en': 'ROLES_OF_TRANSLATORS', 'fr': '& traduc...\n",
              "3  3  {'en': '2006-02-26 3.5.1', 'fr': '2006-02-26 3...\n",
              "4  4  {'en': 'The Babel & konqueror; plugin gives yo..."
            ],
            "text/html": [
              "\n",
              "  <div id=\"df-16398092-8f73-4bea-af58-191c1a6f49af\" class=\"colab-df-container\">\n",
              "    <div>\n",
              "<style scoped>\n",
              "    .dataframe tbody tr th:only-of-type {\n",
              "        vertical-align: middle;\n",
              "    }\n",
              "\n",
              "    .dataframe tbody tr th {\n",
              "        vertical-align: top;\n",
              "    }\n",
              "\n",
              "    .dataframe thead th {\n",
              "        text-align: right;\n",
              "    }\n",
              "</style>\n",
              "<table border=\"1\" class=\"dataframe\">\n",
              "  <thead>\n",
              "    <tr style=\"text-align: right;\">\n",
              "      <th></th>\n",
              "      <th>id</th>\n",
              "      <th>translation</th>\n",
              "    </tr>\n",
              "  </thead>\n",
              "  <tbody>\n",
              "    <tr>\n",
              "      <th>0</th>\n",
              "      <td>0</td>\n",
              "      <td>{'en': 'Lauri Watts', 'fr': 'Lauri Watts'}</td>\n",
              "    </tr>\n",
              "    <tr>\n",
              "      <th>1</th>\n",
              "      <td>1</td>\n",
              "      <td>{'en': '&amp; Lauri. Watts. mail;', 'fr': '&amp; Lauri...</td>\n",
              "    </tr>\n",
              "    <tr>\n",
              "      <th>2</th>\n",
              "      <td>2</td>\n",
              "      <td>{'en': 'ROLES_OF_TRANSLATORS', 'fr': '&amp; traduc...</td>\n",
              "    </tr>\n",
              "    <tr>\n",
              "      <th>3</th>\n",
              "      <td>3</td>\n",
              "      <td>{'en': '2006-02-26 3.5.1', 'fr': '2006-02-26 3...</td>\n",
              "    </tr>\n",
              "    <tr>\n",
              "      <th>4</th>\n",
              "      <td>4</td>\n",
              "      <td>{'en': 'The Babel &amp; konqueror; plugin gives yo...</td>\n",
              "    </tr>\n",
              "  </tbody>\n",
              "</table>\n",
              "</div>\n",
              "    <div class=\"colab-df-buttons\">\n",
              "\n",
              "  <div class=\"colab-df-container\">\n",
              "    <button class=\"colab-df-convert\" onclick=\"convertToInteractive('df-16398092-8f73-4bea-af58-191c1a6f49af')\"\n",
              "            title=\"Convert this dataframe to an interactive table.\"\n",
              "            style=\"display:none;\">\n",
              "\n",
              "  <svg xmlns=\"http://www.w3.org/2000/svg\" height=\"24px\" viewBox=\"0 -960 960 960\">\n",
              "    <path d=\"M120-120v-720h720v720H120Zm60-500h600v-160H180v160Zm220 220h160v-160H400v160Zm0 220h160v-160H400v160ZM180-400h160v-160H180v160Zm440 0h160v-160H620v160ZM180-180h160v-160H180v160Zm440 0h160v-160H620v160Z\"/>\n",
              "  </svg>\n",
              "    </button>\n",
              "\n",
              "  <style>\n",
              "    .colab-df-container {\n",
              "      display:flex;\n",
              "      gap: 12px;\n",
              "    }\n",
              "\n",
              "    .colab-df-convert {\n",
              "      background-color: #E8F0FE;\n",
              "      border: none;\n",
              "      border-radius: 50%;\n",
              "      cursor: pointer;\n",
              "      display: none;\n",
              "      fill: #1967D2;\n",
              "      height: 32px;\n",
              "      padding: 0 0 0 0;\n",
              "      width: 32px;\n",
              "    }\n",
              "\n",
              "    .colab-df-convert:hover {\n",
              "      background-color: #E2EBFA;\n",
              "      box-shadow: 0px 1px 2px rgba(60, 64, 67, 0.3), 0px 1px 3px 1px rgba(60, 64, 67, 0.15);\n",
              "      fill: #174EA6;\n",
              "    }\n",
              "\n",
              "    .colab-df-buttons div {\n",
              "      margin-bottom: 4px;\n",
              "    }\n",
              "\n",
              "    [theme=dark] .colab-df-convert {\n",
              "      background-color: #3B4455;\n",
              "      fill: #D2E3FC;\n",
              "    }\n",
              "\n",
              "    [theme=dark] .colab-df-convert:hover {\n",
              "      background-color: #434B5C;\n",
              "      box-shadow: 0px 1px 3px 1px rgba(0, 0, 0, 0.15);\n",
              "      filter: drop-shadow(0px 1px 2px rgba(0, 0, 0, 0.3));\n",
              "      fill: #FFFFFF;\n",
              "    }\n",
              "  </style>\n",
              "\n",
              "    <script>\n",
              "      const buttonEl =\n",
              "        document.querySelector('#df-16398092-8f73-4bea-af58-191c1a6f49af button.colab-df-convert');\n",
              "      buttonEl.style.display =\n",
              "        google.colab.kernel.accessAllowed ? 'block' : 'none';\n",
              "\n",
              "      async function convertToInteractive(key) {\n",
              "        const element = document.querySelector('#df-16398092-8f73-4bea-af58-191c1a6f49af');\n",
              "        const dataTable =\n",
              "          await google.colab.kernel.invokeFunction('convertToInteractive',\n",
              "                                                    [key], {});\n",
              "        if (!dataTable) return;\n",
              "\n",
              "        const docLinkHtml = 'Like what you see? Visit the ' +\n",
              "          '<a target=\"_blank\" href=https://colab.research.google.com/notebooks/data_table.ipynb>data table notebook</a>'\n",
              "          + ' to learn more about interactive tables.';\n",
              "        element.innerHTML = '';\n",
              "        dataTable['output_type'] = 'display_data';\n",
              "        await google.colab.output.renderOutput(dataTable, element);\n",
              "        const docLink = document.createElement('div');\n",
              "        docLink.innerHTML = docLinkHtml;\n",
              "        element.appendChild(docLink);\n",
              "      }\n",
              "    </script>\n",
              "  </div>\n",
              "\n",
              "\n",
              "<div id=\"df-558a2262-89c7-4e0d-bc09-ca03331ea3f1\">\n",
              "  <button class=\"colab-df-quickchart\" onclick=\"quickchart('df-558a2262-89c7-4e0d-bc09-ca03331ea3f1')\"\n",
              "            title=\"Suggest charts.\"\n",
              "            style=\"display:none;\">\n",
              "\n",
              "<svg xmlns=\"http://www.w3.org/2000/svg\" height=\"24px\"viewBox=\"0 0 24 24\"\n",
              "     width=\"24px\">\n",
              "    <g>\n",
              "        <path d=\"M19 3H5c-1.1 0-2 .9-2 2v14c0 1.1.9 2 2 2h14c1.1 0 2-.9 2-2V5c0-1.1-.9-2-2-2zM9 17H7v-7h2v7zm4 0h-2V7h2v10zm4 0h-2v-4h2v4z\"/>\n",
              "    </g>\n",
              "</svg>\n",
              "  </button>\n",
              "\n",
              "<style>\n",
              "  .colab-df-quickchart {\n",
              "      --bg-color: #E8F0FE;\n",
              "      --fill-color: #1967D2;\n",
              "      --hover-bg-color: #E2EBFA;\n",
              "      --hover-fill-color: #174EA6;\n",
              "      --disabled-fill-color: #AAA;\n",
              "      --disabled-bg-color: #DDD;\n",
              "  }\n",
              "\n",
              "  [theme=dark] .colab-df-quickchart {\n",
              "      --bg-color: #3B4455;\n",
              "      --fill-color: #D2E3FC;\n",
              "      --hover-bg-color: #434B5C;\n",
              "      --hover-fill-color: #FFFFFF;\n",
              "      --disabled-bg-color: #3B4455;\n",
              "      --disabled-fill-color: #666;\n",
              "  }\n",
              "\n",
              "  .colab-df-quickchart {\n",
              "    background-color: var(--bg-color);\n",
              "    border: none;\n",
              "    border-radius: 50%;\n",
              "    cursor: pointer;\n",
              "    display: none;\n",
              "    fill: var(--fill-color);\n",
              "    height: 32px;\n",
              "    padding: 0;\n",
              "    width: 32px;\n",
              "  }\n",
              "\n",
              "  .colab-df-quickchart:hover {\n",
              "    background-color: var(--hover-bg-color);\n",
              "    box-shadow: 0 1px 2px rgba(60, 64, 67, 0.3), 0 1px 3px 1px rgba(60, 64, 67, 0.15);\n",
              "    fill: var(--button-hover-fill-color);\n",
              "  }\n",
              "\n",
              "  .colab-df-quickchart-complete:disabled,\n",
              "  .colab-df-quickchart-complete:disabled:hover {\n",
              "    background-color: var(--disabled-bg-color);\n",
              "    fill: var(--disabled-fill-color);\n",
              "    box-shadow: none;\n",
              "  }\n",
              "\n",
              "  .colab-df-spinner {\n",
              "    border: 2px solid var(--fill-color);\n",
              "    border-color: transparent;\n",
              "    border-bottom-color: var(--fill-color);\n",
              "    animation:\n",
              "      spin 1s steps(1) infinite;\n",
              "  }\n",
              "\n",
              "  @keyframes spin {\n",
              "    0% {\n",
              "      border-color: transparent;\n",
              "      border-bottom-color: var(--fill-color);\n",
              "      border-left-color: var(--fill-color);\n",
              "    }\n",
              "    20% {\n",
              "      border-color: transparent;\n",
              "      border-left-color: var(--fill-color);\n",
              "      border-top-color: var(--fill-color);\n",
              "    }\n",
              "    30% {\n",
              "      border-color: transparent;\n",
              "      border-left-color: var(--fill-color);\n",
              "      border-top-color: var(--fill-color);\n",
              "      border-right-color: var(--fill-color);\n",
              "    }\n",
              "    40% {\n",
              "      border-color: transparent;\n",
              "      border-right-color: var(--fill-color);\n",
              "      border-top-color: var(--fill-color);\n",
              "    }\n",
              "    60% {\n",
              "      border-color: transparent;\n",
              "      border-right-color: var(--fill-color);\n",
              "    }\n",
              "    80% {\n",
              "      border-color: transparent;\n",
              "      border-right-color: var(--fill-color);\n",
              "      border-bottom-color: var(--fill-color);\n",
              "    }\n",
              "    90% {\n",
              "      border-color: transparent;\n",
              "      border-bottom-color: var(--fill-color);\n",
              "    }\n",
              "  }\n",
              "</style>\n",
              "\n",
              "  <script>\n",
              "    async function quickchart(key) {\n",
              "      const quickchartButtonEl =\n",
              "        document.querySelector('#' + key + ' button');\n",
              "      quickchartButtonEl.disabled = true;  // To prevent multiple clicks.\n",
              "      quickchartButtonEl.classList.add('colab-df-spinner');\n",
              "      try {\n",
              "        const charts = await google.colab.kernel.invokeFunction(\n",
              "            'suggestCharts', [key], {});\n",
              "      } catch (error) {\n",
              "        console.error('Error during call to suggestCharts:', error);\n",
              "      }\n",
              "      quickchartButtonEl.classList.remove('colab-df-spinner');\n",
              "      quickchartButtonEl.classList.add('colab-df-quickchart-complete');\n",
              "    }\n",
              "    (() => {\n",
              "      let quickchartButtonEl =\n",
              "        document.querySelector('#df-558a2262-89c7-4e0d-bc09-ca03331ea3f1 button');\n",
              "      quickchartButtonEl.style.display =\n",
              "        google.colab.kernel.accessAllowed ? 'block' : 'none';\n",
              "    })();\n",
              "  </script>\n",
              "</div>\n",
              "    </div>\n",
              "  </div>\n"
            ]
          },
          "metadata": {},
          "execution_count": 9
        }
      ],
      "source": [
        "df_train.head()\n"
      ]
    },
    {
      "cell_type": "code",
      "execution_count": 10,
      "id": "SMuG9fuF3ccM",
      "metadata": {
        "colab": {
          "base_uri": "https://localhost:8080/"
        },
        "id": "SMuG9fuF3ccM",
        "outputId": "ac93dcd4-6365-4f2d-c377-2ddadbd7f6f9"
      },
      "outputs": [
        {
          "output_type": "stream",
          "name": "stdout",
          "text": [
            "<class 'pandas.core.frame.DataFrame'>\n",
            "RangeIndex: 210173 entries, 0 to 210172\n",
            "Data columns (total 2 columns):\n",
            " #   Column       Non-Null Count   Dtype \n",
            "---  ------       --------------   ----- \n",
            " 0   id           210173 non-null  object\n",
            " 1   translation  210173 non-null  object\n",
            "dtypes: object(2)\n",
            "memory usage: 3.2+ MB\n"
          ]
        }
      ],
      "source": [
        "df_train.info()\n"
      ]
    },
    {
      "cell_type": "markdown",
      "id": "FYl8PoBim3kC",
      "metadata": {
        "id": "FYl8PoBim3kC"
      },
      "source": [
        "### <font color = 'pickle'> **Check length of the dialogue/summary** </font>\n"
      ]
    },
    {
      "cell_type": "code",
      "execution_count": 11,
      "id": "WOF_nrp2oBvT",
      "metadata": {
        "id": "WOF_nrp2oBvT"
      },
      "outputs": [],
      "source": [
        "df_train['words_per_sent_en'] = df_train['translation'].apply(lambda x: len(x['en'].split()))\n",
        "df_train['words_per_sent_fr'] = df_train['translation'].apply(lambda x: len(x['fr'].split()))"
      ]
    },
    {
      "cell_type": "code",
      "execution_count": 12,
      "id": "Pw7jn9U1YDJH",
      "metadata": {
        "colab": {
          "base_uri": "https://localhost:8080/",
          "height": 206
        },
        "id": "Pw7jn9U1YDJH",
        "outputId": "43542cdd-ca3b-4794-b35a-c7b108b5232a"
      },
      "outputs": [
        {
          "output_type": "execute_result",
          "data": {
            "text/plain": [
              "  id                                        translation  words_per_sent_en  \\\n",
              "0  0         {'en': 'Lauri Watts', 'fr': 'Lauri Watts'}                  2   \n",
              "1  1  {'en': '& Lauri. Watts. mail;', 'fr': '& Lauri...                  4   \n",
              "2  2  {'en': 'ROLES_OF_TRANSLATORS', 'fr': '& traduc...                  1   \n",
              "3  3  {'en': '2006-02-26 3.5.1', 'fr': '2006-02-26 3...                  2   \n",
              "4  4  {'en': 'The Babel & konqueror; plugin gives yo...                 14   \n",
              "\n",
              "   words_per_sent_fr  \n",
              "0                  2  \n",
              "1                  4  \n",
              "2                  2  \n",
              "3                  2  \n",
              "4                 17  "
            ],
            "text/html": [
              "\n",
              "  <div id=\"df-cd2a8e2e-5d32-46ef-8ca6-dc633b909c29\" class=\"colab-df-container\">\n",
              "    <div>\n",
              "<style scoped>\n",
              "    .dataframe tbody tr th:only-of-type {\n",
              "        vertical-align: middle;\n",
              "    }\n",
              "\n",
              "    .dataframe tbody tr th {\n",
              "        vertical-align: top;\n",
              "    }\n",
              "\n",
              "    .dataframe thead th {\n",
              "        text-align: right;\n",
              "    }\n",
              "</style>\n",
              "<table border=\"1\" class=\"dataframe\">\n",
              "  <thead>\n",
              "    <tr style=\"text-align: right;\">\n",
              "      <th></th>\n",
              "      <th>id</th>\n",
              "      <th>translation</th>\n",
              "      <th>words_per_sent_en</th>\n",
              "      <th>words_per_sent_fr</th>\n",
              "    </tr>\n",
              "  </thead>\n",
              "  <tbody>\n",
              "    <tr>\n",
              "      <th>0</th>\n",
              "      <td>0</td>\n",
              "      <td>{'en': 'Lauri Watts', 'fr': 'Lauri Watts'}</td>\n",
              "      <td>2</td>\n",
              "      <td>2</td>\n",
              "    </tr>\n",
              "    <tr>\n",
              "      <th>1</th>\n",
              "      <td>1</td>\n",
              "      <td>{'en': '&amp; Lauri. Watts. mail;', 'fr': '&amp; Lauri...</td>\n",
              "      <td>4</td>\n",
              "      <td>4</td>\n",
              "    </tr>\n",
              "    <tr>\n",
              "      <th>2</th>\n",
              "      <td>2</td>\n",
              "      <td>{'en': 'ROLES_OF_TRANSLATORS', 'fr': '&amp; traduc...</td>\n",
              "      <td>1</td>\n",
              "      <td>2</td>\n",
              "    </tr>\n",
              "    <tr>\n",
              "      <th>3</th>\n",
              "      <td>3</td>\n",
              "      <td>{'en': '2006-02-26 3.5.1', 'fr': '2006-02-26 3...</td>\n",
              "      <td>2</td>\n",
              "      <td>2</td>\n",
              "    </tr>\n",
              "    <tr>\n",
              "      <th>4</th>\n",
              "      <td>4</td>\n",
              "      <td>{'en': 'The Babel &amp; konqueror; plugin gives yo...</td>\n",
              "      <td>14</td>\n",
              "      <td>17</td>\n",
              "    </tr>\n",
              "  </tbody>\n",
              "</table>\n",
              "</div>\n",
              "    <div class=\"colab-df-buttons\">\n",
              "\n",
              "  <div class=\"colab-df-container\">\n",
              "    <button class=\"colab-df-convert\" onclick=\"convertToInteractive('df-cd2a8e2e-5d32-46ef-8ca6-dc633b909c29')\"\n",
              "            title=\"Convert this dataframe to an interactive table.\"\n",
              "            style=\"display:none;\">\n",
              "\n",
              "  <svg xmlns=\"http://www.w3.org/2000/svg\" height=\"24px\" viewBox=\"0 -960 960 960\">\n",
              "    <path d=\"M120-120v-720h720v720H120Zm60-500h600v-160H180v160Zm220 220h160v-160H400v160Zm0 220h160v-160H400v160ZM180-400h160v-160H180v160Zm440 0h160v-160H620v160ZM180-180h160v-160H180v160Zm440 0h160v-160H620v160Z\"/>\n",
              "  </svg>\n",
              "    </button>\n",
              "\n",
              "  <style>\n",
              "    .colab-df-container {\n",
              "      display:flex;\n",
              "      gap: 12px;\n",
              "    }\n",
              "\n",
              "    .colab-df-convert {\n",
              "      background-color: #E8F0FE;\n",
              "      border: none;\n",
              "      border-radius: 50%;\n",
              "      cursor: pointer;\n",
              "      display: none;\n",
              "      fill: #1967D2;\n",
              "      height: 32px;\n",
              "      padding: 0 0 0 0;\n",
              "      width: 32px;\n",
              "    }\n",
              "\n",
              "    .colab-df-convert:hover {\n",
              "      background-color: #E2EBFA;\n",
              "      box-shadow: 0px 1px 2px rgba(60, 64, 67, 0.3), 0px 1px 3px 1px rgba(60, 64, 67, 0.15);\n",
              "      fill: #174EA6;\n",
              "    }\n",
              "\n",
              "    .colab-df-buttons div {\n",
              "      margin-bottom: 4px;\n",
              "    }\n",
              "\n",
              "    [theme=dark] .colab-df-convert {\n",
              "      background-color: #3B4455;\n",
              "      fill: #D2E3FC;\n",
              "    }\n",
              "\n",
              "    [theme=dark] .colab-df-convert:hover {\n",
              "      background-color: #434B5C;\n",
              "      box-shadow: 0px 1px 3px 1px rgba(0, 0, 0, 0.15);\n",
              "      filter: drop-shadow(0px 1px 2px rgba(0, 0, 0, 0.3));\n",
              "      fill: #FFFFFF;\n",
              "    }\n",
              "  </style>\n",
              "\n",
              "    <script>\n",
              "      const buttonEl =\n",
              "        document.querySelector('#df-cd2a8e2e-5d32-46ef-8ca6-dc633b909c29 button.colab-df-convert');\n",
              "      buttonEl.style.display =\n",
              "        google.colab.kernel.accessAllowed ? 'block' : 'none';\n",
              "\n",
              "      async function convertToInteractive(key) {\n",
              "        const element = document.querySelector('#df-cd2a8e2e-5d32-46ef-8ca6-dc633b909c29');\n",
              "        const dataTable =\n",
              "          await google.colab.kernel.invokeFunction('convertToInteractive',\n",
              "                                                    [key], {});\n",
              "        if (!dataTable) return;\n",
              "\n",
              "        const docLinkHtml = 'Like what you see? Visit the ' +\n",
              "          '<a target=\"_blank\" href=https://colab.research.google.com/notebooks/data_table.ipynb>data table notebook</a>'\n",
              "          + ' to learn more about interactive tables.';\n",
              "        element.innerHTML = '';\n",
              "        dataTable['output_type'] = 'display_data';\n",
              "        await google.colab.output.renderOutput(dataTable, element);\n",
              "        const docLink = document.createElement('div');\n",
              "        docLink.innerHTML = docLinkHtml;\n",
              "        element.appendChild(docLink);\n",
              "      }\n",
              "    </script>\n",
              "  </div>\n",
              "\n",
              "\n",
              "<div id=\"df-0d12190a-7dce-4c54-9f2a-0782dcf049a2\">\n",
              "  <button class=\"colab-df-quickchart\" onclick=\"quickchart('df-0d12190a-7dce-4c54-9f2a-0782dcf049a2')\"\n",
              "            title=\"Suggest charts.\"\n",
              "            style=\"display:none;\">\n",
              "\n",
              "<svg xmlns=\"http://www.w3.org/2000/svg\" height=\"24px\"viewBox=\"0 0 24 24\"\n",
              "     width=\"24px\">\n",
              "    <g>\n",
              "        <path d=\"M19 3H5c-1.1 0-2 .9-2 2v14c0 1.1.9 2 2 2h14c1.1 0 2-.9 2-2V5c0-1.1-.9-2-2-2zM9 17H7v-7h2v7zm4 0h-2V7h2v10zm4 0h-2v-4h2v4z\"/>\n",
              "    </g>\n",
              "</svg>\n",
              "  </button>\n",
              "\n",
              "<style>\n",
              "  .colab-df-quickchart {\n",
              "      --bg-color: #E8F0FE;\n",
              "      --fill-color: #1967D2;\n",
              "      --hover-bg-color: #E2EBFA;\n",
              "      --hover-fill-color: #174EA6;\n",
              "      --disabled-fill-color: #AAA;\n",
              "      --disabled-bg-color: #DDD;\n",
              "  }\n",
              "\n",
              "  [theme=dark] .colab-df-quickchart {\n",
              "      --bg-color: #3B4455;\n",
              "      --fill-color: #D2E3FC;\n",
              "      --hover-bg-color: #434B5C;\n",
              "      --hover-fill-color: #FFFFFF;\n",
              "      --disabled-bg-color: #3B4455;\n",
              "      --disabled-fill-color: #666;\n",
              "  }\n",
              "\n",
              "  .colab-df-quickchart {\n",
              "    background-color: var(--bg-color);\n",
              "    border: none;\n",
              "    border-radius: 50%;\n",
              "    cursor: pointer;\n",
              "    display: none;\n",
              "    fill: var(--fill-color);\n",
              "    height: 32px;\n",
              "    padding: 0;\n",
              "    width: 32px;\n",
              "  }\n",
              "\n",
              "  .colab-df-quickchart:hover {\n",
              "    background-color: var(--hover-bg-color);\n",
              "    box-shadow: 0 1px 2px rgba(60, 64, 67, 0.3), 0 1px 3px 1px rgba(60, 64, 67, 0.15);\n",
              "    fill: var(--button-hover-fill-color);\n",
              "  }\n",
              "\n",
              "  .colab-df-quickchart-complete:disabled,\n",
              "  .colab-df-quickchart-complete:disabled:hover {\n",
              "    background-color: var(--disabled-bg-color);\n",
              "    fill: var(--disabled-fill-color);\n",
              "    box-shadow: none;\n",
              "  }\n",
              "\n",
              "  .colab-df-spinner {\n",
              "    border: 2px solid var(--fill-color);\n",
              "    border-color: transparent;\n",
              "    border-bottom-color: var(--fill-color);\n",
              "    animation:\n",
              "      spin 1s steps(1) infinite;\n",
              "  }\n",
              "\n",
              "  @keyframes spin {\n",
              "    0% {\n",
              "      border-color: transparent;\n",
              "      border-bottom-color: var(--fill-color);\n",
              "      border-left-color: var(--fill-color);\n",
              "    }\n",
              "    20% {\n",
              "      border-color: transparent;\n",
              "      border-left-color: var(--fill-color);\n",
              "      border-top-color: var(--fill-color);\n",
              "    }\n",
              "    30% {\n",
              "      border-color: transparent;\n",
              "      border-left-color: var(--fill-color);\n",
              "      border-top-color: var(--fill-color);\n",
              "      border-right-color: var(--fill-color);\n",
              "    }\n",
              "    40% {\n",
              "      border-color: transparent;\n",
              "      border-right-color: var(--fill-color);\n",
              "      border-top-color: var(--fill-color);\n",
              "    }\n",
              "    60% {\n",
              "      border-color: transparent;\n",
              "      border-right-color: var(--fill-color);\n",
              "    }\n",
              "    80% {\n",
              "      border-color: transparent;\n",
              "      border-right-color: var(--fill-color);\n",
              "      border-bottom-color: var(--fill-color);\n",
              "    }\n",
              "    90% {\n",
              "      border-color: transparent;\n",
              "      border-bottom-color: var(--fill-color);\n",
              "    }\n",
              "  }\n",
              "</style>\n",
              "\n",
              "  <script>\n",
              "    async function quickchart(key) {\n",
              "      const quickchartButtonEl =\n",
              "        document.querySelector('#' + key + ' button');\n",
              "      quickchartButtonEl.disabled = true;  // To prevent multiple clicks.\n",
              "      quickchartButtonEl.classList.add('colab-df-spinner');\n",
              "      try {\n",
              "        const charts = await google.colab.kernel.invokeFunction(\n",
              "            'suggestCharts', [key], {});\n",
              "      } catch (error) {\n",
              "        console.error('Error during call to suggestCharts:', error);\n",
              "      }\n",
              "      quickchartButtonEl.classList.remove('colab-df-spinner');\n",
              "      quickchartButtonEl.classList.add('colab-df-quickchart-complete');\n",
              "    }\n",
              "    (() => {\n",
              "      let quickchartButtonEl =\n",
              "        document.querySelector('#df-0d12190a-7dce-4c54-9f2a-0782dcf049a2 button');\n",
              "      quickchartButtonEl.style.display =\n",
              "        google.colab.kernel.accessAllowed ? 'block' : 'none';\n",
              "    })();\n",
              "  </script>\n",
              "</div>\n",
              "    </div>\n",
              "  </div>\n"
            ]
          },
          "metadata": {},
          "execution_count": 12
        }
      ],
      "source": [
        "df_train.head()\n"
      ]
    },
    {
      "cell_type": "markdown",
      "id": "YhePLup4AuDo",
      "metadata": {
        "id": "YhePLup4AuDo"
      },
      "source": [
        "#### <font color = 'pickle'> **Plot the distribution of review length** </font>"
      ]
    },
    {
      "cell_type": "code",
      "execution_count": 13,
      "id": "6m_e5NU7pOr_",
      "metadata": {
        "id": "6m_e5NU7pOr_"
      },
      "outputs": [],
      "source": [
        "import matplotlib.pyplot as plt\n",
        "\n",
        "\n",
        "def plot_two_hists(series1, series2, label1, label2):\n",
        "    # Create a figure with two subplots\n",
        "    fig, axs = plt.subplots(1, 2, figsize=(10, 5))\n",
        "\n",
        "    # Plot the first histogram on the left subplot\n",
        "    axs[0].hist(series1, bins=50, edgecolor=\"black\")\n",
        "    axs[0].set_xlabel(\"Number of Words\")\n",
        "    axs[0].set_ylabel(\"Frequency\")\n",
        "    axs[0].set_title(f\"Distribution of Words per {label1}\")\n",
        "\n",
        "    # Plot the second histogram on the right subplot\n",
        "    axs[1].hist(series2, bins=50, edgecolor=\"black\")\n",
        "    axs[1].set_xlabel(\"Number of Words\")\n",
        "    axs[1].set_ylabel(\"Frequency\")\n",
        "    axs[1].set_title(f\"Distribution of Words per {label2}\")\n",
        "\n",
        "    # Adjust the spacing between subplots\n",
        "    plt.subplots_adjust(wspace=0.3)\n",
        "\n",
        "    # Display the plot\n",
        "    plt.show()\n"
      ]
    },
    {
      "cell_type": "code",
      "execution_count": 14,
      "id": "0968a1ef",
      "metadata": {
        "colab": {
          "base_uri": "https://localhost:8080/",
          "height": 487
        },
        "id": "0968a1ef",
        "outputId": "c2f6a54b-dd0a-4747-bd26-785a4e05b7d2"
      },
      "outputs": [
        {
          "output_type": "display_data",
          "data": {
            "text/plain": [
              "<Figure size 1000x500 with 2 Axes>"
            ],
            "image/png": "[encoded data removed]"
          },
          "metadata": {}
        }
      ],
      "source": [
        "plot_two_hists(\n",
        "    df_train[\"words_per_sent_en\"], df_train[\"words_per_sent_fr\"], \"sentence for english\", \"sentence for french\"\n",
        ")\n"
      ]
    },
    {
      "cell_type": "code",
      "execution_count": 15,
      "id": "7d60bfd4",
      "metadata": {
        "colab": {
          "base_uri": "https://localhost:8080/"
        },
        "id": "7d60bfd4",
        "outputId": "52773452-1f52-4120-be4b-57c7fe6efac0"
      },
      "outputs": [
        {
          "output_type": "execute_result",
          "data": {
            "text/plain": [
              "count    210173.000000\n",
              "mean          7.573218\n",
              "std          14.894992\n",
              "min           1.000000\n",
              "25%           2.000000\n",
              "50%           3.000000\n",
              "75%           6.000000\n",
              "max         759.000000\n",
              "Name: words_per_sent_en, dtype: float64"
            ]
          },
          "metadata": {},
          "execution_count": 15
        }
      ],
      "source": [
        "df_train[\"words_per_sent_en\"].describe()"
      ]
    },
    {
      "cell_type": "code",
      "execution_count": 16,
      "id": "yTYJqPgEpPQV",
      "metadata": {
        "colab": {
          "base_uri": "https://localhost:8080/"
        },
        "id": "yTYJqPgEpPQV",
        "outputId": "fd7e1dd8-34c5-4f32-fff6-12bb865a2130"
      },
      "outputs": [
        {
          "output_type": "stream",
          "name": "stdout",
          "text": [
            "Number of sentences with more than 400 words: 5\n"
          ]
        }
      ],
      "source": [
        "# Let us check how many sentences ahs more than 500 words\n",
        "\n",
        "count = (df_train[\"words_per_sent_en\"] > 500).sum()\n",
        "print(f\"Number of sentences with more than 400 words: {count}\")\n"
      ]
    },
    {
      "cell_type": "code",
      "execution_count": 17,
      "id": "9e9eb47b",
      "metadata": {
        "id": "9e9eb47b",
        "outputId": "b383d89f-1904-46fb-c251-afd2ce25637a",
        "colab": {
          "base_uri": "https://localhost:8080/"
        }
      },
      "outputs": [
        {
          "output_type": "stream",
          "name": "stdout",
          "text": [
            "Number of sentences with less than 2 words: 48165\n"
          ]
        }
      ],
      "source": [
        "# Let us check how many sentences has less than 2 words\n",
        "\n",
        "count = (df_train[\"words_per_sent_en\"] <2).sum()\n",
        "print(f\"Number of sentences with less than 2 words: {count}\")"
      ]
    },
    {
      "cell_type": "code",
      "execution_count": 18,
      "id": "6dcc57e1",
      "metadata": {
        "id": "6dcc57e1",
        "outputId": "17b78fb6-c738-4117-aaf3-11bb782375c0",
        "colab": {
          "base_uri": "https://localhost:8080/"
        }
      },
      "outputs": [
        {
          "output_type": "stream",
          "name": "stdout",
          "text": [
            "Number of sentences with less than 2 words: 0\n"
          ]
        }
      ],
      "source": [
        "# Let us check how many sentences has less than 1 word - empty strings\n",
        "\n",
        "count = (df_train[\"words_per_sent_en\"] <1).sum()\n",
        "print(f\"Number of sentences with less than 2 words: {count}\")"
      ]
    },
    {
      "cell_type": "code",
      "execution_count": 19,
      "id": "34704d01",
      "metadata": {
        "id": "34704d01",
        "outputId": "3fbd0065-2831-4ca7-98b0-a5cc73ad23d5",
        "colab": {
          "base_uri": "https://localhost:8080/",
          "height": 423
        }
      },
      "outputs": [
        {
          "output_type": "execute_result",
          "data": {
            "text/plain": [
              "            id                                     translation  \\\n",
              "5            5                      {'en': 'KDE', 'fr': 'KDE'}   \n",
              "6            6          {'en': 'kdeaddons', 'fr': 'kdeaddons'}   \n",
              "7            7          {'en': 'konqueror', 'fr': 'konqueror'}   \n",
              "9            9          {'en': 'babelfish', 'fr': 'babelfish'}   \n",
              "10          10         {'en': 'translate', 'fr': 'traduction'}   \n",
              "...        ...                                             ...   \n",
              "210137  210137           {'en': 'Games', 'fr': 'JeuxPhonon::'}   \n",
              "210138  210138  {'en': 'Accessibility', 'fr': 'Accessibilité'}   \n",
              "210156  210156                    {'en': 'aRts', 'fr': 'aRts'}   \n",
              "210161  210161                {'en': 'Volume', 'fr': 'Volume'}   \n",
              "210172  210172        {'en': 'PulseAudio', 'fr': 'PulseAudio'}   \n",
              "\n",
              "        words_per_sent_en  words_per_sent_fr  \n",
              "5                       1                  1  \n",
              "6                       1                  1  \n",
              "7                       1                  1  \n",
              "9                       1                  1  \n",
              "10                      1                  1  \n",
              "...                   ...                ...  \n",
              "210137                  1                  1  \n",
              "210138                  1                  1  \n",
              "210156                  1                  1  \n",
              "210161                  1                  1  \n",
              "210172                  1                  1  \n",
              "\n",
              "[31404 rows x 4 columns]"
            ],
            "text/html": [
              "\n",
              "  <div id=\"df-22f7ff3f-fb6b-4be0-86ad-0bb2cbf103f0\" class=\"colab-df-container\">\n",
              "    <div>\n",
              "<style scoped>\n",
              "    .dataframe tbody tr th:only-of-type {\n",
              "        vertical-align: middle;\n",
              "    }\n",
              "\n",
              "    .dataframe tbody tr th {\n",
              "        vertical-align: top;\n",
              "    }\n",
              "\n",
              "    .dataframe thead th {\n",
              "        text-align: right;\n",
              "    }\n",
              "</style>\n",
              "<table border=\"1\" class=\"dataframe\">\n",
              "  <thead>\n",
              "    <tr style=\"text-align: right;\">\n",
              "      <th></th>\n",
              "      <th>id</th>\n",
              "      <th>translation</th>\n",
              "      <th>words_per_sent_en</th>\n",
              "      <th>words_per_sent_fr</th>\n",
              "    </tr>\n",
              "  </thead>\n",
              "  <tbody>\n",
              "    <tr>\n",
              "      <th>5</th>\n",
              "      <td>5</td>\n",
              "      <td>{'en': 'KDE', 'fr': 'KDE'}</td>\n",
              "      <td>1</td>\n",
              "      <td>1</td>\n",
              "    </tr>\n",
              "    <tr>\n",
              "      <th>6</th>\n",
              "      <td>6</td>\n",
              "      <td>{'en': 'kdeaddons', 'fr': 'kdeaddons'}</td>\n",
              "      <td>1</td>\n",
              "      <td>1</td>\n",
              "    </tr>\n",
              "    <tr>\n",
              "      <th>7</th>\n",
              "      <td>7</td>\n",
              "      <td>{'en': 'konqueror', 'fr': 'konqueror'}</td>\n",
              "      <td>1</td>\n",
              "      <td>1</td>\n",
              "    </tr>\n",
              "    <tr>\n",
              "      <th>9</th>\n",
              "      <td>9</td>\n",
              "      <td>{'en': 'babelfish', 'fr': 'babelfish'}</td>\n",
              "      <td>1</td>\n",
              "      <td>1</td>\n",
              "    </tr>\n",
              "    <tr>\n",
              "      <th>10</th>\n",
              "      <td>10</td>\n",
              "      <td>{'en': 'translate', 'fr': 'traduction'}</td>\n",
              "      <td>1</td>\n",
              "      <td>1</td>\n",
              "    </tr>\n",
              "    <tr>\n",
              "      <th>...</th>\n",
              "      <td>...</td>\n",
              "      <td>...</td>\n",
              "      <td>...</td>\n",
              "      <td>...</td>\n",
              "    </tr>\n",
              "    <tr>\n",
              "      <th>210137</th>\n",
              "      <td>210137</td>\n",
              "      <td>{'en': 'Games', 'fr': 'JeuxPhonon::'}</td>\n",
              "      <td>1</td>\n",
              "      <td>1</td>\n",
              "    </tr>\n",
              "    <tr>\n",
              "      <th>210138</th>\n",
              "      <td>210138</td>\n",
              "      <td>{'en': 'Accessibility', 'fr': 'Accessibilité'}</td>\n",
              "      <td>1</td>\n",
              "      <td>1</td>\n",
              "    </tr>\n",
              "    <tr>\n",
              "      <th>210156</th>\n",
              "      <td>210156</td>\n",
              "      <td>{'en': 'aRts', 'fr': 'aRts'}</td>\n",
              "      <td>1</td>\n",
              "      <td>1</td>\n",
              "    </tr>\n",
              "    <tr>\n",
              "      <th>210161</th>\n",
              "      <td>210161</td>\n",
              "      <td>{'en': 'Volume', 'fr': 'Volume'}</td>\n",
              "      <td>1</td>\n",
              "      <td>1</td>\n",
              "    </tr>\n",
              "    <tr>\n",
              "      <th>210172</th>\n",
              "      <td>210172</td>\n",
              "      <td>{'en': 'PulseAudio', 'fr': 'PulseAudio'}</td>\n",
              "      <td>1</td>\n",
              "      <td>1</td>\n",
              "    </tr>\n",
              "  </tbody>\n",
              "</table>\n",
              "<p>31404 rows × 4 columns</p>\n",
              "</div>\n",
              "    <div class=\"colab-df-buttons\">\n",
              "\n",
              "  <div class=\"colab-df-container\">\n",
              "    <button class=\"colab-df-convert\" onclick=\"convertToInteractive('df-22f7ff3f-fb6b-4be0-86ad-0bb2cbf103f0')\"\n",
              "            title=\"Convert this dataframe to an interactive table.\"\n",
              "            style=\"display:none;\">\n",
              "\n",
              "  <svg xmlns=\"http://www.w3.org/2000/svg\" height=\"24px\" viewBox=\"0 -960 960 960\">\n",
              "    <path d=\"M120-120v-720h720v720H120Zm60-500h600v-160H180v160Zm220 220h160v-160H400v160Zm0 220h160v-160H400v160ZM180-400h160v-160H180v160Zm440 0h160v-160H620v160ZM180-180h160v-160H180v160Zm440 0h160v-160H620v160Z\"/>\n",
              "  </svg>\n",
              "    </button>\n",
              "\n",
              "  <style>\n",
              "    .colab-df-container {\n",
              "      display:flex;\n",
              "      gap: 12px;\n",
              "    }\n",
              "\n",
              "    .colab-df-convert {\n",
              "      background-color: #E8F0FE;\n",
              "      border: none;\n",
              "      border-radius: 50%;\n",
              "      cursor: pointer;\n",
              "      display: none;\n",
              "      fill: #1967D2;\n",
              "      height: 32px;\n",
              "      padding: 0 0 0 0;\n",
              "      width: 32px;\n",
              "    }\n",
              "\n",
              "    .colab-df-convert:hover {\n",
              "      background-color: #E2EBFA;\n",
              "      box-shadow: 0px 1px 2px rgba(60, 64, 67, 0.3), 0px 1px 3px 1px rgba(60, 64, 67, 0.15);\n",
              "      fill: #174EA6;\n",
              "    }\n",
              "\n",
              "    .colab-df-buttons div {\n",
              "      margin-bottom: 4px;\n",
              "    }\n",
              "\n",
              "    [theme=dark] .colab-df-convert {\n",
              "      background-color: #3B4455;\n",
              "      fill: #D2E3FC;\n",
              "    }\n",
              "\n",
              "    [theme=dark] .colab-df-convert:hover {\n",
              "      background-color: #434B5C;\n",
              "      box-shadow: 0px 1px 3px 1px rgba(0, 0, 0, 0.15);\n",
              "      filter: drop-shadow(0px 1px 2px rgba(0, 0, 0, 0.3));\n",
              "      fill: #FFFFFF;\n",
              "    }\n",
              "  </style>\n",
              "\n",
              "    <script>\n",
              "      const buttonEl =\n",
              "        document.querySelector('#df-22f7ff3f-fb6b-4be0-86ad-0bb2cbf103f0 button.colab-df-convert');\n",
              "      buttonEl.style.display =\n",
              "        google.colab.kernel.accessAllowed ? 'block' : 'none';\n",
              "\n",
              "      async function convertToInteractive(key) {\n",
              "        const element = document.querySelector('#df-22f7ff3f-fb6b-4be0-86ad-0bb2cbf103f0');\n",
              "        const dataTable =\n",
              "          await google.colab.kernel.invokeFunction('convertToInteractive',\n",
              "                                                    [key], {});\n",
              "        if (!dataTable) return;\n",
              "\n",
              "        const docLinkHtml = 'Like what you see? Visit the ' +\n",
              "          '<a target=\"_blank\" href=https://colab.research.google.com/notebooks/data_table.ipynb>data table notebook</a>'\n",
              "          + ' to learn more about interactive tables.';\n",
              "        element.innerHTML = '';\n",
              "        dataTable['output_type'] = 'display_data';\n",
              "        await google.colab.output.renderOutput(dataTable, element);\n",
              "        const docLink = document.createElement('div');\n",
              "        docLink.innerHTML = docLinkHtml;\n",
              "        element.appendChild(docLink);\n",
              "      }\n",
              "    </script>\n",
              "  </div>\n",
              "\n",
              "\n",
              "<div id=\"df-74ad3874-1c4b-4528-b3e8-8fd7016a9ee3\">\n",
              "  <button class=\"colab-df-quickchart\" onclick=\"quickchart('df-74ad3874-1c4b-4528-b3e8-8fd7016a9ee3')\"\n",
              "            title=\"Suggest charts.\"\n",
              "            style=\"display:none;\">\n",
              "\n",
              "<svg xmlns=\"http://www.w3.org/2000/svg\" height=\"24px\"viewBox=\"0 0 24 24\"\n",
              "     width=\"24px\">\n",
              "    <g>\n",
              "        <path d=\"M19 3H5c-1.1 0-2 .9-2 2v14c0 1.1.9 2 2 2h14c1.1 0 2-.9 2-2V5c0-1.1-.9-2-2-2zM9 17H7v-7h2v7zm4 0h-2V7h2v10zm4 0h-2v-4h2v4z\"/>\n",
              "    </g>\n",
              "</svg>\n",
              "  </button>\n",
              "\n",
              "<style>\n",
              "  .colab-df-quickchart {\n",
              "      --bg-color: #E8F0FE;\n",
              "      --fill-color: #1967D2;\n",
              "      --hover-bg-color: #E2EBFA;\n",
              "      --hover-fill-color: #174EA6;\n",
              "      --disabled-fill-color: #AAA;\n",
              "      --disabled-bg-color: #DDD;\n",
              "  }\n",
              "\n",
              "  [theme=dark] .colab-df-quickchart {\n",
              "      --bg-color: #3B4455;\n",
              "      --fill-color: #D2E3FC;\n",
              "      --hover-bg-color: #434B5C;\n",
              "      --hover-fill-color: #FFFFFF;\n",
              "      --disabled-bg-color: #3B4455;\n",
              "      --disabled-fill-color: #666;\n",
              "  }\n",
              "\n",
              "  .colab-df-quickchart {\n",
              "    background-color: var(--bg-color);\n",
              "    border: none;\n",
              "    border-radius: 50%;\n",
              "    cursor: pointer;\n",
              "    display: none;\n",
              "    fill: var(--fill-color);\n",
              "    height: 32px;\n",
              "    padding: 0;\n",
              "    width: 32px;\n",
              "  }\n",
              "\n",
              "  .colab-df-quickchart:hover {\n",
              "    background-color: var(--hover-bg-color);\n",
              "    box-shadow: 0 1px 2px rgba(60, 64, 67, 0.3), 0 1px 3px 1px rgba(60, 64, 67, 0.15);\n",
              "    fill: var(--button-hover-fill-color);\n",
              "  }\n",
              "\n",
              "  .colab-df-quickchart-complete:disabled,\n",
              "  .colab-df-quickchart-complete:disabled:hover {\n",
              "    background-color: var(--disabled-bg-color);\n",
              "    fill: var(--disabled-fill-color);\n",
              "    box-shadow: none;\n",
              "  }\n",
              "\n",
              "  .colab-df-spinner {\n",
              "    border: 2px solid var(--fill-color);\n",
              "    border-color: transparent;\n",
              "    border-bottom-color: var(--fill-color);\n",
              "    animation:\n",
              "      spin 1s steps(1) infinite;\n",
              "  }\n",
              "\n",
              "  @keyframes spin {\n",
              "    0% {\n",
              "      border-color: transparent;\n",
              "      border-bottom-color: var(--fill-color);\n",
              "      border-left-color: var(--fill-color);\n",
              "    }\n",
              "    20% {\n",
              "      border-color: transparent;\n",
              "      border-left-color: var(--fill-color);\n",
              "      border-top-color: var(--fill-color);\n",
              "    }\n",
              "    30% {\n",
              "      border-color: transparent;\n",
              "      border-left-color: var(--fill-color);\n",
              "      border-top-color: var(--fill-color);\n",
              "      border-right-color: var(--fill-color);\n",
              "    }\n",
              "    40% {\n",
              "      border-color: transparent;\n",
              "      border-right-color: var(--fill-color);\n",
              "      border-top-color: var(--fill-color);\n",
              "    }\n",
              "    60% {\n",
              "      border-color: transparent;\n",
              "      border-right-color: var(--fill-color);\n",
              "    }\n",
              "    80% {\n",
              "      border-color: transparent;\n",
              "      border-right-color: var(--fill-color);\n",
              "      border-bottom-color: var(--fill-color);\n",
              "    }\n",
              "    90% {\n",
              "      border-color: transparent;\n",
              "      border-bottom-color: var(--fill-color);\n",
              "    }\n",
              "  }\n",
              "</style>\n",
              "\n",
              "  <script>\n",
              "    async function quickchart(key) {\n",
              "      const quickchartButtonEl =\n",
              "        document.querySelector('#' + key + ' button');\n",
              "      quickchartButtonEl.disabled = true;  // To prevent multiple clicks.\n",
              "      quickchartButtonEl.classList.add('colab-df-spinner');\n",
              "      try {\n",
              "        const charts = await google.colab.kernel.invokeFunction(\n",
              "            'suggestCharts', [key], {});\n",
              "      } catch (error) {\n",
              "        console.error('Error during call to suggestCharts:', error);\n",
              "      }\n",
              "      quickchartButtonEl.classList.remove('colab-df-spinner');\n",
              "      quickchartButtonEl.classList.add('colab-df-quickchart-complete');\n",
              "    }\n",
              "    (() => {\n",
              "      let quickchartButtonEl =\n",
              "        document.querySelector('#df-74ad3874-1c4b-4528-b3e8-8fd7016a9ee3 button');\n",
              "      quickchartButtonEl.style.display =\n",
              "        google.colab.kernel.accessAllowed ? 'block' : 'none';\n",
              "    })();\n",
              "  </script>\n",
              "</div>\n",
              "    </div>\n",
              "  </div>\n"
            ]
          },
          "metadata": {},
          "execution_count": 19
        }
      ],
      "source": [
        "df_train[df_train[\"words_per_sent_fr\"]<2]"
      ]
    },
    {
      "cell_type": "markdown",
      "id": "QuV3BOnD1GjF",
      "metadata": {
        "id": "QuV3BOnD1GjF"
      },
      "source": [
        "### <font color = 'pickle'> **Reset dataset format** </font>\n"
      ]
    },
    {
      "cell_type": "code",
      "execution_count": 20,
      "id": "S2XAL-2PyI-3",
      "metadata": {
        "id": "S2XAL-2PyI-3"
      },
      "outputs": [],
      "source": [
        "kde_dataset.reset_format()\n"
      ]
    },
    {
      "cell_type": "code",
      "execution_count": 21,
      "id": "uFO6-IFVyOtE",
      "metadata": {
        "colab": {
          "base_uri": "https://localhost:8080/"
        },
        "id": "uFO6-IFVyOtE",
        "outputId": "592e3ebb-3379-453f-aa0f-0dc7b91a945b"
      },
      "outputs": [
        {
          "output_type": "execute_result",
          "data": {
            "text/plain": [
              "DatasetDict({\n",
              "    train: Dataset({\n",
              "        features: ['id', 'translation'],\n",
              "        num_rows: 210173\n",
              "    })\n",
              "})"
            ]
          },
          "metadata": {},
          "execution_count": 21
        }
      ],
      "source": [
        "kde_dataset\n"
      ]
    },
    {
      "cell_type": "markdown",
      "id": "olD42nSSAwrM",
      "metadata": {
        "id": "olD42nSSAwrM"
      },
      "source": [
        "# <font color = 'pickle'> **Data Pre-processing**</font>"
      ]
    },
    {
      "cell_type": "markdown",
      "id": "0aae17c7",
      "metadata": {
        "id": "0aae17c7"
      },
      "source": [
        "## <font color = 'indianred'> **Create train, valid, test splits** </font>"
      ]
    },
    {
      "cell_type": "code",
      "execution_count": 22,
      "id": "cad2c529",
      "metadata": {
        "id": "cad2c529"
      },
      "outputs": [],
      "source": [
        "test_val_splits = kde_dataset['train'].train_test_split(test_size=0.4, seed=42)\n",
        "train_split= test_val_splits['train']\n",
        "test_val_splits = test_val_splits['test'].train_test_split(test_size=0.5, seed=42,)\n",
        "val_split = test_val_splits['train']\n",
        "test_split = test_val_splits['test']"
      ]
    },
    {
      "cell_type": "markdown",
      "id": "1c218da1",
      "metadata": {
        "id": "1c218da1"
      },
      "source": [
        "## <font color = 'indianred'> **Create small subset for experimentation** </font>\n"
      ]
    },
    {
      "cell_type": "code",
      "execution_count": 23,
      "id": "8fe7f33f",
      "metadata": {
        "id": "8fe7f33f"
      },
      "outputs": [],
      "source": [
        "train_split_small = train_split.shuffle(seed=42).select(range(1000))\n",
        "val_split_small = val_split.shuffle(seed=42).select(range(500))\n",
        "test_split_small = test_split.shuffle(seed=42).select(range(500))"
      ]
    },
    {
      "cell_type": "code",
      "execution_count": 24,
      "id": "6f65f3c9",
      "metadata": {
        "id": "6f65f3c9"
      },
      "outputs": [],
      "source": [
        "# combine train, val splits into one dataset\n",
        "train_val_subset = DatasetDict({'train': train_split_small, 'val': val_split_small})\n",
        "\n",
        "# create test dataset from test split\n",
        "test_subset= DatasetDict({'test': test_split_small})"
      ]
    },
    {
      "cell_type": "code",
      "execution_count": 25,
      "id": "d227581a",
      "metadata": {
        "id": "d227581a",
        "outputId": "8061cceb-b7fa-423e-8a26-b60ed90226b0",
        "colab": {
          "base_uri": "https://localhost:8080/"
        }
      },
      "outputs": [
        {
          "output_type": "execute_result",
          "data": {
            "text/plain": [
              "DatasetDict({\n",
              "    train: Dataset({\n",
              "        features: ['id', 'translation'],\n",
              "        num_rows: 1000\n",
              "    })\n",
              "    val: Dataset({\n",
              "        features: ['id', 'translation'],\n",
              "        num_rows: 500\n",
              "    })\n",
              "})"
            ]
          },
          "metadata": {},
          "execution_count": 25
        }
      ],
      "source": [
        "train_val_subset"
      ]
    },
    {
      "cell_type": "code",
      "execution_count": 26,
      "id": "bb339cb0",
      "metadata": {
        "id": "bb339cb0",
        "outputId": "0a319b46-bd5b-49d8-a1f8-665c84843a19",
        "colab": {
          "base_uri": "https://localhost:8080/"
        }
      },
      "outputs": [
        {
          "output_type": "execute_result",
          "data": {
            "text/plain": [
              "DatasetDict({\n",
              "    test: Dataset({\n",
              "        features: ['id', 'translation'],\n",
              "        num_rows: 500\n",
              "    })\n",
              "})"
            ]
          },
          "metadata": {},
          "execution_count": 26
        }
      ],
      "source": [
        "test_subset"
      ]
    },
    {
      "cell_type": "code",
      "execution_count": 27,
      "id": "6kr8t1JZRgbY",
      "metadata": {
        "colab": {
          "base_uri": "https://localhost:8080/"
        },
        "id": "6kr8t1JZRgbY",
        "outputId": "c618d943-3c8e-473a-9adf-fffe9b5521b7"
      },
      "outputs": [
        {
          "output_type": "execute_result",
          "data": {
            "text/plain": [
              "{'en': 'Upper Window: View on Printers, both Real and Virtual',\n",
              " 'fr': \"Fenêtre supérieure & #160;: Vue de l'ensemble des imprimantes, réelles et virtuelles\"}"
            ]
          },
          "metadata": {},
          "execution_count": 27
        }
      ],
      "source": [
        "train_val_subset[\"train\"][\"translation\"][1]\n"
      ]
    },
    {
      "cell_type": "markdown",
      "id": "150ee1e9-7371-40b1-a526-30ec37cf0654",
      "metadata": {
        "id": "150ee1e9-7371-40b1-a526-30ec37cf0654"
      },
      "source": [
        "## <font color = 'pickle'> **Tokenization**</font>"
      ]
    },
    {
      "cell_type": "markdown",
      "id": "c7b02690-50f7-49bf-aab4-85dbbb21d182",
      "metadata": {
        "execution": {
          "iopub.execute_input": "2022-12-20T11:21:48.647438Z",
          "iopub.status.busy": "2022-12-20T11:21:48.646659Z",
          "iopub.status.idle": "2022-12-20T11:21:48.690232Z",
          "shell.execute_reply": "2022-12-20T11:21:48.689729Z",
          "shell.execute_reply.started": "2022-12-20T11:21:48.647414Z"
        },
        "id": "c7b02690-50f7-49bf-aab4-85dbbb21d182",
        "tags": []
      },
      "source": [
        "###  <font color = 'pickle'> **Load pre-trained Tokenizer** </font>"
      ]
    },
    {
      "cell_type": "code",
      "source": [
        "# !pip install sentencepiece"
      ],
      "metadata": {
        "id": "M9T73hjCn160"
      },
      "id": "M9T73hjCn160",
      "execution_count": 28,
      "outputs": []
    },
    {
      "cell_type": "code",
      "execution_count": 29,
      "id": "hzUiqZR6hI4o",
      "metadata": {
        "execution": {
          "iopub.execute_input": "2022-12-23T23:14:07.903271Z",
          "iopub.status.busy": "2022-12-23T23:14:07.902958Z",
          "iopub.status.idle": "2022-12-23T23:14:07.955695Z",
          "shell.execute_reply": "2022-12-23T23:14:07.955154Z",
          "shell.execute_reply.started": "2022-12-23T23:14:07.903251Z"
        },
        "id": "hzUiqZR6hI4o",
        "tags": [],
        "colab": {
          "base_uri": "https://localhost:8080/"
        },
        "outputId": "caafa5bb-6c75-4220-a8a9-3fb9383b48f9"
      },
      "outputs": [
        {
          "output_type": "stream",
          "name": "stderr",
          "text": [
            "/usr/local/lib/python3.10/dist-packages/transformers/models/marian/tokenization_marian.py:197: UserWarning: Recommended: pip install sacremoses.\n",
            "  warnings.warn(\"Recommended: pip install sacremoses.\")\n"
          ]
        }
      ],
      "source": [
        "checkpoint = 'Helsinki-NLP/opus-mt-en-fr'\n",
        "tokenizer = AutoTokenizer.from_pretrained(checkpoint)\n"
      ]
    },
    {
      "cell_type": "code",
      "execution_count": 30,
      "id": "d5a8845f",
      "metadata": {
        "id": "d5a8845f"
      },
      "outputs": [],
      "source": [
        "# tokenizer??"
      ]
    },
    {
      "cell_type": "markdown",
      "id": "ed2a953f",
      "metadata": {
        "id": "ed2a953f"
      },
      "source": [
        "### <font color = 'pickle'> **Understanding tokenizer**</font>"
      ]
    },
    {
      "cell_type": "code",
      "execution_count": 31,
      "id": "xlLO16Hw4RT8",
      "metadata": {
        "id": "xlLO16Hw4RT8"
      },
      "outputs": [],
      "source": [
        "text = [\n",
        "    \"Upper Window: View on Printers, both Real and Virtual\",\n",
        "    \"Fenêtre supérieure & #160;: Vue de l'ensemble des imprimantes, réelles et virtuelles\",\n",
        "]\n"
      ]
    },
    {
      "cell_type": "code",
      "execution_count": 32,
      "id": "Zo5rGIzl4U0o",
      "metadata": {
        "colab": {
          "base_uri": "https://localhost:8080/"
        },
        "id": "Zo5rGIzl4U0o",
        "outputId": "38ee14dd-c6ae-49c2-e844-9d6e577a1f0d"
      },
      "outputs": [
        {
          "output_type": "stream",
          "name": "stdout",
          "text": [
            "Pretrained tokenizer vocab size 59514\n"
          ]
        }
      ],
      "source": [
        "# get the vocab size\n",
        "print(f\"Pretrained tokenizer vocab size {tokenizer.vocab_size}\")\n"
      ]
    },
    {
      "cell_type": "code",
      "execution_count": 33,
      "id": "DzYDSjI24Xrj",
      "metadata": {
        "id": "DzYDSjI24Xrj"
      },
      "outputs": [],
      "source": [
        "encoded_text = tokenizer(\n",
        "    text, padding=True, truncation=True, return_tensors=\"pt\")\n"
      ]
    },
    {
      "cell_type": "code",
      "execution_count": 34,
      "id": "ahtRu3hf4a4D",
      "metadata": {
        "colab": {
          "base_uri": "https://localhost:8080/"
        },
        "id": "ahtRu3hf4a4D",
        "outputId": "82891be5-b0b8-46c4-d7cc-2db75753f7e1"
      },
      "outputs": [
        {
          "output_type": "execute_result",
          "data": {
            "text/plain": [
              "{'input_ids': tensor([[21364, 38007,    37,  3689,    30, 36712,     9,     2,   533,  7770,\n",
              "            10, 21821,     0, 59513, 59513, 59513, 59513, 59513, 59513, 59513,\n",
              "         59513, 59513, 59513, 59513, 59513, 59513, 59513, 59513, 59513, 59513,\n",
              "         59513, 59513],\n",
              "        [37412,   501,    62,   746, 32076,  1935,   402, 30362,  2069,    50,\n",
              "            37,   461,  3773,     5,    14,     6,  8409,   122,  4995,    13,\n",
              "          3497, 11585,  3172,     9,     2,   906,  1295,    11, 13747,   477,\n",
              "           114,     0]]), 'attention_mask': tensor([[1, 1, 1, 1, 1, 1, 1, 1, 1, 1, 1, 1, 1, 0, 0, 0, 0, 0, 0, 0, 0, 0, 0, 0,\n",
              "         0, 0, 0, 0, 0, 0, 0, 0],\n",
              "        [1, 1, 1, 1, 1, 1, 1, 1, 1, 1, 1, 1, 1, 1, 1, 1, 1, 1, 1, 1, 1, 1, 1, 1,\n",
              "         1, 1, 1, 1, 1, 1, 1, 1]])}"
            ]
          },
          "metadata": {},
          "execution_count": 34
        }
      ],
      "source": [
        "encoded_text\n"
      ]
    },
    {
      "cell_type": "code",
      "execution_count": 35,
      "id": "j5PPyJuM4ezx",
      "metadata": {
        "colab": {
          "base_uri": "https://localhost:8080/"
        },
        "id": "j5PPyJuM4ezx",
        "outputId": "72be3d7e-e532-4f2d-806d-9cf0436ec181"
      },
      "outputs": [
        {
          "output_type": "stream",
          "name": "stdout",
          "text": [
            "['▁Upper', '▁Window', ':', '▁View', '▁on', '▁Printer', 's', ',', '▁both', '▁Real', '▁and', '▁Virtual', '</s>', '<pad>', '<pad>', '<pad>', '<pad>', '<pad>', '<pad>', '<pad>', '<pad>', '<pad>', '<pad>', '<pad>', '<pad>', '<pad>', '<pad>', '<pad>', '<pad>', '<pad>', '<pad>', '<pad>']\n",
            "['▁Fen', 'être', '▁s', 'up', 'érie', 'ure', '▁&', '▁#1', '60', ';', ':', '▁V', 'ue', '▁de', '▁l', \"'\", 'ense', 'm', 'ble', '▁des', '▁imp', 'rim', 'ante', 's', ',', '▁ré', 'elles', '▁et', '▁virtue', 'll', 'es', '</s>']\n"
          ]
        }
      ],
      "source": [
        "tokens_first_sentence = tokenizer.convert_ids_to_tokens(\n",
        "    encoded_text.input_ids[0])\n",
        "tokens_second_sentence = tokenizer.convert_ids_to_tokens(\n",
        "    encoded_text.input_ids[1])\n",
        "\n",
        "print(tokens_first_sentence)\n",
        "print(tokens_second_sentence)\n"
      ]
    },
    {
      "cell_type": "code",
      "execution_count": 36,
      "id": "CKHRrsRg4idW",
      "metadata": {
        "colab": {
          "base_uri": "https://localhost:8080/",
          "height": 36
        },
        "id": "CKHRrsRg4idW",
        "outputId": "1c8c85ce-233b-4b10-a278-a945d7697cda"
      },
      "outputs": [
        {
          "output_type": "execute_result",
          "data": {
            "text/plain": [
              "'Upper Window: View on Printers, both Real and Virtual</s> <pad> <pad> <pad> <pad> <pad> <pad> <pad> <pad> <pad> <pad> <pad> <pad> <pad> <pad> <pad> <pad> <pad> <pad> <pad>'"
            ],
            "application/vnd.google.colaboratory.intrinsic+json": {
              "type": "string"
            }
          },
          "metadata": {},
          "execution_count": 36
        }
      ],
      "source": [
        "tokenizer.convert_tokens_to_string(tokens_first_sentence)\n"
      ]
    },
    {
      "cell_type": "code",
      "execution_count": 37,
      "id": "2905b25b",
      "metadata": {
        "id": "2905b25b",
        "outputId": "e0703463-bb17-4978-87bd-7b42e3da745e",
        "colab": {
          "base_uri": "https://localhost:8080/",
          "height": 36
        }
      },
      "outputs": [
        {
          "output_type": "execute_result",
          "data": {
            "text/plain": [
              "\"Fenêtre supérieure & #160;: Vue de l'ensemble des imprimantes, réelles et virtuelles</s>\""
            ],
            "application/vnd.google.colaboratory.intrinsic+json": {
              "type": "string"
            }
          },
          "metadata": {},
          "execution_count": 37
        }
      ],
      "source": [
        "tokenizer.convert_tokens_to_string(tokens_second_sentence)"
      ]
    },
    {
      "cell_type": "code",
      "execution_count": 38,
      "id": "N47N0Anu4xKZ",
      "metadata": {
        "id": "N47N0Anu4xKZ"
      },
      "outputs": [],
      "source": [
        "special_tokens = tokenizer.all_special_tokens\n",
        "special_tokens_ids = tokenizer.all_special_ids\n"
      ]
    },
    {
      "cell_type": "code",
      "execution_count": 39,
      "id": "9rdg76Sg4_dp",
      "metadata": {
        "id": "9rdg76Sg4_dp"
      },
      "outputs": [],
      "source": [
        "import pandas as pd\n"
      ]
    },
    {
      "cell_type": "code",
      "execution_count": 40,
      "id": "cTD7pzTk5CjO",
      "metadata": {
        "id": "cTD7pzTk5CjO"
      },
      "outputs": [],
      "source": [
        "df = pd.DataFrame(\n",
        "    {\"special_tokens\": special_tokens, \"special_tokens_ids\": special_tokens_ids}\n",
        ")\n"
      ]
    },
    {
      "cell_type": "code",
      "execution_count": 41,
      "id": "1135806d",
      "metadata": {
        "id": "1135806d"
      },
      "outputs": [],
      "source": [
        "pd.set_option(\"display.max_rows\", None)\n"
      ]
    },
    {
      "cell_type": "code",
      "execution_count": 42,
      "id": "95fcb2e2",
      "metadata": {
        "id": "95fcb2e2",
        "outputId": "9264e51b-0cd8-4b2e-8d59-2356f3117adc",
        "colab": {
          "base_uri": "https://localhost:8080/",
          "height": 143
        }
      },
      "outputs": [
        {
          "output_type": "execute_result",
          "data": {
            "text/plain": [
              "  special_tokens  special_tokens_ids\n",
              "0           </s>                   0\n",
              "1          <unk>                   1\n",
              "2          <pad>               59513"
            ],
            "text/html": [
              "\n",
              "  <div id=\"df-86f2db9c-9ec2-4172-a01f-7c50e1706477\" class=\"colab-df-container\">\n",
              "    <div>\n",
              "<style scoped>\n",
              "    .dataframe tbody tr th:only-of-type {\n",
              "        vertical-align: middle;\n",
              "    }\n",
              "\n",
              "    .dataframe tbody tr th {\n",
              "        vertical-align: top;\n",
              "    }\n",
              "\n",
              "    .dataframe thead th {\n",
              "        text-align: right;\n",
              "    }\n",
              "</style>\n",
              "<table border=\"1\" class=\"dataframe\">\n",
              "  <thead>\n",
              "    <tr style=\"text-align: right;\">\n",
              "      <th></th>\n",
              "      <th>special_tokens</th>\n",
              "      <th>special_tokens_ids</th>\n",
              "    </tr>\n",
              "  </thead>\n",
              "  <tbody>\n",
              "    <tr>\n",
              "      <th>0</th>\n",
              "      <td>&lt;/s&gt;</td>\n",
              "      <td>0</td>\n",
              "    </tr>\n",
              "    <tr>\n",
              "      <th>1</th>\n",
              "      <td>&lt;unk&gt;</td>\n",
              "      <td>1</td>\n",
              "    </tr>\n",
              "    <tr>\n",
              "      <th>2</th>\n",
              "      <td>&lt;pad&gt;</td>\n",
              "      <td>59513</td>\n",
              "    </tr>\n",
              "  </tbody>\n",
              "</table>\n",
              "</div>\n",
              "    <div class=\"colab-df-buttons\">\n",
              "\n",
              "  <div class=\"colab-df-container\">\n",
              "    <button class=\"colab-df-convert\" onclick=\"convertToInteractive('df-86f2db9c-9ec2-4172-a01f-7c50e1706477')\"\n",
              "            title=\"Convert this dataframe to an interactive table.\"\n",
              "            style=\"display:none;\">\n",
              "\n",
              "  <svg xmlns=\"http://www.w3.org/2000/svg\" height=\"24px\" viewBox=\"0 -960 960 960\">\n",
              "    <path d=\"M120-120v-720h720v720H120Zm60-500h600v-160H180v160Zm220 220h160v-160H400v160Zm0 220h160v-160H400v160ZM180-400h160v-160H180v160Zm440 0h160v-160H620v160ZM180-180h160v-160H180v160Zm440 0h160v-160H620v160Z\"/>\n",
              "  </svg>\n",
              "    </button>\n",
              "\n",
              "  <style>\n",
              "    .colab-df-container {\n",
              "      display:flex;\n",
              "      gap: 12px;\n",
              "    }\n",
              "\n",
              "    .colab-df-convert {\n",
              "      background-color: #E8F0FE;\n",
              "      border: none;\n",
              "      border-radius: 50%;\n",
              "      cursor: pointer;\n",
              "      display: none;\n",
              "      fill: #1967D2;\n",
              "      height: 32px;\n",
              "      padding: 0 0 0 0;\n",
              "      width: 32px;\n",
              "    }\n",
              "\n",
              "    .colab-df-convert:hover {\n",
              "      background-color: #E2EBFA;\n",
              "      box-shadow: 0px 1px 2px rgba(60, 64, 67, 0.3), 0px 1px 3px 1px rgba(60, 64, 67, 0.15);\n",
              "      fill: #174EA6;\n",
              "    }\n",
              "\n",
              "    .colab-df-buttons div {\n",
              "      margin-bottom: 4px;\n",
              "    }\n",
              "\n",
              "    [theme=dark] .colab-df-convert {\n",
              "      background-color: #3B4455;\n",
              "      fill: #D2E3FC;\n",
              "    }\n",
              "\n",
              "    [theme=dark] .colab-df-convert:hover {\n",
              "      background-color: #434B5C;\n",
              "      box-shadow: 0px 1px 3px 1px rgba(0, 0, 0, 0.15);\n",
              "      filter: drop-shadow(0px 1px 2px rgba(0, 0, 0, 0.3));\n",
              "      fill: #FFFFFF;\n",
              "    }\n",
              "  </style>\n",
              "\n",
              "    <script>\n",
              "      const buttonEl =\n",
              "        document.querySelector('#df-86f2db9c-9ec2-4172-a01f-7c50e1706477 button.colab-df-convert');\n",
              "      buttonEl.style.display =\n",
              "        google.colab.kernel.accessAllowed ? 'block' : 'none';\n",
              "\n",
              "      async function convertToInteractive(key) {\n",
              "        const element = document.querySelector('#df-86f2db9c-9ec2-4172-a01f-7c50e1706477');\n",
              "        const dataTable =\n",
              "          await google.colab.kernel.invokeFunction('convertToInteractive',\n",
              "                                                    [key], {});\n",
              "        if (!dataTable) return;\n",
              "\n",
              "        const docLinkHtml = 'Like what you see? Visit the ' +\n",
              "          '<a target=\"_blank\" href=https://colab.research.google.com/notebooks/data_table.ipynb>data table notebook</a>'\n",
              "          + ' to learn more about interactive tables.';\n",
              "        element.innerHTML = '';\n",
              "        dataTable['output_type'] = 'display_data';\n",
              "        await google.colab.output.renderOutput(dataTable, element);\n",
              "        const docLink = document.createElement('div');\n",
              "        docLink.innerHTML = docLinkHtml;\n",
              "        element.appendChild(docLink);\n",
              "      }\n",
              "    </script>\n",
              "  </div>\n",
              "\n",
              "\n",
              "<div id=\"df-404be53a-d3e8-4ed4-9fe7-552021828d9f\">\n",
              "  <button class=\"colab-df-quickchart\" onclick=\"quickchart('df-404be53a-d3e8-4ed4-9fe7-552021828d9f')\"\n",
              "            title=\"Suggest charts.\"\n",
              "            style=\"display:none;\">\n",
              "\n",
              "<svg xmlns=\"http://www.w3.org/2000/svg\" height=\"24px\"viewBox=\"0 0 24 24\"\n",
              "     width=\"24px\">\n",
              "    <g>\n",
              "        <path d=\"M19 3H5c-1.1 0-2 .9-2 2v14c0 1.1.9 2 2 2h14c1.1 0 2-.9 2-2V5c0-1.1-.9-2-2-2zM9 17H7v-7h2v7zm4 0h-2V7h2v10zm4 0h-2v-4h2v4z\"/>\n",
              "    </g>\n",
              "</svg>\n",
              "  </button>\n",
              "\n",
              "<style>\n",
              "  .colab-df-quickchart {\n",
              "      --bg-color: #E8F0FE;\n",
              "      --fill-color: #1967D2;\n",
              "      --hover-bg-color: #E2EBFA;\n",
              "      --hover-fill-color: #174EA6;\n",
              "      --disabled-fill-color: #AAA;\n",
              "      --disabled-bg-color: #DDD;\n",
              "  }\n",
              "\n",
              "  [theme=dark] .colab-df-quickchart {\n",
              "      --bg-color: #3B4455;\n",
              "      --fill-color: #D2E3FC;\n",
              "      --hover-bg-color: #434B5C;\n",
              "      --hover-fill-color: #FFFFFF;\n",
              "      --disabled-bg-color: #3B4455;\n",
              "      --disabled-fill-color: #666;\n",
              "  }\n",
              "\n",
              "  .colab-df-quickchart {\n",
              "    background-color: var(--bg-color);\n",
              "    border: none;\n",
              "    border-radius: 50%;\n",
              "    cursor: pointer;\n",
              "    display: none;\n",
              "    fill: var(--fill-color);\n",
              "    height: 32px;\n",
              "    padding: 0;\n",
              "    width: 32px;\n",
              "  }\n",
              "\n",
              "  .colab-df-quickchart:hover {\n",
              "    background-color: var(--hover-bg-color);\n",
              "    box-shadow: 0 1px 2px rgba(60, 64, 67, 0.3), 0 1px 3px 1px rgba(60, 64, 67, 0.15);\n",
              "    fill: var(--button-hover-fill-color);\n",
              "  }\n",
              "\n",
              "  .colab-df-quickchart-complete:disabled,\n",
              "  .colab-df-quickchart-complete:disabled:hover {\n",
              "    background-color: var(--disabled-bg-color);\n",
              "    fill: var(--disabled-fill-color);\n",
              "    box-shadow: none;\n",
              "  }\n",
              "\n",
              "  .colab-df-spinner {\n",
              "    border: 2px solid var(--fill-color);\n",
              "    border-color: transparent;\n",
              "    border-bottom-color: var(--fill-color);\n",
              "    animation:\n",
              "      spin 1s steps(1) infinite;\n",
              "  }\n",
              "\n",
              "  @keyframes spin {\n",
              "    0% {\n",
              "      border-color: transparent;\n",
              "      border-bottom-color: var(--fill-color);\n",
              "      border-left-color: var(--fill-color);\n",
              "    }\n",
              "    20% {\n",
              "      border-color: transparent;\n",
              "      border-left-color: var(--fill-color);\n",
              "      border-top-color: var(--fill-color);\n",
              "    }\n",
              "    30% {\n",
              "      border-color: transparent;\n",
              "      border-left-color: var(--fill-color);\n",
              "      border-top-color: var(--fill-color);\n",
              "      border-right-color: var(--fill-color);\n",
              "    }\n",
              "    40% {\n",
              "      border-color: transparent;\n",
              "      border-right-color: var(--fill-color);\n",
              "      border-top-color: var(--fill-color);\n",
              "    }\n",
              "    60% {\n",
              "      border-color: transparent;\n",
              "      border-right-color: var(--fill-color);\n",
              "    }\n",
              "    80% {\n",
              "      border-color: transparent;\n",
              "      border-right-color: var(--fill-color);\n",
              "      border-bottom-color: var(--fill-color);\n",
              "    }\n",
              "    90% {\n",
              "      border-color: transparent;\n",
              "      border-bottom-color: var(--fill-color);\n",
              "    }\n",
              "  }\n",
              "</style>\n",
              "\n",
              "  <script>\n",
              "    async function quickchart(key) {\n",
              "      const quickchartButtonEl =\n",
              "        document.querySelector('#' + key + ' button');\n",
              "      quickchartButtonEl.disabled = true;  // To prevent multiple clicks.\n",
              "      quickchartButtonEl.classList.add('colab-df-spinner');\n",
              "      try {\n",
              "        const charts = await google.colab.kernel.invokeFunction(\n",
              "            'suggestCharts', [key], {});\n",
              "      } catch (error) {\n",
              "        console.error('Error during call to suggestCharts:', error);\n",
              "      }\n",
              "      quickchartButtonEl.classList.remove('colab-df-spinner');\n",
              "      quickchartButtonEl.classList.add('colab-df-quickchart-complete');\n",
              "    }\n",
              "    (() => {\n",
              "      let quickchartButtonEl =\n",
              "        document.querySelector('#df-404be53a-d3e8-4ed4-9fe7-552021828d9f button');\n",
              "      quickchartButtonEl.style.display =\n",
              "        google.colab.kernel.accessAllowed ? 'block' : 'none';\n",
              "    })();\n",
              "  </script>\n",
              "</div>\n",
              "    </div>\n",
              "  </div>\n"
            ]
          },
          "metadata": {},
          "execution_count": 42
        }
      ],
      "source": [
        "df\n"
      ]
    },
    {
      "cell_type": "markdown",
      "id": "2b4ce3b9-904f-42bd-9c3f-163328f47051",
      "metadata": {
        "execution": {
          "iopub.execute_input": "2022-12-20T11:22:33.679936Z",
          "iopub.status.busy": "2022-12-20T11:22:33.679764Z",
          "iopub.status.idle": "2022-12-20T11:22:33.723366Z",
          "shell.execute_reply": "2022-12-20T11:22:33.722847Z",
          "shell.execute_reply.started": "2022-12-20T11:22:33.679918Z"
        },
        "id": "2b4ce3b9-904f-42bd-9c3f-163328f47051"
      },
      "source": [
        "###  <font color = 'pickle'> **Create function for Tokenizer**"
      ]
    },
    {
      "cell_type": "code",
      "execution_count": 43,
      "id": "8bAD2dsXhvAA",
      "metadata": {
        "execution": {
          "iopub.execute_input": "2022-12-23T23:14:12.134855Z",
          "iopub.status.busy": "2022-12-23T23:14:12.134613Z",
          "iopub.status.idle": "2022-12-23T23:14:12.186484Z",
          "shell.execute_reply": "2022-12-23T23:14:12.185866Z",
          "shell.execute_reply.started": "2022-12-23T23:14:12.134828Z"
        },
        "id": "8bAD2dsXhvAA",
        "tags": []
      },
      "outputs": [],
      "source": [
        "# we do not need to add padding\n",
        "# padding and conversion to Pytorch Tensor is handled by the data collators\n",
        "# in more efficient manner\n",
        "\n",
        "max_length = 128\n",
        "def tokenize_fn(batch):\n",
        "\n",
        "    inputs = [example['en'] for example in batch['translation']]\n",
        "    targets = [example['fr'] for example in batch['translation']]\n",
        "    model_inputs = tokenizer(text = inputs, text_target=targets, truncation = True, max_length=max_length)\n",
        "\n",
        "    return model_inputs"
      ]
    },
    {
      "cell_type": "markdown",
      "id": "1f09c889-c3fd-4b12-a544-0772594a3899",
      "metadata": {
        "id": "1f09c889-c3fd-4b12-a544-0772594a3899"
      },
      "source": [
        "###  <font color = 'pickle'> **Use map function to apply tokenization to all splits**"
      ]
    },
    {
      "cell_type": "code",
      "execution_count": 44,
      "id": "cc8399c4",
      "metadata": {
        "id": "cc8399c4",
        "colab": {
          "base_uri": "https://localhost:8080/",
          "height": 81,
          "referenced_widgets": [
            "2a41f02c7b5b4a07a55eddb7a7d65bc6",
            "8f726136a7e548c1b0e9bf2f670c0930",
            "7b7da1ea3b934add83c7193a77f37559",
            "af912781fc634b7c87511287a310f405",
            "02ead66066104081a65b497889eb0a30",
            "32ed924496b54f45974213c62af93edc",
            "e71a0d6d428540d8b9e1a78e5d8d9dd8",
            "2667fa82cb084215b6c49677e5cc19fd",
            "736fad2af7644b9d85de03ffb4ea433a",
            "4c2c2fcb5d40492189768ef6b027eacf",
            "fe1d7c2541b54f4585d50797255aa18d",
            "fe4c0dc1a22c44a6b1dab4f2128206a9",
            "387e4469d7b947408d6f68fa18e9578f",
            "4a7d2e19611d4404a1d8e983eb512050",
            "8b972a9409164118b5051bddb133b71d",
            "905e8c5be6c2450eaa8dc3dff411f742",
            "f6def251fc61459a9417207d94c5420f",
            "23da8e028e704ef995cb36eb5cc0c7e1",
            "05453e28b94644d08324b0b1d671b370",
            "2251342f379e4eecbd6bd31bfe47cb28",
            "6882d2dfc4944294aab31a52619534d4",
            "c2a1da25b26046bc8bb38bfde8027489"
          ]
        },
        "outputId": "c8e38081-e174-412b-d873-da99320a8e7e"
      },
      "outputs": [
        {
          "output_type": "display_data",
          "data": {
            "text/plain": [
              "Map:   0%|          | 0/1000 [00:00<?, ? examples/s]"
            ],
            "application/vnd.jupyter.widget-view+json": {
              "version_major": 2,
              "version_minor": 0,
              "model_id": "2a41f02c7b5b4a07a55eddb7a7d65bc6"
            }
          },
          "metadata": {}
        },
        {
          "output_type": "display_data",
          "data": {
            "text/plain": [
              "Map:   0%|          | 0/500 [00:00<?, ? examples/s]"
            ],
            "application/vnd.jupyter.widget-view+json": {
              "version_major": 2,
              "version_minor": 0,
              "model_id": "fe4c0dc1a22c44a6b1dab4f2128206a9"
            }
          },
          "metadata": {}
        }
      ],
      "source": [
        "tokenized_dataset = train_val_subset.map(tokenize_fn,\n",
        "                              batched = True,\n",
        "                              remove_columns=train_val_subset['train'].column_names)"
      ]
    },
    {
      "cell_type": "code",
      "execution_count": 45,
      "id": "ET6ioH_-iCW2",
      "metadata": {
        "execution": {
          "iopub.execute_input": "2022-12-23T23:14:13.918317Z",
          "iopub.status.busy": "2022-12-23T23:14:13.917908Z",
          "iopub.status.idle": "2022-12-23T23:14:15.785940Z",
          "shell.execute_reply": "2022-12-23T23:14:15.785447Z",
          "shell.execute_reply.started": "2022-12-23T23:14:13.918288Z"
        },
        "id": "ET6ioH_-iCW2",
        "tags": []
      },
      "outputs": [],
      "source": [
        "tokenized_dataset.set_format(type=\"torch\")\n"
      ]
    },
    {
      "cell_type": "code",
      "execution_count": 46,
      "id": "a77b25cc",
      "metadata": {
        "colab": {
          "base_uri": "https://localhost:8080/"
        },
        "id": "a77b25cc",
        "outputId": "313bc8ee-d0b7-4552-c1a6-316274a6d9d9"
      },
      "outputs": [
        {
          "output_type": "execute_result",
          "data": {
            "text/plain": [
              "DatasetDict({\n",
              "    train: Dataset({\n",
              "        features: ['input_ids', 'attention_mask', 'labels'],\n",
              "        num_rows: 1000\n",
              "    })\n",
              "    val: Dataset({\n",
              "        features: ['input_ids', 'attention_mask', 'labels'],\n",
              "        num_rows: 500\n",
              "    })\n",
              "})"
            ]
          },
          "metadata": {},
          "execution_count": 46
        }
      ],
      "source": [
        "tokenized_dataset\n"
      ]
    },
    {
      "cell_type": "code",
      "execution_count": 47,
      "id": "-_TRU1OOO5PC",
      "metadata": {
        "colab": {
          "base_uri": "https://localhost:8080/"
        },
        "id": "-_TRU1OOO5PC",
        "outputId": "5fb66fc4-b1da-4864-8cdb-c176618d8b54"
      },
      "outputs": [
        {
          "output_type": "execute_result",
          "data": {
            "text/plain": [
              "{'input_ids': Sequence(feature=Value(dtype='int32', id=None), length=-1, id=None),\n",
              " 'attention_mask': Sequence(feature=Value(dtype='int8', id=None), length=-1, id=None),\n",
              " 'labels': Sequence(feature=Value(dtype='int64', id=None), length=-1, id=None)}"
            ]
          },
          "metadata": {},
          "execution_count": 47
        }
      ],
      "source": [
        "tokenized_dataset[\"train\"].features\n"
      ]
    },
    {
      "cell_type": "code",
      "execution_count": 48,
      "id": "TH3iX2Q0w9wG",
      "metadata": {
        "colab": {
          "base_uri": "https://localhost:8080/"
        },
        "id": "TH3iX2Q0w9wG",
        "outputId": "8f9b905a-2b93-45d1-969d-75d608121f94"
      },
      "outputs": [
        {
          "output_type": "stream",
          "name": "stdout",
          "text": [
            "2\n",
            "13\n"
          ]
        }
      ],
      "source": [
        "print(len(tokenized_dataset[\"train\"][\"input_ids\"][2]))\n",
        "print(len(tokenized_dataset[\"train\"][\"input_ids\"][1]))\n"
      ]
    },
    {
      "cell_type": "code",
      "execution_count": 49,
      "id": "c126671b",
      "metadata": {
        "colab": {
          "base_uri": "https://localhost:8080/"
        },
        "id": "c126671b",
        "outputId": "e99df6ad-05c0-473b-8ec1-2bce133bac88"
      },
      "outputs": [
        {
          "output_type": "stream",
          "name": "stdout",
          "text": [
            "['▁I', 'dent', 'ifier', ':', '</s>']\n"
          ]
        }
      ],
      "source": [
        "print(\n",
        "    tokenizer.convert_ids_to_tokens(\n",
        "        tokenized_dataset[\"train\"][\"input_ids\"][0][0:10]\n",
        "    )\n",
        ")\n"
      ]
    },
    {
      "cell_type": "code",
      "execution_count": 50,
      "id": "06350b7c",
      "metadata": {
        "colab": {
          "base_uri": "https://localhost:8080/"
        },
        "id": "06350b7c",
        "outputId": "dd1ac37a-c89e-4321-dc07-a117e031478d"
      },
      "outputs": [
        {
          "output_type": "stream",
          "name": "stdout",
          "text": [
            "['▁Identifiant', '▁&', '▁#160;:', '</s>']\n"
          ]
        }
      ],
      "source": [
        "print(\n",
        "    tokenizer.convert_ids_to_tokens(\n",
        "        tokenized_dataset[\"train\"][\"labels\"][0][0:10])\n",
        ")\n"
      ]
    },
    {
      "cell_type": "markdown",
      "id": "O7-5sm2uBTN_",
      "metadata": {
        "id": "O7-5sm2uBTN_"
      },
      "source": [
        "#  <font color = 'pickle'> **Model Training**"
      ]
    },
    {
      "cell_type": "markdown",
      "id": "e15e2ca6-cfbf-46c0-bf81-ec65a9258567",
      "metadata": {
        "execution": {
          "iopub.execute_input": "2022-12-05T21:57:04.735277Z",
          "iopub.status.busy": "2022-12-05T21:57:04.735041Z",
          "iopub.status.idle": "2022-12-05T21:57:04.738230Z",
          "shell.execute_reply": "2022-12-05T21:57:04.737909Z",
          "shell.execute_reply.started": "2022-12-05T21:57:04.735252Z"
        },
        "id": "e15e2ca6-cfbf-46c0-bf81-ec65a9258567"
      },
      "source": [
        "##  <font color = 'pickle'> **Model Config File**</font>\n",
        "\n"
      ]
    },
    {
      "cell_type": "code",
      "execution_count": 51,
      "id": "02d5e0eb-ac4c-4593-946c-3e33a4e2a82e",
      "metadata": {
        "execution": {
          "iopub.execute_input": "2022-12-23T23:14:20.554756Z",
          "iopub.status.busy": "2022-12-23T23:14:20.554518Z",
          "iopub.status.idle": "2022-12-23T23:14:20.770843Z",
          "shell.execute_reply": "2022-12-23T23:14:20.770018Z",
          "shell.execute_reply.started": "2022-12-23T23:14:20.554730Z"
        },
        "id": "02d5e0eb-ac4c-4593-946c-3e33a4e2a82e",
        "tags": []
      },
      "outputs": [],
      "source": [
        "config = AutoConfig.from_pretrained(checkpoint)"
      ]
    },
    {
      "cell_type": "code",
      "execution_count": 52,
      "id": "f2c1efa2",
      "metadata": {
        "colab": {
          "base_uri": "https://localhost:8080/"
        },
        "id": "f2c1efa2",
        "outputId": "6a04652f-d6cb-40a5-e3c3-23cfb0e161f0"
      },
      "outputs": [
        {
          "output_type": "execute_result",
          "data": {
            "text/plain": [
              "MarianConfig {\n",
              "  \"_name_or_path\": \"Helsinki-NLP/opus-mt-en-fr\",\n",
              "  \"_num_labels\": 3,\n",
              "  \"activation_dropout\": 0.0,\n",
              "  \"activation_function\": \"swish\",\n",
              "  \"add_bias_logits\": false,\n",
              "  \"add_final_layer_norm\": false,\n",
              "  \"architectures\": [\n",
              "    \"MarianMTModel\"\n",
              "  ],\n",
              "  \"attention_dropout\": 0.0,\n",
              "  \"bad_words_ids\": [\n",
              "    [\n",
              "      59513\n",
              "    ]\n",
              "  ],\n",
              "  \"bos_token_id\": 0,\n",
              "  \"classif_dropout\": 0.0,\n",
              "  \"classifier_dropout\": 0.0,\n",
              "  \"d_model\": 512,\n",
              "  \"decoder_attention_heads\": 8,\n",
              "  \"decoder_ffn_dim\": 2048,\n",
              "  \"decoder_layerdrop\": 0.0,\n",
              "  \"decoder_layers\": 6,\n",
              "  \"decoder_start_token_id\": 59513,\n",
              "  \"decoder_vocab_size\": 59514,\n",
              "  \"dropout\": 0.1,\n",
              "  \"encoder_attention_heads\": 8,\n",
              "  \"encoder_ffn_dim\": 2048,\n",
              "  \"encoder_layerdrop\": 0.0,\n",
              "  \"encoder_layers\": 6,\n",
              "  \"eos_token_id\": 0,\n",
              "  \"forced_eos_token_id\": 0,\n",
              "  \"gradient_checkpointing\": false,\n",
              "  \"id2label\": {\n",
              "    \"0\": \"LABEL_0\",\n",
              "    \"1\": \"LABEL_1\",\n",
              "    \"2\": \"LABEL_2\"\n",
              "  },\n",
              "  \"init_std\": 0.02,\n",
              "  \"is_encoder_decoder\": true,\n",
              "  \"label2id\": {\n",
              "    \"LABEL_0\": 0,\n",
              "    \"LABEL_1\": 1,\n",
              "    \"LABEL_2\": 2\n",
              "  },\n",
              "  \"max_length\": 512,\n",
              "  \"max_position_embeddings\": 512,\n",
              "  \"model_type\": \"marian\",\n",
              "  \"normalize_before\": false,\n",
              "  \"normalize_embedding\": false,\n",
              "  \"num_beams\": 4,\n",
              "  \"num_hidden_layers\": 6,\n",
              "  \"pad_token_id\": 59513,\n",
              "  \"scale_embedding\": true,\n",
              "  \"share_encoder_decoder_embeddings\": true,\n",
              "  \"static_position_embeddings\": true,\n",
              "  \"transformers_version\": \"4.34.1\",\n",
              "  \"use_cache\": true,\n",
              "  \"vocab_size\": 59514\n",
              "}"
            ]
          },
          "metadata": {},
          "execution_count": 52
        }
      ],
      "source": [
        "config"
      ]
    },
    {
      "cell_type": "code",
      "execution_count": 53,
      "id": "848a0a21",
      "metadata": {
        "id": "848a0a21"
      },
      "outputs": [],
      "source": [
        "from transformers import GenerationConfig\n",
        "\n",
        "# generation_config = GenerationConfig.from_model_config(config)\n",
        "generation_config = GenerationConfig.from_pretrained(checkpoint)\n"
      ]
    },
    {
      "cell_type": "code",
      "execution_count": 54,
      "id": "fb431758",
      "metadata": {
        "colab": {
          "base_uri": "https://localhost:8080/"
        },
        "id": "fb431758",
        "outputId": "f8860ad4-53ca-4c8c-e777-39a2541e05da"
      },
      "outputs": [
        {
          "output_type": "execute_result",
          "data": {
            "text/plain": [
              "GenerationConfig {\n",
              "  \"bad_words_ids\": [\n",
              "    [\n",
              "      59513\n",
              "    ]\n",
              "  ],\n",
              "  \"bos_token_id\": 0,\n",
              "  \"decoder_start_token_id\": 59513,\n",
              "  \"eos_token_id\": 0,\n",
              "  \"forced_eos_token_id\": 0,\n",
              "  \"max_length\": 512,\n",
              "  \"num_beams\": 4,\n",
              "  \"pad_token_id\": 59513,\n",
              "  \"renormalize_logits\": true\n",
              "}"
            ]
          },
          "metadata": {},
          "execution_count": 54
        }
      ],
      "source": [
        "generation_config\n"
      ]
    },
    {
      "cell_type": "markdown",
      "id": "cc2a39fc-6d87-43ca-8a6e-7129bd8214f1",
      "metadata": {
        "id": "cc2a39fc-6d87-43ca-8a6e-7129bd8214f1"
      },
      "source": [
        "##  <font color = 'pickle'> **Download pre-trained model**"
      ]
    },
    {
      "cell_type": "code",
      "execution_count": 55,
      "id": "58babf85",
      "metadata": {
        "id": "58babf85"
      },
      "outputs": [],
      "source": [
        "model = AutoModelForSeq2SeqLM.from_pretrained(\n",
        "    checkpoint,\n",
        "    config=config,\n",
        ")\n"
      ]
    },
    {
      "cell_type": "markdown",
      "id": "c3b5c122",
      "metadata": {
        "id": "c3b5c122"
      },
      "source": [
        "## <font color = 'pickle'> **Model Input/Collate Function** </font>"
      ]
    },
    {
      "cell_type": "code",
      "execution_count": 56,
      "id": "60aacc2b",
      "metadata": {
        "id": "60aacc2b"
      },
      "outputs": [],
      "source": [
        "data_collator = DataCollatorForSeq2Seq(\n",
        "    tokenizer=tokenizer,\n",
        "    model=model,\n",
        ")\n"
      ]
    },
    {
      "cell_type": "code",
      "execution_count": 57,
      "id": "dd292130",
      "metadata": {
        "id": "dd292130",
        "outputId": "d1eddfad-2cd2-4c5b-82ad-2c82db5db8d4",
        "colab": {
          "base_uri": "https://localhost:8080/"
        }
      },
      "outputs": [
        {
          "output_type": "execute_result",
          "data": {
            "text/plain": [
              "{'id': '34366',\n",
              " 'translation': {'en': 'Basic Command Set',\n",
              "  'fr': 'Ensemble de commandes basiques'}}"
            ]
          },
          "metadata": {},
          "execution_count": 57
        }
      ],
      "source": [
        "train_val_subset['train'][100]\n"
      ]
    },
    {
      "cell_type": "code",
      "execution_count": 58,
      "id": "9b8670b1",
      "metadata": {
        "colab": {
          "base_uri": "https://localhost:8080/"
        },
        "id": "9b8670b1",
        "outputId": "f3d24cba-ad81-42d7-e482-f35e578117ac"
      },
      "outputs": [
        {
          "output_type": "execute_result",
          "data": {
            "text/plain": [
              "[{'input_ids': tensor([  47, 9314, 8245,   37,    0]),\n",
              "  'attention_mask': tensor([1, 1, 1, 1, 1]),\n",
              "  'labels': tensor([41612,   402, 38492,     0])},\n",
              " {'input_ids': tensor([21364, 38007,    37,  3689,    30, 36712,     9,     2,   533,  7770,\n",
              "             10, 21821,     0]),\n",
              "  'attention_mask': tensor([1, 1, 1, 1, 1, 1, 1, 1, 1, 1, 1, 1, 1]),\n",
              "  'labels': tensor([  304,   162,   501,  4517,   402, 38492, 14781,     5,    14,     6,\n",
              "           1420,    13, 29719,     9,     2, 12782,    11, 18769,     9,     0])},\n",
              " {'input_ids': tensor([41704,     0]),\n",
              "  'attention_mask': tensor([1, 1]),\n",
              "  'labels': tensor([12323,     0])}]"
            ]
          },
          "metadata": {},
          "execution_count": 58
        }
      ],
      "source": [
        "features = [tokenized_dataset[\"train\"][i] for i in range(3)]\n",
        "features\n"
      ]
    },
    {
      "cell_type": "code",
      "execution_count": 59,
      "id": "4d9f01a6",
      "metadata": {
        "id": "4d9f01a6",
        "outputId": "80118cb4-7d35-4cce-c84a-905ab3b9da54",
        "colab": {
          "base_uri": "https://localhost:8080/"
        }
      },
      "outputs": [
        {
          "output_type": "execute_result",
          "data": {
            "text/plain": [
              "dict_keys(['input_ids', 'attention_mask', 'labels', 'decoder_input_ids'])"
            ]
          },
          "metadata": {},
          "execution_count": 59
        }
      ],
      "source": [
        "model_input = data_collator(features)\n",
        "model_input.keys()"
      ]
    },
    {
      "cell_type": "markdown",
      "id": "448994da",
      "metadata": {
        "id": "448994da"
      },
      "source": [
        "<font color='indianred'>• Notice that data_collator has added the <strong>decoder_input_ids</strong></font>\n"
      ]
    },
    {
      "cell_type": "code",
      "execution_count": 60,
      "id": "4012e871",
      "metadata": {
        "colab": {
          "base_uri": "https://localhost:8080/"
        },
        "id": "4012e871",
        "outputId": "b50cb8cc-3da6-43a1-f2c5-38cffd88bd42"
      },
      "outputs": [
        {
          "output_type": "stream",
          "name": "stdout",
          "text": [
            "{'input_ids': tensor([[   47,  9314,  8245,    37,     0, 59513, 59513, 59513, 59513, 59513,\n",
            "         59513, 59513, 59513],\n",
            "        [21364, 38007,    37,  3689,    30, 36712,     9,     2,   533,  7770,\n",
            "            10, 21821,     0],\n",
            "        [41704,     0, 59513, 59513, 59513, 59513, 59513, 59513, 59513, 59513,\n",
            "         59513, 59513, 59513]]), 'attention_mask': tensor([[1, 1, 1, 1, 1, 0, 0, 0, 0, 0, 0, 0, 0],\n",
            "        [1, 1, 1, 1, 1, 1, 1, 1, 1, 1, 1, 1, 1],\n",
            "        [1, 1, 0, 0, 0, 0, 0, 0, 0, 0, 0, 0, 0]]), 'labels': tensor([[41612,   402, 38492,     0,  -100,  -100,  -100,  -100,  -100,  -100,\n",
            "          -100,  -100,  -100,  -100,  -100,  -100,  -100,  -100,  -100,  -100],\n",
            "        [  304,   162,   501,  4517,   402, 38492, 14781,     5,    14,     6,\n",
            "          1420,    13, 29719,     9,     2, 12782,    11, 18769,     9,     0],\n",
            "        [12323,     0,  -100,  -100,  -100,  -100,  -100,  -100,  -100,  -100,\n",
            "          -100,  -100,  -100,  -100,  -100,  -100,  -100,  -100,  -100,  -100]]), 'decoder_input_ids': tensor([[59513, 41612,   402, 38492,     0, 59513, 59513, 59513, 59513, 59513,\n",
            "         59513, 59513, 59513, 59513, 59513, 59513, 59513, 59513, 59513, 59513],\n",
            "        [59513,   304,   162,   501,  4517,   402, 38492, 14781,     5,    14,\n",
            "             6,  1420,    13, 29719,     9,     2, 12782,    11, 18769,     9],\n",
            "        [59513, 12323,     0, 59513, 59513, 59513, 59513, 59513, 59513, 59513,\n",
            "         59513, 59513, 59513, 59513, 59513, 59513, 59513, 59513, 59513, 59513]])}\n"
          ]
        }
      ],
      "source": [
        "print(model_input)\n"
      ]
    },
    {
      "cell_type": "markdown",
      "id": "2da67b27",
      "metadata": {
        "id": "2da67b27",
        "outputId": "3eb487cc-3615-4bcf-a037-02c8dcbb64d7"
      },
      "source": [
        "<font color='indianred'>• **Note that 59513 is both the start token and pad token for the decoder input ids**</font>\n",
        "\n",
        "<font color='indianred'>•  **Also note that decoder input ids are shifted version of the labels**\n"
      ]
    },
    {
      "cell_type": "code",
      "execution_count": 61,
      "id": "14b579f8",
      "metadata": {
        "colab": {
          "base_uri": "https://localhost:8080/"
        },
        "id": "14b579f8",
        "outputId": "f5cc98f6-641b-4a8f-943f-7a42647d3a4f"
      },
      "outputs": [
        {
          "output_type": "stream",
          "name": "stdout",
          "text": [
            "tensor([59513, 41612,   402, 38492,     0, 59513, 59513, 59513, 59513, 59513])\n",
            "tensor([41612,   402, 38492,     0,  -100,  -100,  -100,  -100,  -100,  -100])\n"
          ]
        }
      ],
      "source": [
        "print(model_input.decoder_input_ids[0][0:10])\n",
        "print(model_input.labels[0][0:10])"
      ]
    },
    {
      "cell_type": "code",
      "execution_count": 62,
      "id": "d4e58db3",
      "metadata": {
        "id": "d4e58db3",
        "outputId": "ca08c23d-daf0-44da-974a-53427ca1525f",
        "colab": {
          "base_uri": "https://localhost:8080/"
        }
      },
      "outputs": [
        {
          "output_type": "stream",
          "name": "stdout",
          "text": [
            "tensor([59513, 41612,   402, 38492,     0, 59513, 59513, 59513, 59513, 59513,\n",
            "        59513, 59513, 59513, 59513, 59513, 59513, 59513, 59513, 59513, 59513])\n",
            "tensor([41612,   402, 38492,     0,  -100,  -100,  -100,  -100,  -100,  -100,\n",
            "         -100,  -100,  -100,  -100,  -100,  -100,  -100,  -100,  -100,  -100])\n"
          ]
        }
      ],
      "source": [
        "print(model_input.decoder_input_ids[0][-20:])\n",
        "print(model_input.labels[0][-20:])\n"
      ]
    },
    {
      "cell_type": "code",
      "execution_count": 63,
      "id": "0012a6f8",
      "metadata": {
        "id": "0012a6f8",
        "outputId": "2cc4cbda-d453-4161-eaff-59f7b9a57988",
        "colab": {
          "base_uri": "https://localhost:8080/"
        }
      },
      "outputs": [
        {
          "output_type": "stream",
          "name": "stdout",
          "text": [
            "tensor([59513,   304,   162,   501,  4517,   402, 38492, 14781,     5,    14])\n",
            "tensor([  304,   162,   501,  4517,   402, 38492, 14781,     5,    14,     6])\n"
          ]
        }
      ],
      "source": [
        "print(model_input.decoder_input_ids[1][0:10])\n",
        "print(model_input.labels[1][0:10])\n"
      ]
    },
    {
      "cell_type": "code",
      "execution_count": 64,
      "id": "c06ded32",
      "metadata": {
        "id": "c06ded32",
        "outputId": "8fb2689f-f812-495a-ec08-ab5235a7b92a",
        "colab": {
          "base_uri": "https://localhost:8080/"
        }
      },
      "outputs": [
        {
          "output_type": "stream",
          "name": "stdout",
          "text": [
            "tensor([59513,   304,   162,   501,  4517,   402, 38492, 14781,     5,    14,\n",
            "            6,  1420,    13, 29719,     9,     2, 12782,    11, 18769,     9])\n",
            "tensor([  304,   162,   501,  4517,   402, 38492, 14781,     5,    14,     6,\n",
            "         1420,    13, 29719,     9,     2, 12782,    11, 18769,     9,     0])\n"
          ]
        }
      ],
      "source": [
        "print(model_input.decoder_input_ids[1][-20:])\n",
        "print(model_input.labels[1][-20:])\n"
      ]
    },
    {
      "cell_type": "code",
      "execution_count": 65,
      "id": "7933bb1e",
      "metadata": {
        "colab": {
          "base_uri": "https://localhost:8080/"
        },
        "id": "7933bb1e",
        "outputId": "63b3c051-88dd-4e38-bc30-481d107f5864"
      },
      "outputs": [
        {
          "output_type": "stream",
          "name": "stdout",
          "text": [
            "['<pad>', '▁Identifiant', '▁&', '▁#160;:', '</s>', '<pad>', '<pad>', '<pad>', '<pad>', '<pad>']\n",
            "['▁Identifiant', '▁&', '▁#160;:', '</s>', '<unk>', '<unk>', '<unk>', '<unk>', '<unk>', '<unk>']\n"
          ]
        }
      ],
      "source": [
        "print(tokenizer.convert_ids_to_tokens(model_input.decoder_input_ids[0][0:10]))\n",
        "print(tokenizer.convert_ids_to_tokens(model_input.labels[0][0:10]))\n"
      ]
    },
    {
      "cell_type": "code",
      "execution_count": 66,
      "id": "4024e4ab",
      "metadata": {
        "colab": {
          "base_uri": "https://localhost:8080/"
        },
        "id": "4024e4ab",
        "outputId": "4a1f56fb-cced-480d-b97f-b0bc1012d7d3"
      },
      "outputs": [
        {
          "output_type": "stream",
          "name": "stdout",
          "text": [
            "['<pad>', '▁Identifiant', '▁&', '▁#160;:', '</s>', '<pad>', '<pad>', '<pad>', '<pad>', '<pad>', '<pad>', '<pad>', '<pad>', '<pad>', '<pad>', '<pad>', '<pad>', '<pad>', '<pad>', '<pad>']\n",
            "['▁Identifiant', '▁&', '▁#160;:', '</s>', '<unk>', '<unk>', '<unk>', '<unk>', '<unk>', '<unk>', '<unk>', '<unk>', '<unk>', '<unk>', '<unk>', '<unk>', '<unk>', '<unk>', '<unk>', '<unk>']\n"
          ]
        }
      ],
      "source": [
        "print(tokenizer.convert_ids_to_tokens(model_input.decoder_input_ids[0][-20:]))\n",
        "try:\n",
        "    print(tokenizer.convert_ids_to_tokens(model_input.labels[0][-20:]))\n",
        "except:\n",
        "    print(f\"No tokens corresponding to ids\")\n"
      ]
    },
    {
      "cell_type": "markdown",
      "id": "38f6c65d",
      "metadata": {
        "id": "38f6c65d"
      },
      "source": [
        "##  <font color = 'pickle'> **Understanding Model Output**\n"
      ]
    },
    {
      "cell_type": "code",
      "execution_count": 67,
      "id": "093f08ea",
      "metadata": {
        "id": "093f08ea"
      },
      "outputs": [],
      "source": [
        "# model output\n",
        "model_output = model(**model_input)\n"
      ]
    },
    {
      "cell_type": "code",
      "execution_count": 68,
      "id": "7e79f8e8",
      "metadata": {
        "colab": {
          "base_uri": "https://localhost:8080/"
        },
        "id": "7e79f8e8",
        "outputId": "81a29d62-e462-4547-ba54-42be3e0438c2"
      },
      "outputs": [
        {
          "output_type": "execute_result",
          "data": {
            "text/plain": [
              "odict_keys(['loss', 'logits', 'encoder_last_hidden_state'])"
            ]
          },
          "metadata": {},
          "execution_count": 68
        }
      ],
      "source": [
        "# keys in model output\n",
        "model_output.keys()\n"
      ]
    },
    {
      "cell_type": "code",
      "execution_count": 69,
      "id": "e3cf6a68",
      "metadata": {
        "colab": {
          "base_uri": "https://localhost:8080/"
        },
        "id": "e3cf6a68",
        "outputId": "8d5911de-a8d6-4494-a017-3b4ae8bbd241"
      },
      "outputs": [
        {
          "output_type": "execute_result",
          "data": {
            "text/plain": [
              "torch.Size([3, 20, 59514])"
            ]
          },
          "metadata": {},
          "execution_count": 69
        }
      ],
      "source": [
        "# let us look at logits\n",
        "model_output.logits.shape"
      ]
    },
    {
      "cell_type": "code",
      "execution_count": 70,
      "id": "c3793c33",
      "metadata": {
        "id": "c3793c33"
      },
      "outputs": [],
      "source": [
        "logits = model_output.logits.detach().cpu().numpy()"
      ]
    },
    {
      "cell_type": "code",
      "execution_count": 71,
      "id": "81a8329d",
      "metadata": {
        "id": "81a8329d"
      },
      "outputs": [],
      "source": [
        "# Greedy decoding\n",
        "preds = np.argmax(logits, axis = -1)"
      ]
    },
    {
      "cell_type": "code",
      "execution_count": 72,
      "id": "6d158bba",
      "metadata": {
        "id": "6d158bba",
        "outputId": "9e27fd87-867d-4561-c377-2bc6308678e7",
        "colab": {
          "base_uri": "https://localhost:8080/"
        }
      },
      "outputs": [
        {
          "output_type": "execute_result",
          "data": {
            "text/plain": [
              "(3, 20)"
            ]
          },
          "metadata": {},
          "execution_count": 72
        }
      ],
      "source": [
        "preds.shape"
      ]
    },
    {
      "cell_type": "code",
      "execution_count": 73,
      "id": "a95642f7",
      "metadata": {
        "id": "a95642f7",
        "outputId": "f2ecbcc1-b848-495d-b228-285cc488f463",
        "colab": {
          "base_uri": "https://localhost:8080/"
        }
      },
      "outputs": [
        {
          "output_type": "execute_result",
          "data": {
            "text/plain": [
              "array([[16235,    37, 38492,     0,     0,     0,     0,     0,     0,\n",
              "           47,    47,    47,    47,    47,    47,    47,    47,    47,\n",
              "           47,    47],\n",
              "       [  304,   162,   501,  4517,    78, 38492,   498,    36,    14,\n",
              "            6, 41599,    13, 29719,     9,     2, 12782,    11, 18769,\n",
              "            9,     0],\n",
              "       [12323,     0,     0,     0,     0,     0, 12323, 12323, 12323,\n",
              "        12323, 12323, 12323, 12323, 12323, 12323, 12323, 12323, 12323,\n",
              "        12323, 12323]])"
            ]
          },
          "metadata": {},
          "execution_count": 73
        }
      ],
      "source": [
        "preds"
      ]
    },
    {
      "cell_type": "code",
      "execution_count": 74,
      "id": "ed922a93",
      "metadata": {
        "colab": {
          "base_uri": "https://localhost:8080/",
          "height": 36
        },
        "id": "ed922a93",
        "outputId": "340c553b-43c3-461c-8f58-ee9729219c3c"
      },
      "outputs": [
        {
          "output_type": "execute_result",
          "data": {
            "text/plain": [
              "'Identification: #160;:</s> </s> </s> </s> </s> </s> I I I I I I I I I I I'"
            ],
            "application/vnd.google.colaboratory.intrinsic+json": {
              "type": "string"
            }
          },
          "metadata": {},
          "execution_count": 74
        }
      ],
      "source": [
        "tokenizer.convert_tokens_to_string(tokenizer.convert_ids_to_tokens(preds[0]))"
      ]
    },
    {
      "cell_type": "code",
      "execution_count": 75,
      "id": "f5cbece9",
      "metadata": {
        "id": "f5cbece9"
      },
      "outputs": [],
      "source": [
        "def get_label_strings(labels):\n",
        "    return tokenizer.convert_tokens_to_string(tokenizer.convert_ids_to_tokens(labels))"
      ]
    },
    {
      "cell_type": "code",
      "execution_count": 76,
      "id": "c026e850",
      "metadata": {
        "id": "c026e850"
      },
      "outputs": [],
      "source": [
        "labels = [get_label_strings(label) for label in model_input['labels']]"
      ]
    },
    {
      "cell_type": "code",
      "execution_count": 77,
      "id": "d5b03759",
      "metadata": {
        "id": "d5b03759",
        "outputId": "6edb5d9d-1ba9-4b4c-9426-533620a973f8",
        "colab": {
          "base_uri": "https://localhost:8080/"
        }
      },
      "outputs": [
        {
          "output_type": "execute_result",
          "data": {
            "text/plain": [
              "['Identifiant & #160;:</s> <unk> <unk> <unk> <unk> <unk> <unk> <unk> <unk> <unk> <unk> <unk> <unk> <unk> <unk> <unk> <unk>',\n",
              " \"Fenêtre supérieure & #160;: Vue de l'ensemble des imprimantes, réelles et virtuelles</s>\",\n",
              " 'Aperçu</s> <unk> <unk> <unk> <unk> <unk> <unk> <unk> <unk> <unk> <unk> <unk> <unk> <unk> <unk> <unk> <unk> <unk> <unk>']"
            ]
          },
          "metadata": {},
          "execution_count": 77
        }
      ],
      "source": [
        "labels"
      ]
    },
    {
      "cell_type": "code",
      "execution_count": 78,
      "id": "20ea5a26",
      "metadata": {
        "id": "20ea5a26",
        "outputId": "a692dbc7-3131-43ed-fc59-dc3fd03840a0",
        "colab": {
          "base_uri": "https://localhost:8080/"
        }
      },
      "outputs": [
        {
          "output_type": "execute_result",
          "data": {
            "text/plain": [
              "['Identification: #160;:</s> </s> </s> </s> </s> </s> I I I I I I I I I I I',\n",
              " \"Fenêtre supérieure : #160;: vue sur l'imprimante des imprimantes, réelles et virtuelles</s>\",\n",
              " 'Aperçu</s> </s> </s> </s> </s> Aperçu Aperçu Aperçu Aperçu Aperçu Aperçu Aperçu Aperçu Aperçu Aperçu Aperçu Aperçu Aperçu Aperçu']"
            ]
          },
          "metadata": {},
          "execution_count": 78
        }
      ],
      "source": [
        "preds = [ get_label_strings(pred) for pred in preds]\n",
        "preds"
      ]
    },
    {
      "cell_type": "code",
      "execution_count": 79,
      "id": "b64b8e7e",
      "metadata": {
        "id": "b64b8e7e",
        "outputId": "3aec751e-6464-4f56-e1a2-7d6c5f38c1d8",
        "colab": {
          "base_uri": "https://localhost:8080/"
        }
      },
      "outputs": [
        {
          "output_type": "execute_result",
          "data": {
            "text/plain": [
              "['Identification: #160;:</s>',\n",
              " \"Fenêtre supérieure : #160;: vue sur l'imprimante des imprimantes, réelles et virtuelles</s>\",\n",
              " 'Aperçu</s>']"
            ]
          },
          "metadata": {},
          "execution_count": 79
        }
      ],
      "source": [
        "final_string_preds=[]\n",
        "for example in preds:\n",
        "    string_preds =[]\n",
        "    for s in example.split():\n",
        "        string_preds.append(s)\n",
        "        if '</s>' in s:\n",
        "            break\n",
        "    final_string_preds.append(' '.join(string_preds))\n",
        "\n",
        "final_string_preds"
      ]
    },
    {
      "cell_type": "code",
      "execution_count": 80,
      "id": "a88dcd36",
      "metadata": {
        "id": "a88dcd36"
      },
      "outputs": [],
      "source": [
        "# generate prediction from logits using beam search\n",
        "generated_predictions = model.generate(\n",
        "    **model_input, generation_config=generation_config, max_length=128\n",
        ")\n"
      ]
    },
    {
      "cell_type": "code",
      "execution_count": 81,
      "id": "a607ec29",
      "metadata": {
        "colab": {
          "base_uri": "https://localhost:8080/"
        },
        "id": "a607ec29",
        "outputId": "9d152fb1-75fe-470b-f9dd-18dc5c657fbb"
      },
      "outputs": [
        {
          "output_type": "execute_result",
          "data": {
            "text/plain": [
              "torch.Size([3, 25])"
            ]
          },
          "metadata": {},
          "execution_count": 81
        }
      ],
      "source": [
        "generated_predictions.shape\n"
      ]
    },
    {
      "cell_type": "code",
      "execution_count": 82,
      "id": "1677a41d",
      "metadata": {
        "colab": {
          "base_uri": "https://localhost:8080/"
        },
        "id": "1677a41d",
        "outputId": "a71eaaed-dfc8-4e5d-f2c5-0408230753c9"
      },
      "outputs": [
        {
          "output_type": "execute_result",
          "data": {
            "text/plain": [
              "tensor([[59513, 41612,   402, 38492,     0, 59513, 59513, 59513, 59513, 59513,\n",
              "         59513, 59513, 59513, 59513, 59513, 59513, 59513, 59513, 59513, 59513,\n",
              "            47,  9314, 18458,    37,     0],\n",
              "        [59513,   304,   162,   501,  4517,   402, 38492, 14781,     5,    14,\n",
              "             6,  1420,    13, 29719,     9,     2, 12782,    11, 18769,     9,\n",
              "             0, 59513, 59513, 59513, 59513],\n",
              "        [59513, 12323,     0, 59513, 59513, 59513, 59513, 59513, 59513, 59513,\n",
              "         59513, 59513, 59513, 59513, 59513, 59513, 59513, 59513, 59513, 59513,\n",
              "         12323,     0, 59513, 59513, 59513]])"
            ]
          },
          "metadata": {},
          "execution_count": 82
        }
      ],
      "source": [
        "generated_predictions\n"
      ]
    },
    {
      "cell_type": "code",
      "execution_count": 83,
      "id": "65fb3f53",
      "metadata": {
        "colab": {
          "base_uri": "https://localhost:8080/"
        },
        "id": "65fb3f53",
        "outputId": "4b924610-ff87-43f3-e9a0-a4aceea225ca"
      },
      "outputs": [
        {
          "output_type": "execute_result",
          "data": {
            "text/plain": [
              "torch.Size([3, 25])"
            ]
          },
          "metadata": {},
          "execution_count": 83
        }
      ],
      "source": [
        "generated_predictions.shape\n"
      ]
    },
    {
      "cell_type": "code",
      "execution_count": 84,
      "id": "3f23fc2a",
      "metadata": {
        "colab": {
          "base_uri": "https://localhost:8080/"
        },
        "id": "3f23fc2a",
        "outputId": "02bed0bb-9f49-4a98-f4b6-a49462717a3c"
      },
      "outputs": [
        {
          "output_type": "stream",
          "name": "stdout",
          "text": [
            "['<pad>', '▁Identifiant', '▁&', '▁#160;:', '</s>', '<pad>', '<pad>', '<pad>', '<pad>', '<pad>', '<pad>', '<pad>', '<pad>', '<pad>', '<pad>', '<pad>', '<pad>', '<pad>', '<pad>', '<pad>', '▁I', 'dent', 'ificateur', ':', '</s>']\n"
          ]
        }
      ],
      "source": [
        "tokens = tokenizer.convert_ids_to_tokens(generated_predictions[0])\n",
        "print(tokens)\n"
      ]
    },
    {
      "cell_type": "code",
      "execution_count": 85,
      "id": "43c50244",
      "metadata": {
        "colab": {
          "base_uri": "https://localhost:8080/"
        },
        "id": "43c50244",
        "outputId": "809b9883-144f-4af9-c4b1-a9565a1d222a"
      },
      "outputs": [
        {
          "output_type": "stream",
          "name": "stdout",
          "text": [
            "<pad> Identifiant & #160;:</s> <pad> <pad> <pad> <pad> <pad> <pad> <pad> <pad> <pad> <pad> <pad> <pad> <pad> <pad> <pad> Identificateur:</s>\n"
          ]
        }
      ],
      "source": [
        "translation = tokenizer.convert_tokens_to_string(tokens)\n",
        "print(translation)\n"
      ]
    },
    {
      "cell_type": "code",
      "execution_count": 86,
      "id": "2fbd60b6",
      "metadata": {
        "colab": {
          "base_uri": "https://localhost:8080/",
          "height": 36
        },
        "id": "2fbd60b6",
        "outputId": "7c2ef9c5-9b8a-4c1d-f32d-dead8302cb60"
      },
      "outputs": [
        {
          "output_type": "execute_result",
          "data": {
            "text/plain": [
              "\"<pad> Fenêtre supérieure & #160;: Vue de l'ensemble des imprimantes, réelles et virtuelles</s> <pad> <pad> <pad> <pad>\""
            ],
            "application/vnd.google.colaboratory.intrinsic+json": {
              "type": "string"
            }
          },
          "metadata": {},
          "execution_count": 86
        }
      ],
      "source": [
        "tokenizer.decode(generated_predictions[1])\n"
      ]
    },
    {
      "cell_type": "code",
      "execution_count": 87,
      "id": "a1e1df59",
      "metadata": {
        "id": "a1e1df59",
        "outputId": "9bd60b75-f17c-490d-88db-eeae17dc0aad",
        "colab": {
          "base_uri": "https://localhost:8080/",
          "height": 36
        }
      },
      "outputs": [
        {
          "output_type": "execute_result",
          "data": {
            "text/plain": [
              "\"Fenêtre supérieure & #160;: Vue de l'ensemble des imprimantes, réelles et virtuelles\""
            ],
            "application/vnd.google.colaboratory.intrinsic+json": {
              "type": "string"
            }
          },
          "metadata": {},
          "execution_count": 87
        }
      ],
      "source": [
        "tokenizer.decode(generated_predictions[1], skip_special_tokens=True)\n"
      ]
    },
    {
      "cell_type": "code",
      "execution_count": 88,
      "id": "7b54eec5",
      "metadata": {
        "colab": {
          "base_uri": "https://localhost:8080/"
        },
        "id": "7b54eec5",
        "outputId": "0d263c79-d16f-4074-caac-d68308df6b9d"
      },
      "outputs": [
        {
          "output_type": "execute_result",
          "data": {
            "text/plain": [
              "['<pad> Identifiant & #160;:</s> <pad> <pad> <pad> <pad> <pad> <pad> <pad> <pad> <pad> <pad> <pad> <pad> <pad> <pad> <pad> Identificateur:</s>',\n",
              " \"<pad> Fenêtre supérieure & #160;: Vue de l'ensemble des imprimantes, réelles et virtuelles</s> <pad> <pad> <pad> <pad>\",\n",
              " '<pad> Aperçu</s> <pad> <pad> <pad> <pad> <pad> <pad> <pad> <pad> <pad> <pad> <pad> <pad> <pad> <pad> <pad> <pad> <pad> Aperçu</s> <pad> <pad> <pad>']"
            ]
          },
          "metadata": {},
          "execution_count": 88
        }
      ],
      "source": [
        "# decode tokens to generate translation\n",
        "tokenizer.batch_decode(generated_predictions)\n"
      ]
    },
    {
      "cell_type": "code",
      "execution_count": 89,
      "id": "426a4587",
      "metadata": {
        "colab": {
          "base_uri": "https://localhost:8080/"
        },
        "id": "426a4587",
        "outputId": "b49655d7-2986-46bf-94f0-ec98a9922f57"
      },
      "outputs": [
        {
          "output_type": "execute_result",
          "data": {
            "text/plain": [
              "['Identifiant & #160;: Identificateur:',\n",
              " \"Fenêtre supérieure & #160;: Vue de l'ensemble des imprimantes, réelles et virtuelles\",\n",
              " 'Aperçu Aperçu']"
            ]
          },
          "metadata": {},
          "execution_count": 89
        }
      ],
      "source": [
        "# decode tokens to generate summary\n",
        "tokenizer.batch_decode(generated_predictions, skip_special_tokens=True)\n"
      ]
    },
    {
      "cell_type": "markdown",
      "id": "bdb8d2df",
      "metadata": {
        "id": "bdb8d2df"
      },
      "source": [
        "##  <font color = 'pickle'> **Evaluation metric(s)** </font>"
      ]
    },
    {
      "cell_type": "markdown",
      "id": "ff01f0d5",
      "metadata": {
        "id": "ff01f0d5"
      },
      "source": [
        "### <font color = 'pickle'> **Function to compute metric** </font>\n"
      ]
    },
    {
      "cell_type": "code",
      "source": [
        "# !pip install sacrebleu\n",
        "# !pip install bert_score"
      ],
      "metadata": {
        "id": "nd-PrrenoZmE"
      },
      "id": "nd-PrrenoZmE",
      "execution_count": 90,
      "outputs": []
    },
    {
      "cell_type": "code",
      "execution_count": 91,
      "id": "7137a9d8",
      "metadata": {
        "id": "7137a9d8"
      },
      "outputs": [],
      "source": [
        "bleu_metric = evaluate.load(\"sacrebleu\")\n",
        "bert_metric = evaluate.load('bertscore')\n",
        "\n",
        "def compute_metrics(preds_and_labels):\n",
        "\n",
        "    preds, labels = preds_and_labels\n",
        "\n",
        "    # convert predictions into words\n",
        "    decoded_preds = tokenizer.batch_decode(preds, skip_special_tokens=True)\n",
        "\n",
        "    # for any -100 label, replace with pad token id\n",
        "    labels = np.where( labels != -100, labels, tokenizer.pad_token_id )\n",
        "\n",
        "    # convert labels into words\n",
        "    decoded_labels = tokenizer.batch_decode(labels, skip_special_tokens= True)\n",
        "\n",
        "    # get rid of extra whitespace\n",
        "    # and also, put targets into lists\n",
        "\n",
        "    decoded_preds_cleaned = [pred.strip() for pred in decoded_preds]\n",
        "    decoded_labels_cleaned = [label.strip() for label in decoded_labels]\n",
        "\n",
        "    bleu_score = bleu_metric.compute(predictions=decoded_preds_cleaned, references=decoded_labels_cleaned)\n",
        "    bert_score = bert_metric.compute(predictions=decoded_preds_cleaned, references=decoded_labels_cleaned, lang='fr')\n",
        "\n",
        "    return{'bleu_score:': bleu_score['score'], 'bert_score': np.mean(bert_score['f1'])}"
      ]
    },
    {
      "cell_type": "markdown",
      "id": "21bffd36",
      "metadata": {
        "id": "21bffd36"
      },
      "source": [
        "## <font color = 'pickle'> **Set up Logger for experiments**</font>\n"
      ]
    },
    {
      "cell_type": "code",
      "execution_count": 92,
      "id": "40f5928c",
      "metadata": {
        "colab": {
          "base_uri": "https://localhost:8080/",
          "height": 69
        },
        "id": "40f5928c",
        "outputId": "44d95561-0f18-4c7d-a28c-615905d368cc"
      },
      "outputs": [
        {
          "output_type": "display_data",
          "data": {
            "text/plain": [
              "<IPython.core.display.Javascript object>"
            ],
            "application/javascript": [
              "\n",
              "        window._wandbApiKey = new Promise((resolve, reject) => {\n",
              "            function loadScript(url) {\n",
              "            return new Promise(function(resolve, reject) {\n",
              "                let newScript = document.createElement(\"script\");\n",
              "                newScript.onerror = reject;\n",
              "                newScript.onload = resolve;\n",
              "                document.body.appendChild(newScript);\n",
              "                newScript.src = url;\n",
              "            });\n",
              "            }\n",
              "            loadScript(\"https://cdn.jsdelivr.net/npm/postmate/build/postmate.min.js\").then(() => {\n",
              "            const iframe = document.createElement('iframe')\n",
              "            iframe.style.cssText = \"width:0;height:0;border:none\"\n",
              "            document.body.appendChild(iframe)\n",
              "            const handshake = new Postmate({\n",
              "                container: iframe,\n",
              "                url: 'https://wandb.ai/authorize'\n",
              "            });\n",
              "            const timeout = setTimeout(() => reject(\"Couldn't auto authenticate\"), 5000)\n",
              "            handshake.then(function(child) {\n",
              "                child.on('authorize', data => {\n",
              "                    clearTimeout(timeout)\n",
              "                    resolve(data)\n",
              "                });\n",
              "            });\n",
              "            })\n",
              "        });\n",
              "    "
            ]
          },
          "metadata": {}
        },
        {
          "output_type": "stream",
          "name": "stderr",
          "text": [
            "\u001b[34m\u001b[1mwandb\u001b[0m: Appending key for api.wandb.ai to your netrc file: /root/.netrc\n"
          ]
        },
        {
          "output_type": "stream",
          "name": "stdout",
          "text": [
            "env: WANDB_PROJECT=nlp_course_fall_2023-translation\n"
          ]
        }
      ],
      "source": [
        "wandb.login()\n",
        "# Set project name for logging\n",
        "%env WANDB_PROJECT = nlp_course_fall_2023-translation\n"
      ]
    },
    {
      "cell_type": "markdown",
      "id": "Jwwp80UgmLjr",
      "metadata": {
        "id": "Jwwp80UgmLjr"
      },
      "source": [
        "## <font color = 'pickle'> **Hyperparameters and Checkpointing**</font>"
      ]
    },
    {
      "cell_type": "code",
      "execution_count": 93,
      "id": "hIXDbzK8O4x9",
      "metadata": {
        "id": "hIXDbzK8O4x9"
      },
      "outputs": [],
      "source": [
        "from transformers import Seq2SeqTrainingArguments\n",
        "\n",
        "# Define the directory where model checkpoints will be saved\n",
        "model_folder = base_folder / \"models\" / \"nlp_fall_2023/kde4/opus-mt-en-fr\"\n",
        "\n",
        "# Create the directory if it doesn't exist\n",
        "model_folder.mkdir(exist_ok=True, parents=True)\n",
        "\n",
        "# Configure training parameters\n",
        "training_args = Seq2SeqTrainingArguments(\n",
        "    # Training-specific configurations\n",
        "    num_train_epochs=1,  # Total number of training epochs\n",
        "    weight_decay=0.01,  # Apply L2 regularization to prevent overfitting\n",
        "    learning_rate=5e-5,  # Step size for the optimizer during training\n",
        "    optim=\"adamw_torch\",  # Optimizer,\n",
        "    warmup_steps=10,\n",
        "    predict_with_generate=True,\n",
        "    generation_config=generation_config,\n",
        "    # memory and speed related arguments\n",
        "    # Number of samples per training batch for each device\n",
        "    per_device_train_batch_size=16,\n",
        "    per_device_eval_batch_size=16,  # Number of samples per eval batch for each device\n",
        "\n",
        "    gradient_checkpointing=True,  # memory\n",
        "    # fp16 = True, # Speed\n",
        "    # bf16=True,\n",
        "    # tf32=True, # speed\n",
        "    # evaluation settings\n",
        "    output_dir=str(model_folder),  # Directory to save model checkpoints\n",
        "    evaluation_strategy=\"steps\",  # Evaluate model at specified step intervals\n",
        "    eval_steps=10,  # Perform evaluation every 10 training steps\n",
        "    # Checkpoint settings\n",
        "    save_strategy=\"steps\",  # Save model checkpoint at specified step intervals\n",
        "    save_steps=10,  # Save a model checkpoint every 10 training steps\n",
        "    load_best_model_at_end=True,  # Reload the best model at the end of training\n",
        "    save_total_limit=2,  # Retain only the best and the most recent model checkpoints\n",
        "    # metric_for_best_model=,\n",
        "    # greater_is_better=,\n",
        "    # Experiment logging configurations (commented out in this example)\n",
        "    logging_strategy=\"steps\",\n",
        "    logging_steps=10,\n",
        "    report_to=\"wandb\",  # Log metrics and results to Weights & Biases platform\n",
        "    # Experiment name for Weights & Biases\n",
        "    run_name=\"translation-exp1\",\n",
        ")\n"
      ]
    },
    {
      "cell_type": "markdown",
      "id": "J_hMcxgrFNyT",
      "metadata": {
        "id": "J_hMcxgrFNyT"
      },
      "source": [
        "##  <font color = 'pickle'> **Initialize Trainer**</font>"
      ]
    },
    {
      "cell_type": "code",
      "execution_count": 94,
      "id": "syJ7458-On05",
      "metadata": {
        "id": "syJ7458-On05"
      },
      "outputs": [],
      "source": [
        "# initialize trainer\n",
        "trainer = Seq2SeqTrainer(\n",
        "    model=model,\n",
        "    args=training_args,\n",
        "    train_dataset=tokenized_dataset[\"train\"],\n",
        "    eval_dataset=tokenized_dataset[\"val\"],\n",
        "    compute_metrics=compute_metrics,\n",
        "    tokenizer=tokenizer,\n",
        "    data_collator=data_collator,\n",
        ")\n"
      ]
    },
    {
      "cell_type": "markdown",
      "id": "ty027fT4DFGn",
      "metadata": {
        "id": "ty027fT4DFGn"
      },
      "source": [
        "##  <font color = 'pickle'> **Start Training**"
      ]
    },
    {
      "cell_type": "code",
      "execution_count": 95,
      "id": "e9f8ba94",
      "metadata": {
        "colab": {
          "base_uri": "https://localhost:8080/"
        },
        "id": "e9f8ba94",
        "outputId": "47f8d681-67bb-4308-f56d-499190616554"
      },
      "outputs": [
        {
          "output_type": "execute_result",
          "data": {
            "text/plain": [
              "1310"
            ]
          },
          "metadata": {},
          "execution_count": 95
        }
      ],
      "source": [
        "import gc\n",
        "import torch\n",
        "torch.cuda.empty_cache()\n",
        "gc.collect()\n"
      ]
    },
    {
      "cell_type": "code",
      "execution_count": 96,
      "id": "MHNSotl_CyW7",
      "metadata": {
        "colab": {
          "base_uri": "https://localhost:8080/",
          "height": 860,
          "referenced_widgets": [
            "ab8ce42709fe40bf9ab32fb179ca8592",
            "fe705aaf6171433b984e2e11892d7e71",
            "0db25a2689c34512a7e7ede9bb9938dc",
            "add3d805390f4b61a6fffec06f9819ec",
            "4f9fe02ee1c947a6bb2ab88aeba1adc2",
            "3b23548653804be1bb0ccc2f1825c29d",
            "4f56f06c97234736a15c392c9a8649c6",
            "0a6de65d5ac440fda7659fb8af141b38",
            "17e51f7a2829465c91bde30470bba076",
            "c17a6693508f43ae89f6caca969cf170",
            "3038c1358ba24fbb94350691580fb505",
            "dd7f20cb69cc42b98663762c4573c021",
            "2277099404fe4afc9f3fb9a44ceedfab",
            "c343e78a53874ffea897758ce4703944",
            "f009c8e741244d379b7a94950763a99a",
            "bb55f8a46b1c401aa3ec666ae29412df",
            "893233cad13d4a1490e279ff86d95ad6",
            "c163e49b183344399bd1cb8fe30f4b45",
            "909f766b8c7141bcabfff6fbe12e1860",
            "8c2d7eba6d424a75a8ac273a02e43c74",
            "93083a7709824c36a6d6d5d06c7c324c",
            "4053660b54494e6e9ae56615fc394007",
            "304bdeb4234a4a79a9cbb87cbf8a0840",
            "a8e40dd29f7d47658914b0f90444af20",
            "efff2ef42a0b44b3b814b60e03f71740",
            "6c2e350186d94ab88c87c95fd2338b81",
            "45884d58f63a42e8b56a2e336724f568",
            "197afc48e9634ee39eb849ce0ce828bb",
            "7913860a245045218f1e9d6ae9d91899",
            "c3441701afb8442e9edd50c6a42cf42f",
            "05f1f96320b94c65a357432f7fb51ad2",
            "3397aa81ed9a4054afdb7ba1ab6133e4",
            "cc0083d405c94527990169267bc32d79",
            "7bee5c4930154f0397a676a8f1832972",
            "329607f289bd403983671aa0a0595e32",
            "0dbd52ab448042558910d44e18940928",
            "3770140939cb4a4b883c56f483b4b2b7",
            "e87f1f5c24fe4397a6aeb680a7e6056e",
            "fe62d47169354f1b9bfbdf23fe18bb8e",
            "e00a76542135487d8cb3e37c8b4cc46c",
            "1d4a39f87fae4947a6826a87ab02c02a",
            "475bef8d9d4247d68d9465dd1da8c73e",
            "f844a58cd7bf4adcaa621e35fe2f2fe5",
            "9ff26cdd275a4712a018bc3ba99609aa",
            "442191a7c9da4c35b36f238780334988",
            "ebcba546116640f28f8417e276ae2c7b",
            "52b9bb1140d04b84945d607d13d91126",
            "5cb5f31d86404f468febdfc3aebd7f3c",
            "2ec1d8b8fbe64c0eb2a3b524ff25bf79",
            "c836f0095bfa4215805f9e41e8147769",
            "cf90ecdf8cfb444dbae005ef93c825a2",
            "1bcf1ad15c0f4b08beabc88856bd3eff",
            "796e500739914a56862048e02f5a58eb",
            "dd935e8fd0184b06aa413ae0ace5771c",
            "f78fb78cd4014985a9ee97d425a3c7a5"
          ]
        },
        "id": "MHNSotl_CyW7",
        "outputId": "5329c43a-5d6d-45bf-8ff7-ca6e6e00bc29"
      },
      "outputs": [
        {
          "output_type": "display_data",
          "data": {
            "text/plain": [
              "<IPython.core.display.HTML object>"
            ],
            "text/html": [
              "Changes to your `wandb` environment variables will be ignored because your `wandb` session has already started. For more information on how to modify your settings with `wandb.init()` arguments, please refer to <a href='https://wandb.me/wandb-init' target=\"_blank\">the W&B docs</a>."
            ]
          },
          "metadata": {}
        },
        {
          "output_type": "stream",
          "name": "stderr",
          "text": [
            "\u001b[34m\u001b[1mwandb\u001b[0m: Currently logged in as: \u001b[33mshremuk\u001b[0m. Use \u001b[1m`wandb login --relogin`\u001b[0m to force relogin\n"
          ]
        },
        {
          "output_type": "display_data",
          "data": {
            "text/plain": [
              "<IPython.core.display.HTML object>"
            ],
            "text/html": [
              "Tracking run with wandb version 0.15.12"
            ]
          },
          "metadata": {}
        },
        {
          "output_type": "display_data",
          "data": {
            "text/plain": [
              "<IPython.core.display.HTML object>"
            ],
            "text/html": [
              "Run data is saved locally in <code>/content/wandb/run-20231029_041645-pp3yxwn2</code>"
            ]
          },
          "metadata": {}
        },
        {
          "output_type": "display_data",
          "data": {
            "text/plain": [
              "<IPython.core.display.HTML object>"
            ],
            "text/html": [
              "Syncing run <strong><a href='https://wandb.ai/shremuk/nlp_course_fall_2023-translation/runs/pp3yxwn2' target=\"_blank\">translation-exp1</a></strong> to <a href='https://wandb.ai/shremuk/nlp_course_fall_2023-translation' target=\"_blank\">Weights & Biases</a> (<a href='https://wandb.me/run' target=\"_blank\">docs</a>)<br/>"
            ]
          },
          "metadata": {}
        },
        {
          "output_type": "display_data",
          "data": {
            "text/plain": [
              "<IPython.core.display.HTML object>"
            ],
            "text/html": [
              " View project at <a href='https://wandb.ai/shremuk/nlp_course_fall_2023-translation' target=\"_blank\">https://wandb.ai/shremuk/nlp_course_fall_2023-translation</a>"
            ]
          },
          "metadata": {}
        },
        {
          "output_type": "display_data",
          "data": {
            "text/plain": [
              "<IPython.core.display.HTML object>"
            ],
            "text/html": [
              " View run at <a href='https://wandb.ai/shremuk/nlp_course_fall_2023-translation/runs/pp3yxwn2' target=\"_blank\">https://wandb.ai/shremuk/nlp_course_fall_2023-translation/runs/pp3yxwn2</a>"
            ]
          },
          "metadata": {}
        },
        {
          "output_type": "stream",
          "name": "stderr",
          "text": [
            "/usr/local/lib/python3.10/dist-packages/torch/utils/checkpoint.py:429: UserWarning: torch.utils.checkpoint: please pass in use_reentrant=True or use_reentrant=False explicitly. The default value of use_reentrant will be updated to be False in the future. To maintain current behavior, pass use_reentrant=True. It is recommended that you use use_reentrant=False. Refer to docs for more details on the differences between the two variants.\n",
            "  warnings.warn(\n"
          ]
        },
        {
          "output_type": "display_data",
          "data": {
            "text/plain": [
              "<IPython.core.display.HTML object>"
            ],
            "text/html": [
              "\n",
              "    <div>\n",
              "      \n",
              "      <progress value='63' max='63' style='width:300px; height:20px; vertical-align: middle;'></progress>\n",
              "      [63/63 08:43, Epoch 1/1]\n",
              "    </div>\n",
              "    <table border=\"1\" class=\"dataframe\">\n",
              "  <thead>\n",
              " <tr style=\"text-align: left;\">\n",
              "      <th>Step</th>\n",
              "      <th>Training Loss</th>\n",
              "      <th>Validation Loss</th>\n",
              "      <th>Bleu Score:</th>\n",
              "      <th>Bert Score</th>\n",
              "    </tr>\n",
              "  </thead>\n",
              "  <tbody>\n",
              "    <tr>\n",
              "      <td>10</td>\n",
              "      <td>1.991500</td>\n",
              "      <td>1.655252</td>\n",
              "      <td>39.680601</td>\n",
              "      <td>0.863847</td>\n",
              "    </tr>\n",
              "    <tr>\n",
              "      <td>20</td>\n",
              "      <td>1.733100</td>\n",
              "      <td>1.596057</td>\n",
              "      <td>39.234273</td>\n",
              "      <td>0.863176</td>\n",
              "    </tr>\n",
              "    <tr>\n",
              "      <td>30</td>\n",
              "      <td>1.672000</td>\n",
              "      <td>1.556005</td>\n",
              "      <td>40.578745</td>\n",
              "      <td>0.866220</td>\n",
              "    </tr>\n",
              "    <tr>\n",
              "      <td>40</td>\n",
              "      <td>1.442300</td>\n",
              "      <td>1.537132</td>\n",
              "      <td>41.174389</td>\n",
              "      <td>0.867369</td>\n",
              "    </tr>\n",
              "    <tr>\n",
              "      <td>50</td>\n",
              "      <td>1.439700</td>\n",
              "      <td>1.526197</td>\n",
              "      <td>41.246359</td>\n",
              "      <td>0.867248</td>\n",
              "    </tr>\n",
              "    <tr>\n",
              "      <td>60</td>\n",
              "      <td>1.512200</td>\n",
              "      <td>1.520451</td>\n",
              "      <td>41.166549</td>\n",
              "      <td>0.866630</td>\n",
              "    </tr>\n",
              "  </tbody>\n",
              "</table><p>"
            ]
          },
          "metadata": {}
        },
        {
          "output_type": "display_data",
          "data": {
            "text/plain": [
              "Downloading (…)okenizer_config.json:   0%|          | 0.00/29.0 [00:00<?, ?B/s]"
            ],
            "application/vnd.jupyter.widget-view+json": {
              "version_major": 2,
              "version_minor": 0,
              "model_id": "ab8ce42709fe40bf9ab32fb179ca8592"
            }
          },
          "metadata": {}
        },
        {
          "output_type": "display_data",
          "data": {
            "text/plain": [
              "Downloading (…)lve/main/config.json:   0%|          | 0.00/625 [00:00<?, ?B/s]"
            ],
            "application/vnd.jupyter.widget-view+json": {
              "version_major": 2,
              "version_minor": 0,
              "model_id": "dd7f20cb69cc42b98663762c4573c021"
            }
          },
          "metadata": {}
        },
        {
          "output_type": "display_data",
          "data": {
            "text/plain": [
              "Downloading (…)solve/main/vocab.txt:   0%|          | 0.00/996k [00:00<?, ?B/s]"
            ],
            "application/vnd.jupyter.widget-view+json": {
              "version_major": 2,
              "version_minor": 0,
              "model_id": "304bdeb4234a4a79a9cbb87cbf8a0840"
            }
          },
          "metadata": {}
        },
        {
          "output_type": "display_data",
          "data": {
            "text/plain": [
              "Downloading (…)/main/tokenizer.json:   0%|          | 0.00/1.96M [00:00<?, ?B/s]"
            ],
            "application/vnd.jupyter.widget-view+json": {
              "version_major": 2,
              "version_minor": 0,
              "model_id": "7bee5c4930154f0397a676a8f1832972"
            }
          },
          "metadata": {}
        },
        {
          "output_type": "display_data",
          "data": {
            "text/plain": [
              "Downloading model.safetensors:   0%|          | 0.00/714M [00:00<?, ?B/s]"
            ],
            "application/vnd.jupyter.widget-view+json": {
              "version_major": 2,
              "version_minor": 0,
              "model_id": "442191a7c9da4c35b36f238780334988"
            }
          },
          "metadata": {}
        },
        {
          "output_type": "stream",
          "name": "stderr",
          "text": [
            "/usr/local/lib/python3.10/dist-packages/torch/utils/checkpoint.py:429: UserWarning: torch.utils.checkpoint: please pass in use_reentrant=True or use_reentrant=False explicitly. The default value of use_reentrant will be updated to be False in the future. To maintain current behavior, pass use_reentrant=True. It is recommended that you use use_reentrant=False. Refer to docs for more details on the differences between the two variants.\n",
            "  warnings.warn(\n",
            "/usr/local/lib/python3.10/dist-packages/torch/utils/checkpoint.py:429: UserWarning: torch.utils.checkpoint: please pass in use_reentrant=True or use_reentrant=False explicitly. The default value of use_reentrant will be updated to be False in the future. To maintain current behavior, pass use_reentrant=True. It is recommended that you use use_reentrant=False. Refer to docs for more details on the differences between the two variants.\n",
            "  warnings.warn(\n",
            "/usr/local/lib/python3.10/dist-packages/torch/utils/checkpoint.py:429: UserWarning: torch.utils.checkpoint: please pass in use_reentrant=True or use_reentrant=False explicitly. The default value of use_reentrant will be updated to be False in the future. To maintain current behavior, pass use_reentrant=True. It is recommended that you use use_reentrant=False. Refer to docs for more details on the differences between the two variants.\n",
            "  warnings.warn(\n",
            "/usr/local/lib/python3.10/dist-packages/torch/utils/checkpoint.py:429: UserWarning: torch.utils.checkpoint: please pass in use_reentrant=True or use_reentrant=False explicitly. The default value of use_reentrant will be updated to be False in the future. To maintain current behavior, pass use_reentrant=True. It is recommended that you use use_reentrant=False. Refer to docs for more details on the differences between the two variants.\n",
            "  warnings.warn(\n",
            "/usr/local/lib/python3.10/dist-packages/torch/utils/checkpoint.py:429: UserWarning: torch.utils.checkpoint: please pass in use_reentrant=True or use_reentrant=False explicitly. The default value of use_reentrant will be updated to be False in the future. To maintain current behavior, pass use_reentrant=True. It is recommended that you use use_reentrant=False. Refer to docs for more details on the differences between the two variants.\n",
            "  warnings.warn(\n",
            "/usr/local/lib/python3.10/dist-packages/torch/utils/checkpoint.py:429: UserWarning: torch.utils.checkpoint: please pass in use_reentrant=True or use_reentrant=False explicitly. The default value of use_reentrant will be updated to be False in the future. To maintain current behavior, pass use_reentrant=True. It is recommended that you use use_reentrant=False. Refer to docs for more details on the differences between the two variants.\n",
            "  warnings.warn(\n"
          ]
        },
        {
          "output_type": "execute_result",
          "data": {
            "text/plain": [
              "TrainOutput(global_step=63, training_loss=1.6225580639309354, metrics={'train_runtime': 527.8233, 'train_samples_per_second': 1.895, 'train_steps_per_second': 0.119, 'total_flos': 15072060506112.0, 'train_loss': 1.6225580639309354, 'epoch': 1.0})"
            ]
          },
          "metadata": {},
          "execution_count": 96
        }
      ],
      "source": [
        "trainer.train()  # start training\n"
      ]
    },
    {
      "cell_type": "markdown",
      "id": "772843fa",
      "metadata": {
        "id": "772843fa"
      },
      "source": [
        "##  <font color = 'pickle'> **Evaluation**"
      ]
    },
    {
      "cell_type": "markdown",
      "id": "c6e6ebff",
      "metadata": {
        "id": "c6e6ebff"
      },
      "source": [
        "### <font color = 'pickle'> **Check performance on validation set**</font>"
      ]
    },
    {
      "cell_type": "code",
      "execution_count": 97,
      "id": "14806bc4",
      "metadata": {
        "colab": {
          "base_uri": "https://localhost:8080/",
          "height": 158
        },
        "id": "14806bc4",
        "outputId": "fc9ab542-693a-4037-d3e9-1101fb48aa44"
      },
      "outputs": [
        {
          "output_type": "display_data",
          "data": {
            "text/plain": [
              "<IPython.core.display.HTML object>"
            ],
            "text/html": [
              "\n",
              "    <div>\n",
              "      \n",
              "      <progress value='32' max='32' style='width:300px; height:20px; vertical-align: middle;'></progress>\n",
              "      [32/32 01:17]\n",
              "    </div>\n",
              "    "
            ]
          },
          "metadata": {}
        },
        {
          "output_type": "execute_result",
          "data": {
            "text/plain": [
              "{'eval_loss': 1.5204508304595947,\n",
              " 'eval_bleu_score:': 41.166549338334434,\n",
              " 'eval_bert_score': 0.8666297210454941,\n",
              " 'eval_runtime': 89.1288,\n",
              " 'eval_samples_per_second': 5.61,\n",
              " 'eval_steps_per_second': 0.359,\n",
              " 'epoch': 1.0}"
            ]
          },
          "metadata": {},
          "execution_count": 97
        }
      ],
      "source": [
        "trainer.evaluate(tokenized_dataset[\"val\"])"
      ]
    },
    {
      "cell_type": "code",
      "execution_count": 98,
      "id": "zA_1mCOeVTvl",
      "metadata": {
        "colab": {
          "base_uri": "https://localhost:8080/",
          "height": 562,
          "referenced_widgets": [
            "dab36b3aca514c5591e5ee26ec64ffc4",
            "d5a807ad94c84084844fc5626154616c",
            "167a4f7fa8ca4f5aa5ab2906a64e8503",
            "fdb7ab20da0a4a10979f6e49595d0f1d",
            "ed097fb2005446c4a99f6cce729e431f",
            "a2c68d63a37946b08b052532ebdad27b",
            "b373e1e9a1324970bf9c54f8e5945f4c",
            "396216f438974a78a3fef5976d902f2b"
          ]
        },
        "id": "zA_1mCOeVTvl",
        "outputId": "d9c50204-a3f3-4fc9-ff1e-f4927ef94437"
      },
      "outputs": [
        {
          "output_type": "display_data",
          "data": {
            "text/plain": [
              "<IPython.core.display.HTML object>"
            ],
            "text/html": [
              "Waiting for W&B process to finish... <strong style=\"color:green\">(success).</strong>"
            ]
          },
          "metadata": {}
        },
        {
          "output_type": "display_data",
          "data": {
            "text/plain": [
              "VBox(children=(Label(value='0.001 MB of 0.001 MB uploaded (0.000 MB deduped)\\r'), FloatProgress(value=1.0, max…"
            ],
            "application/vnd.jupyter.widget-view+json": {
              "version_major": 2,
              "version_minor": 0,
              "model_id": "dab36b3aca514c5591e5ee26ec64ffc4"
            }
          },
          "metadata": {}
        },
        {
          "output_type": "display_data",
          "data": {
            "text/plain": [
              "<IPython.core.display.HTML object>"
            ],
            "text/html": [
              "<style>\n",
              "    table.wandb td:nth-child(1) { padding: 0 10px; text-align: left ; width: auto;} td:nth-child(2) {text-align: left ; width: 100%}\n",
              "    .wandb-row { display: flex; flex-direction: row; flex-wrap: wrap; justify-content: flex-start; width: 100% }\n",
              "    .wandb-col { display: flex; flex-direction: column; flex-basis: 100%; flex: 1; padding: 10px; }\n",
              "    </style>\n",
              "<div class=\"wandb-row\"><div class=\"wandb-col\"><h3>Run history:</h3><br/><table class=\"wandb\"><tr><td>eval/bert_score</td><td>▂▁▆██▇▇</td></tr><tr><td>eval/bleu_score:</td><td>▃▁▆████</td></tr><tr><td>eval/loss</td><td>█▅▃▂▁▁▁</td></tr><tr><td>eval/runtime</td><td>▁█▁▂▅▄▅</td></tr><tr><td>eval/samples_per_second</td><td>▇▁█▇▃▄▃</td></tr><tr><td>eval/steps_per_second</td><td>▇▁█▇▃▄▃</td></tr><tr><td>train/epoch</td><td>▁▁▂▂▄▄▅▅▆▆████</td></tr><tr><td>train/global_step</td><td>▁▁▂▂▄▄▅▅▆▆████</td></tr><tr><td>train/learning_rate</td><td>█▇▅▄▂▁</td></tr><tr><td>train/loss</td><td>█▅▄▁▁▂</td></tr><tr><td>train/total_flos</td><td>▁</td></tr><tr><td>train/train_loss</td><td>▁</td></tr><tr><td>train/train_runtime</td><td>▁</td></tr><tr><td>train/train_samples_per_second</td><td>▁</td></tr><tr><td>train/train_steps_per_second</td><td>▁</td></tr></table><br/></div><div class=\"wandb-col\"><h3>Run summary:</h3><br/><table class=\"wandb\"><tr><td>eval/bert_score</td><td>0.86663</td></tr><tr><td>eval/bleu_score:</td><td>41.16655</td></tr><tr><td>eval/loss</td><td>1.52045</td></tr><tr><td>eval/runtime</td><td>89.1288</td></tr><tr><td>eval/samples_per_second</td><td>5.61</td></tr><tr><td>eval/steps_per_second</td><td>0.359</td></tr><tr><td>train/epoch</td><td>1.0</td></tr><tr><td>train/global_step</td><td>63</td></tr><tr><td>train/learning_rate</td><td>0.0</td></tr><tr><td>train/loss</td><td>1.5122</td></tr><tr><td>train/total_flos</td><td>15072060506112.0</td></tr><tr><td>train/train_loss</td><td>1.62256</td></tr><tr><td>train/train_runtime</td><td>527.8233</td></tr><tr><td>train/train_samples_per_second</td><td>1.895</td></tr><tr><td>train/train_steps_per_second</td><td>0.119</td></tr></table><br/></div></div>"
            ]
          },
          "metadata": {}
        },
        {
          "output_type": "display_data",
          "data": {
            "text/plain": [
              "<IPython.core.display.HTML object>"
            ],
            "text/html": [
              " View run <strong style=\"color:#cdcd00\">translation-exp1</strong> at: <a href='https://wandb.ai/shremuk/nlp_course_fall_2023-translation/runs/pp3yxwn2' target=\"_blank\">https://wandb.ai/shremuk/nlp_course_fall_2023-translation/runs/pp3yxwn2</a><br/>Synced 5 W&B file(s), 0 media file(s), 0 artifact file(s) and 0 other file(s)"
            ]
          },
          "metadata": {}
        },
        {
          "output_type": "display_data",
          "data": {
            "text/plain": [
              "<IPython.core.display.HTML object>"
            ],
            "text/html": [
              "Find logs at: <code>./wandb/run-20231029_041645-pp3yxwn2/logs</code>"
            ]
          },
          "metadata": {}
        }
      ],
      "source": [
        "wandb.finish()  # stop logging"
      ]
    },
    {
      "cell_type": "markdown",
      "id": "fff49bc5",
      "metadata": {
        "id": "fff49bc5"
      },
      "source": [
        "### <font color = 'pickle'> **Check the best saved model**</font>"
      ]
    },
    {
      "cell_type": "code",
      "execution_count": 99,
      "id": "3b0bee65",
      "metadata": {
        "id": "3b0bee65",
        "outputId": "d3f06e23-162f-4eb3-c522-83a765ec8779",
        "colab": {
          "base_uri": "https://localhost:8080/"
        }
      },
      "outputs": [
        {
          "output_type": "stream",
          "name": "stdout",
          "text": [
            "The best model was saved at step 60.\n"
          ]
        }
      ],
      "source": [
        "# After training, let us check the best checkpoint\n",
        "# We need this for Predioctions and Evaluations\n",
        "best_model_checkpoint_step = trainer.state.best_model_checkpoint.split(\"-\")[-1]\n",
        "print(f\"The best model was saved at step {best_model_checkpoint_step}.\")\n"
      ]
    },
    {
      "cell_type": "markdown",
      "id": "d013dd3d-bcee-45d8-a371-80daebd910de",
      "metadata": {
        "id": "d013dd3d-bcee-45d8-a371-80daebd910de"
      },
      "source": [
        "#  <font color = 'pickle'> **Inference**"
      ]
    },
    {
      "cell_type": "markdown",
      "id": "090acf0c",
      "metadata": {
        "id": "090acf0c"
      },
      "source": [
        "## <font color = 'pickle'> **Test Set Evaluation**"
      ]
    },
    {
      "cell_type": "code",
      "execution_count": 100,
      "id": "f734b7b7",
      "metadata": {
        "id": "f734b7b7",
        "outputId": "0c79e4df-c026-4392-b2ba-9925c86dd20e",
        "colab": {
          "base_uri": "https://localhost:8080/"
        }
      },
      "outputs": [
        {
          "output_type": "execute_result",
          "data": {
            "text/plain": [
              "DatasetDict({\n",
              "    test: Dataset({\n",
              "        features: ['id', 'translation'],\n",
              "        num_rows: 500\n",
              "    })\n",
              "})"
            ]
          },
          "metadata": {},
          "execution_count": 100
        }
      ],
      "source": [
        "model_folder = base_folder / \"models\" / \"nlp_fall_2023/kde4/opus-mt-en-fr\"\n",
        "checkpoint = str(model_folder / \"checkpoint-60\")\n",
        "test_subset\n"
      ]
    },
    {
      "cell_type": "code",
      "execution_count": 101,
      "id": "5e1cbdc5",
      "metadata": {
        "id": "5e1cbdc5",
        "colab": {
          "base_uri": "https://localhost:8080/",
          "height": 49,
          "referenced_widgets": [
            "bbcb521af7c648b3997b3eba8e4c713d",
            "73489fda6801421dbb02425c39e86255",
            "e4e5df98cdb4473ab1245906fa8e8d89",
            "303268e5feff469db937fde4bdd62e99",
            "8738e5ab67744d0ead952e8241485c66",
            "3fc30a94a2b046d3b329784a790dbbc1",
            "0b25a3f56d41497b8472c93415191c05",
            "c590ecd31a1a4a029a01f7f68f93cc2a",
            "4aa2db547a4948c78fd2f7e791fd977b",
            "221d07fff09645429da9a3bc81e49d3a",
            "8eedefb3689045ba897e255c434c16f6"
          ]
        },
        "outputId": "7df18177-8f31-4983-9787-f09c7b1a6c70"
      },
      "outputs": [
        {
          "output_type": "display_data",
          "data": {
            "text/plain": [
              "Map:   0%|          | 0/500 [00:00<?, ? examples/s]"
            ],
            "application/vnd.jupyter.widget-view+json": {
              "version_major": 2,
              "version_minor": 0,
              "model_id": "bbcb521af7c648b3997b3eba8e4c713d"
            }
          },
          "metadata": {}
        }
      ],
      "source": [
        "test_data_flattened = test_subset[\"test\"].map(lambda example: {'en': example['translation']['en'], 'fr': example['translation']['fr']})\n"
      ]
    },
    {
      "cell_type": "code",
      "execution_count": 102,
      "id": "6ae85d75",
      "metadata": {
        "id": "6ae85d75",
        "outputId": "89357dbd-d123-4fed-f7b9-d1fe59841e05",
        "colab": {
          "base_uri": "https://localhost:8080/"
        }
      },
      "outputs": [
        {
          "output_type": "execute_result",
          "data": {
            "text/plain": [
              "Dataset({\n",
              "    features: ['id', 'translation', 'en', 'fr'],\n",
              "    num_rows: 500\n",
              "})"
            ]
          },
          "metadata": {},
          "execution_count": 102
        }
      ],
      "source": [
        "test_data_flattened"
      ]
    },
    {
      "cell_type": "code",
      "execution_count": 103,
      "id": "2f94d735",
      "metadata": {
        "id": "2f94d735",
        "colab": {
          "base_uri": "https://localhost:8080/",
          "height": 165,
          "referenced_widgets": [
            "26ca03510b9f440aa86718819a38ddda",
            "f77c1c8d7734494290fa6819377f1502",
            "bf4965d409ab4777918366cad5862e51",
            "9d4078d6424f44a1bdbf0cdc362e3ea2",
            "e3fa82243dc04d8396a1070f10522d9a",
            "f81a091b8f3049fbb5fc8d8e4083c3f0",
            "4848828c1f9d42b6ab067f384ceb9444",
            "674253088afc4356a992a852dfa802fa",
            "78201f44042941df9b5125e1dc0fb814",
            "b1abc8436cfe454681ee1e3879962d59",
            "fd4ecd5e13e045c888e1efbfc7ee97b0",
            "00fedc2d8d764b97bfec22bea37da71c",
            "444fcadde2104d71b1ab372962b47099",
            "8b6b04162c37422b96819892c60b979c",
            "a29b3be77a804ad7aea04d6e1bfe6ffe",
            "0db74859a68c42b69972578d4aed5260",
            "4bf49a6b563643dba0dfe83c4e613641",
            "470122b1f2d744c1a7d11f3fd23c7d74",
            "55a8d6e244484cb9b3c1897d71558df4",
            "6dae84e18e6a46b9a81f78e951e54ee4",
            "6957bb5be14e4a85ab805e47e7f7630b",
            "9470b618404f42448d3d4f767e0ef658",
            "abc39f90b862485783b6b35d9a3fffca",
            "b2262ba849894c7bb71602186086353b",
            "293abfc326a54419a4dd4b092d795abe",
            "7e9dfd804b6a4d6bbc73c18f6570270c",
            "09229822cc58476db13e66ddb69293fa",
            "5dbb52b8ddac42509b39b323a8306d5b",
            "c1ae3a8eec9641ae8e029193e83c29df",
            "2b87a81b123948a08e6df3e4bc6aaf19",
            "042e9d00445040a0991675a9828f64eb",
            "1c348e61a3404fa9911d2aebb13d53a4",
            "5308cedf17e74ec39452e93e7eaddb5e"
          ]
        },
        "outputId": "02e5fc8b-c74b-46cd-aef2-d5f39fb86b00"
      },
      "outputs": [
        {
          "output_type": "stream",
          "name": "stderr",
          "text": [
            "/usr/local/lib/python3.10/dist-packages/transformers/models/marian/tokenization_marian.py:197: UserWarning: Recommended: pip install sacremoses.\n",
            "  warnings.warn(\"Recommended: pip install sacremoses.\")\n"
          ]
        },
        {
          "output_type": "display_data",
          "data": {
            "text/plain": [
              "Downloading builder script:   0%|          | 0.00/5.94k [00:00<?, ?B/s]"
            ],
            "application/vnd.jupyter.widget-view+json": {
              "version_major": 2,
              "version_minor": 0,
              "model_id": "26ca03510b9f440aa86718819a38ddda"
            }
          },
          "metadata": {}
        },
        {
          "output_type": "display_data",
          "data": {
            "text/plain": [
              "Downloading extra modules:   0%|          | 0.00/1.55k [00:00<?, ?B/s]"
            ],
            "application/vnd.jupyter.widget-view+json": {
              "version_major": 2,
              "version_minor": 0,
              "model_id": "00fedc2d8d764b97bfec22bea37da71c"
            }
          },
          "metadata": {}
        },
        {
          "output_type": "display_data",
          "data": {
            "text/plain": [
              "Downloading extra modules:   0%|          | 0.00/3.34k [00:00<?, ?B/s]"
            ],
            "application/vnd.jupyter.widget-view+json": {
              "version_major": 2,
              "version_minor": 0,
              "model_id": "abc39f90b862485783b6b35d9a3fffca"
            }
          },
          "metadata": {}
        },
        {
          "output_type": "stream",
          "name": "stderr",
          "text": [
            "Your input_length: 130 is bigger than 0.9 * max_length: 128. You might consider increasing your max_length manually, e.g. translator('...', max_length=400)\n"
          ]
        }
      ],
      "source": [
        "task_evaluator = evaluator(\"translation\")\n",
        "gen_kwargs = {\"length_penalty\": 0.8, \"num_beams\": 8, \"max_length\": 128}\n",
        "eval_results = task_evaluator.compute(\n",
        "    model_or_pipeline=checkpoint,\n",
        "    tokenizer=checkpoint,\n",
        "    data=test_data_flattened,\n",
        "    input_column='en',\n",
        "    label_column='fr',\n",
        "    generation_kwargs=gen_kwargs,\n",
        "    device=0,\n",
        ")\n"
      ]
    },
    {
      "cell_type": "code",
      "execution_count": 104,
      "id": "5404a081",
      "metadata": {
        "id": "5404a081",
        "outputId": "75e51151-ecbc-4b08-808b-3eed85e36930",
        "colab": {
          "base_uri": "https://localhost:8080/"
        }
      },
      "outputs": [
        {
          "output_type": "execute_result",
          "data": {
            "text/plain": [
              "{'bleu': 0.42696869676160426,\n",
              " 'precisions': [0.7095400340715503,\n",
              "  0.5355100095328885,\n",
              "  0.4212889593238246,\n",
              "  0.32914719626168226],\n",
              " 'brevity_penalty': 0.8911839411730454,\n",
              " 'length_ratio': 0.8966965820126026,\n",
              " 'translation_length': 4696,\n",
              " 'reference_length': 5237,\n",
              " 'total_time_in_seconds': 110.85894711100013,\n",
              " 'samples_per_second': 4.510235872070508,\n",
              " 'latency_in_seconds': 0.22171789422200025}"
            ]
          },
          "metadata": {},
          "execution_count": 104
        }
      ],
      "source": [
        "eval_results"
      ]
    },
    {
      "cell_type": "markdown",
      "id": "26ae3ddf",
      "metadata": {
        "id": "26ae3ddf"
      },
      "source": [
        "##  <font color = 'pickle'> **Prediction for individual or small list of examples**"
      ]
    },
    {
      "cell_type": "markdown",
      "id": "d7174c87",
      "metadata": {
        "id": "d7174c87"
      },
      "source": [
        "## <font color = 'pickle'> **Create pipelne for inference**"
      ]
    },
    {
      "cell_type": "code",
      "execution_count": 105,
      "id": "b438c9b0",
      "metadata": {
        "id": "b438c9b0"
      },
      "outputs": [],
      "source": [
        "custom_pipeline = pipeline(\n",
        "    task=\"translation\",\n",
        "    model=checkpoint,\n",
        "    tokenizer=checkpoint,\n",
        "    device='cpu',\n",
        "    framework = 'pt'\n",
        ")"
      ]
    },
    {
      "cell_type": "code",
      "execution_count": 106,
      "id": "882a2ec6",
      "metadata": {
        "id": "882a2ec6",
        "outputId": "10b90091-0409-4705-fc61-5528561b7f62",
        "colab": {
          "base_uri": "https://localhost:8080/",
          "height": 36
        }
      },
      "outputs": [
        {
          "output_type": "execute_result",
          "data": {
            "text/plain": [
              "'Find matching recipes'"
            ],
            "application/vnd.google.colaboratory.intrinsic+json": {
              "type": "string"
            }
          },
          "metadata": {},
          "execution_count": 106
        }
      ],
      "source": [
        "sample = test_data_flattened[\"en\"][420]\n",
        "sample\n"
      ]
    },
    {
      "cell_type": "code",
      "execution_count": 107,
      "id": "294d7f8d",
      "metadata": {
        "id": "294d7f8d",
        "outputId": "64b19172-1b91-4f56-93e8-c59d00d9c845",
        "colab": {
          "base_uri": "https://localhost:8080/"
        }
      },
      "outputs": [
        {
          "output_type": "execute_result",
          "data": {
            "text/plain": [
              "[{'translation_text': 'Trouver des recettes correspondantes'}]"
            ]
          },
          "metadata": {},
          "execution_count": 107
        }
      ],
      "source": [
        "translation = custom_pipeline(sample)\n",
        "translation"
      ]
    },
    {
      "cell_type": "code",
      "execution_count": 108,
      "id": "c893c56b",
      "metadata": {
        "id": "c893c56b",
        "outputId": "5d3e6896-a94b-401e-c03c-0ef3ccb8e5f3",
        "colab": {
          "base_uri": "https://localhost:8080/"
        }
      },
      "outputs": [
        {
          "output_type": "execute_result",
          "data": {
            "text/plain": [
              "['Find matching recipes',\n",
              " '%1x%2x%3 brick, %4 shuffling moves',\n",
              " 'The following sections will describe, in detail, each element. Everything from where they can go to what goes in them is layed out in an easy-to-follow manner.']"
            ]
          },
          "metadata": {},
          "execution_count": 108
        }
      ],
      "source": [
        "samples = test_data_flattened[\"en\"][420:423]\n",
        "samples\n"
      ]
    },
    {
      "cell_type": "code",
      "execution_count": 109,
      "id": "2589662a",
      "metadata": {
        "id": "2589662a",
        "outputId": "50deebd1-07c5-40bd-f8d2-4ebd16bf2804",
        "colab": {
          "base_uri": "https://localhost:8080/"
        }
      },
      "outputs": [
        {
          "output_type": "execute_result",
          "data": {
            "text/plain": [
              "[{'translation_text': 'Trouver des recettes correspondantes'},\n",
              " {'translation_text': '%1x%2x%3 brique, %4 mouvements de shuffling'},\n",
              " {'translation_text': \"Les sections suivantes décrivent, en détail, chaque élément. Tout de l'endroit où ils peuvent aller à ce qui s'y passe est exposé de manière facile à suivre.\"}]"
            ]
          },
          "metadata": {},
          "execution_count": 109
        }
      ],
      "source": [
        "gen_kwargs = {\"length_penalty\": 0.8, \"num_beams\": 8, \"max_length\": 128}\n",
        "translations = custom_pipeline(samples, **gen_kwargs)\n",
        "translations\n"
      ]
    },
    {
      "cell_type": "markdown",
      "id": "94b28bf1",
      "metadata": {
        "id": "94b28bf1"
      },
      "source": [
        "## <font color = 'pickle'> **Prediction for large dataset**"
      ]
    },
    {
      "cell_type": "code",
      "execution_count": 110,
      "id": "2bb55c47",
      "metadata": {
        "id": "2bb55c47"
      },
      "outputs": [],
      "source": [
        "gen_kwargs = {\"length_penalty\": 0.8, \"num_beams\": 8, \"max_length\": 400}\n",
        "custom_pipeline = pipeline(\n",
        "    task=\"translation\",\n",
        "    model=checkpoint,\n",
        "    tokenizer=checkpoint,\n",
        "    device=0,\n",
        "    framework = 'pt'\n",
        ")\n",
        "translations = custom_pipeline(test_data_flattened['en'], **gen_kwargs, batch_size=16)"
      ]
    },
    {
      "cell_type": "code",
      "execution_count": 111,
      "id": "3e9175cd",
      "metadata": {
        "id": "3e9175cd",
        "outputId": "968a8f9b-0185-4004-ba5e-a4b8ee5384b7",
        "colab": {
          "base_uri": "https://localhost:8080/"
        }
      },
      "outputs": [
        {
          "output_type": "execute_result",
          "data": {
            "text/plain": [
              "[{'translation_text': 'Haut de la page & Y & #160;:'},\n",
              " {'translation_text': '–'},\n",
              " {'translation_text': 'Capitaliser le texte sélectionné ou le mot courant.'},\n",
              " {'translation_text': 'Ouvrir & konqueror;.'},\n",
              " {'translation_text': 'Chemins de recherche'},\n",
              " {'translation_text': 'Réduire à Grayscale'},\n",
              " {'translation_text': \"L'utilisateur ne peut modifier aucun paramètre sur cette page.\"},\n",
              " {'translation_text': 'Générer'},\n",
              " {'translation_text': 'Vietnamien (Vietnam)'},\n",
              " {'translation_text': 'Sélectionner le style à importer & #160;:'},\n",
              " {'translation_text': 'Cisco - Hub'},\n",
              " {'translation_text': \"Impossible de lire l'en-tête de la base de données %1.\"},\n",
              " {'translation_text': 'Serveur trouvé, connexion...'},\n",
              " {'translation_text': 'Hôte'},\n",
              " {'translation_text': 'Envoyer un & fichier'},\n",
              " {'translation_text': 'toute la journée'},\n",
              " {'translation_text': 'exameneur; examenseur; Em'},\n",
              " {'translation_text': \"L'alias est le nom que vous voulez donner à votre compte. Il devrait être unique. Vous pouvez avoir plusieurs connexions au même service de sorte que l'alias vous permet de leur donner des noms.\"},\n",
              " {'translation_text': 'Le & dataditor;'},\n",
              " {'translation_text': 'htdig'},\n",
              " {'translation_text': \"Activer cette option si les messages importants ne doivent jamais être supprimés pendant l'expiration du message, & cf; pendant la suppression automatique des messages anciens.\"},\n",
              " {'translation_text': 'Verbeux'},\n",
              " {'translation_text': \"Configurer une répétition d'alarme supplémentaire\"},\n",
              " {'translation_text': \"Le nombre d'octets lus. Voir ce que c'est pour plus d'informations.\"},\n",
              " {'translation_text': 'Feuilles de tissu'},\n",
              " {'translation_text': \"Sélectionnez la région dans laquelle vous voulez utiliser les vacances ici. Les vacances définies sont affichées comme des jours non ouvrables dans le navigateur de date, la vue de l'agenda, etc.\"},\n",
              " {'translation_text': 'Mason'},\n",
              " {'translation_text': 'Masque'},\n",
              " {'translation_text': 'Allemagne'},\n",
              " {'translation_text': 'Cliquez trois fois pour sélectionner la phrase entière.'},\n",
              " {'translation_text': 'Chinois (PRC)'},\n",
              " {'translation_text': 'secondes'},\n",
              " {'translation_text': 'Cyan, Noir'},\n",
              " {'translation_text': 'Ne modifiez pas les données réelles du moteur.'},\n",
              " {'translation_text': \"Impossible d'insérer la ligne parce qu'elle ne contient pas la clé principale de la table maître entière.\"},\n",
              " {'translation_text': '& Marque de la branche & #160;:'},\n",
              " {'translation_text': \"Système d'impression LPD & UNIX; générique (par défaut)\"},\n",
              " {'translation_text': 'BESSELK(3; 9) renvoie 397.95880'},\n",
              " {'translation_text': 'Supprimer'},\n",
              " {'translation_text': 'Modifier'},\n",
              " {'translation_text': \"Insérez une image raster. Ceux-ci ne sont pas aussi facilement graduables que les images vectorielles ou clipart. & kpresenter; comprend actuellement de nombreux formats, y compris. tiff,. jpg,. png et bien d'autres.\"},\n",
              " {'translation_text': 'Les mots de passe correspondent.'},\n",
              " {'translation_text': 'Fichiers de données espagnols & #160;: eXParTaKus expartakus@expartakus. com'},\n",
              " {'translation_text': 'Taille du rect pour les mesures'},\n",
              " {'translation_text': \"Vérifiez si le nom du fichier qui se trouve dans le texte des éléments doit être analysé. Ceci n'a de sens que si l'élément peut contenir un nom de fichier et si le fichierNameRx est spécifié.\"},\n",
              " {'translation_text': 'Ctrl; N Fichier'},\n",
              " {'translation_text': 'GUI XML'},\n",
              " {'translation_text': 'Détails'},\n",
              " {'translation_text': 'Cochez cette case si vous voulez rechercher des articles Journal qui correspondent aux critères de recherche.'},\n",
              " {'translation_text': 'Validation de & XML;'},\n",
              " {'translation_text': '& Fichier'},\n",
              " {'translation_text': 'Création de widgets & kommander;'},\n",
              " {'translation_text': \"Si cette case est cochée, Konqueror n'affichera que les signets dans la barre d'outils du signet que vous avez marqué pour le faire dans l'éditeur de signet.\"},\n",
              " {'translation_text': '& kaddressbook;'},\n",
              " {'translation_text': 'Mot de passe incorrect, veuillez réessayer.'},\n",
              " {'translation_text': 'Nom du champ'},\n",
              " {'translation_text': 'Configuration du système'},\n",
              " {'translation_text': 'Nicolas Ternisien'},\n",
              " {'translation_text': 'Internet Movie Database'},\n",
              " {'translation_text': 'Impossible de déterminer le système de partition de fichiers du secteur %1 sur le périphérique %2.'},\n",
              " {'translation_text': \"Sélectionner la vue de l'outil à ajouter\"},\n",
              " {'translation_text': 'Définir si les fractions doivent être réduites.'},\n",
              " {'translation_text': \"Réaction à l' invitation\"},\n",
              " {'translation_text': 'Allemand (mise en page du clavier Neo 2)'},\n",
              " {'translation_text': 'Effacer la liste des signets.'},\n",
              " {'translation_text': 'Album de mon ami'},\n",
              " {'translation_text': 'Configuration du cadre pour %1'},\n",
              " {'translation_text': 'Containment'},\n",
              " {'translation_text': \"Aucun indice de n'importe quelle couleur dans les tons gris\"},\n",
              " {'translation_text': \"compare et fusionne deux ou trois fichiers ou répertoires d'entrée de texte,\"},\n",
              " {'translation_text': \"Redimensionner l'image du titre %1 à %2x%3\"},\n",
              " {'translation_text': 'Quitter facilement une application D-Bus activée'},\n",
              " {'translation_text': 'Max Blazejak'},\n",
              " {'translation_text': 'Nom de la session manquante'},\n",
              " {'translation_text': \"Kate utilise deux formes différentes de modules, à savoir les modules pour l'application & kate; et les modules pour le composant de l'éditeur & kate;. Ce dernier est disponible pour toute application utilisant le composant de l'éditeur, comme KDevelop, Quanta, Kile, Kwrite et bien d'autres, tandis que les modules d'application sont spécifiques à l'application & kate;.\"},\n",
              " {'translation_text': 'Faire défiler le message vers le bas'},\n",
              " {'translation_text': 'Enregistrer la liste des utilisateurs?'},\n",
              " {'translation_text': '%1 contacté. En attente de réponse...'},\n",
              " {'translation_text': 'Utilisez le fichier de configuration spécifié.'},\n",
              " {'translation_text': 'Longueur & #160;:'},\n",
              " {'translation_text': 'La boîte de dialogue & kpresenter; Create Memory Stick Diaporama (extended).'},\n",
              " {'translation_text': 'Divers'},\n",
              " {'translation_text': 'Service de recherche'},\n",
              " {'translation_text': 'Réglage manuel de la vitesse du ventilateur. Ceci n\\'est efficace que lorsque la vitesse est réglée sur \"Manuel\".'},\n",
              " {'translation_text': \"La connaissance des mathématiques ou de la langue n'est pas nécessaire pour résoudre les énigmes de & kappname;.\"},\n",
              " {'translation_text': 'Stephan Binner'},\n",
              " {'translation_text': \"Fournit une boîte de texte pour faciliter l'accès aux moteurs de recherche comme Google.\"},\n",
              " {'translation_text': 'Nouveau point de sauvegarde'},\n",
              " {'translation_text': 'Canal vers le bas'},\n",
              " {'translation_text': 'Utilisez le chiffrement si le serveur le demande.'},\n",
              " {'translation_text': \"C'est la liste des images à télécharger vers la cible spécifiée.\"},\n",
              " {'translation_text': 'Documentation copyright 2002, 2003, 2005 & Anders. Lund; & Anders. Lund. mail;'},\n",
              " {'translation_text': 'Si cela ne commence pas avec un /, alors il est supposé être relatif à la racine du serveur. Le paramètre par défaut est / var/ log/ cups/ error_log.'},\n",
              " {'translation_text': 'Masse molaire du solvant'},\n",
              " {'translation_text': 'Aléatoire'},\n",
              " {'translation_text': 'min'},\n",
              " {'translation_text': 'Contrôle de la lecture (PBC)'},\n",
              " {'translation_text': 'Début tardif calculé & #160;: %1'},\n",
              " {'translation_text': \"Le calcul de l'histogramme a échoué.\"},\n",
              " {'translation_text': 'Spraycan'},\n",
              " {'translation_text': 'Curseur Big LB'},\n",
              " {'translation_text': 'Basculer & Augmenter'},\n",
              " {'translation_text': 'Équipes de traduction KDE'},\n",
              " {'translation_text': 'bradh@frogmouth. net'},\n",
              " {'translation_text': 'H'},\n",
              " {'translation_text': '& Ctrl; Maj; B'},\n",
              " {'translation_text': '& Chercher'},\n",
              " {'translation_text': 'kdeaddons'},\n",
              " {'translation_text': 'RIDGE VERT'},\n",
              " {'translation_text': 'Choisir les contacts à imprimer'},\n",
              " {'translation_text': 'Marque & kruler; une longueur moyenne - environ 640 pixels de long.'},\n",
              " {'translation_text': \"Si vous préférez vérifier l'orthographe explicitement, plutôt que automatiquement, vous pouvez aussi forcer l'orthographe... vérifier ici.\"},\n",
              " {'translation_text': \"Utiliser le texte pour étiquetter les objets de la liste d'observation\"},\n",
              " {'translation_text': 'Réduire toutes les catégories'},\n",
              " {'translation_text': \"Ce menu contient une option pour obtenir un indice (s'il y en a un). Les jeux de championnat et de tutorial ont des indices à chaque niveau. D'autres jeux ont rarement des indices. Il contient également des options pour rejouer des enregistrements de jeu, comme lors de démonstrations, montrant des exemples de solutions et rejouant vos propres efforts.\"},\n",
              " {'translation_text': 'Substrat'},\n",
              " {'translation_text': 'Bulqizë'},\n",
              " {'translation_text': \"Erreur lors de l'ouverture du fichier %1. %2.\"},\n",
              " {'translation_text': \"& Ouvrir l' emplacement\"},\n",
              " {'translation_text': 'Ajouter une classe pour la génération de code'},\n",
              " {'translation_text': \"Les options personnelles se rapportent à votre identité personnelle, et d'autres choses diverses qui ne relèvent d'aucune des autres catégories générales.\"},\n",
              " {'translation_text': 'Applique les paramètres actuels dans le module actuellement ouvert.'},\n",
              " {'translation_text': 'Disque'},\n",
              " {'translation_text': 'c) 2001-2002 Alexander Neundorf'},\n",
              " {'translation_text': 'Sprite de Cavalry point supérieur gauche x-coordinate. Ceci est donné relativement à la partie supérieure gauche de la carte, dimensionné comme défini dans le widget de définition de la peau principale. Cette valeur sera automatiquement mise à jour si vous déplacez la cavalerie.'},\n",
              " {'translation_text': 'Dvorak - ABCD'},\n",
              " {'translation_text': 'Avancé'},\n",
              " {'translation_text': \"Calculer l'heure standard\"},\n",
              " {'translation_text': 'Renommer le fichier, le dossier, etc.'},\n",
              " {'translation_text': 'Rendu indirect'},\n",
              " {'translation_text': 'Emplacement'},\n",
              " {'translation_text': \"Exécution de l'état sur un élément externe à %1.\"},\n",
              " {'translation_text': '6 caractères'},\n",
              " {'translation_text': 'Hobart'},\n",
              " {'translation_text': 'Par défaut du projet'},\n",
              " {'translation_text': 'La boîte de dialogue de configuration de & bombardier; vous permet de sélectionner des thèmes visuels pour & bombardier;.'},\n",
              " {'translation_text': '& Orientation'},\n",
              " {'translation_text': 'Coordonnée Y'},\n",
              " {'translation_text': 'Un gestionnaire de fenêtres keyboard-friendly avec des fenêtres carrelées, basé sur PWM'},\n",
              " {'translation_text': 'Cisco - Interrupteur vocal'},\n",
              " {'translation_text': \"Cette option spécifie le nombre d'espaces utilisés par Tidy pour identifier le contenu, lorsque l'indentation est activée.\"},\n",
              " {'translation_text': 'Coordonnée & Grille'},\n",
              " {'translation_text': '& La première rangée contient des en-têtes'},\n",
              " {'translation_text': 'Bonne signature depuis & %1 ID de la clé & #160;: %2'},\n",
              " {'translation_text': 'Degrés Rankine'},\n",
              " {'translation_text': 'Cabano'},\n",
              " {'translation_text': 'Si cochée, les objets du catalogue Messier seront cachés lorsque la carte sera en mouvement.'},\n",
              " {'translation_text': 'Tube RFB entrant'},\n",
              " {'translation_text': \"Si vous utilisez un serveur de nouvelles local, les articles n'apparaissent que si le serveur de nouvelles les a déjà obtenus depuis Internet; si vous utilisez leafnode, cela se fait par le programme fetchnews.\"},\n",
              " {'translation_text': 'Lancement rapide'},\n",
              " {'translation_text': 'HP; JetDirect Protocol Direct TCP/ IP Printing'},\n",
              " {'translation_text': 'KDevelop GUI Builder basé sur Qt Designer'},\n",
              " {'translation_text': 'Nombre de cercles'},\n",
              " {'translation_text': 'Oklahoma'},\n",
              " {'translation_text': 'semaine'},\n",
              " {'translation_text': '& Charger la liste des chaînes depuis le fichier...'},\n",
              " {'translation_text': 'A partir du curseur'},\n",
              " {'translation_text': \"Si les messages ne sont pas cochés, ils seront toujours stockés non chiffrés dans votre dossier d'envoi, même s'ils sont cryptés.\"},\n",
              " {'translation_text': 'CRÉDIT_FOR_TRANSLATORS'},\n",
              " {'translation_text': \"Sélectionne tout le texte dans la fenêtre de l'éditeur.\"},\n",
              " {'translation_text': \"La connexion peut ne pas contenir d'espaces ou de colons !\"},\n",
              " {'translation_text': 'Re_démarrer'},\n",
              " {'translation_text': 'Little Four Joys'},\n",
              " {'translation_text': \"Choisissez le type de base de données que vous souhaitez utiliser. La plupart des utilisateurs voudront choisir ici une simple base de données locale. Cependant, vous pouvez également utiliser des serveurs distants au moyen d'une base de données MySQL ou PostgreSQLTM.\"},\n",
              " {'translation_text': 'Moyenne'},\n",
              " {'translation_text': \"La demande d'abonnement a échoué.\"},\n",
              " {'translation_text': 'Masse atomique'},\n",
              " {'translation_text': 'Exporte les certificats sélectionnés dans un fichier.'},\n",
              " {'translation_text': 'Vibrorg'},\n",
              " {'translation_text': 'Voile douches'},\n",
              " {'translation_text': 'Sortir du script'},\n",
              " {'translation_text': 'Écraser le fichier ?'},\n",
              " {'translation_text': 'Utiliser & stateful crypting'},\n",
              " {'translation_text': 'Périodes de neige humide'},\n",
              " {'translation_text': 'Activer le débogueur'},\n",
              " {'translation_text': 'La Massana'},\n",
              " {'translation_text': 'Accès aux applications cachées minimisé dans le plateau du système'},\n",
              " {'translation_text': 'Auteur original'},\n",
              " {'translation_text': 'K'},\n",
              " {'translation_text': '& kappname;'},\n",
              " {'translation_text': \"Utiliser l'affichage du serveur X 'affiche le nom '\"},\n",
              " {'translation_text': \"Environnement qui permet à LaTeX d'imprimer exactement ce que vous saisissez. Dans cette variante, les espaces sont imprimés d'une manière spéciale.\"},\n",
              " {'translation_text': 'Auteur'},\n",
              " {'translation_text': 'Compte préféré'},\n",
              " {'translation_text': \"une entrée de marque d' arrêt\"},\n",
              " {'translation_text': 'Ce filtre, maintenant, affiche tous les articles, pas plus de 3 jours, contenant knode dans le sujet.'},\n",
              " {'translation_text': 'Changer le facteur de formulaire'},\n",
              " {'translation_text': 'Kevin Krammer'},\n",
              " {'translation_text': \"Les appareils et programmes suivants n'ont pas pu être mis à jour & #160;:\"},\n",
              " {'translation_text': 'V'},\n",
              " {'translation_text': 'Heritage acls'},\n",
              " {'translation_text': 'Commentaire & #160;: %1'},\n",
              " {'translation_text': '*. mac_BAR_Maxima batch File'},\n",
              " {'translation_text': 'Impossible de télécharger le message daté %1 de %2 avec le sujet %3 vers le serveur.'},\n",
              " {'translation_text': \"Extension non valable, manquante'manifest. xml 'ou'source. tar. bz2'\"},\n",
              " {'translation_text': 'ESSID & #160;:'},\n",
              " {'translation_text': 'Afficher à la taille réelle dans une vue différente. Sinon, cliquez avec le bouton du milieu de la souris sur la bande dessinée.'},\n",
              " {'translation_text': 'Serveur MySQL trouvé & #160;: %1'},\n",
              " {'translation_text': '& Refaire'},\n",
              " {'translation_text': 'Solveur & #160;: ce jeu est perdu.'},\n",
              " {'translation_text': '& Démo principale'},\n",
              " {'translation_text': 'AppleSingle'},\n",
              " {'translation_text': 'Comment laisser des messages sur le serveur ?'},\n",
              " {'translation_text': 'SAO/ R96P'},\n",
              " {'translation_text': 'Si vous avez des plugins & konqueror; installés, il y aura des entrées supplémentaires dans le menu Outils. Consultez le chapitre Plugins de konqueror; pour plus de détails.'},\n",
              " {'translation_text': 'Vitesse de chargement assurée'},\n",
              " {'translation_text': 'Cacher les formulaires'},\n",
              " {'translation_text': 'Agrafer toutes les 12 feuilles'},\n",
              " {'translation_text': \"KWord Filtre d'importation WordPerfect\"},\n",
              " {'translation_text': 'Semences moyennes connectées par torrent de course'},\n",
              " {'translation_text': 'Créer un nouveau dossier de modèle'},\n",
              " {'translation_text': 'Quelques trucs et astuces'},\n",
              " {'translation_text': 'KDE'},\n",
              " {'translation_text': \"Calculer l'expression\"},\n",
              " {'translation_text': 'Ordre de tri par défaut'},\n",
              " {'translation_text': 'Insérer une boîte de texte'},\n",
              " {'translation_text': 'Affiche la présentation avec un visionneur & PostScript;, exactement comme si elle était imprimée.'},\n",
              " {'translation_text': 'Support pour de nombreuses villes en Slovaquie, mais avec des données statiques. Il y a aussi support pour bratislava avec des données dynamiques.'},\n",
              " {'translation_text': 'Mirror Format est incorrect. Il doit être valide http, ftp, ou URL de fichier'},\n",
              " {'translation_text': 'Propriétés du timbre'},\n",
              " {'translation_text': 'Parallèlement'},\n",
              " {'translation_text': \"Cette dernière fonction mentionnée n'a pas été largement utilisée à l'intérieur de & kde; jusqu'à présent, car les développeurs ne sont pas encore pleinement conscients de la puissance de & kdeprint;. Attendez-vous à en avoir d'autres dans un avenir proche. Un exemple que j'ai découvert est l'application & kcron;. Il vous permet de modifier le crontab à travers un & GUI;. Les développeurs ont implémenté une fonction d'impression qui vous permet (ou la racine) de choisir si vous voulez imprimer l'ensemble du crontab (pour tous les utilisateurs) ou simplement la partie qui est marquée. Vous pouvez voir les effets sur & kdeprint; dans les captures d'écran suivantes.\"},\n",
              " {'translation_text': 'Faire compter la note de marge sur le corps du texte'},\n",
              " {'translation_text': 'Exporter vers le destinataire'},\n",
              " {'translation_text': 'Rafraîchit les périphériques & #160;: cette commande force & partman; à analyser et à lire à nouveau les périphériques de votre ordinateur. Cela peut par exemple être utile si vous vous branchez sur un disque dur USB externe après avoir démarré & partman;.'},\n",
              " {'translation_text': 'Fog/ brume de pluie légère'},\n",
              " {'translation_text': 'Tous les bureaux'},\n",
              " {'translation_text': 'KMathTrigGraphPart'},\n",
              " {'translation_text': '& Chiffrer le message'},\n",
              " {'translation_text': 'Exercice de conversion'},\n",
              " {'translation_text': \"Une fois le modem dans l'état de la commande, vous pouvez l'envoyer. Pour le raccrocher, envoyez la commande ATH. Les codes d'échappement et la chaîne d'attente utilisée par & kppp; sont affichés dans la boîte de dialogue Modem Commands. Ceux-ci doivent correspondre à votre modem.\"},\n",
              " {'translation_text': 'O'},\n",
              " {'translation_text': 'Copier toutes les pages (non triées)'},\n",
              " {'translation_text': 'Std dev. & #160;:'},\n",
              " {'translation_text': 'Éditable & #160;:'},\n",
              " {'translation_text': 'Dollar des Îles Salomon'},\n",
              " {'translation_text': 'Commandes à éditer'},\n",
              " {'translation_text': 'Réseau, DNS, itinéraires, interfaces'},\n",
              " {'translation_text': 'Luminosité'},\n",
              " {'translation_text': 'Nauru'},\n",
              " {'translation_text': 'Cadran vocal'},\n",
              " {'translation_text': 'Taille du bouton & #160;:'},\n",
              " {'translation_text': 'Critique'},\n",
              " {'translation_text': 'Félicitations! Vous avez résolu le niveau %1 avec %2 moves! Avancer vers le suivant?'},\n",
              " {'translation_text': 'Boîte de dialogue'},\n",
              " {'translation_text': '... et la FAQ K3b ne vous aide pas...'},\n",
              " {'translation_text': 'Gilles Calier'},\n",
              " {'translation_text': 'En sélectionnant K Bouton Applications Configuration du système.'},\n",
              " {'translation_text': 'Qualité à laquelle une carte animée est peinte.'},\n",
              " {'translation_text': 'Nouveaux sous-clés & #160;:'},\n",
              " {'translation_text': 'Impossible de créer une mise en page sans nom.'},\n",
              " {'translation_text': 'En cours'},\n",
              " {'translation_text': \"Artiste de l'icône Kompare\"},\n",
              " {'translation_text': \"Activer/ Désactiver l' œil de l' oiseau\"},\n",
              " {'translation_text': 'Tableau'},\n",
              " {'translation_text': 'Exécuter néanmoins'},\n",
              " {'translation_text': 'Velocity'},\n",
              " {'translation_text': 'Remarques & #160;:'},\n",
              " {'translation_text': 'Fichier et paramètres du programme.'},\n",
              " {'translation_text': \"Pas de nom d' option donné\"},\n",
              " {'translation_text': \"Sélectionner l' année & Images\"},\n",
              " {'translation_text': 'Dollar guyanais'},\n",
              " {'translation_text': '& knetwalk;, un jeu pour les administrateurs système.'},\n",
              " {'translation_text': \"Menus définis par l' utilisateur\"},\n",
              " {'translation_text': 'Définit un jour de semaine et une semaine spécifique dans le mois sur lequel cet événement ou à faire doit se reproduire'},\n",
              " {'translation_text': 'Passwd discussion timeout & #160;:'},\n",
              " {'translation_text': '& Déplacement/ redimensionnement'},\n",
              " {'translation_text': '& Augmenter le volume'},\n",
              " {'translation_text': '0123456789'},\n",
              " {'translation_text': 'Pager'},\n",
              " {'translation_text': 'KImageMapEditor'},\n",
              " {'translation_text': 'Interruption'},\n",
              " {'translation_text': 'Folio américain'},\n",
              " {'translation_text': 'Le mot de passe que vous avez saisi a une faible force. Pour améliorer la force du mot de passe, essayez & #160;: - en utilisant un mot de passe plus long; - en utilisant un mélange de lettres majuscules et minuscules; - en utilisant des nombres ou des symboles ainsi que des lettres. Voulez-vous utiliser ce mot de passe de toute façon & #160;?'},\n",
              " {'translation_text': 'Ajouter un suivi'},\n",
              " {'translation_text': 'ou'},\n",
              " {'translation_text': \"Si cochée, le clic droit sur un élément le sélectionnera, mais ne désélectionnera pas d'autres éléments déjà sélectionnés.\"},\n",
              " {'translation_text': \"Trouver la prochaine occurrence d'un morceau de texte dans une présentation.\"},\n",
              " {'translation_text': 'Verbe'},\n",
              " {'translation_text': 'Configurer le partage de fichiers...'},\n",
              " {'translation_text': 'Impossible de créer des menus (peut-être %1 manquant ou corrompu)'},\n",
              " {'translation_text': \"Avertissement d'encodage de fichier\"},\n",
              " {'translation_text': 'Aller à & #160;:'},\n",
              " {'translation_text': \"Page d'exportation\"},\n",
              " {'translation_text': 'Aliments importés'},\n",
              " {'translation_text': 'Afrique/ Conakry'},\n",
              " {'translation_text': 'Protocole de messagerie instantanée de KAddressbook'},\n",
              " {'translation_text': 'Tom Albers'},\n",
              " {'translation_text': 'Glossaire'},\n",
              " {'translation_text': \"Charge la liste des bases de données depuis le serveur, de sorte que vous pouvez en sélectionner une à l'aide de la boîte combo « Nom ».\"},\n",
              " {'translation_text': 'Kugar'},\n",
              " {'translation_text': 'localErrorRatio'},\n",
              " {'translation_text': 'Chemin vers les sous-titres externes'},\n",
              " {'translation_text': 'Document à ouvrir'},\n",
              " {'translation_text': 'Ngultrum'},\n",
              " {'translation_text': 'Temps depuis la première séance de pratique en jours'},\n",
              " {'translation_text': '& Annuler'},\n",
              " {'translation_text': 'Description'},\n",
              " {'translation_text': 'Algorithme slider'},\n",
              " {'translation_text': \"Manuel de l'utilisateur de & kde;\"},\n",
              " {'translation_text': \"Mise à jour de l'étiquette, de la branche ou de la date\"},\n",
              " {'translation_text': 'Stdin est vide, pas de travail envoyé.'},\n",
              " {'translation_text': \"Re & #160;: c'est un test\"},\n",
              " {'translation_text': 'Objets dans le ciel'},\n",
              " {'translation_text': \"Basculer l'affichage des étiquettes de noms de planètes\"},\n",
              " {'translation_text': '& Signaler un bogue...'},\n",
              " {'translation_text': 'La bibliographie est une section en dehors de votre document principal, et un exemple de code pour la bibliographie ressemblerait à ce qui suit:'},\n",
              " {'translation_text': '160 kbs'},\n",
              " {'translation_text': 'Modifier'},\n",
              " {'translation_text': 'Secret & #160;: %1'},\n",
              " {'translation_text': 'Long Middle Short Cone Space (gonfle 32 bits/ canal)'},\n",
              " {'translation_text': \"Information sur le droit d'auteur sur le mot croisé\"},\n",
              " {'translation_text': 'Manuel & klettres;'},\n",
              " {'translation_text': \"J'ai fait une bonne image et je veux la partager avec mes amis. Puis-je l'enregistrer en tant qu'image ?\"},\n",
              " {'translation_text': 'Tamil'},\n",
              " {'translation_text': 'AutoLoginDelay'},\n",
              " {'translation_text': 'CHAR(65) renvoie « A »'},\n",
              " {'translation_text': 'Vérifiez les jours de la semaine qui sont des jours de travail'},\n",
              " {'translation_text': 'ISO A9'},\n",
              " {'translation_text': \"Réglez la longueur de l'arc de votre tarte.\"},\n",
              " {'translation_text': 'Notification de nouveaux messages'},\n",
              " {'translation_text': \"Le logiciel n'est pas en cours d'exécution\"},\n",
              " {'translation_text': 'Choisissez simplement les conditions que vous souhaitez inclure dans votre recherche, puis cliquez sur OK pour créer votre liste de lecture de recherche!'},\n",
              " {'translation_text': 'Vue DUChain'},\n",
              " {'translation_text': 'Basculer vers le mode Affichage par défaut.'},\n",
              " {'translation_text': 'Cliquez ensuite sur le bouton flèche droite pour le placer dans le panneau droit.'},\n",
              " {'translation_text': 'Apparence'},\n",
              " {'translation_text': 'Ce manuel décrit & kteatime;, le théière & kde;.'},\n",
              " {'translation_text': 'Adresse'},\n",
              " {'translation_text': 'retardAnnuler'},\n",
              " {'translation_text': \"Avec ce champ d'entrée, vous spécifiez le dossier que vous voulez charger pour créer le nouveau dictionnaire.\"},\n",
              " {'translation_text': 'Inverser'},\n",
              " {'translation_text': 'Crée une image RVB blanche de 1600 x 1200 pixels.'},\n",
              " {'translation_text': 'ROLES_OF_TRANSLATORS'},\n",
              " {'translation_text': 'RLE'},\n",
              " {'translation_text': 'Configuration des modèles'},\n",
              " {'translation_text': \"Spécifier le comportement d'une session à choix multiples\"},\n",
              " {'translation_text': 'Définir le nom...'},\n",
              " {'translation_text': 'En décochant la case Sons, les effets sonores de & clignote; seront supprimés.'},\n",
              " {'translation_text': 'Seuil & #160;:'},\n",
              " {'translation_text': 'Circuit - Capacitateur vertical'},\n",
              " {'translation_text': 'Aller'},\n",
              " {'translation_text': '& Fichier'},\n",
              " {'translation_text': 'Quitter & kguitar;'},\n",
              " {'translation_text': 'Propriété'},\n",
              " {'translation_text': 'Golf'},\n",
              " {'translation_text': \"Abréviation pour S synchrone P eripheral O perations O n L ine; SPOOL ing permet aux applications d'impression (et aux utilisateurs) de poursuivre leur travail pendant que le travail est pris en charge par un démon système, qui stocke le fichier à un emplacement temporaire jusqu'à ce que l'imprimante soit prête à imprimer.\"},\n",
              " {'translation_text': 'Peter Hedlund'},\n",
              " {'translation_text': '... vous pouvez appuyer sur +, -, CTRL + ou CTRL - pour changer rapidement les dates.'},\n",
              " {'translation_text': \"Basculer l' orientation de fractionnement\"},\n",
              " {'translation_text': '& kolourpaint; est un programme de peinture libre et facile à utiliser pour & kde;.'},\n",
              " {'translation_text': 'Charger'},\n",
              " {'translation_text': 'Veuillez insérer un support DVD vide ou appendable dans le lecteur%1'},\n",
              " {'translation_text': 'Menkent'},\n",
              " {'translation_text': 'Tous & #160;:'},\n",
              " {'translation_text': 'vide'},\n",
              " {'translation_text': 'Lorsque & kappname; démarre, vous êtes présenté avec un menu principal.'},\n",
              " {'translation_text': 'Planifier la mise à jour de la demande'},\n",
              " {'translation_text': 'Construisez une courbe de Bézier quadratique avec ce point de contrôle'},\n",
              " {'translation_text': '%1 rupiahs'},\n",
              " {'translation_text': 'Afrique/ Dar_es_Salaam'},\n",
              " {'translation_text': 'Préfixes numériques et chiffres romains'},\n",
              " {'translation_text': 'Écrire le lead-out peut prendre un certain temps.'},\n",
              " {'translation_text': 'Slider %1'},\n",
              " {'translation_text': 'Aperçu...'},\n",
              " {'translation_text': \"Importation de certificat & #160;: le certificat CA n'a pas pu être extrait.\"},\n",
              " {'translation_text': 'kuser'},\n",
              " {'translation_text': '192 kbs'},\n",
              " {'translation_text': \"Si cette option est cochée, K3b vérifiera la configuration du système pour tout problème au démarrage et lorsque l'utilisateur change les paramètres.\"},\n",
              " {'translation_text': \"L'ASAR BATTLEFIELD\"},\n",
              " {'translation_text': 'Est native se déplaçant (possiblement wobbling windows) active'},\n",
              " {'translation_text': 'Marge supérieure'},\n",
              " {'translation_text': 'Kile'},\n",
              " {'translation_text': 'Le menu Fichier'},\n",
              " {'translation_text': \"& Solveur d'équation...\"},\n",
              " {'translation_text': 'Développeur de base et auteur original'},\n",
              " {'translation_text': 'M3 est également courant, mais différent sur de nombreuses marques'},\n",
              " {'translation_text': 'Nouvelle contrainte...'},\n",
              " {'translation_text': '& Pamela. Roberts;'},\n",
              " {'translation_text': 'Jujuy (JY)'},\n",
              " {'translation_text': \"suffixe d'achèvement de Nick & #160;:\"},\n",
              " {'translation_text': 'Ctrl; - Affichage'},\n",
              " {'translation_text': \"& Paragraphe tiret par touches de barre d' outils & #160;:\"},\n",
              " {'translation_text': 'Jeu de minigolf KDE'},\n",
              " {'translation_text': 'Guadalajara'},\n",
              " {'translation_text': '& Album'},\n",
              " {'translation_text': 'et modifiez-le & #160;:'},\n",
              " {'translation_text': 'Flèche circulaire'},\n",
              " {'translation_text': '& Exporter le pilote...'},\n",
              " {'translation_text': '& Lauri. Watts; & Lauri. Watts. mail;'},\n",
              " {'translation_text': '4.400'},\n",
              " {'translation_text': 'MPEG Layer 2 (mp2)'},\n",
              " {'translation_text': 'Préserver la luminosité'},\n",
              " {'translation_text': '1.90'},\n",
              " {'translation_text': '(Défaut) Désactiver la prévention du vol pour XV'},\n",
              " {'translation_text': 'Choisissez comment combiner les options que vous spécifiez ici avec les options par défaut définies dans les paramètres de KPlayer. Par défaut utilise les options des paramètres de KPlayer, définissez Pour les remplacer par les options définies ici, et ajoutez ces options aux options par défaut.'},\n",
              " {'translation_text': 'K3bSetup – modifier la permission de gravure sur CD/ DVD avec K3b'},\n",
              " {'translation_text': \"Eva Brucherseifer pour l'écriture de KMath (kbruch; 's & GUI; est basé sur ce travail)\"},\n",
              " {'translation_text': \"Temps %1 & #160;: %2 & #160;: %3. %4 n'est pas valable.\"},\n",
              " {'translation_text': \"Affiche la correspondance actuelle des lettres de réponse aux nombres d'indices.\"},\n",
              " {'translation_text': \"Indique si les fichiers organisés renommeront des fichiers de sorte qu'ils ne contiennent que des caractères ASCII 7 bits.\"},\n",
              " {'translation_text': 'Clés de confiance disponibles'},\n",
              " {'translation_text': 'Dans les deux cas, & kspread; supposera que les données sont sous forme CSV et ouvrira une boîte de dialogue vous permettant de contrôler la manière dont les données sont extraites du fichier ou du presse-papiers et placées dans les cellules de la feuille de travail.'},\n",
              " {'translation_text': 'graphiques. xml'},\n",
              " {'translation_text': 'Impossible de supprimer le webseed %1, il fait partie du torrent.'},\n",
              " {'translation_text': 'Pour importer un fichier de données existant, saisissez son nom de fichier ici. Vous décrirez ensuite le contenu du fichier ci-dessous. Vous pouvez laisser le nom de fichier vide pour construire un fichier de catalogue avec un en-tête valide, mais pas de données.'},\n",
              " {'translation_text': \"Barre d' outils principale\"},\n",
              " {'translation_text': \"Enregistrer les modifications d' objets\"},\n",
              " {'translation_text': 'Jens Herden'},\n",
              " {'translation_text': 'Importation de certificats...'},\n",
              " {'translation_text': 'Renommer'},\n",
              " {'translation_text': 'chartreuse1'},\n",
              " {'translation_text': 'Dernière déclaration réconciliée & #160;: %1'},\n",
              " {'translation_text': 'Il semble que nous ayons été redirigés vers un autre serveur; je ne sais pas comment gérer cela.'},\n",
              " {'translation_text': 'Connexion'},\n",
              " {'translation_text': \"Les options suivantes déterminent les aspects de base de l'opération:\"},\n",
              " {'translation_text': 'Adresse Hw'},\n",
              " {'translation_text': 'Résistance du signal & #160;:'},\n",
              " {'translation_text': \"La suppression des objets se fait en les sélectionnant d'abord, puis en faisant l'un ou l'autre de ces choix & #160;:\"},\n",
              " {'translation_text': 'Chemin'},\n",
              " {'translation_text': 'Trouver des recettes correspondantes'},\n",
              " {'translation_text': '%1x%2x%3 brique, %4 mouvements de shuffling'},\n",
              " {'translation_text': \"Les sections suivantes décrivent, en détail, chaque élément. Tout de l'endroit où ils peuvent aller à ce qui s'y passe est exposé de manière facile à suivre.\"},\n",
              " {'translation_text': 'c), 2003 Cornelius Schumacher'},\n",
              " {'translation_text': 'Les actions montées seront affichées dans une vue de liste.'},\n",
              " {'translation_text': 'Comparaison de 2 fichiers & #160;:'},\n",
              " {'translation_text': 'Kjumpingcube'},\n",
              " {'translation_text': 'Message'},\n",
              " {'translation_text': \"Pour déterminer si un fichier de signets donné a été fusionné dans les signets de l'utilisateur déjà ou non, & kbookmarkmerger; regarde simplement le nom du fichier de signets - le contenu n'est pas coché du tout. Cela signifie que changer un fichier de signets qui a déjà été fusionné dans les signets d'un utilisateur ne déclenchera pas la fusion une fois de plus.\"},\n",
              " {'translation_text': 'OpenOffice Polska LLC'},\n",
              " {'translation_text': 'République du Congo'},\n",
              " {'translation_text': \"Permet aux entrées de la session actuelle d'être envoyées simultanément aux sessions sélectionnées par l'utilisateur (plus d'informations)\"},\n",
              " {'translation_text': 'lignes'},\n",
              " {'translation_text': 'Pourrait déterminer le projet actif'},\n",
              " {'translation_text': 'Coller le contenu du presse-papiers...'},\n",
              " {'translation_text': 'Si cela est désactivé et que vous appuyez sur la touche tabulateur, un tabulaire est inséré, sinon le nombre approprié de caractères est inséré.'},\n",
              " {'translation_text': 'Active/ Désactive la construction de document ANT (Java)'},\n",
              " {'translation_text': 'Jaune'},\n",
              " {'translation_text': 'Créer une nouvelle collection'},\n",
              " {'translation_text': 'Le groupe auquel doit appartenir la socket de commande globale; peut être soit un nom, soit un identifiant numérique.'},\n",
              " {'translation_text': \"Utilisez les paramètres de cache HTML à l'échelle de KDE lors du téléchargement des flux, afin d'éviter le trafic inutile. Désactivez seulement lorsque cela est nécessaire.\"},\n",
              " {'translation_text': 'KDE'},\n",
              " {'translation_text': 'Pluton'},\n",
              " {'translation_text': 'Inconnu'},\n",
              " {'translation_text': 'Configurer'},\n",
              " {'translation_text': 'Source'},\n",
              " {'translation_text': 'Envelopper les longues lignes'},\n",
              " {'translation_text': 'Le menu Fichier'},\n",
              " {'translation_text': \"Si activé, le facteur de zoom sur un cadre n'est appliqué qu'au texte.\"},\n",
              " {'translation_text': 'Utilisateur & #160;:'},\n",
              " {'translation_text': \"Le mimetype spécifié n'a pas d'usine de composants installée\"},\n",
              " {'translation_text': \"La séquence clé « & #160; %1 & #160; » est ambiguë. Utiliser & #160; « & #160; Configurer les raccourcis & #160; » depuis le menu « & #160; Réglages & #160; » pour résoudre l'ambiguïté. Aucune action ne sera déclenchée.\"},\n",
              " {'translation_text': 'Il y a beaucoup de fonctionnalités que vous pouvez ajouter à votre document qui le rendront plus lisible et convivial. Vous pouvez ajouter des fonctionnalités telles que des polices spécifiques, des caractères gras, des italiques, souligner & etc; à votre document, et ces commandes se terminent par une commande \\\\\\\\end, ou à la fin de votre environnement.'},\n",
              " {'translation_text': '10.345 Lsh 3 = donne aussi 80.'},\n",
              " {'translation_text': 'Antonio Aloisio'},\n",
              " {'translation_text': \"Ouvrir un fichier de base, puis déposer sa version modifiée dans la vue Sync primaire, puis Alt; Down ou Alt; Up (souvenez-vous que les raccourcis peuvent être modifiés d'une manière habituelle pour toutes les applications de & kde;) pour naviguer à travers les entrées qui sont différentes.\"},\n",
              " {'translation_text': 'Paraguay Guarani'},\n",
              " {'translation_text': 'Inverser/écraser le mode.'},\n",
              " {'translation_text': 'Argon'},\n",
              " {'translation_text': 'Limite de chargement'},\n",
              " {'translation_text': \"Barre d' outils Stick\"},\n",
              " {'translation_text': '*.svg_BAR_Scalable Vec tor Graphics'},\n",
              " {'translation_text': 'Janet'},\n",
              " {'translation_text': \"Vos choix ici affectent chaque application & kde; qui rend HTML avec le propre rendu de & kde;, qui s'appelle khtml. Ceux-ci comprennent & kmail;, & khelpcenter; et bien sûr & konqueror;. Les choix ici n'affectent pas d'autres navigateurs comme & Netscape;.\"},\n",
              " {'translation_text': \"Vous êtes sur le point de recréer l'index du dossier %1. Ceci détruira toutes les informations sur l'état du message. Voulez-vous vraiment continuer & #160;?\"},\n",
              " {'translation_text': \"Les raccourcis standard et les raccourcis globaux fonctionnent exactement de la même manière. En fait, d'une certaine manière, les raccourcis standard ou d'application sont aussi globaux. La seule différence est & #160;:\"},\n",
              " {'translation_text': '& Largeur'},\n",
              " {'translation_text': \"HotSync est désactivé parce que KPilot n'a pas pu déterminer l'état de l'économiseur d'écran. Vous pouvez désactiver cette fonction de sécurité en décochant la 'ne pas synchroniser lorsque l'économiseur d'écran est actif' dans la page HotSync de la boîte de dialogue de configuration.\"},\n",
              " {'translation_text': 'Un widget de boîte combo'},\n",
              " {'translation_text': \"Mes articles n'apparaissent pas dans le groupe de discussion.\"},\n",
              " {'translation_text': '& Pipe vers le terminal'},\n",
              " {'translation_text': 'Tailles spécifiées sont incohérentes!'},\n",
              " {'translation_text': 'IP & #160;:'},\n",
              " {'translation_text': 'Afficher le nombre de & lignes'},\n",
              " {'translation_text': \"Utilisation de la barre d' outils & #160;: cliquez sur l'icône\"},\n",
              " {'translation_text': '(C) 2005 - 2009, Les développeurs KGet (C) 2001 - 2002, Patrick Charbonnier (C) 2002, Carsten Pfeiffer (C) 1998 - 2000, Matej Koss'},\n",
              " {'translation_text': 'sous-sous-section: une section secondaire entre le sous-paragraphe et le paragraphe.'},\n",
              " {'translation_text': \"Dans vous pouvez voir la boîte de dialogue qui vous aide à importer un projet en tant que module. Pour accéder à la boîte de dialogue d'importation de & cervisia;, choisissez l'élément du menu Importer... du dépôt.\"},\n",
              " {'translation_text': 'Bevel & #160;:'},\n",
              " {'translation_text': \"Albums sans couverture qui n'affiche que les albums qui n'ont pas d'images de couverture.\"},\n",
              " {'translation_text': 'pas de configuration de version (erreur de programmeur)'},\n",
              " {'translation_text': 'Oui, yeux rouges, lumière de retour'},\n",
              " {'translation_text': \"D'autres vies peuvent être gagnées en attrapant le don de vie supplémentaire.\"},\n",
              " {'translation_text': \"Impossible d'utiliser le modificateur final sur un membre de classe abstrait.\"},\n",
              " {'translation_text': 'Ajouter aux listes de lecture'},\n",
              " {'translation_text': 'Utiliser une autre couleur de fond'},\n",
              " {'translation_text': 'Crédits'},\n",
              " {'translation_text': \"Vous avez besoin d'une variable et d'une valeur ou d'une variable pour faire un '='\"},\n",
              " {'translation_text': 'Adresse commerciale Rue'},\n",
              " {'translation_text': 'Retyper le mot de passe & #160;:'},\n",
              " {'translation_text': 'Option de menu de fichiers pour créer un diaporama HTML...'},\n",
              " {'translation_text': 'Afficher le texte défilant'},\n",
              " {'translation_text': 'Porto Rico (USA)'},\n",
              " {'translation_text': 'Hauteur & #160;:'},\n",
              " {'translation_text': 'Pause le jeu'},\n",
              " {'translation_text': 'État & #160;: %1'},\n",
              " {'translation_text': \"Si la case Activer l'anti-aliasing est cochée, la méthode anti-aliasing non récursive sera utilisée pour rendre la scène. Vous pouvez configurer les valeurs de profondeur et de seuil. Voir la section Modes de rendu pour une description détaillée des paramètres.\"},\n",
              " {'translation_text': 'Erreur'},\n",
              " {'translation_text': \"Je ne peux pas faire un '< =' sans 2 variables\"},\n",
              " {'translation_text': 'Aller sur le site Web de KDE'}]"
            ]
          },
          "metadata": {},
          "execution_count": 111
        }
      ],
      "source": [
        "translations"
      ]
    }
  ],
  "metadata": {
    "accelerator": "GPU",
    "colab": {
      "gpuType": "T4",
      "provenance": []
    },
    "kernelspec": {
      "display_name": "Python 3",
      "name": "python3"
    },
    "language_info": {
      "codemirror_mode": {
        "name": "ipython",
        "version": 3
      },
      "file_extension": ".py",
      "mimetype": "text/x-python",
      "name": "python",
      "nbconvert_exporter": "python",
      "pygments_lexer": "ipython3",
      "version": "3.9.13"
    },
    "widgets": {
      "application/vnd.jupyter.widget-state+json": {
        "2a41f02c7b5b4a07a55eddb7a7d65bc6": {
          "model_module": "@jupyter-widgets/controls",
          "model_name": "HBoxModel",
          "model_module_version": "1.5.0",
          "state": {
            "_dom_classes": [],
            "_model_module": "@jupyter-widgets/controls",
            "_model_module_version": "1.5.0",
            "_model_name": "HBoxModel",
            "_view_count": null,
            "_view_module": "@jupyter-widgets/controls",
            "_view_module_version": "1.5.0",
            "_view_name": "HBoxView",
            "box_style": "",
            "children": [
              "IPY_MODEL_8f726136a7e548c1b0e9bf2f670c0930",
              "IPY_MODEL_7b7da1ea3b934add83c7193a77f37559",
              "IPY_MODEL_af912781fc634b7c87511287a310f405"
            ],
            "layout": "IPY_MODEL_02ead66066104081a65b497889eb0a30"
          }
        },
        "8f726136a7e548c1b0e9bf2f670c0930": {
          "model_module": "@jupyter-widgets/controls",
          "model_name": "HTMLModel",
          "model_module_version": "1.5.0",
          "state": {
            "_dom_classes": [],
            "_model_module": "@jupyter-widgets/controls",
            "_model_module_version": "1.5.0",
            "_model_name": "HTMLModel",
            "_view_count": null,
            "_view_module": "@jupyter-widgets/controls",
            "_view_module_version": "1.5.0",
            "_view_name": "HTMLView",
            "description": "",
            "description_tooltip": null,
            "layout": "IPY_MODEL_32ed924496b54f45974213c62af93edc",
            "placeholder": "​",
            "style": "IPY_MODEL_e71a0d6d428540d8b9e1a78e5d8d9dd8",
            "value": "Map: 100%"
          }
        },
        "7b7da1ea3b934add83c7193a77f37559": {
          "model_module": "@jupyter-widgets/controls",
          "model_name": "FloatProgressModel",
          "model_module_version": "1.5.0",
          "state": {
            "_dom_classes": [],
            "_model_module": "@jupyter-widgets/controls",
            "_model_module_version": "1.5.0",
            "_model_name": "FloatProgressModel",
            "_view_count": null,
            "_view_module": "@jupyter-widgets/controls",
            "_view_module_version": "1.5.0",
            "_view_name": "ProgressView",
            "bar_style": "success",
            "description": "",
            "description_tooltip": null,
            "layout": "IPY_MODEL_2667fa82cb084215b6c49677e5cc19fd",
            "max": 1000,
            "min": 0,
            "orientation": "horizontal",
            "style": "IPY_MODEL_736fad2af7644b9d85de03ffb4ea433a",
            "value": 1000
          }
        },
        "af912781fc634b7c87511287a310f405": {
          "model_module": "@jupyter-widgets/controls",
          "model_name": "HTMLModel",
          "model_module_version": "1.5.0",
          "state": {
            "_dom_classes": [],
            "_model_module": "@jupyter-widgets/controls",
            "_model_module_version": "1.5.0",
            "_model_name": "HTMLModel",
            "_view_count": null,
            "_view_module": "@jupyter-widgets/controls",
            "_view_module_version": "1.5.0",
            "_view_name": "HTMLView",
            "description": "",
            "description_tooltip": null,
            "layout": "IPY_MODEL_4c2c2fcb5d40492189768ef6b027eacf",
            "placeholder": "​",
            "style": "IPY_MODEL_fe1d7c2541b54f4585d50797255aa18d",
            "value": " 1000/1000 [00:00&lt;00:00, 2787.30 examples/s]"
          }
        },
        "02ead66066104081a65b497889eb0a30": {
          "model_module": "@jupyter-widgets/base",
          "model_name": "LayoutModel",
          "model_module_version": "1.2.0",
          "state": {
            "_model_module": "@jupyter-widgets/base",
            "_model_module_version": "1.2.0",
            "_model_name": "LayoutModel",
            "_view_count": null,
            "_view_module": "@jupyter-widgets/base",
            "_view_module_version": "1.2.0",
            "_view_name": "LayoutView",
            "align_content": null,
            "align_items": null,
            "align_self": null,
            "border": null,
            "bottom": null,
            "display": null,
            "flex": null,
            "flex_flow": null,
            "grid_area": null,
            "grid_auto_columns": null,
            "grid_auto_flow": null,
            "grid_auto_rows": null,
            "grid_column": null,
            "grid_gap": null,
            "grid_row": null,
            "grid_template_areas": null,
            "grid_template_columns": null,
            "grid_template_rows": null,
            "height": null,
            "justify_content": null,
            "justify_items": null,
            "left": null,
            "margin": null,
            "max_height": null,
            "max_width": null,
            "min_height": null,
            "min_width": null,
            "object_fit": null,
            "object_position": null,
            "order": null,
            "overflow": null,
            "overflow_x": null,
            "overflow_y": null,
            "padding": null,
            "right": null,
            "top": null,
            "visibility": null,
            "width": null
          }
        },
        "32ed924496b54f45974213c62af93edc": {
          "model_module": "@jupyter-widgets/base",
          "model_name": "LayoutModel",
          "model_module_version": "1.2.0",
          "state": {
            "_model_module": "@jupyter-widgets/base",
            "_model_module_version": "1.2.0",
            "_model_name": "LayoutModel",
            "_view_count": null,
            "_view_module": "@jupyter-widgets/base",
            "_view_module_version": "1.2.0",
            "_view_name": "LayoutView",
            "align_content": null,
            "align_items": null,
            "align_self": null,
            "border": null,
            "bottom": null,
            "display": null,
            "flex": null,
            "flex_flow": null,
            "grid_area": null,
            "grid_auto_columns": null,
            "grid_auto_flow": null,
            "grid_auto_rows": null,
            "grid_column": null,
            "grid_gap": null,
            "grid_row": null,
            "grid_template_areas": null,
            "grid_template_columns": null,
            "grid_template_rows": null,
            "height": null,
            "justify_content": null,
            "justify_items": null,
            "left": null,
            "margin": null,
            "max_height": null,
            "max_width": null,
            "min_height": null,
            "min_width": null,
            "object_fit": null,
            "object_position": null,
            "order": null,
            "overflow": null,
            "overflow_x": null,
            "overflow_y": null,
            "padding": null,
            "right": null,
            "top": null,
            "visibility": null,
            "width": null
          }
        },
        "e71a0d6d428540d8b9e1a78e5d8d9dd8": {
          "model_module": "@jupyter-widgets/controls",
          "model_name": "DescriptionStyleModel",
          "model_module_version": "1.5.0",
          "state": {
            "_model_module": "@jupyter-widgets/controls",
            "_model_module_version": "1.5.0",
            "_model_name": "DescriptionStyleModel",
            "_view_count": null,
            "_view_module": "@jupyter-widgets/base",
            "_view_module_version": "1.2.0",
            "_view_name": "StyleView",
            "description_width": ""
          }
        },
        "2667fa82cb084215b6c49677e5cc19fd": {
          "model_module": "@jupyter-widgets/base",
          "model_name": "LayoutModel",
          "model_module_version": "1.2.0",
          "state": {
            "_model_module": "@jupyter-widgets/base",
            "_model_module_version": "1.2.0",
            "_model_name": "LayoutModel",
            "_view_count": null,
            "_view_module": "@jupyter-widgets/base",
            "_view_module_version": "1.2.0",
            "_view_name": "LayoutView",
            "align_content": null,
            "align_items": null,
            "align_self": null,
            "border": null,
            "bottom": null,
            "display": null,
            "flex": null,
            "flex_flow": null,
            "grid_area": null,
            "grid_auto_columns": null,
            "grid_auto_flow": null,
            "grid_auto_rows": null,
            "grid_column": null,
            "grid_gap": null,
            "grid_row": null,
            "grid_template_areas": null,
            "grid_template_columns": null,
            "grid_template_rows": null,
            "height": null,
            "justify_content": null,
            "justify_items": null,
            "left": null,
            "margin": null,
            "max_height": null,
            "max_width": null,
            "min_height": null,
            "min_width": null,
            "object_fit": null,
            "object_position": null,
            "order": null,
            "overflow": null,
            "overflow_x": null,
            "overflow_y": null,
            "padding": null,
            "right": null,
            "top": null,
            "visibility": null,
            "width": null
          }
        },
        "736fad2af7644b9d85de03ffb4ea433a": {
          "model_module": "@jupyter-widgets/controls",
          "model_name": "ProgressStyleModel",
          "model_module_version": "1.5.0",
          "state": {
            "_model_module": "@jupyter-widgets/controls",
            "_model_module_version": "1.5.0",
            "_model_name": "ProgressStyleModel",
            "_view_count": null,
            "_view_module": "@jupyter-widgets/base",
            "_view_module_version": "1.2.0",
            "_view_name": "StyleView",
            "bar_color": null,
            "description_width": ""
          }
        },
        "4c2c2fcb5d40492189768ef6b027eacf": {
          "model_module": "@jupyter-widgets/base",
          "model_name": "LayoutModel",
          "model_module_version": "1.2.0",
          "state": {
            "_model_module": "@jupyter-widgets/base",
            "_model_module_version": "1.2.0",
            "_model_name": "LayoutModel",
            "_view_count": null,
            "_view_module": "@jupyter-widgets/base",
            "_view_module_version": "1.2.0",
            "_view_name": "LayoutView",
            "align_content": null,
            "align_items": null,
            "align_self": null,
            "border": null,
            "bottom": null,
            "display": null,
            "flex": null,
            "flex_flow": null,
            "grid_area": null,
            "grid_auto_columns": null,
            "grid_auto_flow": null,
            "grid_auto_rows": null,
            "grid_column": null,
            "grid_gap": null,
            "grid_row": null,
            "grid_template_areas": null,
            "grid_template_columns": null,
            "grid_template_rows": null,
            "height": null,
            "justify_content": null,
            "justify_items": null,
            "left": null,
            "margin": null,
            "max_height": null,
            "max_width": null,
            "min_height": null,
            "min_width": null,
            "object_fit": null,
            "object_position": null,
            "order": null,
            "overflow": null,
            "overflow_x": null,
            "overflow_y": null,
            "padding": null,
            "right": null,
            "top": null,
            "visibility": null,
            "width": null
          }
        },
        "fe1d7c2541b54f4585d50797255aa18d": {
          "model_module": "@jupyter-widgets/controls",
          "model_name": "DescriptionStyleModel",
          "model_module_version": "1.5.0",
          "state": {
            "_model_module": "@jupyter-widgets/controls",
            "_model_module_version": "1.5.0",
            "_model_name": "DescriptionStyleModel",
            "_view_count": null,
            "_view_module": "@jupyter-widgets/base",
            "_view_module_version": "1.2.0",
            "_view_name": "StyleView",
            "description_width": ""
          }
        },
        "fe4c0dc1a22c44a6b1dab4f2128206a9": {
          "model_module": "@jupyter-widgets/controls",
          "model_name": "HBoxModel",
          "model_module_version": "1.5.0",
          "state": {
            "_dom_classes": [],
            "_model_module": "@jupyter-widgets/controls",
            "_model_module_version": "1.5.0",
            "_model_name": "HBoxModel",
            "_view_count": null,
            "_view_module": "@jupyter-widgets/controls",
            "_view_module_version": "1.5.0",
            "_view_name": "HBoxView",
            "box_style": "",
            "children": [
              "IPY_MODEL_387e4469d7b947408d6f68fa18e9578f",
              "IPY_MODEL_4a7d2e19611d4404a1d8e983eb512050",
              "IPY_MODEL_8b972a9409164118b5051bddb133b71d"
            ],
            "layout": "IPY_MODEL_905e8c5be6c2450eaa8dc3dff411f742"
          }
        },
        "387e4469d7b947408d6f68fa18e9578f": {
          "model_module": "@jupyter-widgets/controls",
          "model_name": "HTMLModel",
          "model_module_version": "1.5.0",
          "state": {
            "_dom_classes": [],
            "_model_module": "@jupyter-widgets/controls",
            "_model_module_version": "1.5.0",
            "_model_name": "HTMLModel",
            "_view_count": null,
            "_view_module": "@jupyter-widgets/controls",
            "_view_module_version": "1.5.0",
            "_view_name": "HTMLView",
            "description": "",
            "description_tooltip": null,
            "layout": "IPY_MODEL_f6def251fc61459a9417207d94c5420f",
            "placeholder": "​",
            "style": "IPY_MODEL_23da8e028e704ef995cb36eb5cc0c7e1",
            "value": "Map: 100%"
          }
        },
        "4a7d2e19611d4404a1d8e983eb512050": {
          "model_module": "@jupyter-widgets/controls",
          "model_name": "FloatProgressModel",
          "model_module_version": "1.5.0",
          "state": {
            "_dom_classes": [],
            "_model_module": "@jupyter-widgets/controls",
            "_model_module_version": "1.5.0",
            "_model_name": "FloatProgressModel",
            "_view_count": null,
            "_view_module": "@jupyter-widgets/controls",
            "_view_module_version": "1.5.0",
            "_view_name": "ProgressView",
            "bar_style": "success",
            "description": "",
            "description_tooltip": null,
            "layout": "IPY_MODEL_05453e28b94644d08324b0b1d671b370",
            "max": 500,
            "min": 0,
            "orientation": "horizontal",
            "style": "IPY_MODEL_2251342f379e4eecbd6bd31bfe47cb28",
            "value": 500
          }
        },
        "8b972a9409164118b5051bddb133b71d": {
          "model_module": "@jupyter-widgets/controls",
          "model_name": "HTMLModel",
          "model_module_version": "1.5.0",
          "state": {
            "_dom_classes": [],
            "_model_module": "@jupyter-widgets/controls",
            "_model_module_version": "1.5.0",
            "_model_name": "HTMLModel",
            "_view_count": null,
            "_view_module": "@jupyter-widgets/controls",
            "_view_module_version": "1.5.0",
            "_view_name": "HTMLView",
            "description": "",
            "description_tooltip": null,
            "layout": "IPY_MODEL_6882d2dfc4944294aab31a52619534d4",
            "placeholder": "​",
            "style": "IPY_MODEL_c2a1da25b26046bc8bb38bfde8027489",
            "value": " 500/500 [00:00&lt;00:00, 2764.56 examples/s]"
          }
        },
        "905e8c5be6c2450eaa8dc3dff411f742": {
          "model_module": "@jupyter-widgets/base",
          "model_name": "LayoutModel",
          "model_module_version": "1.2.0",
          "state": {
            "_model_module": "@jupyter-widgets/base",
            "_model_module_version": "1.2.0",
            "_model_name": "LayoutModel",
            "_view_count": null,
            "_view_module": "@jupyter-widgets/base",
            "_view_module_version": "1.2.0",
            "_view_name": "LayoutView",
            "align_content": null,
            "align_items": null,
            "align_self": null,
            "border": null,
            "bottom": null,
            "display": null,
            "flex": null,
            "flex_flow": null,
            "grid_area": null,
            "grid_auto_columns": null,
            "grid_auto_flow": null,
            "grid_auto_rows": null,
            "grid_column": null,
            "grid_gap": null,
            "grid_row": null,
            "grid_template_areas": null,
            "grid_template_columns": null,
            "grid_template_rows": null,
            "height": null,
            "justify_content": null,
            "justify_items": null,
            "left": null,
            "margin": null,
            "max_height": null,
            "max_width": null,
            "min_height": null,
            "min_width": null,
            "object_fit": null,
            "object_position": null,
            "order": null,
            "overflow": null,
            "overflow_x": null,
            "overflow_y": null,
            "padding": null,
            "right": null,
            "top": null,
            "visibility": null,
            "width": null
          }
        },
        "f6def251fc61459a9417207d94c5420f": {
          "model_module": "@jupyter-widgets/base",
          "model_name": "LayoutModel",
          "model_module_version": "1.2.0",
          "state": {
            "_model_module": "@jupyter-widgets/base",
            "_model_module_version": "1.2.0",
            "_model_name": "LayoutModel",
            "_view_count": null,
            "_view_module": "@jupyter-widgets/base",
            "_view_module_version": "1.2.0",
            "_view_name": "LayoutView",
            "align_content": null,
            "align_items": null,
            "align_self": null,
            "border": null,
            "bottom": null,
            "display": null,
            "flex": null,
            "flex_flow": null,
            "grid_area": null,
            "grid_auto_columns": null,
            "grid_auto_flow": null,
            "grid_auto_rows": null,
            "grid_column": null,
            "grid_gap": null,
            "grid_row": null,
            "grid_template_areas": null,
            "grid_template_columns": null,
            "grid_template_rows": null,
            "height": null,
            "justify_content": null,
            "justify_items": null,
            "left": null,
            "margin": null,
            "max_height": null,
            "max_width": null,
            "min_height": null,
            "min_width": null,
            "object_fit": null,
            "object_position": null,
            "order": null,
            "overflow": null,
            "overflow_x": null,
            "overflow_y": null,
            "padding": null,
            "right": null,
            "top": null,
            "visibility": null,
            "width": null
          }
        },
        "23da8e028e704ef995cb36eb5cc0c7e1": {
          "model_module": "@jupyter-widgets/controls",
          "model_name": "DescriptionStyleModel",
          "model_module_version": "1.5.0",
          "state": {
            "_model_module": "@jupyter-widgets/controls",
            "_model_module_version": "1.5.0",
            "_model_name": "DescriptionStyleModel",
            "_view_count": null,
            "_view_module": "@jupyter-widgets/base",
            "_view_module_version": "1.2.0",
            "_view_name": "StyleView",
            "description_width": ""
          }
        },
        "05453e28b94644d08324b0b1d671b370": {
          "model_module": "@jupyter-widgets/base",
          "model_name": "LayoutModel",
          "model_module_version": "1.2.0",
          "state": {
            "_model_module": "@jupyter-widgets/base",
            "_model_module_version": "1.2.0",
            "_model_name": "LayoutModel",
            "_view_count": null,
            "_view_module": "@jupyter-widgets/base",
            "_view_module_version": "1.2.0",
            "_view_name": "LayoutView",
            "align_content": null,
            "align_items": null,
            "align_self": null,
            "border": null,
            "bottom": null,
            "display": null,
            "flex": null,
            "flex_flow": null,
            "grid_area": null,
            "grid_auto_columns": null,
            "grid_auto_flow": null,
            "grid_auto_rows": null,
            "grid_column": null,
            "grid_gap": null,
            "grid_row": null,
            "grid_template_areas": null,
            "grid_template_columns": null,
            "grid_template_rows": null,
            "height": null,
            "justify_content": null,
            "justify_items": null,
            "left": null,
            "margin": null,
            "max_height": null,
            "max_width": null,
            "min_height": null,
            "min_width": null,
            "object_fit": null,
            "object_position": null,
            "order": null,
            "overflow": null,
            "overflow_x": null,
            "overflow_y": null,
            "padding": null,
            "right": null,
            "top": null,
            "visibility": null,
            "width": null
          }
        },
        "2251342f379e4eecbd6bd31bfe47cb28": {
          "model_module": "@jupyter-widgets/controls",
          "model_name": "ProgressStyleModel",
          "model_module_version": "1.5.0",
          "state": {
            "_model_module": "@jupyter-widgets/controls",
            "_model_module_version": "1.5.0",
            "_model_name": "ProgressStyleModel",
            "_view_count": null,
            "_view_module": "@jupyter-widgets/base",
            "_view_module_version": "1.2.0",
            "_view_name": "StyleView",
            "bar_color": null,
            "description_width": ""
          }
        },
        "6882d2dfc4944294aab31a52619534d4": {
          "model_module": "@jupyter-widgets/base",
          "model_name": "LayoutModel",
          "model_module_version": "1.2.0",
          "state": {
            "_model_module": "@jupyter-widgets/base",
            "_model_module_version": "1.2.0",
            "_model_name": "LayoutModel",
            "_view_count": null,
            "_view_module": "@jupyter-widgets/base",
            "_view_module_version": "1.2.0",
            "_view_name": "LayoutView",
            "align_content": null,
            "align_items": null,
            "align_self": null,
            "border": null,
            "bottom": null,
            "display": null,
            "flex": null,
            "flex_flow": null,
            "grid_area": null,
            "grid_auto_columns": null,
            "grid_auto_flow": null,
            "grid_auto_rows": null,
            "grid_column": null,
            "grid_gap": null,
            "grid_row": null,
            "grid_template_areas": null,
            "grid_template_columns": null,
            "grid_template_rows": null,
            "height": null,
            "justify_content": null,
            "justify_items": null,
            "left": null,
            "margin": null,
            "max_height": null,
            "max_width": null,
            "min_height": null,
            "min_width": null,
            "object_fit": null,
            "object_position": null,
            "order": null,
            "overflow": null,
            "overflow_x": null,
            "overflow_y": null,
            "padding": null,
            "right": null,
            "top": null,
            "visibility": null,
            "width": null
          }
        },
        "c2a1da25b26046bc8bb38bfde8027489": {
          "model_module": "@jupyter-widgets/controls",
          "model_name": "DescriptionStyleModel",
          "model_module_version": "1.5.0",
          "state": {
            "_model_module": "@jupyter-widgets/controls",
            "_model_module_version": "1.5.0",
            "_model_name": "DescriptionStyleModel",
            "_view_count": null,
            "_view_module": "@jupyter-widgets/base",
            "_view_module_version": "1.2.0",
            "_view_name": "StyleView",
            "description_width": ""
          }
        },
        "ab8ce42709fe40bf9ab32fb179ca8592": {
          "model_module": "@jupyter-widgets/controls",
          "model_name": "HBoxModel",
          "model_module_version": "1.5.0",
          "state": {
            "_dom_classes": [],
            "_model_module": "@jupyter-widgets/controls",
            "_model_module_version": "1.5.0",
            "_model_name": "HBoxModel",
            "_view_count": null,
            "_view_module": "@jupyter-widgets/controls",
            "_view_module_version": "1.5.0",
            "_view_name": "HBoxView",
            "box_style": "",
            "children": [
              "IPY_MODEL_fe705aaf6171433b984e2e11892d7e71",
              "IPY_MODEL_0db25a2689c34512a7e7ede9bb9938dc",
              "IPY_MODEL_add3d805390f4b61a6fffec06f9819ec"
            ],
            "layout": "IPY_MODEL_4f9fe02ee1c947a6bb2ab88aeba1adc2"
          }
        },
        "fe705aaf6171433b984e2e11892d7e71": {
          "model_module": "@jupyter-widgets/controls",
          "model_name": "HTMLModel",
          "model_module_version": "1.5.0",
          "state": {
            "_dom_classes": [],
            "_model_module": "@jupyter-widgets/controls",
            "_model_module_version": "1.5.0",
            "_model_name": "HTMLModel",
            "_view_count": null,
            "_view_module": "@jupyter-widgets/controls",
            "_view_module_version": "1.5.0",
            "_view_name": "HTMLView",
            "description": "",
            "description_tooltip": null,
            "layout": "IPY_MODEL_3b23548653804be1bb0ccc2f1825c29d",
            "placeholder": "​",
            "style": "IPY_MODEL_4f56f06c97234736a15c392c9a8649c6",
            "value": "Downloading (…)okenizer_config.json: 100%"
          }
        },
        "0db25a2689c34512a7e7ede9bb9938dc": {
          "model_module": "@jupyter-widgets/controls",
          "model_name": "FloatProgressModel",
          "model_module_version": "1.5.0",
          "state": {
            "_dom_classes": [],
            "_model_module": "@jupyter-widgets/controls",
            "_model_module_version": "1.5.0",
            "_model_name": "FloatProgressModel",
            "_view_count": null,
            "_view_module": "@jupyter-widgets/controls",
            "_view_module_version": "1.5.0",
            "_view_name": "ProgressView",
            "bar_style": "success",
            "description": "",
            "description_tooltip": null,
            "layout": "IPY_MODEL_0a6de65d5ac440fda7659fb8af141b38",
            "max": 29,
            "min": 0,
            "orientation": "horizontal",
            "style": "IPY_MODEL_17e51f7a2829465c91bde30470bba076",
            "value": 29
          }
        },
        "add3d805390f4b61a6fffec06f9819ec": {
          "model_module": "@jupyter-widgets/controls",
          "model_name": "HTMLModel",
          "model_module_version": "1.5.0",
          "state": {
            "_dom_classes": [],
            "_model_module": "@jupyter-widgets/controls",
            "_model_module_version": "1.5.0",
            "_model_name": "HTMLModel",
            "_view_count": null,
            "_view_module": "@jupyter-widgets/controls",
            "_view_module_version": "1.5.0",
            "_view_name": "HTMLView",
            "description": "",
            "description_tooltip": null,
            "layout": "IPY_MODEL_c17a6693508f43ae89f6caca969cf170",
            "placeholder": "​",
            "style": "IPY_MODEL_3038c1358ba24fbb94350691580fb505",
            "value": " 29.0/29.0 [00:00&lt;00:00, 1.56kB/s]"
          }
        },
        "4f9fe02ee1c947a6bb2ab88aeba1adc2": {
          "model_module": "@jupyter-widgets/base",
          "model_name": "LayoutModel",
          "model_module_version": "1.2.0",
          "state": {
            "_model_module": "@jupyter-widgets/base",
            "_model_module_version": "1.2.0",
            "_model_name": "LayoutModel",
            "_view_count": null,
            "_view_module": "@jupyter-widgets/base",
            "_view_module_version": "1.2.0",
            "_view_name": "LayoutView",
            "align_content": null,
            "align_items": null,
            "align_self": null,
            "border": null,
            "bottom": null,
            "display": null,
            "flex": null,
            "flex_flow": null,
            "grid_area": null,
            "grid_auto_columns": null,
            "grid_auto_flow": null,
            "grid_auto_rows": null,
            "grid_column": null,
            "grid_gap": null,
            "grid_row": null,
            "grid_template_areas": null,
            "grid_template_columns": null,
            "grid_template_rows": null,
            "height": null,
            "justify_content": null,
            "justify_items": null,
            "left": null,
            "margin": null,
            "max_height": null,
            "max_width": null,
            "min_height": null,
            "min_width": null,
            "object_fit": null,
            "object_position": null,
            "order": null,
            "overflow": null,
            "overflow_x": null,
            "overflow_y": null,
            "padding": null,
            "right": null,
            "top": null,
            "visibility": null,
            "width": null
          }
        },
        "3b23548653804be1bb0ccc2f1825c29d": {
          "model_module": "@jupyter-widgets/base",
          "model_name": "LayoutModel",
          "model_module_version": "1.2.0",
          "state": {
            "_model_module": "@jupyter-widgets/base",
            "_model_module_version": "1.2.0",
            "_model_name": "LayoutModel",
            "_view_count": null,
            "_view_module": "@jupyter-widgets/base",
            "_view_module_version": "1.2.0",
            "_view_name": "LayoutView",
            "align_content": null,
            "align_items": null,
            "align_self": null,
            "border": null,
            "bottom": null,
            "display": null,
            "flex": null,
            "flex_flow": null,
            "grid_area": null,
            "grid_auto_columns": null,
            "grid_auto_flow": null,
            "grid_auto_rows": null,
            "grid_column": null,
            "grid_gap": null,
            "grid_row": null,
            "grid_template_areas": null,
            "grid_template_columns": null,
            "grid_template_rows": null,
            "height": null,
            "justify_content": null,
            "justify_items": null,
            "left": null,
            "margin": null,
            "max_height": null,
            "max_width": null,
            "min_height": null,
            "min_width": null,
            "object_fit": null,
            "object_position": null,
            "order": null,
            "overflow": null,
            "overflow_x": null,
            "overflow_y": null,
            "padding": null,
            "right": null,
            "top": null,
            "visibility": null,
            "width": null
          }
        },
        "4f56f06c97234736a15c392c9a8649c6": {
          "model_module": "@jupyter-widgets/controls",
          "model_name": "DescriptionStyleModel",
          "model_module_version": "1.5.0",
          "state": {
            "_model_module": "@jupyter-widgets/controls",
            "_model_module_version": "1.5.0",
            "_model_name": "DescriptionStyleModel",
            "_view_count": null,
            "_view_module": "@jupyter-widgets/base",
            "_view_module_version": "1.2.0",
            "_view_name": "StyleView",
            "description_width": ""
          }
        },
        "0a6de65d5ac440fda7659fb8af141b38": {
          "model_module": "@jupyter-widgets/base",
          "model_name": "LayoutModel",
          "model_module_version": "1.2.0",
          "state": {
            "_model_module": "@jupyter-widgets/base",
            "_model_module_version": "1.2.0",
            "_model_name": "LayoutModel",
            "_view_count": null,
            "_view_module": "@jupyter-widgets/base",
            "_view_module_version": "1.2.0",
            "_view_name": "LayoutView",
            "align_content": null,
            "align_items": null,
            "align_self": null,
            "border": null,
            "bottom": null,
            "display": null,
            "flex": null,
            "flex_flow": null,
            "grid_area": null,
            "grid_auto_columns": null,
            "grid_auto_flow": null,
            "grid_auto_rows": null,
            "grid_column": null,
            "grid_gap": null,
            "grid_row": null,
            "grid_template_areas": null,
            "grid_template_columns": null,
            "grid_template_rows": null,
            "height": null,
            "justify_content": null,
            "justify_items": null,
            "left": null,
            "margin": null,
            "max_height": null,
            "max_width": null,
            "min_height": null,
            "min_width": null,
            "object_fit": null,
            "object_position": null,
            "order": null,
            "overflow": null,
            "overflow_x": null,
            "overflow_y": null,
            "padding": null,
            "right": null,
            "top": null,
            "visibility": null,
            "width": null
          }
        },
        "17e51f7a2829465c91bde30470bba076": {
          "model_module": "@jupyter-widgets/controls",
          "model_name": "ProgressStyleModel",
          "model_module_version": "1.5.0",
          "state": {
            "_model_module": "@jupyter-widgets/controls",
            "_model_module_version": "1.5.0",
            "_model_name": "ProgressStyleModel",
            "_view_count": null,
            "_view_module": "@jupyter-widgets/base",
            "_view_module_version": "1.2.0",
            "_view_name": "StyleView",
            "bar_color": null,
            "description_width": ""
          }
        },
        "c17a6693508f43ae89f6caca969cf170": {
          "model_module": "@jupyter-widgets/base",
          "model_name": "LayoutModel",
          "model_module_version": "1.2.0",
          "state": {
            "_model_module": "@jupyter-widgets/base",
            "_model_module_version": "1.2.0",
            "_model_name": "LayoutModel",
            "_view_count": null,
            "_view_module": "@jupyter-widgets/base",
            "_view_module_version": "1.2.0",
            "_view_name": "LayoutView",
            "align_content": null,
            "align_items": null,
            "align_self": null,
            "border": null,
            "bottom": null,
            "display": null,
            "flex": null,
            "flex_flow": null,
            "grid_area": null,
            "grid_auto_columns": null,
            "grid_auto_flow": null,
            "grid_auto_rows": null,
            "grid_column": null,
            "grid_gap": null,
            "grid_row": null,
            "grid_template_areas": null,
            "grid_template_columns": null,
            "grid_template_rows": null,
            "height": null,
            "justify_content": null,
            "justify_items": null,
            "left": null,
            "margin": null,
            "max_height": null,
            "max_width": null,
            "min_height": null,
            "min_width": null,
            "object_fit": null,
            "object_position": null,
            "order": null,
            "overflow": null,
            "overflow_x": null,
            "overflow_y": null,
            "padding": null,
            "right": null,
            "top": null,
            "visibility": null,
            "width": null
          }
        },
        "3038c1358ba24fbb94350691580fb505": {
          "model_module": "@jupyter-widgets/controls",
          "model_name": "DescriptionStyleModel",
          "model_module_version": "1.5.0",
          "state": {
            "_model_module": "@jupyter-widgets/controls",
            "_model_module_version": "1.5.0",
            "_model_name": "DescriptionStyleModel",
            "_view_count": null,
            "_view_module": "@jupyter-widgets/base",
            "_view_module_version": "1.2.0",
            "_view_name": "StyleView",
            "description_width": ""
          }
        },
        "dd7f20cb69cc42b98663762c4573c021": {
          "model_module": "@jupyter-widgets/controls",
          "model_name": "HBoxModel",
          "model_module_version": "1.5.0",
          "state": {
            "_dom_classes": [],
            "_model_module": "@jupyter-widgets/controls",
            "_model_module_version": "1.5.0",
            "_model_name": "HBoxModel",
            "_view_count": null,
            "_view_module": "@jupyter-widgets/controls",
            "_view_module_version": "1.5.0",
            "_view_name": "HBoxView",
            "box_style": "",
            "children": [
              "IPY_MODEL_2277099404fe4afc9f3fb9a44ceedfab",
              "IPY_MODEL_c343e78a53874ffea897758ce4703944",
              "IPY_MODEL_f009c8e741244d379b7a94950763a99a"
            ],
            "layout": "IPY_MODEL_bb55f8a46b1c401aa3ec666ae29412df"
          }
        },
        "2277099404fe4afc9f3fb9a44ceedfab": {
          "model_module": "@jupyter-widgets/controls",
          "model_name": "HTMLModel",
          "model_module_version": "1.5.0",
          "state": {
            "_dom_classes": [],
            "_model_module": "@jupyter-widgets/controls",
            "_model_module_version": "1.5.0",
            "_model_name": "HTMLModel",
            "_view_count": null,
            "_view_module": "@jupyter-widgets/controls",
            "_view_module_version": "1.5.0",
            "_view_name": "HTMLView",
            "description": "",
            "description_tooltip": null,
            "layout": "IPY_MODEL_893233cad13d4a1490e279ff86d95ad6",
            "placeholder": "​",
            "style": "IPY_MODEL_c163e49b183344399bd1cb8fe30f4b45",
            "value": "Downloading (…)lve/main/config.json: 100%"
          }
        },
        "c343e78a53874ffea897758ce4703944": {
          "model_module": "@jupyter-widgets/controls",
          "model_name": "FloatProgressModel",
          "model_module_version": "1.5.0",
          "state": {
            "_dom_classes": [],
            "_model_module": "@jupyter-widgets/controls",
            "_model_module_version": "1.5.0",
            "_model_name": "FloatProgressModel",
            "_view_count": null,
            "_view_module": "@jupyter-widgets/controls",
            "_view_module_version": "1.5.0",
            "_view_name": "ProgressView",
            "bar_style": "success",
            "description": "",
            "description_tooltip": null,
            "layout": "IPY_MODEL_909f766b8c7141bcabfff6fbe12e1860",
            "max": 625,
            "min": 0,
            "orientation": "horizontal",
            "style": "IPY_MODEL_8c2d7eba6d424a75a8ac273a02e43c74",
            "value": 625
          }
        },
        "f009c8e741244d379b7a94950763a99a": {
          "model_module": "@jupyter-widgets/controls",
          "model_name": "HTMLModel",
          "model_module_version": "1.5.0",
          "state": {
            "_dom_classes": [],
            "_model_module": "@jupyter-widgets/controls",
            "_model_module_version": "1.5.0",
            "_model_name": "HTMLModel",
            "_view_count": null,
            "_view_module": "@jupyter-widgets/controls",
            "_view_module_version": "1.5.0",
            "_view_name": "HTMLView",
            "description": "",
            "description_tooltip": null,
            "layout": "IPY_MODEL_93083a7709824c36a6d6d5d06c7c324c",
            "placeholder": "​",
            "style": "IPY_MODEL_4053660b54494e6e9ae56615fc394007",
            "value": " 625/625 [00:00&lt;00:00, 49.5kB/s]"
          }
        },
        "bb55f8a46b1c401aa3ec666ae29412df": {
          "model_module": "@jupyter-widgets/base",
          "model_name": "LayoutModel",
          "model_module_version": "1.2.0",
          "state": {
            "_model_module": "@jupyter-widgets/base",
            "_model_module_version": "1.2.0",
            "_model_name": "LayoutModel",
            "_view_count": null,
            "_view_module": "@jupyter-widgets/base",
            "_view_module_version": "1.2.0",
            "_view_name": "LayoutView",
            "align_content": null,
            "align_items": null,
            "align_self": null,
            "border": null,
            "bottom": null,
            "display": null,
            "flex": null,
            "flex_flow": null,
            "grid_area": null,
            "grid_auto_columns": null,
            "grid_auto_flow": null,
            "grid_auto_rows": null,
            "grid_column": null,
            "grid_gap": null,
            "grid_row": null,
            "grid_template_areas": null,
            "grid_template_columns": null,
            "grid_template_rows": null,
            "height": null,
            "justify_content": null,
            "justify_items": null,
            "left": null,
            "margin": null,
            "max_height": null,
            "max_width": null,
            "min_height": null,
            "min_width": null,
            "object_fit": null,
            "object_position": null,
            "order": null,
            "overflow": null,
            "overflow_x": null,
            "overflow_y": null,
            "padding": null,
            "right": null,
            "top": null,
            "visibility": null,
            "width": null
          }
        },
        "893233cad13d4a1490e279ff86d95ad6": {
          "model_module": "@jupyter-widgets/base",
          "model_name": "LayoutModel",
          "model_module_version": "1.2.0",
          "state": {
            "_model_module": "@jupyter-widgets/base",
            "_model_module_version": "1.2.0",
            "_model_name": "LayoutModel",
            "_view_count": null,
            "_view_module": "@jupyter-widgets/base",
            "_view_module_version": "1.2.0",
            "_view_name": "LayoutView",
            "align_content": null,
            "align_items": null,
            "align_self": null,
            "border": null,
            "bottom": null,
            "display": null,
            "flex": null,
            "flex_flow": null,
            "grid_area": null,
            "grid_auto_columns": null,
            "grid_auto_flow": null,
            "grid_auto_rows": null,
            "grid_column": null,
            "grid_gap": null,
            "grid_row": null,
            "grid_template_areas": null,
            "grid_template_columns": null,
            "grid_template_rows": null,
            "height": null,
            "justify_content": null,
            "justify_items": null,
            "left": null,
            "margin": null,
            "max_height": null,
            "max_width": null,
            "min_height": null,
            "min_width": null,
            "object_fit": null,
            "object_position": null,
            "order": null,
            "overflow": null,
            "overflow_x": null,
            "overflow_y": null,
            "padding": null,
            "right": null,
            "top": null,
            "visibility": null,
            "width": null
          }
        },
        "c163e49b183344399bd1cb8fe30f4b45": {
          "model_module": "@jupyter-widgets/controls",
          "model_name": "DescriptionStyleModel",
          "model_module_version": "1.5.0",
          "state": {
            "_model_module": "@jupyter-widgets/controls",
            "_model_module_version": "1.5.0",
            "_model_name": "DescriptionStyleModel",
            "_view_count": null,
            "_view_module": "@jupyter-widgets/base",
            "_view_module_version": "1.2.0",
            "_view_name": "StyleView",
            "description_width": ""
          }
        },
        "909f766b8c7141bcabfff6fbe12e1860": {
          "model_module": "@jupyter-widgets/base",
          "model_name": "LayoutModel",
          "model_module_version": "1.2.0",
          "state": {
            "_model_module": "@jupyter-widgets/base",
            "_model_module_version": "1.2.0",
            "_model_name": "LayoutModel",
            "_view_count": null,
            "_view_module": "@jupyter-widgets/base",
            "_view_module_version": "1.2.0",
            "_view_name": "LayoutView",
            "align_content": null,
            "align_items": null,
            "align_self": null,
            "border": null,
            "bottom": null,
            "display": null,
            "flex": null,
            "flex_flow": null,
            "grid_area": null,
            "grid_auto_columns": null,
            "grid_auto_flow": null,
            "grid_auto_rows": null,
            "grid_column": null,
            "grid_gap": null,
            "grid_row": null,
            "grid_template_areas": null,
            "grid_template_columns": null,
            "grid_template_rows": null,
            "height": null,
            "justify_content": null,
            "justify_items": null,
            "left": null,
            "margin": null,
            "max_height": null,
            "max_width": null,
            "min_height": null,
            "min_width": null,
            "object_fit": null,
            "object_position": null,
            "order": null,
            "overflow": null,
            "overflow_x": null,
            "overflow_y": null,
            "padding": null,
            "right": null,
            "top": null,
            "visibility": null,
            "width": null
          }
        },
        "8c2d7eba6d424a75a8ac273a02e43c74": {
          "model_module": "@jupyter-widgets/controls",
          "model_name": "ProgressStyleModel",
          "model_module_version": "1.5.0",
          "state": {
            "_model_module": "@jupyter-widgets/controls",
            "_model_module_version": "1.5.0",
            "_model_name": "ProgressStyleModel",
            "_view_count": null,
            "_view_module": "@jupyter-widgets/base",
            "_view_module_version": "1.2.0",
            "_view_name": "StyleView",
            "bar_color": null,
            "description_width": ""
          }
        },
        "93083a7709824c36a6d6d5d06c7c324c": {
          "model_module": "@jupyter-widgets/base",
          "model_name": "LayoutModel",
          "model_module_version": "1.2.0",
          "state": {
            "_model_module": "@jupyter-widgets/base",
            "_model_module_version": "1.2.0",
            "_model_name": "LayoutModel",
            "_view_count": null,
            "_view_module": "@jupyter-widgets/base",
            "_view_module_version": "1.2.0",
            "_view_name": "LayoutView",
            "align_content": null,
            "align_items": null,
            "align_self": null,
            "border": null,
            "bottom": null,
            "display": null,
            "flex": null,
            "flex_flow": null,
            "grid_area": null,
            "grid_auto_columns": null,
            "grid_auto_flow": null,
            "grid_auto_rows": null,
            "grid_column": null,
            "grid_gap": null,
            "grid_row": null,
            "grid_template_areas": null,
            "grid_template_columns": null,
            "grid_template_rows": null,
            "height": null,
            "justify_content": null,
            "justify_items": null,
            "left": null,
            "margin": null,
            "max_height": null,
            "max_width": null,
            "min_height": null,
            "min_width": null,
            "object_fit": null,
            "object_position": null,
            "order": null,
            "overflow": null,
            "overflow_x": null,
            "overflow_y": null,
            "padding": null,
            "right": null,
            "top": null,
            "visibility": null,
            "width": null
          }
        },
        "4053660b54494e6e9ae56615fc394007": {
          "model_module": "@jupyter-widgets/controls",
          "model_name": "DescriptionStyleModel",
          "model_module_version": "1.5.0",
          "state": {
            "_model_module": "@jupyter-widgets/controls",
            "_model_module_version": "1.5.0",
            "_model_name": "DescriptionStyleModel",
            "_view_count": null,
            "_view_module": "@jupyter-widgets/base",
            "_view_module_version": "1.2.0",
            "_view_name": "StyleView",
            "description_width": ""
          }
        },
        "304bdeb4234a4a79a9cbb87cbf8a0840": {
          "model_module": "@jupyter-widgets/controls",
          "model_name": "HBoxModel",
          "model_module_version": "1.5.0",
          "state": {
            "_dom_classes": [],
            "_model_module": "@jupyter-widgets/controls",
            "_model_module_version": "1.5.0",
            "_model_name": "HBoxModel",
            "_view_count": null,
            "_view_module": "@jupyter-widgets/controls",
            "_view_module_version": "1.5.0",
            "_view_name": "HBoxView",
            "box_style": "",
            "children": [
              "IPY_MODEL_a8e40dd29f7d47658914b0f90444af20",
              "IPY_MODEL_efff2ef42a0b44b3b814b60e03f71740",
              "IPY_MODEL_6c2e350186d94ab88c87c95fd2338b81"
            ],
            "layout": "IPY_MODEL_45884d58f63a42e8b56a2e336724f568"
          }
        },
        "a8e40dd29f7d47658914b0f90444af20": {
          "model_module": "@jupyter-widgets/controls",
          "model_name": "HTMLModel",
          "model_module_version": "1.5.0",
          "state": {
            "_dom_classes": [],
            "_model_module": "@jupyter-widgets/controls",
            "_model_module_version": "1.5.0",
            "_model_name": "HTMLModel",
            "_view_count": null,
            "_view_module": "@jupyter-widgets/controls",
            "_view_module_version": "1.5.0",
            "_view_name": "HTMLView",
            "description": "",
            "description_tooltip": null,
            "layout": "IPY_MODEL_197afc48e9634ee39eb849ce0ce828bb",
            "placeholder": "​",
            "style": "IPY_MODEL_7913860a245045218f1e9d6ae9d91899",
            "value": "Downloading (…)solve/main/vocab.txt: 100%"
          }
        },
        "efff2ef42a0b44b3b814b60e03f71740": {
          "model_module": "@jupyter-widgets/controls",
          "model_name": "FloatProgressModel",
          "model_module_version": "1.5.0",
          "state": {
            "_dom_classes": [],
            "_model_module": "@jupyter-widgets/controls",
            "_model_module_version": "1.5.0",
            "_model_name": "FloatProgressModel",
            "_view_count": null,
            "_view_module": "@jupyter-widgets/controls",
            "_view_module_version": "1.5.0",
            "_view_name": "ProgressView",
            "bar_style": "success",
            "description": "",
            "description_tooltip": null,
            "layout": "IPY_MODEL_c3441701afb8442e9edd50c6a42cf42f",
            "max": 995526,
            "min": 0,
            "orientation": "horizontal",
            "style": "IPY_MODEL_05f1f96320b94c65a357432f7fb51ad2",
            "value": 995526
          }
        },
        "6c2e350186d94ab88c87c95fd2338b81": {
          "model_module": "@jupyter-widgets/controls",
          "model_name": "HTMLModel",
          "model_module_version": "1.5.0",
          "state": {
            "_dom_classes": [],
            "_model_module": "@jupyter-widgets/controls",
            "_model_module_version": "1.5.0",
            "_model_name": "HTMLModel",
            "_view_count": null,
            "_view_module": "@jupyter-widgets/controls",
            "_view_module_version": "1.5.0",
            "_view_name": "HTMLView",
            "description": "",
            "description_tooltip": null,
            "layout": "IPY_MODEL_3397aa81ed9a4054afdb7ba1ab6133e4",
            "placeholder": "​",
            "style": "IPY_MODEL_cc0083d405c94527990169267bc32d79",
            "value": " 996k/996k [00:00&lt;00:00, 11.5MB/s]"
          }
        },
        "45884d58f63a42e8b56a2e336724f568": {
          "model_module": "@jupyter-widgets/base",
          "model_name": "LayoutModel",
          "model_module_version": "1.2.0",
          "state": {
            "_model_module": "@jupyter-widgets/base",
            "_model_module_version": "1.2.0",
            "_model_name": "LayoutModel",
            "_view_count": null,
            "_view_module": "@jupyter-widgets/base",
            "_view_module_version": "1.2.0",
            "_view_name": "LayoutView",
            "align_content": null,
            "align_items": null,
            "align_self": null,
            "border": null,
            "bottom": null,
            "display": null,
            "flex": null,
            "flex_flow": null,
            "grid_area": null,
            "grid_auto_columns": null,
            "grid_auto_flow": null,
            "grid_auto_rows": null,
            "grid_column": null,
            "grid_gap": null,
            "grid_row": null,
            "grid_template_areas": null,
            "grid_template_columns": null,
            "grid_template_rows": null,
            "height": null,
            "justify_content": null,
            "justify_items": null,
            "left": null,
            "margin": null,
            "max_height": null,
            "max_width": null,
            "min_height": null,
            "min_width": null,
            "object_fit": null,
            "object_position": null,
            "order": null,
            "overflow": null,
            "overflow_x": null,
            "overflow_y": null,
            "padding": null,
            "right": null,
            "top": null,
            "visibility": null,
            "width": null
          }
        },
        "197afc48e9634ee39eb849ce0ce828bb": {
          "model_module": "@jupyter-widgets/base",
          "model_name": "LayoutModel",
          "model_module_version": "1.2.0",
          "state": {
            "_model_module": "@jupyter-widgets/base",
            "_model_module_version": "1.2.0",
            "_model_name": "LayoutModel",
            "_view_count": null,
            "_view_module": "@jupyter-widgets/base",
            "_view_module_version": "1.2.0",
            "_view_name": "LayoutView",
            "align_content": null,
            "align_items": null,
            "align_self": null,
            "border": null,
            "bottom": null,
            "display": null,
            "flex": null,
            "flex_flow": null,
            "grid_area": null,
            "grid_auto_columns": null,
            "grid_auto_flow": null,
            "grid_auto_rows": null,
            "grid_column": null,
            "grid_gap": null,
            "grid_row": null,
            "grid_template_areas": null,
            "grid_template_columns": null,
            "grid_template_rows": null,
            "height": null,
            "justify_content": null,
            "justify_items": null,
            "left": null,
            "margin": null,
            "max_height": null,
            "max_width": null,
            "min_height": null,
            "min_width": null,
            "object_fit": null,
            "object_position": null,
            "order": null,
            "overflow": null,
            "overflow_x": null,
            "overflow_y": null,
            "padding": null,
            "right": null,
            "top": null,
            "visibility": null,
            "width": null
          }
        },
        "7913860a245045218f1e9d6ae9d91899": {
          "model_module": "@jupyter-widgets/controls",
          "model_name": "DescriptionStyleModel",
          "model_module_version": "1.5.0",
          "state": {
            "_model_module": "@jupyter-widgets/controls",
            "_model_module_version": "1.5.0",
            "_model_name": "DescriptionStyleModel",
            "_view_count": null,
            "_view_module": "@jupyter-widgets/base",
            "_view_module_version": "1.2.0",
            "_view_name": "StyleView",
            "description_width": ""
          }
        },
        "c3441701afb8442e9edd50c6a42cf42f": {
          "model_module": "@jupyter-widgets/base",
          "model_name": "LayoutModel",
          "model_module_version": "1.2.0",
          "state": {
            "_model_module": "@jupyter-widgets/base",
            "_model_module_version": "1.2.0",
            "_model_name": "LayoutModel",
            "_view_count": null,
            "_view_module": "@jupyter-widgets/base",
            "_view_module_version": "1.2.0",
            "_view_name": "LayoutView",
            "align_content": null,
            "align_items": null,
            "align_self": null,
            "border": null,
            "bottom": null,
            "display": null,
            "flex": null,
            "flex_flow": null,
            "grid_area": null,
            "grid_auto_columns": null,
            "grid_auto_flow": null,
            "grid_auto_rows": null,
            "grid_column": null,
            "grid_gap": null,
            "grid_row": null,
            "grid_template_areas": null,
            "grid_template_columns": null,
            "grid_template_rows": null,
            "height": null,
            "justify_content": null,
            "justify_items": null,
            "left": null,
            "margin": null,
            "max_height": null,
            "max_width": null,
            "min_height": null,
            "min_width": null,
            "object_fit": null,
            "object_position": null,
            "order": null,
            "overflow": null,
            "overflow_x": null,
            "overflow_y": null,
            "padding": null,
            "right": null,
            "top": null,
            "visibility": null,
            "width": null
          }
        },
        "05f1f96320b94c65a357432f7fb51ad2": {
          "model_module": "@jupyter-widgets/controls",
          "model_name": "ProgressStyleModel",
          "model_module_version": "1.5.0",
          "state": {
            "_model_module": "@jupyter-widgets/controls",
            "_model_module_version": "1.5.0",
            "_model_name": "ProgressStyleModel",
            "_view_count": null,
            "_view_module": "@jupyter-widgets/base",
            "_view_module_version": "1.2.0",
            "_view_name": "StyleView",
            "bar_color": null,
            "description_width": ""
          }
        },
        "3397aa81ed9a4054afdb7ba1ab6133e4": {
          "model_module": "@jupyter-widgets/base",
          "model_name": "LayoutModel",
          "model_module_version": "1.2.0",
          "state": {
            "_model_module": "@jupyter-widgets/base",
            "_model_module_version": "1.2.0",
            "_model_name": "LayoutModel",
            "_view_count": null,
            "_view_module": "@jupyter-widgets/base",
            "_view_module_version": "1.2.0",
            "_view_name": "LayoutView",
            "align_content": null,
            "align_items": null,
            "align_self": null,
            "border": null,
            "bottom": null,
            "display": null,
            "flex": null,
            "flex_flow": null,
            "grid_area": null,
            "grid_auto_columns": null,
            "grid_auto_flow": null,
            "grid_auto_rows": null,
            "grid_column": null,
            "grid_gap": null,
            "grid_row": null,
            "grid_template_areas": null,
            "grid_template_columns": null,
            "grid_template_rows": null,
            "height": null,
            "justify_content": null,
            "justify_items": null,
            "left": null,
            "margin": null,
            "max_height": null,
            "max_width": null,
            "min_height": null,
            "min_width": null,
            "object_fit": null,
            "object_position": null,
            "order": null,
            "overflow": null,
            "overflow_x": null,
            "overflow_y": null,
            "padding": null,
            "right": null,
            "top": null,
            "visibility": null,
            "width": null
          }
        },
        "cc0083d405c94527990169267bc32d79": {
          "model_module": "@jupyter-widgets/controls",
          "model_name": "DescriptionStyleModel",
          "model_module_version": "1.5.0",
          "state": {
            "_model_module": "@jupyter-widgets/controls",
            "_model_module_version": "1.5.0",
            "_model_name": "DescriptionStyleModel",
            "_view_count": null,
            "_view_module": "@jupyter-widgets/base",
            "_view_module_version": "1.2.0",
            "_view_name": "StyleView",
            "description_width": ""
          }
        },
        "7bee5c4930154f0397a676a8f1832972": {
          "model_module": "@jupyter-widgets/controls",
          "model_name": "HBoxModel",
          "model_module_version": "1.5.0",
          "state": {
            "_dom_classes": [],
            "_model_module": "@jupyter-widgets/controls",
            "_model_module_version": "1.5.0",
            "_model_name": "HBoxModel",
            "_view_count": null,
            "_view_module": "@jupyter-widgets/controls",
            "_view_module_version": "1.5.0",
            "_view_name": "HBoxView",
            "box_style": "",
            "children": [
              "IPY_MODEL_329607f289bd403983671aa0a0595e32",
              "IPY_MODEL_0dbd52ab448042558910d44e18940928",
              "IPY_MODEL_3770140939cb4a4b883c56f483b4b2b7"
            ],
            "layout": "IPY_MODEL_e87f1f5c24fe4397a6aeb680a7e6056e"
          }
        },
        "329607f289bd403983671aa0a0595e32": {
          "model_module": "@jupyter-widgets/controls",
          "model_name": "HTMLModel",
          "model_module_version": "1.5.0",
          "state": {
            "_dom_classes": [],
            "_model_module": "@jupyter-widgets/controls",
            "_model_module_version": "1.5.0",
            "_model_name": "HTMLModel",
            "_view_count": null,
            "_view_module": "@jupyter-widgets/controls",
            "_view_module_version": "1.5.0",
            "_view_name": "HTMLView",
            "description": "",
            "description_tooltip": null,
            "layout": "IPY_MODEL_fe62d47169354f1b9bfbdf23fe18bb8e",
            "placeholder": "​",
            "style": "IPY_MODEL_e00a76542135487d8cb3e37c8b4cc46c",
            "value": "Downloading (…)/main/tokenizer.json: 100%"
          }
        },
        "0dbd52ab448042558910d44e18940928": {
          "model_module": "@jupyter-widgets/controls",
          "model_name": "FloatProgressModel",
          "model_module_version": "1.5.0",
          "state": {
            "_dom_classes": [],
            "_model_module": "@jupyter-widgets/controls",
            "_model_module_version": "1.5.0",
            "_model_name": "FloatProgressModel",
            "_view_count": null,
            "_view_module": "@jupyter-widgets/controls",
            "_view_module_version": "1.5.0",
            "_view_name": "ProgressView",
            "bar_style": "success",
            "description": "",
            "description_tooltip": null,
            "layout": "IPY_MODEL_1d4a39f87fae4947a6826a87ab02c02a",
            "max": 1961828,
            "min": 0,
            "orientation": "horizontal",
            "style": "IPY_MODEL_475bef8d9d4247d68d9465dd1da8c73e",
            "value": 1961828
          }
        },
        "3770140939cb4a4b883c56f483b4b2b7": {
          "model_module": "@jupyter-widgets/controls",
          "model_name": "HTMLModel",
          "model_module_version": "1.5.0",
          "state": {
            "_dom_classes": [],
            "_model_module": "@jupyter-widgets/controls",
            "_model_module_version": "1.5.0",
            "_model_name": "HTMLModel",
            "_view_count": null,
            "_view_module": "@jupyter-widgets/controls",
            "_view_module_version": "1.5.0",
            "_view_name": "HTMLView",
            "description": "",
            "description_tooltip": null,
            "layout": "IPY_MODEL_f844a58cd7bf4adcaa621e35fe2f2fe5",
            "placeholder": "​",
            "style": "IPY_MODEL_9ff26cdd275a4712a018bc3ba99609aa",
            "value": " 1.96M/1.96M [00:00&lt;00:00, 17.8MB/s]"
          }
        },
        "e87f1f5c24fe4397a6aeb680a7e6056e": {
          "model_module": "@jupyter-widgets/base",
          "model_name": "LayoutModel",
          "model_module_version": "1.2.0",
          "state": {
            "_model_module": "@jupyter-widgets/base",
            "_model_module_version": "1.2.0",
            "_model_name": "LayoutModel",
            "_view_count": null,
            "_view_module": "@jupyter-widgets/base",
            "_view_module_version": "1.2.0",
            "_view_name": "LayoutView",
            "align_content": null,
            "align_items": null,
            "align_self": null,
            "border": null,
            "bottom": null,
            "display": null,
            "flex": null,
            "flex_flow": null,
            "grid_area": null,
            "grid_auto_columns": null,
            "grid_auto_flow": null,
            "grid_auto_rows": null,
            "grid_column": null,
            "grid_gap": null,
            "grid_row": null,
            "grid_template_areas": null,
            "grid_template_columns": null,
            "grid_template_rows": null,
            "height": null,
            "justify_content": null,
            "justify_items": null,
            "left": null,
            "margin": null,
            "max_height": null,
            "max_width": null,
            "min_height": null,
            "min_width": null,
            "object_fit": null,
            "object_position": null,
            "order": null,
            "overflow": null,
            "overflow_x": null,
            "overflow_y": null,
            "padding": null,
            "right": null,
            "top": null,
            "visibility": null,
            "width": null
          }
        },
        "fe62d47169354f1b9bfbdf23fe18bb8e": {
          "model_module": "@jupyter-widgets/base",
          "model_name": "LayoutModel",
          "model_module_version": "1.2.0",
          "state": {
            "_model_module": "@jupyter-widgets/base",
            "_model_module_version": "1.2.0",
            "_model_name": "LayoutModel",
            "_view_count": null,
            "_view_module": "@jupyter-widgets/base",
            "_view_module_version": "1.2.0",
            "_view_name": "LayoutView",
            "align_content": null,
            "align_items": null,
            "align_self": null,
            "border": null,
            "bottom": null,
            "display": null,
            "flex": null,
            "flex_flow": null,
            "grid_area": null,
            "grid_auto_columns": null,
            "grid_auto_flow": null,
            "grid_auto_rows": null,
            "grid_column": null,
            "grid_gap": null,
            "grid_row": null,
            "grid_template_areas": null,
            "grid_template_columns": null,
            "grid_template_rows": null,
            "height": null,
            "justify_content": null,
            "justify_items": null,
            "left": null,
            "margin": null,
            "max_height": null,
            "max_width": null,
            "min_height": null,
            "min_width": null,
            "object_fit": null,
            "object_position": null,
            "order": null,
            "overflow": null,
            "overflow_x": null,
            "overflow_y": null,
            "padding": null,
            "right": null,
            "top": null,
            "visibility": null,
            "width": null
          }
        },
        "e00a76542135487d8cb3e37c8b4cc46c": {
          "model_module": "@jupyter-widgets/controls",
          "model_name": "DescriptionStyleModel",
          "model_module_version": "1.5.0",
          "state": {
            "_model_module": "@jupyter-widgets/controls",
            "_model_module_version": "1.5.0",
            "_model_name": "DescriptionStyleModel",
            "_view_count": null,
            "_view_module": "@jupyter-widgets/base",
            "_view_module_version": "1.2.0",
            "_view_name": "StyleView",
            "description_width": ""
          }
        },
        "1d4a39f87fae4947a6826a87ab02c02a": {
          "model_module": "@jupyter-widgets/base",
          "model_name": "LayoutModel",
          "model_module_version": "1.2.0",
          "state": {
            "_model_module": "@jupyter-widgets/base",
            "_model_module_version": "1.2.0",
            "_model_name": "LayoutModel",
            "_view_count": null,
            "_view_module": "@jupyter-widgets/base",
            "_view_module_version": "1.2.0",
            "_view_name": "LayoutView",
            "align_content": null,
            "align_items": null,
            "align_self": null,
            "border": null,
            "bottom": null,
            "display": null,
            "flex": null,
            "flex_flow": null,
            "grid_area": null,
            "grid_auto_columns": null,
            "grid_auto_flow": null,
            "grid_auto_rows": null,
            "grid_column": null,
            "grid_gap": null,
            "grid_row": null,
            "grid_template_areas": null,
            "grid_template_columns": null,
            "grid_template_rows": null,
            "height": null,
            "justify_content": null,
            "justify_items": null,
            "left": null,
            "margin": null,
            "max_height": null,
            "max_width": null,
            "min_height": null,
            "min_width": null,
            "object_fit": null,
            "object_position": null,
            "order": null,
            "overflow": null,
            "overflow_x": null,
            "overflow_y": null,
            "padding": null,
            "right": null,
            "top": null,
            "visibility": null,
            "width": null
          }
        },
        "475bef8d9d4247d68d9465dd1da8c73e": {
          "model_module": "@jupyter-widgets/controls",
          "model_name": "ProgressStyleModel",
          "model_module_version": "1.5.0",
          "state": {
            "_model_module": "@jupyter-widgets/controls",
            "_model_module_version": "1.5.0",
            "_model_name": "ProgressStyleModel",
            "_view_count": null,
            "_view_module": "@jupyter-widgets/base",
            "_view_module_version": "1.2.0",
            "_view_name": "StyleView",
            "bar_color": null,
            "description_width": ""
          }
        },
        "f844a58cd7bf4adcaa621e35fe2f2fe5": {
          "model_module": "@jupyter-widgets/base",
          "model_name": "LayoutModel",
          "model_module_version": "1.2.0",
          "state": {
            "_model_module": "@jupyter-widgets/base",
            "_model_module_version": "1.2.0",
            "_model_name": "LayoutModel",
            "_view_count": null,
            "_view_module": "@jupyter-widgets/base",
            "_view_module_version": "1.2.0",
            "_view_name": "LayoutView",
            "align_content": null,
            "align_items": null,
            "align_self": null,
            "border": null,
            "bottom": null,
            "display": null,
            "flex": null,
            "flex_flow": null,
            "grid_area": null,
            "grid_auto_columns": null,
            "grid_auto_flow": null,
            "grid_auto_rows": null,
            "grid_column": null,
            "grid_gap": null,
            "grid_row": null,
            "grid_template_areas": null,
            "grid_template_columns": null,
            "grid_template_rows": null,
            "height": null,
            "justify_content": null,
            "justify_items": null,
            "left": null,
            "margin": null,
            "max_height": null,
            "max_width": null,
            "min_height": null,
            "min_width": null,
            "object_fit": null,
            "object_position": null,
            "order": null,
            "overflow": null,
            "overflow_x": null,
            "overflow_y": null,
            "padding": null,
            "right": null,
            "top": null,
            "visibility": null,
            "width": null
          }
        },
        "9ff26cdd275a4712a018bc3ba99609aa": {
          "model_module": "@jupyter-widgets/controls",
          "model_name": "DescriptionStyleModel",
          "model_module_version": "1.5.0",
          "state": {
            "_model_module": "@jupyter-widgets/controls",
            "_model_module_version": "1.5.0",
            "_model_name": "DescriptionStyleModel",
            "_view_count": null,
            "_view_module": "@jupyter-widgets/base",
            "_view_module_version": "1.2.0",
            "_view_name": "StyleView",
            "description_width": ""
          }
        },
        "442191a7c9da4c35b36f238780334988": {
          "model_module": "@jupyter-widgets/controls",
          "model_name": "HBoxModel",
          "model_module_version": "1.5.0",
          "state": {
            "_dom_classes": [],
            "_model_module": "@jupyter-widgets/controls",
            "_model_module_version": "1.5.0",
            "_model_name": "HBoxModel",
            "_view_count": null,
            "_view_module": "@jupyter-widgets/controls",
            "_view_module_version": "1.5.0",
            "_view_name": "HBoxView",
            "box_style": "",
            "children": [
              "IPY_MODEL_ebcba546116640f28f8417e276ae2c7b",
              "IPY_MODEL_52b9bb1140d04b84945d607d13d91126",
              "IPY_MODEL_5cb5f31d86404f468febdfc3aebd7f3c"
            ],
            "layout": "IPY_MODEL_2ec1d8b8fbe64c0eb2a3b524ff25bf79"
          }
        },
        "ebcba546116640f28f8417e276ae2c7b": {
          "model_module": "@jupyter-widgets/controls",
          "model_name": "HTMLModel",
          "model_module_version": "1.5.0",
          "state": {
            "_dom_classes": [],
            "_model_module": "@jupyter-widgets/controls",
            "_model_module_version": "1.5.0",
            "_model_name": "HTMLModel",
            "_view_count": null,
            "_view_module": "@jupyter-widgets/controls",
            "_view_module_version": "1.5.0",
            "_view_name": "HTMLView",
            "description": "",
            "description_tooltip": null,
            "layout": "IPY_MODEL_c836f0095bfa4215805f9e41e8147769",
            "placeholder": "​",
            "style": "IPY_MODEL_cf90ecdf8cfb444dbae005ef93c825a2",
            "value": "Downloading model.safetensors: 100%"
          }
        },
        "52b9bb1140d04b84945d607d13d91126": {
          "model_module": "@jupyter-widgets/controls",
          "model_name": "FloatProgressModel",
          "model_module_version": "1.5.0",
          "state": {
            "_dom_classes": [],
            "_model_module": "@jupyter-widgets/controls",
            "_model_module_version": "1.5.0",
            "_model_name": "FloatProgressModel",
            "_view_count": null,
            "_view_module": "@jupyter-widgets/controls",
            "_view_module_version": "1.5.0",
            "_view_name": "ProgressView",
            "bar_style": "success",
            "description": "",
            "description_tooltip": null,
            "layout": "IPY_MODEL_1bcf1ad15c0f4b08beabc88856bd3eff",
            "max": 714290682,
            "min": 0,
            "orientation": "horizontal",
            "style": "IPY_MODEL_796e500739914a56862048e02f5a58eb",
            "value": 714290682
          }
        },
        "5cb5f31d86404f468febdfc3aebd7f3c": {
          "model_module": "@jupyter-widgets/controls",
          "model_name": "HTMLModel",
          "model_module_version": "1.5.0",
          "state": {
            "_dom_classes": [],
            "_model_module": "@jupyter-widgets/controls",
            "_model_module_version": "1.5.0",
            "_model_name": "HTMLModel",
            "_view_count": null,
            "_view_module": "@jupyter-widgets/controls",
            "_view_module_version": "1.5.0",
            "_view_name": "HTMLView",
            "description": "",
            "description_tooltip": null,
            "layout": "IPY_MODEL_dd935e8fd0184b06aa413ae0ace5771c",
            "placeholder": "​",
            "style": "IPY_MODEL_f78fb78cd4014985a9ee97d425a3c7a5",
            "value": " 714M/714M [00:02&lt;00:00, 241MB/s]"
          }
        },
        "2ec1d8b8fbe64c0eb2a3b524ff25bf79": {
          "model_module": "@jupyter-widgets/base",
          "model_name": "LayoutModel",
          "model_module_version": "1.2.0",
          "state": {
            "_model_module": "@jupyter-widgets/base",
            "_model_module_version": "1.2.0",
            "_model_name": "LayoutModel",
            "_view_count": null,
            "_view_module": "@jupyter-widgets/base",
            "_view_module_version": "1.2.0",
            "_view_name": "LayoutView",
            "align_content": null,
            "align_items": null,
            "align_self": null,
            "border": null,
            "bottom": null,
            "display": null,
            "flex": null,
            "flex_flow": null,
            "grid_area": null,
            "grid_auto_columns": null,
            "grid_auto_flow": null,
            "grid_auto_rows": null,
            "grid_column": null,
            "grid_gap": null,
            "grid_row": null,
            "grid_template_areas": null,
            "grid_template_columns": null,
            "grid_template_rows": null,
            "height": null,
            "justify_content": null,
            "justify_items": null,
            "left": null,
            "margin": null,
            "max_height": null,
            "max_width": null,
            "min_height": null,
            "min_width": null,
            "object_fit": null,
            "object_position": null,
            "order": null,
            "overflow": null,
            "overflow_x": null,
            "overflow_y": null,
            "padding": null,
            "right": null,
            "top": null,
            "visibility": null,
            "width": null
          }
        },
        "c836f0095bfa4215805f9e41e8147769": {
          "model_module": "@jupyter-widgets/base",
          "model_name": "LayoutModel",
          "model_module_version": "1.2.0",
          "state": {
            "_model_module": "@jupyter-widgets/base",
            "_model_module_version": "1.2.0",
            "_model_name": "LayoutModel",
            "_view_count": null,
            "_view_module": "@jupyter-widgets/base",
            "_view_module_version": "1.2.0",
            "_view_name": "LayoutView",
            "align_content": null,
            "align_items": null,
            "align_self": null,
            "border": null,
            "bottom": null,
            "display": null,
            "flex": null,
            "flex_flow": null,
            "grid_area": null,
            "grid_auto_columns": null,
            "grid_auto_flow": null,
            "grid_auto_rows": null,
            "grid_column": null,
            "grid_gap": null,
            "grid_row": null,
            "grid_template_areas": null,
            "grid_template_columns": null,
            "grid_template_rows": null,
            "height": null,
            "justify_content": null,
            "justify_items": null,
            "left": null,
            "margin": null,
            "max_height": null,
            "max_width": null,
            "min_height": null,
            "min_width": null,
            "object_fit": null,
            "object_position": null,
            "order": null,
            "overflow": null,
            "overflow_x": null,
            "overflow_y": null,
            "padding": null,
            "right": null,
            "top": null,
            "visibility": null,
            "width": null
          }
        },
        "cf90ecdf8cfb444dbae005ef93c825a2": {
          "model_module": "@jupyter-widgets/controls",
          "model_name": "DescriptionStyleModel",
          "model_module_version": "1.5.0",
          "state": {
            "_model_module": "@jupyter-widgets/controls",
            "_model_module_version": "1.5.0",
            "_model_name": "DescriptionStyleModel",
            "_view_count": null,
            "_view_module": "@jupyter-widgets/base",
            "_view_module_version": "1.2.0",
            "_view_name": "StyleView",
            "description_width": ""
          }
        },
        "1bcf1ad15c0f4b08beabc88856bd3eff": {
          "model_module": "@jupyter-widgets/base",
          "model_name": "LayoutModel",
          "model_module_version": "1.2.0",
          "state": {
            "_model_module": "@jupyter-widgets/base",
            "_model_module_version": "1.2.0",
            "_model_name": "LayoutModel",
            "_view_count": null,
            "_view_module": "@jupyter-widgets/base",
            "_view_module_version": "1.2.0",
            "_view_name": "LayoutView",
            "align_content": null,
            "align_items": null,
            "align_self": null,
            "border": null,
            "bottom": null,
            "display": null,
            "flex": null,
            "flex_flow": null,
            "grid_area": null,
            "grid_auto_columns": null,
            "grid_auto_flow": null,
            "grid_auto_rows": null,
            "grid_column": null,
            "grid_gap": null,
            "grid_row": null,
            "grid_template_areas": null,
            "grid_template_columns": null,
            "grid_template_rows": null,
            "height": null,
            "justify_content": null,
            "justify_items": null,
            "left": null,
            "margin": null,
            "max_height": null,
            "max_width": null,
            "min_height": null,
            "min_width": null,
            "object_fit": null,
            "object_position": null,
            "order": null,
            "overflow": null,
            "overflow_x": null,
            "overflow_y": null,
            "padding": null,
            "right": null,
            "top": null,
            "visibility": null,
            "width": null
          }
        },
        "796e500739914a56862048e02f5a58eb": {
          "model_module": "@jupyter-widgets/controls",
          "model_name": "ProgressStyleModel",
          "model_module_version": "1.5.0",
          "state": {
            "_model_module": "@jupyter-widgets/controls",
            "_model_module_version": "1.5.0",
            "_model_name": "ProgressStyleModel",
            "_view_count": null,
            "_view_module": "@jupyter-widgets/base",
            "_view_module_version": "1.2.0",
            "_view_name": "StyleView",
            "bar_color": null,
            "description_width": ""
          }
        },
        "dd935e8fd0184b06aa413ae0ace5771c": {
          "model_module": "@jupyter-widgets/base",
          "model_name": "LayoutModel",
          "model_module_version": "1.2.0",
          "state": {
            "_model_module": "@jupyter-widgets/base",
            "_model_module_version": "1.2.0",
            "_model_name": "LayoutModel",
            "_view_count": null,
            "_view_module": "@jupyter-widgets/base",
            "_view_module_version": "1.2.0",
            "_view_name": "LayoutView",
            "align_content": null,
            "align_items": null,
            "align_self": null,
            "border": null,
            "bottom": null,
            "display": null,
            "flex": null,
            "flex_flow": null,
            "grid_area": null,
            "grid_auto_columns": null,
            "grid_auto_flow": null,
            "grid_auto_rows": null,
            "grid_column": null,
            "grid_gap": null,
            "grid_row": null,
            "grid_template_areas": null,
            "grid_template_columns": null,
            "grid_template_rows": null,
            "height": null,
            "justify_content": null,
            "justify_items": null,
            "left": null,
            "margin": null,
            "max_height": null,
            "max_width": null,
            "min_height": null,
            "min_width": null,
            "object_fit": null,
            "object_position": null,
            "order": null,
            "overflow": null,
            "overflow_x": null,
            "overflow_y": null,
            "padding": null,
            "right": null,
            "top": null,
            "visibility": null,
            "width": null
          }
        },
        "f78fb78cd4014985a9ee97d425a3c7a5": {
          "model_module": "@jupyter-widgets/controls",
          "model_name": "DescriptionStyleModel",
          "model_module_version": "1.5.0",
          "state": {
            "_model_module": "@jupyter-widgets/controls",
            "_model_module_version": "1.5.0",
            "_model_name": "DescriptionStyleModel",
            "_view_count": null,
            "_view_module": "@jupyter-widgets/base",
            "_view_module_version": "1.2.0",
            "_view_name": "StyleView",
            "description_width": ""
          }
        },
        "dab36b3aca514c5591e5ee26ec64ffc4": {
          "model_module": "@jupyter-widgets/controls",
          "model_name": "VBoxModel",
          "model_module_version": "1.5.0",
          "state": {
            "_dom_classes": [],
            "_model_module": "@jupyter-widgets/controls",
            "_model_module_version": "1.5.0",
            "_model_name": "VBoxModel",
            "_view_count": null,
            "_view_module": "@jupyter-widgets/controls",
            "_view_module_version": "1.5.0",
            "_view_name": "VBoxView",
            "box_style": "",
            "children": [
              "IPY_MODEL_d5a807ad94c84084844fc5626154616c",
              "IPY_MODEL_167a4f7fa8ca4f5aa5ab2906a64e8503"
            ],
            "layout": "IPY_MODEL_fdb7ab20da0a4a10979f6e49595d0f1d"
          }
        },
        "d5a807ad94c84084844fc5626154616c": {
          "model_module": "@jupyter-widgets/controls",
          "model_name": "LabelModel",
          "model_module_version": "1.5.0",
          "state": {
            "_dom_classes": [],
            "_model_module": "@jupyter-widgets/controls",
            "_model_module_version": "1.5.0",
            "_model_name": "LabelModel",
            "_view_count": null,
            "_view_module": "@jupyter-widgets/controls",
            "_view_module_version": "1.5.0",
            "_view_name": "LabelView",
            "description": "",
            "description_tooltip": null,
            "layout": "IPY_MODEL_ed097fb2005446c4a99f6cce729e431f",
            "placeholder": "​",
            "style": "IPY_MODEL_a2c68d63a37946b08b052532ebdad27b",
            "value": "0.001 MB of 0.016 MB uploaded (0.000 MB deduped)\r"
          }
        },
        "167a4f7fa8ca4f5aa5ab2906a64e8503": {
          "model_module": "@jupyter-widgets/controls",
          "model_name": "FloatProgressModel",
          "model_module_version": "1.5.0",
          "state": {
            "_dom_classes": [],
            "_model_module": "@jupyter-widgets/controls",
            "_model_module_version": "1.5.0",
            "_model_name": "FloatProgressModel",
            "_view_count": null,
            "_view_module": "@jupyter-widgets/controls",
            "_view_module_version": "1.5.0",
            "_view_name": "ProgressView",
            "bar_style": "",
            "description": "",
            "description_tooltip": null,
            "layout": "IPY_MODEL_b373e1e9a1324970bf9c54f8e5945f4c",
            "max": 1,
            "min": 0,
            "orientation": "horizontal",
            "style": "IPY_MODEL_396216f438974a78a3fef5976d902f2b",
            "value": 0.07207731718677224
          }
        },
        "fdb7ab20da0a4a10979f6e49595d0f1d": {
          "model_module": "@jupyter-widgets/base",
          "model_name": "LayoutModel",
          "model_module_version": "1.2.0",
          "state": {
            "_model_module": "@jupyter-widgets/base",
            "_model_module_version": "1.2.0",
            "_model_name": "LayoutModel",
            "_view_count": null,
            "_view_module": "@jupyter-widgets/base",
            "_view_module_version": "1.2.0",
            "_view_name": "LayoutView",
            "align_content": null,
            "align_items": null,
            "align_self": null,
            "border": null,
            "bottom": null,
            "display": null,
            "flex": null,
            "flex_flow": null,
            "grid_area": null,
            "grid_auto_columns": null,
            "grid_auto_flow": null,
            "grid_auto_rows": null,
            "grid_column": null,
            "grid_gap": null,
            "grid_row": null,
            "grid_template_areas": null,
            "grid_template_columns": null,
            "grid_template_rows": null,
            "height": null,
            "justify_content": null,
            "justify_items": null,
            "left": null,
            "margin": null,
            "max_height": null,
            "max_width": null,
            "min_height": null,
            "min_width": null,
            "object_fit": null,
            "object_position": null,
            "order": null,
            "overflow": null,
            "overflow_x": null,
            "overflow_y": null,
            "padding": null,
            "right": null,
            "top": null,
            "visibility": null,
            "width": null
          }
        },
        "ed097fb2005446c4a99f6cce729e431f": {
          "model_module": "@jupyter-widgets/base",
          "model_name": "LayoutModel",
          "model_module_version": "1.2.0",
          "state": {
            "_model_module": "@jupyter-widgets/base",
            "_model_module_version": "1.2.0",
            "_model_name": "LayoutModel",
            "_view_count": null,
            "_view_module": "@jupyter-widgets/base",
            "_view_module_version": "1.2.0",
            "_view_name": "LayoutView",
            "align_content": null,
            "align_items": null,
            "align_self": null,
            "border": null,
            "bottom": null,
            "display": null,
            "flex": null,
            "flex_flow": null,
            "grid_area": null,
            "grid_auto_columns": null,
            "grid_auto_flow": null,
            "grid_auto_rows": null,
            "grid_column": null,
            "grid_gap": null,
            "grid_row": null,
            "grid_template_areas": null,
            "grid_template_columns": null,
            "grid_template_rows": null,
            "height": null,
            "justify_content": null,
            "justify_items": null,
            "left": null,
            "margin": null,
            "max_height": null,
            "max_width": null,
            "min_height": null,
            "min_width": null,
            "object_fit": null,
            "object_position": null,
            "order": null,
            "overflow": null,
            "overflow_x": null,
            "overflow_y": null,
            "padding": null,
            "right": null,
            "top": null,
            "visibility": null,
            "width": null
          }
        },
        "a2c68d63a37946b08b052532ebdad27b": {
          "model_module": "@jupyter-widgets/controls",
          "model_name": "DescriptionStyleModel",
          "model_module_version": "1.5.0",
          "state": {
            "_model_module": "@jupyter-widgets/controls",
            "_model_module_version": "1.5.0",
            "_model_name": "DescriptionStyleModel",
            "_view_count": null,
            "_view_module": "@jupyter-widgets/base",
            "_view_module_version": "1.2.0",
            "_view_name": "StyleView",
            "description_width": ""
          }
        },
        "b373e1e9a1324970bf9c54f8e5945f4c": {
          "model_module": "@jupyter-widgets/base",
          "model_name": "LayoutModel",
          "model_module_version": "1.2.0",
          "state": {
            "_model_module": "@jupyter-widgets/base",
            "_model_module_version": "1.2.0",
            "_model_name": "LayoutModel",
            "_view_count": null,
            "_view_module": "@jupyter-widgets/base",
            "_view_module_version": "1.2.0",
            "_view_name": "LayoutView",
            "align_content": null,
            "align_items": null,
            "align_self": null,
            "border": null,
            "bottom": null,
            "display": null,
            "flex": null,
            "flex_flow": null,
            "grid_area": null,
            "grid_auto_columns": null,
            "grid_auto_flow": null,
            "grid_auto_rows": null,
            "grid_column": null,
            "grid_gap": null,
            "grid_row": null,
            "grid_template_areas": null,
            "grid_template_columns": null,
            "grid_template_rows": null,
            "height": null,
            "justify_content": null,
            "justify_items": null,
            "left": null,
            "margin": null,
            "max_height": null,
            "max_width": null,
            "min_height": null,
            "min_width": null,
            "object_fit": null,
            "object_position": null,
            "order": null,
            "overflow": null,
            "overflow_x": null,
            "overflow_y": null,
            "padding": null,
            "right": null,
            "top": null,
            "visibility": null,
            "width": null
          }
        },
        "396216f438974a78a3fef5976d902f2b": {
          "model_module": "@jupyter-widgets/controls",
          "model_name": "ProgressStyleModel",
          "model_module_version": "1.5.0",
          "state": {
            "_model_module": "@jupyter-widgets/controls",
            "_model_module_version": "1.5.0",
            "_model_name": "ProgressStyleModel",
            "_view_count": null,
            "_view_module": "@jupyter-widgets/base",
            "_view_module_version": "1.2.0",
            "_view_name": "StyleView",
            "bar_color": null,
            "description_width": ""
          }
        },
        "bbcb521af7c648b3997b3eba8e4c713d": {
          "model_module": "@jupyter-widgets/controls",
          "model_name": "HBoxModel",
          "model_module_version": "1.5.0",
          "state": {
            "_dom_classes": [],
            "_model_module": "@jupyter-widgets/controls",
            "_model_module_version": "1.5.0",
            "_model_name": "HBoxModel",
            "_view_count": null,
            "_view_module": "@jupyter-widgets/controls",
            "_view_module_version": "1.5.0",
            "_view_name": "HBoxView",
            "box_style": "",
            "children": [
              "IPY_MODEL_73489fda6801421dbb02425c39e86255",
              "IPY_MODEL_e4e5df98cdb4473ab1245906fa8e8d89",
              "IPY_MODEL_303268e5feff469db937fde4bdd62e99"
            ],
            "layout": "IPY_MODEL_8738e5ab67744d0ead952e8241485c66"
          }
        },
        "73489fda6801421dbb02425c39e86255": {
          "model_module": "@jupyter-widgets/controls",
          "model_name": "HTMLModel",
          "model_module_version": "1.5.0",
          "state": {
            "_dom_classes": [],
            "_model_module": "@jupyter-widgets/controls",
            "_model_module_version": "1.5.0",
            "_model_name": "HTMLModel",
            "_view_count": null,
            "_view_module": "@jupyter-widgets/controls",
            "_view_module_version": "1.5.0",
            "_view_name": "HTMLView",
            "description": "",
            "description_tooltip": null,
            "layout": "IPY_MODEL_3fc30a94a2b046d3b329784a790dbbc1",
            "placeholder": "​",
            "style": "IPY_MODEL_0b25a3f56d41497b8472c93415191c05",
            "value": "Map: 100%"
          }
        },
        "e4e5df98cdb4473ab1245906fa8e8d89": {
          "model_module": "@jupyter-widgets/controls",
          "model_name": "FloatProgressModel",
          "model_module_version": "1.5.0",
          "state": {
            "_dom_classes": [],
            "_model_module": "@jupyter-widgets/controls",
            "_model_module_version": "1.5.0",
            "_model_name": "FloatProgressModel",
            "_view_count": null,
            "_view_module": "@jupyter-widgets/controls",
            "_view_module_version": "1.5.0",
            "_view_name": "ProgressView",
            "bar_style": "success",
            "description": "",
            "description_tooltip": null,
            "layout": "IPY_MODEL_c590ecd31a1a4a029a01f7f68f93cc2a",
            "max": 500,
            "min": 0,
            "orientation": "horizontal",
            "style": "IPY_MODEL_4aa2db547a4948c78fd2f7e791fd977b",
            "value": 500
          }
        },
        "303268e5feff469db937fde4bdd62e99": {
          "model_module": "@jupyter-widgets/controls",
          "model_name": "HTMLModel",
          "model_module_version": "1.5.0",
          "state": {
            "_dom_classes": [],
            "_model_module": "@jupyter-widgets/controls",
            "_model_module_version": "1.5.0",
            "_model_name": "HTMLModel",
            "_view_count": null,
            "_view_module": "@jupyter-widgets/controls",
            "_view_module_version": "1.5.0",
            "_view_name": "HTMLView",
            "description": "",
            "description_tooltip": null,
            "layout": "IPY_MODEL_221d07fff09645429da9a3bc81e49d3a",
            "placeholder": "​",
            "style": "IPY_MODEL_8eedefb3689045ba897e255c434c16f6",
            "value": " 500/500 [00:00&lt;00:00, 4335.50 examples/s]"
          }
        },
        "8738e5ab67744d0ead952e8241485c66": {
          "model_module": "@jupyter-widgets/base",
          "model_name": "LayoutModel",
          "model_module_version": "1.2.0",
          "state": {
            "_model_module": "@jupyter-widgets/base",
            "_model_module_version": "1.2.0",
            "_model_name": "LayoutModel",
            "_view_count": null,
            "_view_module": "@jupyter-widgets/base",
            "_view_module_version": "1.2.0",
            "_view_name": "LayoutView",
            "align_content": null,
            "align_items": null,
            "align_self": null,
            "border": null,
            "bottom": null,
            "display": null,
            "flex": null,
            "flex_flow": null,
            "grid_area": null,
            "grid_auto_columns": null,
            "grid_auto_flow": null,
            "grid_auto_rows": null,
            "grid_column": null,
            "grid_gap": null,
            "grid_row": null,
            "grid_template_areas": null,
            "grid_template_columns": null,
            "grid_template_rows": null,
            "height": null,
            "justify_content": null,
            "justify_items": null,
            "left": null,
            "margin": null,
            "max_height": null,
            "max_width": null,
            "min_height": null,
            "min_width": null,
            "object_fit": null,
            "object_position": null,
            "order": null,
            "overflow": null,
            "overflow_x": null,
            "overflow_y": null,
            "padding": null,
            "right": null,
            "top": null,
            "visibility": null,
            "width": null
          }
        },
        "3fc30a94a2b046d3b329784a790dbbc1": {
          "model_module": "@jupyter-widgets/base",
          "model_name": "LayoutModel",
          "model_module_version": "1.2.0",
          "state": {
            "_model_module": "@jupyter-widgets/base",
            "_model_module_version": "1.2.0",
            "_model_name": "LayoutModel",
            "_view_count": null,
            "_view_module": "@jupyter-widgets/base",
            "_view_module_version": "1.2.0",
            "_view_name": "LayoutView",
            "align_content": null,
            "align_items": null,
            "align_self": null,
            "border": null,
            "bottom": null,
            "display": null,
            "flex": null,
            "flex_flow": null,
            "grid_area": null,
            "grid_auto_columns": null,
            "grid_auto_flow": null,
            "grid_auto_rows": null,
            "grid_column": null,
            "grid_gap": null,
            "grid_row": null,
            "grid_template_areas": null,
            "grid_template_columns": null,
            "grid_template_rows": null,
            "height": null,
            "justify_content": null,
            "justify_items": null,
            "left": null,
            "margin": null,
            "max_height": null,
            "max_width": null,
            "min_height": null,
            "min_width": null,
            "object_fit": null,
            "object_position": null,
            "order": null,
            "overflow": null,
            "overflow_x": null,
            "overflow_y": null,
            "padding": null,
            "right": null,
            "top": null,
            "visibility": null,
            "width": null
          }
        },
        "0b25a3f56d41497b8472c93415191c05": {
          "model_module": "@jupyter-widgets/controls",
          "model_name": "DescriptionStyleModel",
          "model_module_version": "1.5.0",
          "state": {
            "_model_module": "@jupyter-widgets/controls",
            "_model_module_version": "1.5.0",
            "_model_name": "DescriptionStyleModel",
            "_view_count": null,
            "_view_module": "@jupyter-widgets/base",
            "_view_module_version": "1.2.0",
            "_view_name": "StyleView",
            "description_width": ""
          }
        },
        "c590ecd31a1a4a029a01f7f68f93cc2a": {
          "model_module": "@jupyter-widgets/base",
          "model_name": "LayoutModel",
          "model_module_version": "1.2.0",
          "state": {
            "_model_module": "@jupyter-widgets/base",
            "_model_module_version": "1.2.0",
            "_model_name": "LayoutModel",
            "_view_count": null,
            "_view_module": "@jupyter-widgets/base",
            "_view_module_version": "1.2.0",
            "_view_name": "LayoutView",
            "align_content": null,
            "align_items": null,
            "align_self": null,
            "border": null,
            "bottom": null,
            "display": null,
            "flex": null,
            "flex_flow": null,
            "grid_area": null,
            "grid_auto_columns": null,
            "grid_auto_flow": null,
            "grid_auto_rows": null,
            "grid_column": null,
            "grid_gap": null,
            "grid_row": null,
            "grid_template_areas": null,
            "grid_template_columns": null,
            "grid_template_rows": null,
            "height": null,
            "justify_content": null,
            "justify_items": null,
            "left": null,
            "margin": null,
            "max_height": null,
            "max_width": null,
            "min_height": null,
            "min_width": null,
            "object_fit": null,
            "object_position": null,
            "order": null,
            "overflow": null,
            "overflow_x": null,
            "overflow_y": null,
            "padding": null,
            "right": null,
            "top": null,
            "visibility": null,
            "width": null
          }
        },
        "4aa2db547a4948c78fd2f7e791fd977b": {
          "model_module": "@jupyter-widgets/controls",
          "model_name": "ProgressStyleModel",
          "model_module_version": "1.5.0",
          "state": {
            "_model_module": "@jupyter-widgets/controls",
            "_model_module_version": "1.5.0",
            "_model_name": "ProgressStyleModel",
            "_view_count": null,
            "_view_module": "@jupyter-widgets/base",
            "_view_module_version": "1.2.0",
            "_view_name": "StyleView",
            "bar_color": null,
            "description_width": ""
          }
        },
        "221d07fff09645429da9a3bc81e49d3a": {
          "model_module": "@jupyter-widgets/base",
          "model_name": "LayoutModel",
          "model_module_version": "1.2.0",
          "state": {
            "_model_module": "@jupyter-widgets/base",
            "_model_module_version": "1.2.0",
            "_model_name": "LayoutModel",
            "_view_count": null,
            "_view_module": "@jupyter-widgets/base",
            "_view_module_version": "1.2.0",
            "_view_name": "LayoutView",
            "align_content": null,
            "align_items": null,
            "align_self": null,
            "border": null,
            "bottom": null,
            "display": null,
            "flex": null,
            "flex_flow": null,
            "grid_area": null,
            "grid_auto_columns": null,
            "grid_auto_flow": null,
            "grid_auto_rows": null,
            "grid_column": null,
            "grid_gap": null,
            "grid_row": null,
            "grid_template_areas": null,
            "grid_template_columns": null,
            "grid_template_rows": null,
            "height": null,
            "justify_content": null,
            "justify_items": null,
            "left": null,
            "margin": null,
            "max_height": null,
            "max_width": null,
            "min_height": null,
            "min_width": null,
            "object_fit": null,
            "object_position": null,
            "order": null,
            "overflow": null,
            "overflow_x": null,
            "overflow_y": null,
            "padding": null,
            "right": null,
            "top": null,
            "visibility": null,
            "width": null
          }
        },
        "8eedefb3689045ba897e255c434c16f6": {
          "model_module": "@jupyter-widgets/controls",
          "model_name": "DescriptionStyleModel",
          "model_module_version": "1.5.0",
          "state": {
            "_model_module": "@jupyter-widgets/controls",
            "_model_module_version": "1.5.0",
            "_model_name": "DescriptionStyleModel",
            "_view_count": null,
            "_view_module": "@jupyter-widgets/base",
            "_view_module_version": "1.2.0",
            "_view_name": "StyleView",
            "description_width": ""
          }
        },
        "26ca03510b9f440aa86718819a38ddda": {
          "model_module": "@jupyter-widgets/controls",
          "model_name": "HBoxModel",
          "model_module_version": "1.5.0",
          "state": {
            "_dom_classes": [],
            "_model_module": "@jupyter-widgets/controls",
            "_model_module_version": "1.5.0",
            "_model_name": "HBoxModel",
            "_view_count": null,
            "_view_module": "@jupyter-widgets/controls",
            "_view_module_version": "1.5.0",
            "_view_name": "HBoxView",
            "box_style": "",
            "children": [
              "IPY_MODEL_f77c1c8d7734494290fa6819377f1502",
              "IPY_MODEL_bf4965d409ab4777918366cad5862e51",
              "IPY_MODEL_9d4078d6424f44a1bdbf0cdc362e3ea2"
            ],
            "layout": "IPY_MODEL_e3fa82243dc04d8396a1070f10522d9a"
          }
        },
        "f77c1c8d7734494290fa6819377f1502": {
          "model_module": "@jupyter-widgets/controls",
          "model_name": "HTMLModel",
          "model_module_version": "1.5.0",
          "state": {
            "_dom_classes": [],
            "_model_module": "@jupyter-widgets/controls",
            "_model_module_version": "1.5.0",
            "_model_name": "HTMLModel",
            "_view_count": null,
            "_view_module": "@jupyter-widgets/controls",
            "_view_module_version": "1.5.0",
            "_view_name": "HTMLView",
            "description": "",
            "description_tooltip": null,
            "layout": "IPY_MODEL_f81a091b8f3049fbb5fc8d8e4083c3f0",
            "placeholder": "​",
            "style": "IPY_MODEL_4848828c1f9d42b6ab067f384ceb9444",
            "value": "Downloading builder script: 100%"
          }
        },
        "bf4965d409ab4777918366cad5862e51": {
          "model_module": "@jupyter-widgets/controls",
          "model_name": "FloatProgressModel",
          "model_module_version": "1.5.0",
          "state": {
            "_dom_classes": [],
            "_model_module": "@jupyter-widgets/controls",
            "_model_module_version": "1.5.0",
            "_model_name": "FloatProgressModel",
            "_view_count": null,
            "_view_module": "@jupyter-widgets/controls",
            "_view_module_version": "1.5.0",
            "_view_name": "ProgressView",
            "bar_style": "success",
            "description": "",
            "description_tooltip": null,
            "layout": "IPY_MODEL_674253088afc4356a992a852dfa802fa",
            "max": 5937,
            "min": 0,
            "orientation": "horizontal",
            "style": "IPY_MODEL_78201f44042941df9b5125e1dc0fb814",
            "value": 5937
          }
        },
        "9d4078d6424f44a1bdbf0cdc362e3ea2": {
          "model_module": "@jupyter-widgets/controls",
          "model_name": "HTMLModel",
          "model_module_version": "1.5.0",
          "state": {
            "_dom_classes": [],
            "_model_module": "@jupyter-widgets/controls",
            "_model_module_version": "1.5.0",
            "_model_name": "HTMLModel",
            "_view_count": null,
            "_view_module": "@jupyter-widgets/controls",
            "_view_module_version": "1.5.0",
            "_view_name": "HTMLView",
            "description": "",
            "description_tooltip": null,
            "layout": "IPY_MODEL_b1abc8436cfe454681ee1e3879962d59",
            "placeholder": "​",
            "style": "IPY_MODEL_fd4ecd5e13e045c888e1efbfc7ee97b0",
            "value": " 5.94k/5.94k [00:00&lt;00:00, 251kB/s]"
          }
        },
        "e3fa82243dc04d8396a1070f10522d9a": {
          "model_module": "@jupyter-widgets/base",
          "model_name": "LayoutModel",
          "model_module_version": "1.2.0",
          "state": {
            "_model_module": "@jupyter-widgets/base",
            "_model_module_version": "1.2.0",
            "_model_name": "LayoutModel",
            "_view_count": null,
            "_view_module": "@jupyter-widgets/base",
            "_view_module_version": "1.2.0",
            "_view_name": "LayoutView",
            "align_content": null,
            "align_items": null,
            "align_self": null,
            "border": null,
            "bottom": null,
            "display": null,
            "flex": null,
            "flex_flow": null,
            "grid_area": null,
            "grid_auto_columns": null,
            "grid_auto_flow": null,
            "grid_auto_rows": null,
            "grid_column": null,
            "grid_gap": null,
            "grid_row": null,
            "grid_template_areas": null,
            "grid_template_columns": null,
            "grid_template_rows": null,
            "height": null,
            "justify_content": null,
            "justify_items": null,
            "left": null,
            "margin": null,
            "max_height": null,
            "max_width": null,
            "min_height": null,
            "min_width": null,
            "object_fit": null,
            "object_position": null,
            "order": null,
            "overflow": null,
            "overflow_x": null,
            "overflow_y": null,
            "padding": null,
            "right": null,
            "top": null,
            "visibility": null,
            "width": null
          }
        },
        "f81a091b8f3049fbb5fc8d8e4083c3f0": {
          "model_module": "@jupyter-widgets/base",
          "model_name": "LayoutModel",
          "model_module_version": "1.2.0",
          "state": {
            "_model_module": "@jupyter-widgets/base",
            "_model_module_version": "1.2.0",
            "_model_name": "LayoutModel",
            "_view_count": null,
            "_view_module": "@jupyter-widgets/base",
            "_view_module_version": "1.2.0",
            "_view_name": "LayoutView",
            "align_content": null,
            "align_items": null,
            "align_self": null,
            "border": null,
            "bottom": null,
            "display": null,
            "flex": null,
            "flex_flow": null,
            "grid_area": null,
            "grid_auto_columns": null,
            "grid_auto_flow": null,
            "grid_auto_rows": null,
            "grid_column": null,
            "grid_gap": null,
            "grid_row": null,
            "grid_template_areas": null,
            "grid_template_columns": null,
            "grid_template_rows": null,
            "height": null,
            "justify_content": null,
            "justify_items": null,
            "left": null,
            "margin": null,
            "max_height": null,
            "max_width": null,
            "min_height": null,
            "min_width": null,
            "object_fit": null,
            "object_position": null,
            "order": null,
            "overflow": null,
            "overflow_x": null,
            "overflow_y": null,
            "padding": null,
            "right": null,
            "top": null,
            "visibility": null,
            "width": null
          }
        },
        "4848828c1f9d42b6ab067f384ceb9444": {
          "model_module": "@jupyter-widgets/controls",
          "model_name": "DescriptionStyleModel",
          "model_module_version": "1.5.0",
          "state": {
            "_model_module": "@jupyter-widgets/controls",
            "_model_module_version": "1.5.0",
            "_model_name": "DescriptionStyleModel",
            "_view_count": null,
            "_view_module": "@jupyter-widgets/base",
            "_view_module_version": "1.2.0",
            "_view_name": "StyleView",
            "description_width": ""
          }
        },
        "674253088afc4356a992a852dfa802fa": {
          "model_module": "@jupyter-widgets/base",
          "model_name": "LayoutModel",
          "model_module_version": "1.2.0",
          "state": {
            "_model_module": "@jupyter-widgets/base",
            "_model_module_version": "1.2.0",
            "_model_name": "LayoutModel",
            "_view_count": null,
            "_view_module": "@jupyter-widgets/base",
            "_view_module_version": "1.2.0",
            "_view_name": "LayoutView",
            "align_content": null,
            "align_items": null,
            "align_self": null,
            "border": null,
            "bottom": null,
            "display": null,
            "flex": null,
            "flex_flow": null,
            "grid_area": null,
            "grid_auto_columns": null,
            "grid_auto_flow": null,
            "grid_auto_rows": null,
            "grid_column": null,
            "grid_gap": null,
            "grid_row": null,
            "grid_template_areas": null,
            "grid_template_columns": null,
            "grid_template_rows": null,
            "height": null,
            "justify_content": null,
            "justify_items": null,
            "left": null,
            "margin": null,
            "max_height": null,
            "max_width": null,
            "min_height": null,
            "min_width": null,
            "object_fit": null,
            "object_position": null,
            "order": null,
            "overflow": null,
            "overflow_x": null,
            "overflow_y": null,
            "padding": null,
            "right": null,
            "top": null,
            "visibility": null,
            "width": null
          }
        },
        "78201f44042941df9b5125e1dc0fb814": {
          "model_module": "@jupyter-widgets/controls",
          "model_name": "ProgressStyleModel",
          "model_module_version": "1.5.0",
          "state": {
            "_model_module": "@jupyter-widgets/controls",
            "_model_module_version": "1.5.0",
            "_model_name": "ProgressStyleModel",
            "_view_count": null,
            "_view_module": "@jupyter-widgets/base",
            "_view_module_version": "1.2.0",
            "_view_name": "StyleView",
            "bar_color": null,
            "description_width": ""
          }
        },
        "b1abc8436cfe454681ee1e3879962d59": {
          "model_module": "@jupyter-widgets/base",
          "model_name": "LayoutModel",
          "model_module_version": "1.2.0",
          "state": {
            "_model_module": "@jupyter-widgets/base",
            "_model_module_version": "1.2.0",
            "_model_name": "LayoutModel",
            "_view_count": null,
            "_view_module": "@jupyter-widgets/base",
            "_view_module_version": "1.2.0",
            "_view_name": "LayoutView",
            "align_content": null,
            "align_items": null,
            "align_self": null,
            "border": null,
            "bottom": null,
            "display": null,
            "flex": null,
            "flex_flow": null,
            "grid_area": null,
            "grid_auto_columns": null,
            "grid_auto_flow": null,
            "grid_auto_rows": null,
            "grid_column": null,
            "grid_gap": null,
            "grid_row": null,
            "grid_template_areas": null,
            "grid_template_columns": null,
            "grid_template_rows": null,
            "height": null,
            "justify_content": null,
            "justify_items": null,
            "left": null,
            "margin": null,
            "max_height": null,
            "max_width": null,
            "min_height": null,
            "min_width": null,
            "object_fit": null,
            "object_position": null,
            "order": null,
            "overflow": null,
            "overflow_x": null,
            "overflow_y": null,
            "padding": null,
            "right": null,
            "top": null,
            "visibility": null,
            "width": null
          }
        },
        "fd4ecd5e13e045c888e1efbfc7ee97b0": {
          "model_module": "@jupyter-widgets/controls",
          "model_name": "DescriptionStyleModel",
          "model_module_version": "1.5.0",
          "state": {
            "_model_module": "@jupyter-widgets/controls",
            "_model_module_version": "1.5.0",
            "_model_name": "DescriptionStyleModel",
            "_view_count": null,
            "_view_module": "@jupyter-widgets/base",
            "_view_module_version": "1.2.0",
            "_view_name": "StyleView",
            "description_width": ""
          }
        },
        "00fedc2d8d764b97bfec22bea37da71c": {
          "model_module": "@jupyter-widgets/controls",
          "model_name": "HBoxModel",
          "model_module_version": "1.5.0",
          "state": {
            "_dom_classes": [],
            "_model_module": "@jupyter-widgets/controls",
            "_model_module_version": "1.5.0",
            "_model_name": "HBoxModel",
            "_view_count": null,
            "_view_module": "@jupyter-widgets/controls",
            "_view_module_version": "1.5.0",
            "_view_name": "HBoxView",
            "box_style": "",
            "children": [
              "IPY_MODEL_444fcadde2104d71b1ab372962b47099",
              "IPY_MODEL_8b6b04162c37422b96819892c60b979c",
              "IPY_MODEL_a29b3be77a804ad7aea04d6e1bfe6ffe"
            ],
            "layout": "IPY_MODEL_0db74859a68c42b69972578d4aed5260"
          }
        },
        "444fcadde2104d71b1ab372962b47099": {
          "model_module": "@jupyter-widgets/controls",
          "model_name": "HTMLModel",
          "model_module_version": "1.5.0",
          "state": {
            "_dom_classes": [],
            "_model_module": "@jupyter-widgets/controls",
            "_model_module_version": "1.5.0",
            "_model_name": "HTMLModel",
            "_view_count": null,
            "_view_module": "@jupyter-widgets/controls",
            "_view_module_version": "1.5.0",
            "_view_name": "HTMLView",
            "description": "",
            "description_tooltip": null,
            "layout": "IPY_MODEL_4bf49a6b563643dba0dfe83c4e613641",
            "placeholder": "​",
            "style": "IPY_MODEL_470122b1f2d744c1a7d11f3fd23c7d74",
            "value": "Downloading extra modules: "
          }
        },
        "8b6b04162c37422b96819892c60b979c": {
          "model_module": "@jupyter-widgets/controls",
          "model_name": "FloatProgressModel",
          "model_module_version": "1.5.0",
          "state": {
            "_dom_classes": [],
            "_model_module": "@jupyter-widgets/controls",
            "_model_module_version": "1.5.0",
            "_model_name": "FloatProgressModel",
            "_view_count": null,
            "_view_module": "@jupyter-widgets/controls",
            "_view_module_version": "1.5.0",
            "_view_name": "ProgressView",
            "bar_style": "success",
            "description": "",
            "description_tooltip": null,
            "layout": "IPY_MODEL_55a8d6e244484cb9b3c1897d71558df4",
            "max": 1554,
            "min": 0,
            "orientation": "horizontal",
            "style": "IPY_MODEL_6dae84e18e6a46b9a81f78e951e54ee4",
            "value": 1554
          }
        },
        "a29b3be77a804ad7aea04d6e1bfe6ffe": {
          "model_module": "@jupyter-widgets/controls",
          "model_name": "HTMLModel",
          "model_module_version": "1.5.0",
          "state": {
            "_dom_classes": [],
            "_model_module": "@jupyter-widgets/controls",
            "_model_module_version": "1.5.0",
            "_model_name": "HTMLModel",
            "_view_count": null,
            "_view_module": "@jupyter-widgets/controls",
            "_view_module_version": "1.5.0",
            "_view_name": "HTMLView",
            "description": "",
            "description_tooltip": null,
            "layout": "IPY_MODEL_6957bb5be14e4a85ab805e47e7f7630b",
            "placeholder": "​",
            "style": "IPY_MODEL_9470b618404f42448d3d4f767e0ef658",
            "value": " 4.07k/? [00:00&lt;00:00, 159kB/s]"
          }
        },
        "0db74859a68c42b69972578d4aed5260": {
          "model_module": "@jupyter-widgets/base",
          "model_name": "LayoutModel",
          "model_module_version": "1.2.0",
          "state": {
            "_model_module": "@jupyter-widgets/base",
            "_model_module_version": "1.2.0",
            "_model_name": "LayoutModel",
            "_view_count": null,
            "_view_module": "@jupyter-widgets/base",
            "_view_module_version": "1.2.0",
            "_view_name": "LayoutView",
            "align_content": null,
            "align_items": null,
            "align_self": null,
            "border": null,
            "bottom": null,
            "display": null,
            "flex": null,
            "flex_flow": null,
            "grid_area": null,
            "grid_auto_columns": null,
            "grid_auto_flow": null,
            "grid_auto_rows": null,
            "grid_column": null,
            "grid_gap": null,
            "grid_row": null,
            "grid_template_areas": null,
            "grid_template_columns": null,
            "grid_template_rows": null,
            "height": null,
            "justify_content": null,
            "justify_items": null,
            "left": null,
            "margin": null,
            "max_height": null,
            "max_width": null,
            "min_height": null,
            "min_width": null,
            "object_fit": null,
            "object_position": null,
            "order": null,
            "overflow": null,
            "overflow_x": null,
            "overflow_y": null,
            "padding": null,
            "right": null,
            "top": null,
            "visibility": null,
            "width": null
          }
        },
        "4bf49a6b563643dba0dfe83c4e613641": {
          "model_module": "@jupyter-widgets/base",
          "model_name": "LayoutModel",
          "model_module_version": "1.2.0",
          "state": {
            "_model_module": "@jupyter-widgets/base",
            "_model_module_version": "1.2.0",
            "_model_name": "LayoutModel",
            "_view_count": null,
            "_view_module": "@jupyter-widgets/base",
            "_view_module_version": "1.2.0",
            "_view_name": "LayoutView",
            "align_content": null,
            "align_items": null,
            "align_self": null,
            "border": null,
            "bottom": null,
            "display": null,
            "flex": null,
            "flex_flow": null,
            "grid_area": null,
            "grid_auto_columns": null,
            "grid_auto_flow": null,
            "grid_auto_rows": null,
            "grid_column": null,
            "grid_gap": null,
            "grid_row": null,
            "grid_template_areas": null,
            "grid_template_columns": null,
            "grid_template_rows": null,
            "height": null,
            "justify_content": null,
            "justify_items": null,
            "left": null,
            "margin": null,
            "max_height": null,
            "max_width": null,
            "min_height": null,
            "min_width": null,
            "object_fit": null,
            "object_position": null,
            "order": null,
            "overflow": null,
            "overflow_x": null,
            "overflow_y": null,
            "padding": null,
            "right": null,
            "top": null,
            "visibility": null,
            "width": null
          }
        },
        "470122b1f2d744c1a7d11f3fd23c7d74": {
          "model_module": "@jupyter-widgets/controls",
          "model_name": "DescriptionStyleModel",
          "model_module_version": "1.5.0",
          "state": {
            "_model_module": "@jupyter-widgets/controls",
            "_model_module_version": "1.5.0",
            "_model_name": "DescriptionStyleModel",
            "_view_count": null,
            "_view_module": "@jupyter-widgets/base",
            "_view_module_version": "1.2.0",
            "_view_name": "StyleView",
            "description_width": ""
          }
        },
        "55a8d6e244484cb9b3c1897d71558df4": {
          "model_module": "@jupyter-widgets/base",
          "model_name": "LayoutModel",
          "model_module_version": "1.2.0",
          "state": {
            "_model_module": "@jupyter-widgets/base",
            "_model_module_version": "1.2.0",
            "_model_name": "LayoutModel",
            "_view_count": null,
            "_view_module": "@jupyter-widgets/base",
            "_view_module_version": "1.2.0",
            "_view_name": "LayoutView",
            "align_content": null,
            "align_items": null,
            "align_self": null,
            "border": null,
            "bottom": null,
            "display": null,
            "flex": null,
            "flex_flow": null,
            "grid_area": null,
            "grid_auto_columns": null,
            "grid_auto_flow": null,
            "grid_auto_rows": null,
            "grid_column": null,
            "grid_gap": null,
            "grid_row": null,
            "grid_template_areas": null,
            "grid_template_columns": null,
            "grid_template_rows": null,
            "height": null,
            "justify_content": null,
            "justify_items": null,
            "left": null,
            "margin": null,
            "max_height": null,
            "max_width": null,
            "min_height": null,
            "min_width": null,
            "object_fit": null,
            "object_position": null,
            "order": null,
            "overflow": null,
            "overflow_x": null,
            "overflow_y": null,
            "padding": null,
            "right": null,
            "top": null,
            "visibility": null,
            "width": null
          }
        },
        "6dae84e18e6a46b9a81f78e951e54ee4": {
          "model_module": "@jupyter-widgets/controls",
          "model_name": "ProgressStyleModel",
          "model_module_version": "1.5.0",
          "state": {
            "_model_module": "@jupyter-widgets/controls",
            "_model_module_version": "1.5.0",
            "_model_name": "ProgressStyleModel",
            "_view_count": null,
            "_view_module": "@jupyter-widgets/base",
            "_view_module_version": "1.2.0",
            "_view_name": "StyleView",
            "bar_color": null,
            "description_width": ""
          }
        },
        "6957bb5be14e4a85ab805e47e7f7630b": {
          "model_module": "@jupyter-widgets/base",
          "model_name": "LayoutModel",
          "model_module_version": "1.2.0",
          "state": {
            "_model_module": "@jupyter-widgets/base",
            "_model_module_version": "1.2.0",
            "_model_name": "LayoutModel",
            "_view_count": null,
            "_view_module": "@jupyter-widgets/base",
            "_view_module_version": "1.2.0",
            "_view_name": "LayoutView",
            "align_content": null,
            "align_items": null,
            "align_self": null,
            "border": null,
            "bottom": null,
            "display": null,
            "flex": null,
            "flex_flow": null,
            "grid_area": null,
            "grid_auto_columns": null,
            "grid_auto_flow": null,
            "grid_auto_rows": null,
            "grid_column": null,
            "grid_gap": null,
            "grid_row": null,
            "grid_template_areas": null,
            "grid_template_columns": null,
            "grid_template_rows": null,
            "height": null,
            "justify_content": null,
            "justify_items": null,
            "left": null,
            "margin": null,
            "max_height": null,
            "max_width": null,
            "min_height": null,
            "min_width": null,
            "object_fit": null,
            "object_position": null,
            "order": null,
            "overflow": null,
            "overflow_x": null,
            "overflow_y": null,
            "padding": null,
            "right": null,
            "top": null,
            "visibility": null,
            "width": null
          }
        },
        "9470b618404f42448d3d4f767e0ef658": {
          "model_module": "@jupyter-widgets/controls",
          "model_name": "DescriptionStyleModel",
          "model_module_version": "1.5.0",
          "state": {
            "_model_module": "@jupyter-widgets/controls",
            "_model_module_version": "1.5.0",
            "_model_name": "DescriptionStyleModel",
            "_view_count": null,
            "_view_module": "@jupyter-widgets/base",
            "_view_module_version": "1.2.0",
            "_view_name": "StyleView",
            "description_width": ""
          }
        },
        "abc39f90b862485783b6b35d9a3fffca": {
          "model_module": "@jupyter-widgets/controls",
          "model_name": "HBoxModel",
          "model_module_version": "1.5.0",
          "state": {
            "_dom_classes": [],
            "_model_module": "@jupyter-widgets/controls",
            "_model_module_version": "1.5.0",
            "_model_name": "HBoxModel",
            "_view_count": null,
            "_view_module": "@jupyter-widgets/controls",
            "_view_module_version": "1.5.0",
            "_view_name": "HBoxView",
            "box_style": "",
            "children": [
              "IPY_MODEL_b2262ba849894c7bb71602186086353b",
              "IPY_MODEL_293abfc326a54419a4dd4b092d795abe",
              "IPY_MODEL_7e9dfd804b6a4d6bbc73c18f6570270c"
            ],
            "layout": "IPY_MODEL_09229822cc58476db13e66ddb69293fa"
          }
        },
        "b2262ba849894c7bb71602186086353b": {
          "model_module": "@jupyter-widgets/controls",
          "model_name": "HTMLModel",
          "model_module_version": "1.5.0",
          "state": {
            "_dom_classes": [],
            "_model_module": "@jupyter-widgets/controls",
            "_model_module_version": "1.5.0",
            "_model_name": "HTMLModel",
            "_view_count": null,
            "_view_module": "@jupyter-widgets/controls",
            "_view_module_version": "1.5.0",
            "_view_name": "HTMLView",
            "description": "",
            "description_tooltip": null,
            "layout": "IPY_MODEL_5dbb52b8ddac42509b39b323a8306d5b",
            "placeholder": "​",
            "style": "IPY_MODEL_c1ae3a8eec9641ae8e029193e83c29df",
            "value": "Downloading extra modules: 100%"
          }
        },
        "293abfc326a54419a4dd4b092d795abe": {
          "model_module": "@jupyter-widgets/controls",
          "model_name": "FloatProgressModel",
          "model_module_version": "1.5.0",
          "state": {
            "_dom_classes": [],
            "_model_module": "@jupyter-widgets/controls",
            "_model_module_version": "1.5.0",
            "_model_name": "FloatProgressModel",
            "_view_count": null,
            "_view_module": "@jupyter-widgets/controls",
            "_view_module_version": "1.5.0",
            "_view_name": "ProgressView",
            "bar_style": "success",
            "description": "",
            "description_tooltip": null,
            "layout": "IPY_MODEL_2b87a81b123948a08e6df3e4bc6aaf19",
            "max": 3344,
            "min": 0,
            "orientation": "horizontal",
            "style": "IPY_MODEL_042e9d00445040a0991675a9828f64eb",
            "value": 3344
          }
        },
        "7e9dfd804b6a4d6bbc73c18f6570270c": {
          "model_module": "@jupyter-widgets/controls",
          "model_name": "HTMLModel",
          "model_module_version": "1.5.0",
          "state": {
            "_dom_classes": [],
            "_model_module": "@jupyter-widgets/controls",
            "_model_module_version": "1.5.0",
            "_model_name": "HTMLModel",
            "_view_count": null,
            "_view_module": "@jupyter-widgets/controls",
            "_view_module_version": "1.5.0",
            "_view_name": "HTMLView",
            "description": "",
            "description_tooltip": null,
            "layout": "IPY_MODEL_1c348e61a3404fa9911d2aebb13d53a4",
            "placeholder": "​",
            "style": "IPY_MODEL_5308cedf17e74ec39452e93e7eaddb5e",
            "value": " 3.34k/3.34k [00:00&lt;00:00, 117kB/s]"
          }
        },
        "09229822cc58476db13e66ddb69293fa": {
          "model_module": "@jupyter-widgets/base",
          "model_name": "LayoutModel",
          "model_module_version": "1.2.0",
          "state": {
            "_model_module": "@jupyter-widgets/base",
            "_model_module_version": "1.2.0",
            "_model_name": "LayoutModel",
            "_view_count": null,
            "_view_module": "@jupyter-widgets/base",
            "_view_module_version": "1.2.0",
            "_view_name": "LayoutView",
            "align_content": null,
            "align_items": null,
            "align_self": null,
            "border": null,
            "bottom": null,
            "display": null,
            "flex": null,
            "flex_flow": null,
            "grid_area": null,
            "grid_auto_columns": null,
            "grid_auto_flow": null,
            "grid_auto_rows": null,
            "grid_column": null,
            "grid_gap": null,
            "grid_row": null,
            "grid_template_areas": null,
            "grid_template_columns": null,
            "grid_template_rows": null,
            "height": null,
            "justify_content": null,
            "justify_items": null,
            "left": null,
            "margin": null,
            "max_height": null,
            "max_width": null,
            "min_height": null,
            "min_width": null,
            "object_fit": null,
            "object_position": null,
            "order": null,
            "overflow": null,
            "overflow_x": null,
            "overflow_y": null,
            "padding": null,
            "right": null,
            "top": null,
            "visibility": null,
            "width": null
          }
        },
        "5dbb52b8ddac42509b39b323a8306d5b": {
          "model_module": "@jupyter-widgets/base",
          "model_name": "LayoutModel",
          "model_module_version": "1.2.0",
          "state": {
            "_model_module": "@jupyter-widgets/base",
            "_model_module_version": "1.2.0",
            "_model_name": "LayoutModel",
            "_view_count": null,
            "_view_module": "@jupyter-widgets/base",
            "_view_module_version": "1.2.0",
            "_view_name": "LayoutView",
            "align_content": null,
            "align_items": null,
            "align_self": null,
            "border": null,
            "bottom": null,
            "display": null,
            "flex": null,
            "flex_flow": null,
            "grid_area": null,
            "grid_auto_columns": null,
            "grid_auto_flow": null,
            "grid_auto_rows": null,
            "grid_column": null,
            "grid_gap": null,
            "grid_row": null,
            "grid_template_areas": null,
            "grid_template_columns": null,
            "grid_template_rows": null,
            "height": null,
            "justify_content": null,
            "justify_items": null,
            "left": null,
            "margin": null,
            "max_height": null,
            "max_width": null,
            "min_height": null,
            "min_width": null,
            "object_fit": null,
            "object_position": null,
            "order": null,
            "overflow": null,
            "overflow_x": null,
            "overflow_y": null,
            "padding": null,
            "right": null,
            "top": null,
            "visibility": null,
            "width": null
          }
        },
        "c1ae3a8eec9641ae8e029193e83c29df": {
          "model_module": "@jupyter-widgets/controls",
          "model_name": "DescriptionStyleModel",
          "model_module_version": "1.5.0",
          "state": {
            "_model_module": "@jupyter-widgets/controls",
            "_model_module_version": "1.5.0",
            "_model_name": "DescriptionStyleModel",
            "_view_count": null,
            "_view_module": "@jupyter-widgets/base",
            "_view_module_version": "1.2.0",
            "_view_name": "StyleView",
            "description_width": ""
          }
        },
        "2b87a81b123948a08e6df3e4bc6aaf19": {
          "model_module": "@jupyter-widgets/base",
          "model_name": "LayoutModel",
          "model_module_version": "1.2.0",
          "state": {
            "_model_module": "@jupyter-widgets/base",
            "_model_module_version": "1.2.0",
            "_model_name": "LayoutModel",
            "_view_count": null,
            "_view_module": "@jupyter-widgets/base",
            "_view_module_version": "1.2.0",
            "_view_name": "LayoutView",
            "align_content": null,
            "align_items": null,
            "align_self": null,
            "border": null,
            "bottom": null,
            "display": null,
            "flex": null,
            "flex_flow": null,
            "grid_area": null,
            "grid_auto_columns": null,
            "grid_auto_flow": null,
            "grid_auto_rows": null,
            "grid_column": null,
            "grid_gap": null,
            "grid_row": null,
            "grid_template_areas": null,
            "grid_template_columns": null,
            "grid_template_rows": null,
            "height": null,
            "justify_content": null,
            "justify_items": null,
            "left": null,
            "margin": null,
            "max_height": null,
            "max_width": null,
            "min_height": null,
            "min_width": null,
            "object_fit": null,
            "object_position": null,
            "order": null,
            "overflow": null,
            "overflow_x": null,
            "overflow_y": null,
            "padding": null,
            "right": null,
            "top": null,
            "visibility": null,
            "width": null
          }
        },
        "042e9d00445040a0991675a9828f64eb": {
          "model_module": "@jupyter-widgets/controls",
          "model_name": "ProgressStyleModel",
          "model_module_version": "1.5.0",
          "state": {
            "_model_module": "@jupyter-widgets/controls",
            "_model_module_version": "1.5.0",
            "_model_name": "ProgressStyleModel",
            "_view_count": null,
            "_view_module": "@jupyter-widgets/base",
            "_view_module_version": "1.2.0",
            "_view_name": "StyleView",
            "bar_color": null,
            "description_width": ""
          }
        },
        "1c348e61a3404fa9911d2aebb13d53a4": {
          "model_module": "@jupyter-widgets/base",
          "model_name": "LayoutModel",
          "model_module_version": "1.2.0",
          "state": {
            "_model_module": "@jupyter-widgets/base",
            "_model_module_version": "1.2.0",
            "_model_name": "LayoutModel",
            "_view_count": null,
            "_view_module": "@jupyter-widgets/base",
            "_view_module_version": "1.2.0",
            "_view_name": "LayoutView",
            "align_content": null,
            "align_items": null,
            "align_self": null,
            "border": null,
            "bottom": null,
            "display": null,
            "flex": null,
            "flex_flow": null,
            "grid_area": null,
            "grid_auto_columns": null,
            "grid_auto_flow": null,
            "grid_auto_rows": null,
            "grid_column": null,
            "grid_gap": null,
            "grid_row": null,
            "grid_template_areas": null,
            "grid_template_columns": null,
            "grid_template_rows": null,
            "height": null,
            "justify_content": null,
            "justify_items": null,
            "left": null,
            "margin": null,
            "max_height": null,
            "max_width": null,
            "min_height": null,
            "min_width": null,
            "object_fit": null,
            "object_position": null,
            "order": null,
            "overflow": null,
            "overflow_x": null,
            "overflow_y": null,
            "padding": null,
            "right": null,
            "top": null,
            "visibility": null,
            "width": null
          }
        },
        "5308cedf17e74ec39452e93e7eaddb5e": {
          "model_module": "@jupyter-widgets/controls",
          "model_name": "DescriptionStyleModel",
          "model_module_version": "1.5.0",
          "state": {
            "_model_module": "@jupyter-widgets/controls",
            "_model_module_version": "1.5.0",
            "_model_name": "DescriptionStyleModel",
            "_view_count": null,
            "_view_module": "@jupyter-widgets/base",
            "_view_module_version": "1.2.0",
            "_view_name": "StyleView",
            "description_width": ""
          }
        }
      }
    }
  },
  "nbformat": 4,
  "nbformat_minor": 5
}