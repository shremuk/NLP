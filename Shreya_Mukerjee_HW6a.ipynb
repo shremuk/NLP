{
  "cells": [
    {
      "cell_type": "markdown",
      "id": "jUCip2ZWCASt",
      "metadata": {
        "id": "jUCip2ZWCASt"
      },
      "source": [
        "# <font color = 'indianred'>**Token Classification with DistilBert- NER** </font>\n",
        "\n"
      ]
    },
    {
      "cell_type": "markdown",
      "id": "7cde75b6",
      "metadata": {
        "id": "7cde75b6"
      },
      "source": [
        "\n",
        "## Outline\n",
        "1. **Setting up the Environment**: Installing necessary libraries and setting up paths.\n",
        "2. **Creating Huggingface Dataset for Custom Dataset**: Understanding the structure and content of the dataset.\n",
        "\n",
        "3. **Data Preprocessing**: Techniques to prepare the data for training, including handling different data splits and tokenization\n",
        "4. **Training the Model**: Feeding data and adjusting weights.\n",
        "5. **Inference**: Evaluate model on test set and making predictions.\n",
        "\n"
      ]
    },
    {
      "cell_type": "markdown",
      "id": "fj41POPjrtzA",
      "metadata": {
        "id": "fj41POPjrtzA"
      },
      "source": [
        "# <font color = 'indianred'> **Setting up the Environment** </font>\n",
        "\n"
      ]
    },
    {
      "cell_type": "code",
      "execution_count": 1,
      "id": "65ec14df",
      "metadata": {
        "colab": {
          "base_uri": "https://localhost:8080/"
        },
        "id": "65ec14df",
        "outputId": "bbd6d346-073c-46bc-b077-c94bf754ba28"
      },
      "outputs": [
        {
          "output_type": "stream",
          "name": "stdout",
          "text": [
            "Mounted at /content/drive\n",
            "\u001b[2K     \u001b[90m━━━━━━━━━━━━━━━━━━━━━━━━━━━━━━━━━━━━━━━━\u001b[0m \u001b[32m493.7/493.7 kB\u001b[0m \u001b[31m7.7 MB/s\u001b[0m eta \u001b[36m0:00:00\u001b[0m\n",
            "\u001b[2K     \u001b[90m━━━━━━━━━━━━━━━━━━━━━━━━━━━━━━━━━━━━━━━━\u001b[0m \u001b[32m7.7/7.7 MB\u001b[0m \u001b[31m36.5 MB/s\u001b[0m eta \u001b[36m0:00:00\u001b[0m\n",
            "\u001b[2K     \u001b[90m━━━━━━━━━━━━━━━━━━━━━━━━━━━━━━━━━━━━━━━━\u001b[0m \u001b[32m84.1/84.1 kB\u001b[0m \u001b[31m11.6 MB/s\u001b[0m eta \u001b[36m0:00:00\u001b[0m\n",
            "\u001b[2K     \u001b[90m━━━━━━━━━━━━━━━━━━━━━━━━━━━━━━━━━━━━━━━━\u001b[0m \u001b[32m2.1/2.1 MB\u001b[0m \u001b[31m69.3 MB/s\u001b[0m eta \u001b[36m0:00:00\u001b[0m\n",
            "\u001b[2K     \u001b[90m━━━━━━━━━━━━━━━━━━━━━━━━━━━━━━━━━━━━━━━━\u001b[0m \u001b[32m261.0/261.0 kB\u001b[0m \u001b[31m33.5 MB/s\u001b[0m eta \u001b[36m0:00:00\u001b[0m\n",
            "\u001b[2K     \u001b[90m━━━━━━━━━━━━━━━━━━━━━━━━━━━━━━━━━━━━━━━━\u001b[0m \u001b[32m43.6/43.6 kB\u001b[0m \u001b[31m4.2 MB/s\u001b[0m eta \u001b[36m0:00:00\u001b[0m\n",
            "\u001b[?25h  Preparing metadata (setup.py) ... \u001b[?25l\u001b[?25hdone\n",
            "\u001b[2K     \u001b[90m━━━━━━━━━━━━━━━━━━━━━━━━━━━━━━━━━━━━━━━━\u001b[0m \u001b[32m115.3/115.3 kB\u001b[0m \u001b[31m17.9 MB/s\u001b[0m eta \u001b[36m0:00:00\u001b[0m\n",
            "\u001b[2K     \u001b[90m━━━━━━━━━━━━━━━━━━━━━━━━━━━━━━━━━━━━━━━━\u001b[0m \u001b[32m134.8/134.8 kB\u001b[0m \u001b[31m18.0 MB/s\u001b[0m eta \u001b[36m0:00:00\u001b[0m\n",
            "\u001b[2K     \u001b[90m━━━━━━━━━━━━━━━━━━━━━━━━━━━━━━━━━━━━━━━━\u001b[0m \u001b[32m302.0/302.0 kB\u001b[0m \u001b[31m39.9 MB/s\u001b[0m eta \u001b[36m0:00:00\u001b[0m\n",
            "\u001b[2K     \u001b[90m━━━━━━━━━━━━━━━━━━━━━━━━━━━━━━━━━━━━━━━━\u001b[0m \u001b[32m3.8/3.8 MB\u001b[0m \u001b[31m63.7 MB/s\u001b[0m eta \u001b[36m0:00:00\u001b[0m\n",
            "\u001b[2K     \u001b[90m━━━━━━━━━━━━━━━━━━━━━━━━━━━━━━━━━━━━━━━━\u001b[0m \u001b[32m1.3/1.3 MB\u001b[0m \u001b[31m88.8 MB/s\u001b[0m eta \u001b[36m0:00:00\u001b[0m\n",
            "\u001b[2K     \u001b[90m━━━━━━━━━━━━━━━━━━━━━━━━━━━━━━━━━━━━━━━━\u001b[0m \u001b[32m190.6/190.6 kB\u001b[0m \u001b[31m28.4 MB/s\u001b[0m eta \u001b[36m0:00:00\u001b[0m\n",
            "\u001b[2K     \u001b[90m━━━━━━━━━━━━━━━━━━━━━━━━━━━━━━━━━━━━━━━━\u001b[0m \u001b[32m241.0/241.0 kB\u001b[0m \u001b[31m35.1 MB/s\u001b[0m eta \u001b[36m0:00:00\u001b[0m\n",
            "\u001b[?25h  Preparing metadata (setup.py) ... \u001b[?25l\u001b[?25hdone\n",
            "\u001b[2K     \u001b[90m━━━━━━━━━━━━━━━━━━━━━━━━━━━━━━━━━━━━━━━━\u001b[0m \u001b[32m62.7/62.7 kB\u001b[0m \u001b[31m9.0 MB/s\u001b[0m eta \u001b[36m0:00:00\u001b[0m\n",
            "\u001b[2K     \u001b[90m━━━━━━━━━━━━━━━━━━━━━━━━━━━━━━━━━━━━━━━━\u001b[0m \u001b[32m295.0/295.0 kB\u001b[0m \u001b[31m29.7 MB/s\u001b[0m eta \u001b[36m0:00:00\u001b[0m\n",
            "\u001b[?25h  Building wheel for seqeval (setup.py) ... \u001b[?25l\u001b[?25hdone\n",
            "  Building wheel for pathtools (setup.py) ... \u001b[?25l\u001b[?25hdone\n"
          ]
        }
      ],
      "source": [
        " # CHANGE FOLDERS AS PER YOUR SETUP\n",
        "from pathlib import Path\n",
        "if 'google.colab' in str(get_ipython()):\n",
        "    from google.colab import drive\n",
        "    drive.mount(\"/content/drive\")\n",
        "    !pip install datasets transformers evaluate wandb accelerate seqeval -U -qq\n",
        "    base_folder = Path(\"/content/drive/MyDrive/Colab_Notebooks/NLP\")\n",
        "else:\n",
        "    base_folder = Path(\"/home/harpreet/Insync/google_drive_shaannoor/data\")\n",
        "\n",
        "\n",
        "from transformers import AutoConfig, AutoModelForTokenClassification, AutoTokenizer, Trainer, TrainingArguments\n",
        "from transformers import AutoTokenizer, DataCollatorForTokenClassification, pipeline\n",
        "from datasets import load_dataset, DatasetDict, Dataset, ClassLabel, Sequence\n",
        "import evaluate\n",
        "\n",
        "\n",
        "import wandb\n",
        "\n",
        "import numpy as np\n",
        "# from sklearn.metrics import ConfusionMatrixDisplay\n",
        "from sklearn.metrics import confusion_matrix\n",
        "import seaborn as sns\n",
        "import matplotlib.pyplot as plt\n",
        "import pandas as pd\n",
        "\n",
        "import textwrap"
      ]
    },
    {
      "cell_type": "code",
      "execution_count": 2,
      "id": "6bc8a889",
      "metadata": {
        "id": "6bc8a889"
      },
      "outputs": [],
      "source": [
        "# CHANGE FOLDERS TO WHERE YOU WANT TO SAVE DATA AND MODELS\n",
        "data_folder = base_folder/'Datasets'\n",
        "model_folder = base_folder/'Models'\n",
        "model_folder.mkdir(exist_ok=True)\n",
        "data_folder.mkdir(exist_ok=True)"
      ]
    },
    {
      "cell_type": "code",
      "execution_count": 3,
      "id": "70895763",
      "metadata": {
        "id": "70895763"
      },
      "outputs": [],
      "source": [
        "def print_wrap(text, d):\n",
        "    # If the text is a list, convert it to a string\n",
        "    if isinstance(text, list):\n",
        "        # Convert None values to a default string (e.g., \"None\" or an empty string)\n",
        "        text = ' '.join(str(item) if item is not None else \"None\" for item in text)\n",
        "\n",
        "    # Wrap the text to limit the width to 'd'\n",
        "    wrapped_text = textwrap.fill(text, width=d)\n",
        "\n",
        "    # Print the wrapped text\n",
        "    print(wrapped_text)\n"
      ]
    },
    {
      "cell_type": "markdown",
      "id": "O_xxXoyw_2x1",
      "metadata": {
        "id": "O_xxXoyw_2x1"
      },
      "source": [
        "# <font color = 'indianred'> **Exploring and Understanding Dataset**"
      ]
    },
    {
      "cell_type": "markdown",
      "id": "7ae39760-8c90-4bef-a1c9-66a302b29da3",
      "metadata": {
        "id": "7ae39760-8c90-4bef-a1c9-66a302b29da3",
        "tags": []
      },
      "source": [
        "## <font color = 'indianred'> **conll2003 Dataset**</font>\n",
        "\n"
      ]
    },
    {
      "cell_type": "markdown",
      "id": "b906904c-8f24-4de0-8e07-720863e8cd99",
      "metadata": {
        "id": "b906904c-8f24-4de0-8e07-720863e8cd99"
      },
      "source": [
        "## <font color = 'indianred'> **Load Data set**\n",
        "    \n"
      ]
    },
    {
      "cell_type": "code",
      "execution_count": 4,
      "id": "1JpTLLoCvuAY",
      "metadata": {
        "id": "1JpTLLoCvuAY",
        "colab": {
          "base_uri": "https://localhost:8080/",
          "height": 241,
          "referenced_widgets": [
            "7935ee61812a435cb7dd37c90beaccaa",
            "98b25bbe2ada444981d321a4545ba12a",
            "db2b4a2e648a4c9493cc37d00d22b4a2",
            "206ae378eaf34132b62d9e5d4158d300",
            "eb886b18f9c0494cbea8fce038c9b18d",
            "3c2a15678ce046779fdba619d794924c",
            "40691e261ecc4cfdbcc4396e879459bf",
            "0952303cde5d48fa83ba34f66a35054b",
            "0e64ad83d21348f2b3bfe210c4569ca3",
            "d10487dd49d344fa94c66819edfcceed",
            "11d881748ddf4d44bb8116fe1a86d891",
            "24fa89e0b5844cca95515d8000e2f5ff",
            "4430c4c68faf4f7fb9c607842fbbc8a3",
            "26072a40764041a9b010062f4dfe66bd",
            "bc9f32a114774dfc9c78ea337b37aca8",
            "7cc8cdb4e2404b62885512066c1a47cf",
            "51286615c7e542959b5466afba0bc9db",
            "7c178316c1fe4aed9b3a652ab7fb308c",
            "3d09dbbdfc8d475f9c1c10eb2c862155",
            "561a396c36fc408bb39a259f6c170612",
            "0432448bdf6a4d2293421503d2040678",
            "67021dbdd34a4b85a79de5cb8b22af2a",
            "170e8602e88048a682eecd336c8c3a0f",
            "fc5f28fde9174dff9b74f3bbd277a322",
            "53dc3c1854fd4eecb35dcc748907aeb6",
            "bf6f0440adf94f0fb1194c865f5bc703",
            "4b1defccfef1410e8a8544fb2cec44cb",
            "8aac21a0565f46678bc736c41c790c5a",
            "3aee47e385f44205b17cf024a44faf76",
            "466b9fb9f7744c8eb5514d5f31ad3010",
            "440af8afd0da4df6b60a27cfa92a9657",
            "3183d4743d224b8890aff52e14b41cf4",
            "e41905f2dc70424583084b785634e823",
            "2e03ef0457fa4e12a874536a512c099b",
            "f0969a2936f941b4801db3422e454c5b",
            "ef247cc41b7c4594958f50197e0a1a11",
            "0a7a2ae10cd4458e8d165b94318bdc5b",
            "162cc1a3338f42198e563f4d4f3459cb",
            "c4fc608f55b4488a809029f1dc01acd4",
            "fd4fbd8bcc274a2a903697f5cc866324",
            "96bcfc590e004a47946bf38ee1d5d8c1",
            "2206203a368045c6b667474393ac1747",
            "1744f2aa1ec740c0b4fdec1724b78abe",
            "9fedade4855646c5a49dcfb8cde7aa9a",
            "0915a573d4644a5e864c0fac840f1228",
            "5c57e6ce557a4f62a0255b19bd6280f7",
            "121712b2f7f14bb79de24dbf0bdbcc89",
            "488bb4de15b04cdb899f3c4a88426d96",
            "039444aecdfb42feb83bf85886c2a60e",
            "0987ed23e3104d9b82a8958370a2ca4f",
            "41053b86e03a42ca83727ff1ff4e918c",
            "a39ca5a196504eadb2924cc1812ac522",
            "2162c7116fdc4aa18b4532578e5f2dc7",
            "af95e2ae19994df78166697703fae038",
            "155b610560d64f44b027612ff7d82523",
            "e3838f401b694d2d922d699d32888041",
            "734b0c9c201243b38bd6e68ad84c3ea5",
            "d04401110ef34f8aaedf9fad8f24eaa2",
            "dc82ca7ebdc44fe3ae16387b8f6118b7",
            "2a928563285e4d4a8d67b9b23d120c2d",
            "1bef2431229f4e028c9e2745f50238e8",
            "48745147ec8a4af9b5e85431c38de016",
            "c65381a6ee3d4e49be538781c1e761fc",
            "07ed297ea5534eadbbde931d5f636280",
            "62ab00352d374181b253151e0bad1ae4",
            "79bdbdb346be4f48b99ed8f43a1b367c",
            "414e4b7f4db24aba8428c722cf13501e",
            "a785326eeaed41b08357863bca412d92",
            "2dcaa32f39424c8bbf79479c1ea22546",
            "3978d1d4cc2a408caa035ff874f9d6a1",
            "faa47ee5f60e44d190de518f84dc01c4",
            "27d117e872ac41bc8fc0097d4e216bab",
            "0bcf097a5c5a41fba930c06ca6e59a2b",
            "db6ca8b9491b4baa8bd7e757e7bc1d42",
            "b8421624742647bea9a2fd62e3023ac8",
            "6b2fc13451e843999229186bf068f6ad",
            "78f08c10f6f149a6b9bc41b281033d97"
          ]
        },
        "outputId": "97c178f3-3500-4cff-91fb-0d5e51d2037a"
      },
      "outputs": [
        {
          "output_type": "display_data",
          "data": {
            "text/plain": [
              "Downloading builder script:   0%|          | 0.00/9.57k [00:00<?, ?B/s]"
            ],
            "application/vnd.jupyter.widget-view+json": {
              "version_major": 2,
              "version_minor": 0,
              "model_id": "7935ee61812a435cb7dd37c90beaccaa"
            }
          },
          "metadata": {}
        },
        {
          "output_type": "display_data",
          "data": {
            "text/plain": [
              "Downloading metadata:   0%|          | 0.00/3.73k [00:00<?, ?B/s]"
            ],
            "application/vnd.jupyter.widget-view+json": {
              "version_major": 2,
              "version_minor": 0,
              "model_id": "24fa89e0b5844cca95515d8000e2f5ff"
            }
          },
          "metadata": {}
        },
        {
          "output_type": "display_data",
          "data": {
            "text/plain": [
              "Downloading readme:   0%|          | 0.00/12.3k [00:00<?, ?B/s]"
            ],
            "application/vnd.jupyter.widget-view+json": {
              "version_major": 2,
              "version_minor": 0,
              "model_id": "170e8602e88048a682eecd336c8c3a0f"
            }
          },
          "metadata": {}
        },
        {
          "output_type": "display_data",
          "data": {
            "text/plain": [
              "Downloading data:   0%|          | 0.00/983k [00:00<?, ?B/s]"
            ],
            "application/vnd.jupyter.widget-view+json": {
              "version_major": 2,
              "version_minor": 0,
              "model_id": "2e03ef0457fa4e12a874536a512c099b"
            }
          },
          "metadata": {}
        },
        {
          "output_type": "display_data",
          "data": {
            "text/plain": [
              "Generating train split:   0%|          | 0/14041 [00:00<?, ? examples/s]"
            ],
            "application/vnd.jupyter.widget-view+json": {
              "version_major": 2,
              "version_minor": 0,
              "model_id": "0915a573d4644a5e864c0fac840f1228"
            }
          },
          "metadata": {}
        },
        {
          "output_type": "display_data",
          "data": {
            "text/plain": [
              "Generating validation split:   0%|          | 0/3250 [00:00<?, ? examples/s]"
            ],
            "application/vnd.jupyter.widget-view+json": {
              "version_major": 2,
              "version_minor": 0,
              "model_id": "e3838f401b694d2d922d699d32888041"
            }
          },
          "metadata": {}
        },
        {
          "output_type": "display_data",
          "data": {
            "text/plain": [
              "Generating test split:   0%|          | 0/3453 [00:00<?, ? examples/s]"
            ],
            "application/vnd.jupyter.widget-view+json": {
              "version_major": 2,
              "version_minor": 0,
              "model_id": "414e4b7f4db24aba8428c722cf13501e"
            }
          },
          "metadata": {}
        }
      ],
      "source": [
        "conll_dataset = load_dataset('conll2003')"
      ]
    },
    {
      "cell_type": "code",
      "execution_count": 5,
      "id": "a1d25dc7",
      "metadata": {
        "colab": {
          "base_uri": "https://localhost:8080/"
        },
        "id": "a1d25dc7",
        "outputId": "cc14ad9e-58e0-4752-cc6f-d0a41a01540c"
      },
      "outputs": [
        {
          "output_type": "execute_result",
          "data": {
            "text/plain": [
              "DatasetDict({\n",
              "    train: Dataset({\n",
              "        features: ['id', 'tokens', 'pos_tags', 'chunk_tags', 'ner_tags'],\n",
              "        num_rows: 14041\n",
              "    })\n",
              "    validation: Dataset({\n",
              "        features: ['id', 'tokens', 'pos_tags', 'chunk_tags', 'ner_tags'],\n",
              "        num_rows: 3250\n",
              "    })\n",
              "    test: Dataset({\n",
              "        features: ['id', 'tokens', 'pos_tags', 'chunk_tags', 'ner_tags'],\n",
              "        num_rows: 3453\n",
              "    })\n",
              "})"
            ]
          },
          "metadata": {},
          "execution_count": 5
        }
      ],
      "source": [
        "conll_dataset"
      ]
    },
    {
      "cell_type": "markdown",
      "id": "MluH2KHxHfF0",
      "metadata": {
        "id": "MluH2KHxHfF0"
      },
      "source": [
        "## <font color = 'indianred'> **Understanding your data**"
      ]
    },
    {
      "cell_type": "code",
      "execution_count": 6,
      "id": "13c259d6-3936-47d7-aae4-467cf479368d",
      "metadata": {
        "colab": {
          "base_uri": "https://localhost:8080/"
        },
        "execution": {
          "iopub.execute_input": "2022-12-23T23:13:19.870767Z",
          "iopub.status.busy": "2022-12-23T23:13:19.870527Z",
          "iopub.status.idle": "2022-12-23T23:13:20.007104Z",
          "shell.execute_reply": "2022-12-23T23:13:20.006616Z",
          "shell.execute_reply.started": "2022-12-23T23:13:19.870741Z"
        },
        "id": "13c259d6-3936-47d7-aae4-467cf479368d",
        "outputId": "a3f7eaef-0013-4bff-ba7e-2f4906075111",
        "tags": []
      },
      "outputs": [
        {
          "output_type": "stream",
          "name": "stdout",
          "text": [
            "DatasetDict({\n",
            "    train: Dataset({\n",
            "        features: ['id', 'tokens', 'pos_tags', 'chunk_tags', 'ner_tags'],\n",
            "        num_rows: 14041\n",
            "    })\n",
            "    validation: Dataset({\n",
            "        features: ['id', 'tokens', 'pos_tags', 'chunk_tags', 'ner_tags'],\n",
            "        num_rows: 3250\n",
            "    })\n",
            "    test: Dataset({\n",
            "        features: ['id', 'tokens', 'pos_tags', 'chunk_tags', 'ner_tags'],\n",
            "        num_rows: 3453\n",
            "    })\n",
            "})\n"
          ]
        }
      ],
      "source": [
        "print(conll_dataset)"
      ]
    },
    {
      "cell_type": "markdown",
      "id": "G8mgUnP9fS7i",
      "metadata": {
        "id": "G8mgUnP9fS7i"
      },
      "source": [
        "## <font color = 'indianred'> **Understanding the datatype of columns**\n"
      ]
    },
    {
      "cell_type": "code",
      "execution_count": 7,
      "id": "wq_SXtXzeXWg",
      "metadata": {
        "colab": {
          "base_uri": "https://localhost:8080/"
        },
        "id": "wq_SXtXzeXWg",
        "outputId": "162baca4-62d1-4c0f-e5d9-cc0a11a37d9d"
      },
      "outputs": [
        {
          "output_type": "execute_result",
          "data": {
            "text/plain": [
              "{'id': Value(dtype='string', id=None),\n",
              " 'tokens': Sequence(feature=Value(dtype='string', id=None), length=-1, id=None),\n",
              " 'pos_tags': Sequence(feature=ClassLabel(names=['\"', \"''\", '#', '$', '(', ')', ',', '.', ':', '``', 'CC', 'CD', 'DT', 'EX', 'FW', 'IN', 'JJ', 'JJR', 'JJS', 'LS', 'MD', 'NN', 'NNP', 'NNPS', 'NNS', 'NN|SYM', 'PDT', 'POS', 'PRP', 'PRP$', 'RB', 'RBR', 'RBS', 'RP', 'SYM', 'TO', 'UH', 'VB', 'VBD', 'VBG', 'VBN', 'VBP', 'VBZ', 'WDT', 'WP', 'WP$', 'WRB'], id=None), length=-1, id=None),\n",
              " 'chunk_tags': Sequence(feature=ClassLabel(names=['O', 'B-ADJP', 'I-ADJP', 'B-ADVP', 'I-ADVP', 'B-CONJP', 'I-CONJP', 'B-INTJ', 'I-INTJ', 'B-LST', 'I-LST', 'B-NP', 'I-NP', 'B-PP', 'I-PP', 'B-PRT', 'I-PRT', 'B-SBAR', 'I-SBAR', 'B-UCP', 'I-UCP', 'B-VP', 'I-VP'], id=None), length=-1, id=None),\n",
              " 'ner_tags': Sequence(feature=ClassLabel(names=['O', 'B-PER', 'I-PER', 'B-ORG', 'I-ORG', 'B-LOC', 'I-LOC', 'B-MISC', 'I-MISC'], id=None), length=-1, id=None)}"
            ]
          },
          "metadata": {},
          "execution_count": 7
        }
      ],
      "source": [
        "conll_dataset['train'].features"
      ]
    },
    {
      "cell_type": "code",
      "execution_count": 8,
      "id": "0314b457",
      "metadata": {
        "colab": {
          "base_uri": "https://localhost:8080/"
        },
        "id": "0314b457",
        "outputId": "9d5411f1-622a-4144-e554-f5930d051eaa"
      },
      "outputs": [
        {
          "output_type": "execute_result",
          "data": {
            "text/plain": [
              "{'id': Value(dtype='string', id=None),\n",
              " 'tokens': Sequence(feature=Value(dtype='string', id=None), length=-1, id=None),\n",
              " 'pos_tags': Sequence(feature=ClassLabel(names=['\"', \"''\", '#', '$', '(', ')', ',', '.', ':', '``', 'CC', 'CD', 'DT', 'EX', 'FW', 'IN', 'JJ', 'JJR', 'JJS', 'LS', 'MD', 'NN', 'NNP', 'NNPS', 'NNS', 'NN|SYM', 'PDT', 'POS', 'PRP', 'PRP$', 'RB', 'RBR', 'RBS', 'RP', 'SYM', 'TO', 'UH', 'VB', 'VBD', 'VBG', 'VBN', 'VBP', 'VBZ', 'WDT', 'WP', 'WP$', 'WRB'], id=None), length=-1, id=None),\n",
              " 'chunk_tags': Sequence(feature=ClassLabel(names=['O', 'B-ADJP', 'I-ADJP', 'B-ADVP', 'I-ADVP', 'B-CONJP', 'I-CONJP', 'B-INTJ', 'I-INTJ', 'B-LST', 'I-LST', 'B-NP', 'I-NP', 'B-PP', 'I-PP', 'B-PRT', 'I-PRT', 'B-SBAR', 'I-SBAR', 'B-UCP', 'I-UCP', 'B-VP', 'I-VP'], id=None), length=-1, id=None),\n",
              " 'ner_tags': Sequence(feature=ClassLabel(names=['O', 'B-PER', 'I-PER', 'B-ORG', 'I-ORG', 'B-LOC', 'I-LOC', 'B-MISC', 'I-MISC'], id=None), length=-1, id=None)}"
            ]
          },
          "metadata": {},
          "execution_count": 8
        }
      ],
      "source": [
        "conll_dataset['test'].features"
      ]
    },
    {
      "cell_type": "markdown",
      "id": "z80MwfKWSuxn",
      "metadata": {
        "id": "z80MwfKWSuxn"
      },
      "source": [
        "## <font color = 'indianred'> **Acess indivdual element** </font>\n"
      ]
    },
    {
      "cell_type": "code",
      "execution_count": 9,
      "id": "McaQFKL94fff",
      "metadata": {
        "colab": {
          "base_uri": "https://localhost:8080/"
        },
        "id": "McaQFKL94fff",
        "outputId": "1082857e-0653-498d-d567-6d4984bbba2e"
      },
      "outputs": [
        {
          "output_type": "execute_result",
          "data": {
            "text/plain": [
              "{'id': '0',\n",
              " 'tokens': ['EU',\n",
              "  'rejects',\n",
              "  'German',\n",
              "  'call',\n",
              "  'to',\n",
              "  'boycott',\n",
              "  'British',\n",
              "  'lamb',\n",
              "  '.'],\n",
              " 'pos_tags': [22, 42, 16, 21, 35, 37, 16, 21, 7],\n",
              " 'chunk_tags': [11, 21, 11, 12, 21, 22, 11, 12, 0],\n",
              " 'ner_tags': [3, 0, 7, 0, 0, 0, 7, 0, 0]}"
            ]
          },
          "metadata": {},
          "execution_count": 9
        }
      ],
      "source": [
        "# get the first example of the dataset\n",
        "conll_dataset['train'][0]"
      ]
    },
    {
      "cell_type": "code",
      "execution_count": 10,
      "id": "77e0c790",
      "metadata": {
        "colab": {
          "base_uri": "https://localhost:8080/"
        },
        "id": "77e0c790",
        "outputId": "5e04d3c9-1ab4-494c-9002-621f4201867d"
      },
      "outputs": [
        {
          "output_type": "stream",
          "name": "stdout",
          "text": [
            "EU rejects German call to boycott British lamb .\n"
          ]
        }
      ],
      "source": [
        "print_wrap(conll_dataset['train']['tokens'][0], 80)"
      ]
    },
    {
      "cell_type": "code",
      "execution_count": 11,
      "id": "15bab98f",
      "metadata": {
        "colab": {
          "base_uri": "https://localhost:8080/"
        },
        "id": "15bab98f",
        "outputId": "19f692a6-f108-446f-d234-63a2936c7909"
      },
      "outputs": [
        {
          "output_type": "stream",
          "name": "stdout",
          "text": [
            "3 0 7 0 0 0 7 0 0\n"
          ]
        }
      ],
      "source": [
        "print_wrap(conll_dataset['train']['ner_tags'][0], 80)"
      ]
    },
    {
      "cell_type": "markdown",
      "id": "CzxEpA9FCYjC",
      "metadata": {
        "id": "CzxEpA9FCYjC"
      },
      "source": [
        "## <font color = 'indianred'> **Exploratory Data Analysis (EDA)**"
      ]
    },
    {
      "cell_type": "markdown",
      "id": "cWJBOfEj4_lE",
      "metadata": {
        "id": "cWJBOfEj4_lE"
      },
      "source": [
        "### <font color = 'indianred'> **Change dataset format to Pandas**  </font>\n"
      ]
    },
    {
      "cell_type": "code",
      "execution_count": 12,
      "id": "HjQ2Q-3d14UL",
      "metadata": {
        "id": "HjQ2Q-3d14UL"
      },
      "outputs": [],
      "source": [
        "# Set the format to Pandas\n",
        "conll_dataset.set_format(type='pandas')"
      ]
    },
    {
      "cell_type": "code",
      "execution_count": 13,
      "id": "nM-OqQ493Io9",
      "metadata": {
        "id": "nM-OqQ493Io9"
      },
      "outputs": [],
      "source": [
        "# get all rows the dataset\n",
        "df = conll_dataset['train'][:]"
      ]
    },
    {
      "cell_type": "code",
      "execution_count": 14,
      "id": "Z759Xi-5zGml",
      "metadata": {
        "colab": {
          "base_uri": "https://localhost:8080/",
          "height": 206
        },
        "id": "Z759Xi-5zGml",
        "outputId": "b3beda57-9fcb-4757-fc1e-475c05f779d5"
      },
      "outputs": [
        {
          "output_type": "execute_result",
          "data": {
            "text/plain": [
              "  id                                             tokens  \\\n",
              "0  0  [EU, rejects, German, call, to, boycott, Briti...   \n",
              "1  1                                 [Peter, Blackburn]   \n",
              "2  2                             [BRUSSELS, 1996-08-22]   \n",
              "3  3  [The, European, Commission, said, on, Thursday...   \n",
              "4  4  [Germany, 's, representative, to, the, Europea...   \n",
              "\n",
              "                                            pos_tags  \\\n",
              "0                [22, 42, 16, 21, 35, 37, 16, 21, 7]   \n",
              "1                                           [22, 22]   \n",
              "2                                           [22, 11]   \n",
              "3  [12, 22, 22, 38, 15, 22, 28, 38, 15, 16, 21, 3...   \n",
              "4  [22, 27, 21, 35, 12, 22, 22, 27, 16, 21, 22, 2...   \n",
              "\n",
              "                                          chunk_tags  \\\n",
              "0                [11, 21, 11, 12, 21, 22, 11, 12, 0]   \n",
              "1                                           [11, 12]   \n",
              "2                                           [11, 12]   \n",
              "3  [11, 12, 12, 21, 13, 11, 11, 21, 13, 11, 12, 1...   \n",
              "4  [11, 11, 12, 13, 11, 12, 12, 11, 12, 12, 12, 1...   \n",
              "\n",
              "                                            ner_tags  \n",
              "0                        [3, 0, 7, 0, 0, 0, 7, 0, 0]  \n",
              "1                                             [1, 2]  \n",
              "2                                             [5, 0]  \n",
              "3  [0, 3, 4, 0, 0, 0, 0, 0, 0, 7, 0, 0, 0, 0, 0, ...  \n",
              "4  [5, 0, 0, 0, 0, 3, 4, 0, 0, 0, 1, 2, 0, 0, 0, ...  "
            ],
            "text/html": [
              "\n",
              "  <div id=\"df-b01584a5-a363-4bbc-b940-190d2e0e67d3\" class=\"colab-df-container\">\n",
              "    <div>\n",
              "<style scoped>\n",
              "    .dataframe tbody tr th:only-of-type {\n",
              "        vertical-align: middle;\n",
              "    }\n",
              "\n",
              "    .dataframe tbody tr th {\n",
              "        vertical-align: top;\n",
              "    }\n",
              "\n",
              "    .dataframe thead th {\n",
              "        text-align: right;\n",
              "    }\n",
              "</style>\n",
              "<table border=\"1\" class=\"dataframe\">\n",
              "  <thead>\n",
              "    <tr style=\"text-align: right;\">\n",
              "      <th></th>\n",
              "      <th>id</th>\n",
              "      <th>tokens</th>\n",
              "      <th>pos_tags</th>\n",
              "      <th>chunk_tags</th>\n",
              "      <th>ner_tags</th>\n",
              "    </tr>\n",
              "  </thead>\n",
              "  <tbody>\n",
              "    <tr>\n",
              "      <th>0</th>\n",
              "      <td>0</td>\n",
              "      <td>[EU, rejects, German, call, to, boycott, Briti...</td>\n",
              "      <td>[22, 42, 16, 21, 35, 37, 16, 21, 7]</td>\n",
              "      <td>[11, 21, 11, 12, 21, 22, 11, 12, 0]</td>\n",
              "      <td>[3, 0, 7, 0, 0, 0, 7, 0, 0]</td>\n",
              "    </tr>\n",
              "    <tr>\n",
              "      <th>1</th>\n",
              "      <td>1</td>\n",
              "      <td>[Peter, Blackburn]</td>\n",
              "      <td>[22, 22]</td>\n",
              "      <td>[11, 12]</td>\n",
              "      <td>[1, 2]</td>\n",
              "    </tr>\n",
              "    <tr>\n",
              "      <th>2</th>\n",
              "      <td>2</td>\n",
              "      <td>[BRUSSELS, 1996-08-22]</td>\n",
              "      <td>[22, 11]</td>\n",
              "      <td>[11, 12]</td>\n",
              "      <td>[5, 0]</td>\n",
              "    </tr>\n",
              "    <tr>\n",
              "      <th>3</th>\n",
              "      <td>3</td>\n",
              "      <td>[The, European, Commission, said, on, Thursday...</td>\n",
              "      <td>[12, 22, 22, 38, 15, 22, 28, 38, 15, 16, 21, 3...</td>\n",
              "      <td>[11, 12, 12, 21, 13, 11, 11, 21, 13, 11, 12, 1...</td>\n",
              "      <td>[0, 3, 4, 0, 0, 0, 0, 0, 0, 7, 0, 0, 0, 0, 0, ...</td>\n",
              "    </tr>\n",
              "    <tr>\n",
              "      <th>4</th>\n",
              "      <td>4</td>\n",
              "      <td>[Germany, 's, representative, to, the, Europea...</td>\n",
              "      <td>[22, 27, 21, 35, 12, 22, 22, 27, 16, 21, 22, 2...</td>\n",
              "      <td>[11, 11, 12, 13, 11, 12, 12, 11, 12, 12, 12, 1...</td>\n",
              "      <td>[5, 0, 0, 0, 0, 3, 4, 0, 0, 0, 1, 2, 0, 0, 0, ...</td>\n",
              "    </tr>\n",
              "  </tbody>\n",
              "</table>\n",
              "</div>\n",
              "    <div class=\"colab-df-buttons\">\n",
              "\n",
              "  <div class=\"colab-df-container\">\n",
              "    <button class=\"colab-df-convert\" onclick=\"convertToInteractive('df-b01584a5-a363-4bbc-b940-190d2e0e67d3')\"\n",
              "            title=\"Convert this dataframe to an interactive table.\"\n",
              "            style=\"display:none;\">\n",
              "\n",
              "  <svg xmlns=\"http://www.w3.org/2000/svg\" height=\"24px\" viewBox=\"0 -960 960 960\">\n",
              "    <path d=\"M120-120v-720h720v720H120Zm60-500h600v-160H180v160Zm220 220h160v-160H400v160Zm0 220h160v-160H400v160ZM180-400h160v-160H180v160Zm440 0h160v-160H620v160ZM180-180h160v-160H180v160Zm440 0h160v-160H620v160Z\"/>\n",
              "  </svg>\n",
              "    </button>\n",
              "\n",
              "  <style>\n",
              "    .colab-df-container {\n",
              "      display:flex;\n",
              "      gap: 12px;\n",
              "    }\n",
              "\n",
              "    .colab-df-convert {\n",
              "      background-color: #E8F0FE;\n",
              "      border: none;\n",
              "      border-radius: 50%;\n",
              "      cursor: pointer;\n",
              "      display: none;\n",
              "      fill: #1967D2;\n",
              "      height: 32px;\n",
              "      padding: 0 0 0 0;\n",
              "      width: 32px;\n",
              "    }\n",
              "\n",
              "    .colab-df-convert:hover {\n",
              "      background-color: #E2EBFA;\n",
              "      box-shadow: 0px 1px 2px rgba(60, 64, 67, 0.3), 0px 1px 3px 1px rgba(60, 64, 67, 0.15);\n",
              "      fill: #174EA6;\n",
              "    }\n",
              "\n",
              "    .colab-df-buttons div {\n",
              "      margin-bottom: 4px;\n",
              "    }\n",
              "\n",
              "    [theme=dark] .colab-df-convert {\n",
              "      background-color: #3B4455;\n",
              "      fill: #D2E3FC;\n",
              "    }\n",
              "\n",
              "    [theme=dark] .colab-df-convert:hover {\n",
              "      background-color: #434B5C;\n",
              "      box-shadow: 0px 1px 3px 1px rgba(0, 0, 0, 0.15);\n",
              "      filter: drop-shadow(0px 1px 2px rgba(0, 0, 0, 0.3));\n",
              "      fill: #FFFFFF;\n",
              "    }\n",
              "  </style>\n",
              "\n",
              "    <script>\n",
              "      const buttonEl =\n",
              "        document.querySelector('#df-b01584a5-a363-4bbc-b940-190d2e0e67d3 button.colab-df-convert');\n",
              "      buttonEl.style.display =\n",
              "        google.colab.kernel.accessAllowed ? 'block' : 'none';\n",
              "\n",
              "      async function convertToInteractive(key) {\n",
              "        const element = document.querySelector('#df-b01584a5-a363-4bbc-b940-190d2e0e67d3');\n",
              "        const dataTable =\n",
              "          await google.colab.kernel.invokeFunction('convertToInteractive',\n",
              "                                                    [key], {});\n",
              "        if (!dataTable) return;\n",
              "\n",
              "        const docLinkHtml = 'Like what you see? Visit the ' +\n",
              "          '<a target=\"_blank\" href=https://colab.research.google.com/notebooks/data_table.ipynb>data table notebook</a>'\n",
              "          + ' to learn more about interactive tables.';\n",
              "        element.innerHTML = '';\n",
              "        dataTable['output_type'] = 'display_data';\n",
              "        await google.colab.output.renderOutput(dataTable, element);\n",
              "        const docLink = document.createElement('div');\n",
              "        docLink.innerHTML = docLinkHtml;\n",
              "        element.appendChild(docLink);\n",
              "      }\n",
              "    </script>\n",
              "  </div>\n",
              "\n",
              "\n",
              "<div id=\"df-7c375f6d-4de1-4d94-9d06-ee1eac5c5ad9\">\n",
              "  <button class=\"colab-df-quickchart\" onclick=\"quickchart('df-7c375f6d-4de1-4d94-9d06-ee1eac5c5ad9')\"\n",
              "            title=\"Suggest charts.\"\n",
              "            style=\"display:none;\">\n",
              "\n",
              "<svg xmlns=\"http://www.w3.org/2000/svg\" height=\"24px\"viewBox=\"0 0 24 24\"\n",
              "     width=\"24px\">\n",
              "    <g>\n",
              "        <path d=\"M19 3H5c-1.1 0-2 .9-2 2v14c0 1.1.9 2 2 2h14c1.1 0 2-.9 2-2V5c0-1.1-.9-2-2-2zM9 17H7v-7h2v7zm4 0h-2V7h2v10zm4 0h-2v-4h2v4z\"/>\n",
              "    </g>\n",
              "</svg>\n",
              "  </button>\n",
              "\n",
              "<style>\n",
              "  .colab-df-quickchart {\n",
              "      --bg-color: #E8F0FE;\n",
              "      --fill-color: #1967D2;\n",
              "      --hover-bg-color: #E2EBFA;\n",
              "      --hover-fill-color: #174EA6;\n",
              "      --disabled-fill-color: #AAA;\n",
              "      --disabled-bg-color: #DDD;\n",
              "  }\n",
              "\n",
              "  [theme=dark] .colab-df-quickchart {\n",
              "      --bg-color: #3B4455;\n",
              "      --fill-color: #D2E3FC;\n",
              "      --hover-bg-color: #434B5C;\n",
              "      --hover-fill-color: #FFFFFF;\n",
              "      --disabled-bg-color: #3B4455;\n",
              "      --disabled-fill-color: #666;\n",
              "  }\n",
              "\n",
              "  .colab-df-quickchart {\n",
              "    background-color: var(--bg-color);\n",
              "    border: none;\n",
              "    border-radius: 50%;\n",
              "    cursor: pointer;\n",
              "    display: none;\n",
              "    fill: var(--fill-color);\n",
              "    height: 32px;\n",
              "    padding: 0;\n",
              "    width: 32px;\n",
              "  }\n",
              "\n",
              "  .colab-df-quickchart:hover {\n",
              "    background-color: var(--hover-bg-color);\n",
              "    box-shadow: 0 1px 2px rgba(60, 64, 67, 0.3), 0 1px 3px 1px rgba(60, 64, 67, 0.15);\n",
              "    fill: var(--button-hover-fill-color);\n",
              "  }\n",
              "\n",
              "  .colab-df-quickchart-complete:disabled,\n",
              "  .colab-df-quickchart-complete:disabled:hover {\n",
              "    background-color: var(--disabled-bg-color);\n",
              "    fill: var(--disabled-fill-color);\n",
              "    box-shadow: none;\n",
              "  }\n",
              "\n",
              "  .colab-df-spinner {\n",
              "    border: 2px solid var(--fill-color);\n",
              "    border-color: transparent;\n",
              "    border-bottom-color: var(--fill-color);\n",
              "    animation:\n",
              "      spin 1s steps(1) infinite;\n",
              "  }\n",
              "\n",
              "  @keyframes spin {\n",
              "    0% {\n",
              "      border-color: transparent;\n",
              "      border-bottom-color: var(--fill-color);\n",
              "      border-left-color: var(--fill-color);\n",
              "    }\n",
              "    20% {\n",
              "      border-color: transparent;\n",
              "      border-left-color: var(--fill-color);\n",
              "      border-top-color: var(--fill-color);\n",
              "    }\n",
              "    30% {\n",
              "      border-color: transparent;\n",
              "      border-left-color: var(--fill-color);\n",
              "      border-top-color: var(--fill-color);\n",
              "      border-right-color: var(--fill-color);\n",
              "    }\n",
              "    40% {\n",
              "      border-color: transparent;\n",
              "      border-right-color: var(--fill-color);\n",
              "      border-top-color: var(--fill-color);\n",
              "    }\n",
              "    60% {\n",
              "      border-color: transparent;\n",
              "      border-right-color: var(--fill-color);\n",
              "    }\n",
              "    80% {\n",
              "      border-color: transparent;\n",
              "      border-right-color: var(--fill-color);\n",
              "      border-bottom-color: var(--fill-color);\n",
              "    }\n",
              "    90% {\n",
              "      border-color: transparent;\n",
              "      border-bottom-color: var(--fill-color);\n",
              "    }\n",
              "  }\n",
              "</style>\n",
              "\n",
              "  <script>\n",
              "    async function quickchart(key) {\n",
              "      const quickchartButtonEl =\n",
              "        document.querySelector('#' + key + ' button');\n",
              "      quickchartButtonEl.disabled = true;  // To prevent multiple clicks.\n",
              "      quickchartButtonEl.classList.add('colab-df-spinner');\n",
              "      try {\n",
              "        const charts = await google.colab.kernel.invokeFunction(\n",
              "            'suggestCharts', [key], {});\n",
              "      } catch (error) {\n",
              "        console.error('Error during call to suggestCharts:', error);\n",
              "      }\n",
              "      quickchartButtonEl.classList.remove('colab-df-spinner');\n",
              "      quickchartButtonEl.classList.add('colab-df-quickchart-complete');\n",
              "    }\n",
              "    (() => {\n",
              "      let quickchartButtonEl =\n",
              "        document.querySelector('#df-7c375f6d-4de1-4d94-9d06-ee1eac5c5ad9 button');\n",
              "      quickchartButtonEl.style.display =\n",
              "        google.colab.kernel.accessAllowed ? 'block' : 'none';\n",
              "    })();\n",
              "  </script>\n",
              "</div>\n",
              "    </div>\n",
              "  </div>\n"
            ]
          },
          "metadata": {},
          "execution_count": 14
        }
      ],
      "source": [
        "df.head()"
      ]
    },
    {
      "cell_type": "code",
      "execution_count": 15,
      "id": "SMuG9fuF3ccM",
      "metadata": {
        "colab": {
          "base_uri": "https://localhost:8080/"
        },
        "id": "SMuG9fuF3ccM",
        "outputId": "c900e7ea-2a42-4fd7-9e86-54bedad45b86"
      },
      "outputs": [
        {
          "output_type": "stream",
          "name": "stdout",
          "text": [
            "<class 'pandas.core.frame.DataFrame'>\n",
            "RangeIndex: 14041 entries, 0 to 14040\n",
            "Data columns (total 5 columns):\n",
            " #   Column      Non-Null Count  Dtype \n",
            "---  ------      --------------  ----- \n",
            " 0   id          14041 non-null  object\n",
            " 1   tokens      14041 non-null  object\n",
            " 2   pos_tags    14041 non-null  object\n",
            " 3   chunk_tags  14041 non-null  object\n",
            " 4   ner_tags    14041 non-null  object\n",
            "dtypes: object(5)\n",
            "memory usage: 548.6+ KB\n"
          ]
        }
      ],
      "source": [
        "df.info()"
      ]
    },
    {
      "cell_type": "markdown",
      "id": "el1bAydalv7j",
      "metadata": {
        "id": "el1bAydalv7j"
      },
      "source": [
        "### <font color = 'indianred'> **Visualize distribution of class labels** </font>\n",
        "It is important to undetrstand the distribution of the class labels to check if there is any imbalance among the categories."
      ]
    },
    {
      "cell_type": "code",
      "execution_count": 16,
      "id": "sooGAq6ezW86",
      "metadata": {
        "colab": {
          "base_uri": "https://localhost:8080/",
          "height": 472
        },
        "id": "sooGAq6ezW86",
        "outputId": "03d1bab1-02e7-4403-9ddb-b860cd90eb4c"
      },
      "outputs": [
        {
          "output_type": "display_data",
          "data": {
            "text/plain": [
              "<Figure size 640x480 with 1 Axes>"
            ],
            "image/png": "[encoded data removed]"
          },
          "metadata": {}
        }
      ],
      "source": [
        "# check distribution of class labels in the dataset\n",
        "# Flatten the lists in df['tags']\n",
        "all_tags = [tag for sublist in df['ner_tags'] for tag in sublist]\n",
        "\n",
        "# Convert to a pandas Series and count occurrences of each tag\n",
        "tag_counts = pd.Series(all_tags).value_counts(ascending=True)\n",
        "\n",
        "# Plot the counts\n",
        "tag_counts.plot.barh()\n",
        "plt.xlabel('Count')\n",
        "plt.ylabel('POS Tag')\n",
        "plt.title('POS Tag Counts')\n",
        "plt.show()"
      ]
    },
    {
      "cell_type": "markdown",
      "id": "U8NRjjKVmRzq",
      "metadata": {
        "id": "U8NRjjKVmRzq"
      },
      "source": [
        "**Conclusions:**\n",
        "\n"
      ]
    },
    {
      "cell_type": "markdown",
      "id": "FYl8PoBim3kC",
      "metadata": {
        "id": "FYl8PoBim3kC"
      },
      "source": [
        "### <font color = 'indianred'> **Check length of the reviews** </font>\n"
      ]
    },
    {
      "cell_type": "code",
      "execution_count": 17,
      "id": "WOF_nrp2oBvT",
      "metadata": {
        "id": "WOF_nrp2oBvT"
      },
      "outputs": [],
      "source": [
        "# Calculate words per review\n",
        "df['words_per_sentence'] = df['tokens'].apply(len)"
      ]
    },
    {
      "cell_type": "code",
      "execution_count": 18,
      "id": "C9kGUd0X0Tle",
      "metadata": {
        "colab": {
          "base_uri": "https://localhost:8080/",
          "height": 241
        },
        "id": "C9kGUd0X0Tle",
        "outputId": "33b2b679-e5f3-4ae4-eb92-0d06bac0b437"
      },
      "outputs": [
        {
          "output_type": "execute_result",
          "data": {
            "text/plain": [
              "  id                                             tokens  \\\n",
              "0  0  [EU, rejects, German, call, to, boycott, Briti...   \n",
              "1  1                                 [Peter, Blackburn]   \n",
              "2  2                             [BRUSSELS, 1996-08-22]   \n",
              "3  3  [The, European, Commission, said, on, Thursday...   \n",
              "4  4  [Germany, 's, representative, to, the, Europea...   \n",
              "\n",
              "                                            pos_tags  \\\n",
              "0                [22, 42, 16, 21, 35, 37, 16, 21, 7]   \n",
              "1                                           [22, 22]   \n",
              "2                                           [22, 11]   \n",
              "3  [12, 22, 22, 38, 15, 22, 28, 38, 15, 16, 21, 3...   \n",
              "4  [22, 27, 21, 35, 12, 22, 22, 27, 16, 21, 22, 2...   \n",
              "\n",
              "                                          chunk_tags  \\\n",
              "0                [11, 21, 11, 12, 21, 22, 11, 12, 0]   \n",
              "1                                           [11, 12]   \n",
              "2                                           [11, 12]   \n",
              "3  [11, 12, 12, 21, 13, 11, 11, 21, 13, 11, 12, 1...   \n",
              "4  [11, 11, 12, 13, 11, 12, 12, 11, 12, 12, 12, 1...   \n",
              "\n",
              "                                            ner_tags  words_per_sentence  \n",
              "0                        [3, 0, 7, 0, 0, 0, 7, 0, 0]                   9  \n",
              "1                                             [1, 2]                   2  \n",
              "2                                             [5, 0]                   2  \n",
              "3  [0, 3, 4, 0, 0, 0, 0, 0, 0, 7, 0, 0, 0, 0, 0, ...                  30  \n",
              "4  [5, 0, 0, 0, 0, 3, 4, 0, 0, 0, 1, 2, 0, 0, 0, ...                  31  "
            ],
            "text/html": [
              "\n",
              "  <div id=\"df-f0571595-9aea-49d2-b14c-cabf1b1769e5\" class=\"colab-df-container\">\n",
              "    <div>\n",
              "<style scoped>\n",
              "    .dataframe tbody tr th:only-of-type {\n",
              "        vertical-align: middle;\n",
              "    }\n",
              "\n",
              "    .dataframe tbody tr th {\n",
              "        vertical-align: top;\n",
              "    }\n",
              "\n",
              "    .dataframe thead th {\n",
              "        text-align: right;\n",
              "    }\n",
              "</style>\n",
              "<table border=\"1\" class=\"dataframe\">\n",
              "  <thead>\n",
              "    <tr style=\"text-align: right;\">\n",
              "      <th></th>\n",
              "      <th>id</th>\n",
              "      <th>tokens</th>\n",
              "      <th>pos_tags</th>\n",
              "      <th>chunk_tags</th>\n",
              "      <th>ner_tags</th>\n",
              "      <th>words_per_sentence</th>\n",
              "    </tr>\n",
              "  </thead>\n",
              "  <tbody>\n",
              "    <tr>\n",
              "      <th>0</th>\n",
              "      <td>0</td>\n",
              "      <td>[EU, rejects, German, call, to, boycott, Briti...</td>\n",
              "      <td>[22, 42, 16, 21, 35, 37, 16, 21, 7]</td>\n",
              "      <td>[11, 21, 11, 12, 21, 22, 11, 12, 0]</td>\n",
              "      <td>[3, 0, 7, 0, 0, 0, 7, 0, 0]</td>\n",
              "      <td>9</td>\n",
              "    </tr>\n",
              "    <tr>\n",
              "      <th>1</th>\n",
              "      <td>1</td>\n",
              "      <td>[Peter, Blackburn]</td>\n",
              "      <td>[22, 22]</td>\n",
              "      <td>[11, 12]</td>\n",
              "      <td>[1, 2]</td>\n",
              "      <td>2</td>\n",
              "    </tr>\n",
              "    <tr>\n",
              "      <th>2</th>\n",
              "      <td>2</td>\n",
              "      <td>[BRUSSELS, 1996-08-22]</td>\n",
              "      <td>[22, 11]</td>\n",
              "      <td>[11, 12]</td>\n",
              "      <td>[5, 0]</td>\n",
              "      <td>2</td>\n",
              "    </tr>\n",
              "    <tr>\n",
              "      <th>3</th>\n",
              "      <td>3</td>\n",
              "      <td>[The, European, Commission, said, on, Thursday...</td>\n",
              "      <td>[12, 22, 22, 38, 15, 22, 28, 38, 15, 16, 21, 3...</td>\n",
              "      <td>[11, 12, 12, 21, 13, 11, 11, 21, 13, 11, 12, 1...</td>\n",
              "      <td>[0, 3, 4, 0, 0, 0, 0, 0, 0, 7, 0, 0, 0, 0, 0, ...</td>\n",
              "      <td>30</td>\n",
              "    </tr>\n",
              "    <tr>\n",
              "      <th>4</th>\n",
              "      <td>4</td>\n",
              "      <td>[Germany, 's, representative, to, the, Europea...</td>\n",
              "      <td>[22, 27, 21, 35, 12, 22, 22, 27, 16, 21, 22, 2...</td>\n",
              "      <td>[11, 11, 12, 13, 11, 12, 12, 11, 12, 12, 12, 1...</td>\n",
              "      <td>[5, 0, 0, 0, 0, 3, 4, 0, 0, 0, 1, 2, 0, 0, 0, ...</td>\n",
              "      <td>31</td>\n",
              "    </tr>\n",
              "  </tbody>\n",
              "</table>\n",
              "</div>\n",
              "    <div class=\"colab-df-buttons\">\n",
              "\n",
              "  <div class=\"colab-df-container\">\n",
              "    <button class=\"colab-df-convert\" onclick=\"convertToInteractive('df-f0571595-9aea-49d2-b14c-cabf1b1769e5')\"\n",
              "            title=\"Convert this dataframe to an interactive table.\"\n",
              "            style=\"display:none;\">\n",
              "\n",
              "  <svg xmlns=\"http://www.w3.org/2000/svg\" height=\"24px\" viewBox=\"0 -960 960 960\">\n",
              "    <path d=\"M120-120v-720h720v720H120Zm60-500h600v-160H180v160Zm220 220h160v-160H400v160Zm0 220h160v-160H400v160ZM180-400h160v-160H180v160Zm440 0h160v-160H620v160ZM180-180h160v-160H180v160Zm440 0h160v-160H620v160Z\"/>\n",
              "  </svg>\n",
              "    </button>\n",
              "\n",
              "  <style>\n",
              "    .colab-df-container {\n",
              "      display:flex;\n",
              "      gap: 12px;\n",
              "    }\n",
              "\n",
              "    .colab-df-convert {\n",
              "      background-color: #E8F0FE;\n",
              "      border: none;\n",
              "      border-radius: 50%;\n",
              "      cursor: pointer;\n",
              "      display: none;\n",
              "      fill: #1967D2;\n",
              "      height: 32px;\n",
              "      padding: 0 0 0 0;\n",
              "      width: 32px;\n",
              "    }\n",
              "\n",
              "    .colab-df-convert:hover {\n",
              "      background-color: #E2EBFA;\n",
              "      box-shadow: 0px 1px 2px rgba(60, 64, 67, 0.3), 0px 1px 3px 1px rgba(60, 64, 67, 0.15);\n",
              "      fill: #174EA6;\n",
              "    }\n",
              "\n",
              "    .colab-df-buttons div {\n",
              "      margin-bottom: 4px;\n",
              "    }\n",
              "\n",
              "    [theme=dark] .colab-df-convert {\n",
              "      background-color: #3B4455;\n",
              "      fill: #D2E3FC;\n",
              "    }\n",
              "\n",
              "    [theme=dark] .colab-df-convert:hover {\n",
              "      background-color: #434B5C;\n",
              "      box-shadow: 0px 1px 3px 1px rgba(0, 0, 0, 0.15);\n",
              "      filter: drop-shadow(0px 1px 2px rgba(0, 0, 0, 0.3));\n",
              "      fill: #FFFFFF;\n",
              "    }\n",
              "  </style>\n",
              "\n",
              "    <script>\n",
              "      const buttonEl =\n",
              "        document.querySelector('#df-f0571595-9aea-49d2-b14c-cabf1b1769e5 button.colab-df-convert');\n",
              "      buttonEl.style.display =\n",
              "        google.colab.kernel.accessAllowed ? 'block' : 'none';\n",
              "\n",
              "      async function convertToInteractive(key) {\n",
              "        const element = document.querySelector('#df-f0571595-9aea-49d2-b14c-cabf1b1769e5');\n",
              "        const dataTable =\n",
              "          await google.colab.kernel.invokeFunction('convertToInteractive',\n",
              "                                                    [key], {});\n",
              "        if (!dataTable) return;\n",
              "\n",
              "        const docLinkHtml = 'Like what you see? Visit the ' +\n",
              "          '<a target=\"_blank\" href=https://colab.research.google.com/notebooks/data_table.ipynb>data table notebook</a>'\n",
              "          + ' to learn more about interactive tables.';\n",
              "        element.innerHTML = '';\n",
              "        dataTable['output_type'] = 'display_data';\n",
              "        await google.colab.output.renderOutput(dataTable, element);\n",
              "        const docLink = document.createElement('div');\n",
              "        docLink.innerHTML = docLinkHtml;\n",
              "        element.appendChild(docLink);\n",
              "      }\n",
              "    </script>\n",
              "  </div>\n",
              "\n",
              "\n",
              "<div id=\"df-5d382d61-a6ed-4ade-b41f-35459dc9f62e\">\n",
              "  <button class=\"colab-df-quickchart\" onclick=\"quickchart('df-5d382d61-a6ed-4ade-b41f-35459dc9f62e')\"\n",
              "            title=\"Suggest charts.\"\n",
              "            style=\"display:none;\">\n",
              "\n",
              "<svg xmlns=\"http://www.w3.org/2000/svg\" height=\"24px\"viewBox=\"0 0 24 24\"\n",
              "     width=\"24px\">\n",
              "    <g>\n",
              "        <path d=\"M19 3H5c-1.1 0-2 .9-2 2v14c0 1.1.9 2 2 2h14c1.1 0 2-.9 2-2V5c0-1.1-.9-2-2-2zM9 17H7v-7h2v7zm4 0h-2V7h2v10zm4 0h-2v-4h2v4z\"/>\n",
              "    </g>\n",
              "</svg>\n",
              "  </button>\n",
              "\n",
              "<style>\n",
              "  .colab-df-quickchart {\n",
              "      --bg-color: #E8F0FE;\n",
              "      --fill-color: #1967D2;\n",
              "      --hover-bg-color: #E2EBFA;\n",
              "      --hover-fill-color: #174EA6;\n",
              "      --disabled-fill-color: #AAA;\n",
              "      --disabled-bg-color: #DDD;\n",
              "  }\n",
              "\n",
              "  [theme=dark] .colab-df-quickchart {\n",
              "      --bg-color: #3B4455;\n",
              "      --fill-color: #D2E3FC;\n",
              "      --hover-bg-color: #434B5C;\n",
              "      --hover-fill-color: #FFFFFF;\n",
              "      --disabled-bg-color: #3B4455;\n",
              "      --disabled-fill-color: #666;\n",
              "  }\n",
              "\n",
              "  .colab-df-quickchart {\n",
              "    background-color: var(--bg-color);\n",
              "    border: none;\n",
              "    border-radius: 50%;\n",
              "    cursor: pointer;\n",
              "    display: none;\n",
              "    fill: var(--fill-color);\n",
              "    height: 32px;\n",
              "    padding: 0;\n",
              "    width: 32px;\n",
              "  }\n",
              "\n",
              "  .colab-df-quickchart:hover {\n",
              "    background-color: var(--hover-bg-color);\n",
              "    box-shadow: 0 1px 2px rgba(60, 64, 67, 0.3), 0 1px 3px 1px rgba(60, 64, 67, 0.15);\n",
              "    fill: var(--button-hover-fill-color);\n",
              "  }\n",
              "\n",
              "  .colab-df-quickchart-complete:disabled,\n",
              "  .colab-df-quickchart-complete:disabled:hover {\n",
              "    background-color: var(--disabled-bg-color);\n",
              "    fill: var(--disabled-fill-color);\n",
              "    box-shadow: none;\n",
              "  }\n",
              "\n",
              "  .colab-df-spinner {\n",
              "    border: 2px solid var(--fill-color);\n",
              "    border-color: transparent;\n",
              "    border-bottom-color: var(--fill-color);\n",
              "    animation:\n",
              "      spin 1s steps(1) infinite;\n",
              "  }\n",
              "\n",
              "  @keyframes spin {\n",
              "    0% {\n",
              "      border-color: transparent;\n",
              "      border-bottom-color: var(--fill-color);\n",
              "      border-left-color: var(--fill-color);\n",
              "    }\n",
              "    20% {\n",
              "      border-color: transparent;\n",
              "      border-left-color: var(--fill-color);\n",
              "      border-top-color: var(--fill-color);\n",
              "    }\n",
              "    30% {\n",
              "      border-color: transparent;\n",
              "      border-left-color: var(--fill-color);\n",
              "      border-top-color: var(--fill-color);\n",
              "      border-right-color: var(--fill-color);\n",
              "    }\n",
              "    40% {\n",
              "      border-color: transparent;\n",
              "      border-right-color: var(--fill-color);\n",
              "      border-top-color: var(--fill-color);\n",
              "    }\n",
              "    60% {\n",
              "      border-color: transparent;\n",
              "      border-right-color: var(--fill-color);\n",
              "    }\n",
              "    80% {\n",
              "      border-color: transparent;\n",
              "      border-right-color: var(--fill-color);\n",
              "      border-bottom-color: var(--fill-color);\n",
              "    }\n",
              "    90% {\n",
              "      border-color: transparent;\n",
              "      border-bottom-color: var(--fill-color);\n",
              "    }\n",
              "  }\n",
              "</style>\n",
              "\n",
              "  <script>\n",
              "    async function quickchart(key) {\n",
              "      const quickchartButtonEl =\n",
              "        document.querySelector('#' + key + ' button');\n",
              "      quickchartButtonEl.disabled = true;  // To prevent multiple clicks.\n",
              "      quickchartButtonEl.classList.add('colab-df-spinner');\n",
              "      try {\n",
              "        const charts = await google.colab.kernel.invokeFunction(\n",
              "            'suggestCharts', [key], {});\n",
              "      } catch (error) {\n",
              "        console.error('Error during call to suggestCharts:', error);\n",
              "      }\n",
              "      quickchartButtonEl.classList.remove('colab-df-spinner');\n",
              "      quickchartButtonEl.classList.add('colab-df-quickchart-complete');\n",
              "    }\n",
              "    (() => {\n",
              "      let quickchartButtonEl =\n",
              "        document.querySelector('#df-5d382d61-a6ed-4ade-b41f-35459dc9f62e button');\n",
              "      quickchartButtonEl.style.display =\n",
              "        google.colab.kernel.accessAllowed ? 'block' : 'none';\n",
              "    })();\n",
              "  </script>\n",
              "</div>\n",
              "    </div>\n",
              "  </div>\n"
            ]
          },
          "metadata": {},
          "execution_count": 18
        }
      ],
      "source": [
        "df.head()"
      ]
    },
    {
      "cell_type": "markdown",
      "id": "YhePLup4AuDo",
      "metadata": {
        "id": "YhePLup4AuDo"
      },
      "source": [
        "#### <font color = 'indianred'> **Plot the distribution of review length** </font>"
      ]
    },
    {
      "cell_type": "code",
      "execution_count": 19,
      "id": "6m_e5NU7pOr_",
      "metadata": {
        "colab": {
          "base_uri": "https://localhost:8080/",
          "height": 472
        },
        "id": "6m_e5NU7pOr_",
        "outputId": "b5b81360-246b-4346-ccc5-c6e3f0be8ca4"
      },
      "outputs": [
        {
          "output_type": "display_data",
          "data": {
            "text/plain": [
              "<Figure size 640x480 with 1 Axes>"
            ],
            "image/png": "[encoded data removed]"
          },
          "metadata": {}
        }
      ],
      "source": [
        "# Plot a histogram of the 'words_per_review' column\n",
        "df['words_per_sentence'].hist(bins=50, edgecolor='black')\n",
        "\n",
        "# Adding labels and a title for clarity\n",
        "plt.xlabel('Number of Words')\n",
        "plt.ylabel('Frequency')\n",
        "plt.title('Distribution of Words per Review')\n",
        "\n",
        "# Display the plot\n",
        "plt.show()\n"
      ]
    },
    {
      "cell_type": "code",
      "execution_count": 20,
      "id": "yTYJqPgEpPQV",
      "metadata": {
        "colab": {
          "base_uri": "https://localhost:8080/"
        },
        "id": "yTYJqPgEpPQV",
        "outputId": "aa718592-cced-4d51-d4d2-7f15f035779b"
      },
      "outputs": [
        {
          "output_type": "stream",
          "name": "stdout",
          "text": [
            "Number of reviews with more than 500 words: 0\n"
          ]
        }
      ],
      "source": [
        "# The model we are going to use has token (subwords) limit of 512.\n",
        "# Let us check how many reviews has more than 500 words\n",
        "\n",
        "count = (df['words_per_sentence'] > 500).sum()\n",
        "print(f\"Number of reviews with more than 500 words: {count}\")"
      ]
    },
    {
      "cell_type": "code",
      "execution_count": 21,
      "id": "07706253",
      "metadata": {
        "colab": {
          "base_uri": "https://localhost:8080/"
        },
        "id": "07706253",
        "outputId": "42a9b078-e16e-4997-d183-33810a8cf69c"
      },
      "outputs": [
        {
          "output_type": "stream",
          "name": "stdout",
          "text": [
            "Number of reviews with no text words: 0\n"
          ]
        }
      ],
      "source": [
        "# count the rows that do not have any text\n",
        "count = (df['words_per_sentence'] ==0).sum()\n",
        "print(f\"Number of reviews with no text words: {count}\")"
      ]
    },
    {
      "cell_type": "code",
      "execution_count": 22,
      "id": "f436b258",
      "metadata": {
        "colab": {
          "base_uri": "https://localhost:8080/"
        },
        "id": "f436b258",
        "outputId": "0d714c45-1ae4-426f-89f8-8e471c67e749"
      },
      "outputs": [
        {
          "output_type": "stream",
          "name": "stdout",
          "text": [
            "Number of reviews with less than 1 word: 179\n"
          ]
        }
      ],
      "source": [
        "# check the rows that have one word\n",
        "count = (df['words_per_sentence'] <2).sum()\n",
        "print(f\"Number of reviews with less than 1 word: {count}\")"
      ]
    },
    {
      "cell_type": "code",
      "execution_count": 23,
      "id": "c0fcbb78",
      "metadata": {
        "colab": {
          "base_uri": "https://localhost:8080/",
          "height": 423
        },
        "id": "c0fcbb78",
        "outputId": "7250c01b-7cd6-4eb8-a245-113eb2d01dec"
      },
      "outputs": [
        {
          "output_type": "execute_result",
          "data": {
            "text/plain": [
              "          id        tokens pos_tags chunk_tags ner_tags  words_per_sentence\n",
              "11        11           [.]      [7]        [0]      [0]                   1\n",
              "200      200      [THAWRA]     [38]       [11]      [3]                   1\n",
              "203      203        [IRAQ]     [21]       [11]      [5]                   1\n",
              "209      209    [AN-NAHAR]     [22]       [11]      [3]                   1\n",
              "212      212    [AS-SAFIR]     [22]       [11]      [3]                   1\n",
              "...      ...           ...      ...        ...      ...                 ...\n",
              "13751  13751  [Jul-18.Jul]     [21]       [11]      [0]                   1\n",
              "13855  13855         [GDP]     [22]       [11]      [0]                   1\n",
              "13879  13879         [ABC]     [22]       [11]      [3]                   1\n",
              "13883  13883   [EXPANSION]     [21]       [11]      [3]                   1\n",
              "13907  13907           [*]     [34]        [0]      [0]                   1\n",
              "\n",
              "[179 rows x 6 columns]"
            ],
            "text/html": [
              "\n",
              "  <div id=\"df-b892baf4-dbd6-4b1d-b6e9-f059c145bebb\" class=\"colab-df-container\">\n",
              "    <div>\n",
              "<style scoped>\n",
              "    .dataframe tbody tr th:only-of-type {\n",
              "        vertical-align: middle;\n",
              "    }\n",
              "\n",
              "    .dataframe tbody tr th {\n",
              "        vertical-align: top;\n",
              "    }\n",
              "\n",
              "    .dataframe thead th {\n",
              "        text-align: right;\n",
              "    }\n",
              "</style>\n",
              "<table border=\"1\" class=\"dataframe\">\n",
              "  <thead>\n",
              "    <tr style=\"text-align: right;\">\n",
              "      <th></th>\n",
              "      <th>id</th>\n",
              "      <th>tokens</th>\n",
              "      <th>pos_tags</th>\n",
              "      <th>chunk_tags</th>\n",
              "      <th>ner_tags</th>\n",
              "      <th>words_per_sentence</th>\n",
              "    </tr>\n",
              "  </thead>\n",
              "  <tbody>\n",
              "    <tr>\n",
              "      <th>11</th>\n",
              "      <td>11</td>\n",
              "      <td>[.]</td>\n",
              "      <td>[7]</td>\n",
              "      <td>[0]</td>\n",
              "      <td>[0]</td>\n",
              "      <td>1</td>\n",
              "    </tr>\n",
              "    <tr>\n",
              "      <th>200</th>\n",
              "      <td>200</td>\n",
              "      <td>[THAWRA]</td>\n",
              "      <td>[38]</td>\n",
              "      <td>[11]</td>\n",
              "      <td>[3]</td>\n",
              "      <td>1</td>\n",
              "    </tr>\n",
              "    <tr>\n",
              "      <th>203</th>\n",
              "      <td>203</td>\n",
              "      <td>[IRAQ]</td>\n",
              "      <td>[21]</td>\n",
              "      <td>[11]</td>\n",
              "      <td>[5]</td>\n",
              "      <td>1</td>\n",
              "    </tr>\n",
              "    <tr>\n",
              "      <th>209</th>\n",
              "      <td>209</td>\n",
              "      <td>[AN-NAHAR]</td>\n",
              "      <td>[22]</td>\n",
              "      <td>[11]</td>\n",
              "      <td>[3]</td>\n",
              "      <td>1</td>\n",
              "    </tr>\n",
              "    <tr>\n",
              "      <th>212</th>\n",
              "      <td>212</td>\n",
              "      <td>[AS-SAFIR]</td>\n",
              "      <td>[22]</td>\n",
              "      <td>[11]</td>\n",
              "      <td>[3]</td>\n",
              "      <td>1</td>\n",
              "    </tr>\n",
              "    <tr>\n",
              "      <th>...</th>\n",
              "      <td>...</td>\n",
              "      <td>...</td>\n",
              "      <td>...</td>\n",
              "      <td>...</td>\n",
              "      <td>...</td>\n",
              "      <td>...</td>\n",
              "    </tr>\n",
              "    <tr>\n",
              "      <th>13751</th>\n",
              "      <td>13751</td>\n",
              "      <td>[Jul-18.Jul]</td>\n",
              "      <td>[21]</td>\n",
              "      <td>[11]</td>\n",
              "      <td>[0]</td>\n",
              "      <td>1</td>\n",
              "    </tr>\n",
              "    <tr>\n",
              "      <th>13855</th>\n",
              "      <td>13855</td>\n",
              "      <td>[GDP]</td>\n",
              "      <td>[22]</td>\n",
              "      <td>[11]</td>\n",
              "      <td>[0]</td>\n",
              "      <td>1</td>\n",
              "    </tr>\n",
              "    <tr>\n",
              "      <th>13879</th>\n",
              "      <td>13879</td>\n",
              "      <td>[ABC]</td>\n",
              "      <td>[22]</td>\n",
              "      <td>[11]</td>\n",
              "      <td>[3]</td>\n",
              "      <td>1</td>\n",
              "    </tr>\n",
              "    <tr>\n",
              "      <th>13883</th>\n",
              "      <td>13883</td>\n",
              "      <td>[EXPANSION]</td>\n",
              "      <td>[21]</td>\n",
              "      <td>[11]</td>\n",
              "      <td>[3]</td>\n",
              "      <td>1</td>\n",
              "    </tr>\n",
              "    <tr>\n",
              "      <th>13907</th>\n",
              "      <td>13907</td>\n",
              "      <td>[*]</td>\n",
              "      <td>[34]</td>\n",
              "      <td>[0]</td>\n",
              "      <td>[0]</td>\n",
              "      <td>1</td>\n",
              "    </tr>\n",
              "  </tbody>\n",
              "</table>\n",
              "<p>179 rows × 6 columns</p>\n",
              "</div>\n",
              "    <div class=\"colab-df-buttons\">\n",
              "\n",
              "  <div class=\"colab-df-container\">\n",
              "    <button class=\"colab-df-convert\" onclick=\"convertToInteractive('df-b892baf4-dbd6-4b1d-b6e9-f059c145bebb')\"\n",
              "            title=\"Convert this dataframe to an interactive table.\"\n",
              "            style=\"display:none;\">\n",
              "\n",
              "  <svg xmlns=\"http://www.w3.org/2000/svg\" height=\"24px\" viewBox=\"0 -960 960 960\">\n",
              "    <path d=\"M120-120v-720h720v720H120Zm60-500h600v-160H180v160Zm220 220h160v-160H400v160Zm0 220h160v-160H400v160ZM180-400h160v-160H180v160Zm440 0h160v-160H620v160ZM180-180h160v-160H180v160Zm440 0h160v-160H620v160Z\"/>\n",
              "  </svg>\n",
              "    </button>\n",
              "\n",
              "  <style>\n",
              "    .colab-df-container {\n",
              "      display:flex;\n",
              "      gap: 12px;\n",
              "    }\n",
              "\n",
              "    .colab-df-convert {\n",
              "      background-color: #E8F0FE;\n",
              "      border: none;\n",
              "      border-radius: 50%;\n",
              "      cursor: pointer;\n",
              "      display: none;\n",
              "      fill: #1967D2;\n",
              "      height: 32px;\n",
              "      padding: 0 0 0 0;\n",
              "      width: 32px;\n",
              "    }\n",
              "\n",
              "    .colab-df-convert:hover {\n",
              "      background-color: #E2EBFA;\n",
              "      box-shadow: 0px 1px 2px rgba(60, 64, 67, 0.3), 0px 1px 3px 1px rgba(60, 64, 67, 0.15);\n",
              "      fill: #174EA6;\n",
              "    }\n",
              "\n",
              "    .colab-df-buttons div {\n",
              "      margin-bottom: 4px;\n",
              "    }\n",
              "\n",
              "    [theme=dark] .colab-df-convert {\n",
              "      background-color: #3B4455;\n",
              "      fill: #D2E3FC;\n",
              "    }\n",
              "\n",
              "    [theme=dark] .colab-df-convert:hover {\n",
              "      background-color: #434B5C;\n",
              "      box-shadow: 0px 1px 3px 1px rgba(0, 0, 0, 0.15);\n",
              "      filter: drop-shadow(0px 1px 2px rgba(0, 0, 0, 0.3));\n",
              "      fill: #FFFFFF;\n",
              "    }\n",
              "  </style>\n",
              "\n",
              "    <script>\n",
              "      const buttonEl =\n",
              "        document.querySelector('#df-b892baf4-dbd6-4b1d-b6e9-f059c145bebb button.colab-df-convert');\n",
              "      buttonEl.style.display =\n",
              "        google.colab.kernel.accessAllowed ? 'block' : 'none';\n",
              "\n",
              "      async function convertToInteractive(key) {\n",
              "        const element = document.querySelector('#df-b892baf4-dbd6-4b1d-b6e9-f059c145bebb');\n",
              "        const dataTable =\n",
              "          await google.colab.kernel.invokeFunction('convertToInteractive',\n",
              "                                                    [key], {});\n",
              "        if (!dataTable) return;\n",
              "\n",
              "        const docLinkHtml = 'Like what you see? Visit the ' +\n",
              "          '<a target=\"_blank\" href=https://colab.research.google.com/notebooks/data_table.ipynb>data table notebook</a>'\n",
              "          + ' to learn more about interactive tables.';\n",
              "        element.innerHTML = '';\n",
              "        dataTable['output_type'] = 'display_data';\n",
              "        await google.colab.output.renderOutput(dataTable, element);\n",
              "        const docLink = document.createElement('div');\n",
              "        docLink.innerHTML = docLinkHtml;\n",
              "        element.appendChild(docLink);\n",
              "      }\n",
              "    </script>\n",
              "  </div>\n",
              "\n",
              "\n",
              "<div id=\"df-21a38394-cbb8-4d5c-8f52-624f0f5b8196\">\n",
              "  <button class=\"colab-df-quickchart\" onclick=\"quickchart('df-21a38394-cbb8-4d5c-8f52-624f0f5b8196')\"\n",
              "            title=\"Suggest charts.\"\n",
              "            style=\"display:none;\">\n",
              "\n",
              "<svg xmlns=\"http://www.w3.org/2000/svg\" height=\"24px\"viewBox=\"0 0 24 24\"\n",
              "     width=\"24px\">\n",
              "    <g>\n",
              "        <path d=\"M19 3H5c-1.1 0-2 .9-2 2v14c0 1.1.9 2 2 2h14c1.1 0 2-.9 2-2V5c0-1.1-.9-2-2-2zM9 17H7v-7h2v7zm4 0h-2V7h2v10zm4 0h-2v-4h2v4z\"/>\n",
              "    </g>\n",
              "</svg>\n",
              "  </button>\n",
              "\n",
              "<style>\n",
              "  .colab-df-quickchart {\n",
              "      --bg-color: #E8F0FE;\n",
              "      --fill-color: #1967D2;\n",
              "      --hover-bg-color: #E2EBFA;\n",
              "      --hover-fill-color: #174EA6;\n",
              "      --disabled-fill-color: #AAA;\n",
              "      --disabled-bg-color: #DDD;\n",
              "  }\n",
              "\n",
              "  [theme=dark] .colab-df-quickchart {\n",
              "      --bg-color: #3B4455;\n",
              "      --fill-color: #D2E3FC;\n",
              "      --hover-bg-color: #434B5C;\n",
              "      --hover-fill-color: #FFFFFF;\n",
              "      --disabled-bg-color: #3B4455;\n",
              "      --disabled-fill-color: #666;\n",
              "  }\n",
              "\n",
              "  .colab-df-quickchart {\n",
              "    background-color: var(--bg-color);\n",
              "    border: none;\n",
              "    border-radius: 50%;\n",
              "    cursor: pointer;\n",
              "    display: none;\n",
              "    fill: var(--fill-color);\n",
              "    height: 32px;\n",
              "    padding: 0;\n",
              "    width: 32px;\n",
              "  }\n",
              "\n",
              "  .colab-df-quickchart:hover {\n",
              "    background-color: var(--hover-bg-color);\n",
              "    box-shadow: 0 1px 2px rgba(60, 64, 67, 0.3), 0 1px 3px 1px rgba(60, 64, 67, 0.15);\n",
              "    fill: var(--button-hover-fill-color);\n",
              "  }\n",
              "\n",
              "  .colab-df-quickchart-complete:disabled,\n",
              "  .colab-df-quickchart-complete:disabled:hover {\n",
              "    background-color: var(--disabled-bg-color);\n",
              "    fill: var(--disabled-fill-color);\n",
              "    box-shadow: none;\n",
              "  }\n",
              "\n",
              "  .colab-df-spinner {\n",
              "    border: 2px solid var(--fill-color);\n",
              "    border-color: transparent;\n",
              "    border-bottom-color: var(--fill-color);\n",
              "    animation:\n",
              "      spin 1s steps(1) infinite;\n",
              "  }\n",
              "\n",
              "  @keyframes spin {\n",
              "    0% {\n",
              "      border-color: transparent;\n",
              "      border-bottom-color: var(--fill-color);\n",
              "      border-left-color: var(--fill-color);\n",
              "    }\n",
              "    20% {\n",
              "      border-color: transparent;\n",
              "      border-left-color: var(--fill-color);\n",
              "      border-top-color: var(--fill-color);\n",
              "    }\n",
              "    30% {\n",
              "      border-color: transparent;\n",
              "      border-left-color: var(--fill-color);\n",
              "      border-top-color: var(--fill-color);\n",
              "      border-right-color: var(--fill-color);\n",
              "    }\n",
              "    40% {\n",
              "      border-color: transparent;\n",
              "      border-right-color: var(--fill-color);\n",
              "      border-top-color: var(--fill-color);\n",
              "    }\n",
              "    60% {\n",
              "      border-color: transparent;\n",
              "      border-right-color: var(--fill-color);\n",
              "    }\n",
              "    80% {\n",
              "      border-color: transparent;\n",
              "      border-right-color: var(--fill-color);\n",
              "      border-bottom-color: var(--fill-color);\n",
              "    }\n",
              "    90% {\n",
              "      border-color: transparent;\n",
              "      border-bottom-color: var(--fill-color);\n",
              "    }\n",
              "  }\n",
              "</style>\n",
              "\n",
              "  <script>\n",
              "    async function quickchart(key) {\n",
              "      const quickchartButtonEl =\n",
              "        document.querySelector('#' + key + ' button');\n",
              "      quickchartButtonEl.disabled = true;  // To prevent multiple clicks.\n",
              "      quickchartButtonEl.classList.add('colab-df-spinner');\n",
              "      try {\n",
              "        const charts = await google.colab.kernel.invokeFunction(\n",
              "            'suggestCharts', [key], {});\n",
              "      } catch (error) {\n",
              "        console.error('Error during call to suggestCharts:', error);\n",
              "      }\n",
              "      quickchartButtonEl.classList.remove('colab-df-spinner');\n",
              "      quickchartButtonEl.classList.add('colab-df-quickchart-complete');\n",
              "    }\n",
              "    (() => {\n",
              "      let quickchartButtonEl =\n",
              "        document.querySelector('#df-21a38394-cbb8-4d5c-8f52-624f0f5b8196 button');\n",
              "      quickchartButtonEl.style.display =\n",
              "        google.colab.kernel.accessAllowed ? 'block' : 'none';\n",
              "    })();\n",
              "  </script>\n",
              "</div>\n",
              "    </div>\n",
              "  </div>\n"
            ]
          },
          "metadata": {},
          "execution_count": 23
        }
      ],
      "source": [
        "df[df['words_per_sentence'] <2]"
      ]
    },
    {
      "cell_type": "code",
      "execution_count": 24,
      "id": "RUNNBUrRoXam",
      "metadata": {
        "colab": {
          "base_uri": "https://localhost:8080/",
          "height": 447
        },
        "id": "RUNNBUrRoXam",
        "outputId": "762c3f1e-04d0-4cd4-d167-07ff6876aabc"
      },
      "outputs": [
        {
          "output_type": "execute_result",
          "data": {
            "text/plain": [
              "<Axes: >"
            ]
          },
          "metadata": {},
          "execution_count": 24
        },
        {
          "output_type": "display_data",
          "data": {
            "text/plain": [
              "<Figure size 640x480 with 1 Axes>"
            ],
            "image/png": "[encoded data removed]"
          },
          "metadata": {}
        }
      ],
      "source": [
        "# distribution of number of words for each class label\n",
        "df.boxplot('words_per_sentence')"
      ]
    },
    {
      "cell_type": "markdown",
      "id": "QuV3BOnD1GjF",
      "metadata": {
        "id": "QuV3BOnD1GjF"
      },
      "source": [
        "### <font color = 'indianred'> **Reset dataset format** </font>\n"
      ]
    },
    {
      "cell_type": "code",
      "execution_count": 25,
      "id": "S2XAL-2PyI-3",
      "metadata": {
        "id": "S2XAL-2PyI-3"
      },
      "outputs": [],
      "source": [
        "# reset the format back to huggingface dataset\n",
        "conll_dataset.reset_format()"
      ]
    },
    {
      "cell_type": "code",
      "execution_count": 26,
      "id": "uFO6-IFVyOtE",
      "metadata": {
        "colab": {
          "base_uri": "https://localhost:8080/"
        },
        "id": "uFO6-IFVyOtE",
        "outputId": "d5e60b39-2df6-46ed-a923-1100cf76d003"
      },
      "outputs": [
        {
          "output_type": "execute_result",
          "data": {
            "text/plain": [
              "DatasetDict({\n",
              "    train: Dataset({\n",
              "        features: ['id', 'tokens', 'pos_tags', 'chunk_tags', 'ner_tags'],\n",
              "        num_rows: 14041\n",
              "    })\n",
              "    validation: Dataset({\n",
              "        features: ['id', 'tokens', 'pos_tags', 'chunk_tags', 'ner_tags'],\n",
              "        num_rows: 3250\n",
              "    })\n",
              "    test: Dataset({\n",
              "        features: ['id', 'tokens', 'pos_tags', 'chunk_tags', 'ner_tags'],\n",
              "        num_rows: 3453\n",
              "    })\n",
              "})"
            ]
          },
          "metadata": {},
          "execution_count": 26
        }
      ],
      "source": [
        "conll_dataset"
      ]
    },
    {
      "cell_type": "code",
      "execution_count": 27,
      "id": "f53c8511",
      "metadata": {
        "colab": {
          "base_uri": "https://localhost:8080/"
        },
        "id": "f53c8511",
        "outputId": "1f4c99ab-a8e2-4d6a-a493-82a8c7ee468d"
      },
      "outputs": [
        {
          "output_type": "execute_result",
          "data": {
            "text/plain": [
              "['*']"
            ]
          },
          "metadata": {},
          "execution_count": 27
        }
      ],
      "source": [
        "conll_dataset['train']['tokens'][13907]"
      ]
    },
    {
      "cell_type": "markdown",
      "id": "olD42nSSAwrM",
      "metadata": {
        "id": "olD42nSSAwrM"
      },
      "source": [
        "# <font color = 'indianred'> **Data Pre-processing**</font>"
      ]
    },
    {
      "cell_type": "markdown",
      "id": "5cd73c0b",
      "metadata": {
        "id": "5cd73c0b"
      },
      "source": [
        "### <font color = 'indianred'> **Create small subset for experimentation** </font>\n"
      ]
    },
    {
      "cell_type": "code",
      "execution_count": 28,
      "id": "4f377bce",
      "metadata": {
        "id": "4f377bce"
      },
      "outputs": [],
      "source": [
        "train_split_small = conll_dataset['train'].shuffle(seed=42).select(range(5000))\n",
        "val_split_small = conll_dataset['validation'].shuffle(seed=42).select(range(1000))\n",
        "test_split_small = conll_dataset['test'].shuffle(seed=42).select(range(1000))"
      ]
    },
    {
      "cell_type": "code",
      "execution_count": 29,
      "id": "PSvvyER72fnP",
      "metadata": {
        "id": "PSvvyER72fnP"
      },
      "outputs": [],
      "source": [
        "# combine train, val splits into one dataset\n",
        "train_val_subset = DatasetDict({'train': train_split_small, 'val': val_split_small})\n",
        "\n",
        "# create test dataset from test split\n",
        "test_subset= DatasetDict({'test': test_split_small})"
      ]
    },
    {
      "cell_type": "code",
      "execution_count": 30,
      "id": "ffcd85c6",
      "metadata": {
        "colab": {
          "base_uri": "https://localhost:8080/"
        },
        "id": "ffcd85c6",
        "outputId": "85696040-9d07-46e8-cb3d-39c1569b3d84"
      },
      "outputs": [
        {
          "output_type": "execute_result",
          "data": {
            "text/plain": [
              "DatasetDict({\n",
              "    train: Dataset({\n",
              "        features: ['id', 'tokens', 'pos_tags', 'chunk_tags', 'ner_tags'],\n",
              "        num_rows: 5000\n",
              "    })\n",
              "    val: Dataset({\n",
              "        features: ['id', 'tokens', 'pos_tags', 'chunk_tags', 'ner_tags'],\n",
              "        num_rows: 1000\n",
              "    })\n",
              "})"
            ]
          },
          "metadata": {},
          "execution_count": 30
        }
      ],
      "source": [
        "train_val_subset"
      ]
    },
    {
      "cell_type": "code",
      "execution_count": 31,
      "id": "301da051",
      "metadata": {
        "colab": {
          "base_uri": "https://localhost:8080/"
        },
        "id": "301da051",
        "outputId": "88234c35-5c78-4f58-c927-e7a6e172fdbc"
      },
      "outputs": [
        {
          "output_type": "execute_result",
          "data": {
            "text/plain": [
              "DatasetDict({\n",
              "    test: Dataset({\n",
              "        features: ['id', 'tokens', 'pos_tags', 'chunk_tags', 'ner_tags'],\n",
              "        num_rows: 1000\n",
              "    })\n",
              "})"
            ]
          },
          "metadata": {},
          "execution_count": 31
        }
      ],
      "source": [
        "test_subset"
      ]
    },
    {
      "cell_type": "markdown",
      "id": "4fc39b2b",
      "metadata": {
        "id": "4fc39b2b"
      },
      "source": [
        "### <font color = 'indianred'> **Map Targets to integers** </font>"
      ]
    },
    {
      "cell_type": "code",
      "execution_count": 32,
      "id": "1784e3d0",
      "metadata": {
        "id": "1784e3d0"
      },
      "outputs": [],
      "source": [
        "class_names = conll_dataset['train'].features['ner_tags'].feature.names"
      ]
    },
    {
      "cell_type": "code",
      "execution_count": 33,
      "id": "7c5b8322",
      "metadata": {
        "colab": {
          "base_uri": "https://localhost:8080/"
        },
        "id": "7c5b8322",
        "outputId": "562c5504-9223-45ad-eb24-ecf9029b1221"
      },
      "outputs": [
        {
          "output_type": "execute_result",
          "data": {
            "text/plain": [
              "['O', 'B-PER', 'I-PER', 'B-ORG', 'I-ORG', 'B-LOC', 'I-LOC', 'B-MISC', 'I-MISC']"
            ]
          },
          "metadata": {},
          "execution_count": 33
        }
      ],
      "source": [
        "class_names"
      ]
    },
    {
      "cell_type": "code",
      "execution_count": 34,
      "id": "4ddbefd3",
      "metadata": {
        "colab": {
          "base_uri": "https://localhost:8080/"
        },
        "id": "4ddbefd3",
        "outputId": "c032e48f-1707-45e1-c64c-20dfb6f86dfe"
      },
      "outputs": [
        {
          "output_type": "execute_result",
          "data": {
            "text/plain": [
              "{'0': 'O',\n",
              " '1': 'B-PER',\n",
              " '2': 'I-PER',\n",
              " '3': 'B-ORG',\n",
              " '4': 'I-ORG',\n",
              " '5': 'B-LOC',\n",
              " '6': 'I-LOC',\n",
              " '7': 'B-MISC',\n",
              " '8': 'I-MISC'}"
            ]
          },
          "metadata": {},
          "execution_count": 34
        }
      ],
      "source": [
        "id2label = {}\n",
        "for id_, label_ in enumerate(class_names):\n",
        "    id2label[str(id_)] = label_\n",
        "id2label"
      ]
    },
    {
      "cell_type": "code",
      "execution_count": 35,
      "id": "5d715667",
      "metadata": {
        "colab": {
          "base_uri": "https://localhost:8080/"
        },
        "id": "5d715667",
        "outputId": "4e15d77e-7bbd-4b41-d222-e5edd5ddb4d3"
      },
      "outputs": [
        {
          "output_type": "execute_result",
          "data": {
            "text/plain": [
              "{'O': 0,\n",
              " 'B-PER': 1,\n",
              " 'I-PER': 2,\n",
              " 'B-ORG': 3,\n",
              " 'I-ORG': 4,\n",
              " 'B-LOC': 5,\n",
              " 'I-LOC': 6,\n",
              " 'B-MISC': 7,\n",
              " 'I-MISC': 8}"
            ]
          },
          "metadata": {},
          "execution_count": 35
        }
      ],
      "source": [
        "label2id = {}\n",
        "for id_, label_ in enumerate(class_names):\n",
        "    label2id[label_] = id_\n",
        "label2id"
      ]
    },
    {
      "cell_type": "markdown",
      "id": "150ee1e9-7371-40b1-a526-30ec37cf0654",
      "metadata": {
        "id": "150ee1e9-7371-40b1-a526-30ec37cf0654"
      },
      "source": [
        "## <font color = 'indianred'> **Tokenization**</font>\n",
        "\n"
      ]
    },
    {
      "cell_type": "code",
      "execution_count": 36,
      "id": "hzUiqZR6hI4o",
      "metadata": {
        "colab": {
          "base_uri": "https://localhost:8080/",
          "height": 145,
          "referenced_widgets": [
            "f8c3065bd9504c8f8cd085efa8080953",
            "3fceb449b27849ecbd204648bcd24ba3",
            "964797cb16a44f4987eea8012c420722",
            "385e5d2b5d464220b289d3c067bb3a6d",
            "4722da5cef194d3f93d1116e52fe922c",
            "ebf1a8b17d8c4356be2d3cd96d5e71b9",
            "5f9de09f66404037a684f161dd84e32d",
            "1dbcf882381d4826b8b5b1ff6a5df578",
            "cee309d5eb014e42b3ca1eeb9b3f99e5",
            "7102474928344dfeb955e16d9fcf7dda",
            "10a9670597f24c43ba61d7827ba6bd62",
            "38140dd48aa747f180009ea5a3ca76f6",
            "39929e252b404f258fd1bce8974fc02c",
            "9c22a6d4dfff43988f70b24bf6dc1340",
            "f11bd8729c5b4c849d71a5ee521d959d",
            "02dac5c1bab9488f831829be11253859",
            "a37ed9a9fc49415f973e49806a36f410",
            "50a4e4ed23d844bd8108a3a8d20299a7",
            "43bf124a6e654601afedbb798539b570",
            "0f0737228444420aaa6d66a07158359c",
            "0ec4b086e99b45b896b88e7df4f90fcd",
            "a532f2e952a84f379d5675a5df19ca86",
            "d174c07921fd4232b1ac0a2f5863434c",
            "4e194544e9de40b89c2a6a8d9e44a621",
            "024c493cf3a34815ba539f8927bc5c1e",
            "3600de8d2d234763b442ceaa434c419a",
            "6b8f1d976dc7465fbb7ed626f95b5f2b",
            "74642e0a7360407c96e21d0d92e71838",
            "571a96dd51a94e539ed3a4427dfd1ce5",
            "750716396ed94f7f88b1d3208dcbf623",
            "03354061cafb408693c2672d150f6c91",
            "f57b0915614b409eaa9b001e1db57e46",
            "0c83eff26bb6414ca22ed4b58a0afe27",
            "8eca81afdb4b4181b2f9f437de51ead3",
            "63f6519f65714811a85977ff3a05f9b3",
            "6f9003842062413f80184cf53d49f6bb",
            "c096ed4054364e6383135db5265ae870",
            "71c5f412f813472f8e2cea8d2812fc14",
            "45a41a630206442e86390baa84c602aa",
            "43079de2bd24431f8347781a847874bd",
            "7a6766bc908543e39fbfd4fcde8d4e7d",
            "5780da05a70c4de396051ad1325640fc",
            "f0f5c6b667f44dffae4964358ab8f78b",
            "25f7fcd07298456c8daf615b2e287e54"
          ]
        },
        "execution": {
          "iopub.execute_input": "2022-12-23T23:14:07.903271Z",
          "iopub.status.busy": "2022-12-23T23:14:07.902958Z",
          "iopub.status.idle": "2022-12-23T23:14:07.955695Z",
          "shell.execute_reply": "2022-12-23T23:14:07.955154Z",
          "shell.execute_reply.started": "2022-12-23T23:14:07.903251Z"
        },
        "id": "hzUiqZR6hI4o",
        "outputId": "ace25f7d-f018-4517-b2ea-68b6874a6eb4",
        "tags": []
      },
      "outputs": [
        {
          "output_type": "display_data",
          "data": {
            "text/plain": [
              "Downloading (…)okenizer_config.json:   0%|          | 0.00/28.0 [00:00<?, ?B/s]"
            ],
            "application/vnd.jupyter.widget-view+json": {
              "version_major": 2,
              "version_minor": 0,
              "model_id": "f8c3065bd9504c8f8cd085efa8080953"
            }
          },
          "metadata": {}
        },
        {
          "output_type": "display_data",
          "data": {
            "text/plain": [
              "Downloading (…)lve/main/config.json:   0%|          | 0.00/483 [00:00<?, ?B/s]"
            ],
            "application/vnd.jupyter.widget-view+json": {
              "version_major": 2,
              "version_minor": 0,
              "model_id": "38140dd48aa747f180009ea5a3ca76f6"
            }
          },
          "metadata": {}
        },
        {
          "output_type": "display_data",
          "data": {
            "text/plain": [
              "Downloading (…)solve/main/vocab.txt:   0%|          | 0.00/232k [00:00<?, ?B/s]"
            ],
            "application/vnd.jupyter.widget-view+json": {
              "version_major": 2,
              "version_minor": 0,
              "model_id": "d174c07921fd4232b1ac0a2f5863434c"
            }
          },
          "metadata": {}
        },
        {
          "output_type": "display_data",
          "data": {
            "text/plain": [
              "Downloading (…)/main/tokenizer.json:   0%|          | 0.00/466k [00:00<?, ?B/s]"
            ],
            "application/vnd.jupyter.widget-view+json": {
              "version_major": 2,
              "version_minor": 0,
              "model_id": "8eca81afdb4b4181b2f9f437de51ead3"
            }
          },
          "metadata": {}
        }
      ],
      "source": [
        "# Define a checkpoint for the DistilBERT model with an uncased vocabulary.\n",
        "# Instantiate the tokenizer for this model using the specified checkpoint.\n",
        "checkpoint = \"distilbert-base-uncased\"\n",
        "tokenizer = AutoTokenizer.from_pretrained(checkpoint)"
      ]
    },
    {
      "cell_type": "markdown",
      "id": "JDp4gu0uYZ1d",
      "metadata": {
        "id": "JDp4gu0uYZ1d"
      },
      "source": [
        "###  <font color = 'indianred'> **Understanding pre-trained Tokenizer**\n",
        "- We also need to keep track of word ids so that we can align labels with tokens\n"
      ]
    },
    {
      "cell_type": "code",
      "execution_count": 37,
      "id": "Pdd63KwJ1wKV",
      "metadata": {
        "id": "Pdd63KwJ1wKV"
      },
      "outputs": [],
      "source": [
        "idx = 0\n",
        "encoded_text = tokenizer(train_val_subset['train']['tokens'][idx], is_split_into_words=True) ####### NEW ############"
      ]
    },
    {
      "cell_type": "code",
      "execution_count": 38,
      "id": "pe6_RHcPcs02",
      "metadata": {
        "colab": {
          "base_uri": "https://localhost:8080/"
        },
        "id": "pe6_RHcPcs02",
        "outputId": "ae832b52-15f2-4b5f-be17-535592c23f85"
      },
      "outputs": [
        {
          "output_type": "execute_result",
          "data": {
            "text/plain": [
              "{'input_ids': [101, 1000, 4445, 1996, 2120, 21633, 1006, 13157, 1007, 4496, 1996, 13009, 15048, 2000, 22590, 2019, 2137, 6926, 1010, 1000, 2002, 6626, 1010, 1999, 2019, 20658, 4431, 2000, 2010, 4469, 20562, 2000, 2762, 2013, 5842, 1012, 1000, 102], 'attention_mask': [1, 1, 1, 1, 1, 1, 1, 1, 1, 1, 1, 1, 1, 1, 1, 1, 1, 1, 1, 1, 1, 1, 1, 1, 1, 1, 1, 1, 1, 1, 1, 1, 1, 1, 1, 1, 1, 1]}"
            ]
          },
          "metadata": {},
          "execution_count": 38
        }
      ],
      "source": [
        "encoded_text"
      ]
    },
    {
      "cell_type": "code",
      "execution_count": 39,
      "id": "515e41c1",
      "metadata": {
        "colab": {
          "base_uri": "https://localhost:8080/"
        },
        "id": "515e41c1",
        "outputId": "0a910481-8c13-4c50-bc94-da578eac9996"
      },
      "outputs": [
        {
          "output_type": "stream",
          "name": "stdout",
          "text": [
            "[CLS] \" neither the national socialists ( nazis ) nor the communists dared to\n",
            "kidnap an american citizen , \" he shouted , in an oblique reference to his extra\n",
            "##dition to germany from denmark . \" [SEP]\n"
          ]
        }
      ],
      "source": [
        "tokens = tokenizer.convert_ids_to_tokens(encoded_text.input_ids)\n",
        "print_wrap(tokens, 80)"
      ]
    },
    {
      "cell_type": "code",
      "execution_count": 40,
      "id": "3SfjDfSr10tU",
      "metadata": {
        "colab": {
          "base_uri": "https://localhost:8080/"
        },
        "id": "3SfjDfSr10tU",
        "outputId": "cf8b51e2-7bb3-4930-ee04-3cbb47679f73"
      },
      "outputs": [
        {
          "output_type": "stream",
          "name": "stdout",
          "text": [
            "[CLS] \" neither the national socialists ( nazis ) nor the communists dared to\n",
            "kidnap an american citizen, \" he shouted, in an oblique reference to his\n",
            "extradition to germany from denmark. \" [SEP]\n"
          ]
        }
      ],
      "source": [
        "print_wrap(tokenizer.convert_tokens_to_string(tokens),80)"
      ]
    },
    {
      "cell_type": "code",
      "execution_count": 41,
      "id": "7e2a2e62",
      "metadata": {
        "colab": {
          "base_uri": "https://localhost:8080/"
        },
        "id": "7e2a2e62",
        "outputId": "7c02d551-f1af-4ab6-d7a0-5389d659abf3"
      },
      "outputs": [
        {
          "output_type": "stream",
          "name": "stdout",
          "text": [
            "\" Neither the National Socialists ( Nazis ) nor the communists dared to kidnap\n",
            "an American citizen , \" he shouted , in an oblique reference to his extradition\n",
            "to Germany from Denmark . \"\n"
          ]
        }
      ],
      "source": [
        "print_wrap(train_val_subset['train']['tokens'][idx], 80)"
      ]
    },
    {
      "cell_type": "code",
      "execution_count": 42,
      "id": "9f8c4d1e",
      "metadata": {
        "colab": {
          "base_uri": "https://localhost:8080/"
        },
        "id": "9f8c4d1e",
        "outputId": "fa16d098-9ff4-4c74-e86b-c3e4d5ff0b34"
      },
      "outputs": [
        {
          "output_type": "stream",
          "name": "stdout",
          "text": [
            "None 0 1 2 3 4 5 6 7 8 9 10 11 12 13 14 15 16 17 18 19 20 21 22 23 24 25 26 27\n",
            "28 28 29 30 31 32 33 34 None\n"
          ]
        }
      ],
      "source": [
        "print_wrap(encoded_text.word_ids(), 80)"
      ]
    },
    {
      "cell_type": "markdown",
      "id": "2b4ce3b9-904f-42bd-9c3f-163328f47051",
      "metadata": {
        "execution": {
          "iopub.execute_input": "2022-12-20T11:22:33.679936Z",
          "iopub.status.busy": "2022-12-20T11:22:33.679764Z",
          "iopub.status.idle": "2022-12-20T11:22:33.723366Z",
          "shell.execute_reply": "2022-12-20T11:22:33.722847Z",
          "shell.execute_reply.started": "2022-12-20T11:22:33.679918Z"
        },
        "id": "2b4ce3b9-904f-42bd-9c3f-163328f47051"
      },
      "source": [
        "###  <font color = 'indianred'> **Create function for Tokenizer**"
      ]
    },
    {
      "cell_type": "code",
      "execution_count": 43,
      "id": "008ada04",
      "metadata": {
        "id": "008ada04"
      },
      "outputs": [],
      "source": [
        "def align_targets(labels, word_ids):\n",
        "\n",
        "  begin2inside = {1:2, 3:4, 5:6, 7:8}\n",
        "  aligned_labels = []\n",
        "\n",
        "  last_id = None\n",
        "\n",
        "  for word_id in word_ids:\n",
        "    if word_id is None:\n",
        "      label = -100\n",
        "    elif word_id != last_id:\n",
        "      label = labels[word_id]\n",
        "    else:\n",
        "      label = labels[word_id]\n",
        "      if label in begin2inside:\n",
        "        label = begin2inside[label]\n",
        "    aligned_labels.append(label)\n",
        "    last_id = word_id\n",
        "\n",
        "  return aligned_labels"
      ]
    },
    {
      "cell_type": "code",
      "execution_count": 44,
      "id": "b22bd0b8",
      "metadata": {
        "colab": {
          "base_uri": "https://localhost:8080/"
        },
        "id": "b22bd0b8",
        "outputId": "5417d349-4c32-47d3-89fd-2bc5915f8fda"
      },
      "outputs": [
        {
          "output_type": "stream",
          "name": "stdout",
          "text": [
            "word_ids [None, 0, 1, 2, 3, 4, 5, 6, 7, 8, 9, 10, 11, 12, 13]\n",
            "labels: [0, 0, 0, 7, 8, 0, 7, 0, 0, 0, 0, 0, 0, 0, 0]\n",
            "aligned_labels [-100, 0, 0, 0, 7, 8, 0, 7, 0, 0, 0, 0, 0, 0, 0]\n",
            "38\n",
            "35\n",
            "38\n"
          ]
        }
      ],
      "source": [
        "# check the function\n",
        "word_ids = encoded_text.word_ids()\n",
        "labels = train_val_subset['train']['ner_tags'][idx]\n",
        "aligned_labels = align_targets(labels, word_ids)\n",
        "print('word_ids', word_ids[0:15])\n",
        "print('labels:',labels[0:15])\n",
        "print('aligned_labels',aligned_labels[0:15])\n",
        "print(len(word_ids))\n",
        "print(len(labels))\n",
        "print(len(aligned_labels))\n",
        "\n"
      ]
    },
    {
      "cell_type": "code",
      "execution_count": 45,
      "id": "1a9104ec",
      "metadata": {
        "id": "1a9104ec"
      },
      "outputs": [],
      "source": [
        "def tokenize_fn(batch):\n",
        "\n",
        "    tokenized_inputs = tokenizer(batch['tokens'], truncation=True, is_split_into_words=True)\n",
        "\n",
        "    # Extract the original labels/tags from the batch.\n",
        "    labels_batch = batch['ner_tags']\n",
        "\n",
        "    # This list will store the labels aligned with the tokenized input.\n",
        "    aligned_labels_batch = []\n",
        "\n",
        "    # Iterate over each example in the batch.\n",
        "    for i, labels in enumerate(labels_batch):\n",
        "        # Obtain the word IDs for the tokenized example. This helps in aligning the original labels with the tokens.\n",
        "        word_ids = tokenized_inputs.word_ids(i)\n",
        "\n",
        "        # Align the original labels with the tokenized example and append to the aligned_labels_batch list.\n",
        "        aligned_labels_batch.append(align_targets(labels, word_ids))\n",
        "\n",
        "    # The HuggingFace trainer expects the labels for token classification tasks to be under the key 'labels'.\n",
        "    # Store the aligned labels in the 'labels' key of the tokenized_inputs dictionary.\n",
        "    tokenized_inputs['labels'] = aligned_labels_batch\n",
        "\n",
        "    return tokenized_inputs"
      ]
    },
    {
      "cell_type": "markdown",
      "id": "1f09c889-c3fd-4b12-a544-0772594a3899",
      "metadata": {
        "id": "1f09c889-c3fd-4b12-a544-0772594a3899"
      },
      "source": [
        "###  <font color = 'indianred'> **Use map function to apply tokenization to all splits**"
      ]
    },
    {
      "cell_type": "code",
      "execution_count": 46,
      "id": "441c6c4f",
      "metadata": {
        "colab": {
          "base_uri": "https://localhost:8080/"
        },
        "id": "441c6c4f",
        "outputId": "160f521f-d127-4636-cf7f-b51fa6d4da76"
      },
      "outputs": [
        {
          "output_type": "execute_result",
          "data": {
            "text/plain": [
              "DatasetDict({\n",
              "    train: Dataset({\n",
              "        features: ['id', 'tokens', 'pos_tags', 'chunk_tags', 'ner_tags'],\n",
              "        num_rows: 5000\n",
              "    })\n",
              "    val: Dataset({\n",
              "        features: ['id', 'tokens', 'pos_tags', 'chunk_tags', 'ner_tags'],\n",
              "        num_rows: 1000\n",
              "    })\n",
              "})"
            ]
          },
          "metadata": {},
          "execution_count": 46
        }
      ],
      "source": [
        "train_val_subset"
      ]
    },
    {
      "cell_type": "code",
      "execution_count": 47,
      "id": "ET6ioH_-iCW2",
      "metadata": {
        "colab": {
          "base_uri": "https://localhost:8080/",
          "height": 81,
          "referenced_widgets": [
            "5122a815393b46e1aef75569f04ea8f7",
            "880b4a0f59854f979e6a97e7c7087a7e",
            "c8adaf8a90ad4668824a7ed52bff3f62",
            "68f6dede3c3847fb8b893bd80c0e9f62",
            "a54cdb0ef1fa44feb6198cc5f7eb5885",
            "60bee2337a6847bc9b79273193d5cb62",
            "6b4202ea36e148a4b16740c1a0f4ccbf",
            "be971729de354cdc8430d1ffcbbb8502",
            "cd8752e71f2346b19d306fc8124dcd81",
            "0adea39a041f45b6943589461ea8f170",
            "39a5054af5214e52827da6b5866a1963",
            "20ea851051674af6a7d1b8b3adf74ee2",
            "048d3391e2084618861f1db999e56eef",
            "cbcd7e0b4f9e4d0a8cb2a1f37807e041",
            "509ea44c577c4478a660f12c974bf5a0",
            "05122cb78793417c96b4e7f0784a0268",
            "e05bf177ee374aa0be51ca8460a5e8c0",
            "499122faa9bf48688b32b19a9da1dd4d",
            "951406e4af3546ce84ff3ab42e48341f",
            "e9119b31b25848e28638812fe14988b7",
            "b9975b7562c1431987e64b4fd21cfaa7",
            "b79194781d04438bb18e1a87114d215e"
          ]
        },
        "execution": {
          "iopub.execute_input": "2022-12-23T23:14:13.918317Z",
          "iopub.status.busy": "2022-12-23T23:14:13.917908Z",
          "iopub.status.idle": "2022-12-23T23:14:15.785940Z",
          "shell.execute_reply": "2022-12-23T23:14:15.785447Z",
          "shell.execute_reply.started": "2022-12-23T23:14:13.918288Z"
        },
        "id": "ET6ioH_-iCW2",
        "outputId": "8d208137-57e8-4b6b-9387-a0f25374c76c",
        "tags": []
      },
      "outputs": [
        {
          "output_type": "display_data",
          "data": {
            "text/plain": [
              "Map:   0%|          | 0/5000 [00:00<?, ? examples/s]"
            ],
            "application/vnd.jupyter.widget-view+json": {
              "version_major": 2,
              "version_minor": 0,
              "model_id": "5122a815393b46e1aef75569f04ea8f7"
            }
          },
          "metadata": {}
        },
        {
          "output_type": "display_data",
          "data": {
            "text/plain": [
              "Map:   0%|          | 0/1000 [00:00<?, ? examples/s]"
            ],
            "application/vnd.jupyter.widget-view+json": {
              "version_major": 2,
              "version_minor": 0,
              "model_id": "20ea851051674af6a7d1b8b3adf74ee2"
            }
          },
          "metadata": {}
        }
      ],
      "source": [
        "# Map the tokenize_fn function over the entire train_val_subset dataset in batches.\n",
        "# This will tokenize the text data in each batch and return a new dataset with tokenized data.\n",
        "tokenized_dataset = train_val_subset.map(tokenize_fn, batched=True)"
      ]
    },
    {
      "cell_type": "code",
      "execution_count": 48,
      "id": "6DKCvIjw7KDx",
      "metadata": {
        "colab": {
          "base_uri": "https://localhost:8080/"
        },
        "id": "6DKCvIjw7KDx",
        "outputId": "a77523a9-ec4c-4e1f-e991-e85ef772a64f"
      },
      "outputs": [
        {
          "output_type": "execute_result",
          "data": {
            "text/plain": [
              "DatasetDict({\n",
              "    train: Dataset({\n",
              "        features: ['id', 'tokens', 'pos_tags', 'chunk_tags', 'ner_tags', 'input_ids', 'attention_mask', 'labels'],\n",
              "        num_rows: 5000\n",
              "    })\n",
              "    val: Dataset({\n",
              "        features: ['id', 'tokens', 'pos_tags', 'chunk_tags', 'ner_tags', 'input_ids', 'attention_mask', 'labels'],\n",
              "        num_rows: 1000\n",
              "    })\n",
              "})"
            ]
          },
          "metadata": {},
          "execution_count": 48
        }
      ],
      "source": [
        "tokenized_dataset"
      ]
    },
    {
      "cell_type": "code",
      "execution_count": 49,
      "id": "N2Hs7UT9iLVt",
      "metadata": {
        "colab": {
          "base_uri": "https://localhost:8080/"
        },
        "execution": {
          "iopub.execute_input": "2022-12-23T23:14:16.920177Z",
          "iopub.status.busy": "2022-12-23T23:14:16.919821Z",
          "iopub.status.idle": "2022-12-23T23:14:16.955337Z",
          "shell.execute_reply": "2022-12-23T23:14:16.954693Z",
          "shell.execute_reply.started": "2022-12-23T23:14:16.920164Z"
        },
        "id": "N2Hs7UT9iLVt",
        "outputId": "49b9ff14-246a-4a1f-d697-d3dc6b4b5663",
        "tags": []
      },
      "outputs": [
        {
          "output_type": "execute_result",
          "data": {
            "text/plain": [
              "{'id': Value(dtype='string', id=None),\n",
              " 'tokens': Sequence(feature=Value(dtype='string', id=None), length=-1, id=None),\n",
              " 'pos_tags': Sequence(feature=ClassLabel(names=['\"', \"''\", '#', '$', '(', ')', ',', '.', ':', '``', 'CC', 'CD', 'DT', 'EX', 'FW', 'IN', 'JJ', 'JJR', 'JJS', 'LS', 'MD', 'NN', 'NNP', 'NNPS', 'NNS', 'NN|SYM', 'PDT', 'POS', 'PRP', 'PRP$', 'RB', 'RBR', 'RBS', 'RP', 'SYM', 'TO', 'UH', 'VB', 'VBD', 'VBG', 'VBN', 'VBP', 'VBZ', 'WDT', 'WP', 'WP$', 'WRB'], id=None), length=-1, id=None),\n",
              " 'chunk_tags': Sequence(feature=ClassLabel(names=['O', 'B-ADJP', 'I-ADJP', 'B-ADVP', 'I-ADVP', 'B-CONJP', 'I-CONJP', 'B-INTJ', 'I-INTJ', 'B-LST', 'I-LST', 'B-NP', 'I-NP', 'B-PP', 'I-PP', 'B-PRT', 'I-PRT', 'B-SBAR', 'I-SBAR', 'B-UCP', 'I-UCP', 'B-VP', 'I-VP'], id=None), length=-1, id=None),\n",
              " 'ner_tags': Sequence(feature=ClassLabel(names=['O', 'B-PER', 'I-PER', 'B-ORG', 'I-ORG', 'B-LOC', 'I-LOC', 'B-MISC', 'I-MISC'], id=None), length=-1, id=None),\n",
              " 'input_ids': Sequence(feature=Value(dtype='int32', id=None), length=-1, id=None),\n",
              " 'attention_mask': Sequence(feature=Value(dtype='int8', id=None), length=-1, id=None),\n",
              " 'labels': Sequence(feature=Value(dtype='int64', id=None), length=-1, id=None)}"
            ]
          },
          "metadata": {},
          "execution_count": 49
        }
      ],
      "source": [
        "tokenized_dataset['train'].features"
      ]
    },
    {
      "cell_type": "markdown",
      "id": "859f3731",
      "metadata": {
        "id": "859f3731"
      },
      "source": [
        "We can see that tokenization step has added three new columns ('input_ids', 'token_type_ids', 'attention_mask') to the dataset"
      ]
    },
    {
      "cell_type": "code",
      "execution_count": 50,
      "id": "0LMczBDdQ2LR",
      "metadata": {
        "id": "0LMczBDdQ2LR"
      },
      "outputs": [],
      "source": [
        "tokenized_dataset = tokenized_dataset.remove_columns(['tokens', 'ner_tags', 'pos_tags','chunk_tags', 'id'])"
      ]
    },
    {
      "cell_type": "code",
      "execution_count": 51,
      "id": "HGPyqon9Q2uU",
      "metadata": {
        "id": "HGPyqon9Q2uU"
      },
      "outputs": [],
      "source": [
        "tokenized_dataset.set_format(type='torch')"
      ]
    },
    {
      "cell_type": "code",
      "execution_count": 52,
      "id": "I2R7xJGfQ4fT",
      "metadata": {
        "colab": {
          "base_uri": "https://localhost:8080/"
        },
        "id": "I2R7xJGfQ4fT",
        "outputId": "7d560ac1-69c6-4cd6-dcd2-9dfbc1c780e8"
      },
      "outputs": [
        {
          "output_type": "execute_result",
          "data": {
            "text/plain": [
              "DatasetDict({\n",
              "    train: Dataset({\n",
              "        features: ['input_ids', 'attention_mask', 'labels'],\n",
              "        num_rows: 5000\n",
              "    })\n",
              "    val: Dataset({\n",
              "        features: ['input_ids', 'attention_mask', 'labels'],\n",
              "        num_rows: 1000\n",
              "    })\n",
              "})"
            ]
          },
          "metadata": {},
          "execution_count": 52
        }
      ],
      "source": [
        "tokenized_dataset"
      ]
    },
    {
      "cell_type": "code",
      "execution_count": 53,
      "id": "DT9UYn4VQ9--",
      "metadata": {
        "colab": {
          "base_uri": "https://localhost:8080/"
        },
        "id": "DT9UYn4VQ9--",
        "outputId": "70eb6584-9246-4ec7-f1d8-3b630f2ecbf9"
      },
      "outputs": [
        {
          "output_type": "execute_result",
          "data": {
            "text/plain": [
              "{'input_ids': Sequence(feature=Value(dtype='int32', id=None), length=-1, id=None),\n",
              " 'attention_mask': Sequence(feature=Value(dtype='int8', id=None), length=-1, id=None),\n",
              " 'labels': Sequence(feature=Value(dtype='int64', id=None), length=-1, id=None)}"
            ]
          },
          "metadata": {},
          "execution_count": 53
        }
      ],
      "source": [
        "tokenized_dataset['train'].features"
      ]
    },
    {
      "cell_type": "code",
      "execution_count": 54,
      "id": "BchXa9V-Q-nq",
      "metadata": {
        "colab": {
          "base_uri": "https://localhost:8080/"
        },
        "id": "BchXa9V-Q-nq",
        "outputId": "5f117be4-c19c-4e2b-e0d3-f7c7f8f67146"
      },
      "outputs": [
        {
          "output_type": "stream",
          "name": "stdout",
          "text": [
            "12\n",
            "8\n"
          ]
        }
      ],
      "source": [
        "print(len(tokenized_dataset[\"train\"][\"input_ids\"][2]))\n",
        "print(len(tokenized_dataset[\"train\"][\"input_ids\"][1]))"
      ]
    },
    {
      "cell_type": "code",
      "source": [
        "tokenized_dataset['train'][0]"
      ],
      "metadata": {
        "colab": {
          "base_uri": "https://localhost:8080/"
        },
        "id": "AWdOVuxmNTF5",
        "outputId": "6d9c189b-4201-4be6-b0a0-e71bfe4c7b3f"
      },
      "id": "AWdOVuxmNTF5",
      "execution_count": 55,
      "outputs": [
        {
          "output_type": "execute_result",
          "data": {
            "text/plain": [
              "{'input_ids': tensor([  101,  1000,  4445,  1996,  2120, 21633,  1006, 13157,  1007,  4496,\n",
              "          1996, 13009, 15048,  2000, 22590,  2019,  2137,  6926,  1010,  1000,\n",
              "          2002,  6626,  1010,  1999,  2019, 20658,  4431,  2000,  2010,  4469,\n",
              "         20562,  2000,  2762,  2013,  5842,  1012,  1000,   102]),\n",
              " 'attention_mask': tensor([1, 1, 1, 1, 1, 1, 1, 1, 1, 1, 1, 1, 1, 1, 1, 1, 1, 1, 1, 1, 1, 1, 1, 1,\n",
              "         1, 1, 1, 1, 1, 1, 1, 1, 1, 1, 1, 1, 1, 1]),\n",
              " 'labels': tensor([-100,    0,    0,    0,    7,    8,    0,    7,    0,    0,    0,    0,\n",
              "            0,    0,    0,    0,    7,    0,    0,    0,    0,    0,    0,    0,\n",
              "            0,    0,    0,    0,    0,    0,    0,    0,    5,    0,    5,    0,\n",
              "            0, -100])}"
            ]
          },
          "metadata": {},
          "execution_count": 55
        }
      ]
    },
    {
      "cell_type": "markdown",
      "id": "EtbTpHsRRJqj",
      "metadata": {
        "id": "EtbTpHsRRJqj"
      },
      "source": [
        "The varying lengths in the dataset indicate that padding has not been applied yet. Instead of padding the entire dataset, we prefer processing small batches during training. Padding is done selectively for each batch based on the maximum length in the batch. We will discuss this in more detail in a later section of this notebook."
      ]
    },
    {
      "cell_type": "markdown",
      "id": "O7-5sm2uBTN_",
      "metadata": {
        "id": "O7-5sm2uBTN_"
      },
      "source": [
        "#  <font color = 'indianred'> **Model Training**"
      ]
    },
    {
      "cell_type": "markdown",
      "id": "mWh_tjw87L7q",
      "metadata": {
        "id": "mWh_tjw87L7q"
      },
      "source": [
        "##  <font color = 'indianred'> **Model Config File**"
      ]
    },
    {
      "cell_type": "markdown",
      "id": "e15e2ca6-cfbf-46c0-bf81-ec65a9258567",
      "metadata": {
        "execution": {
          "iopub.execute_input": "2022-12-05T21:57:04.735277Z",
          "iopub.status.busy": "2022-12-05T21:57:04.735041Z",
          "iopub.status.idle": "2022-12-05T21:57:04.738230Z",
          "shell.execute_reply": "2022-12-05T21:57:04.737909Z",
          "shell.execute_reply.started": "2022-12-05T21:57:04.735252Z"
        },
        "id": "e15e2ca6-cfbf-46c0-bf81-ec65a9258567"
      },
      "source": [
        "###  <font color = 'indianred'> **Download config file of pre-trained Model**</font>\n",
        "\n"
      ]
    },
    {
      "cell_type": "code",
      "execution_count": 56,
      "id": "02d5e0eb-ac4c-4593-946c-3e33a4e2a82e",
      "metadata": {
        "execution": {
          "iopub.execute_input": "2022-12-23T23:14:20.554756Z",
          "iopub.status.busy": "2022-12-23T23:14:20.554518Z",
          "iopub.status.idle": "2022-12-23T23:14:20.770843Z",
          "shell.execute_reply": "2022-12-23T23:14:20.770018Z",
          "shell.execute_reply.started": "2022-12-23T23:14:20.554730Z"
        },
        "id": "02d5e0eb-ac4c-4593-946c-3e33a4e2a82e",
        "tags": []
      },
      "outputs": [],
      "source": [
        "# Load the configuration associated with the specified checkpoint (e.g., DistilBERT model configuration).\n",
        "# This configuration contains details about the model architecture and settings.\n",
        "# use Autoconfig class\n",
        "config = AutoConfig.from_pretrained(checkpoint)"
      ]
    },
    {
      "cell_type": "code",
      "execution_count": 57,
      "id": "2712bbf6-ab95-4c24-8fea-90162f5aa634",
      "metadata": {
        "colab": {
          "base_uri": "https://localhost:8080/"
        },
        "execution": {
          "iopub.execute_input": "2022-12-23T23:14:20.921199Z",
          "iopub.status.busy": "2022-12-23T23:14:20.920812Z",
          "iopub.status.idle": "2022-12-23T23:14:20.973833Z",
          "shell.execute_reply": "2022-12-23T23:14:20.973311Z",
          "shell.execute_reply.started": "2022-12-23T23:14:20.921170Z"
        },
        "id": "2712bbf6-ab95-4c24-8fea-90162f5aa634",
        "outputId": "b49ed912-a7de-462e-b7a5-b93b0671a5da",
        "tags": []
      },
      "outputs": [
        {
          "output_type": "execute_result",
          "data": {
            "text/plain": [
              "DistilBertConfig {\n",
              "  \"_name_or_path\": \"distilbert-base-uncased\",\n",
              "  \"activation\": \"gelu\",\n",
              "  \"architectures\": [\n",
              "    \"DistilBertForMaskedLM\"\n",
              "  ],\n",
              "  \"attention_dropout\": 0.1,\n",
              "  \"dim\": 768,\n",
              "  \"dropout\": 0.1,\n",
              "  \"hidden_dim\": 3072,\n",
              "  \"initializer_range\": 0.02,\n",
              "  \"max_position_embeddings\": 512,\n",
              "  \"model_type\": \"distilbert\",\n",
              "  \"n_heads\": 12,\n",
              "  \"n_layers\": 6,\n",
              "  \"pad_token_id\": 0,\n",
              "  \"qa_dropout\": 0.1,\n",
              "  \"seq_classif_dropout\": 0.2,\n",
              "  \"sinusoidal_pos_embds\": false,\n",
              "  \"tie_weights_\": true,\n",
              "  \"transformers_version\": \"4.34.1\",\n",
              "  \"vocab_size\": 30522\n",
              "}"
            ]
          },
          "metadata": {},
          "execution_count": 57
        }
      ],
      "source": [
        "config"
      ]
    },
    {
      "cell_type": "markdown",
      "id": "3dcbc384-25b5-4b71-9a7a-aaebca9bea5c",
      "metadata": {
        "id": "3dcbc384-25b5-4b71-9a7a-aaebca9bea5c"
      },
      "source": [
        "###  <font color = 'indianred'> **Modify Configuration File**</font>\n",
        "- We need to modify configuration fie to add ids to  label and label to ids mapping\n",
        "- Adding id2label and label2id to the configuration file provides a consistent, interpretable, and user-friendly way to handle model outputs."
      ]
    },
    {
      "cell_type": "code",
      "execution_count": 58,
      "id": "b1f11ed8-d5d2-4438-8d80-811a0dafceab",
      "metadata": {
        "execution": {
          "iopub.execute_input": "2022-12-23T23:14:24.265929Z",
          "iopub.status.busy": "2022-12-23T23:14:24.265546Z",
          "iopub.status.idle": "2022-12-23T23:14:24.318440Z",
          "shell.execute_reply": "2022-12-23T23:14:24.317882Z",
          "shell.execute_reply.started": "2022-12-23T23:14:24.265901Z"
        },
        "id": "b1f11ed8-d5d2-4438-8d80-811a0dafceab",
        "tags": []
      },
      "outputs": [],
      "source": [
        "config.id2label = id2label\n",
        "config.label2id = label2id"
      ]
    },
    {
      "cell_type": "code",
      "execution_count": 59,
      "id": "8996b4bc-2412-4cbd-9237-95fe830f6492",
      "metadata": {
        "colab": {
          "base_uri": "https://localhost:8080/"
        },
        "execution": {
          "iopub.execute_input": "2022-12-23T23:14:24.769204Z",
          "iopub.status.busy": "2022-12-23T23:14:24.768823Z",
          "iopub.status.idle": "2022-12-23T23:14:24.818312Z",
          "shell.execute_reply": "2022-12-23T23:14:24.817732Z",
          "shell.execute_reply.started": "2022-12-23T23:14:24.769176Z"
        },
        "id": "8996b4bc-2412-4cbd-9237-95fe830f6492",
        "outputId": "60f524e7-c505-4979-fbb2-63a9b5a77e27",
        "tags": []
      },
      "outputs": [
        {
          "output_type": "execute_result",
          "data": {
            "text/plain": [
              "DistilBertConfig {\n",
              "  \"_name_or_path\": \"distilbert-base-uncased\",\n",
              "  \"activation\": \"gelu\",\n",
              "  \"architectures\": [\n",
              "    \"DistilBertForMaskedLM\"\n",
              "  ],\n",
              "  \"attention_dropout\": 0.1,\n",
              "  \"dim\": 768,\n",
              "  \"dropout\": 0.1,\n",
              "  \"hidden_dim\": 3072,\n",
              "  \"id2label\": {\n",
              "    \"0\": \"O\",\n",
              "    \"1\": \"B-PER\",\n",
              "    \"2\": \"I-PER\",\n",
              "    \"3\": \"B-ORG\",\n",
              "    \"4\": \"I-ORG\",\n",
              "    \"5\": \"B-LOC\",\n",
              "    \"6\": \"I-LOC\",\n",
              "    \"7\": \"B-MISC\",\n",
              "    \"8\": \"I-MISC\"\n",
              "  },\n",
              "  \"initializer_range\": 0.02,\n",
              "  \"label2id\": {\n",
              "    \"B-LOC\": 5,\n",
              "    \"B-MISC\": 7,\n",
              "    \"B-ORG\": 3,\n",
              "    \"B-PER\": 1,\n",
              "    \"I-LOC\": 6,\n",
              "    \"I-MISC\": 8,\n",
              "    \"I-ORG\": 4,\n",
              "    \"I-PER\": 2,\n",
              "    \"O\": 0\n",
              "  },\n",
              "  \"max_position_embeddings\": 512,\n",
              "  \"model_type\": \"distilbert\",\n",
              "  \"n_heads\": 12,\n",
              "  \"n_layers\": 6,\n",
              "  \"pad_token_id\": 0,\n",
              "  \"qa_dropout\": 0.1,\n",
              "  \"seq_classif_dropout\": 0.2,\n",
              "  \"sinusoidal_pos_embds\": false,\n",
              "  \"tie_weights_\": true,\n",
              "  \"transformers_version\": \"4.34.1\",\n",
              "  \"vocab_size\": 30522\n",
              "}"
            ]
          },
          "metadata": {},
          "execution_count": 59
        }
      ],
      "source": [
        "config"
      ]
    },
    {
      "cell_type": "markdown",
      "id": "cc2a39fc-6d87-43ca-8a6e-7129bd8214f1",
      "metadata": {
        "id": "cc2a39fc-6d87-43ca-8a6e-7129bd8214f1"
      },
      "source": [
        "##  <font color = 'indianred'> **Download pre-trained model**"
      ]
    },
    {
      "cell_type": "code",
      "execution_count": 60,
      "id": "58babf85",
      "metadata": {
        "colab": {
          "base_uri": "https://localhost:8080/",
          "height": 104,
          "referenced_widgets": [
            "c7654cb2c96341369ba70b35ffc880b1",
            "6b48b39dda1c407687cbf026c5ca23be",
            "970b453abd944ebc9f7366ee936fd284",
            "f8cda408e4cc4289950dd5e81f305696",
            "4e8ac5cfd6d54b789b430246543a6f80",
            "e9f57363918e4ea99f419b8e655ef7d2",
            "28373f0ce9f0476f8cfc439b95d5cc6f",
            "ba6fa5b642604c4797fb80b7fa3ac54e",
            "1beae4d5b68949f0bdb0483a58f7de1f",
            "4f5727c4c6e14b8b9dd208b541b4bc23",
            "1257b9765ed0442a9fcd897e103dbfc3"
          ]
        },
        "id": "58babf85",
        "outputId": "02ddc56a-6d2b-4e20-8fca-092adb47c5b4"
      },
      "outputs": [
        {
          "output_type": "display_data",
          "data": {
            "text/plain": [
              "Downloading model.safetensors:   0%|          | 0.00/268M [00:00<?, ?B/s]"
            ],
            "application/vnd.jupyter.widget-view+json": {
              "version_major": 2,
              "version_minor": 0,
              "model_id": "c7654cb2c96341369ba70b35ffc880b1"
            }
          },
          "metadata": {}
        },
        {
          "output_type": "stream",
          "name": "stderr",
          "text": [
            "Some weights of DistilBertForTokenClassification were not initialized from the model checkpoint at distilbert-base-uncased and are newly initialized: ['classifier.weight', 'classifier.bias']\n",
            "You should probably TRAIN this model on a down-stream task to be able to use it for predictions and inference.\n"
          ]
        }
      ],
      "source": [
        "# Instantiate a model for sequence classification using the specified checkpoint.\n",
        "# The provided configuration (config) ensures the model aligns with the structure and settings of the original checkpoint.\n",
        "# Use AutoModelForSequenceClassification\n",
        "# Pass the checkpoint and config\n",
        "model = AutoModelForTokenClassification.from_pretrained(checkpoint, config=config)"
      ]
    },
    {
      "cell_type": "code",
      "execution_count": 61,
      "id": "c1380233",
      "metadata": {
        "colab": {
          "base_uri": "https://localhost:8080/"
        },
        "id": "c1380233",
        "outputId": "5dd3724b-1caa-4af0-973c-a0d9446cc2b2"
      },
      "outputs": [
        {
          "output_type": "execute_result",
          "data": {
            "text/plain": [
              "DistilBertConfig {\n",
              "  \"_name_or_path\": \"distilbert-base-uncased\",\n",
              "  \"activation\": \"gelu\",\n",
              "  \"architectures\": [\n",
              "    \"DistilBertForMaskedLM\"\n",
              "  ],\n",
              "  \"attention_dropout\": 0.1,\n",
              "  \"dim\": 768,\n",
              "  \"dropout\": 0.1,\n",
              "  \"hidden_dim\": 3072,\n",
              "  \"id2label\": {\n",
              "    \"0\": \"O\",\n",
              "    \"1\": \"B-PER\",\n",
              "    \"2\": \"I-PER\",\n",
              "    \"3\": \"B-ORG\",\n",
              "    \"4\": \"I-ORG\",\n",
              "    \"5\": \"B-LOC\",\n",
              "    \"6\": \"I-LOC\",\n",
              "    \"7\": \"B-MISC\",\n",
              "    \"8\": \"I-MISC\"\n",
              "  },\n",
              "  \"initializer_range\": 0.02,\n",
              "  \"label2id\": {\n",
              "    \"B-LOC\": 5,\n",
              "    \"B-MISC\": 7,\n",
              "    \"B-ORG\": 3,\n",
              "    \"B-PER\": 1,\n",
              "    \"I-LOC\": 6,\n",
              "    \"I-MISC\": 8,\n",
              "    \"I-ORG\": 4,\n",
              "    \"I-PER\": 2,\n",
              "    \"O\": 0\n",
              "  },\n",
              "  \"max_position_embeddings\": 512,\n",
              "  \"model_type\": \"distilbert\",\n",
              "  \"n_heads\": 12,\n",
              "  \"n_layers\": 6,\n",
              "  \"pad_token_id\": 0,\n",
              "  \"qa_dropout\": 0.1,\n",
              "  \"seq_classif_dropout\": 0.2,\n",
              "  \"sinusoidal_pos_embds\": false,\n",
              "  \"tie_weights_\": true,\n",
              "  \"transformers_version\": \"4.34.1\",\n",
              "  \"vocab_size\": 30522\n",
              "}"
            ]
          },
          "metadata": {},
          "execution_count": 61
        }
      ],
      "source": [
        "model.config"
      ]
    },
    {
      "cell_type": "markdown",
      "id": "GTVu1FaL8H6m",
      "metadata": {
        "id": "GTVu1FaL8H6m"
      },
      "source": [
        "## <font color = 'indianred'> **Model Input/Collate Function** </font>"
      ]
    },
    {
      "cell_type": "code",
      "execution_count": 62,
      "id": "EFpsqlHeMvkg",
      "metadata": {
        "id": "EFpsqlHeMvkg"
      },
      "outputs": [],
      "source": [
        "data_collator =  DataCollatorForTokenClassification(tokenizer = tokenizer, padding=True, label_pad_token_id=-100, \\\n",
        "                                                    return_tensors='pt')"
      ]
    },
    {
      "cell_type": "code",
      "execution_count": 63,
      "id": "ykhwkd-tM0CO",
      "metadata": {
        "id": "ykhwkd-tM0CO"
      },
      "outputs": [],
      "source": [
        "features = [tokenized_dataset[\"train\"][i] for i in range(2)]"
      ]
    },
    {
      "cell_type": "code",
      "execution_count": 64,
      "id": "D2j4voKEOjXz",
      "metadata": {
        "colab": {
          "base_uri": "https://localhost:8080/"
        },
        "id": "D2j4voKEOjXz",
        "outputId": "0ab03953-f11a-40c4-f647-ea2699fbdc88"
      },
      "outputs": [
        {
          "output_type": "execute_result",
          "data": {
            "text/plain": [
              "[{'input_ids': tensor([  101,  1000,  4445,  1996,  2120, 21633,  1006, 13157,  1007,  4496,\n",
              "           1996, 13009, 15048,  2000, 22590,  2019,  2137,  6926,  1010,  1000,\n",
              "           2002,  6626,  1010,  1999,  2019, 20658,  4431,  2000,  2010,  4469,\n",
              "          20562,  2000,  2762,  2013,  5842,  1012,  1000,   102]),\n",
              "  'attention_mask': tensor([1, 1, 1, 1, 1, 1, 1, 1, 1, 1, 1, 1, 1, 1, 1, 1, 1, 1, 1, 1, 1, 1, 1, 1,\n",
              "          1, 1, 1, 1, 1, 1, 1, 1, 1, 1, 1, 1, 1, 1]),\n",
              "  'labels': tensor([-100,    0,    0,    0,    7,    8,    0,    7,    0,    0,    0,    0,\n",
              "             0,    0,    0,    0,    7,    0,    0,    0,    0,    0,    0,    0,\n",
              "             0,    0,    0,    0,    0,    0,    0,    0,    5,    0,    5,    0,\n",
              "             0, -100])},\n",
              " {'input_ids': tensor([  101, 25317,  2727,  1011,  5511,  1011,  2570,   102]),\n",
              "  'attention_mask': tensor([1, 1, 1, 1, 1, 1, 1, 1]),\n",
              "  'labels': tensor([-100,    5,    0,    0,    0,    0,    0, -100])}]"
            ]
          },
          "metadata": {},
          "execution_count": 64
        }
      ],
      "source": [
        "features"
      ]
    },
    {
      "cell_type": "code",
      "execution_count": 65,
      "id": "-cUJ5Q8OOiji",
      "metadata": {
        "colab": {
          "base_uri": "https://localhost:8080/"
        },
        "id": "-cUJ5Q8OOiji",
        "outputId": "d4e648d1-9ab6-4574-9d09-c5680f536946"
      },
      "outputs": [
        {
          "output_type": "stream",
          "name": "stderr",
          "text": [
            "You're using a DistilBertTokenizerFast tokenizer. Please note that with a fast tokenizer, using the `__call__` method is faster than using a method to encode the text followed by a call to the `pad` method to get a padded encoding.\n"
          ]
        },
        {
          "output_type": "execute_result",
          "data": {
            "text/plain": [
              "dict_keys(['input_ids', 'attention_mask', 'labels'])"
            ]
          },
          "metadata": {},
          "execution_count": 65
        }
      ],
      "source": [
        "model_input = data_collator(features)\n",
        "model_input.keys()"
      ]
    },
    {
      "cell_type": "code",
      "execution_count": 66,
      "id": "X0pl2TxWNX8j",
      "metadata": {
        "colab": {
          "base_uri": "https://localhost:8080/"
        },
        "id": "X0pl2TxWNX8j",
        "outputId": "c85e1329-6334-4e87-bf7b-98eb4ae77c05"
      },
      "outputs": [
        {
          "output_type": "stream",
          "name": "stdout",
          "text": [
            "tensor([  101,  1000,  4445,  1996,  2120, 21633,  1006, 13157,  1007,  4496])\n",
            "tensor([ 1010,  1000,  2002,  6626,  1010,  1999,  2019, 20658,  4431,  2000,\n",
            "         2010,  4469, 20562,  2000,  2762,  2013,  5842,  1012,  1000,   102])\n",
            "tensor([  101, 25317,  2727,  1011,  5511,  1011,  2570,   102,     0,     0])\n",
            "tensor([0, 0, 0, 0, 0, 0, 0, 0, 0, 0, 0, 0, 0, 0, 0, 0, 0, 0, 0, 0])\n"
          ]
        }
      ],
      "source": [
        "print(model_input.input_ids[0][0:10])\n",
        "print(model_input.input_ids[0][-20:])\n",
        "print(model_input.input_ids[1][0:10])\n",
        "print(model_input.input_ids[1][-20:])"
      ]
    },
    {
      "cell_type": "code",
      "execution_count": 67,
      "id": "e8M8Y9S5SHho",
      "metadata": {
        "colab": {
          "base_uri": "https://localhost:8080/"
        },
        "id": "e8M8Y9S5SHho",
        "outputId": "a8402782-e678-487e-a96f-35d8f408b49a"
      },
      "outputs": [
        {
          "output_type": "stream",
          "name": "stdout",
          "text": [
            "tensor([1, 1, 1, 1, 1, 1, 1, 1, 1, 1, 1, 1, 1, 1, 1, 1, 1, 1, 1, 1])\n",
            "tensor([0, 0, 0, 0, 0, 0, 0, 0, 0, 0, 0, 0, 0, 0, 0, 0, 0, 0, 0, 0])\n"
          ]
        }
      ],
      "source": [
        "print(model_input.attention_mask[0][-20:])\n",
        "print(model_input.attention_mask[1][-20:])"
      ]
    },
    {
      "cell_type": "code",
      "execution_count": 68,
      "id": "mf89s-QBSWAY",
      "metadata": {
        "colab": {
          "base_uri": "https://localhost:8080/"
        },
        "id": "mf89s-QBSWAY",
        "outputId": "73c2338e-94b3-4fab-99bd-ec865244b0b0"
      },
      "outputs": [
        {
          "output_type": "stream",
          "name": "stdout",
          "text": [
            "['[CLS]', '\"', 'neither', 'the', 'national', 'socialists', '(', 'nazis', ')', 'nor']\n"
          ]
        }
      ],
      "source": [
        "print(tokenizer.convert_ids_to_tokens(model_input.input_ids[0][0:10]))"
      ]
    },
    {
      "cell_type": "code",
      "execution_count": 69,
      "id": "wnTPkY2BSdsA",
      "metadata": {
        "colab": {
          "base_uri": "https://localhost:8080/"
        },
        "id": "wnTPkY2BSdsA",
        "outputId": "a10ea716-22b0-43ea-a309-8dfe2fe3a55f"
      },
      "outputs": [
        {
          "output_type": "stream",
          "name": "stdout",
          "text": [
            "['his', 'extra', '##dition', 'to', 'germany', 'from', 'denmark', '.', '\"', '[SEP]']\n"
          ]
        }
      ],
      "source": [
        "print(tokenizer.convert_ids_to_tokens(model_input.input_ids[0][-10:]))"
      ]
    },
    {
      "cell_type": "code",
      "execution_count": 70,
      "id": "7-ulominSkqX",
      "metadata": {
        "colab": {
          "base_uri": "https://localhost:8080/"
        },
        "id": "7-ulominSkqX",
        "outputId": "374b995a-80bf-4cd1-9964-0128326bed7a"
      },
      "outputs": [
        {
          "output_type": "stream",
          "name": "stdout",
          "text": [
            "['[CLS]', 'tunis', '1996', '-', '08', '-', '22', '[SEP]', '[PAD]', '[PAD]']\n"
          ]
        }
      ],
      "source": [
        "print(tokenizer.convert_ids_to_tokens(model_input.input_ids[1][0:10]))"
      ]
    },
    {
      "cell_type": "code",
      "execution_count": 71,
      "id": "f9pcCLTaSl97",
      "metadata": {
        "colab": {
          "base_uri": "https://localhost:8080/"
        },
        "id": "f9pcCLTaSl97",
        "outputId": "402786c5-03ec-44b6-b08f-f47a628e9469"
      },
      "outputs": [
        {
          "output_type": "stream",
          "name": "stdout",
          "text": [
            "['[PAD]', '[PAD]', '[PAD]', '[PAD]', '[PAD]', '[PAD]', '[PAD]', '[PAD]', '[PAD]', '[PAD]']\n"
          ]
        }
      ],
      "source": [
        "print(tokenizer.convert_ids_to_tokens(model_input.input_ids[1][-10:]))"
      ]
    },
    {
      "cell_type": "markdown",
      "id": "Q_bLeRq38NGo",
      "metadata": {
        "id": "Q_bLeRq38NGo"
      },
      "source": [
        "##  <font color = 'indianred'> **Understanding Model Output**"
      ]
    },
    {
      "cell_type": "code",
      "execution_count": 72,
      "id": "Kp85pxcaanZr",
      "metadata": {
        "id": "Kp85pxcaanZr"
      },
      "outputs": [],
      "source": [
        "# model output\n",
        "model=model.to(device=0)\n",
        "model_input= model_input.to(device=0)"
      ]
    },
    {
      "cell_type": "code",
      "execution_count": 73,
      "id": "c3c343f5",
      "metadata": {
        "id": "c3c343f5",
        "colab": {
          "base_uri": "https://localhost:8080/"
        },
        "outputId": "35769cca-c654-41fa-fcf4-4241620dbf59"
      },
      "outputs": [
        {
          "output_type": "execute_result",
          "data": {
            "text/plain": [
              "torch.Size([2, 38])"
            ]
          },
          "metadata": {},
          "execution_count": 73
        }
      ],
      "source": [
        "model_input['labels'].shape"
      ]
    },
    {
      "cell_type": "code",
      "execution_count": 74,
      "id": "232c35ea",
      "metadata": {
        "id": "232c35ea",
        "colab": {
          "base_uri": "https://localhost:8080/"
        },
        "outputId": "fb5cc059-3a26-404a-a8b4-5ec9643c73bd"
      },
      "outputs": [
        {
          "output_type": "execute_result",
          "data": {
            "text/plain": [
              "torch.Size([2, 38])"
            ]
          },
          "metadata": {},
          "execution_count": 74
        }
      ],
      "source": [
        "model_input['input_ids'].shape"
      ]
    },
    {
      "cell_type": "code",
      "execution_count": 75,
      "id": "5cd15c95",
      "metadata": {
        "id": "5cd15c95"
      },
      "outputs": [],
      "source": [
        "model.train()\n",
        "model_output = model(**model_input)"
      ]
    },
    {
      "cell_type": "code",
      "execution_count": 76,
      "id": "Ea8ElbBcan8v",
      "metadata": {
        "id": "Ea8ElbBcan8v",
        "colab": {
          "base_uri": "https://localhost:8080/"
        },
        "outputId": "21b3a413-6dab-44f8-f67c-bc4570426dce"
      },
      "outputs": [
        {
          "output_type": "execute_result",
          "data": {
            "text/plain": [
              "odict_keys(['loss', 'logits'])"
            ]
          },
          "metadata": {},
          "execution_count": 76
        }
      ],
      "source": [
        "# keys in model output\n",
        "model_output.keys()"
      ]
    },
    {
      "cell_type": "code",
      "execution_count": 77,
      "id": "lgHbL2aibE60",
      "metadata": {
        "id": "lgHbL2aibE60",
        "colab": {
          "base_uri": "https://localhost:8080/"
        },
        "outputId": "fd6a05e4-b5f6-4aa7-f1a2-8643635679ab"
      },
      "outputs": [
        {
          "output_type": "execute_result",
          "data": {
            "text/plain": [
              "tensor([[[-9.5929e-02,  1.5246e-02,  4.0103e-01,  5.8309e-02, -4.5248e-01,\n",
              "           1.5768e-01,  3.0709e-01,  2.0723e-02,  2.1444e-03],\n",
              "         [ 2.9582e-01, -1.3054e-01,  1.1869e-01,  2.4391e-01, -6.5684e-01,\n",
              "           1.8759e-01,  4.5974e-01, -3.4066e-01,  1.3874e-01],\n",
              "         [ 3.3585e-01,  3.4729e-01,  7.5701e-01, -2.4523e-01, -1.6481e-01,\n",
              "          -1.3677e-01,  1.3233e-01, -5.3183e-02,  2.6543e-01],\n",
              "         [ 5.2757e-01,  2.1654e-02,  9.5209e-01,  1.8349e-01, -3.8392e-01,\n",
              "           2.0264e-02,  2.0190e-01, -3.3134e-01,  5.4601e-02],\n",
              "         [ 3.5963e-01,  1.7936e-01,  5.9645e-01, -1.1185e-01, -3.1069e-01,\n",
              "          -1.3398e-01,  2.6949e-01, -5.6280e-02,  1.3604e-01],\n",
              "         [ 7.2633e-01,  4.1703e-02,  5.8690e-01,  1.4980e-01, -2.7960e-01,\n",
              "          -1.1841e-01, -2.0455e-02, -2.4727e-01,  3.3460e-01],\n",
              "         [ 2.3816e-01, -2.1100e-01,  9.8212e-01, -1.6222e-01, -2.7347e-01,\n",
              "           5.1151e-02, -5.5038e-02, -3.5693e-01,  2.9760e-01],\n",
              "         [ 5.5185e-01,  7.6440e-02,  4.0964e-01,  2.5339e-01, -8.2644e-02,\n",
              "          -2.6343e-01, -2.3628e-03, -1.6206e-01,  1.9698e-01],\n",
              "         [-1.5511e-01, -2.5649e-01,  1.4280e-01, -1.9657e-01, -7.7054e-03,\n",
              "          -1.8190e-01,  3.5367e-02, -4.6115e-01,  6.7928e-02],\n",
              "         [ 4.5777e-01,  3.5242e-01,  7.8957e-01,  1.5464e-02,  2.1724e-02,\n",
              "          -9.7106e-02,  1.5769e-01, -9.8997e-02,  1.2327e-01],\n",
              "         [ 7.0360e-01, -7.6434e-02,  8.8697e-01,  5.9572e-02, -2.2672e-01,\n",
              "           2.9430e-02,  5.4220e-01, -2.0772e-01,  2.3331e-02],\n",
              "         [ 5.4484e-01, -1.6787e-01,  5.9026e-01,  8.9201e-02, -2.8521e-01,\n",
              "          -4.8720e-02,  2.6817e-02, -1.1470e-01,  1.2344e-01],\n",
              "         [ 7.2096e-01,  4.1638e-02,  4.3778e-01, -4.9301e-03, -4.3610e-01,\n",
              "          -1.6742e-01,  7.2898e-02, -3.8969e-01, -4.4529e-03],\n",
              "         [ 6.4731e-01, -2.0898e-02,  5.0307e-01, -5.0541e-02, -2.1154e-01,\n",
              "          -1.5685e-01,  2.4097e-01, -4.0495e-01,  2.6131e-01],\n",
              "         [ 1.7786e-02,  2.7544e-01,  1.6566e-01,  1.3072e-01, -5.1411e-02,\n",
              "          -8.2245e-02,  5.0829e-02, -2.9166e-02, -3.0473e-02],\n",
              "         [ 2.4170e-01,  3.9996e-02,  4.2400e-01, -1.5574e-01,  3.5763e-02,\n",
              "          -2.4002e-01,  1.4668e-01, -4.2275e-02,  2.7460e-01],\n",
              "         [-1.7567e-01,  2.1238e-02,  5.2566e-01, -3.0656e-01, -5.0853e-02,\n",
              "          -4.4492e-01, -1.1070e-01, -4.7627e-01,  4.3233e-01],\n",
              "         [ 3.1209e-01,  2.2518e-01,  6.7909e-01,  4.1118e-02, -1.5415e-01,\n",
              "          -3.8442e-01,  2.6956e-01, -3.2265e-02,  6.3628e-02],\n",
              "         [ 2.3382e-01,  1.8191e-02,  2.6354e-01, -8.5088e-02, -1.5566e-01,\n",
              "          -2.2699e-02, -3.7114e-02, -1.5587e-01,  2.4025e-01],\n",
              "         [ 2.4088e-01,  2.1932e-01,  4.5529e-01,  7.1440e-02, -2.1665e-01,\n",
              "           2.5494e-01,  3.2177e-01, -2.9977e-01,  3.8820e-02],\n",
              "         [ 1.8930e-01,  5.6642e-02,  3.5119e-01,  4.3875e-02, -2.8325e-01,\n",
              "           1.5518e-02,  2.7426e-02, -3.9487e-01,  1.4243e-01],\n",
              "         [ 2.5813e-01,  9.0718e-02,  5.2376e-01,  1.0623e-01, -3.4201e-01,\n",
              "           3.6290e-01, -6.5040e-02, -1.3372e-01,  1.8035e-02],\n",
              "         [ 1.5510e-01, -5.3136e-02,  1.5304e-02, -4.8433e-02,  1.9568e-01,\n",
              "          -3.0927e-02,  1.7317e-01, -3.9574e-01,  1.2862e-01],\n",
              "         [ 3.9633e-01,  7.4122e-02,  2.1428e-01,  3.9166e-02, -1.5718e-01,\n",
              "           5.0226e-01,  4.3425e-01, -2.1432e-01,  1.5564e-01],\n",
              "         [ 4.4569e-01, -1.1852e-01,  5.0220e-01, -3.1923e-01, -1.8657e-01,\n",
              "           1.0169e-01,  2.7811e-01, -2.3199e-01,  3.8632e-01],\n",
              "         [ 7.0522e-02,  9.5997e-02,  2.8833e-01, -1.5581e-01, -2.8599e-01,\n",
              "           1.2736e-01, -7.4678e-02,  6.0422e-02,  1.3523e-01],\n",
              "         [ 2.4294e-01,  3.5752e-01,  1.2175e-01, -2.2521e-01, -1.7197e-01,\n",
              "           2.2679e-01, -2.1644e-01,  2.6021e-01,  4.0401e-01],\n",
              "         [ 7.7281e-02,  1.8401e-01,  4.5067e-01, -1.3447e-01, -1.3146e-01,\n",
              "           3.5740e-02,  1.1708e-01, -1.4443e-01,  3.1102e-01],\n",
              "         [ 2.0661e-01,  2.8824e-03,  5.8118e-01, -9.2134e-02, -1.9996e-01,\n",
              "          -3.9882e-01,  1.9427e-01, -3.5580e-01,  1.9910e-01],\n",
              "         [ 1.5522e-01,  1.6778e-01,  3.2173e-01, -8.8274e-02, -5.7220e-02,\n",
              "          -2.9878e-01, -3.3077e-03, -4.6215e-01,  1.7855e-01],\n",
              "         [ 1.6615e-02,  3.8905e-01,  2.8937e-01,  5.6512e-02, -2.1463e-01,\n",
              "          -2.8588e-01,  5.8698e-03, -1.2676e-01,  8.3501e-02],\n",
              "         [-5.6893e-02,  4.0008e-01,  6.5662e-01, -8.6219e-02, -1.7923e-01,\n",
              "          -1.1458e-01,  7.8789e-02, -2.8076e-01,  1.0886e-01],\n",
              "         [ 1.0563e-01,  8.2607e-02,  3.7338e-01, -7.8765e-02, -6.9868e-02,\n",
              "          -5.0864e-01,  2.4206e-02, -1.5758e-01,  3.6589e-01],\n",
              "         [ 6.0466e-02,  3.9821e-01,  6.0827e-01,  1.5750e-01, -1.6164e-01,\n",
              "          -2.7144e-01, -9.2410e-03, -2.3294e-01,  1.2657e-01],\n",
              "         [ 2.2132e-01,  2.2152e-01,  5.4136e-01,  9.3385e-02,  4.2046e-02,\n",
              "          -4.0913e-01, -7.9878e-02, -3.2272e-01,  5.2419e-01],\n",
              "         [-1.5412e-01, -1.5975e-01, -4.2778e-02, -4.4891e-01,  2.5348e-01,\n",
              "           2.6996e-01, -2.1430e-01, -3.6186e-01,  1.2114e-01],\n",
              "         [ 1.8885e-01,  2.0582e-02,  4.0624e-01, -4.8039e-03, -1.9927e-01,\n",
              "           1.0138e-01,  2.5047e-01, -1.1424e-01,  2.9061e-01],\n",
              "         [-2.4367e-01,  1.3096e-01,  2.8182e-01,  4.4687e-02, -8.2880e-02,\n",
              "           3.0631e-02,  2.4004e-01, -5.5815e-01,  4.1850e-01]],\n",
              "\n",
              "        [[ 4.7822e-02,  2.1582e-01,  6.2853e-01,  8.3159e-02, -6.2177e-01,\n",
              "           4.2695e-02,  5.0916e-01, -4.7445e-02, -1.4321e-01],\n",
              "         [ 4.3618e-01,  1.5212e-01,  4.0653e-01,  1.5421e-01, -4.2343e-01,\n",
              "          -3.6569e-02,  1.7892e-01,  8.9724e-02, -2.1382e-01],\n",
              "         [ 3.7642e-01,  1.3994e-01,  1.6661e-01, -3.1533e-01, -3.5771e-01,\n",
              "           2.1099e-01,  9.9644e-02,  9.2542e-03,  2.3922e-01],\n",
              "         [ 4.0840e-01,  3.0758e-01,  1.7549e-01, -1.5278e-01, -3.1182e-01,\n",
              "           1.1627e-01,  2.0593e-01, -3.2463e-01,  3.9330e-01],\n",
              "         [ 3.1037e-01,  4.1636e-02,  7.4386e-01, -2.3105e-02,  2.7551e-02,\n",
              "          -1.8336e-01,  2.3715e-01,  3.0437e-02,  5.5262e-01],\n",
              "         [ 1.9838e-01,  3.6566e-01,  4.9814e-01, -1.2698e-01, -5.3784e-01,\n",
              "          -2.7081e-04,  2.5944e-01, -2.4519e-01,  5.5787e-01],\n",
              "         [ 3.3507e-01, -1.5429e-01,  3.5324e-01, -1.4020e-01, -1.1756e-02,\n",
              "          -4.7845e-02,  3.6593e-01,  2.8156e-01,  2.4183e-01],\n",
              "         [-1.2175e-01, -1.3098e-01,  1.3371e-01, -3.3935e-01,  2.7914e-01,\n",
              "          -5.7624e-02, -8.2340e-02, -6.0233e-01,  2.7924e-02],\n",
              "         [ 1.8147e-01,  3.2985e-01,  3.7010e-01,  1.0164e-01, -2.9526e-01,\n",
              "           7.3904e-02,  2.7617e-01, -5.7990e-02, -7.1219e-02],\n",
              "         [ 3.0152e-01,  3.5088e-01,  4.7594e-01,  9.6562e-02, -2.3829e-01,\n",
              "          -2.2085e-03,  2.0847e-01,  6.8356e-02,  3.3381e-02],\n",
              "         [ 2.7371e-01,  2.3905e-01,  4.5719e-01, -1.9667e-02, -3.9564e-01,\n",
              "          -8.1515e-02,  3.4445e-01, -2.2663e-02,  8.7512e-03],\n",
              "         [ 4.0219e-01,  2.1629e-01,  4.1472e-01, -3.2717e-02, -3.7217e-01,\n",
              "           2.6330e-02,  2.0201e-01, -2.3319e-02, -1.0570e-01],\n",
              "         [ 3.2133e-01,  4.3734e-01,  4.4175e-01,  2.4044e-02, -1.7661e-01,\n",
              "          -1.7339e-03,  1.3844e-01, -1.4348e-01, -4.2871e-02],\n",
              "         [ 3.0879e-01,  4.2168e-01,  2.3217e-01,  5.5806e-02, -2.1900e-01,\n",
              "           1.8611e-02,  8.8814e-02, -1.5923e-01,  3.1065e-02],\n",
              "         [ 3.4422e-01,  1.4624e-01,  3.6491e-01,  1.0369e-01, -1.2476e-01,\n",
              "           1.0131e-01,  2.2587e-01, -2.1548e-01,  3.4800e-03],\n",
              "         [-4.2363e-02,  2.2578e-01,  2.2591e-01, -1.5480e-02, -9.8288e-02,\n",
              "           1.5456e-01,  1.0001e-01, -6.4648e-02, -5.9939e-02],\n",
              "         [ 2.9654e-01,  3.5140e-01,  6.5498e-01,  8.6489e-02, -2.0752e-01,\n",
              "          -2.5063e-02,  3.0119e-01,  3.5885e-02,  3.9067e-02],\n",
              "         [ 2.0692e-01,  3.3896e-01,  5.2782e-01,  5.0588e-02, -3.1001e-01,\n",
              "           1.6352e-02,  3.6226e-01, -1.7898e-01,  9.9619e-02],\n",
              "         [ 3.5361e-01,  2.4518e-01,  5.6718e-01,  8.7745e-02, -2.8908e-02,\n",
              "           3.3248e-02,  2.4367e-01, -1.2254e-02,  1.8895e-01],\n",
              "         [ 3.8918e-01,  2.7181e-01,  5.5123e-01,  1.9055e-01,  8.8289e-02,\n",
              "           1.3753e-02,  3.3869e-01, -6.1719e-02,  1.2364e-01],\n",
              "         [ 3.1682e-01,  1.8072e-01,  4.0925e-01,  1.9290e-01, -2.3708e-01,\n",
              "           2.6180e-03,  2.2492e-01,  2.1213e-02,  4.2149e-02],\n",
              "         [ 2.2832e-01,  2.3536e-01,  3.0947e-01,  1.3250e-01, -1.9074e-01,\n",
              "           5.6796e-03,  3.4190e-01,  1.0082e-01, -1.3750e-02],\n",
              "         [ 4.1226e-01,  1.9550e-01,  2.1974e-01,  8.1973e-02, -1.8583e-01,\n",
              "          -3.1763e-02,  1.8160e-01, -6.2906e-02, -8.6316e-02],\n",
              "         [ 1.9312e-01,  2.7285e-01,  4.8658e-01,  7.5430e-02, -2.4598e-01,\n",
              "           1.1570e-01,  3.4683e-01, -1.0504e-01, -8.2089e-02],\n",
              "         [ 1.6214e-01,  2.2109e-01,  3.3012e-01,  4.4563e-02, -2.2630e-01,\n",
              "           2.5051e-02,  2.9588e-01, -6.0460e-02, -8.7956e-02],\n",
              "         [ 2.3528e-01,  1.0248e-01,  2.7016e-01, -3.6107e-02, -1.1967e-01,\n",
              "           1.2772e-01,  1.9875e-01, -9.5516e-02, -4.2837e-02],\n",
              "         [ 2.3484e-01,  2.9409e-01,  4.4025e-01, -4.1959e-02, -2.6433e-01,\n",
              "           5.8299e-02,  2.4244e-01,  2.6877e-02, -1.0389e-01],\n",
              "         [ 2.3005e-01,  3.3845e-01,  4.6031e-01,  1.3450e-03, -2.9701e-01,\n",
              "          -1.5924e-02,  2.7374e-01,  2.2399e-02, -2.9143e-02],\n",
              "         [ 3.8662e-01,  2.4051e-01,  3.2563e-01,  1.6376e-01, -1.4691e-01,\n",
              "           7.0845e-02,  2.9202e-01, -1.8603e-01,  2.5192e-02],\n",
              "         [ 3.1726e-01,  2.7063e-01,  5.6527e-01,  3.1818e-02,  2.3335e-02,\n",
              "           2.8393e-02,  2.9998e-01,  1.4187e-03,  1.6518e-01],\n",
              "         [ 2.7036e-01,  3.4738e-01,  4.3534e-01,  7.6412e-03, -2.0482e-01,\n",
              "          -3.2331e-02,  2.6710e-01, -4.1791e-02,  2.9593e-02],\n",
              "         [ 1.8818e-01,  4.2977e-01,  4.4303e-01,  1.7169e-01, -1.9221e-01,\n",
              "           5.4781e-02,  2.1189e-01, -1.7736e-02,  1.9499e-01],\n",
              "         [ 2.9651e-01,  3.4036e-01,  4.9865e-01,  5.9525e-02, -2.1668e-01,\n",
              "          -2.3901e-02,  2.9451e-01,  1.1980e-01,  7.1628e-02],\n",
              "         [ 2.9273e-01,  2.9281e-01,  4.5784e-01,  2.0858e-01, -1.5306e-01,\n",
              "           2.8771e-02,  1.8745e-01, -3.9826e-03, -5.5006e-02],\n",
              "         [ 2.8245e-01,  2.6003e-01,  6.5749e-01, -9.3248e-03, -6.9872e-03,\n",
              "           7.5031e-02,  1.9530e-01,  2.1352e-03,  9.9223e-02],\n",
              "         [ 2.4313e-01,  1.6334e-01,  4.9011e-01,  1.0740e-01, -4.1003e-01,\n",
              "           9.9909e-02,  1.3722e-01, -1.8794e-01,  4.8549e-02],\n",
              "         [ 2.6339e-01,  3.3746e-01,  5.4730e-01,  2.3239e-02, -2.7685e-01,\n",
              "          -5.5075e-02,  3.2531e-01,  2.0940e-02, -2.8148e-02],\n",
              "         [ 1.6705e-01,  2.8245e-01,  4.5388e-01,  2.2193e-01, -3.5887e-01,\n",
              "          -3.7193e-02,  2.4815e-01, -1.1262e-01,  7.8865e-02]]],\n",
              "       device='cuda:0', grad_fn=<ViewBackward0>)"
            ]
          },
          "metadata": {},
          "execution_count": 77
        }
      ],
      "source": [
        "# let us look at logits\n",
        "model_output.logits"
      ]
    },
    {
      "cell_type": "code",
      "execution_count": 78,
      "id": "5vRyOSXr8I7l",
      "metadata": {
        "id": "5vRyOSXr8I7l",
        "colab": {
          "base_uri": "https://localhost:8080/"
        },
        "outputId": "e3f65190-0234-4c11-ea6f-3f23e2c26313"
      },
      "outputs": [
        {
          "output_type": "execute_result",
          "data": {
            "text/plain": [
              "torch.Size([2, 38, 9])"
            ]
          },
          "metadata": {},
          "execution_count": 78
        }
      ],
      "source": [
        "model_output.logits.shape"
      ]
    },
    {
      "cell_type": "code",
      "execution_count": 79,
      "id": "-EG_42RUeqBC",
      "metadata": {
        "id": "-EG_42RUeqBC",
        "colab": {
          "base_uri": "https://localhost:8080/"
        },
        "outputId": "b086932b-b379-43b5-c8f8-78a8f18845ac"
      },
      "outputs": [
        {
          "output_type": "execute_result",
          "data": {
            "text/plain": [
              "tensor(2.1194, device='cuda:0', grad_fn=<NllLossBackward0>)"
            ]
          },
          "metadata": {},
          "execution_count": 79
        }
      ],
      "source": [
        "model_output.loss"
      ]
    },
    {
      "cell_type": "markdown",
      "id": "4c2cd6ba",
      "metadata": {
        "id": "4c2cd6ba"
      },
      "source": [
        "##  <font color = 'indianred'> **Evaluation metric(s)** </font>"
      ]
    },
    {
      "cell_type": "markdown",
      "id": "9E1NyeL08iPA",
      "metadata": {
        "id": "9E1NyeL08iPA"
      },
      "source": [
        "### <font color = 'indianred'> **Function to compute metric** </font>\n",
        "\n"
      ]
    },
    {
      "cell_type": "code",
      "execution_count": 80,
      "id": "d952b737",
      "metadata": {
        "id": "d952b737"
      },
      "outputs": [],
      "source": [
        "# Understanding and checking the function\n",
        "true_labels = np.array([[-100, 0, 0, 1, 2, 1,-100], [-100, 0, 2, 1, 0, 1,-100]])\n",
        "logits = np.array([\n",
        "\n",
        "    [[0.8, 0.1, 0.1],\n",
        "    [0.8, 0.1, 0.1],\n",
        "    [0.8, 0.1, 0.1],\n",
        "    [0.1, 0.8, 0.1],\n",
        "    [0.1, 0.8, 0.1],\n",
        "    [0.1, 0.8, 0.1],\n",
        "    [0.8, 0.1, 0.1]],\n",
        "\n",
        "    [[0.8, 0.1, 0.1],\n",
        "    [0.8, 0.1, 0.1],\n",
        "    [0.8, 0.1, 0.1],\n",
        "    [0.1, 0.8, 0.1],\n",
        "    [0.1, 0.8, 0.1],\n",
        "    [0.1, 0.8, 0.1],\n",
        "    [0.1, 0.8, 0.1]]\n",
        "\n",
        "])"
      ]
    },
    {
      "cell_type": "code",
      "execution_count": 81,
      "id": "ecc29ce3",
      "metadata": {
        "id": "ecc29ce3",
        "colab": {
          "base_uri": "https://localhost:8080/"
        },
        "outputId": "b326d611-9970-4e67-f85d-604d320b35d7"
      },
      "outputs": [
        {
          "output_type": "execute_result",
          "data": {
            "text/plain": [
              "array([[0, 0, 0, 1, 1, 1, 0],\n",
              "       [0, 0, 0, 1, 1, 1, 1]])"
            ]
          },
          "metadata": {},
          "execution_count": 81
        }
      ],
      "source": [
        "predicted_indices = np.argmax(logits, axis=-1)\n",
        "predicted_indices"
      ]
    },
    {
      "cell_type": "code",
      "execution_count": 82,
      "id": "f436f1cf",
      "metadata": {
        "id": "f436f1cf"
      },
      "outputs": [],
      "source": [
        "string_true_labels = [[class_names[label_id] for label_id in sequence if label_id != -100] for sequence in true_labels]\n",
        "\n",
        "# Convert predicted indices to their string representation, but only for tokens where the true label isn't -100\n",
        "string_predictions = [\n",
        "    [class_names[pred_id] for pred_id, true_label_id in zip(pred_sequence, true_sequence) if true_label_id != -100]\n",
        "    for pred_sequence, true_sequence in zip(predicted_indices, true_labels)\n",
        "]"
      ]
    },
    {
      "cell_type": "code",
      "execution_count": 83,
      "id": "29921d15",
      "metadata": {
        "id": "29921d15",
        "colab": {
          "base_uri": "https://localhost:8080/"
        },
        "outputId": "754eeb33-4c16-4a6d-aad7-d6c75a22575a"
      },
      "outputs": [
        {
          "output_type": "stream",
          "name": "stdout",
          "text": [
            "[['O', 'O', 'B-PER', 'B-PER', 'B-PER'], ['O', 'O', 'B-PER', 'B-PER', 'B-PER']]\n",
            "[['O', 'O', 'B-PER', 'I-PER', 'B-PER'], ['O', 'I-PER', 'B-PER', 'O', 'B-PER']]\n"
          ]
        }
      ],
      "source": [
        "print(string_predictions)\n",
        "print(string_true_labels)"
      ]
    },
    {
      "cell_type": "code",
      "execution_count": 84,
      "id": "9c534b6f",
      "metadata": {
        "id": "9c534b6f",
        "colab": {
          "base_uri": "https://localhost:8080/",
          "height": 49,
          "referenced_widgets": [
            "8f85416b055b4091aee15d0da6483934",
            "32cdf76af9244d3a814344f8211ce091",
            "4469eb0e20a84a6d99149b1459d92edb",
            "e6ac306f720d46aeb2881883ec7b6aa5",
            "40b51b987cc74ab1b87d0cef58846907",
            "fc6e1cf070ed4c648d78ab13d4b12753",
            "a4100d55b1e9418f8080a84397154823",
            "1599d92aceae482ba060c9eac0308e9b",
            "56cbec85db80464381994101683ba32b",
            "8fb57bbee11f4dc4b923823a908d86e5",
            "134862fd59c941bebad2709163df91bd"
          ]
        },
        "outputId": "da90b884-b954-4cd3-841e-4163ec881deb"
      },
      "outputs": [
        {
          "output_type": "display_data",
          "data": {
            "text/plain": [
              "Downloading builder script:   0%|          | 0.00/6.34k [00:00<?, ?B/s]"
            ],
            "application/vnd.jupyter.widget-view+json": {
              "version_major": 2,
              "version_minor": 0,
              "model_id": "8f85416b055b4091aee15d0da6483934"
            }
          },
          "metadata": {}
        }
      ],
      "source": [
        "metric = evaluate.load(\"seqeval\")"
      ]
    },
    {
      "cell_type": "code",
      "execution_count": 85,
      "id": "d6ad3d41",
      "metadata": {
        "id": "d6ad3d41",
        "colab": {
          "base_uri": "https://localhost:8080/"
        },
        "outputId": "839985b4-b2af-4755-91d0-5c7732ffd039"
      },
      "outputs": [
        {
          "output_type": "execute_result",
          "data": {
            "text/plain": [
              "{'PER': {'precision': 0.5,\n",
              "  'recall': 0.6,\n",
              "  'f1': 0.5454545454545454,\n",
              "  'number': 5},\n",
              " 'overall_precision': 0.5,\n",
              " 'overall_recall': 0.6,\n",
              " 'overall_f1': 0.5454545454545454,\n",
              " 'overall_accuracy': 0.7}"
            ]
          },
          "metadata": {},
          "execution_count": 85
        }
      ],
      "source": [
        "metric.compute(predictions=string_predictions, references=string_true_labels)"
      ]
    },
    {
      "cell_type": "code",
      "execution_count": 86,
      "id": "fd42264b",
      "metadata": {
        "id": "fd42264b"
      },
      "outputs": [],
      "source": [
        "seqeval_metric = evaluate.load('seqeval')\n",
        "\n",
        "def compute_metrics(logits_and_labels):\n",
        "\n",
        "    logits, true_labels = logits_and_labels\n",
        "\n",
        "    # Obtain predicted label indices by selecting the label with the highest logit value for each token\n",
        "    predicted_indices = np.argmax(logits, axis=-1)  # Shape: (batch_size, sequence_length)\n",
        "\n",
        "    # Convert label indices to their string representation, ignoring special tokens (label index = -100)\n",
        "    string_true_labels = [[class_names[label_id] for label_id in sequence if label_id != -100] for sequence in true_labels]\n",
        "\n",
        "    # for pred_sequence, true_sequence in zip(predicted_indices, true_labels):\n",
        "    #   for pred_id, true_label_id in zip(pred_sequence, true_sequence):\n",
        "    #     if true_label_id != -100:\n",
        "    #       print(class_names[pred_id])\n",
        "\n",
        "    # Convert predicted indices to their string representation, but only for tokens where the true label isn't -100\n",
        "    string_predictions = [[class_names[pred_id] for pred_id, true_label_id in zip(pred_sequence, true_sequence) if true_label_id != -100]\n",
        "        for pred_sequence, true_sequence in zip(predicted_indices, true_labels)]\n",
        "\n",
        "\n",
        "    # print('Length of predicted_indices = ', len(predicted_indices))\n",
        "    # print('Length of predicted_indices = ', len(true_labels))\n",
        "\n",
        "    # Compute the metrics using seqeval\n",
        "    metrics_results = seqeval_metric.compute(predictions=string_predictions, references=string_true_labels)\n",
        "\n",
        "    return {\n",
        "        'precision': metrics_results['overall_precision'],\n",
        "        'recall': metrics_results['overall_recall'],\n",
        "        'f1': metrics_results['overall_f1'],\n",
        "        'accuracy': metrics_results['overall_accuracy']\n",
        "    }"
      ]
    },
    {
      "cell_type": "code",
      "execution_count": 87,
      "id": "90b1e065",
      "metadata": {
        "id": "90b1e065",
        "colab": {
          "base_uri": "https://localhost:8080/"
        },
        "outputId": "2398b31a-f979-49a5-d407-e331c319b2b5"
      },
      "outputs": [
        {
          "output_type": "execute_result",
          "data": {
            "text/plain": [
              "{'precision': 0.5, 'recall': 0.6, 'f1': 0.5454545454545454, 'accuracy': 0.7}"
            ]
          },
          "metadata": {},
          "execution_count": 87
        }
      ],
      "source": [
        "compute_metrics((logits, true_labels))"
      ]
    },
    {
      "cell_type": "markdown",
      "id": "IGDxeCI38uqm",
      "metadata": {
        "id": "IGDxeCI38uqm"
      },
      "source": [
        "## <font color = 'indianred'> **Set up Logger for experiments**</font>"
      ]
    },
    {
      "cell_type": "markdown",
      "id": "87d39177",
      "metadata": {
        "id": "87d39177"
      },
      "source": []
    },
    {
      "cell_type": "code",
      "execution_count": 88,
      "id": "S8CaRySh81mi",
      "metadata": {
        "id": "S8CaRySh81mi",
        "colab": {
          "base_uri": "https://localhost:8080/",
          "height": 69
        },
        "outputId": "b530d036-92d7-450c-85fb-f79761ae935c"
      },
      "outputs": [
        {
          "output_type": "display_data",
          "data": {
            "text/plain": [
              "<IPython.core.display.Javascript object>"
            ],
            "application/javascript": [
              "\n",
              "        window._wandbApiKey = new Promise((resolve, reject) => {\n",
              "            function loadScript(url) {\n",
              "            return new Promise(function(resolve, reject) {\n",
              "                let newScript = document.createElement(\"script\");\n",
              "                newScript.onerror = reject;\n",
              "                newScript.onload = resolve;\n",
              "                document.body.appendChild(newScript);\n",
              "                newScript.src = url;\n",
              "            });\n",
              "            }\n",
              "            loadScript(\"https://cdn.jsdelivr.net/npm/postmate/build/postmate.min.js\").then(() => {\n",
              "            const iframe = document.createElement('iframe')\n",
              "            iframe.style.cssText = \"width:0;height:0;border:none\"\n",
              "            document.body.appendChild(iframe)\n",
              "            const handshake = new Postmate({\n",
              "                container: iframe,\n",
              "                url: 'https://wandb.ai/authorize'\n",
              "            });\n",
              "            const timeout = setTimeout(() => reject(\"Couldn't auto authenticate\"), 5000)\n",
              "            handshake.then(function(child) {\n",
              "                child.on('authorize', data => {\n",
              "                    clearTimeout(timeout)\n",
              "                    resolve(data)\n",
              "                });\n",
              "            });\n",
              "            })\n",
              "        });\n",
              "    "
            ]
          },
          "metadata": {}
        },
        {
          "output_type": "stream",
          "name": "stderr",
          "text": [
            "\u001b[34m\u001b[1mwandb\u001b[0m: Appending key for api.wandb.ai to your netrc file: /root/.netrc\n"
          ]
        },
        {
          "output_type": "stream",
          "name": "stdout",
          "text": [
            "env: WANDB_PROJECT=nlp_course_fall_2023-ner\n"
          ]
        }
      ],
      "source": [
        "# YOU WILL NEED TO CREATE AN ACCOUNT FOR WANDB\n",
        "# It may provide a link for token , copy paste the token following instructions\n",
        "# setup wandb\n",
        "wandb.login()  # you will need to create wandb account first\n",
        "# Set project name for logging\n",
        "%env WANDB_PROJECT = nlp_course_fall_2023-ner"
      ]
    },
    {
      "cell_type": "markdown",
      "id": "Jwwp80UgmLjr",
      "metadata": {
        "id": "Jwwp80UgmLjr"
      },
      "source": [
        "## <font color = 'indianred'> **Hyperparameters and Checkpointing**</font>"
      ]
    },
    {
      "cell_type": "code",
      "execution_count": 89,
      "id": "hIXDbzK8O4x9",
      "metadata": {
        "id": "hIXDbzK8O4x9"
      },
      "outputs": [],
      "source": [
        "# Define the directory where model checkpoints will be saved\n",
        "model_folder = base_folder / \"Models\"\n",
        "# Create the directory if it doesn't exist\n",
        "model_folder.mkdir(exist_ok=True, parents=True)\n",
        "\n",
        "# Configure training parameters\n",
        "training_args = TrainingArguments(\n",
        "    # Training-specific configurations\n",
        "    num_train_epochs=2,  # Total number of training epochs\n",
        "    # Number of samples per training batch for each device\n",
        "    per_device_train_batch_size=16,\n",
        "    # Number of samples per evaluation batch for each device\n",
        "    per_device_eval_batch_size=16,\n",
        "    weight_decay=0.01,  # Apply L2 regularization to prevent overfitting\n",
        "    learning_rate=2e-5,  # Step size for the optimizer during training\n",
        "    optim='adamw_torch',  # Optimizer,\n",
        "\n",
        "    # Checkpoint saving and model evaluation settings\n",
        "    output_dir=str(model_folder),  # Directory to save model checkpoints\n",
        "    evaluation_strategy='steps',  # Evaluate model at specified step intervals\n",
        "    eval_steps=20,  # Perform evaluation every 10 training steps\n",
        "    save_strategy=\"steps\",  # Save model checkpoint at specified step intervals\n",
        "    save_steps=20,  # Save a model checkpoint every 10 training steps\n",
        "    load_best_model_at_end=True,  # Reload the best model at the end of training\n",
        "    save_total_limit=2,  # Retain only the best and the most recent model checkpoints\n",
        "    # Use 'accuracy' as the metric to determine the best model\n",
        "    metric_for_best_model=\"accuracy\",\n",
        "    greater_is_better=True,  # A model is 'better' if its accuracy is higher\n",
        "\n",
        "\n",
        "    # Experiment logging configurations (commented out in this example)\n",
        "    logging_strategy='steps',\n",
        "    logging_steps=20,\n",
        "    report_to='wandb',  # Log metrics and results to Weights & Biases platform\n",
        "    run_name= 'ner_exp1',  # Experiment name for Weights & Biases\n",
        ")\n"
      ]
    },
    {
      "cell_type": "markdown",
      "id": "J_hMcxgrFNyT",
      "metadata": {
        "id": "J_hMcxgrFNyT"
      },
      "source": [
        "##  <font color = 'indianred'> **Initialize Trainer**</font>"
      ]
    },
    {
      "cell_type": "code",
      "execution_count": 90,
      "id": "syJ7458-On05",
      "metadata": {
        "id": "syJ7458-On05"
      },
      "outputs": [],
      "source": [
        "# initialize trainer\n",
        "trainer = Trainer(\n",
        "    model=model,\n",
        "    args=training_args,\n",
        "    train_dataset=tokenized_dataset[\"train\"],\n",
        "    eval_dataset=tokenized_dataset[\"val\"],\n",
        "    compute_metrics=compute_metrics,\n",
        "    tokenizer=tokenizer,\n",
        "    data_collator=data_collator,\n",
        ")\n"
      ]
    },
    {
      "cell_type": "markdown",
      "id": "ty027fT4DFGn",
      "metadata": {
        "id": "ty027fT4DFGn"
      },
      "source": [
        "##  <font color = 'indianred'> **Start Training**"
      ]
    },
    {
      "cell_type": "code",
      "execution_count": 91,
      "id": "WQj1TJRPMbJe",
      "metadata": {
        "id": "WQj1TJRPMbJe",
        "colab": {
          "base_uri": "https://localhost:8080/"
        },
        "outputId": "06e15b0e-0d4b-48f8-8a65-357a04bb3232"
      },
      "outputs": [
        {
          "output_type": "execute_result",
          "data": {
            "text/plain": [
              "DataCollatorForTokenClassification(tokenizer=DistilBertTokenizerFast(name_or_path='distilbert-base-uncased', vocab_size=30522, model_max_length=512, is_fast=True, padding_side='right', truncation_side='right', special_tokens={'unk_token': '[UNK]', 'sep_token': '[SEP]', 'pad_token': '[PAD]', 'cls_token': '[CLS]', 'mask_token': '[MASK]'}, clean_up_tokenization_spaces=True),  added_tokens_decoder={\n",
              "\t0: AddedToken(\"[PAD]\", rstrip=False, lstrip=False, single_word=False, normalized=False, special=True),\n",
              "\t100: AddedToken(\"[UNK]\", rstrip=False, lstrip=False, single_word=False, normalized=False, special=True),\n",
              "\t101: AddedToken(\"[CLS]\", rstrip=False, lstrip=False, single_word=False, normalized=False, special=True),\n",
              "\t102: AddedToken(\"[SEP]\", rstrip=False, lstrip=False, single_word=False, normalized=False, special=True),\n",
              "\t103: AddedToken(\"[MASK]\", rstrip=False, lstrip=False, single_word=False, normalized=False, special=True),\n",
              "}, padding=True, max_length=None, pad_to_multiple_of=None, label_pad_token_id=-100, return_tensors='pt')"
            ]
          },
          "metadata": {},
          "execution_count": 91
        }
      ],
      "source": [
        "trainer.data_collator"
      ]
    },
    {
      "cell_type": "code",
      "execution_count": 92,
      "id": "MHNSotl_CyW7",
      "metadata": {
        "id": "MHNSotl_CyW7",
        "colab": {
          "base_uri": "https://localhost:8080/",
          "height": 1000
        },
        "outputId": "e0ce009c-b842-4602-9afb-1206c48e4ff1"
      },
      "outputs": [
        {
          "output_type": "display_data",
          "data": {
            "text/plain": [
              "<IPython.core.display.HTML object>"
            ],
            "text/html": [
              "Changes to your `wandb` environment variables will be ignored because your `wandb` session has already started. For more information on how to modify your settings with `wandb.init()` arguments, please refer to <a href='https://wandb.me/wandb-init' target=\"_blank\">the W&B docs</a>."
            ]
          },
          "metadata": {}
        },
        {
          "output_type": "stream",
          "name": "stderr",
          "text": [
            "\u001b[34m\u001b[1mwandb\u001b[0m: Currently logged in as: \u001b[33mshremuk\u001b[0m. Use \u001b[1m`wandb login --relogin`\u001b[0m to force relogin\n"
          ]
        },
        {
          "output_type": "display_data",
          "data": {
            "text/plain": [
              "<IPython.core.display.HTML object>"
            ],
            "text/html": [
              "Tracking run with wandb version 0.15.12"
            ]
          },
          "metadata": {}
        },
        {
          "output_type": "display_data",
          "data": {
            "text/plain": [
              "<IPython.core.display.HTML object>"
            ],
            "text/html": [
              "Run data is saved locally in <code>/content/wandb/run-20231029_213440-xr3cqu7c</code>"
            ]
          },
          "metadata": {}
        },
        {
          "output_type": "display_data",
          "data": {
            "text/plain": [
              "<IPython.core.display.HTML object>"
            ],
            "text/html": [
              "Syncing run <strong><a href='https://wandb.ai/shremuk/nlp_course_fall_2023-ner/runs/xr3cqu7c' target=\"_blank\">ner_exp1</a></strong> to <a href='https://wandb.ai/shremuk/nlp_course_fall_2023-ner' target=\"_blank\">Weights & Biases</a> (<a href='https://wandb.me/run' target=\"_blank\">docs</a>)<br/>"
            ]
          },
          "metadata": {}
        },
        {
          "output_type": "display_data",
          "data": {
            "text/plain": [
              "<IPython.core.display.HTML object>"
            ],
            "text/html": [
              " View project at <a href='https://wandb.ai/shremuk/nlp_course_fall_2023-ner' target=\"_blank\">https://wandb.ai/shremuk/nlp_course_fall_2023-ner</a>"
            ]
          },
          "metadata": {}
        },
        {
          "output_type": "display_data",
          "data": {
            "text/plain": [
              "<IPython.core.display.HTML object>"
            ],
            "text/html": [
              " View run at <a href='https://wandb.ai/shremuk/nlp_course_fall_2023-ner/runs/xr3cqu7c' target=\"_blank\">https://wandb.ai/shremuk/nlp_course_fall_2023-ner/runs/xr3cqu7c</a>"
            ]
          },
          "metadata": {}
        },
        {
          "output_type": "display_data",
          "data": {
            "text/plain": [
              "<IPython.core.display.HTML object>"
            ],
            "text/html": [
              "\n",
              "    <div>\n",
              "      \n",
              "      <progress value='626' max='626' style='width:300px; height:20px; vertical-align: middle;'></progress>\n",
              "      [626/626 05:08, Epoch 2/2]\n",
              "    </div>\n",
              "    <table border=\"1\" class=\"dataframe\">\n",
              "  <thead>\n",
              " <tr style=\"text-align: left;\">\n",
              "      <th>Step</th>\n",
              "      <th>Training Loss</th>\n",
              "      <th>Validation Loss</th>\n",
              "      <th>Precision</th>\n",
              "      <th>Recall</th>\n",
              "      <th>F1</th>\n",
              "      <th>Accuracy</th>\n",
              "    </tr>\n",
              "  </thead>\n",
              "  <tbody>\n",
              "    <tr>\n",
              "      <td>20</td>\n",
              "      <td>1.272000</td>\n",
              "      <td>0.836208</td>\n",
              "      <td>0.000000</td>\n",
              "      <td>0.000000</td>\n",
              "      <td>0.000000</td>\n",
              "      <td>0.792906</td>\n",
              "    </tr>\n",
              "    <tr>\n",
              "      <td>40</td>\n",
              "      <td>0.711400</td>\n",
              "      <td>0.557394</td>\n",
              "      <td>0.034091</td>\n",
              "      <td>0.001672</td>\n",
              "      <td>0.003188</td>\n",
              "      <td>0.799747</td>\n",
              "    </tr>\n",
              "    <tr>\n",
              "      <td>60</td>\n",
              "      <td>0.504600</td>\n",
              "      <td>0.404047</td>\n",
              "      <td>0.476494</td>\n",
              "      <td>0.457637</td>\n",
              "      <td>0.466875</td>\n",
              "      <td>0.877638</td>\n",
              "    </tr>\n",
              "    <tr>\n",
              "      <td>80</td>\n",
              "      <td>0.371800</td>\n",
              "      <td>0.313132</td>\n",
              "      <td>0.528398</td>\n",
              "      <td>0.580825</td>\n",
              "      <td>0.553372</td>\n",
              "      <td>0.915057</td>\n",
              "    </tr>\n",
              "    <tr>\n",
              "      <td>100</td>\n",
              "      <td>0.295800</td>\n",
              "      <td>0.247999</td>\n",
              "      <td>0.603696</td>\n",
              "      <td>0.655518</td>\n",
              "      <td>0.628541</td>\n",
              "      <td>0.927899</td>\n",
              "    </tr>\n",
              "    <tr>\n",
              "      <td>120</td>\n",
              "      <td>0.251400</td>\n",
              "      <td>0.206971</td>\n",
              "      <td>0.596918</td>\n",
              "      <td>0.669454</td>\n",
              "      <td>0.631109</td>\n",
              "      <td>0.936951</td>\n",
              "    </tr>\n",
              "    <tr>\n",
              "      <td>140</td>\n",
              "      <td>0.232200</td>\n",
              "      <td>0.179217</td>\n",
              "      <td>0.687015</td>\n",
              "      <td>0.740245</td>\n",
              "      <td>0.712638</td>\n",
              "      <td>0.948845</td>\n",
              "    </tr>\n",
              "    <tr>\n",
              "      <td>160</td>\n",
              "      <td>0.228700</td>\n",
              "      <td>0.161564</td>\n",
              "      <td>0.726937</td>\n",
              "      <td>0.768673</td>\n",
              "      <td>0.747223</td>\n",
              "      <td>0.952108</td>\n",
              "    </tr>\n",
              "    <tr>\n",
              "      <td>180</td>\n",
              "      <td>0.181800</td>\n",
              "      <td>0.139540</td>\n",
              "      <td>0.756869</td>\n",
              "      <td>0.813824</td>\n",
              "      <td>0.784314</td>\n",
              "      <td>0.962476</td>\n",
              "    </tr>\n",
              "    <tr>\n",
              "      <td>200</td>\n",
              "      <td>0.158000</td>\n",
              "      <td>0.128378</td>\n",
              "      <td>0.774751</td>\n",
              "      <td>0.824415</td>\n",
              "      <td>0.798812</td>\n",
              "      <td>0.965318</td>\n",
              "    </tr>\n",
              "    <tr>\n",
              "      <td>220</td>\n",
              "      <td>0.162700</td>\n",
              "      <td>0.120543</td>\n",
              "      <td>0.793467</td>\n",
              "      <td>0.839465</td>\n",
              "      <td>0.815818</td>\n",
              "      <td>0.967633</td>\n",
              "    </tr>\n",
              "    <tr>\n",
              "      <td>240</td>\n",
              "      <td>0.152200</td>\n",
              "      <td>0.113308</td>\n",
              "      <td>0.783826</td>\n",
              "      <td>0.842809</td>\n",
              "      <td>0.812248</td>\n",
              "      <td>0.968686</td>\n",
              "    </tr>\n",
              "    <tr>\n",
              "      <td>260</td>\n",
              "      <td>0.146500</td>\n",
              "      <td>0.109865</td>\n",
              "      <td>0.788100</td>\n",
              "      <td>0.841695</td>\n",
              "      <td>0.814016</td>\n",
              "      <td>0.969949</td>\n",
              "    </tr>\n",
              "    <tr>\n",
              "      <td>280</td>\n",
              "      <td>0.145500</td>\n",
              "      <td>0.104994</td>\n",
              "      <td>0.817842</td>\n",
              "      <td>0.853400</td>\n",
              "      <td>0.835243</td>\n",
              "      <td>0.970949</td>\n",
              "    </tr>\n",
              "    <tr>\n",
              "      <td>300</td>\n",
              "      <td>0.123100</td>\n",
              "      <td>0.100945</td>\n",
              "      <td>0.803253</td>\n",
              "      <td>0.853400</td>\n",
              "      <td>0.827568</td>\n",
              "      <td>0.971002</td>\n",
              "    </tr>\n",
              "    <tr>\n",
              "      <td>320</td>\n",
              "      <td>0.124000</td>\n",
              "      <td>0.095840</td>\n",
              "      <td>0.833155</td>\n",
              "      <td>0.868450</td>\n",
              "      <td>0.850437</td>\n",
              "      <td>0.973107</td>\n",
              "    </tr>\n",
              "    <tr>\n",
              "      <td>340</td>\n",
              "      <td>0.098700</td>\n",
              "      <td>0.095603</td>\n",
              "      <td>0.809375</td>\n",
              "      <td>0.866221</td>\n",
              "      <td>0.836834</td>\n",
              "      <td>0.972107</td>\n",
              "    </tr>\n",
              "    <tr>\n",
              "      <td>360</td>\n",
              "      <td>0.091500</td>\n",
              "      <td>0.093360</td>\n",
              "      <td>0.829346</td>\n",
              "      <td>0.869565</td>\n",
              "      <td>0.848980</td>\n",
              "      <td>0.973686</td>\n",
              "    </tr>\n",
              "    <tr>\n",
              "      <td>380</td>\n",
              "      <td>0.083500</td>\n",
              "      <td>0.093438</td>\n",
              "      <td>0.821429</td>\n",
              "      <td>0.871795</td>\n",
              "      <td>0.845863</td>\n",
              "      <td>0.974159</td>\n",
              "    </tr>\n",
              "    <tr>\n",
              "      <td>400</td>\n",
              "      <td>0.087400</td>\n",
              "      <td>0.091506</td>\n",
              "      <td>0.826110</td>\n",
              "      <td>0.871237</td>\n",
              "      <td>0.848074</td>\n",
              "      <td>0.973528</td>\n",
              "    </tr>\n",
              "    <tr>\n",
              "      <td>420</td>\n",
              "      <td>0.082300</td>\n",
              "      <td>0.088652</td>\n",
              "      <td>0.834395</td>\n",
              "      <td>0.876254</td>\n",
              "      <td>0.854812</td>\n",
              "      <td>0.975685</td>\n",
              "    </tr>\n",
              "    <tr>\n",
              "      <td>440</td>\n",
              "      <td>0.097400</td>\n",
              "      <td>0.087604</td>\n",
              "      <td>0.828933</td>\n",
              "      <td>0.875139</td>\n",
              "      <td>0.851410</td>\n",
              "      <td>0.974791</td>\n",
              "    </tr>\n",
              "    <tr>\n",
              "      <td>460</td>\n",
              "      <td>0.114500</td>\n",
              "      <td>0.085633</td>\n",
              "      <td>0.831045</td>\n",
              "      <td>0.877369</td>\n",
              "      <td>0.853579</td>\n",
              "      <td>0.975528</td>\n",
              "    </tr>\n",
              "    <tr>\n",
              "      <td>480</td>\n",
              "      <td>0.099600</td>\n",
              "      <td>0.084435</td>\n",
              "      <td>0.837135</td>\n",
              "      <td>0.879599</td>\n",
              "      <td>0.857842</td>\n",
              "      <td>0.976159</td>\n",
              "    </tr>\n",
              "    <tr>\n",
              "      <td>500</td>\n",
              "      <td>0.094200</td>\n",
              "      <td>0.084363</td>\n",
              "      <td>0.843367</td>\n",
              "      <td>0.882386</td>\n",
              "      <td>0.862435</td>\n",
              "      <td>0.976212</td>\n",
              "    </tr>\n",
              "    <tr>\n",
              "      <td>520</td>\n",
              "      <td>0.086400</td>\n",
              "      <td>0.084318</td>\n",
              "      <td>0.837209</td>\n",
              "      <td>0.882943</td>\n",
              "      <td>0.859468</td>\n",
              "      <td>0.975791</td>\n",
              "    </tr>\n",
              "    <tr>\n",
              "      <td>540</td>\n",
              "      <td>0.083300</td>\n",
              "      <td>0.082802</td>\n",
              "      <td>0.834916</td>\n",
              "      <td>0.882386</td>\n",
              "      <td>0.857995</td>\n",
              "      <td>0.976738</td>\n",
              "    </tr>\n",
              "    <tr>\n",
              "      <td>560</td>\n",
              "      <td>0.071200</td>\n",
              "      <td>0.082381</td>\n",
              "      <td>0.830875</td>\n",
              "      <td>0.879041</td>\n",
              "      <td>0.854280</td>\n",
              "      <td>0.976264</td>\n",
              "    </tr>\n",
              "    <tr>\n",
              "      <td>580</td>\n",
              "      <td>0.093300</td>\n",
              "      <td>0.080641</td>\n",
              "      <td>0.844883</td>\n",
              "      <td>0.883501</td>\n",
              "      <td>0.863760</td>\n",
              "      <td>0.977527</td>\n",
              "    </tr>\n",
              "    <tr>\n",
              "      <td>600</td>\n",
              "      <td>0.083900</td>\n",
              "      <td>0.080095</td>\n",
              "      <td>0.853383</td>\n",
              "      <td>0.885730</td>\n",
              "      <td>0.869256</td>\n",
              "      <td>0.977633</td>\n",
              "    </tr>\n",
              "    <tr>\n",
              "      <td>620</td>\n",
              "      <td>0.075100</td>\n",
              "      <td>0.080112</td>\n",
              "      <td>0.849652</td>\n",
              "      <td>0.885173</td>\n",
              "      <td>0.867049</td>\n",
              "      <td>0.977527</td>\n",
              "    </tr>\n",
              "  </tbody>\n",
              "</table><p>"
            ]
          },
          "metadata": {}
        },
        {
          "output_type": "stream",
          "name": "stderr",
          "text": [
            "/usr/local/lib/python3.10/dist-packages/seqeval/metrics/v1.py:57: UndefinedMetricWarning: Precision and F-score are ill-defined and being set to 0.0 in labels with no predicted samples. Use `zero_division` parameter to control this behavior.\n",
            "  _warn_prf(average, modifier, msg_start, len(result))\n",
            "/usr/local/lib/python3.10/dist-packages/seqeval/metrics/v1.py:57: UndefinedMetricWarning: Precision and F-score are ill-defined and being set to 0.0 due to no predicted samples. Use `zero_division` parameter to control this behavior.\n",
            "  _warn_prf(average, modifier, msg_start, len(result))\n",
            "/usr/local/lib/python3.10/dist-packages/seqeval/metrics/v1.py:57: UndefinedMetricWarning: Precision and F-score are ill-defined and being set to 0.0 in labels with no predicted samples. Use `zero_division` parameter to control this behavior.\n",
            "  _warn_prf(average, modifier, msg_start, len(result))\n",
            "/usr/local/lib/python3.10/dist-packages/seqeval/metrics/v1.py:57: UndefinedMetricWarning: Precision and F-score are ill-defined and being set to 0.0 in labels with no predicted samples. Use `zero_division` parameter to control this behavior.\n",
            "  _warn_prf(average, modifier, msg_start, len(result))\n",
            "/usr/local/lib/python3.10/dist-packages/seqeval/metrics/v1.py:57: UndefinedMetricWarning: Precision and F-score are ill-defined and being set to 0.0 in labels with no predicted samples. Use `zero_division` parameter to control this behavior.\n",
            "  _warn_prf(average, modifier, msg_start, len(result))\n"
          ]
        },
        {
          "output_type": "execute_result",
          "data": {
            "text/plain": [
              "TrainOutput(global_step=626, training_loss=0.20529303073692626, metrics={'train_runtime': 311.3401, 'train_samples_per_second': 32.119, 'train_steps_per_second': 2.011, 'total_flos': 121120544570256.0, 'train_loss': 0.20529303073692626, 'epoch': 2.0})"
            ]
          },
          "metadata": {},
          "execution_count": 92
        }
      ],
      "source": [
        "trainer.train()  # start training"
      ]
    },
    {
      "cell_type": "markdown",
      "id": "42c32c3f",
      "metadata": {
        "id": "42c32c3f"
      },
      "source": [
        "## <font color = 'indianred'> **Evaluation**\n"
      ]
    },
    {
      "cell_type": "markdown",
      "id": "ade3b145",
      "metadata": {
        "id": "ade3b145"
      },
      "source": [
        "### <font color = 'indianred'> **Check performance on validation set**</font>\n"
      ]
    },
    {
      "cell_type": "code",
      "execution_count": 93,
      "id": "a44ccd78",
      "metadata": {
        "id": "a44ccd78",
        "colab": {
          "base_uri": "https://localhost:8080/",
          "height": 193
        },
        "outputId": "e565f058-719d-4bcb-807d-5aab168a775c"
      },
      "outputs": [
        {
          "output_type": "display_data",
          "data": {
            "text/plain": [
              "<IPython.core.display.HTML object>"
            ],
            "text/html": [
              "\n",
              "    <div>\n",
              "      \n",
              "      <progress value='63' max='63' style='width:300px; height:20px; vertical-align: middle;'></progress>\n",
              "      [63/63 00:01]\n",
              "    </div>\n",
              "    "
            ]
          },
          "metadata": {}
        },
        {
          "output_type": "execute_result",
          "data": {
            "text/plain": [
              "{'eval_loss': 0.08009454607963562,\n",
              " 'eval_precision': 0.8533834586466166,\n",
              " 'eval_recall': 0.8857302118171684,\n",
              " 'eval_f1': 0.8692560175054704,\n",
              " 'eval_accuracy': 0.9776327561707279,\n",
              " 'eval_runtime': 2.0697,\n",
              " 'eval_samples_per_second': 483.171,\n",
              " 'eval_steps_per_second': 30.44,\n",
              " 'epoch': 2.0}"
            ]
          },
          "metadata": {},
          "execution_count": 93
        }
      ],
      "source": [
        "# Evaluate the trained model on the tokenized validation dataset.\n",
        "# This will provide metrics like loss, accuracy, etc. based on the model's performance on the validation set.\n",
        "trainer.evaluate(tokenized_dataset[\"val\"])\n"
      ]
    },
    {
      "cell_type": "markdown",
      "id": "ad1672b2",
      "metadata": {
        "id": "ad1672b2"
      },
      "source": [
        "###  <font color = 'indianred'> **Check Confusion Matrix**</font>\n",
        "\n",
        "\n"
      ]
    },
    {
      "cell_type": "code",
      "execution_count": 94,
      "id": "bacbb4f0",
      "metadata": {
        "id": "bacbb4f0",
        "colab": {
          "base_uri": "https://localhost:8080/",
          "height": 17
        },
        "outputId": "4557ff18-dc0d-4db3-f6c1-ac4b8f72da45"
      },
      "outputs": [
        {
          "output_type": "display_data",
          "data": {
            "text/plain": [
              "<IPython.core.display.HTML object>"
            ],
            "text/html": []
          },
          "metadata": {}
        }
      ],
      "source": [
        "# Use the trainer to generate predictions on the tokenized validation dataset.\n",
        "# The resulting object, valid_output, will contain the model's logits (raw prediction scores) for each input in the validation set.\n",
        "valid_output = trainer.predict(tokenized_dataset[\"val\"])\n"
      ]
    },
    {
      "cell_type": "code",
      "execution_count": 95,
      "id": "391dcfd3",
      "metadata": {
        "id": "391dcfd3",
        "colab": {
          "base_uri": "https://localhost:8080/"
        },
        "outputId": "ff88af62-a273-4296-afe4-9c02ccfde008"
      },
      "outputs": [
        {
          "output_type": "execute_result",
          "data": {
            "text/plain": [
              "('predictions', 'label_ids', 'metrics')"
            ]
          },
          "metadata": {},
          "execution_count": 95
        }
      ],
      "source": [
        "# Retrieve the named fields (attributes) of the valid_output object.\n",
        "# This helps understand the structure of the prediction output and the available information it contains.\n",
        "valid_output._fields\n",
        "\n"
      ]
    },
    {
      "cell_type": "code",
      "execution_count": 96,
      "id": "ab048612",
      "metadata": {
        "id": "ab048612",
        "colab": {
          "base_uri": "https://localhost:8080/"
        },
        "outputId": "c5732bc2-b2ab-45d8-881c-113420a3725b"
      },
      "outputs": [
        {
          "output_type": "stream",
          "name": "stdout",
          "text": [
            "(1000, 146, 9)\n",
            "(1000, 146)\n"
          ]
        }
      ],
      "source": [
        "# Check and print the shape of the predictions and label_ids from the valid_output object.\n",
        "# This provides insight into the dimensions of the predicted outputs and the true labels for the validation set.\n",
        "print(valid_output.predictions.shape)\n",
        "print(valid_output.label_ids.shape)\n",
        "\n",
        "\n"
      ]
    },
    {
      "cell_type": "code",
      "execution_count": 97,
      "id": "95a4d7d0",
      "metadata": {
        "id": "95a4d7d0"
      },
      "outputs": [],
      "source": [
        "# Convert the logits (raw prediction scores) from the valid_output object into class predictions.\n",
        "# For each input, pick the class with the highest logit as the predicted class.\n",
        "# Also, extract the true label IDs from valid_output and store them as an array for further analysis.\n",
        "valid_predictions = np.argmax(valid_output.predictions, axis=2)\n",
        "valid_labels = np.array(valid_output.label_ids)\n",
        "\n",
        "# 2. Filter out any tokens with label -100 (typically used for padding or special tokens)\n",
        "mask = valid_labels != -100\n",
        "filtered_predictions = valid_predictions[mask]\n",
        "filtered_labels = valid_labels[mask]"
      ]
    },
    {
      "cell_type": "code",
      "execution_count": 98,
      "id": "9ff99da6",
      "metadata": {
        "id": "9ff99da6",
        "colab": {
          "base_uri": "https://localhost:8080/"
        },
        "outputId": "1904085f-090e-4789-85b9-d0a58518c568"
      },
      "outputs": [
        {
          "output_type": "execute_result",
          "data": {
            "text/plain": [
              "['O', 'B-PER', 'I-PER', 'B-ORG', 'I-ORG', 'B-LOC', 'I-LOC', 'B-MISC', 'I-MISC']"
            ]
          },
          "metadata": {},
          "execution_count": 98
        }
      ],
      "source": [
        "class_names"
      ]
    },
    {
      "cell_type": "code",
      "execution_count": 99,
      "id": "82a8eaa0",
      "metadata": {
        "id": "82a8eaa0",
        "colab": {
          "base_uri": "https://localhost:8080/",
          "height": 595
        },
        "outputId": "2e7e8085-ed4e-4538-aeeb-7d1aa0903b87"
      },
      "outputs": [
        {
          "output_type": "display_data",
          "data": {
            "text/plain": [
              "<Figure size 800x600 with 2 Axes>"
            ],
            "image/png": "[encoded data removed]"
          },
          "metadata": {}
        }
      ],
      "source": [
        "\n",
        "#  Generate the confusion matrix\n",
        "cm = confusion_matrix(filtered_labels, filtered_predictions,normalize='true')\n",
        "\n",
        "# Plotting the confusion matrix\n",
        "plt.figure(figsize=(8, 6))\n",
        "ax= sns.heatmap(cm, annot=True, fmt=\".2f\", cmap=\"Blues\", xticklabels=class_names, yticklabels=class_names)\n",
        "# Ensure x-labels are vertical\n",
        "ax.set_xticklabels(ax.get_xticklabels(), rotation=45)\n",
        "\n",
        "# Ensure y-labels are horizontal\n",
        "ax.set_yticklabels(ax.get_yticklabels(), rotation=0)\n",
        "plt.xlabel('Predicted Labels')\n",
        "plt.ylabel('True Labels')\n",
        "plt.title('Confusion Matrix')\n",
        "plt.show()"
      ]
    },
    {
      "cell_type": "code",
      "execution_count": 100,
      "id": "a61cd63e",
      "metadata": {
        "id": "a61cd63e"
      },
      "outputs": [],
      "source": [
        "# Log the confusion matrix to the Weights & Biases (Wandb) platform for monitoring and visualization.\n",
        "# This allows for tracking the model's classification performance across different runs or iterations.\n",
        "\n",
        "# log the Confusion Matrix to Wandb\n",
        "wandb.log({\n",
        "    \"conf_mat\": wandb.plot.confusion_matrix(\n",
        "        preds=filtered_predictions,        # Model's predicted class labels.\n",
        "        y_true=filtered_labels,      # Actual labels from the validation set.\n",
        "        class_names=class_names   # Custom class names for display in the confusion matrix.\n",
        "    )\n",
        "})\n",
        "\n"
      ]
    },
    {
      "cell_type": "code",
      "execution_count": 101,
      "id": "573785ef",
      "metadata": {
        "id": "573785ef",
        "colab": {
          "base_uri": "https://localhost:8080/",
          "height": 604,
          "referenced_widgets": [
            "1612bf4602e443f9953f4e94f5a9ff68",
            "0ada65c320bd46bd912fab1bad960193",
            "094997931ad0425cbc194d30ef54ce0c",
            "5c1e4f06324d4bc2b32155e64acb252c",
            "f0837ae0cd294965924c8de8df58b7d2",
            "202aaeed2d9b48dcbee0425d43d66fbb",
            "d1873d32b4454822ba26bed037d02ae6",
            "380e041398554864b4b135acbb267765"
          ]
        },
        "outputId": "bd3b3750-bff7-4bd9-90b5-f69b9bcb205d"
      },
      "outputs": [
        {
          "output_type": "display_data",
          "data": {
            "text/plain": [
              "<IPython.core.display.HTML object>"
            ],
            "text/html": [
              "Waiting for W&B process to finish... <strong style=\"color:green\">(success).</strong>"
            ]
          },
          "metadata": {}
        },
        {
          "output_type": "display_data",
          "data": {
            "text/plain": [
              "VBox(children=(Label(value='0.004 MB of 0.006 MB uploaded (0.000 MB deduped)\\r'), FloatProgress(value=0.643735…"
            ],
            "application/vnd.jupyter.widget-view+json": {
              "version_major": 2,
              "version_minor": 0,
              "model_id": "1612bf4602e443f9953f4e94f5a9ff68"
            }
          },
          "metadata": {}
        },
        {
          "output_type": "display_data",
          "data": {
            "text/plain": [
              "<IPython.core.display.HTML object>"
            ],
            "text/html": [
              "<style>\n",
              "    table.wandb td:nth-child(1) { padding: 0 10px; text-align: left ; width: auto;} td:nth-child(2) {text-align: left ; width: 100%}\n",
              "    .wandb-row { display: flex; flex-direction: row; flex-wrap: wrap; justify-content: flex-start; width: 100% }\n",
              "    .wandb-col { display: flex; flex-direction: column; flex-basis: 100%; flex: 1; padding: 10px; }\n",
              "    </style>\n",
              "<div class=\"wandb-row\"><div class=\"wandb-col\"><h3>Run history:</h3><br/><table class=\"wandb\"><tr><td>eval/accuracy</td><td>▁▁▄▆▆▆▇▇▇███████████████████████</td></tr><tr><td>eval/f1</td><td>▁▁▅▅▆▆▇▇▇▇██████████████████████</td></tr><tr><td>eval/loss</td><td>█▅▄▃▃▂▂▂▂▁▁▁▁▁▁▁▁▁▁▁▁▁▁▁▁▁▁▁▁▁▁▁</td></tr><tr><td>eval/precision</td><td>▁▁▅▅▆▆▇▇▇▇█▇▇███████████████████</td></tr><tr><td>eval/recall</td><td>▁▁▅▆▆▆▇▇▇███████████████████████</td></tr><tr><td>eval/runtime</td><td>▄▁▁▂▃▂▃▃▃▁▄▁▁▅▃▂▁█▃▃▂▂▆▄▁▇▃▂▅▃▃▁</td></tr><tr><td>eval/samples_per_second</td><td>▃██▆▅▇▅▅▅█▄██▃▅▅▇▁▅▅▆▆▂▄▇▁▅▇▃▅▅▇</td></tr><tr><td>eval/steps_per_second</td><td>▃██▆▅▇▅▅▅█▄██▃▅▅▇▁▅▅▆▆▂▄▇▁▅▇▃▅▅▇</td></tr><tr><td>train/epoch</td><td>▁▁▁▁▂▂▂▂▂▃▃▃▃▃▄▄▄▄▄▄▅▅▅▅▅▆▆▆▆▆▇▇▇▇▇▇████</td></tr><tr><td>train/global_step</td><td>▁▁▁▁▂▂▂▂▂▃▃▃▃▃▄▄▄▄▄▄▅▅▅▅▅▆▆▆▆▆▇▇▇▇▇▇████</td></tr><tr><td>train/learning_rate</td><td>███▇▇▇▇▆▆▆▆▅▅▅▅▄▄▄▄▄▃▃▃▃▂▂▂▂▁▁▁</td></tr><tr><td>train/loss</td><td>█▅▄▃▂▂▂▂▂▂▂▁▁▁▁▁▁▁▁▁▁▁▁▁▁▁▁▁▁▁▁</td></tr><tr><td>train/total_flos</td><td>▁</td></tr><tr><td>train/train_loss</td><td>▁</td></tr><tr><td>train/train_runtime</td><td>▁</td></tr><tr><td>train/train_samples_per_second</td><td>▁</td></tr><tr><td>train/train_steps_per_second</td><td>▁</td></tr></table><br/></div><div class=\"wandb-col\"><h3>Run summary:</h3><br/><table class=\"wandb\"><tr><td>eval/accuracy</td><td>0.97763</td></tr><tr><td>eval/f1</td><td>0.86926</td></tr><tr><td>eval/loss</td><td>0.08009</td></tr><tr><td>eval/precision</td><td>0.85338</td></tr><tr><td>eval/recall</td><td>0.88573</td></tr><tr><td>eval/runtime</td><td>2.0697</td></tr><tr><td>eval/samples_per_second</td><td>483.171</td></tr><tr><td>eval/steps_per_second</td><td>30.44</td></tr><tr><td>train/epoch</td><td>2.0</td></tr><tr><td>train/global_step</td><td>626</td></tr><tr><td>train/learning_rate</td><td>0.0</td></tr><tr><td>train/loss</td><td>0.0751</td></tr><tr><td>train/total_flos</td><td>121120544570256.0</td></tr><tr><td>train/train_loss</td><td>0.20529</td></tr><tr><td>train/train_runtime</td><td>311.3401</td></tr><tr><td>train/train_samples_per_second</td><td>32.119</td></tr><tr><td>train/train_steps_per_second</td><td>2.011</td></tr></table><br/></div></div>"
            ]
          },
          "metadata": {}
        },
        {
          "output_type": "display_data",
          "data": {
            "text/plain": [
              "<IPython.core.display.HTML object>"
            ],
            "text/html": [
              " View run <strong style=\"color:#cdcd00\">ner_exp1</strong> at: <a href='https://wandb.ai/shremuk/nlp_course_fall_2023-ner/runs/xr3cqu7c' target=\"_blank\">https://wandb.ai/shremuk/nlp_course_fall_2023-ner/runs/xr3cqu7c</a><br/>Synced 5 W&B file(s), 1 media file(s), 1 artifact file(s) and 0 other file(s)"
            ]
          },
          "metadata": {}
        },
        {
          "output_type": "display_data",
          "data": {
            "text/plain": [
              "<IPython.core.display.HTML object>"
            ],
            "text/html": [
              "Find logs at: <code>./wandb/run-20231029_213440-xr3cqu7c/logs</code>"
            ]
          },
          "metadata": {}
        }
      ],
      "source": [
        "wandb.finish()\n"
      ]
    },
    {
      "cell_type": "markdown",
      "id": "ef42e718",
      "metadata": {
        "id": "ef42e718"
      },
      "source": [
        "### <font color = 'indianred'> **Check the best saved model**</font>\n"
      ]
    },
    {
      "cell_type": "code",
      "execution_count": 102,
      "id": "42a722fd",
      "metadata": {
        "id": "42a722fd",
        "colab": {
          "base_uri": "https://localhost:8080/"
        },
        "outputId": "18c756db-719a-4416-b262-a6c376df3b58"
      },
      "outputs": [
        {
          "output_type": "stream",
          "name": "stdout",
          "text": [
            "The best model was saved at step 600.\n"
          ]
        }
      ],
      "source": [
        "# After training, let us check the best checkpoint\n",
        "# We need this for Predictions and Evaluations\n",
        "best_model_checkpoint_step = trainer.state.best_model_checkpoint.split('-')[-1]\n",
        "print(f\"The best model was saved at step {best_model_checkpoint_step}.\")\n"
      ]
    },
    {
      "cell_type": "markdown",
      "id": "d013dd3d-bcee-45d8-a371-80daebd910de",
      "metadata": {
        "id": "d013dd3d-bcee-45d8-a371-80daebd910de"
      },
      "source": [
        "#  <font color = 'indianred'> **Inference**"
      ]
    },
    {
      "cell_type": "markdown",
      "id": "6d83e325",
      "metadata": {
        "id": "6d83e325"
      },
      "source": [
        "##  <font color = 'indianred'> **Pipeline for Predictions**"
      ]
    },
    {
      "cell_type": "code",
      "execution_count": 103,
      "id": "9100777b",
      "metadata": {
        "id": "9100777b",
        "colab": {
          "base_uri": "https://localhost:8080/"
        },
        "outputId": "7f48d421-34b1-4dff-c90e-574042fc86d8"
      },
      "outputs": [
        {
          "output_type": "execute_result",
          "data": {
            "text/plain": [
              "DatasetDict({\n",
              "    test: Dataset({\n",
              "        features: ['id', 'tokens', 'pos_tags', 'chunk_tags', 'ner_tags'],\n",
              "        num_rows: 1000\n",
              "    })\n",
              "})"
            ]
          },
          "metadata": {},
          "execution_count": 103
        }
      ],
      "source": [
        "test_subset\n"
      ]
    },
    {
      "cell_type": "markdown",
      "id": "d78ff0e6",
      "metadata": {
        "id": "d78ff0e6"
      },
      "source": [
        "## <font color = 'indianred'> **Create pipelne for inference**"
      ]
    },
    {
      "cell_type": "code",
      "execution_count": 104,
      "id": "bc8f787e",
      "metadata": {
        "id": "bc8f787e"
      },
      "outputs": [],
      "source": [
        "checkpoint = str(model_folder / \"checkpoint-620\")\n",
        "checkpoint\n",
        "# Create a text classification pipeline using the Hugging Face's pipeline method.\n",
        "# The pipeline is initialized with:\n",
        "# - The task set to \"text-classification\".\n",
        "# - Model and tokenizer both loaded from the specified checkpoint path.\n",
        "# - Execution set to the primary device (typically the first GPU).\n",
        "\n",
        "custom_pipeline = pipeline(\n",
        "    task=\"token-classification\",\n",
        "    model=checkpoint,\n",
        "    tokenizer=checkpoint,\n",
        "    device='cpu',\n",
        "    aggregation_strategy=\"simple\",\n",
        "    framework=\"pt\")\n"
      ]
    },
    {
      "cell_type": "markdown",
      "id": "a44ab407",
      "metadata": {
        "id": "a44ab407"
      },
      "source": [
        "##  <font color = 'indianred'> **Prediction for individual or small list of examples**"
      ]
    },
    {
      "cell_type": "code",
      "execution_count": 105,
      "id": "c7524157-e14f-44aa-8cb9-f9c69a9b9876",
      "metadata": {
        "execution": {
          "iopub.execute_input": "2022-12-23T23:52:22.714867Z",
          "iopub.status.busy": "2022-12-23T23:52:22.714578Z",
          "iopub.status.idle": "2022-12-23T23:52:22.741666Z",
          "shell.execute_reply": "2022-12-23T23:52:22.741326Z",
          "shell.execute_reply.started": "2022-12-23T23:52:22.714851Z"
        },
        "id": "c7524157-e14f-44aa-8cb9-f9c69a9b9876",
        "tags": [],
        "colab": {
          "base_uri": "https://localhost:8080/"
        },
        "outputId": "1630f724-4434-463f-c929-51e4fce06701"
      },
      "outputs": [
        {
          "output_type": "stream",
          "name": "stdout",
          "text": [
            "Brian Shimer piloted USA III to a surprise victory in a World Cup two-man bobsleigh race on Saturday .\n"
          ]
        }
      ],
      "source": [
        "idx=100\n",
        "sample = \" \".join(test_subset['test']['tokens'][idx])\n",
        "print(sample)"
      ]
    },
    {
      "cell_type": "code",
      "execution_count": 106,
      "id": "b5d55ff7",
      "metadata": {
        "id": "b5d55ff7",
        "colab": {
          "base_uri": "https://localhost:8080/",
          "height": 143
        },
        "outputId": "1794c344-a11c-4a93-a3f5-c03dc5277955"
      },
      "outputs": [
        {
          "output_type": "display_data",
          "data": {
            "text/plain": [
              "  entity_group     score          word  start  end\n",
              "0          PER  0.992409  brian shimer      0   12\n",
              "1          ORG  0.613512       usa iii     21   28\n",
              "2         MISC  0.888675     world cup     56   65"
            ],
            "text/html": [
              "\n",
              "  <div id=\"df-2f4d7568-a58f-4da5-8d1f-47f7276cdde0\" class=\"colab-df-container\">\n",
              "    <div>\n",
              "<style scoped>\n",
              "    .dataframe tbody tr th:only-of-type {\n",
              "        vertical-align: middle;\n",
              "    }\n",
              "\n",
              "    .dataframe tbody tr th {\n",
              "        vertical-align: top;\n",
              "    }\n",
              "\n",
              "    .dataframe thead th {\n",
              "        text-align: right;\n",
              "    }\n",
              "</style>\n",
              "<table border=\"1\" class=\"dataframe\">\n",
              "  <thead>\n",
              "    <tr style=\"text-align: right;\">\n",
              "      <th></th>\n",
              "      <th>entity_group</th>\n",
              "      <th>score</th>\n",
              "      <th>word</th>\n",
              "      <th>start</th>\n",
              "      <th>end</th>\n",
              "    </tr>\n",
              "  </thead>\n",
              "  <tbody>\n",
              "    <tr>\n",
              "      <th>0</th>\n",
              "      <td>PER</td>\n",
              "      <td>0.992409</td>\n",
              "      <td>brian shimer</td>\n",
              "      <td>0</td>\n",
              "      <td>12</td>\n",
              "    </tr>\n",
              "    <tr>\n",
              "      <th>1</th>\n",
              "      <td>ORG</td>\n",
              "      <td>0.613512</td>\n",
              "      <td>usa iii</td>\n",
              "      <td>21</td>\n",
              "      <td>28</td>\n",
              "    </tr>\n",
              "    <tr>\n",
              "      <th>2</th>\n",
              "      <td>MISC</td>\n",
              "      <td>0.888675</td>\n",
              "      <td>world cup</td>\n",
              "      <td>56</td>\n",
              "      <td>65</td>\n",
              "    </tr>\n",
              "  </tbody>\n",
              "</table>\n",
              "</div>\n",
              "    <div class=\"colab-df-buttons\">\n",
              "\n",
              "  <div class=\"colab-df-container\">\n",
              "    <button class=\"colab-df-convert\" onclick=\"convertToInteractive('df-2f4d7568-a58f-4da5-8d1f-47f7276cdde0')\"\n",
              "            title=\"Convert this dataframe to an interactive table.\"\n",
              "            style=\"display:none;\">\n",
              "\n",
              "  <svg xmlns=\"http://www.w3.org/2000/svg\" height=\"24px\" viewBox=\"0 -960 960 960\">\n",
              "    <path d=\"M120-120v-720h720v720H120Zm60-500h600v-160H180v160Zm220 220h160v-160H400v160Zm0 220h160v-160H400v160ZM180-400h160v-160H180v160Zm440 0h160v-160H620v160ZM180-180h160v-160H180v160Zm440 0h160v-160H620v160Z\"/>\n",
              "  </svg>\n",
              "    </button>\n",
              "\n",
              "  <style>\n",
              "    .colab-df-container {\n",
              "      display:flex;\n",
              "      gap: 12px;\n",
              "    }\n",
              "\n",
              "    .colab-df-convert {\n",
              "      background-color: #E8F0FE;\n",
              "      border: none;\n",
              "      border-radius: 50%;\n",
              "      cursor: pointer;\n",
              "      display: none;\n",
              "      fill: #1967D2;\n",
              "      height: 32px;\n",
              "      padding: 0 0 0 0;\n",
              "      width: 32px;\n",
              "    }\n",
              "\n",
              "    .colab-df-convert:hover {\n",
              "      background-color: #E2EBFA;\n",
              "      box-shadow: 0px 1px 2px rgba(60, 64, 67, 0.3), 0px 1px 3px 1px rgba(60, 64, 67, 0.15);\n",
              "      fill: #174EA6;\n",
              "    }\n",
              "\n",
              "    .colab-df-buttons div {\n",
              "      margin-bottom: 4px;\n",
              "    }\n",
              "\n",
              "    [theme=dark] .colab-df-convert {\n",
              "      background-color: #3B4455;\n",
              "      fill: #D2E3FC;\n",
              "    }\n",
              "\n",
              "    [theme=dark] .colab-df-convert:hover {\n",
              "      background-color: #434B5C;\n",
              "      box-shadow: 0px 1px 3px 1px rgba(0, 0, 0, 0.15);\n",
              "      filter: drop-shadow(0px 1px 2px rgba(0, 0, 0, 0.3));\n",
              "      fill: #FFFFFF;\n",
              "    }\n",
              "  </style>\n",
              "\n",
              "    <script>\n",
              "      const buttonEl =\n",
              "        document.querySelector('#df-2f4d7568-a58f-4da5-8d1f-47f7276cdde0 button.colab-df-convert');\n",
              "      buttonEl.style.display =\n",
              "        google.colab.kernel.accessAllowed ? 'block' : 'none';\n",
              "\n",
              "      async function convertToInteractive(key) {\n",
              "        const element = document.querySelector('#df-2f4d7568-a58f-4da5-8d1f-47f7276cdde0');\n",
              "        const dataTable =\n",
              "          await google.colab.kernel.invokeFunction('convertToInteractive',\n",
              "                                                    [key], {});\n",
              "        if (!dataTable) return;\n",
              "\n",
              "        const docLinkHtml = 'Like what you see? Visit the ' +\n",
              "          '<a target=\"_blank\" href=https://colab.research.google.com/notebooks/data_table.ipynb>data table notebook</a>'\n",
              "          + ' to learn more about interactive tables.';\n",
              "        element.innerHTML = '';\n",
              "        dataTable['output_type'] = 'display_data';\n",
              "        await google.colab.output.renderOutput(dataTable, element);\n",
              "        const docLink = document.createElement('div');\n",
              "        docLink.innerHTML = docLinkHtml;\n",
              "        element.appendChild(docLink);\n",
              "      }\n",
              "    </script>\n",
              "  </div>\n",
              "\n",
              "\n",
              "<div id=\"df-9ec05447-0079-4891-9b7e-e0a27bc6d452\">\n",
              "  <button class=\"colab-df-quickchart\" onclick=\"quickchart('df-9ec05447-0079-4891-9b7e-e0a27bc6d452')\"\n",
              "            title=\"Suggest charts.\"\n",
              "            style=\"display:none;\">\n",
              "\n",
              "<svg xmlns=\"http://www.w3.org/2000/svg\" height=\"24px\"viewBox=\"0 0 24 24\"\n",
              "     width=\"24px\">\n",
              "    <g>\n",
              "        <path d=\"M19 3H5c-1.1 0-2 .9-2 2v14c0 1.1.9 2 2 2h14c1.1 0 2-.9 2-2V5c0-1.1-.9-2-2-2zM9 17H7v-7h2v7zm4 0h-2V7h2v10zm4 0h-2v-4h2v4z\"/>\n",
              "    </g>\n",
              "</svg>\n",
              "  </button>\n",
              "\n",
              "<style>\n",
              "  .colab-df-quickchart {\n",
              "      --bg-color: #E8F0FE;\n",
              "      --fill-color: #1967D2;\n",
              "      --hover-bg-color: #E2EBFA;\n",
              "      --hover-fill-color: #174EA6;\n",
              "      --disabled-fill-color: #AAA;\n",
              "      --disabled-bg-color: #DDD;\n",
              "  }\n",
              "\n",
              "  [theme=dark] .colab-df-quickchart {\n",
              "      --bg-color: #3B4455;\n",
              "      --fill-color: #D2E3FC;\n",
              "      --hover-bg-color: #434B5C;\n",
              "      --hover-fill-color: #FFFFFF;\n",
              "      --disabled-bg-color: #3B4455;\n",
              "      --disabled-fill-color: #666;\n",
              "  }\n",
              "\n",
              "  .colab-df-quickchart {\n",
              "    background-color: var(--bg-color);\n",
              "    border: none;\n",
              "    border-radius: 50%;\n",
              "    cursor: pointer;\n",
              "    display: none;\n",
              "    fill: var(--fill-color);\n",
              "    height: 32px;\n",
              "    padding: 0;\n",
              "    width: 32px;\n",
              "  }\n",
              "\n",
              "  .colab-df-quickchart:hover {\n",
              "    background-color: var(--hover-bg-color);\n",
              "    box-shadow: 0 1px 2px rgba(60, 64, 67, 0.3), 0 1px 3px 1px rgba(60, 64, 67, 0.15);\n",
              "    fill: var(--button-hover-fill-color);\n",
              "  }\n",
              "\n",
              "  .colab-df-quickchart-complete:disabled,\n",
              "  .colab-df-quickchart-complete:disabled:hover {\n",
              "    background-color: var(--disabled-bg-color);\n",
              "    fill: var(--disabled-fill-color);\n",
              "    box-shadow: none;\n",
              "  }\n",
              "\n",
              "  .colab-df-spinner {\n",
              "    border: 2px solid var(--fill-color);\n",
              "    border-color: transparent;\n",
              "    border-bottom-color: var(--fill-color);\n",
              "    animation:\n",
              "      spin 1s steps(1) infinite;\n",
              "  }\n",
              "\n",
              "  @keyframes spin {\n",
              "    0% {\n",
              "      border-color: transparent;\n",
              "      border-bottom-color: var(--fill-color);\n",
              "      border-left-color: var(--fill-color);\n",
              "    }\n",
              "    20% {\n",
              "      border-color: transparent;\n",
              "      border-left-color: var(--fill-color);\n",
              "      border-top-color: var(--fill-color);\n",
              "    }\n",
              "    30% {\n",
              "      border-color: transparent;\n",
              "      border-left-color: var(--fill-color);\n",
              "      border-top-color: var(--fill-color);\n",
              "      border-right-color: var(--fill-color);\n",
              "    }\n",
              "    40% {\n",
              "      border-color: transparent;\n",
              "      border-right-color: var(--fill-color);\n",
              "      border-top-color: var(--fill-color);\n",
              "    }\n",
              "    60% {\n",
              "      border-color: transparent;\n",
              "      border-right-color: var(--fill-color);\n",
              "    }\n",
              "    80% {\n",
              "      border-color: transparent;\n",
              "      border-right-color: var(--fill-color);\n",
              "      border-bottom-color: var(--fill-color);\n",
              "    }\n",
              "    90% {\n",
              "      border-color: transparent;\n",
              "      border-bottom-color: var(--fill-color);\n",
              "    }\n",
              "  }\n",
              "</style>\n",
              "\n",
              "  <script>\n",
              "    async function quickchart(key) {\n",
              "      const quickchartButtonEl =\n",
              "        document.querySelector('#' + key + ' button');\n",
              "      quickchartButtonEl.disabled = true;  // To prevent multiple clicks.\n",
              "      quickchartButtonEl.classList.add('colab-df-spinner');\n",
              "      try {\n",
              "        const charts = await google.colab.kernel.invokeFunction(\n",
              "            'suggestCharts', [key], {});\n",
              "      } catch (error) {\n",
              "        console.error('Error during call to suggestCharts:', error);\n",
              "      }\n",
              "      quickchartButtonEl.classList.remove('colab-df-spinner');\n",
              "      quickchartButtonEl.classList.add('colab-df-quickchart-complete');\n",
              "    }\n",
              "    (() => {\n",
              "      let quickchartButtonEl =\n",
              "        document.querySelector('#df-9ec05447-0079-4891-9b7e-e0a27bc6d452 button');\n",
              "      quickchartButtonEl.style.display =\n",
              "        google.colab.kernel.accessAllowed ? 'block' : 'none';\n",
              "    })();\n",
              "  </script>\n",
              "</div>\n",
              "    </div>\n",
              "  </div>\n"
            ]
          },
          "metadata": {}
        }
      ],
      "source": [
        "preds = custom_pipeline(sample)\n",
        "display(pd.DataFrame(preds))\n"
      ]
    },
    {
      "cell_type": "markdown",
      "id": "a88a2ec4",
      "metadata": {
        "id": "a88a2ec4"
      },
      "source": [
        "## <font color = 'indianred'> **Prediction for large dataset**"
      ]
    },
    {
      "cell_type": "code",
      "execution_count": 107,
      "id": "2a229397",
      "metadata": {
        "id": "2a229397",
        "colab": {
          "base_uri": "https://localhost:8080/",
          "height": 49,
          "referenced_widgets": [
            "185833caa7b44e138e19e9082dba2170",
            "daa388c219cc4e089f44382eba184eb6",
            "34c38a2e29e442ca9d75bdc7a67edcf5",
            "3e6eb3b5ff9d434c82f9f96608a412af",
            "d3ce878b413c49a2963ace59402bbf89",
            "6732c5f0e5764ecd86f7e4fcd43c5e44",
            "544cde2a37aa4cd78685c3a9cca60261",
            "dab251b2019b48418c3d61123ab993a4",
            "53c25cf0829a49588c74e5430c5baf46",
            "10e21b89fcf948d48f4756725d7a1bed",
            "c892f9d557c9443a97a08eb9b23a9711"
          ]
        },
        "outputId": "a41c66f3-8156-40cc-a1cc-1f0e5732737c"
      },
      "outputs": [
        {
          "output_type": "display_data",
          "data": {
            "text/plain": [
              "Map:   0%|          | 0/1000 [00:00<?, ? examples/s]"
            ],
            "application/vnd.jupyter.widget-view+json": {
              "version_major": 2,
              "version_minor": 0,
              "model_id": "185833caa7b44e138e19e9082dba2170"
            }
          },
          "metadata": {}
        }
      ],
      "source": [
        "def preprocess_for_pipeline(example):\n",
        "    return {\"processed_text\": \" \".join(example['tokens'])}\n",
        "\n",
        "test_subset['test'] = test_subset['test'].map(preprocess_for_pipeline)\n"
      ]
    },
    {
      "cell_type": "code",
      "execution_count": 108,
      "id": "7b1a00a1",
      "metadata": {
        "id": "7b1a00a1",
        "colab": {
          "base_uri": "https://localhost:8080/"
        },
        "outputId": "82fee4d8-8999-4337-fe9c-ce13781e0cc6"
      },
      "outputs": [
        {
          "output_type": "execute_result",
          "data": {
            "text/plain": [
              "DatasetDict({\n",
              "    test: Dataset({\n",
              "        features: ['id', 'tokens', 'pos_tags', 'chunk_tags', 'ner_tags', 'processed_text'],\n",
              "        num_rows: 1000\n",
              "    })\n",
              "})"
            ]
          },
          "metadata": {},
          "execution_count": 108
        }
      ],
      "source": [
        "test_subset"
      ]
    },
    {
      "cell_type": "code",
      "execution_count": 109,
      "id": "94f519e3",
      "metadata": {
        "id": "94f519e3"
      },
      "outputs": [],
      "source": [
        "custom_pipeline = pipeline(\n",
        "    task=\"token-classification\",\n",
        "    model=checkpoint,\n",
        "    tokenizer=checkpoint,\n",
        "    device=0,\n",
        "    aggregation_strategy=\"simple\",\n",
        "    framework=\"pt\")\n",
        "\n",
        "predictions = custom_pipeline(test_subset['test']['processed_text'], batch_size=16)"
      ]
    },
    {
      "cell_type": "code",
      "execution_count": 118,
      "id": "26997a19",
      "metadata": {
        "id": "26997a19",
        "colab": {
          "base_uri": "https://localhost:8080/"
        },
        "outputId": "af28563b-534d-42ed-ed51-cdf85865a494"
      },
      "outputs": [
        {
          "output_type": "execute_result",
          "data": {
            "text/plain": [
              "[{'entity_group': 'ORG',\n",
              "  'score': 0.97855157,\n",
              "  'word': 'hartford',\n",
              "  'start': 0,\n",
              "  'end': 8},\n",
              " {'entity_group': 'ORG',\n",
              "  'score': 0.97584313,\n",
              "  'word': 'boston',\n",
              "  'start': 11,\n",
              "  'end': 17}]"
            ]
          },
          "metadata": {},
          "execution_count": 118
        }
      ],
      "source": [
        "predictions[0]"
      ]
    },
    {
      "cell_type": "markdown",
      "id": "e9bd4835",
      "metadata": {
        "id": "e9bd4835"
      },
      "source": [
        "##  <font color = 'indianred'> **Test Set Evaluations**"
      ]
    },
    {
      "cell_type": "code",
      "execution_count": 111,
      "id": "ed644d1c",
      "metadata": {
        "id": "ed644d1c",
        "colab": {
          "base_uri": "https://localhost:8080/"
        },
        "outputId": "ff2fb70e-a876-4bcf-d323-8c68178ebddb"
      },
      "outputs": [
        {
          "output_type": "execute_result",
          "data": {
            "text/plain": [
              "DatasetDict({\n",
              "    test: Dataset({\n",
              "        features: ['id', 'tokens', 'pos_tags', 'chunk_tags', 'ner_tags', 'processed_text'],\n",
              "        num_rows: 1000\n",
              "    })\n",
              "})"
            ]
          },
          "metadata": {},
          "execution_count": 111
        }
      ],
      "source": [
        "test_subset"
      ]
    },
    {
      "cell_type": "code",
      "execution_count": 112,
      "id": "e5904d33",
      "metadata": {
        "id": "e5904d33",
        "colab": {
          "base_uri": "https://localhost:8080/",
          "height": 49,
          "referenced_widgets": [
            "db1d99dfaf98469a8718f8014506daa9",
            "b2a248e5dbc4471e92563383134bddb1",
            "3e2541dd3c7f4177bd500b8bc2a14ed6",
            "a85d876f975e4936942a9037791ff2fe",
            "6cd21f8149c24df396ae127ea1caba77",
            "04c16a5f114241e6a392a29fc3ae8cdc",
            "41d4863695f8402d8a6612707a5ad524",
            "b1fea61486ac492fa3eca8e9cb035b66",
            "108599b61b9844f290d83d6f7de8ca9b",
            "f0d22e1348f2420085624ea43bb347dd",
            "9aad7d47c8524b068d48006d5ab6e9a0"
          ]
        },
        "outputId": "a65c5f58-4de8-4974-d06e-a99a26603486"
      },
      "outputs": [
        {
          "output_type": "display_data",
          "data": {
            "text/plain": [
              "Map:   0%|          | 0/1000 [00:00<?, ? examples/s]"
            ],
            "application/vnd.jupyter.widget-view+json": {
              "version_major": 2,
              "version_minor": 0,
              "model_id": "db1d99dfaf98469a8718f8014506daa9"
            }
          },
          "metadata": {}
        }
      ],
      "source": [
        "test_subset_tokenized = test_subset.map(tokenize_fn, batched=True)"
      ]
    },
    {
      "cell_type": "code",
      "execution_count": 113,
      "id": "0b88c6d9",
      "metadata": {
        "id": "0b88c6d9",
        "colab": {
          "base_uri": "https://localhost:8080/"
        },
        "outputId": "4ee63f4d-1391-40ed-90a8-127d56e43aad"
      },
      "outputs": [
        {
          "output_type": "execute_result",
          "data": {
            "text/plain": [
              "DatasetDict({\n",
              "    test: Dataset({\n",
              "        features: ['id', 'tokens', 'pos_tags', 'chunk_tags', 'ner_tags', 'processed_text', 'input_ids', 'attention_mask', 'labels'],\n",
              "        num_rows: 1000\n",
              "    })\n",
              "})"
            ]
          },
          "metadata": {},
          "execution_count": 113
        }
      ],
      "source": [
        "test_subset_tokenized"
      ]
    },
    {
      "cell_type": "code",
      "execution_count": 114,
      "id": "b45b514f",
      "metadata": {
        "id": "b45b514f"
      },
      "outputs": [],
      "source": [
        "test_subset_tokenized = test_subset_tokenized.remove_columns(['tokens', 'ner_tags', 'pos_tags','chunk_tags', 'id', 'processed_text'])"
      ]
    },
    {
      "cell_type": "code",
      "execution_count": 115,
      "id": "2f97e2e3",
      "metadata": {
        "id": "2f97e2e3",
        "colab": {
          "base_uri": "https://localhost:8080/"
        },
        "outputId": "98e53c98-74af-442a-cce1-a1488d0a47cb"
      },
      "outputs": [
        {
          "output_type": "execute_result",
          "data": {
            "text/plain": [
              "DatasetDict({\n",
              "    test: Dataset({\n",
              "        features: ['input_ids', 'attention_mask', 'labels'],\n",
              "        num_rows: 1000\n",
              "    })\n",
              "})"
            ]
          },
          "metadata": {},
          "execution_count": 115
        }
      ],
      "source": [
        "test_subset_tokenized"
      ]
    },
    {
      "cell_type": "code",
      "execution_count": 116,
      "id": "bd581447",
      "metadata": {
        "id": "bd581447",
        "colab": {
          "base_uri": "https://localhost:8080/",
          "height": 37
        },
        "outputId": "4a6afc8f-b6e1-4d46-bd2b-f8f0fed00488"
      },
      "outputs": [
        {
          "output_type": "display_data",
          "data": {
            "text/plain": [
              "<IPython.core.display.HTML object>"
            ],
            "text/html": [
              "\n",
              "    <div>\n",
              "      \n",
              "      <progress value='63' max='63' style='width:300px; height:20px; vertical-align: middle;'></progress>\n",
              "      [63/63 00:01]\n",
              "    </div>\n",
              "    "
            ]
          },
          "metadata": {}
        }
      ],
      "source": [
        "from transformers import AutoModelForTokenClassification, AutoTokenizer\n",
        "\n",
        "tokenizer = AutoTokenizer.from_pretrained(checkpoint)\n",
        "model = AutoModelForTokenClassification.from_pretrained(checkpoint)\n",
        "\n",
        "from transformers import TrainingArguments\n",
        "\n",
        "training_args = TrainingArguments(\n",
        "    output_dir=\"./results\",\n",
        "    per_device_eval_batch_size=16,  # adjust based on your GPU memory\n",
        "    do_train = False,\n",
        "    do_eval=True,\n",
        "    report_to=[]  # disable logging\n",
        ")\n",
        "\n",
        "trainer = Trainer(\n",
        "    model=model,\n",
        "    args=training_args,\n",
        "    eval_dataset=test_subset_tokenized['test'],  # Make sure this dataset is tokenized!\n",
        "    tokenizer=tokenizer,\n",
        "    data_collator=data_collator,\n",
        "    compute_metrics=compute_metrics,\n",
        ")\n",
        "\n",
        "results = trainer.evaluate()"
      ]
    },
    {
      "cell_type": "code",
      "execution_count": 117,
      "id": "e9caa5b7",
      "metadata": {
        "id": "e9caa5b7",
        "colab": {
          "base_uri": "https://localhost:8080/"
        },
        "outputId": "d9163c21-f352-4ec7-f50e-6f35d844e36b"
      },
      "outputs": [
        {
          "output_type": "execute_result",
          "data": {
            "text/plain": [
              "{'eval_loss': 0.12376175075769424,\n",
              " 'eval_precision': 0.8033256880733946,\n",
              " 'eval_recall': 0.8563569682151589,\n",
              " 'eval_f1': 0.8289940828402368,\n",
              " 'eval_accuracy': 0.9653245192307692,\n",
              " 'eval_runtime': 2.2802,\n",
              " 'eval_samples_per_second': 438.557,\n",
              " 'eval_steps_per_second': 27.629}"
            ]
          },
          "metadata": {},
          "execution_count": 117
        }
      ],
      "source": [
        "results"
      ]
    }
  ],
  "metadata": {
    "accelerator": "GPU",
    "colab": {
      "gpuType": "T4",
      "provenance": []
    },
    "kernelspec": {
      "display_name": "Python 3",
      "name": "python3"
    },
    "language_info": {
      "codemirror_mode": {
        "name": "ipython",
        "version": 3
      },
      "file_extension": ".py",
      "mimetype": "text/x-python",
      "name": "python",
      "nbconvert_exporter": "python",
      "pygments_lexer": "ipython3",
      "version": "3.9.13"
    },
    "widgets": {
      "application/vnd.jupyter.widget-state+json": {
        "7935ee61812a435cb7dd37c90beaccaa": {
          "model_module": "@jupyter-widgets/controls",
          "model_name": "HBoxModel",
          "model_module_version": "1.5.0",
          "state": {
            "_dom_classes": [],
            "_model_module": "@jupyter-widgets/controls",
            "_model_module_version": "1.5.0",
            "_model_name": "HBoxModel",
            "_view_count": null,
            "_view_module": "@jupyter-widgets/controls",
            "_view_module_version": "1.5.0",
            "_view_name": "HBoxView",
            "box_style": "",
            "children": [
              "IPY_MODEL_98b25bbe2ada444981d321a4545ba12a",
              "IPY_MODEL_db2b4a2e648a4c9493cc37d00d22b4a2",
              "IPY_MODEL_206ae378eaf34132b62d9e5d4158d300"
            ],
            "layout": "IPY_MODEL_eb886b18f9c0494cbea8fce038c9b18d"
          }
        },
        "98b25bbe2ada444981d321a4545ba12a": {
          "model_module": "@jupyter-widgets/controls",
          "model_name": "HTMLModel",
          "model_module_version": "1.5.0",
          "state": {
            "_dom_classes": [],
            "_model_module": "@jupyter-widgets/controls",
            "_model_module_version": "1.5.0",
            "_model_name": "HTMLModel",
            "_view_count": null,
            "_view_module": "@jupyter-widgets/controls",
            "_view_module_version": "1.5.0",
            "_view_name": "HTMLView",
            "description": "",
            "description_tooltip": null,
            "layout": "IPY_MODEL_3c2a15678ce046779fdba619d794924c",
            "placeholder": "​",
            "style": "IPY_MODEL_40691e261ecc4cfdbcc4396e879459bf",
            "value": "Downloading builder script: 100%"
          }
        },
        "db2b4a2e648a4c9493cc37d00d22b4a2": {
          "model_module": "@jupyter-widgets/controls",
          "model_name": "FloatProgressModel",
          "model_module_version": "1.5.0",
          "state": {
            "_dom_classes": [],
            "_model_module": "@jupyter-widgets/controls",
            "_model_module_version": "1.5.0",
            "_model_name": "FloatProgressModel",
            "_view_count": null,
            "_view_module": "@jupyter-widgets/controls",
            "_view_module_version": "1.5.0",
            "_view_name": "ProgressView",
            "bar_style": "success",
            "description": "",
            "description_tooltip": null,
            "layout": "IPY_MODEL_0952303cde5d48fa83ba34f66a35054b",
            "max": 9570,
            "min": 0,
            "orientation": "horizontal",
            "style": "IPY_MODEL_0e64ad83d21348f2b3bfe210c4569ca3",
            "value": 9570
          }
        },
        "206ae378eaf34132b62d9e5d4158d300": {
          "model_module": "@jupyter-widgets/controls",
          "model_name": "HTMLModel",
          "model_module_version": "1.5.0",
          "state": {
            "_dom_classes": [],
            "_model_module": "@jupyter-widgets/controls",
            "_model_module_version": "1.5.0",
            "_model_name": "HTMLModel",
            "_view_count": null,
            "_view_module": "@jupyter-widgets/controls",
            "_view_module_version": "1.5.0",
            "_view_name": "HTMLView",
            "description": "",
            "description_tooltip": null,
            "layout": "IPY_MODEL_d10487dd49d344fa94c66819edfcceed",
            "placeholder": "​",
            "style": "IPY_MODEL_11d881748ddf4d44bb8116fe1a86d891",
            "value": " 9.57k/9.57k [00:00&lt;00:00, 563kB/s]"
          }
        },
        "eb886b18f9c0494cbea8fce038c9b18d": {
          "model_module": "@jupyter-widgets/base",
          "model_name": "LayoutModel",
          "model_module_version": "1.2.0",
          "state": {
            "_model_module": "@jupyter-widgets/base",
            "_model_module_version": "1.2.0",
            "_model_name": "LayoutModel",
            "_view_count": null,
            "_view_module": "@jupyter-widgets/base",
            "_view_module_version": "1.2.0",
            "_view_name": "LayoutView",
            "align_content": null,
            "align_items": null,
            "align_self": null,
            "border": null,
            "bottom": null,
            "display": null,
            "flex": null,
            "flex_flow": null,
            "grid_area": null,
            "grid_auto_columns": null,
            "grid_auto_flow": null,
            "grid_auto_rows": null,
            "grid_column": null,
            "grid_gap": null,
            "grid_row": null,
            "grid_template_areas": null,
            "grid_template_columns": null,
            "grid_template_rows": null,
            "height": null,
            "justify_content": null,
            "justify_items": null,
            "left": null,
            "margin": null,
            "max_height": null,
            "max_width": null,
            "min_height": null,
            "min_width": null,
            "object_fit": null,
            "object_position": null,
            "order": null,
            "overflow": null,
            "overflow_x": null,
            "overflow_y": null,
            "padding": null,
            "right": null,
            "top": null,
            "visibility": null,
            "width": null
          }
        },
        "3c2a15678ce046779fdba619d794924c": {
          "model_module": "@jupyter-widgets/base",
          "model_name": "LayoutModel",
          "model_module_version": "1.2.0",
          "state": {
            "_model_module": "@jupyter-widgets/base",
            "_model_module_version": "1.2.0",
            "_model_name": "LayoutModel",
            "_view_count": null,
            "_view_module": "@jupyter-widgets/base",
            "_view_module_version": "1.2.0",
            "_view_name": "LayoutView",
            "align_content": null,
            "align_items": null,
            "align_self": null,
            "border": null,
            "bottom": null,
            "display": null,
            "flex": null,
            "flex_flow": null,
            "grid_area": null,
            "grid_auto_columns": null,
            "grid_auto_flow": null,
            "grid_auto_rows": null,
            "grid_column": null,
            "grid_gap": null,
            "grid_row": null,
            "grid_template_areas": null,
            "grid_template_columns": null,
            "grid_template_rows": null,
            "height": null,
            "justify_content": null,
            "justify_items": null,
            "left": null,
            "margin": null,
            "max_height": null,
            "max_width": null,
            "min_height": null,
            "min_width": null,
            "object_fit": null,
            "object_position": null,
            "order": null,
            "overflow": null,
            "overflow_x": null,
            "overflow_y": null,
            "padding": null,
            "right": null,
            "top": null,
            "visibility": null,
            "width": null
          }
        },
        "40691e261ecc4cfdbcc4396e879459bf": {
          "model_module": "@jupyter-widgets/controls",
          "model_name": "DescriptionStyleModel",
          "model_module_version": "1.5.0",
          "state": {
            "_model_module": "@jupyter-widgets/controls",
            "_model_module_version": "1.5.0",
            "_model_name": "DescriptionStyleModel",
            "_view_count": null,
            "_view_module": "@jupyter-widgets/base",
            "_view_module_version": "1.2.0",
            "_view_name": "StyleView",
            "description_width": ""
          }
        },
        "0952303cde5d48fa83ba34f66a35054b": {
          "model_module": "@jupyter-widgets/base",
          "model_name": "LayoutModel",
          "model_module_version": "1.2.0",
          "state": {
            "_model_module": "@jupyter-widgets/base",
            "_model_module_version": "1.2.0",
            "_model_name": "LayoutModel",
            "_view_count": null,
            "_view_module": "@jupyter-widgets/base",
            "_view_module_version": "1.2.0",
            "_view_name": "LayoutView",
            "align_content": null,
            "align_items": null,
            "align_self": null,
            "border": null,
            "bottom": null,
            "display": null,
            "flex": null,
            "flex_flow": null,
            "grid_area": null,
            "grid_auto_columns": null,
            "grid_auto_flow": null,
            "grid_auto_rows": null,
            "grid_column": null,
            "grid_gap": null,
            "grid_row": null,
            "grid_template_areas": null,
            "grid_template_columns": null,
            "grid_template_rows": null,
            "height": null,
            "justify_content": null,
            "justify_items": null,
            "left": null,
            "margin": null,
            "max_height": null,
            "max_width": null,
            "min_height": null,
            "min_width": null,
            "object_fit": null,
            "object_position": null,
            "order": null,
            "overflow": null,
            "overflow_x": null,
            "overflow_y": null,
            "padding": null,
            "right": null,
            "top": null,
            "visibility": null,
            "width": null
          }
        },
        "0e64ad83d21348f2b3bfe210c4569ca3": {
          "model_module": "@jupyter-widgets/controls",
          "model_name": "ProgressStyleModel",
          "model_module_version": "1.5.0",
          "state": {
            "_model_module": "@jupyter-widgets/controls",
            "_model_module_version": "1.5.0",
            "_model_name": "ProgressStyleModel",
            "_view_count": null,
            "_view_module": "@jupyter-widgets/base",
            "_view_module_version": "1.2.0",
            "_view_name": "StyleView",
            "bar_color": null,
            "description_width": ""
          }
        },
        "d10487dd49d344fa94c66819edfcceed": {
          "model_module": "@jupyter-widgets/base",
          "model_name": "LayoutModel",
          "model_module_version": "1.2.0",
          "state": {
            "_model_module": "@jupyter-widgets/base",
            "_model_module_version": "1.2.0",
            "_model_name": "LayoutModel",
            "_view_count": null,
            "_view_module": "@jupyter-widgets/base",
            "_view_module_version": "1.2.0",
            "_view_name": "LayoutView",
            "align_content": null,
            "align_items": null,
            "align_self": null,
            "border": null,
            "bottom": null,
            "display": null,
            "flex": null,
            "flex_flow": null,
            "grid_area": null,
            "grid_auto_columns": null,
            "grid_auto_flow": null,
            "grid_auto_rows": null,
            "grid_column": null,
            "grid_gap": null,
            "grid_row": null,
            "grid_template_areas": null,
            "grid_template_columns": null,
            "grid_template_rows": null,
            "height": null,
            "justify_content": null,
            "justify_items": null,
            "left": null,
            "margin": null,
            "max_height": null,
            "max_width": null,
            "min_height": null,
            "min_width": null,
            "object_fit": null,
            "object_position": null,
            "order": null,
            "overflow": null,
            "overflow_x": null,
            "overflow_y": null,
            "padding": null,
            "right": null,
            "top": null,
            "visibility": null,
            "width": null
          }
        },
        "11d881748ddf4d44bb8116fe1a86d891": {
          "model_module": "@jupyter-widgets/controls",
          "model_name": "DescriptionStyleModel",
          "model_module_version": "1.5.0",
          "state": {
            "_model_module": "@jupyter-widgets/controls",
            "_model_module_version": "1.5.0",
            "_model_name": "DescriptionStyleModel",
            "_view_count": null,
            "_view_module": "@jupyter-widgets/base",
            "_view_module_version": "1.2.0",
            "_view_name": "StyleView",
            "description_width": ""
          }
        },
        "24fa89e0b5844cca95515d8000e2f5ff": {
          "model_module": "@jupyter-widgets/controls",
          "model_name": "HBoxModel",
          "model_module_version": "1.5.0",
          "state": {
            "_dom_classes": [],
            "_model_module": "@jupyter-widgets/controls",
            "_model_module_version": "1.5.0",
            "_model_name": "HBoxModel",
            "_view_count": null,
            "_view_module": "@jupyter-widgets/controls",
            "_view_module_version": "1.5.0",
            "_view_name": "HBoxView",
            "box_style": "",
            "children": [
              "IPY_MODEL_4430c4c68faf4f7fb9c607842fbbc8a3",
              "IPY_MODEL_26072a40764041a9b010062f4dfe66bd",
              "IPY_MODEL_bc9f32a114774dfc9c78ea337b37aca8"
            ],
            "layout": "IPY_MODEL_7cc8cdb4e2404b62885512066c1a47cf"
          }
        },
        "4430c4c68faf4f7fb9c607842fbbc8a3": {
          "model_module": "@jupyter-widgets/controls",
          "model_name": "HTMLModel",
          "model_module_version": "1.5.0",
          "state": {
            "_dom_classes": [],
            "_model_module": "@jupyter-widgets/controls",
            "_model_module_version": "1.5.0",
            "_model_name": "HTMLModel",
            "_view_count": null,
            "_view_module": "@jupyter-widgets/controls",
            "_view_module_version": "1.5.0",
            "_view_name": "HTMLView",
            "description": "",
            "description_tooltip": null,
            "layout": "IPY_MODEL_51286615c7e542959b5466afba0bc9db",
            "placeholder": "​",
            "style": "IPY_MODEL_7c178316c1fe4aed9b3a652ab7fb308c",
            "value": "Downloading metadata: 100%"
          }
        },
        "26072a40764041a9b010062f4dfe66bd": {
          "model_module": "@jupyter-widgets/controls",
          "model_name": "FloatProgressModel",
          "model_module_version": "1.5.0",
          "state": {
            "_dom_classes": [],
            "_model_module": "@jupyter-widgets/controls",
            "_model_module_version": "1.5.0",
            "_model_name": "FloatProgressModel",
            "_view_count": null,
            "_view_module": "@jupyter-widgets/controls",
            "_view_module_version": "1.5.0",
            "_view_name": "ProgressView",
            "bar_style": "success",
            "description": "",
            "description_tooltip": null,
            "layout": "IPY_MODEL_3d09dbbdfc8d475f9c1c10eb2c862155",
            "max": 3735,
            "min": 0,
            "orientation": "horizontal",
            "style": "IPY_MODEL_561a396c36fc408bb39a259f6c170612",
            "value": 3735
          }
        },
        "bc9f32a114774dfc9c78ea337b37aca8": {
          "model_module": "@jupyter-widgets/controls",
          "model_name": "HTMLModel",
          "model_module_version": "1.5.0",
          "state": {
            "_dom_classes": [],
            "_model_module": "@jupyter-widgets/controls",
            "_model_module_version": "1.5.0",
            "_model_name": "HTMLModel",
            "_view_count": null,
            "_view_module": "@jupyter-widgets/controls",
            "_view_module_version": "1.5.0",
            "_view_name": "HTMLView",
            "description": "",
            "description_tooltip": null,
            "layout": "IPY_MODEL_0432448bdf6a4d2293421503d2040678",
            "placeholder": "​",
            "style": "IPY_MODEL_67021dbdd34a4b85a79de5cb8b22af2a",
            "value": " 3.73k/3.73k [00:00&lt;00:00, 247kB/s]"
          }
        },
        "7cc8cdb4e2404b62885512066c1a47cf": {
          "model_module": "@jupyter-widgets/base",
          "model_name": "LayoutModel",
          "model_module_version": "1.2.0",
          "state": {
            "_model_module": "@jupyter-widgets/base",
            "_model_module_version": "1.2.0",
            "_model_name": "LayoutModel",
            "_view_count": null,
            "_view_module": "@jupyter-widgets/base",
            "_view_module_version": "1.2.0",
            "_view_name": "LayoutView",
            "align_content": null,
            "align_items": null,
            "align_self": null,
            "border": null,
            "bottom": null,
            "display": null,
            "flex": null,
            "flex_flow": null,
            "grid_area": null,
            "grid_auto_columns": null,
            "grid_auto_flow": null,
            "grid_auto_rows": null,
            "grid_column": null,
            "grid_gap": null,
            "grid_row": null,
            "grid_template_areas": null,
            "grid_template_columns": null,
            "grid_template_rows": null,
            "height": null,
            "justify_content": null,
            "justify_items": null,
            "left": null,
            "margin": null,
            "max_height": null,
            "max_width": null,
            "min_height": null,
            "min_width": null,
            "object_fit": null,
            "object_position": null,
            "order": null,
            "overflow": null,
            "overflow_x": null,
            "overflow_y": null,
            "padding": null,
            "right": null,
            "top": null,
            "visibility": null,
            "width": null
          }
        },
        "51286615c7e542959b5466afba0bc9db": {
          "model_module": "@jupyter-widgets/base",
          "model_name": "LayoutModel",
          "model_module_version": "1.2.0",
          "state": {
            "_model_module": "@jupyter-widgets/base",
            "_model_module_version": "1.2.0",
            "_model_name": "LayoutModel",
            "_view_count": null,
            "_view_module": "@jupyter-widgets/base",
            "_view_module_version": "1.2.0",
            "_view_name": "LayoutView",
            "align_content": null,
            "align_items": null,
            "align_self": null,
            "border": null,
            "bottom": null,
            "display": null,
            "flex": null,
            "flex_flow": null,
            "grid_area": null,
            "grid_auto_columns": null,
            "grid_auto_flow": null,
            "grid_auto_rows": null,
            "grid_column": null,
            "grid_gap": null,
            "grid_row": null,
            "grid_template_areas": null,
            "grid_template_columns": null,
            "grid_template_rows": null,
            "height": null,
            "justify_content": null,
            "justify_items": null,
            "left": null,
            "margin": null,
            "max_height": null,
            "max_width": null,
            "min_height": null,
            "min_width": null,
            "object_fit": null,
            "object_position": null,
            "order": null,
            "overflow": null,
            "overflow_x": null,
            "overflow_y": null,
            "padding": null,
            "right": null,
            "top": null,
            "visibility": null,
            "width": null
          }
        },
        "7c178316c1fe4aed9b3a652ab7fb308c": {
          "model_module": "@jupyter-widgets/controls",
          "model_name": "DescriptionStyleModel",
          "model_module_version": "1.5.0",
          "state": {
            "_model_module": "@jupyter-widgets/controls",
            "_model_module_version": "1.5.0",
            "_model_name": "DescriptionStyleModel",
            "_view_count": null,
            "_view_module": "@jupyter-widgets/base",
            "_view_module_version": "1.2.0",
            "_view_name": "StyleView",
            "description_width": ""
          }
        },
        "3d09dbbdfc8d475f9c1c10eb2c862155": {
          "model_module": "@jupyter-widgets/base",
          "model_name": "LayoutModel",
          "model_module_version": "1.2.0",
          "state": {
            "_model_module": "@jupyter-widgets/base",
            "_model_module_version": "1.2.0",
            "_model_name": "LayoutModel",
            "_view_count": null,
            "_view_module": "@jupyter-widgets/base",
            "_view_module_version": "1.2.0",
            "_view_name": "LayoutView",
            "align_content": null,
            "align_items": null,
            "align_self": null,
            "border": null,
            "bottom": null,
            "display": null,
            "flex": null,
            "flex_flow": null,
            "grid_area": null,
            "grid_auto_columns": null,
            "grid_auto_flow": null,
            "grid_auto_rows": null,
            "grid_column": null,
            "grid_gap": null,
            "grid_row": null,
            "grid_template_areas": null,
            "grid_template_columns": null,
            "grid_template_rows": null,
            "height": null,
            "justify_content": null,
            "justify_items": null,
            "left": null,
            "margin": null,
            "max_height": null,
            "max_width": null,
            "min_height": null,
            "min_width": null,
            "object_fit": null,
            "object_position": null,
            "order": null,
            "overflow": null,
            "overflow_x": null,
            "overflow_y": null,
            "padding": null,
            "right": null,
            "top": null,
            "visibility": null,
            "width": null
          }
        },
        "561a396c36fc408bb39a259f6c170612": {
          "model_module": "@jupyter-widgets/controls",
          "model_name": "ProgressStyleModel",
          "model_module_version": "1.5.0",
          "state": {
            "_model_module": "@jupyter-widgets/controls",
            "_model_module_version": "1.5.0",
            "_model_name": "ProgressStyleModel",
            "_view_count": null,
            "_view_module": "@jupyter-widgets/base",
            "_view_module_version": "1.2.0",
            "_view_name": "StyleView",
            "bar_color": null,
            "description_width": ""
          }
        },
        "0432448bdf6a4d2293421503d2040678": {
          "model_module": "@jupyter-widgets/base",
          "model_name": "LayoutModel",
          "model_module_version": "1.2.0",
          "state": {
            "_model_module": "@jupyter-widgets/base",
            "_model_module_version": "1.2.0",
            "_model_name": "LayoutModel",
            "_view_count": null,
            "_view_module": "@jupyter-widgets/base",
            "_view_module_version": "1.2.0",
            "_view_name": "LayoutView",
            "align_content": null,
            "align_items": null,
            "align_self": null,
            "border": null,
            "bottom": null,
            "display": null,
            "flex": null,
            "flex_flow": null,
            "grid_area": null,
            "grid_auto_columns": null,
            "grid_auto_flow": null,
            "grid_auto_rows": null,
            "grid_column": null,
            "grid_gap": null,
            "grid_row": null,
            "grid_template_areas": null,
            "grid_template_columns": null,
            "grid_template_rows": null,
            "height": null,
            "justify_content": null,
            "justify_items": null,
            "left": null,
            "margin": null,
            "max_height": null,
            "max_width": null,
            "min_height": null,
            "min_width": null,
            "object_fit": null,
            "object_position": null,
            "order": null,
            "overflow": null,
            "overflow_x": null,
            "overflow_y": null,
            "padding": null,
            "right": null,
            "top": null,
            "visibility": null,
            "width": null
          }
        },
        "67021dbdd34a4b85a79de5cb8b22af2a": {
          "model_module": "@jupyter-widgets/controls",
          "model_name": "DescriptionStyleModel",
          "model_module_version": "1.5.0",
          "state": {
            "_model_module": "@jupyter-widgets/controls",
            "_model_module_version": "1.5.0",
            "_model_name": "DescriptionStyleModel",
            "_view_count": null,
            "_view_module": "@jupyter-widgets/base",
            "_view_module_version": "1.2.0",
            "_view_name": "StyleView",
            "description_width": ""
          }
        },
        "170e8602e88048a682eecd336c8c3a0f": {
          "model_module": "@jupyter-widgets/controls",
          "model_name": "HBoxModel",
          "model_module_version": "1.5.0",
          "state": {
            "_dom_classes": [],
            "_model_module": "@jupyter-widgets/controls",
            "_model_module_version": "1.5.0",
            "_model_name": "HBoxModel",
            "_view_count": null,
            "_view_module": "@jupyter-widgets/controls",
            "_view_module_version": "1.5.0",
            "_view_name": "HBoxView",
            "box_style": "",
            "children": [
              "IPY_MODEL_fc5f28fde9174dff9b74f3bbd277a322",
              "IPY_MODEL_53dc3c1854fd4eecb35dcc748907aeb6",
              "IPY_MODEL_bf6f0440adf94f0fb1194c865f5bc703"
            ],
            "layout": "IPY_MODEL_4b1defccfef1410e8a8544fb2cec44cb"
          }
        },
        "fc5f28fde9174dff9b74f3bbd277a322": {
          "model_module": "@jupyter-widgets/controls",
          "model_name": "HTMLModel",
          "model_module_version": "1.5.0",
          "state": {
            "_dom_classes": [],
            "_model_module": "@jupyter-widgets/controls",
            "_model_module_version": "1.5.0",
            "_model_name": "HTMLModel",
            "_view_count": null,
            "_view_module": "@jupyter-widgets/controls",
            "_view_module_version": "1.5.0",
            "_view_name": "HTMLView",
            "description": "",
            "description_tooltip": null,
            "layout": "IPY_MODEL_8aac21a0565f46678bc736c41c790c5a",
            "placeholder": "​",
            "style": "IPY_MODEL_3aee47e385f44205b17cf024a44faf76",
            "value": "Downloading readme: 100%"
          }
        },
        "53dc3c1854fd4eecb35dcc748907aeb6": {
          "model_module": "@jupyter-widgets/controls",
          "model_name": "FloatProgressModel",
          "model_module_version": "1.5.0",
          "state": {
            "_dom_classes": [],
            "_model_module": "@jupyter-widgets/controls",
            "_model_module_version": "1.5.0",
            "_model_name": "FloatProgressModel",
            "_view_count": null,
            "_view_module": "@jupyter-widgets/controls",
            "_view_module_version": "1.5.0",
            "_view_name": "ProgressView",
            "bar_style": "success",
            "description": "",
            "description_tooltip": null,
            "layout": "IPY_MODEL_466b9fb9f7744c8eb5514d5f31ad3010",
            "max": 12330,
            "min": 0,
            "orientation": "horizontal",
            "style": "IPY_MODEL_440af8afd0da4df6b60a27cfa92a9657",
            "value": 12330
          }
        },
        "bf6f0440adf94f0fb1194c865f5bc703": {
          "model_module": "@jupyter-widgets/controls",
          "model_name": "HTMLModel",
          "model_module_version": "1.5.0",
          "state": {
            "_dom_classes": [],
            "_model_module": "@jupyter-widgets/controls",
            "_model_module_version": "1.5.0",
            "_model_name": "HTMLModel",
            "_view_count": null,
            "_view_module": "@jupyter-widgets/controls",
            "_view_module_version": "1.5.0",
            "_view_name": "HTMLView",
            "description": "",
            "description_tooltip": null,
            "layout": "IPY_MODEL_3183d4743d224b8890aff52e14b41cf4",
            "placeholder": "​",
            "style": "IPY_MODEL_e41905f2dc70424583084b785634e823",
            "value": " 12.3k/12.3k [00:00&lt;00:00, 331kB/s]"
          }
        },
        "4b1defccfef1410e8a8544fb2cec44cb": {
          "model_module": "@jupyter-widgets/base",
          "model_name": "LayoutModel",
          "model_module_version": "1.2.0",
          "state": {
            "_model_module": "@jupyter-widgets/base",
            "_model_module_version": "1.2.0",
            "_model_name": "LayoutModel",
            "_view_count": null,
            "_view_module": "@jupyter-widgets/base",
            "_view_module_version": "1.2.0",
            "_view_name": "LayoutView",
            "align_content": null,
            "align_items": null,
            "align_self": null,
            "border": null,
            "bottom": null,
            "display": null,
            "flex": null,
            "flex_flow": null,
            "grid_area": null,
            "grid_auto_columns": null,
            "grid_auto_flow": null,
            "grid_auto_rows": null,
            "grid_column": null,
            "grid_gap": null,
            "grid_row": null,
            "grid_template_areas": null,
            "grid_template_columns": null,
            "grid_template_rows": null,
            "height": null,
            "justify_content": null,
            "justify_items": null,
            "left": null,
            "margin": null,
            "max_height": null,
            "max_width": null,
            "min_height": null,
            "min_width": null,
            "object_fit": null,
            "object_position": null,
            "order": null,
            "overflow": null,
            "overflow_x": null,
            "overflow_y": null,
            "padding": null,
            "right": null,
            "top": null,
            "visibility": null,
            "width": null
          }
        },
        "8aac21a0565f46678bc736c41c790c5a": {
          "model_module": "@jupyter-widgets/base",
          "model_name": "LayoutModel",
          "model_module_version": "1.2.0",
          "state": {
            "_model_module": "@jupyter-widgets/base",
            "_model_module_version": "1.2.0",
            "_model_name": "LayoutModel",
            "_view_count": null,
            "_view_module": "@jupyter-widgets/base",
            "_view_module_version": "1.2.0",
            "_view_name": "LayoutView",
            "align_content": null,
            "align_items": null,
            "align_self": null,
            "border": null,
            "bottom": null,
            "display": null,
            "flex": null,
            "flex_flow": null,
            "grid_area": null,
            "grid_auto_columns": null,
            "grid_auto_flow": null,
            "grid_auto_rows": null,
            "grid_column": null,
            "grid_gap": null,
            "grid_row": null,
            "grid_template_areas": null,
            "grid_template_columns": null,
            "grid_template_rows": null,
            "height": null,
            "justify_content": null,
            "justify_items": null,
            "left": null,
            "margin": null,
            "max_height": null,
            "max_width": null,
            "min_height": null,
            "min_width": null,
            "object_fit": null,
            "object_position": null,
            "order": null,
            "overflow": null,
            "overflow_x": null,
            "overflow_y": null,
            "padding": null,
            "right": null,
            "top": null,
            "visibility": null,
            "width": null
          }
        },
        "3aee47e385f44205b17cf024a44faf76": {
          "model_module": "@jupyter-widgets/controls",
          "model_name": "DescriptionStyleModel",
          "model_module_version": "1.5.0",
          "state": {
            "_model_module": "@jupyter-widgets/controls",
            "_model_module_version": "1.5.0",
            "_model_name": "DescriptionStyleModel",
            "_view_count": null,
            "_view_module": "@jupyter-widgets/base",
            "_view_module_version": "1.2.0",
            "_view_name": "StyleView",
            "description_width": ""
          }
        },
        "466b9fb9f7744c8eb5514d5f31ad3010": {
          "model_module": "@jupyter-widgets/base",
          "model_name": "LayoutModel",
          "model_module_version": "1.2.0",
          "state": {
            "_model_module": "@jupyter-widgets/base",
            "_model_module_version": "1.2.0",
            "_model_name": "LayoutModel",
            "_view_count": null,
            "_view_module": "@jupyter-widgets/base",
            "_view_module_version": "1.2.0",
            "_view_name": "LayoutView",
            "align_content": null,
            "align_items": null,
            "align_self": null,
            "border": null,
            "bottom": null,
            "display": null,
            "flex": null,
            "flex_flow": null,
            "grid_area": null,
            "grid_auto_columns": null,
            "grid_auto_flow": null,
            "grid_auto_rows": null,
            "grid_column": null,
            "grid_gap": null,
            "grid_row": null,
            "grid_template_areas": null,
            "grid_template_columns": null,
            "grid_template_rows": null,
            "height": null,
            "justify_content": null,
            "justify_items": null,
            "left": null,
            "margin": null,
            "max_height": null,
            "max_width": null,
            "min_height": null,
            "min_width": null,
            "object_fit": null,
            "object_position": null,
            "order": null,
            "overflow": null,
            "overflow_x": null,
            "overflow_y": null,
            "padding": null,
            "right": null,
            "top": null,
            "visibility": null,
            "width": null
          }
        },
        "440af8afd0da4df6b60a27cfa92a9657": {
          "model_module": "@jupyter-widgets/controls",
          "model_name": "ProgressStyleModel",
          "model_module_version": "1.5.0",
          "state": {
            "_model_module": "@jupyter-widgets/controls",
            "_model_module_version": "1.5.0",
            "_model_name": "ProgressStyleModel",
            "_view_count": null,
            "_view_module": "@jupyter-widgets/base",
            "_view_module_version": "1.2.0",
            "_view_name": "StyleView",
            "bar_color": null,
            "description_width": ""
          }
        },
        "3183d4743d224b8890aff52e14b41cf4": {
          "model_module": "@jupyter-widgets/base",
          "model_name": "LayoutModel",
          "model_module_version": "1.2.0",
          "state": {
            "_model_module": "@jupyter-widgets/base",
            "_model_module_version": "1.2.0",
            "_model_name": "LayoutModel",
            "_view_count": null,
            "_view_module": "@jupyter-widgets/base",
            "_view_module_version": "1.2.0",
            "_view_name": "LayoutView",
            "align_content": null,
            "align_items": null,
            "align_self": null,
            "border": null,
            "bottom": null,
            "display": null,
            "flex": null,
            "flex_flow": null,
            "grid_area": null,
            "grid_auto_columns": null,
            "grid_auto_flow": null,
            "grid_auto_rows": null,
            "grid_column": null,
            "grid_gap": null,
            "grid_row": null,
            "grid_template_areas": null,
            "grid_template_columns": null,
            "grid_template_rows": null,
            "height": null,
            "justify_content": null,
            "justify_items": null,
            "left": null,
            "margin": null,
            "max_height": null,
            "max_width": null,
            "min_height": null,
            "min_width": null,
            "object_fit": null,
            "object_position": null,
            "order": null,
            "overflow": null,
            "overflow_x": null,
            "overflow_y": null,
            "padding": null,
            "right": null,
            "top": null,
            "visibility": null,
            "width": null
          }
        },
        "e41905f2dc70424583084b785634e823": {
          "model_module": "@jupyter-widgets/controls",
          "model_name": "DescriptionStyleModel",
          "model_module_version": "1.5.0",
          "state": {
            "_model_module": "@jupyter-widgets/controls",
            "_model_module_version": "1.5.0",
            "_model_name": "DescriptionStyleModel",
            "_view_count": null,
            "_view_module": "@jupyter-widgets/base",
            "_view_module_version": "1.2.0",
            "_view_name": "StyleView",
            "description_width": ""
          }
        },
        "2e03ef0457fa4e12a874536a512c099b": {
          "model_module": "@jupyter-widgets/controls",
          "model_name": "HBoxModel",
          "model_module_version": "1.5.0",
          "state": {
            "_dom_classes": [],
            "_model_module": "@jupyter-widgets/controls",
            "_model_module_version": "1.5.0",
            "_model_name": "HBoxModel",
            "_view_count": null,
            "_view_module": "@jupyter-widgets/controls",
            "_view_module_version": "1.5.0",
            "_view_name": "HBoxView",
            "box_style": "",
            "children": [
              "IPY_MODEL_f0969a2936f941b4801db3422e454c5b",
              "IPY_MODEL_ef247cc41b7c4594958f50197e0a1a11",
              "IPY_MODEL_0a7a2ae10cd4458e8d165b94318bdc5b"
            ],
            "layout": "IPY_MODEL_162cc1a3338f42198e563f4d4f3459cb"
          }
        },
        "f0969a2936f941b4801db3422e454c5b": {
          "model_module": "@jupyter-widgets/controls",
          "model_name": "HTMLModel",
          "model_module_version": "1.5.0",
          "state": {
            "_dom_classes": [],
            "_model_module": "@jupyter-widgets/controls",
            "_model_module_version": "1.5.0",
            "_model_name": "HTMLModel",
            "_view_count": null,
            "_view_module": "@jupyter-widgets/controls",
            "_view_module_version": "1.5.0",
            "_view_name": "HTMLView",
            "description": "",
            "description_tooltip": null,
            "layout": "IPY_MODEL_c4fc608f55b4488a809029f1dc01acd4",
            "placeholder": "​",
            "style": "IPY_MODEL_fd4fbd8bcc274a2a903697f5cc866324",
            "value": "Downloading data: 100%"
          }
        },
        "ef247cc41b7c4594958f50197e0a1a11": {
          "model_module": "@jupyter-widgets/controls",
          "model_name": "FloatProgressModel",
          "model_module_version": "1.5.0",
          "state": {
            "_dom_classes": [],
            "_model_module": "@jupyter-widgets/controls",
            "_model_module_version": "1.5.0",
            "_model_name": "FloatProgressModel",
            "_view_count": null,
            "_view_module": "@jupyter-widgets/controls",
            "_view_module_version": "1.5.0",
            "_view_name": "ProgressView",
            "bar_style": "success",
            "description": "",
            "description_tooltip": null,
            "layout": "IPY_MODEL_96bcfc590e004a47946bf38ee1d5d8c1",
            "max": 982975,
            "min": 0,
            "orientation": "horizontal",
            "style": "IPY_MODEL_2206203a368045c6b667474393ac1747",
            "value": 982975
          }
        },
        "0a7a2ae10cd4458e8d165b94318bdc5b": {
          "model_module": "@jupyter-widgets/controls",
          "model_name": "HTMLModel",
          "model_module_version": "1.5.0",
          "state": {
            "_dom_classes": [],
            "_model_module": "@jupyter-widgets/controls",
            "_model_module_version": "1.5.0",
            "_model_name": "HTMLModel",
            "_view_count": null,
            "_view_module": "@jupyter-widgets/controls",
            "_view_module_version": "1.5.0",
            "_view_name": "HTMLView",
            "description": "",
            "description_tooltip": null,
            "layout": "IPY_MODEL_1744f2aa1ec740c0b4fdec1724b78abe",
            "placeholder": "​",
            "style": "IPY_MODEL_9fedade4855646c5a49dcfb8cde7aa9a",
            "value": " 983k/983k [00:00&lt;00:00, 6.79MB/s]"
          }
        },
        "162cc1a3338f42198e563f4d4f3459cb": {
          "model_module": "@jupyter-widgets/base",
          "model_name": "LayoutModel",
          "model_module_version": "1.2.0",
          "state": {
            "_model_module": "@jupyter-widgets/base",
            "_model_module_version": "1.2.0",
            "_model_name": "LayoutModel",
            "_view_count": null,
            "_view_module": "@jupyter-widgets/base",
            "_view_module_version": "1.2.0",
            "_view_name": "LayoutView",
            "align_content": null,
            "align_items": null,
            "align_self": null,
            "border": null,
            "bottom": null,
            "display": null,
            "flex": null,
            "flex_flow": null,
            "grid_area": null,
            "grid_auto_columns": null,
            "grid_auto_flow": null,
            "grid_auto_rows": null,
            "grid_column": null,
            "grid_gap": null,
            "grid_row": null,
            "grid_template_areas": null,
            "grid_template_columns": null,
            "grid_template_rows": null,
            "height": null,
            "justify_content": null,
            "justify_items": null,
            "left": null,
            "margin": null,
            "max_height": null,
            "max_width": null,
            "min_height": null,
            "min_width": null,
            "object_fit": null,
            "object_position": null,
            "order": null,
            "overflow": null,
            "overflow_x": null,
            "overflow_y": null,
            "padding": null,
            "right": null,
            "top": null,
            "visibility": null,
            "width": null
          }
        },
        "c4fc608f55b4488a809029f1dc01acd4": {
          "model_module": "@jupyter-widgets/base",
          "model_name": "LayoutModel",
          "model_module_version": "1.2.0",
          "state": {
            "_model_module": "@jupyter-widgets/base",
            "_model_module_version": "1.2.0",
            "_model_name": "LayoutModel",
            "_view_count": null,
            "_view_module": "@jupyter-widgets/base",
            "_view_module_version": "1.2.0",
            "_view_name": "LayoutView",
            "align_content": null,
            "align_items": null,
            "align_self": null,
            "border": null,
            "bottom": null,
            "display": null,
            "flex": null,
            "flex_flow": null,
            "grid_area": null,
            "grid_auto_columns": null,
            "grid_auto_flow": null,
            "grid_auto_rows": null,
            "grid_column": null,
            "grid_gap": null,
            "grid_row": null,
            "grid_template_areas": null,
            "grid_template_columns": null,
            "grid_template_rows": null,
            "height": null,
            "justify_content": null,
            "justify_items": null,
            "left": null,
            "margin": null,
            "max_height": null,
            "max_width": null,
            "min_height": null,
            "min_width": null,
            "object_fit": null,
            "object_position": null,
            "order": null,
            "overflow": null,
            "overflow_x": null,
            "overflow_y": null,
            "padding": null,
            "right": null,
            "top": null,
            "visibility": null,
            "width": null
          }
        },
        "fd4fbd8bcc274a2a903697f5cc866324": {
          "model_module": "@jupyter-widgets/controls",
          "model_name": "DescriptionStyleModel",
          "model_module_version": "1.5.0",
          "state": {
            "_model_module": "@jupyter-widgets/controls",
            "_model_module_version": "1.5.0",
            "_model_name": "DescriptionStyleModel",
            "_view_count": null,
            "_view_module": "@jupyter-widgets/base",
            "_view_module_version": "1.2.0",
            "_view_name": "StyleView",
            "description_width": ""
          }
        },
        "96bcfc590e004a47946bf38ee1d5d8c1": {
          "model_module": "@jupyter-widgets/base",
          "model_name": "LayoutModel",
          "model_module_version": "1.2.0",
          "state": {
            "_model_module": "@jupyter-widgets/base",
            "_model_module_version": "1.2.0",
            "_model_name": "LayoutModel",
            "_view_count": null,
            "_view_module": "@jupyter-widgets/base",
            "_view_module_version": "1.2.0",
            "_view_name": "LayoutView",
            "align_content": null,
            "align_items": null,
            "align_self": null,
            "border": null,
            "bottom": null,
            "display": null,
            "flex": null,
            "flex_flow": null,
            "grid_area": null,
            "grid_auto_columns": null,
            "grid_auto_flow": null,
            "grid_auto_rows": null,
            "grid_column": null,
            "grid_gap": null,
            "grid_row": null,
            "grid_template_areas": null,
            "grid_template_columns": null,
            "grid_template_rows": null,
            "height": null,
            "justify_content": null,
            "justify_items": null,
            "left": null,
            "margin": null,
            "max_height": null,
            "max_width": null,
            "min_height": null,
            "min_width": null,
            "object_fit": null,
            "object_position": null,
            "order": null,
            "overflow": null,
            "overflow_x": null,
            "overflow_y": null,
            "padding": null,
            "right": null,
            "top": null,
            "visibility": null,
            "width": null
          }
        },
        "2206203a368045c6b667474393ac1747": {
          "model_module": "@jupyter-widgets/controls",
          "model_name": "ProgressStyleModel",
          "model_module_version": "1.5.0",
          "state": {
            "_model_module": "@jupyter-widgets/controls",
            "_model_module_version": "1.5.0",
            "_model_name": "ProgressStyleModel",
            "_view_count": null,
            "_view_module": "@jupyter-widgets/base",
            "_view_module_version": "1.2.0",
            "_view_name": "StyleView",
            "bar_color": null,
            "description_width": ""
          }
        },
        "1744f2aa1ec740c0b4fdec1724b78abe": {
          "model_module": "@jupyter-widgets/base",
          "model_name": "LayoutModel",
          "model_module_version": "1.2.0",
          "state": {
            "_model_module": "@jupyter-widgets/base",
            "_model_module_version": "1.2.0",
            "_model_name": "LayoutModel",
            "_view_count": null,
            "_view_module": "@jupyter-widgets/base",
            "_view_module_version": "1.2.0",
            "_view_name": "LayoutView",
            "align_content": null,
            "align_items": null,
            "align_self": null,
            "border": null,
            "bottom": null,
            "display": null,
            "flex": null,
            "flex_flow": null,
            "grid_area": null,
            "grid_auto_columns": null,
            "grid_auto_flow": null,
            "grid_auto_rows": null,
            "grid_column": null,
            "grid_gap": null,
            "grid_row": null,
            "grid_template_areas": null,
            "grid_template_columns": null,
            "grid_template_rows": null,
            "height": null,
            "justify_content": null,
            "justify_items": null,
            "left": null,
            "margin": null,
            "max_height": null,
            "max_width": null,
            "min_height": null,
            "min_width": null,
            "object_fit": null,
            "object_position": null,
            "order": null,
            "overflow": null,
            "overflow_x": null,
            "overflow_y": null,
            "padding": null,
            "right": null,
            "top": null,
            "visibility": null,
            "width": null
          }
        },
        "9fedade4855646c5a49dcfb8cde7aa9a": {
          "model_module": "@jupyter-widgets/controls",
          "model_name": "DescriptionStyleModel",
          "model_module_version": "1.5.0",
          "state": {
            "_model_module": "@jupyter-widgets/controls",
            "_model_module_version": "1.5.0",
            "_model_name": "DescriptionStyleModel",
            "_view_count": null,
            "_view_module": "@jupyter-widgets/base",
            "_view_module_version": "1.2.0",
            "_view_name": "StyleView",
            "description_width": ""
          }
        },
        "0915a573d4644a5e864c0fac840f1228": {
          "model_module": "@jupyter-widgets/controls",
          "model_name": "HBoxModel",
          "model_module_version": "1.5.0",
          "state": {
            "_dom_classes": [],
            "_model_module": "@jupyter-widgets/controls",
            "_model_module_version": "1.5.0",
            "_model_name": "HBoxModel",
            "_view_count": null,
            "_view_module": "@jupyter-widgets/controls",
            "_view_module_version": "1.5.0",
            "_view_name": "HBoxView",
            "box_style": "",
            "children": [
              "IPY_MODEL_5c57e6ce557a4f62a0255b19bd6280f7",
              "IPY_MODEL_121712b2f7f14bb79de24dbf0bdbcc89",
              "IPY_MODEL_488bb4de15b04cdb899f3c4a88426d96"
            ],
            "layout": "IPY_MODEL_039444aecdfb42feb83bf85886c2a60e"
          }
        },
        "5c57e6ce557a4f62a0255b19bd6280f7": {
          "model_module": "@jupyter-widgets/controls",
          "model_name": "HTMLModel",
          "model_module_version": "1.5.0",
          "state": {
            "_dom_classes": [],
            "_model_module": "@jupyter-widgets/controls",
            "_model_module_version": "1.5.0",
            "_model_name": "HTMLModel",
            "_view_count": null,
            "_view_module": "@jupyter-widgets/controls",
            "_view_module_version": "1.5.0",
            "_view_name": "HTMLView",
            "description": "",
            "description_tooltip": null,
            "layout": "IPY_MODEL_0987ed23e3104d9b82a8958370a2ca4f",
            "placeholder": "​",
            "style": "IPY_MODEL_41053b86e03a42ca83727ff1ff4e918c",
            "value": "Generating train split: 100%"
          }
        },
        "121712b2f7f14bb79de24dbf0bdbcc89": {
          "model_module": "@jupyter-widgets/controls",
          "model_name": "FloatProgressModel",
          "model_module_version": "1.5.0",
          "state": {
            "_dom_classes": [],
            "_model_module": "@jupyter-widgets/controls",
            "_model_module_version": "1.5.0",
            "_model_name": "FloatProgressModel",
            "_view_count": null,
            "_view_module": "@jupyter-widgets/controls",
            "_view_module_version": "1.5.0",
            "_view_name": "ProgressView",
            "bar_style": "success",
            "description": "",
            "description_tooltip": null,
            "layout": "IPY_MODEL_a39ca5a196504eadb2924cc1812ac522",
            "max": 14041,
            "min": 0,
            "orientation": "horizontal",
            "style": "IPY_MODEL_2162c7116fdc4aa18b4532578e5f2dc7",
            "value": 14041
          }
        },
        "488bb4de15b04cdb899f3c4a88426d96": {
          "model_module": "@jupyter-widgets/controls",
          "model_name": "HTMLModel",
          "model_module_version": "1.5.0",
          "state": {
            "_dom_classes": [],
            "_model_module": "@jupyter-widgets/controls",
            "_model_module_version": "1.5.0",
            "_model_name": "HTMLModel",
            "_view_count": null,
            "_view_module": "@jupyter-widgets/controls",
            "_view_module_version": "1.5.0",
            "_view_name": "HTMLView",
            "description": "",
            "description_tooltip": null,
            "layout": "IPY_MODEL_af95e2ae19994df78166697703fae038",
            "placeholder": "​",
            "style": "IPY_MODEL_155b610560d64f44b027612ff7d82523",
            "value": " 14041/14041 [00:10&lt;00:00, 1636.87 examples/s]"
          }
        },
        "039444aecdfb42feb83bf85886c2a60e": {
          "model_module": "@jupyter-widgets/base",
          "model_name": "LayoutModel",
          "model_module_version": "1.2.0",
          "state": {
            "_model_module": "@jupyter-widgets/base",
            "_model_module_version": "1.2.0",
            "_model_name": "LayoutModel",
            "_view_count": null,
            "_view_module": "@jupyter-widgets/base",
            "_view_module_version": "1.2.0",
            "_view_name": "LayoutView",
            "align_content": null,
            "align_items": null,
            "align_self": null,
            "border": null,
            "bottom": null,
            "display": null,
            "flex": null,
            "flex_flow": null,
            "grid_area": null,
            "grid_auto_columns": null,
            "grid_auto_flow": null,
            "grid_auto_rows": null,
            "grid_column": null,
            "grid_gap": null,
            "grid_row": null,
            "grid_template_areas": null,
            "grid_template_columns": null,
            "grid_template_rows": null,
            "height": null,
            "justify_content": null,
            "justify_items": null,
            "left": null,
            "margin": null,
            "max_height": null,
            "max_width": null,
            "min_height": null,
            "min_width": null,
            "object_fit": null,
            "object_position": null,
            "order": null,
            "overflow": null,
            "overflow_x": null,
            "overflow_y": null,
            "padding": null,
            "right": null,
            "top": null,
            "visibility": null,
            "width": null
          }
        },
        "0987ed23e3104d9b82a8958370a2ca4f": {
          "model_module": "@jupyter-widgets/base",
          "model_name": "LayoutModel",
          "model_module_version": "1.2.0",
          "state": {
            "_model_module": "@jupyter-widgets/base",
            "_model_module_version": "1.2.0",
            "_model_name": "LayoutModel",
            "_view_count": null,
            "_view_module": "@jupyter-widgets/base",
            "_view_module_version": "1.2.0",
            "_view_name": "LayoutView",
            "align_content": null,
            "align_items": null,
            "align_self": null,
            "border": null,
            "bottom": null,
            "display": null,
            "flex": null,
            "flex_flow": null,
            "grid_area": null,
            "grid_auto_columns": null,
            "grid_auto_flow": null,
            "grid_auto_rows": null,
            "grid_column": null,
            "grid_gap": null,
            "grid_row": null,
            "grid_template_areas": null,
            "grid_template_columns": null,
            "grid_template_rows": null,
            "height": null,
            "justify_content": null,
            "justify_items": null,
            "left": null,
            "margin": null,
            "max_height": null,
            "max_width": null,
            "min_height": null,
            "min_width": null,
            "object_fit": null,
            "object_position": null,
            "order": null,
            "overflow": null,
            "overflow_x": null,
            "overflow_y": null,
            "padding": null,
            "right": null,
            "top": null,
            "visibility": null,
            "width": null
          }
        },
        "41053b86e03a42ca83727ff1ff4e918c": {
          "model_module": "@jupyter-widgets/controls",
          "model_name": "DescriptionStyleModel",
          "model_module_version": "1.5.0",
          "state": {
            "_model_module": "@jupyter-widgets/controls",
            "_model_module_version": "1.5.0",
            "_model_name": "DescriptionStyleModel",
            "_view_count": null,
            "_view_module": "@jupyter-widgets/base",
            "_view_module_version": "1.2.0",
            "_view_name": "StyleView",
            "description_width": ""
          }
        },
        "a39ca5a196504eadb2924cc1812ac522": {
          "model_module": "@jupyter-widgets/base",
          "model_name": "LayoutModel",
          "model_module_version": "1.2.0",
          "state": {
            "_model_module": "@jupyter-widgets/base",
            "_model_module_version": "1.2.0",
            "_model_name": "LayoutModel",
            "_view_count": null,
            "_view_module": "@jupyter-widgets/base",
            "_view_module_version": "1.2.0",
            "_view_name": "LayoutView",
            "align_content": null,
            "align_items": null,
            "align_self": null,
            "border": null,
            "bottom": null,
            "display": null,
            "flex": null,
            "flex_flow": null,
            "grid_area": null,
            "grid_auto_columns": null,
            "grid_auto_flow": null,
            "grid_auto_rows": null,
            "grid_column": null,
            "grid_gap": null,
            "grid_row": null,
            "grid_template_areas": null,
            "grid_template_columns": null,
            "grid_template_rows": null,
            "height": null,
            "justify_content": null,
            "justify_items": null,
            "left": null,
            "margin": null,
            "max_height": null,
            "max_width": null,
            "min_height": null,
            "min_width": null,
            "object_fit": null,
            "object_position": null,
            "order": null,
            "overflow": null,
            "overflow_x": null,
            "overflow_y": null,
            "padding": null,
            "right": null,
            "top": null,
            "visibility": null,
            "width": null
          }
        },
        "2162c7116fdc4aa18b4532578e5f2dc7": {
          "model_module": "@jupyter-widgets/controls",
          "model_name": "ProgressStyleModel",
          "model_module_version": "1.5.0",
          "state": {
            "_model_module": "@jupyter-widgets/controls",
            "_model_module_version": "1.5.0",
            "_model_name": "ProgressStyleModel",
            "_view_count": null,
            "_view_module": "@jupyter-widgets/base",
            "_view_module_version": "1.2.0",
            "_view_name": "StyleView",
            "bar_color": null,
            "description_width": ""
          }
        },
        "af95e2ae19994df78166697703fae038": {
          "model_module": "@jupyter-widgets/base",
          "model_name": "LayoutModel",
          "model_module_version": "1.2.0",
          "state": {
            "_model_module": "@jupyter-widgets/base",
            "_model_module_version": "1.2.0",
            "_model_name": "LayoutModel",
            "_view_count": null,
            "_view_module": "@jupyter-widgets/base",
            "_view_module_version": "1.2.0",
            "_view_name": "LayoutView",
            "align_content": null,
            "align_items": null,
            "align_self": null,
            "border": null,
            "bottom": null,
            "display": null,
            "flex": null,
            "flex_flow": null,
            "grid_area": null,
            "grid_auto_columns": null,
            "grid_auto_flow": null,
            "grid_auto_rows": null,
            "grid_column": null,
            "grid_gap": null,
            "grid_row": null,
            "grid_template_areas": null,
            "grid_template_columns": null,
            "grid_template_rows": null,
            "height": null,
            "justify_content": null,
            "justify_items": null,
            "left": null,
            "margin": null,
            "max_height": null,
            "max_width": null,
            "min_height": null,
            "min_width": null,
            "object_fit": null,
            "object_position": null,
            "order": null,
            "overflow": null,
            "overflow_x": null,
            "overflow_y": null,
            "padding": null,
            "right": null,
            "top": null,
            "visibility": null,
            "width": null
          }
        },
        "155b610560d64f44b027612ff7d82523": {
          "model_module": "@jupyter-widgets/controls",
          "model_name": "DescriptionStyleModel",
          "model_module_version": "1.5.0",
          "state": {
            "_model_module": "@jupyter-widgets/controls",
            "_model_module_version": "1.5.0",
            "_model_name": "DescriptionStyleModel",
            "_view_count": null,
            "_view_module": "@jupyter-widgets/base",
            "_view_module_version": "1.2.0",
            "_view_name": "StyleView",
            "description_width": ""
          }
        },
        "e3838f401b694d2d922d699d32888041": {
          "model_module": "@jupyter-widgets/controls",
          "model_name": "HBoxModel",
          "model_module_version": "1.5.0",
          "state": {
            "_dom_classes": [],
            "_model_module": "@jupyter-widgets/controls",
            "_model_module_version": "1.5.0",
            "_model_name": "HBoxModel",
            "_view_count": null,
            "_view_module": "@jupyter-widgets/controls",
            "_view_module_version": "1.5.0",
            "_view_name": "HBoxView",
            "box_style": "",
            "children": [
              "IPY_MODEL_734b0c9c201243b38bd6e68ad84c3ea5",
              "IPY_MODEL_d04401110ef34f8aaedf9fad8f24eaa2",
              "IPY_MODEL_dc82ca7ebdc44fe3ae16387b8f6118b7"
            ],
            "layout": "IPY_MODEL_2a928563285e4d4a8d67b9b23d120c2d"
          }
        },
        "734b0c9c201243b38bd6e68ad84c3ea5": {
          "model_module": "@jupyter-widgets/controls",
          "model_name": "HTMLModel",
          "model_module_version": "1.5.0",
          "state": {
            "_dom_classes": [],
            "_model_module": "@jupyter-widgets/controls",
            "_model_module_version": "1.5.0",
            "_model_name": "HTMLModel",
            "_view_count": null,
            "_view_module": "@jupyter-widgets/controls",
            "_view_module_version": "1.5.0",
            "_view_name": "HTMLView",
            "description": "",
            "description_tooltip": null,
            "layout": "IPY_MODEL_1bef2431229f4e028c9e2745f50238e8",
            "placeholder": "​",
            "style": "IPY_MODEL_48745147ec8a4af9b5e85431c38de016",
            "value": "Generating validation split: 100%"
          }
        },
        "d04401110ef34f8aaedf9fad8f24eaa2": {
          "model_module": "@jupyter-widgets/controls",
          "model_name": "FloatProgressModel",
          "model_module_version": "1.5.0",
          "state": {
            "_dom_classes": [],
            "_model_module": "@jupyter-widgets/controls",
            "_model_module_version": "1.5.0",
            "_model_name": "FloatProgressModel",
            "_view_count": null,
            "_view_module": "@jupyter-widgets/controls",
            "_view_module_version": "1.5.0",
            "_view_name": "ProgressView",
            "bar_style": "success",
            "description": "",
            "description_tooltip": null,
            "layout": "IPY_MODEL_c65381a6ee3d4e49be538781c1e761fc",
            "max": 3250,
            "min": 0,
            "orientation": "horizontal",
            "style": "IPY_MODEL_07ed297ea5534eadbbde931d5f636280",
            "value": 3250
          }
        },
        "dc82ca7ebdc44fe3ae16387b8f6118b7": {
          "model_module": "@jupyter-widgets/controls",
          "model_name": "HTMLModel",
          "model_module_version": "1.5.0",
          "state": {
            "_dom_classes": [],
            "_model_module": "@jupyter-widgets/controls",
            "_model_module_version": "1.5.0",
            "_model_name": "HTMLModel",
            "_view_count": null,
            "_view_module": "@jupyter-widgets/controls",
            "_view_module_version": "1.5.0",
            "_view_name": "HTMLView",
            "description": "",
            "description_tooltip": null,
            "layout": "IPY_MODEL_62ab00352d374181b253151e0bad1ae4",
            "placeholder": "​",
            "style": "IPY_MODEL_79bdbdb346be4f48b99ed8f43a1b367c",
            "value": " 3250/3250 [00:01&lt;00:00, 2105.72 examples/s]"
          }
        },
        "2a928563285e4d4a8d67b9b23d120c2d": {
          "model_module": "@jupyter-widgets/base",
          "model_name": "LayoutModel",
          "model_module_version": "1.2.0",
          "state": {
            "_model_module": "@jupyter-widgets/base",
            "_model_module_version": "1.2.0",
            "_model_name": "LayoutModel",
            "_view_count": null,
            "_view_module": "@jupyter-widgets/base",
            "_view_module_version": "1.2.0",
            "_view_name": "LayoutView",
            "align_content": null,
            "align_items": null,
            "align_self": null,
            "border": null,
            "bottom": null,
            "display": null,
            "flex": null,
            "flex_flow": null,
            "grid_area": null,
            "grid_auto_columns": null,
            "grid_auto_flow": null,
            "grid_auto_rows": null,
            "grid_column": null,
            "grid_gap": null,
            "grid_row": null,
            "grid_template_areas": null,
            "grid_template_columns": null,
            "grid_template_rows": null,
            "height": null,
            "justify_content": null,
            "justify_items": null,
            "left": null,
            "margin": null,
            "max_height": null,
            "max_width": null,
            "min_height": null,
            "min_width": null,
            "object_fit": null,
            "object_position": null,
            "order": null,
            "overflow": null,
            "overflow_x": null,
            "overflow_y": null,
            "padding": null,
            "right": null,
            "top": null,
            "visibility": null,
            "width": null
          }
        },
        "1bef2431229f4e028c9e2745f50238e8": {
          "model_module": "@jupyter-widgets/base",
          "model_name": "LayoutModel",
          "model_module_version": "1.2.0",
          "state": {
            "_model_module": "@jupyter-widgets/base",
            "_model_module_version": "1.2.0",
            "_model_name": "LayoutModel",
            "_view_count": null,
            "_view_module": "@jupyter-widgets/base",
            "_view_module_version": "1.2.0",
            "_view_name": "LayoutView",
            "align_content": null,
            "align_items": null,
            "align_self": null,
            "border": null,
            "bottom": null,
            "display": null,
            "flex": null,
            "flex_flow": null,
            "grid_area": null,
            "grid_auto_columns": null,
            "grid_auto_flow": null,
            "grid_auto_rows": null,
            "grid_column": null,
            "grid_gap": null,
            "grid_row": null,
            "grid_template_areas": null,
            "grid_template_columns": null,
            "grid_template_rows": null,
            "height": null,
            "justify_content": null,
            "justify_items": null,
            "left": null,
            "margin": null,
            "max_height": null,
            "max_width": null,
            "min_height": null,
            "min_width": null,
            "object_fit": null,
            "object_position": null,
            "order": null,
            "overflow": null,
            "overflow_x": null,
            "overflow_y": null,
            "padding": null,
            "right": null,
            "top": null,
            "visibility": null,
            "width": null
          }
        },
        "48745147ec8a4af9b5e85431c38de016": {
          "model_module": "@jupyter-widgets/controls",
          "model_name": "DescriptionStyleModel",
          "model_module_version": "1.5.0",
          "state": {
            "_model_module": "@jupyter-widgets/controls",
            "_model_module_version": "1.5.0",
            "_model_name": "DescriptionStyleModel",
            "_view_count": null,
            "_view_module": "@jupyter-widgets/base",
            "_view_module_version": "1.2.0",
            "_view_name": "StyleView",
            "description_width": ""
          }
        },
        "c65381a6ee3d4e49be538781c1e761fc": {
          "model_module": "@jupyter-widgets/base",
          "model_name": "LayoutModel",
          "model_module_version": "1.2.0",
          "state": {
            "_model_module": "@jupyter-widgets/base",
            "_model_module_version": "1.2.0",
            "_model_name": "LayoutModel",
            "_view_count": null,
            "_view_module": "@jupyter-widgets/base",
            "_view_module_version": "1.2.0",
            "_view_name": "LayoutView",
            "align_content": null,
            "align_items": null,
            "align_self": null,
            "border": null,
            "bottom": null,
            "display": null,
            "flex": null,
            "flex_flow": null,
            "grid_area": null,
            "grid_auto_columns": null,
            "grid_auto_flow": null,
            "grid_auto_rows": null,
            "grid_column": null,
            "grid_gap": null,
            "grid_row": null,
            "grid_template_areas": null,
            "grid_template_columns": null,
            "grid_template_rows": null,
            "height": null,
            "justify_content": null,
            "justify_items": null,
            "left": null,
            "margin": null,
            "max_height": null,
            "max_width": null,
            "min_height": null,
            "min_width": null,
            "object_fit": null,
            "object_position": null,
            "order": null,
            "overflow": null,
            "overflow_x": null,
            "overflow_y": null,
            "padding": null,
            "right": null,
            "top": null,
            "visibility": null,
            "width": null
          }
        },
        "07ed297ea5534eadbbde931d5f636280": {
          "model_module": "@jupyter-widgets/controls",
          "model_name": "ProgressStyleModel",
          "model_module_version": "1.5.0",
          "state": {
            "_model_module": "@jupyter-widgets/controls",
            "_model_module_version": "1.5.0",
            "_model_name": "ProgressStyleModel",
            "_view_count": null,
            "_view_module": "@jupyter-widgets/base",
            "_view_module_version": "1.2.0",
            "_view_name": "StyleView",
            "bar_color": null,
            "description_width": ""
          }
        },
        "62ab00352d374181b253151e0bad1ae4": {
          "model_module": "@jupyter-widgets/base",
          "model_name": "LayoutModel",
          "model_module_version": "1.2.0",
          "state": {
            "_model_module": "@jupyter-widgets/base",
            "_model_module_version": "1.2.0",
            "_model_name": "LayoutModel",
            "_view_count": null,
            "_view_module": "@jupyter-widgets/base",
            "_view_module_version": "1.2.0",
            "_view_name": "LayoutView",
            "align_content": null,
            "align_items": null,
            "align_self": null,
            "border": null,
            "bottom": null,
            "display": null,
            "flex": null,
            "flex_flow": null,
            "grid_area": null,
            "grid_auto_columns": null,
            "grid_auto_flow": null,
            "grid_auto_rows": null,
            "grid_column": null,
            "grid_gap": null,
            "grid_row": null,
            "grid_template_areas": null,
            "grid_template_columns": null,
            "grid_template_rows": null,
            "height": null,
            "justify_content": null,
            "justify_items": null,
            "left": null,
            "margin": null,
            "max_height": null,
            "max_width": null,
            "min_height": null,
            "min_width": null,
            "object_fit": null,
            "object_position": null,
            "order": null,
            "overflow": null,
            "overflow_x": null,
            "overflow_y": null,
            "padding": null,
            "right": null,
            "top": null,
            "visibility": null,
            "width": null
          }
        },
        "79bdbdb346be4f48b99ed8f43a1b367c": {
          "model_module": "@jupyter-widgets/controls",
          "model_name": "DescriptionStyleModel",
          "model_module_version": "1.5.0",
          "state": {
            "_model_module": "@jupyter-widgets/controls",
            "_model_module_version": "1.5.0",
            "_model_name": "DescriptionStyleModel",
            "_view_count": null,
            "_view_module": "@jupyter-widgets/base",
            "_view_module_version": "1.2.0",
            "_view_name": "StyleView",
            "description_width": ""
          }
        },
        "414e4b7f4db24aba8428c722cf13501e": {
          "model_module": "@jupyter-widgets/controls",
          "model_name": "HBoxModel",
          "model_module_version": "1.5.0",
          "state": {
            "_dom_classes": [],
            "_model_module": "@jupyter-widgets/controls",
            "_model_module_version": "1.5.0",
            "_model_name": "HBoxModel",
            "_view_count": null,
            "_view_module": "@jupyter-widgets/controls",
            "_view_module_version": "1.5.0",
            "_view_name": "HBoxView",
            "box_style": "",
            "children": [
              "IPY_MODEL_a785326eeaed41b08357863bca412d92",
              "IPY_MODEL_2dcaa32f39424c8bbf79479c1ea22546",
              "IPY_MODEL_3978d1d4cc2a408caa035ff874f9d6a1"
            ],
            "layout": "IPY_MODEL_faa47ee5f60e44d190de518f84dc01c4"
          }
        },
        "a785326eeaed41b08357863bca412d92": {
          "model_module": "@jupyter-widgets/controls",
          "model_name": "HTMLModel",
          "model_module_version": "1.5.0",
          "state": {
            "_dom_classes": [],
            "_model_module": "@jupyter-widgets/controls",
            "_model_module_version": "1.5.0",
            "_model_name": "HTMLModel",
            "_view_count": null,
            "_view_module": "@jupyter-widgets/controls",
            "_view_module_version": "1.5.0",
            "_view_name": "HTMLView",
            "description": "",
            "description_tooltip": null,
            "layout": "IPY_MODEL_27d117e872ac41bc8fc0097d4e216bab",
            "placeholder": "​",
            "style": "IPY_MODEL_0bcf097a5c5a41fba930c06ca6e59a2b",
            "value": "Generating test split: 100%"
          }
        },
        "2dcaa32f39424c8bbf79479c1ea22546": {
          "model_module": "@jupyter-widgets/controls",
          "model_name": "FloatProgressModel",
          "model_module_version": "1.5.0",
          "state": {
            "_dom_classes": [],
            "_model_module": "@jupyter-widgets/controls",
            "_model_module_version": "1.5.0",
            "_model_name": "FloatProgressModel",
            "_view_count": null,
            "_view_module": "@jupyter-widgets/controls",
            "_view_module_version": "1.5.0",
            "_view_name": "ProgressView",
            "bar_style": "success",
            "description": "",
            "description_tooltip": null,
            "layout": "IPY_MODEL_db6ca8b9491b4baa8bd7e757e7bc1d42",
            "max": 3453,
            "min": 0,
            "orientation": "horizontal",
            "style": "IPY_MODEL_b8421624742647bea9a2fd62e3023ac8",
            "value": 3453
          }
        },
        "3978d1d4cc2a408caa035ff874f9d6a1": {
          "model_module": "@jupyter-widgets/controls",
          "model_name": "HTMLModel",
          "model_module_version": "1.5.0",
          "state": {
            "_dom_classes": [],
            "_model_module": "@jupyter-widgets/controls",
            "_model_module_version": "1.5.0",
            "_model_name": "HTMLModel",
            "_view_count": null,
            "_view_module": "@jupyter-widgets/controls",
            "_view_module_version": "1.5.0",
            "_view_name": "HTMLView",
            "description": "",
            "description_tooltip": null,
            "layout": "IPY_MODEL_6b2fc13451e843999229186bf068f6ad",
            "placeholder": "​",
            "style": "IPY_MODEL_78f08c10f6f149a6b9bc41b281033d97",
            "value": " 3453/3453 [00:01&lt;00:00, 2965.05 examples/s]"
          }
        },
        "faa47ee5f60e44d190de518f84dc01c4": {
          "model_module": "@jupyter-widgets/base",
          "model_name": "LayoutModel",
          "model_module_version": "1.2.0",
          "state": {
            "_model_module": "@jupyter-widgets/base",
            "_model_module_version": "1.2.0",
            "_model_name": "LayoutModel",
            "_view_count": null,
            "_view_module": "@jupyter-widgets/base",
            "_view_module_version": "1.2.0",
            "_view_name": "LayoutView",
            "align_content": null,
            "align_items": null,
            "align_self": null,
            "border": null,
            "bottom": null,
            "display": null,
            "flex": null,
            "flex_flow": null,
            "grid_area": null,
            "grid_auto_columns": null,
            "grid_auto_flow": null,
            "grid_auto_rows": null,
            "grid_column": null,
            "grid_gap": null,
            "grid_row": null,
            "grid_template_areas": null,
            "grid_template_columns": null,
            "grid_template_rows": null,
            "height": null,
            "justify_content": null,
            "justify_items": null,
            "left": null,
            "margin": null,
            "max_height": null,
            "max_width": null,
            "min_height": null,
            "min_width": null,
            "object_fit": null,
            "object_position": null,
            "order": null,
            "overflow": null,
            "overflow_x": null,
            "overflow_y": null,
            "padding": null,
            "right": null,
            "top": null,
            "visibility": null,
            "width": null
          }
        },
        "27d117e872ac41bc8fc0097d4e216bab": {
          "model_module": "@jupyter-widgets/base",
          "model_name": "LayoutModel",
          "model_module_version": "1.2.0",
          "state": {
            "_model_module": "@jupyter-widgets/base",
            "_model_module_version": "1.2.0",
            "_model_name": "LayoutModel",
            "_view_count": null,
            "_view_module": "@jupyter-widgets/base",
            "_view_module_version": "1.2.0",
            "_view_name": "LayoutView",
            "align_content": null,
            "align_items": null,
            "align_self": null,
            "border": null,
            "bottom": null,
            "display": null,
            "flex": null,
            "flex_flow": null,
            "grid_area": null,
            "grid_auto_columns": null,
            "grid_auto_flow": null,
            "grid_auto_rows": null,
            "grid_column": null,
            "grid_gap": null,
            "grid_row": null,
            "grid_template_areas": null,
            "grid_template_columns": null,
            "grid_template_rows": null,
            "height": null,
            "justify_content": null,
            "justify_items": null,
            "left": null,
            "margin": null,
            "max_height": null,
            "max_width": null,
            "min_height": null,
            "min_width": null,
            "object_fit": null,
            "object_position": null,
            "order": null,
            "overflow": null,
            "overflow_x": null,
            "overflow_y": null,
            "padding": null,
            "right": null,
            "top": null,
            "visibility": null,
            "width": null
          }
        },
        "0bcf097a5c5a41fba930c06ca6e59a2b": {
          "model_module": "@jupyter-widgets/controls",
          "model_name": "DescriptionStyleModel",
          "model_module_version": "1.5.0",
          "state": {
            "_model_module": "@jupyter-widgets/controls",
            "_model_module_version": "1.5.0",
            "_model_name": "DescriptionStyleModel",
            "_view_count": null,
            "_view_module": "@jupyter-widgets/base",
            "_view_module_version": "1.2.0",
            "_view_name": "StyleView",
            "description_width": ""
          }
        },
        "db6ca8b9491b4baa8bd7e757e7bc1d42": {
          "model_module": "@jupyter-widgets/base",
          "model_name": "LayoutModel",
          "model_module_version": "1.2.0",
          "state": {
            "_model_module": "@jupyter-widgets/base",
            "_model_module_version": "1.2.0",
            "_model_name": "LayoutModel",
            "_view_count": null,
            "_view_module": "@jupyter-widgets/base",
            "_view_module_version": "1.2.0",
            "_view_name": "LayoutView",
            "align_content": null,
            "align_items": null,
            "align_self": null,
            "border": null,
            "bottom": null,
            "display": null,
            "flex": null,
            "flex_flow": null,
            "grid_area": null,
            "grid_auto_columns": null,
            "grid_auto_flow": null,
            "grid_auto_rows": null,
            "grid_column": null,
            "grid_gap": null,
            "grid_row": null,
            "grid_template_areas": null,
            "grid_template_columns": null,
            "grid_template_rows": null,
            "height": null,
            "justify_content": null,
            "justify_items": null,
            "left": null,
            "margin": null,
            "max_height": null,
            "max_width": null,
            "min_height": null,
            "min_width": null,
            "object_fit": null,
            "object_position": null,
            "order": null,
            "overflow": null,
            "overflow_x": null,
            "overflow_y": null,
            "padding": null,
            "right": null,
            "top": null,
            "visibility": null,
            "width": null
          }
        },
        "b8421624742647bea9a2fd62e3023ac8": {
          "model_module": "@jupyter-widgets/controls",
          "model_name": "ProgressStyleModel",
          "model_module_version": "1.5.0",
          "state": {
            "_model_module": "@jupyter-widgets/controls",
            "_model_module_version": "1.5.0",
            "_model_name": "ProgressStyleModel",
            "_view_count": null,
            "_view_module": "@jupyter-widgets/base",
            "_view_module_version": "1.2.0",
            "_view_name": "StyleView",
            "bar_color": null,
            "description_width": ""
          }
        },
        "6b2fc13451e843999229186bf068f6ad": {
          "model_module": "@jupyter-widgets/base",
          "model_name": "LayoutModel",
          "model_module_version": "1.2.0",
          "state": {
            "_model_module": "@jupyter-widgets/base",
            "_model_module_version": "1.2.0",
            "_model_name": "LayoutModel",
            "_view_count": null,
            "_view_module": "@jupyter-widgets/base",
            "_view_module_version": "1.2.0",
            "_view_name": "LayoutView",
            "align_content": null,
            "align_items": null,
            "align_self": null,
            "border": null,
            "bottom": null,
            "display": null,
            "flex": null,
            "flex_flow": null,
            "grid_area": null,
            "grid_auto_columns": null,
            "grid_auto_flow": null,
            "grid_auto_rows": null,
            "grid_column": null,
            "grid_gap": null,
            "grid_row": null,
            "grid_template_areas": null,
            "grid_template_columns": null,
            "grid_template_rows": null,
            "height": null,
            "justify_content": null,
            "justify_items": null,
            "left": null,
            "margin": null,
            "max_height": null,
            "max_width": null,
            "min_height": null,
            "min_width": null,
            "object_fit": null,
            "object_position": null,
            "order": null,
            "overflow": null,
            "overflow_x": null,
            "overflow_y": null,
            "padding": null,
            "right": null,
            "top": null,
            "visibility": null,
            "width": null
          }
        },
        "78f08c10f6f149a6b9bc41b281033d97": {
          "model_module": "@jupyter-widgets/controls",
          "model_name": "DescriptionStyleModel",
          "model_module_version": "1.5.0",
          "state": {
            "_model_module": "@jupyter-widgets/controls",
            "_model_module_version": "1.5.0",
            "_model_name": "DescriptionStyleModel",
            "_view_count": null,
            "_view_module": "@jupyter-widgets/base",
            "_view_module_version": "1.2.0",
            "_view_name": "StyleView",
            "description_width": ""
          }
        },
        "f8c3065bd9504c8f8cd085efa8080953": {
          "model_module": "@jupyter-widgets/controls",
          "model_name": "HBoxModel",
          "model_module_version": "1.5.0",
          "state": {
            "_dom_classes": [],
            "_model_module": "@jupyter-widgets/controls",
            "_model_module_version": "1.5.0",
            "_model_name": "HBoxModel",
            "_view_count": null,
            "_view_module": "@jupyter-widgets/controls",
            "_view_module_version": "1.5.0",
            "_view_name": "HBoxView",
            "box_style": "",
            "children": [
              "IPY_MODEL_3fceb449b27849ecbd204648bcd24ba3",
              "IPY_MODEL_964797cb16a44f4987eea8012c420722",
              "IPY_MODEL_385e5d2b5d464220b289d3c067bb3a6d"
            ],
            "layout": "IPY_MODEL_4722da5cef194d3f93d1116e52fe922c"
          }
        },
        "3fceb449b27849ecbd204648bcd24ba3": {
          "model_module": "@jupyter-widgets/controls",
          "model_name": "HTMLModel",
          "model_module_version": "1.5.0",
          "state": {
            "_dom_classes": [],
            "_model_module": "@jupyter-widgets/controls",
            "_model_module_version": "1.5.0",
            "_model_name": "HTMLModel",
            "_view_count": null,
            "_view_module": "@jupyter-widgets/controls",
            "_view_module_version": "1.5.0",
            "_view_name": "HTMLView",
            "description": "",
            "description_tooltip": null,
            "layout": "IPY_MODEL_ebf1a8b17d8c4356be2d3cd96d5e71b9",
            "placeholder": "​",
            "style": "IPY_MODEL_5f9de09f66404037a684f161dd84e32d",
            "value": "Downloading (…)okenizer_config.json: 100%"
          }
        },
        "964797cb16a44f4987eea8012c420722": {
          "model_module": "@jupyter-widgets/controls",
          "model_name": "FloatProgressModel",
          "model_module_version": "1.5.0",
          "state": {
            "_dom_classes": [],
            "_model_module": "@jupyter-widgets/controls",
            "_model_module_version": "1.5.0",
            "_model_name": "FloatProgressModel",
            "_view_count": null,
            "_view_module": "@jupyter-widgets/controls",
            "_view_module_version": "1.5.0",
            "_view_name": "ProgressView",
            "bar_style": "success",
            "description": "",
            "description_tooltip": null,
            "layout": "IPY_MODEL_1dbcf882381d4826b8b5b1ff6a5df578",
            "max": 28,
            "min": 0,
            "orientation": "horizontal",
            "style": "IPY_MODEL_cee309d5eb014e42b3ca1eeb9b3f99e5",
            "value": 28
          }
        },
        "385e5d2b5d464220b289d3c067bb3a6d": {
          "model_module": "@jupyter-widgets/controls",
          "model_name": "HTMLModel",
          "model_module_version": "1.5.0",
          "state": {
            "_dom_classes": [],
            "_model_module": "@jupyter-widgets/controls",
            "_model_module_version": "1.5.0",
            "_model_name": "HTMLModel",
            "_view_count": null,
            "_view_module": "@jupyter-widgets/controls",
            "_view_module_version": "1.5.0",
            "_view_name": "HTMLView",
            "description": "",
            "description_tooltip": null,
            "layout": "IPY_MODEL_7102474928344dfeb955e16d9fcf7dda",
            "placeholder": "​",
            "style": "IPY_MODEL_10a9670597f24c43ba61d7827ba6bd62",
            "value": " 28.0/28.0 [00:00&lt;00:00, 1.96kB/s]"
          }
        },
        "4722da5cef194d3f93d1116e52fe922c": {
          "model_module": "@jupyter-widgets/base",
          "model_name": "LayoutModel",
          "model_module_version": "1.2.0",
          "state": {
            "_model_module": "@jupyter-widgets/base",
            "_model_module_version": "1.2.0",
            "_model_name": "LayoutModel",
            "_view_count": null,
            "_view_module": "@jupyter-widgets/base",
            "_view_module_version": "1.2.0",
            "_view_name": "LayoutView",
            "align_content": null,
            "align_items": null,
            "align_self": null,
            "border": null,
            "bottom": null,
            "display": null,
            "flex": null,
            "flex_flow": null,
            "grid_area": null,
            "grid_auto_columns": null,
            "grid_auto_flow": null,
            "grid_auto_rows": null,
            "grid_column": null,
            "grid_gap": null,
            "grid_row": null,
            "grid_template_areas": null,
            "grid_template_columns": null,
            "grid_template_rows": null,
            "height": null,
            "justify_content": null,
            "justify_items": null,
            "left": null,
            "margin": null,
            "max_height": null,
            "max_width": null,
            "min_height": null,
            "min_width": null,
            "object_fit": null,
            "object_position": null,
            "order": null,
            "overflow": null,
            "overflow_x": null,
            "overflow_y": null,
            "padding": null,
            "right": null,
            "top": null,
            "visibility": null,
            "width": null
          }
        },
        "ebf1a8b17d8c4356be2d3cd96d5e71b9": {
          "model_module": "@jupyter-widgets/base",
          "model_name": "LayoutModel",
          "model_module_version": "1.2.0",
          "state": {
            "_model_module": "@jupyter-widgets/base",
            "_model_module_version": "1.2.0",
            "_model_name": "LayoutModel",
            "_view_count": null,
            "_view_module": "@jupyter-widgets/base",
            "_view_module_version": "1.2.0",
            "_view_name": "LayoutView",
            "align_content": null,
            "align_items": null,
            "align_self": null,
            "border": null,
            "bottom": null,
            "display": null,
            "flex": null,
            "flex_flow": null,
            "grid_area": null,
            "grid_auto_columns": null,
            "grid_auto_flow": null,
            "grid_auto_rows": null,
            "grid_column": null,
            "grid_gap": null,
            "grid_row": null,
            "grid_template_areas": null,
            "grid_template_columns": null,
            "grid_template_rows": null,
            "height": null,
            "justify_content": null,
            "justify_items": null,
            "left": null,
            "margin": null,
            "max_height": null,
            "max_width": null,
            "min_height": null,
            "min_width": null,
            "object_fit": null,
            "object_position": null,
            "order": null,
            "overflow": null,
            "overflow_x": null,
            "overflow_y": null,
            "padding": null,
            "right": null,
            "top": null,
            "visibility": null,
            "width": null
          }
        },
        "5f9de09f66404037a684f161dd84e32d": {
          "model_module": "@jupyter-widgets/controls",
          "model_name": "DescriptionStyleModel",
          "model_module_version": "1.5.0",
          "state": {
            "_model_module": "@jupyter-widgets/controls",
            "_model_module_version": "1.5.0",
            "_model_name": "DescriptionStyleModel",
            "_view_count": null,
            "_view_module": "@jupyter-widgets/base",
            "_view_module_version": "1.2.0",
            "_view_name": "StyleView",
            "description_width": ""
          }
        },
        "1dbcf882381d4826b8b5b1ff6a5df578": {
          "model_module": "@jupyter-widgets/base",
          "model_name": "LayoutModel",
          "model_module_version": "1.2.0",
          "state": {
            "_model_module": "@jupyter-widgets/base",
            "_model_module_version": "1.2.0",
            "_model_name": "LayoutModel",
            "_view_count": null,
            "_view_module": "@jupyter-widgets/base",
            "_view_module_version": "1.2.0",
            "_view_name": "LayoutView",
            "align_content": null,
            "align_items": null,
            "align_self": null,
            "border": null,
            "bottom": null,
            "display": null,
            "flex": null,
            "flex_flow": null,
            "grid_area": null,
            "grid_auto_columns": null,
            "grid_auto_flow": null,
            "grid_auto_rows": null,
            "grid_column": null,
            "grid_gap": null,
            "grid_row": null,
            "grid_template_areas": null,
            "grid_template_columns": null,
            "grid_template_rows": null,
            "height": null,
            "justify_content": null,
            "justify_items": null,
            "left": null,
            "margin": null,
            "max_height": null,
            "max_width": null,
            "min_height": null,
            "min_width": null,
            "object_fit": null,
            "object_position": null,
            "order": null,
            "overflow": null,
            "overflow_x": null,
            "overflow_y": null,
            "padding": null,
            "right": null,
            "top": null,
            "visibility": null,
            "width": null
          }
        },
        "cee309d5eb014e42b3ca1eeb9b3f99e5": {
          "model_module": "@jupyter-widgets/controls",
          "model_name": "ProgressStyleModel",
          "model_module_version": "1.5.0",
          "state": {
            "_model_module": "@jupyter-widgets/controls",
            "_model_module_version": "1.5.0",
            "_model_name": "ProgressStyleModel",
            "_view_count": null,
            "_view_module": "@jupyter-widgets/base",
            "_view_module_version": "1.2.0",
            "_view_name": "StyleView",
            "bar_color": null,
            "description_width": ""
          }
        },
        "7102474928344dfeb955e16d9fcf7dda": {
          "model_module": "@jupyter-widgets/base",
          "model_name": "LayoutModel",
          "model_module_version": "1.2.0",
          "state": {
            "_model_module": "@jupyter-widgets/base",
            "_model_module_version": "1.2.0",
            "_model_name": "LayoutModel",
            "_view_count": null,
            "_view_module": "@jupyter-widgets/base",
            "_view_module_version": "1.2.0",
            "_view_name": "LayoutView",
            "align_content": null,
            "align_items": null,
            "align_self": null,
            "border": null,
            "bottom": null,
            "display": null,
            "flex": null,
            "flex_flow": null,
            "grid_area": null,
            "grid_auto_columns": null,
            "grid_auto_flow": null,
            "grid_auto_rows": null,
            "grid_column": null,
            "grid_gap": null,
            "grid_row": null,
            "grid_template_areas": null,
            "grid_template_columns": null,
            "grid_template_rows": null,
            "height": null,
            "justify_content": null,
            "justify_items": null,
            "left": null,
            "margin": null,
            "max_height": null,
            "max_width": null,
            "min_height": null,
            "min_width": null,
            "object_fit": null,
            "object_position": null,
            "order": null,
            "overflow": null,
            "overflow_x": null,
            "overflow_y": null,
            "padding": null,
            "right": null,
            "top": null,
            "visibility": null,
            "width": null
          }
        },
        "10a9670597f24c43ba61d7827ba6bd62": {
          "model_module": "@jupyter-widgets/controls",
          "model_name": "DescriptionStyleModel",
          "model_module_version": "1.5.0",
          "state": {
            "_model_module": "@jupyter-widgets/controls",
            "_model_module_version": "1.5.0",
            "_model_name": "DescriptionStyleModel",
            "_view_count": null,
            "_view_module": "@jupyter-widgets/base",
            "_view_module_version": "1.2.0",
            "_view_name": "StyleView",
            "description_width": ""
          }
        },
        "38140dd48aa747f180009ea5a3ca76f6": {
          "model_module": "@jupyter-widgets/controls",
          "model_name": "HBoxModel",
          "model_module_version": "1.5.0",
          "state": {
            "_dom_classes": [],
            "_model_module": "@jupyter-widgets/controls",
            "_model_module_version": "1.5.0",
            "_model_name": "HBoxModel",
            "_view_count": null,
            "_view_module": "@jupyter-widgets/controls",
            "_view_module_version": "1.5.0",
            "_view_name": "HBoxView",
            "box_style": "",
            "children": [
              "IPY_MODEL_39929e252b404f258fd1bce8974fc02c",
              "IPY_MODEL_9c22a6d4dfff43988f70b24bf6dc1340",
              "IPY_MODEL_f11bd8729c5b4c849d71a5ee521d959d"
            ],
            "layout": "IPY_MODEL_02dac5c1bab9488f831829be11253859"
          }
        },
        "39929e252b404f258fd1bce8974fc02c": {
          "model_module": "@jupyter-widgets/controls",
          "model_name": "HTMLModel",
          "model_module_version": "1.5.0",
          "state": {
            "_dom_classes": [],
            "_model_module": "@jupyter-widgets/controls",
            "_model_module_version": "1.5.0",
            "_model_name": "HTMLModel",
            "_view_count": null,
            "_view_module": "@jupyter-widgets/controls",
            "_view_module_version": "1.5.0",
            "_view_name": "HTMLView",
            "description": "",
            "description_tooltip": null,
            "layout": "IPY_MODEL_a37ed9a9fc49415f973e49806a36f410",
            "placeholder": "​",
            "style": "IPY_MODEL_50a4e4ed23d844bd8108a3a8d20299a7",
            "value": "Downloading (…)lve/main/config.json: 100%"
          }
        },
        "9c22a6d4dfff43988f70b24bf6dc1340": {
          "model_module": "@jupyter-widgets/controls",
          "model_name": "FloatProgressModel",
          "model_module_version": "1.5.0",
          "state": {
            "_dom_classes": [],
            "_model_module": "@jupyter-widgets/controls",
            "_model_module_version": "1.5.0",
            "_model_name": "FloatProgressModel",
            "_view_count": null,
            "_view_module": "@jupyter-widgets/controls",
            "_view_module_version": "1.5.0",
            "_view_name": "ProgressView",
            "bar_style": "success",
            "description": "",
            "description_tooltip": null,
            "layout": "IPY_MODEL_43bf124a6e654601afedbb798539b570",
            "max": 483,
            "min": 0,
            "orientation": "horizontal",
            "style": "IPY_MODEL_0f0737228444420aaa6d66a07158359c",
            "value": 483
          }
        },
        "f11bd8729c5b4c849d71a5ee521d959d": {
          "model_module": "@jupyter-widgets/controls",
          "model_name": "HTMLModel",
          "model_module_version": "1.5.0",
          "state": {
            "_dom_classes": [],
            "_model_module": "@jupyter-widgets/controls",
            "_model_module_version": "1.5.0",
            "_model_name": "HTMLModel",
            "_view_count": null,
            "_view_module": "@jupyter-widgets/controls",
            "_view_module_version": "1.5.0",
            "_view_name": "HTMLView",
            "description": "",
            "description_tooltip": null,
            "layout": "IPY_MODEL_0ec4b086e99b45b896b88e7df4f90fcd",
            "placeholder": "​",
            "style": "IPY_MODEL_a532f2e952a84f379d5675a5df19ca86",
            "value": " 483/483 [00:00&lt;00:00, 19.1kB/s]"
          }
        },
        "02dac5c1bab9488f831829be11253859": {
          "model_module": "@jupyter-widgets/base",
          "model_name": "LayoutModel",
          "model_module_version": "1.2.0",
          "state": {
            "_model_module": "@jupyter-widgets/base",
            "_model_module_version": "1.2.0",
            "_model_name": "LayoutModel",
            "_view_count": null,
            "_view_module": "@jupyter-widgets/base",
            "_view_module_version": "1.2.0",
            "_view_name": "LayoutView",
            "align_content": null,
            "align_items": null,
            "align_self": null,
            "border": null,
            "bottom": null,
            "display": null,
            "flex": null,
            "flex_flow": null,
            "grid_area": null,
            "grid_auto_columns": null,
            "grid_auto_flow": null,
            "grid_auto_rows": null,
            "grid_column": null,
            "grid_gap": null,
            "grid_row": null,
            "grid_template_areas": null,
            "grid_template_columns": null,
            "grid_template_rows": null,
            "height": null,
            "justify_content": null,
            "justify_items": null,
            "left": null,
            "margin": null,
            "max_height": null,
            "max_width": null,
            "min_height": null,
            "min_width": null,
            "object_fit": null,
            "object_position": null,
            "order": null,
            "overflow": null,
            "overflow_x": null,
            "overflow_y": null,
            "padding": null,
            "right": null,
            "top": null,
            "visibility": null,
            "width": null
          }
        },
        "a37ed9a9fc49415f973e49806a36f410": {
          "model_module": "@jupyter-widgets/base",
          "model_name": "LayoutModel",
          "model_module_version": "1.2.0",
          "state": {
            "_model_module": "@jupyter-widgets/base",
            "_model_module_version": "1.2.0",
            "_model_name": "LayoutModel",
            "_view_count": null,
            "_view_module": "@jupyter-widgets/base",
            "_view_module_version": "1.2.0",
            "_view_name": "LayoutView",
            "align_content": null,
            "align_items": null,
            "align_self": null,
            "border": null,
            "bottom": null,
            "display": null,
            "flex": null,
            "flex_flow": null,
            "grid_area": null,
            "grid_auto_columns": null,
            "grid_auto_flow": null,
            "grid_auto_rows": null,
            "grid_column": null,
            "grid_gap": null,
            "grid_row": null,
            "grid_template_areas": null,
            "grid_template_columns": null,
            "grid_template_rows": null,
            "height": null,
            "justify_content": null,
            "justify_items": null,
            "left": null,
            "margin": null,
            "max_height": null,
            "max_width": null,
            "min_height": null,
            "min_width": null,
            "object_fit": null,
            "object_position": null,
            "order": null,
            "overflow": null,
            "overflow_x": null,
            "overflow_y": null,
            "padding": null,
            "right": null,
            "top": null,
            "visibility": null,
            "width": null
          }
        },
        "50a4e4ed23d844bd8108a3a8d20299a7": {
          "model_module": "@jupyter-widgets/controls",
          "model_name": "DescriptionStyleModel",
          "model_module_version": "1.5.0",
          "state": {
            "_model_module": "@jupyter-widgets/controls",
            "_model_module_version": "1.5.0",
            "_model_name": "DescriptionStyleModel",
            "_view_count": null,
            "_view_module": "@jupyter-widgets/base",
            "_view_module_version": "1.2.0",
            "_view_name": "StyleView",
            "description_width": ""
          }
        },
        "43bf124a6e654601afedbb798539b570": {
          "model_module": "@jupyter-widgets/base",
          "model_name": "LayoutModel",
          "model_module_version": "1.2.0",
          "state": {
            "_model_module": "@jupyter-widgets/base",
            "_model_module_version": "1.2.0",
            "_model_name": "LayoutModel",
            "_view_count": null,
            "_view_module": "@jupyter-widgets/base",
            "_view_module_version": "1.2.0",
            "_view_name": "LayoutView",
            "align_content": null,
            "align_items": null,
            "align_self": null,
            "border": null,
            "bottom": null,
            "display": null,
            "flex": null,
            "flex_flow": null,
            "grid_area": null,
            "grid_auto_columns": null,
            "grid_auto_flow": null,
            "grid_auto_rows": null,
            "grid_column": null,
            "grid_gap": null,
            "grid_row": null,
            "grid_template_areas": null,
            "grid_template_columns": null,
            "grid_template_rows": null,
            "height": null,
            "justify_content": null,
            "justify_items": null,
            "left": null,
            "margin": null,
            "max_height": null,
            "max_width": null,
            "min_height": null,
            "min_width": null,
            "object_fit": null,
            "object_position": null,
            "order": null,
            "overflow": null,
            "overflow_x": null,
            "overflow_y": null,
            "padding": null,
            "right": null,
            "top": null,
            "visibility": null,
            "width": null
          }
        },
        "0f0737228444420aaa6d66a07158359c": {
          "model_module": "@jupyter-widgets/controls",
          "model_name": "ProgressStyleModel",
          "model_module_version": "1.5.0",
          "state": {
            "_model_module": "@jupyter-widgets/controls",
            "_model_module_version": "1.5.0",
            "_model_name": "ProgressStyleModel",
            "_view_count": null,
            "_view_module": "@jupyter-widgets/base",
            "_view_module_version": "1.2.0",
            "_view_name": "StyleView",
            "bar_color": null,
            "description_width": ""
          }
        },
        "0ec4b086e99b45b896b88e7df4f90fcd": {
          "model_module": "@jupyter-widgets/base",
          "model_name": "LayoutModel",
          "model_module_version": "1.2.0",
          "state": {
            "_model_module": "@jupyter-widgets/base",
            "_model_module_version": "1.2.0",
            "_model_name": "LayoutModel",
            "_view_count": null,
            "_view_module": "@jupyter-widgets/base",
            "_view_module_version": "1.2.0",
            "_view_name": "LayoutView",
            "align_content": null,
            "align_items": null,
            "align_self": null,
            "border": null,
            "bottom": null,
            "display": null,
            "flex": null,
            "flex_flow": null,
            "grid_area": null,
            "grid_auto_columns": null,
            "grid_auto_flow": null,
            "grid_auto_rows": null,
            "grid_column": null,
            "grid_gap": null,
            "grid_row": null,
            "grid_template_areas": null,
            "grid_template_columns": null,
            "grid_template_rows": null,
            "height": null,
            "justify_content": null,
            "justify_items": null,
            "left": null,
            "margin": null,
            "max_height": null,
            "max_width": null,
            "min_height": null,
            "min_width": null,
            "object_fit": null,
            "object_position": null,
            "order": null,
            "overflow": null,
            "overflow_x": null,
            "overflow_y": null,
            "padding": null,
            "right": null,
            "top": null,
            "visibility": null,
            "width": null
          }
        },
        "a532f2e952a84f379d5675a5df19ca86": {
          "model_module": "@jupyter-widgets/controls",
          "model_name": "DescriptionStyleModel",
          "model_module_version": "1.5.0",
          "state": {
            "_model_module": "@jupyter-widgets/controls",
            "_model_module_version": "1.5.0",
            "_model_name": "DescriptionStyleModel",
            "_view_count": null,
            "_view_module": "@jupyter-widgets/base",
            "_view_module_version": "1.2.0",
            "_view_name": "StyleView",
            "description_width": ""
          }
        },
        "d174c07921fd4232b1ac0a2f5863434c": {
          "model_module": "@jupyter-widgets/controls",
          "model_name": "HBoxModel",
          "model_module_version": "1.5.0",
          "state": {
            "_dom_classes": [],
            "_model_module": "@jupyter-widgets/controls",
            "_model_module_version": "1.5.0",
            "_model_name": "HBoxModel",
            "_view_count": null,
            "_view_module": "@jupyter-widgets/controls",
            "_view_module_version": "1.5.0",
            "_view_name": "HBoxView",
            "box_style": "",
            "children": [
              "IPY_MODEL_4e194544e9de40b89c2a6a8d9e44a621",
              "IPY_MODEL_024c493cf3a34815ba539f8927bc5c1e",
              "IPY_MODEL_3600de8d2d234763b442ceaa434c419a"
            ],
            "layout": "IPY_MODEL_6b8f1d976dc7465fbb7ed626f95b5f2b"
          }
        },
        "4e194544e9de40b89c2a6a8d9e44a621": {
          "model_module": "@jupyter-widgets/controls",
          "model_name": "HTMLModel",
          "model_module_version": "1.5.0",
          "state": {
            "_dom_classes": [],
            "_model_module": "@jupyter-widgets/controls",
            "_model_module_version": "1.5.0",
            "_model_name": "HTMLModel",
            "_view_count": null,
            "_view_module": "@jupyter-widgets/controls",
            "_view_module_version": "1.5.0",
            "_view_name": "HTMLView",
            "description": "",
            "description_tooltip": null,
            "layout": "IPY_MODEL_74642e0a7360407c96e21d0d92e71838",
            "placeholder": "​",
            "style": "IPY_MODEL_571a96dd51a94e539ed3a4427dfd1ce5",
            "value": "Downloading (…)solve/main/vocab.txt: 100%"
          }
        },
        "024c493cf3a34815ba539f8927bc5c1e": {
          "model_module": "@jupyter-widgets/controls",
          "model_name": "FloatProgressModel",
          "model_module_version": "1.5.0",
          "state": {
            "_dom_classes": [],
            "_model_module": "@jupyter-widgets/controls",
            "_model_module_version": "1.5.0",
            "_model_name": "FloatProgressModel",
            "_view_count": null,
            "_view_module": "@jupyter-widgets/controls",
            "_view_module_version": "1.5.0",
            "_view_name": "ProgressView",
            "bar_style": "success",
            "description": "",
            "description_tooltip": null,
            "layout": "IPY_MODEL_750716396ed94f7f88b1d3208dcbf623",
            "max": 231508,
            "min": 0,
            "orientation": "horizontal",
            "style": "IPY_MODEL_03354061cafb408693c2672d150f6c91",
            "value": 231508
          }
        },
        "3600de8d2d234763b442ceaa434c419a": {
          "model_module": "@jupyter-widgets/controls",
          "model_name": "HTMLModel",
          "model_module_version": "1.5.0",
          "state": {
            "_dom_classes": [],
            "_model_module": "@jupyter-widgets/controls",
            "_model_module_version": "1.5.0",
            "_model_name": "HTMLModel",
            "_view_count": null,
            "_view_module": "@jupyter-widgets/controls",
            "_view_module_version": "1.5.0",
            "_view_name": "HTMLView",
            "description": "",
            "description_tooltip": null,
            "layout": "IPY_MODEL_f57b0915614b409eaa9b001e1db57e46",
            "placeholder": "​",
            "style": "IPY_MODEL_0c83eff26bb6414ca22ed4b58a0afe27",
            "value": " 232k/232k [00:00&lt;00:00, 6.12MB/s]"
          }
        },
        "6b8f1d976dc7465fbb7ed626f95b5f2b": {
          "model_module": "@jupyter-widgets/base",
          "model_name": "LayoutModel",
          "model_module_version": "1.2.0",
          "state": {
            "_model_module": "@jupyter-widgets/base",
            "_model_module_version": "1.2.0",
            "_model_name": "LayoutModel",
            "_view_count": null,
            "_view_module": "@jupyter-widgets/base",
            "_view_module_version": "1.2.0",
            "_view_name": "LayoutView",
            "align_content": null,
            "align_items": null,
            "align_self": null,
            "border": null,
            "bottom": null,
            "display": null,
            "flex": null,
            "flex_flow": null,
            "grid_area": null,
            "grid_auto_columns": null,
            "grid_auto_flow": null,
            "grid_auto_rows": null,
            "grid_column": null,
            "grid_gap": null,
            "grid_row": null,
            "grid_template_areas": null,
            "grid_template_columns": null,
            "grid_template_rows": null,
            "height": null,
            "justify_content": null,
            "justify_items": null,
            "left": null,
            "margin": null,
            "max_height": null,
            "max_width": null,
            "min_height": null,
            "min_width": null,
            "object_fit": null,
            "object_position": null,
            "order": null,
            "overflow": null,
            "overflow_x": null,
            "overflow_y": null,
            "padding": null,
            "right": null,
            "top": null,
            "visibility": null,
            "width": null
          }
        },
        "74642e0a7360407c96e21d0d92e71838": {
          "model_module": "@jupyter-widgets/base",
          "model_name": "LayoutModel",
          "model_module_version": "1.2.0",
          "state": {
            "_model_module": "@jupyter-widgets/base",
            "_model_module_version": "1.2.0",
            "_model_name": "LayoutModel",
            "_view_count": null,
            "_view_module": "@jupyter-widgets/base",
            "_view_module_version": "1.2.0",
            "_view_name": "LayoutView",
            "align_content": null,
            "align_items": null,
            "align_self": null,
            "border": null,
            "bottom": null,
            "display": null,
            "flex": null,
            "flex_flow": null,
            "grid_area": null,
            "grid_auto_columns": null,
            "grid_auto_flow": null,
            "grid_auto_rows": null,
            "grid_column": null,
            "grid_gap": null,
            "grid_row": null,
            "grid_template_areas": null,
            "grid_template_columns": null,
            "grid_template_rows": null,
            "height": null,
            "justify_content": null,
            "justify_items": null,
            "left": null,
            "margin": null,
            "max_height": null,
            "max_width": null,
            "min_height": null,
            "min_width": null,
            "object_fit": null,
            "object_position": null,
            "order": null,
            "overflow": null,
            "overflow_x": null,
            "overflow_y": null,
            "padding": null,
            "right": null,
            "top": null,
            "visibility": null,
            "width": null
          }
        },
        "571a96dd51a94e539ed3a4427dfd1ce5": {
          "model_module": "@jupyter-widgets/controls",
          "model_name": "DescriptionStyleModel",
          "model_module_version": "1.5.0",
          "state": {
            "_model_module": "@jupyter-widgets/controls",
            "_model_module_version": "1.5.0",
            "_model_name": "DescriptionStyleModel",
            "_view_count": null,
            "_view_module": "@jupyter-widgets/base",
            "_view_module_version": "1.2.0",
            "_view_name": "StyleView",
            "description_width": ""
          }
        },
        "750716396ed94f7f88b1d3208dcbf623": {
          "model_module": "@jupyter-widgets/base",
          "model_name": "LayoutModel",
          "model_module_version": "1.2.0",
          "state": {
            "_model_module": "@jupyter-widgets/base",
            "_model_module_version": "1.2.0",
            "_model_name": "LayoutModel",
            "_view_count": null,
            "_view_module": "@jupyter-widgets/base",
            "_view_module_version": "1.2.0",
            "_view_name": "LayoutView",
            "align_content": null,
            "align_items": null,
            "align_self": null,
            "border": null,
            "bottom": null,
            "display": null,
            "flex": null,
            "flex_flow": null,
            "grid_area": null,
            "grid_auto_columns": null,
            "grid_auto_flow": null,
            "grid_auto_rows": null,
            "grid_column": null,
            "grid_gap": null,
            "grid_row": null,
            "grid_template_areas": null,
            "grid_template_columns": null,
            "grid_template_rows": null,
            "height": null,
            "justify_content": null,
            "justify_items": null,
            "left": null,
            "margin": null,
            "max_height": null,
            "max_width": null,
            "min_height": null,
            "min_width": null,
            "object_fit": null,
            "object_position": null,
            "order": null,
            "overflow": null,
            "overflow_x": null,
            "overflow_y": null,
            "padding": null,
            "right": null,
            "top": null,
            "visibility": null,
            "width": null
          }
        },
        "03354061cafb408693c2672d150f6c91": {
          "model_module": "@jupyter-widgets/controls",
          "model_name": "ProgressStyleModel",
          "model_module_version": "1.5.0",
          "state": {
            "_model_module": "@jupyter-widgets/controls",
            "_model_module_version": "1.5.0",
            "_model_name": "ProgressStyleModel",
            "_view_count": null,
            "_view_module": "@jupyter-widgets/base",
            "_view_module_version": "1.2.0",
            "_view_name": "StyleView",
            "bar_color": null,
            "description_width": ""
          }
        },
        "f57b0915614b409eaa9b001e1db57e46": {
          "model_module": "@jupyter-widgets/base",
          "model_name": "LayoutModel",
          "model_module_version": "1.2.0",
          "state": {
            "_model_module": "@jupyter-widgets/base",
            "_model_module_version": "1.2.0",
            "_model_name": "LayoutModel",
            "_view_count": null,
            "_view_module": "@jupyter-widgets/base",
            "_view_module_version": "1.2.0",
            "_view_name": "LayoutView",
            "align_content": null,
            "align_items": null,
            "align_self": null,
            "border": null,
            "bottom": null,
            "display": null,
            "flex": null,
            "flex_flow": null,
            "grid_area": null,
            "grid_auto_columns": null,
            "grid_auto_flow": null,
            "grid_auto_rows": null,
            "grid_column": null,
            "grid_gap": null,
            "grid_row": null,
            "grid_template_areas": null,
            "grid_template_columns": null,
            "grid_template_rows": null,
            "height": null,
            "justify_content": null,
            "justify_items": null,
            "left": null,
            "margin": null,
            "max_height": null,
            "max_width": null,
            "min_height": null,
            "min_width": null,
            "object_fit": null,
            "object_position": null,
            "order": null,
            "overflow": null,
            "overflow_x": null,
            "overflow_y": null,
            "padding": null,
            "right": null,
            "top": null,
            "visibility": null,
            "width": null
          }
        },
        "0c83eff26bb6414ca22ed4b58a0afe27": {
          "model_module": "@jupyter-widgets/controls",
          "model_name": "DescriptionStyleModel",
          "model_module_version": "1.5.0",
          "state": {
            "_model_module": "@jupyter-widgets/controls",
            "_model_module_version": "1.5.0",
            "_model_name": "DescriptionStyleModel",
            "_view_count": null,
            "_view_module": "@jupyter-widgets/base",
            "_view_module_version": "1.2.0",
            "_view_name": "StyleView",
            "description_width": ""
          }
        },
        "8eca81afdb4b4181b2f9f437de51ead3": {
          "model_module": "@jupyter-widgets/controls",
          "model_name": "HBoxModel",
          "model_module_version": "1.5.0",
          "state": {
            "_dom_classes": [],
            "_model_module": "@jupyter-widgets/controls",
            "_model_module_version": "1.5.0",
            "_model_name": "HBoxModel",
            "_view_count": null,
            "_view_module": "@jupyter-widgets/controls",
            "_view_module_version": "1.5.0",
            "_view_name": "HBoxView",
            "box_style": "",
            "children": [
              "IPY_MODEL_63f6519f65714811a85977ff3a05f9b3",
              "IPY_MODEL_6f9003842062413f80184cf53d49f6bb",
              "IPY_MODEL_c096ed4054364e6383135db5265ae870"
            ],
            "layout": "IPY_MODEL_71c5f412f813472f8e2cea8d2812fc14"
          }
        },
        "63f6519f65714811a85977ff3a05f9b3": {
          "model_module": "@jupyter-widgets/controls",
          "model_name": "HTMLModel",
          "model_module_version": "1.5.0",
          "state": {
            "_dom_classes": [],
            "_model_module": "@jupyter-widgets/controls",
            "_model_module_version": "1.5.0",
            "_model_name": "HTMLModel",
            "_view_count": null,
            "_view_module": "@jupyter-widgets/controls",
            "_view_module_version": "1.5.0",
            "_view_name": "HTMLView",
            "description": "",
            "description_tooltip": null,
            "layout": "IPY_MODEL_45a41a630206442e86390baa84c602aa",
            "placeholder": "​",
            "style": "IPY_MODEL_43079de2bd24431f8347781a847874bd",
            "value": "Downloading (…)/main/tokenizer.json: 100%"
          }
        },
        "6f9003842062413f80184cf53d49f6bb": {
          "model_module": "@jupyter-widgets/controls",
          "model_name": "FloatProgressModel",
          "model_module_version": "1.5.0",
          "state": {
            "_dom_classes": [],
            "_model_module": "@jupyter-widgets/controls",
            "_model_module_version": "1.5.0",
            "_model_name": "FloatProgressModel",
            "_view_count": null,
            "_view_module": "@jupyter-widgets/controls",
            "_view_module_version": "1.5.0",
            "_view_name": "ProgressView",
            "bar_style": "success",
            "description": "",
            "description_tooltip": null,
            "layout": "IPY_MODEL_7a6766bc908543e39fbfd4fcde8d4e7d",
            "max": 466062,
            "min": 0,
            "orientation": "horizontal",
            "style": "IPY_MODEL_5780da05a70c4de396051ad1325640fc",
            "value": 466062
          }
        },
        "c096ed4054364e6383135db5265ae870": {
          "model_module": "@jupyter-widgets/controls",
          "model_name": "HTMLModel",
          "model_module_version": "1.5.0",
          "state": {
            "_dom_classes": [],
            "_model_module": "@jupyter-widgets/controls",
            "_model_module_version": "1.5.0",
            "_model_name": "HTMLModel",
            "_view_count": null,
            "_view_module": "@jupyter-widgets/controls",
            "_view_module_version": "1.5.0",
            "_view_name": "HTMLView",
            "description": "",
            "description_tooltip": null,
            "layout": "IPY_MODEL_f0f5c6b667f44dffae4964358ab8f78b",
            "placeholder": "​",
            "style": "IPY_MODEL_25f7fcd07298456c8daf615b2e287e54",
            "value": " 466k/466k [00:00&lt;00:00, 2.88MB/s]"
          }
        },
        "71c5f412f813472f8e2cea8d2812fc14": {
          "model_module": "@jupyter-widgets/base",
          "model_name": "LayoutModel",
          "model_module_version": "1.2.0",
          "state": {
            "_model_module": "@jupyter-widgets/base",
            "_model_module_version": "1.2.0",
            "_model_name": "LayoutModel",
            "_view_count": null,
            "_view_module": "@jupyter-widgets/base",
            "_view_module_version": "1.2.0",
            "_view_name": "LayoutView",
            "align_content": null,
            "align_items": null,
            "align_self": null,
            "border": null,
            "bottom": null,
            "display": null,
            "flex": null,
            "flex_flow": null,
            "grid_area": null,
            "grid_auto_columns": null,
            "grid_auto_flow": null,
            "grid_auto_rows": null,
            "grid_column": null,
            "grid_gap": null,
            "grid_row": null,
            "grid_template_areas": null,
            "grid_template_columns": null,
            "grid_template_rows": null,
            "height": null,
            "justify_content": null,
            "justify_items": null,
            "left": null,
            "margin": null,
            "max_height": null,
            "max_width": null,
            "min_height": null,
            "min_width": null,
            "object_fit": null,
            "object_position": null,
            "order": null,
            "overflow": null,
            "overflow_x": null,
            "overflow_y": null,
            "padding": null,
            "right": null,
            "top": null,
            "visibility": null,
            "width": null
          }
        },
        "45a41a630206442e86390baa84c602aa": {
          "model_module": "@jupyter-widgets/base",
          "model_name": "LayoutModel",
          "model_module_version": "1.2.0",
          "state": {
            "_model_module": "@jupyter-widgets/base",
            "_model_module_version": "1.2.0",
            "_model_name": "LayoutModel",
            "_view_count": null,
            "_view_module": "@jupyter-widgets/base",
            "_view_module_version": "1.2.0",
            "_view_name": "LayoutView",
            "align_content": null,
            "align_items": null,
            "align_self": null,
            "border": null,
            "bottom": null,
            "display": null,
            "flex": null,
            "flex_flow": null,
            "grid_area": null,
            "grid_auto_columns": null,
            "grid_auto_flow": null,
            "grid_auto_rows": null,
            "grid_column": null,
            "grid_gap": null,
            "grid_row": null,
            "grid_template_areas": null,
            "grid_template_columns": null,
            "grid_template_rows": null,
            "height": null,
            "justify_content": null,
            "justify_items": null,
            "left": null,
            "margin": null,
            "max_height": null,
            "max_width": null,
            "min_height": null,
            "min_width": null,
            "object_fit": null,
            "object_position": null,
            "order": null,
            "overflow": null,
            "overflow_x": null,
            "overflow_y": null,
            "padding": null,
            "right": null,
            "top": null,
            "visibility": null,
            "width": null
          }
        },
        "43079de2bd24431f8347781a847874bd": {
          "model_module": "@jupyter-widgets/controls",
          "model_name": "DescriptionStyleModel",
          "model_module_version": "1.5.0",
          "state": {
            "_model_module": "@jupyter-widgets/controls",
            "_model_module_version": "1.5.0",
            "_model_name": "DescriptionStyleModel",
            "_view_count": null,
            "_view_module": "@jupyter-widgets/base",
            "_view_module_version": "1.2.0",
            "_view_name": "StyleView",
            "description_width": ""
          }
        },
        "7a6766bc908543e39fbfd4fcde8d4e7d": {
          "model_module": "@jupyter-widgets/base",
          "model_name": "LayoutModel",
          "model_module_version": "1.2.0",
          "state": {
            "_model_module": "@jupyter-widgets/base",
            "_model_module_version": "1.2.0",
            "_model_name": "LayoutModel",
            "_view_count": null,
            "_view_module": "@jupyter-widgets/base",
            "_view_module_version": "1.2.0",
            "_view_name": "LayoutView",
            "align_content": null,
            "align_items": null,
            "align_self": null,
            "border": null,
            "bottom": null,
            "display": null,
            "flex": null,
            "flex_flow": null,
            "grid_area": null,
            "grid_auto_columns": null,
            "grid_auto_flow": null,
            "grid_auto_rows": null,
            "grid_column": null,
            "grid_gap": null,
            "grid_row": null,
            "grid_template_areas": null,
            "grid_template_columns": null,
            "grid_template_rows": null,
            "height": null,
            "justify_content": null,
            "justify_items": null,
            "left": null,
            "margin": null,
            "max_height": null,
            "max_width": null,
            "min_height": null,
            "min_width": null,
            "object_fit": null,
            "object_position": null,
            "order": null,
            "overflow": null,
            "overflow_x": null,
            "overflow_y": null,
            "padding": null,
            "right": null,
            "top": null,
            "visibility": null,
            "width": null
          }
        },
        "5780da05a70c4de396051ad1325640fc": {
          "model_module": "@jupyter-widgets/controls",
          "model_name": "ProgressStyleModel",
          "model_module_version": "1.5.0",
          "state": {
            "_model_module": "@jupyter-widgets/controls",
            "_model_module_version": "1.5.0",
            "_model_name": "ProgressStyleModel",
            "_view_count": null,
            "_view_module": "@jupyter-widgets/base",
            "_view_module_version": "1.2.0",
            "_view_name": "StyleView",
            "bar_color": null,
            "description_width": ""
          }
        },
        "f0f5c6b667f44dffae4964358ab8f78b": {
          "model_module": "@jupyter-widgets/base",
          "model_name": "LayoutModel",
          "model_module_version": "1.2.0",
          "state": {
            "_model_module": "@jupyter-widgets/base",
            "_model_module_version": "1.2.0",
            "_model_name": "LayoutModel",
            "_view_count": null,
            "_view_module": "@jupyter-widgets/base",
            "_view_module_version": "1.2.0",
            "_view_name": "LayoutView",
            "align_content": null,
            "align_items": null,
            "align_self": null,
            "border": null,
            "bottom": null,
            "display": null,
            "flex": null,
            "flex_flow": null,
            "grid_area": null,
            "grid_auto_columns": null,
            "grid_auto_flow": null,
            "grid_auto_rows": null,
            "grid_column": null,
            "grid_gap": null,
            "grid_row": null,
            "grid_template_areas": null,
            "grid_template_columns": null,
            "grid_template_rows": null,
            "height": null,
            "justify_content": null,
            "justify_items": null,
            "left": null,
            "margin": null,
            "max_height": null,
            "max_width": null,
            "min_height": null,
            "min_width": null,
            "object_fit": null,
            "object_position": null,
            "order": null,
            "overflow": null,
            "overflow_x": null,
            "overflow_y": null,
            "padding": null,
            "right": null,
            "top": null,
            "visibility": null,
            "width": null
          }
        },
        "25f7fcd07298456c8daf615b2e287e54": {
          "model_module": "@jupyter-widgets/controls",
          "model_name": "DescriptionStyleModel",
          "model_module_version": "1.5.0",
          "state": {
            "_model_module": "@jupyter-widgets/controls",
            "_model_module_version": "1.5.0",
            "_model_name": "DescriptionStyleModel",
            "_view_count": null,
            "_view_module": "@jupyter-widgets/base",
            "_view_module_version": "1.2.0",
            "_view_name": "StyleView",
            "description_width": ""
          }
        },
        "5122a815393b46e1aef75569f04ea8f7": {
          "model_module": "@jupyter-widgets/controls",
          "model_name": "HBoxModel",
          "model_module_version": "1.5.0",
          "state": {
            "_dom_classes": [],
            "_model_module": "@jupyter-widgets/controls",
            "_model_module_version": "1.5.0",
            "_model_name": "HBoxModel",
            "_view_count": null,
            "_view_module": "@jupyter-widgets/controls",
            "_view_module_version": "1.5.0",
            "_view_name": "HBoxView",
            "box_style": "",
            "children": [
              "IPY_MODEL_880b4a0f59854f979e6a97e7c7087a7e",
              "IPY_MODEL_c8adaf8a90ad4668824a7ed52bff3f62",
              "IPY_MODEL_68f6dede3c3847fb8b893bd80c0e9f62"
            ],
            "layout": "IPY_MODEL_a54cdb0ef1fa44feb6198cc5f7eb5885"
          }
        },
        "880b4a0f59854f979e6a97e7c7087a7e": {
          "model_module": "@jupyter-widgets/controls",
          "model_name": "HTMLModel",
          "model_module_version": "1.5.0",
          "state": {
            "_dom_classes": [],
            "_model_module": "@jupyter-widgets/controls",
            "_model_module_version": "1.5.0",
            "_model_name": "HTMLModel",
            "_view_count": null,
            "_view_module": "@jupyter-widgets/controls",
            "_view_module_version": "1.5.0",
            "_view_name": "HTMLView",
            "description": "",
            "description_tooltip": null,
            "layout": "IPY_MODEL_60bee2337a6847bc9b79273193d5cb62",
            "placeholder": "​",
            "style": "IPY_MODEL_6b4202ea36e148a4b16740c1a0f4ccbf",
            "value": "Map: 100%"
          }
        },
        "c8adaf8a90ad4668824a7ed52bff3f62": {
          "model_module": "@jupyter-widgets/controls",
          "model_name": "FloatProgressModel",
          "model_module_version": "1.5.0",
          "state": {
            "_dom_classes": [],
            "_model_module": "@jupyter-widgets/controls",
            "_model_module_version": "1.5.0",
            "_model_name": "FloatProgressModel",
            "_view_count": null,
            "_view_module": "@jupyter-widgets/controls",
            "_view_module_version": "1.5.0",
            "_view_name": "ProgressView",
            "bar_style": "success",
            "description": "",
            "description_tooltip": null,
            "layout": "IPY_MODEL_be971729de354cdc8430d1ffcbbb8502",
            "max": 5000,
            "min": 0,
            "orientation": "horizontal",
            "style": "IPY_MODEL_cd8752e71f2346b19d306fc8124dcd81",
            "value": 5000
          }
        },
        "68f6dede3c3847fb8b893bd80c0e9f62": {
          "model_module": "@jupyter-widgets/controls",
          "model_name": "HTMLModel",
          "model_module_version": "1.5.0",
          "state": {
            "_dom_classes": [],
            "_model_module": "@jupyter-widgets/controls",
            "_model_module_version": "1.5.0",
            "_model_name": "HTMLModel",
            "_view_count": null,
            "_view_module": "@jupyter-widgets/controls",
            "_view_module_version": "1.5.0",
            "_view_name": "HTMLView",
            "description": "",
            "description_tooltip": null,
            "layout": "IPY_MODEL_0adea39a041f45b6943589461ea8f170",
            "placeholder": "​",
            "style": "IPY_MODEL_39a5054af5214e52827da6b5866a1963",
            "value": " 5000/5000 [00:03&lt;00:00, 1404.20 examples/s]"
          }
        },
        "a54cdb0ef1fa44feb6198cc5f7eb5885": {
          "model_module": "@jupyter-widgets/base",
          "model_name": "LayoutModel",
          "model_module_version": "1.2.0",
          "state": {
            "_model_module": "@jupyter-widgets/base",
            "_model_module_version": "1.2.0",
            "_model_name": "LayoutModel",
            "_view_count": null,
            "_view_module": "@jupyter-widgets/base",
            "_view_module_version": "1.2.0",
            "_view_name": "LayoutView",
            "align_content": null,
            "align_items": null,
            "align_self": null,
            "border": null,
            "bottom": null,
            "display": null,
            "flex": null,
            "flex_flow": null,
            "grid_area": null,
            "grid_auto_columns": null,
            "grid_auto_flow": null,
            "grid_auto_rows": null,
            "grid_column": null,
            "grid_gap": null,
            "grid_row": null,
            "grid_template_areas": null,
            "grid_template_columns": null,
            "grid_template_rows": null,
            "height": null,
            "justify_content": null,
            "justify_items": null,
            "left": null,
            "margin": null,
            "max_height": null,
            "max_width": null,
            "min_height": null,
            "min_width": null,
            "object_fit": null,
            "object_position": null,
            "order": null,
            "overflow": null,
            "overflow_x": null,
            "overflow_y": null,
            "padding": null,
            "right": null,
            "top": null,
            "visibility": null,
            "width": null
          }
        },
        "60bee2337a6847bc9b79273193d5cb62": {
          "model_module": "@jupyter-widgets/base",
          "model_name": "LayoutModel",
          "model_module_version": "1.2.0",
          "state": {
            "_model_module": "@jupyter-widgets/base",
            "_model_module_version": "1.2.0",
            "_model_name": "LayoutModel",
            "_view_count": null,
            "_view_module": "@jupyter-widgets/base",
            "_view_module_version": "1.2.0",
            "_view_name": "LayoutView",
            "align_content": null,
            "align_items": null,
            "align_self": null,
            "border": null,
            "bottom": null,
            "display": null,
            "flex": null,
            "flex_flow": null,
            "grid_area": null,
            "grid_auto_columns": null,
            "grid_auto_flow": null,
            "grid_auto_rows": null,
            "grid_column": null,
            "grid_gap": null,
            "grid_row": null,
            "grid_template_areas": null,
            "grid_template_columns": null,
            "grid_template_rows": null,
            "height": null,
            "justify_content": null,
            "justify_items": null,
            "left": null,
            "margin": null,
            "max_height": null,
            "max_width": null,
            "min_height": null,
            "min_width": null,
            "object_fit": null,
            "object_position": null,
            "order": null,
            "overflow": null,
            "overflow_x": null,
            "overflow_y": null,
            "padding": null,
            "right": null,
            "top": null,
            "visibility": null,
            "width": null
          }
        },
        "6b4202ea36e148a4b16740c1a0f4ccbf": {
          "model_module": "@jupyter-widgets/controls",
          "model_name": "DescriptionStyleModel",
          "model_module_version": "1.5.0",
          "state": {
            "_model_module": "@jupyter-widgets/controls",
            "_model_module_version": "1.5.0",
            "_model_name": "DescriptionStyleModel",
            "_view_count": null,
            "_view_module": "@jupyter-widgets/base",
            "_view_module_version": "1.2.0",
            "_view_name": "StyleView",
            "description_width": ""
          }
        },
        "be971729de354cdc8430d1ffcbbb8502": {
          "model_module": "@jupyter-widgets/base",
          "model_name": "LayoutModel",
          "model_module_version": "1.2.0",
          "state": {
            "_model_module": "@jupyter-widgets/base",
            "_model_module_version": "1.2.0",
            "_model_name": "LayoutModel",
            "_view_count": null,
            "_view_module": "@jupyter-widgets/base",
            "_view_module_version": "1.2.0",
            "_view_name": "LayoutView",
            "align_content": null,
            "align_items": null,
            "align_self": null,
            "border": null,
            "bottom": null,
            "display": null,
            "flex": null,
            "flex_flow": null,
            "grid_area": null,
            "grid_auto_columns": null,
            "grid_auto_flow": null,
            "grid_auto_rows": null,
            "grid_column": null,
            "grid_gap": null,
            "grid_row": null,
            "grid_template_areas": null,
            "grid_template_columns": null,
            "grid_template_rows": null,
            "height": null,
            "justify_content": null,
            "justify_items": null,
            "left": null,
            "margin": null,
            "max_height": null,
            "max_width": null,
            "min_height": null,
            "min_width": null,
            "object_fit": null,
            "object_position": null,
            "order": null,
            "overflow": null,
            "overflow_x": null,
            "overflow_y": null,
            "padding": null,
            "right": null,
            "top": null,
            "visibility": null,
            "width": null
          }
        },
        "cd8752e71f2346b19d306fc8124dcd81": {
          "model_module": "@jupyter-widgets/controls",
          "model_name": "ProgressStyleModel",
          "model_module_version": "1.5.0",
          "state": {
            "_model_module": "@jupyter-widgets/controls",
            "_model_module_version": "1.5.0",
            "_model_name": "ProgressStyleModel",
            "_view_count": null,
            "_view_module": "@jupyter-widgets/base",
            "_view_module_version": "1.2.0",
            "_view_name": "StyleView",
            "bar_color": null,
            "description_width": ""
          }
        },
        "0adea39a041f45b6943589461ea8f170": {
          "model_module": "@jupyter-widgets/base",
          "model_name": "LayoutModel",
          "model_module_version": "1.2.0",
          "state": {
            "_model_module": "@jupyter-widgets/base",
            "_model_module_version": "1.2.0",
            "_model_name": "LayoutModel",
            "_view_count": null,
            "_view_module": "@jupyter-widgets/base",
            "_view_module_version": "1.2.0",
            "_view_name": "LayoutView",
            "align_content": null,
            "align_items": null,
            "align_self": null,
            "border": null,
            "bottom": null,
            "display": null,
            "flex": null,
            "flex_flow": null,
            "grid_area": null,
            "grid_auto_columns": null,
            "grid_auto_flow": null,
            "grid_auto_rows": null,
            "grid_column": null,
            "grid_gap": null,
            "grid_row": null,
            "grid_template_areas": null,
            "grid_template_columns": null,
            "grid_template_rows": null,
            "height": null,
            "justify_content": null,
            "justify_items": null,
            "left": null,
            "margin": null,
            "max_height": null,
            "max_width": null,
            "min_height": null,
            "min_width": null,
            "object_fit": null,
            "object_position": null,
            "order": null,
            "overflow": null,
            "overflow_x": null,
            "overflow_y": null,
            "padding": null,
            "right": null,
            "top": null,
            "visibility": null,
            "width": null
          }
        },
        "39a5054af5214e52827da6b5866a1963": {
          "model_module": "@jupyter-widgets/controls",
          "model_name": "DescriptionStyleModel",
          "model_module_version": "1.5.0",
          "state": {
            "_model_module": "@jupyter-widgets/controls",
            "_model_module_version": "1.5.0",
            "_model_name": "DescriptionStyleModel",
            "_view_count": null,
            "_view_module": "@jupyter-widgets/base",
            "_view_module_version": "1.2.0",
            "_view_name": "StyleView",
            "description_width": ""
          }
        },
        "20ea851051674af6a7d1b8b3adf74ee2": {
          "model_module": "@jupyter-widgets/controls",
          "model_name": "HBoxModel",
          "model_module_version": "1.5.0",
          "state": {
            "_dom_classes": [],
            "_model_module": "@jupyter-widgets/controls",
            "_model_module_version": "1.5.0",
            "_model_name": "HBoxModel",
            "_view_count": null,
            "_view_module": "@jupyter-widgets/controls",
            "_view_module_version": "1.5.0",
            "_view_name": "HBoxView",
            "box_style": "",
            "children": [
              "IPY_MODEL_048d3391e2084618861f1db999e56eef",
              "IPY_MODEL_cbcd7e0b4f9e4d0a8cb2a1f37807e041",
              "IPY_MODEL_509ea44c577c4478a660f12c974bf5a0"
            ],
            "layout": "IPY_MODEL_05122cb78793417c96b4e7f0784a0268"
          }
        },
        "048d3391e2084618861f1db999e56eef": {
          "model_module": "@jupyter-widgets/controls",
          "model_name": "HTMLModel",
          "model_module_version": "1.5.0",
          "state": {
            "_dom_classes": [],
            "_model_module": "@jupyter-widgets/controls",
            "_model_module_version": "1.5.0",
            "_model_name": "HTMLModel",
            "_view_count": null,
            "_view_module": "@jupyter-widgets/controls",
            "_view_module_version": "1.5.0",
            "_view_name": "HTMLView",
            "description": "",
            "description_tooltip": null,
            "layout": "IPY_MODEL_e05bf177ee374aa0be51ca8460a5e8c0",
            "placeholder": "​",
            "style": "IPY_MODEL_499122faa9bf48688b32b19a9da1dd4d",
            "value": "Map: 100%"
          }
        },
        "cbcd7e0b4f9e4d0a8cb2a1f37807e041": {
          "model_module": "@jupyter-widgets/controls",
          "model_name": "FloatProgressModel",
          "model_module_version": "1.5.0",
          "state": {
            "_dom_classes": [],
            "_model_module": "@jupyter-widgets/controls",
            "_model_module_version": "1.5.0",
            "_model_name": "FloatProgressModel",
            "_view_count": null,
            "_view_module": "@jupyter-widgets/controls",
            "_view_module_version": "1.5.0",
            "_view_name": "ProgressView",
            "bar_style": "success",
            "description": "",
            "description_tooltip": null,
            "layout": "IPY_MODEL_951406e4af3546ce84ff3ab42e48341f",
            "max": 1000,
            "min": 0,
            "orientation": "horizontal",
            "style": "IPY_MODEL_e9119b31b25848e28638812fe14988b7",
            "value": 1000
          }
        },
        "509ea44c577c4478a660f12c974bf5a0": {
          "model_module": "@jupyter-widgets/controls",
          "model_name": "HTMLModel",
          "model_module_version": "1.5.0",
          "state": {
            "_dom_classes": [],
            "_model_module": "@jupyter-widgets/controls",
            "_model_module_version": "1.5.0",
            "_model_name": "HTMLModel",
            "_view_count": null,
            "_view_module": "@jupyter-widgets/controls",
            "_view_module_version": "1.5.0",
            "_view_name": "HTMLView",
            "description": "",
            "description_tooltip": null,
            "layout": "IPY_MODEL_b9975b7562c1431987e64b4fd21cfaa7",
            "placeholder": "​",
            "style": "IPY_MODEL_b79194781d04438bb18e1a87114d215e",
            "value": " 1000/1000 [00:00&lt;00:00, 2198.90 examples/s]"
          }
        },
        "05122cb78793417c96b4e7f0784a0268": {
          "model_module": "@jupyter-widgets/base",
          "model_name": "LayoutModel",
          "model_module_version": "1.2.0",
          "state": {
            "_model_module": "@jupyter-widgets/base",
            "_model_module_version": "1.2.0",
            "_model_name": "LayoutModel",
            "_view_count": null,
            "_view_module": "@jupyter-widgets/base",
            "_view_module_version": "1.2.0",
            "_view_name": "LayoutView",
            "align_content": null,
            "align_items": null,
            "align_self": null,
            "border": null,
            "bottom": null,
            "display": null,
            "flex": null,
            "flex_flow": null,
            "grid_area": null,
            "grid_auto_columns": null,
            "grid_auto_flow": null,
            "grid_auto_rows": null,
            "grid_column": null,
            "grid_gap": null,
            "grid_row": null,
            "grid_template_areas": null,
            "grid_template_columns": null,
            "grid_template_rows": null,
            "height": null,
            "justify_content": null,
            "justify_items": null,
            "left": null,
            "margin": null,
            "max_height": null,
            "max_width": null,
            "min_height": null,
            "min_width": null,
            "object_fit": null,
            "object_position": null,
            "order": null,
            "overflow": null,
            "overflow_x": null,
            "overflow_y": null,
            "padding": null,
            "right": null,
            "top": null,
            "visibility": null,
            "width": null
          }
        },
        "e05bf177ee374aa0be51ca8460a5e8c0": {
          "model_module": "@jupyter-widgets/base",
          "model_name": "LayoutModel",
          "model_module_version": "1.2.0",
          "state": {
            "_model_module": "@jupyter-widgets/base",
            "_model_module_version": "1.2.0",
            "_model_name": "LayoutModel",
            "_view_count": null,
            "_view_module": "@jupyter-widgets/base",
            "_view_module_version": "1.2.0",
            "_view_name": "LayoutView",
            "align_content": null,
            "align_items": null,
            "align_self": null,
            "border": null,
            "bottom": null,
            "display": null,
            "flex": null,
            "flex_flow": null,
            "grid_area": null,
            "grid_auto_columns": null,
            "grid_auto_flow": null,
            "grid_auto_rows": null,
            "grid_column": null,
            "grid_gap": null,
            "grid_row": null,
            "grid_template_areas": null,
            "grid_template_columns": null,
            "grid_template_rows": null,
            "height": null,
            "justify_content": null,
            "justify_items": null,
            "left": null,
            "margin": null,
            "max_height": null,
            "max_width": null,
            "min_height": null,
            "min_width": null,
            "object_fit": null,
            "object_position": null,
            "order": null,
            "overflow": null,
            "overflow_x": null,
            "overflow_y": null,
            "padding": null,
            "right": null,
            "top": null,
            "visibility": null,
            "width": null
          }
        },
        "499122faa9bf48688b32b19a9da1dd4d": {
          "model_module": "@jupyter-widgets/controls",
          "model_name": "DescriptionStyleModel",
          "model_module_version": "1.5.0",
          "state": {
            "_model_module": "@jupyter-widgets/controls",
            "_model_module_version": "1.5.0",
            "_model_name": "DescriptionStyleModel",
            "_view_count": null,
            "_view_module": "@jupyter-widgets/base",
            "_view_module_version": "1.2.0",
            "_view_name": "StyleView",
            "description_width": ""
          }
        },
        "951406e4af3546ce84ff3ab42e48341f": {
          "model_module": "@jupyter-widgets/base",
          "model_name": "LayoutModel",
          "model_module_version": "1.2.0",
          "state": {
            "_model_module": "@jupyter-widgets/base",
            "_model_module_version": "1.2.0",
            "_model_name": "LayoutModel",
            "_view_count": null,
            "_view_module": "@jupyter-widgets/base",
            "_view_module_version": "1.2.0",
            "_view_name": "LayoutView",
            "align_content": null,
            "align_items": null,
            "align_self": null,
            "border": null,
            "bottom": null,
            "display": null,
            "flex": null,
            "flex_flow": null,
            "grid_area": null,
            "grid_auto_columns": null,
            "grid_auto_flow": null,
            "grid_auto_rows": null,
            "grid_column": null,
            "grid_gap": null,
            "grid_row": null,
            "grid_template_areas": null,
            "grid_template_columns": null,
            "grid_template_rows": null,
            "height": null,
            "justify_content": null,
            "justify_items": null,
            "left": null,
            "margin": null,
            "max_height": null,
            "max_width": null,
            "min_height": null,
            "min_width": null,
            "object_fit": null,
            "object_position": null,
            "order": null,
            "overflow": null,
            "overflow_x": null,
            "overflow_y": null,
            "padding": null,
            "right": null,
            "top": null,
            "visibility": null,
            "width": null
          }
        },
        "e9119b31b25848e28638812fe14988b7": {
          "model_module": "@jupyter-widgets/controls",
          "model_name": "ProgressStyleModel",
          "model_module_version": "1.5.0",
          "state": {
            "_model_module": "@jupyter-widgets/controls",
            "_model_module_version": "1.5.0",
            "_model_name": "ProgressStyleModel",
            "_view_count": null,
            "_view_module": "@jupyter-widgets/base",
            "_view_module_version": "1.2.0",
            "_view_name": "StyleView",
            "bar_color": null,
            "description_width": ""
          }
        },
        "b9975b7562c1431987e64b4fd21cfaa7": {
          "model_module": "@jupyter-widgets/base",
          "model_name": "LayoutModel",
          "model_module_version": "1.2.0",
          "state": {
            "_model_module": "@jupyter-widgets/base",
            "_model_module_version": "1.2.0",
            "_model_name": "LayoutModel",
            "_view_count": null,
            "_view_module": "@jupyter-widgets/base",
            "_view_module_version": "1.2.0",
            "_view_name": "LayoutView",
            "align_content": null,
            "align_items": null,
            "align_self": null,
            "border": null,
            "bottom": null,
            "display": null,
            "flex": null,
            "flex_flow": null,
            "grid_area": null,
            "grid_auto_columns": null,
            "grid_auto_flow": null,
            "grid_auto_rows": null,
            "grid_column": null,
            "grid_gap": null,
            "grid_row": null,
            "grid_template_areas": null,
            "grid_template_columns": null,
            "grid_template_rows": null,
            "height": null,
            "justify_content": null,
            "justify_items": null,
            "left": null,
            "margin": null,
            "max_height": null,
            "max_width": null,
            "min_height": null,
            "min_width": null,
            "object_fit": null,
            "object_position": null,
            "order": null,
            "overflow": null,
            "overflow_x": null,
            "overflow_y": null,
            "padding": null,
            "right": null,
            "top": null,
            "visibility": null,
            "width": null
          }
        },
        "b79194781d04438bb18e1a87114d215e": {
          "model_module": "@jupyter-widgets/controls",
          "model_name": "DescriptionStyleModel",
          "model_module_version": "1.5.0",
          "state": {
            "_model_module": "@jupyter-widgets/controls",
            "_model_module_version": "1.5.0",
            "_model_name": "DescriptionStyleModel",
            "_view_count": null,
            "_view_module": "@jupyter-widgets/base",
            "_view_module_version": "1.2.0",
            "_view_name": "StyleView",
            "description_width": ""
          }
        },
        "c7654cb2c96341369ba70b35ffc880b1": {
          "model_module": "@jupyter-widgets/controls",
          "model_name": "HBoxModel",
          "model_module_version": "1.5.0",
          "state": {
            "_dom_classes": [],
            "_model_module": "@jupyter-widgets/controls",
            "_model_module_version": "1.5.0",
            "_model_name": "HBoxModel",
            "_view_count": null,
            "_view_module": "@jupyter-widgets/controls",
            "_view_module_version": "1.5.0",
            "_view_name": "HBoxView",
            "box_style": "",
            "children": [
              "IPY_MODEL_6b48b39dda1c407687cbf026c5ca23be",
              "IPY_MODEL_970b453abd944ebc9f7366ee936fd284",
              "IPY_MODEL_f8cda408e4cc4289950dd5e81f305696"
            ],
            "layout": "IPY_MODEL_4e8ac5cfd6d54b789b430246543a6f80"
          }
        },
        "6b48b39dda1c407687cbf026c5ca23be": {
          "model_module": "@jupyter-widgets/controls",
          "model_name": "HTMLModel",
          "model_module_version": "1.5.0",
          "state": {
            "_dom_classes": [],
            "_model_module": "@jupyter-widgets/controls",
            "_model_module_version": "1.5.0",
            "_model_name": "HTMLModel",
            "_view_count": null,
            "_view_module": "@jupyter-widgets/controls",
            "_view_module_version": "1.5.0",
            "_view_name": "HTMLView",
            "description": "",
            "description_tooltip": null,
            "layout": "IPY_MODEL_e9f57363918e4ea99f419b8e655ef7d2",
            "placeholder": "​",
            "style": "IPY_MODEL_28373f0ce9f0476f8cfc439b95d5cc6f",
            "value": "Downloading model.safetensors: 100%"
          }
        },
        "970b453abd944ebc9f7366ee936fd284": {
          "model_module": "@jupyter-widgets/controls",
          "model_name": "FloatProgressModel",
          "model_module_version": "1.5.0",
          "state": {
            "_dom_classes": [],
            "_model_module": "@jupyter-widgets/controls",
            "_model_module_version": "1.5.0",
            "_model_name": "FloatProgressModel",
            "_view_count": null,
            "_view_module": "@jupyter-widgets/controls",
            "_view_module_version": "1.5.0",
            "_view_name": "ProgressView",
            "bar_style": "success",
            "description": "",
            "description_tooltip": null,
            "layout": "IPY_MODEL_ba6fa5b642604c4797fb80b7fa3ac54e",
            "max": 267954768,
            "min": 0,
            "orientation": "horizontal",
            "style": "IPY_MODEL_1beae4d5b68949f0bdb0483a58f7de1f",
            "value": 267954768
          }
        },
        "f8cda408e4cc4289950dd5e81f305696": {
          "model_module": "@jupyter-widgets/controls",
          "model_name": "HTMLModel",
          "model_module_version": "1.5.0",
          "state": {
            "_dom_classes": [],
            "_model_module": "@jupyter-widgets/controls",
            "_model_module_version": "1.5.0",
            "_model_name": "HTMLModel",
            "_view_count": null,
            "_view_module": "@jupyter-widgets/controls",
            "_view_module_version": "1.5.0",
            "_view_name": "HTMLView",
            "description": "",
            "description_tooltip": null,
            "layout": "IPY_MODEL_4f5727c4c6e14b8b9dd208b541b4bc23",
            "placeholder": "​",
            "style": "IPY_MODEL_1257b9765ed0442a9fcd897e103dbfc3",
            "value": " 268M/268M [00:01&lt;00:00, 188MB/s]"
          }
        },
        "4e8ac5cfd6d54b789b430246543a6f80": {
          "model_module": "@jupyter-widgets/base",
          "model_name": "LayoutModel",
          "model_module_version": "1.2.0",
          "state": {
            "_model_module": "@jupyter-widgets/base",
            "_model_module_version": "1.2.0",
            "_model_name": "LayoutModel",
            "_view_count": null,
            "_view_module": "@jupyter-widgets/base",
            "_view_module_version": "1.2.0",
            "_view_name": "LayoutView",
            "align_content": null,
            "align_items": null,
            "align_self": null,
            "border": null,
            "bottom": null,
            "display": null,
            "flex": null,
            "flex_flow": null,
            "grid_area": null,
            "grid_auto_columns": null,
            "grid_auto_flow": null,
            "grid_auto_rows": null,
            "grid_column": null,
            "grid_gap": null,
            "grid_row": null,
            "grid_template_areas": null,
            "grid_template_columns": null,
            "grid_template_rows": null,
            "height": null,
            "justify_content": null,
            "justify_items": null,
            "left": null,
            "margin": null,
            "max_height": null,
            "max_width": null,
            "min_height": null,
            "min_width": null,
            "object_fit": null,
            "object_position": null,
            "order": null,
            "overflow": null,
            "overflow_x": null,
            "overflow_y": null,
            "padding": null,
            "right": null,
            "top": null,
            "visibility": null,
            "width": null
          }
        },
        "e9f57363918e4ea99f419b8e655ef7d2": {
          "model_module": "@jupyter-widgets/base",
          "model_name": "LayoutModel",
          "model_module_version": "1.2.0",
          "state": {
            "_model_module": "@jupyter-widgets/base",
            "_model_module_version": "1.2.0",
            "_model_name": "LayoutModel",
            "_view_count": null,
            "_view_module": "@jupyter-widgets/base",
            "_view_module_version": "1.2.0",
            "_view_name": "LayoutView",
            "align_content": null,
            "align_items": null,
            "align_self": null,
            "border": null,
            "bottom": null,
            "display": null,
            "flex": null,
            "flex_flow": null,
            "grid_area": null,
            "grid_auto_columns": null,
            "grid_auto_flow": null,
            "grid_auto_rows": null,
            "grid_column": null,
            "grid_gap": null,
            "grid_row": null,
            "grid_template_areas": null,
            "grid_template_columns": null,
            "grid_template_rows": null,
            "height": null,
            "justify_content": null,
            "justify_items": null,
            "left": null,
            "margin": null,
            "max_height": null,
            "max_width": null,
            "min_height": null,
            "min_width": null,
            "object_fit": null,
            "object_position": null,
            "order": null,
            "overflow": null,
            "overflow_x": null,
            "overflow_y": null,
            "padding": null,
            "right": null,
            "top": null,
            "visibility": null,
            "width": null
          }
        },
        "28373f0ce9f0476f8cfc439b95d5cc6f": {
          "model_module": "@jupyter-widgets/controls",
          "model_name": "DescriptionStyleModel",
          "model_module_version": "1.5.0",
          "state": {
            "_model_module": "@jupyter-widgets/controls",
            "_model_module_version": "1.5.0",
            "_model_name": "DescriptionStyleModel",
            "_view_count": null,
            "_view_module": "@jupyter-widgets/base",
            "_view_module_version": "1.2.0",
            "_view_name": "StyleView",
            "description_width": ""
          }
        },
        "ba6fa5b642604c4797fb80b7fa3ac54e": {
          "model_module": "@jupyter-widgets/base",
          "model_name": "LayoutModel",
          "model_module_version": "1.2.0",
          "state": {
            "_model_module": "@jupyter-widgets/base",
            "_model_module_version": "1.2.0",
            "_model_name": "LayoutModel",
            "_view_count": null,
            "_view_module": "@jupyter-widgets/base",
            "_view_module_version": "1.2.0",
            "_view_name": "LayoutView",
            "align_content": null,
            "align_items": null,
            "align_self": null,
            "border": null,
            "bottom": null,
            "display": null,
            "flex": null,
            "flex_flow": null,
            "grid_area": null,
            "grid_auto_columns": null,
            "grid_auto_flow": null,
            "grid_auto_rows": null,
            "grid_column": null,
            "grid_gap": null,
            "grid_row": null,
            "grid_template_areas": null,
            "grid_template_columns": null,
            "grid_template_rows": null,
            "height": null,
            "justify_content": null,
            "justify_items": null,
            "left": null,
            "margin": null,
            "max_height": null,
            "max_width": null,
            "min_height": null,
            "min_width": null,
            "object_fit": null,
            "object_position": null,
            "order": null,
            "overflow": null,
            "overflow_x": null,
            "overflow_y": null,
            "padding": null,
            "right": null,
            "top": null,
            "visibility": null,
            "width": null
          }
        },
        "1beae4d5b68949f0bdb0483a58f7de1f": {
          "model_module": "@jupyter-widgets/controls",
          "model_name": "ProgressStyleModel",
          "model_module_version": "1.5.0",
          "state": {
            "_model_module": "@jupyter-widgets/controls",
            "_model_module_version": "1.5.0",
            "_model_name": "ProgressStyleModel",
            "_view_count": null,
            "_view_module": "@jupyter-widgets/base",
            "_view_module_version": "1.2.0",
            "_view_name": "StyleView",
            "bar_color": null,
            "description_width": ""
          }
        },
        "4f5727c4c6e14b8b9dd208b541b4bc23": {
          "model_module": "@jupyter-widgets/base",
          "model_name": "LayoutModel",
          "model_module_version": "1.2.0",
          "state": {
            "_model_module": "@jupyter-widgets/base",
            "_model_module_version": "1.2.0",
            "_model_name": "LayoutModel",
            "_view_count": null,
            "_view_module": "@jupyter-widgets/base",
            "_view_module_version": "1.2.0",
            "_view_name": "LayoutView",
            "align_content": null,
            "align_items": null,
            "align_self": null,
            "border": null,
            "bottom": null,
            "display": null,
            "flex": null,
            "flex_flow": null,
            "grid_area": null,
            "grid_auto_columns": null,
            "grid_auto_flow": null,
            "grid_auto_rows": null,
            "grid_column": null,
            "grid_gap": null,
            "grid_row": null,
            "grid_template_areas": null,
            "grid_template_columns": null,
            "grid_template_rows": null,
            "height": null,
            "justify_content": null,
            "justify_items": null,
            "left": null,
            "margin": null,
            "max_height": null,
            "max_width": null,
            "min_height": null,
            "min_width": null,
            "object_fit": null,
            "object_position": null,
            "order": null,
            "overflow": null,
            "overflow_x": null,
            "overflow_y": null,
            "padding": null,
            "right": null,
            "top": null,
            "visibility": null,
            "width": null
          }
        },
        "1257b9765ed0442a9fcd897e103dbfc3": {
          "model_module": "@jupyter-widgets/controls",
          "model_name": "DescriptionStyleModel",
          "model_module_version": "1.5.0",
          "state": {
            "_model_module": "@jupyter-widgets/controls",
            "_model_module_version": "1.5.0",
            "_model_name": "DescriptionStyleModel",
            "_view_count": null,
            "_view_module": "@jupyter-widgets/base",
            "_view_module_version": "1.2.0",
            "_view_name": "StyleView",
            "description_width": ""
          }
        },
        "8f85416b055b4091aee15d0da6483934": {
          "model_module": "@jupyter-widgets/controls",
          "model_name": "HBoxModel",
          "model_module_version": "1.5.0",
          "state": {
            "_dom_classes": [],
            "_model_module": "@jupyter-widgets/controls",
            "_model_module_version": "1.5.0",
            "_model_name": "HBoxModel",
            "_view_count": null,
            "_view_module": "@jupyter-widgets/controls",
            "_view_module_version": "1.5.0",
            "_view_name": "HBoxView",
            "box_style": "",
            "children": [
              "IPY_MODEL_32cdf76af9244d3a814344f8211ce091",
              "IPY_MODEL_4469eb0e20a84a6d99149b1459d92edb",
              "IPY_MODEL_e6ac306f720d46aeb2881883ec7b6aa5"
            ],
            "layout": "IPY_MODEL_40b51b987cc74ab1b87d0cef58846907"
          }
        },
        "32cdf76af9244d3a814344f8211ce091": {
          "model_module": "@jupyter-widgets/controls",
          "model_name": "HTMLModel",
          "model_module_version": "1.5.0",
          "state": {
            "_dom_classes": [],
            "_model_module": "@jupyter-widgets/controls",
            "_model_module_version": "1.5.0",
            "_model_name": "HTMLModel",
            "_view_count": null,
            "_view_module": "@jupyter-widgets/controls",
            "_view_module_version": "1.5.0",
            "_view_name": "HTMLView",
            "description": "",
            "description_tooltip": null,
            "layout": "IPY_MODEL_fc6e1cf070ed4c648d78ab13d4b12753",
            "placeholder": "​",
            "style": "IPY_MODEL_a4100d55b1e9418f8080a84397154823",
            "value": "Downloading builder script: 100%"
          }
        },
        "4469eb0e20a84a6d99149b1459d92edb": {
          "model_module": "@jupyter-widgets/controls",
          "model_name": "FloatProgressModel",
          "model_module_version": "1.5.0",
          "state": {
            "_dom_classes": [],
            "_model_module": "@jupyter-widgets/controls",
            "_model_module_version": "1.5.0",
            "_model_name": "FloatProgressModel",
            "_view_count": null,
            "_view_module": "@jupyter-widgets/controls",
            "_view_module_version": "1.5.0",
            "_view_name": "ProgressView",
            "bar_style": "success",
            "description": "",
            "description_tooltip": null,
            "layout": "IPY_MODEL_1599d92aceae482ba060c9eac0308e9b",
            "max": 6338,
            "min": 0,
            "orientation": "horizontal",
            "style": "IPY_MODEL_56cbec85db80464381994101683ba32b",
            "value": 6338
          }
        },
        "e6ac306f720d46aeb2881883ec7b6aa5": {
          "model_module": "@jupyter-widgets/controls",
          "model_name": "HTMLModel",
          "model_module_version": "1.5.0",
          "state": {
            "_dom_classes": [],
            "_model_module": "@jupyter-widgets/controls",
            "_model_module_version": "1.5.0",
            "_model_name": "HTMLModel",
            "_view_count": null,
            "_view_module": "@jupyter-widgets/controls",
            "_view_module_version": "1.5.0",
            "_view_name": "HTMLView",
            "description": "",
            "description_tooltip": null,
            "layout": "IPY_MODEL_8fb57bbee11f4dc4b923823a908d86e5",
            "placeholder": "​",
            "style": "IPY_MODEL_134862fd59c941bebad2709163df91bd",
            "value": " 6.34k/6.34k [00:00&lt;00:00, 237kB/s]"
          }
        },
        "40b51b987cc74ab1b87d0cef58846907": {
          "model_module": "@jupyter-widgets/base",
          "model_name": "LayoutModel",
          "model_module_version": "1.2.0",
          "state": {
            "_model_module": "@jupyter-widgets/base",
            "_model_module_version": "1.2.0",
            "_model_name": "LayoutModel",
            "_view_count": null,
            "_view_module": "@jupyter-widgets/base",
            "_view_module_version": "1.2.0",
            "_view_name": "LayoutView",
            "align_content": null,
            "align_items": null,
            "align_self": null,
            "border": null,
            "bottom": null,
            "display": null,
            "flex": null,
            "flex_flow": null,
            "grid_area": null,
            "grid_auto_columns": null,
            "grid_auto_flow": null,
            "grid_auto_rows": null,
            "grid_column": null,
            "grid_gap": null,
            "grid_row": null,
            "grid_template_areas": null,
            "grid_template_columns": null,
            "grid_template_rows": null,
            "height": null,
            "justify_content": null,
            "justify_items": null,
            "left": null,
            "margin": null,
            "max_height": null,
            "max_width": null,
            "min_height": null,
            "min_width": null,
            "object_fit": null,
            "object_position": null,
            "order": null,
            "overflow": null,
            "overflow_x": null,
            "overflow_y": null,
            "padding": null,
            "right": null,
            "top": null,
            "visibility": null,
            "width": null
          }
        },
        "fc6e1cf070ed4c648d78ab13d4b12753": {
          "model_module": "@jupyter-widgets/base",
          "model_name": "LayoutModel",
          "model_module_version": "1.2.0",
          "state": {
            "_model_module": "@jupyter-widgets/base",
            "_model_module_version": "1.2.0",
            "_model_name": "LayoutModel",
            "_view_count": null,
            "_view_module": "@jupyter-widgets/base",
            "_view_module_version": "1.2.0",
            "_view_name": "LayoutView",
            "align_content": null,
            "align_items": null,
            "align_self": null,
            "border": null,
            "bottom": null,
            "display": null,
            "flex": null,
            "flex_flow": null,
            "grid_area": null,
            "grid_auto_columns": null,
            "grid_auto_flow": null,
            "grid_auto_rows": null,
            "grid_column": null,
            "grid_gap": null,
            "grid_row": null,
            "grid_template_areas": null,
            "grid_template_columns": null,
            "grid_template_rows": null,
            "height": null,
            "justify_content": null,
            "justify_items": null,
            "left": null,
            "margin": null,
            "max_height": null,
            "max_width": null,
            "min_height": null,
            "min_width": null,
            "object_fit": null,
            "object_position": null,
            "order": null,
            "overflow": null,
            "overflow_x": null,
            "overflow_y": null,
            "padding": null,
            "right": null,
            "top": null,
            "visibility": null,
            "width": null
          }
        },
        "a4100d55b1e9418f8080a84397154823": {
          "model_module": "@jupyter-widgets/controls",
          "model_name": "DescriptionStyleModel",
          "model_module_version": "1.5.0",
          "state": {
            "_model_module": "@jupyter-widgets/controls",
            "_model_module_version": "1.5.0",
            "_model_name": "DescriptionStyleModel",
            "_view_count": null,
            "_view_module": "@jupyter-widgets/base",
            "_view_module_version": "1.2.0",
            "_view_name": "StyleView",
            "description_width": ""
          }
        },
        "1599d92aceae482ba060c9eac0308e9b": {
          "model_module": "@jupyter-widgets/base",
          "model_name": "LayoutModel",
          "model_module_version": "1.2.0",
          "state": {
            "_model_module": "@jupyter-widgets/base",
            "_model_module_version": "1.2.0",
            "_model_name": "LayoutModel",
            "_view_count": null,
            "_view_module": "@jupyter-widgets/base",
            "_view_module_version": "1.2.0",
            "_view_name": "LayoutView",
            "align_content": null,
            "align_items": null,
            "align_self": null,
            "border": null,
            "bottom": null,
            "display": null,
            "flex": null,
            "flex_flow": null,
            "grid_area": null,
            "grid_auto_columns": null,
            "grid_auto_flow": null,
            "grid_auto_rows": null,
            "grid_column": null,
            "grid_gap": null,
            "grid_row": null,
            "grid_template_areas": null,
            "grid_template_columns": null,
            "grid_template_rows": null,
            "height": null,
            "justify_content": null,
            "justify_items": null,
            "left": null,
            "margin": null,
            "max_height": null,
            "max_width": null,
            "min_height": null,
            "min_width": null,
            "object_fit": null,
            "object_position": null,
            "order": null,
            "overflow": null,
            "overflow_x": null,
            "overflow_y": null,
            "padding": null,
            "right": null,
            "top": null,
            "visibility": null,
            "width": null
          }
        },
        "56cbec85db80464381994101683ba32b": {
          "model_module": "@jupyter-widgets/controls",
          "model_name": "ProgressStyleModel",
          "model_module_version": "1.5.0",
          "state": {
            "_model_module": "@jupyter-widgets/controls",
            "_model_module_version": "1.5.0",
            "_model_name": "ProgressStyleModel",
            "_view_count": null,
            "_view_module": "@jupyter-widgets/base",
            "_view_module_version": "1.2.0",
            "_view_name": "StyleView",
            "bar_color": null,
            "description_width": ""
          }
        },
        "8fb57bbee11f4dc4b923823a908d86e5": {
          "model_module": "@jupyter-widgets/base",
          "model_name": "LayoutModel",
          "model_module_version": "1.2.0",
          "state": {
            "_model_module": "@jupyter-widgets/base",
            "_model_module_version": "1.2.0",
            "_model_name": "LayoutModel",
            "_view_count": null,
            "_view_module": "@jupyter-widgets/base",
            "_view_module_version": "1.2.0",
            "_view_name": "LayoutView",
            "align_content": null,
            "align_items": null,
            "align_self": null,
            "border": null,
            "bottom": null,
            "display": null,
            "flex": null,
            "flex_flow": null,
            "grid_area": null,
            "grid_auto_columns": null,
            "grid_auto_flow": null,
            "grid_auto_rows": null,
            "grid_column": null,
            "grid_gap": null,
            "grid_row": null,
            "grid_template_areas": null,
            "grid_template_columns": null,
            "grid_template_rows": null,
            "height": null,
            "justify_content": null,
            "justify_items": null,
            "left": null,
            "margin": null,
            "max_height": null,
            "max_width": null,
            "min_height": null,
            "min_width": null,
            "object_fit": null,
            "object_position": null,
            "order": null,
            "overflow": null,
            "overflow_x": null,
            "overflow_y": null,
            "padding": null,
            "right": null,
            "top": null,
            "visibility": null,
            "width": null
          }
        },
        "134862fd59c941bebad2709163df91bd": {
          "model_module": "@jupyter-widgets/controls",
          "model_name": "DescriptionStyleModel",
          "model_module_version": "1.5.0",
          "state": {
            "_model_module": "@jupyter-widgets/controls",
            "_model_module_version": "1.5.0",
            "_model_name": "DescriptionStyleModel",
            "_view_count": null,
            "_view_module": "@jupyter-widgets/base",
            "_view_module_version": "1.2.0",
            "_view_name": "StyleView",
            "description_width": ""
          }
        },
        "1612bf4602e443f9953f4e94f5a9ff68": {
          "model_module": "@jupyter-widgets/controls",
          "model_name": "VBoxModel",
          "model_module_version": "1.5.0",
          "state": {
            "_dom_classes": [],
            "_model_module": "@jupyter-widgets/controls",
            "_model_module_version": "1.5.0",
            "_model_name": "VBoxModel",
            "_view_count": null,
            "_view_module": "@jupyter-widgets/controls",
            "_view_module_version": "1.5.0",
            "_view_name": "VBoxView",
            "box_style": "",
            "children": [
              "IPY_MODEL_0ada65c320bd46bd912fab1bad960193",
              "IPY_MODEL_094997931ad0425cbc194d30ef54ce0c"
            ],
            "layout": "IPY_MODEL_5c1e4f06324d4bc2b32155e64acb252c"
          }
        },
        "0ada65c320bd46bd912fab1bad960193": {
          "model_module": "@jupyter-widgets/controls",
          "model_name": "LabelModel",
          "model_module_version": "1.5.0",
          "state": {
            "_dom_classes": [],
            "_model_module": "@jupyter-widgets/controls",
            "_model_module_version": "1.5.0",
            "_model_name": "LabelModel",
            "_view_count": null,
            "_view_module": "@jupyter-widgets/controls",
            "_view_module_version": "1.5.0",
            "_view_name": "LabelView",
            "description": "",
            "description_tooltip": null,
            "layout": "IPY_MODEL_f0837ae0cd294965924c8de8df58b7d2",
            "placeholder": "​",
            "style": "IPY_MODEL_202aaeed2d9b48dcbee0425d43d66fbb",
            "value": "0.004 MB of 0.006 MB uploaded (0.000 MB deduped)\r"
          }
        },
        "094997931ad0425cbc194d30ef54ce0c": {
          "model_module": "@jupyter-widgets/controls",
          "model_name": "FloatProgressModel",
          "model_module_version": "1.5.0",
          "state": {
            "_dom_classes": [],
            "_model_module": "@jupyter-widgets/controls",
            "_model_module_version": "1.5.0",
            "_model_name": "FloatProgressModel",
            "_view_count": null,
            "_view_module": "@jupyter-widgets/controls",
            "_view_module_version": "1.5.0",
            "_view_name": "ProgressView",
            "bar_style": "",
            "description": "",
            "description_tooltip": null,
            "layout": "IPY_MODEL_d1873d32b4454822ba26bed037d02ae6",
            "max": 1,
            "min": 0,
            "orientation": "horizontal",
            "style": "IPY_MODEL_380e041398554864b4b135acbb267765",
            "value": 0.6437350631614885
          }
        },
        "5c1e4f06324d4bc2b32155e64acb252c": {
          "model_module": "@jupyter-widgets/base",
          "model_name": "LayoutModel",
          "model_module_version": "1.2.0",
          "state": {
            "_model_module": "@jupyter-widgets/base",
            "_model_module_version": "1.2.0",
            "_model_name": "LayoutModel",
            "_view_count": null,
            "_view_module": "@jupyter-widgets/base",
            "_view_module_version": "1.2.0",
            "_view_name": "LayoutView",
            "align_content": null,
            "align_items": null,
            "align_self": null,
            "border": null,
            "bottom": null,
            "display": null,
            "flex": null,
            "flex_flow": null,
            "grid_area": null,
            "grid_auto_columns": null,
            "grid_auto_flow": null,
            "grid_auto_rows": null,
            "grid_column": null,
            "grid_gap": null,
            "grid_row": null,
            "grid_template_areas": null,
            "grid_template_columns": null,
            "grid_template_rows": null,
            "height": null,
            "justify_content": null,
            "justify_items": null,
            "left": null,
            "margin": null,
            "max_height": null,
            "max_width": null,
            "min_height": null,
            "min_width": null,
            "object_fit": null,
            "object_position": null,
            "order": null,
            "overflow": null,
            "overflow_x": null,
            "overflow_y": null,
            "padding": null,
            "right": null,
            "top": null,
            "visibility": null,
            "width": null
          }
        },
        "f0837ae0cd294965924c8de8df58b7d2": {
          "model_module": "@jupyter-widgets/base",
          "model_name": "LayoutModel",
          "model_module_version": "1.2.0",
          "state": {
            "_model_module": "@jupyter-widgets/base",
            "_model_module_version": "1.2.0",
            "_model_name": "LayoutModel",
            "_view_count": null,
            "_view_module": "@jupyter-widgets/base",
            "_view_module_version": "1.2.0",
            "_view_name": "LayoutView",
            "align_content": null,
            "align_items": null,
            "align_self": null,
            "border": null,
            "bottom": null,
            "display": null,
            "flex": null,
            "flex_flow": null,
            "grid_area": null,
            "grid_auto_columns": null,
            "grid_auto_flow": null,
            "grid_auto_rows": null,
            "grid_column": null,
            "grid_gap": null,
            "grid_row": null,
            "grid_template_areas": null,
            "grid_template_columns": null,
            "grid_template_rows": null,
            "height": null,
            "justify_content": null,
            "justify_items": null,
            "left": null,
            "margin": null,
            "max_height": null,
            "max_width": null,
            "min_height": null,
            "min_width": null,
            "object_fit": null,
            "object_position": null,
            "order": null,
            "overflow": null,
            "overflow_x": null,
            "overflow_y": null,
            "padding": null,
            "right": null,
            "top": null,
            "visibility": null,
            "width": null
          }
        },
        "202aaeed2d9b48dcbee0425d43d66fbb": {
          "model_module": "@jupyter-widgets/controls",
          "model_name": "DescriptionStyleModel",
          "model_module_version": "1.5.0",
          "state": {
            "_model_module": "@jupyter-widgets/controls",
            "_model_module_version": "1.5.0",
            "_model_name": "DescriptionStyleModel",
            "_view_count": null,
            "_view_module": "@jupyter-widgets/base",
            "_view_module_version": "1.2.0",
            "_view_name": "StyleView",
            "description_width": ""
          }
        },
        "d1873d32b4454822ba26bed037d02ae6": {
          "model_module": "@jupyter-widgets/base",
          "model_name": "LayoutModel",
          "model_module_version": "1.2.0",
          "state": {
            "_model_module": "@jupyter-widgets/base",
            "_model_module_version": "1.2.0",
            "_model_name": "LayoutModel",
            "_view_count": null,
            "_view_module": "@jupyter-widgets/base",
            "_view_module_version": "1.2.0",
            "_view_name": "LayoutView",
            "align_content": null,
            "align_items": null,
            "align_self": null,
            "border": null,
            "bottom": null,
            "display": null,
            "flex": null,
            "flex_flow": null,
            "grid_area": null,
            "grid_auto_columns": null,
            "grid_auto_flow": null,
            "grid_auto_rows": null,
            "grid_column": null,
            "grid_gap": null,
            "grid_row": null,
            "grid_template_areas": null,
            "grid_template_columns": null,
            "grid_template_rows": null,
            "height": null,
            "justify_content": null,
            "justify_items": null,
            "left": null,
            "margin": null,
            "max_height": null,
            "max_width": null,
            "min_height": null,
            "min_width": null,
            "object_fit": null,
            "object_position": null,
            "order": null,
            "overflow": null,
            "overflow_x": null,
            "overflow_y": null,
            "padding": null,
            "right": null,
            "top": null,
            "visibility": null,
            "width": null
          }
        },
        "380e041398554864b4b135acbb267765": {
          "model_module": "@jupyter-widgets/controls",
          "model_name": "ProgressStyleModel",
          "model_module_version": "1.5.0",
          "state": {
            "_model_module": "@jupyter-widgets/controls",
            "_model_module_version": "1.5.0",
            "_model_name": "ProgressStyleModel",
            "_view_count": null,
            "_view_module": "@jupyter-widgets/base",
            "_view_module_version": "1.2.0",
            "_view_name": "StyleView",
            "bar_color": null,
            "description_width": ""
          }
        },
        "185833caa7b44e138e19e9082dba2170": {
          "model_module": "@jupyter-widgets/controls",
          "model_name": "HBoxModel",
          "model_module_version": "1.5.0",
          "state": {
            "_dom_classes": [],
            "_model_module": "@jupyter-widgets/controls",
            "_model_module_version": "1.5.0",
            "_model_name": "HBoxModel",
            "_view_count": null,
            "_view_module": "@jupyter-widgets/controls",
            "_view_module_version": "1.5.0",
            "_view_name": "HBoxView",
            "box_style": "",
            "children": [
              "IPY_MODEL_daa388c219cc4e089f44382eba184eb6",
              "IPY_MODEL_34c38a2e29e442ca9d75bdc7a67edcf5",
              "IPY_MODEL_3e6eb3b5ff9d434c82f9f96608a412af"
            ],
            "layout": "IPY_MODEL_d3ce878b413c49a2963ace59402bbf89"
          }
        },
        "daa388c219cc4e089f44382eba184eb6": {
          "model_module": "@jupyter-widgets/controls",
          "model_name": "HTMLModel",
          "model_module_version": "1.5.0",
          "state": {
            "_dom_classes": [],
            "_model_module": "@jupyter-widgets/controls",
            "_model_module_version": "1.5.0",
            "_model_name": "HTMLModel",
            "_view_count": null,
            "_view_module": "@jupyter-widgets/controls",
            "_view_module_version": "1.5.0",
            "_view_name": "HTMLView",
            "description": "",
            "description_tooltip": null,
            "layout": "IPY_MODEL_6732c5f0e5764ecd86f7e4fcd43c5e44",
            "placeholder": "​",
            "style": "IPY_MODEL_544cde2a37aa4cd78685c3a9cca60261",
            "value": "Map: 100%"
          }
        },
        "34c38a2e29e442ca9d75bdc7a67edcf5": {
          "model_module": "@jupyter-widgets/controls",
          "model_name": "FloatProgressModel",
          "model_module_version": "1.5.0",
          "state": {
            "_dom_classes": [],
            "_model_module": "@jupyter-widgets/controls",
            "_model_module_version": "1.5.0",
            "_model_name": "FloatProgressModel",
            "_view_count": null,
            "_view_module": "@jupyter-widgets/controls",
            "_view_module_version": "1.5.0",
            "_view_name": "ProgressView",
            "bar_style": "success",
            "description": "",
            "description_tooltip": null,
            "layout": "IPY_MODEL_dab251b2019b48418c3d61123ab993a4",
            "max": 1000,
            "min": 0,
            "orientation": "horizontal",
            "style": "IPY_MODEL_53c25cf0829a49588c74e5430c5baf46",
            "value": 1000
          }
        },
        "3e6eb3b5ff9d434c82f9f96608a412af": {
          "model_module": "@jupyter-widgets/controls",
          "model_name": "HTMLModel",
          "model_module_version": "1.5.0",
          "state": {
            "_dom_classes": [],
            "_model_module": "@jupyter-widgets/controls",
            "_model_module_version": "1.5.0",
            "_model_name": "HTMLModel",
            "_view_count": null,
            "_view_module": "@jupyter-widgets/controls",
            "_view_module_version": "1.5.0",
            "_view_name": "HTMLView",
            "description": "",
            "description_tooltip": null,
            "layout": "IPY_MODEL_10e21b89fcf948d48f4756725d7a1bed",
            "placeholder": "​",
            "style": "IPY_MODEL_c892f9d557c9443a97a08eb9b23a9711",
            "value": " 1000/1000 [00:00&lt;00:00, 6898.83 examples/s]"
          }
        },
        "d3ce878b413c49a2963ace59402bbf89": {
          "model_module": "@jupyter-widgets/base",
          "model_name": "LayoutModel",
          "model_module_version": "1.2.0",
          "state": {
            "_model_module": "@jupyter-widgets/base",
            "_model_module_version": "1.2.0",
            "_model_name": "LayoutModel",
            "_view_count": null,
            "_view_module": "@jupyter-widgets/base",
            "_view_module_version": "1.2.0",
            "_view_name": "LayoutView",
            "align_content": null,
            "align_items": null,
            "align_self": null,
            "border": null,
            "bottom": null,
            "display": null,
            "flex": null,
            "flex_flow": null,
            "grid_area": null,
            "grid_auto_columns": null,
            "grid_auto_flow": null,
            "grid_auto_rows": null,
            "grid_column": null,
            "grid_gap": null,
            "grid_row": null,
            "grid_template_areas": null,
            "grid_template_columns": null,
            "grid_template_rows": null,
            "height": null,
            "justify_content": null,
            "justify_items": null,
            "left": null,
            "margin": null,
            "max_height": null,
            "max_width": null,
            "min_height": null,
            "min_width": null,
            "object_fit": null,
            "object_position": null,
            "order": null,
            "overflow": null,
            "overflow_x": null,
            "overflow_y": null,
            "padding": null,
            "right": null,
            "top": null,
            "visibility": null,
            "width": null
          }
        },
        "6732c5f0e5764ecd86f7e4fcd43c5e44": {
          "model_module": "@jupyter-widgets/base",
          "model_name": "LayoutModel",
          "model_module_version": "1.2.0",
          "state": {
            "_model_module": "@jupyter-widgets/base",
            "_model_module_version": "1.2.0",
            "_model_name": "LayoutModel",
            "_view_count": null,
            "_view_module": "@jupyter-widgets/base",
            "_view_module_version": "1.2.0",
            "_view_name": "LayoutView",
            "align_content": null,
            "align_items": null,
            "align_self": null,
            "border": null,
            "bottom": null,
            "display": null,
            "flex": null,
            "flex_flow": null,
            "grid_area": null,
            "grid_auto_columns": null,
            "grid_auto_flow": null,
            "grid_auto_rows": null,
            "grid_column": null,
            "grid_gap": null,
            "grid_row": null,
            "grid_template_areas": null,
            "grid_template_columns": null,
            "grid_template_rows": null,
            "height": null,
            "justify_content": null,
            "justify_items": null,
            "left": null,
            "margin": null,
            "max_height": null,
            "max_width": null,
            "min_height": null,
            "min_width": null,
            "object_fit": null,
            "object_position": null,
            "order": null,
            "overflow": null,
            "overflow_x": null,
            "overflow_y": null,
            "padding": null,
            "right": null,
            "top": null,
            "visibility": null,
            "width": null
          }
        },
        "544cde2a37aa4cd78685c3a9cca60261": {
          "model_module": "@jupyter-widgets/controls",
          "model_name": "DescriptionStyleModel",
          "model_module_version": "1.5.0",
          "state": {
            "_model_module": "@jupyter-widgets/controls",
            "_model_module_version": "1.5.0",
            "_model_name": "DescriptionStyleModel",
            "_view_count": null,
            "_view_module": "@jupyter-widgets/base",
            "_view_module_version": "1.2.0",
            "_view_name": "StyleView",
            "description_width": ""
          }
        },
        "dab251b2019b48418c3d61123ab993a4": {
          "model_module": "@jupyter-widgets/base",
          "model_name": "LayoutModel",
          "model_module_version": "1.2.0",
          "state": {
            "_model_module": "@jupyter-widgets/base",
            "_model_module_version": "1.2.0",
            "_model_name": "LayoutModel",
            "_view_count": null,
            "_view_module": "@jupyter-widgets/base",
            "_view_module_version": "1.2.0",
            "_view_name": "LayoutView",
            "align_content": null,
            "align_items": null,
            "align_self": null,
            "border": null,
            "bottom": null,
            "display": null,
            "flex": null,
            "flex_flow": null,
            "grid_area": null,
            "grid_auto_columns": null,
            "grid_auto_flow": null,
            "grid_auto_rows": null,
            "grid_column": null,
            "grid_gap": null,
            "grid_row": null,
            "grid_template_areas": null,
            "grid_template_columns": null,
            "grid_template_rows": null,
            "height": null,
            "justify_content": null,
            "justify_items": null,
            "left": null,
            "margin": null,
            "max_height": null,
            "max_width": null,
            "min_height": null,
            "min_width": null,
            "object_fit": null,
            "object_position": null,
            "order": null,
            "overflow": null,
            "overflow_x": null,
            "overflow_y": null,
            "padding": null,
            "right": null,
            "top": null,
            "visibility": null,
            "width": null
          }
        },
        "53c25cf0829a49588c74e5430c5baf46": {
          "model_module": "@jupyter-widgets/controls",
          "model_name": "ProgressStyleModel",
          "model_module_version": "1.5.0",
          "state": {
            "_model_module": "@jupyter-widgets/controls",
            "_model_module_version": "1.5.0",
            "_model_name": "ProgressStyleModel",
            "_view_count": null,
            "_view_module": "@jupyter-widgets/base",
            "_view_module_version": "1.2.0",
            "_view_name": "StyleView",
            "bar_color": null,
            "description_width": ""
          }
        },
        "10e21b89fcf948d48f4756725d7a1bed": {
          "model_module": "@jupyter-widgets/base",
          "model_name": "LayoutModel",
          "model_module_version": "1.2.0",
          "state": {
            "_model_module": "@jupyter-widgets/base",
            "_model_module_version": "1.2.0",
            "_model_name": "LayoutModel",
            "_view_count": null,
            "_view_module": "@jupyter-widgets/base",
            "_view_module_version": "1.2.0",
            "_view_name": "LayoutView",
            "align_content": null,
            "align_items": null,
            "align_self": null,
            "border": null,
            "bottom": null,
            "display": null,
            "flex": null,
            "flex_flow": null,
            "grid_area": null,
            "grid_auto_columns": null,
            "grid_auto_flow": null,
            "grid_auto_rows": null,
            "grid_column": null,
            "grid_gap": null,
            "grid_row": null,
            "grid_template_areas": null,
            "grid_template_columns": null,
            "grid_template_rows": null,
            "height": null,
            "justify_content": null,
            "justify_items": null,
            "left": null,
            "margin": null,
            "max_height": null,
            "max_width": null,
            "min_height": null,
            "min_width": null,
            "object_fit": null,
            "object_position": null,
            "order": null,
            "overflow": null,
            "overflow_x": null,
            "overflow_y": null,
            "padding": null,
            "right": null,
            "top": null,
            "visibility": null,
            "width": null
          }
        },
        "c892f9d557c9443a97a08eb9b23a9711": {
          "model_module": "@jupyter-widgets/controls",
          "model_name": "DescriptionStyleModel",
          "model_module_version": "1.5.0",
          "state": {
            "_model_module": "@jupyter-widgets/controls",
            "_model_module_version": "1.5.0",
            "_model_name": "DescriptionStyleModel",
            "_view_count": null,
            "_view_module": "@jupyter-widgets/base",
            "_view_module_version": "1.2.0",
            "_view_name": "StyleView",
            "description_width": ""
          }
        },
        "db1d99dfaf98469a8718f8014506daa9": {
          "model_module": "@jupyter-widgets/controls",
          "model_name": "HBoxModel",
          "model_module_version": "1.5.0",
          "state": {
            "_dom_classes": [],
            "_model_module": "@jupyter-widgets/controls",
            "_model_module_version": "1.5.0",
            "_model_name": "HBoxModel",
            "_view_count": null,
            "_view_module": "@jupyter-widgets/controls",
            "_view_module_version": "1.5.0",
            "_view_name": "HBoxView",
            "box_style": "",
            "children": [
              "IPY_MODEL_b2a248e5dbc4471e92563383134bddb1",
              "IPY_MODEL_3e2541dd3c7f4177bd500b8bc2a14ed6",
              "IPY_MODEL_a85d876f975e4936942a9037791ff2fe"
            ],
            "layout": "IPY_MODEL_6cd21f8149c24df396ae127ea1caba77"
          }
        },
        "b2a248e5dbc4471e92563383134bddb1": {
          "model_module": "@jupyter-widgets/controls",
          "model_name": "HTMLModel",
          "model_module_version": "1.5.0",
          "state": {
            "_dom_classes": [],
            "_model_module": "@jupyter-widgets/controls",
            "_model_module_version": "1.5.0",
            "_model_name": "HTMLModel",
            "_view_count": null,
            "_view_module": "@jupyter-widgets/controls",
            "_view_module_version": "1.5.0",
            "_view_name": "HTMLView",
            "description": "",
            "description_tooltip": null,
            "layout": "IPY_MODEL_04c16a5f114241e6a392a29fc3ae8cdc",
            "placeholder": "​",
            "style": "IPY_MODEL_41d4863695f8402d8a6612707a5ad524",
            "value": "Map: 100%"
          }
        },
        "3e2541dd3c7f4177bd500b8bc2a14ed6": {
          "model_module": "@jupyter-widgets/controls",
          "model_name": "FloatProgressModel",
          "model_module_version": "1.5.0",
          "state": {
            "_dom_classes": [],
            "_model_module": "@jupyter-widgets/controls",
            "_model_module_version": "1.5.0",
            "_model_name": "FloatProgressModel",
            "_view_count": null,
            "_view_module": "@jupyter-widgets/controls",
            "_view_module_version": "1.5.0",
            "_view_name": "ProgressView",
            "bar_style": "success",
            "description": "",
            "description_tooltip": null,
            "layout": "IPY_MODEL_b1fea61486ac492fa3eca8e9cb035b66",
            "max": 1000,
            "min": 0,
            "orientation": "horizontal",
            "style": "IPY_MODEL_108599b61b9844f290d83d6f7de8ca9b",
            "value": 1000
          }
        },
        "a85d876f975e4936942a9037791ff2fe": {
          "model_module": "@jupyter-widgets/controls",
          "model_name": "HTMLModel",
          "model_module_version": "1.5.0",
          "state": {
            "_dom_classes": [],
            "_model_module": "@jupyter-widgets/controls",
            "_model_module_version": "1.5.0",
            "_model_name": "HTMLModel",
            "_view_count": null,
            "_view_module": "@jupyter-widgets/controls",
            "_view_module_version": "1.5.0",
            "_view_name": "HTMLView",
            "description": "",
            "description_tooltip": null,
            "layout": "IPY_MODEL_f0d22e1348f2420085624ea43bb347dd",
            "placeholder": "​",
            "style": "IPY_MODEL_9aad7d47c8524b068d48006d5ab6e9a0",
            "value": " 1000/1000 [00:00&lt;00:00, 6132.09 examples/s]"
          }
        },
        "6cd21f8149c24df396ae127ea1caba77": {
          "model_module": "@jupyter-widgets/base",
          "model_name": "LayoutModel",
          "model_module_version": "1.2.0",
          "state": {
            "_model_module": "@jupyter-widgets/base",
            "_model_module_version": "1.2.0",
            "_model_name": "LayoutModel",
            "_view_count": null,
            "_view_module": "@jupyter-widgets/base",
            "_view_module_version": "1.2.0",
            "_view_name": "LayoutView",
            "align_content": null,
            "align_items": null,
            "align_self": null,
            "border": null,
            "bottom": null,
            "display": null,
            "flex": null,
            "flex_flow": null,
            "grid_area": null,
            "grid_auto_columns": null,
            "grid_auto_flow": null,
            "grid_auto_rows": null,
            "grid_column": null,
            "grid_gap": null,
            "grid_row": null,
            "grid_template_areas": null,
            "grid_template_columns": null,
            "grid_template_rows": null,
            "height": null,
            "justify_content": null,
            "justify_items": null,
            "left": null,
            "margin": null,
            "max_height": null,
            "max_width": null,
            "min_height": null,
            "min_width": null,
            "object_fit": null,
            "object_position": null,
            "order": null,
            "overflow": null,
            "overflow_x": null,
            "overflow_y": null,
            "padding": null,
            "right": null,
            "top": null,
            "visibility": null,
            "width": null
          }
        },
        "04c16a5f114241e6a392a29fc3ae8cdc": {
          "model_module": "@jupyter-widgets/base",
          "model_name": "LayoutModel",
          "model_module_version": "1.2.0",
          "state": {
            "_model_module": "@jupyter-widgets/base",
            "_model_module_version": "1.2.0",
            "_model_name": "LayoutModel",
            "_view_count": null,
            "_view_module": "@jupyter-widgets/base",
            "_view_module_version": "1.2.0",
            "_view_name": "LayoutView",
            "align_content": null,
            "align_items": null,
            "align_self": null,
            "border": null,
            "bottom": null,
            "display": null,
            "flex": null,
            "flex_flow": null,
            "grid_area": null,
            "grid_auto_columns": null,
            "grid_auto_flow": null,
            "grid_auto_rows": null,
            "grid_column": null,
            "grid_gap": null,
            "grid_row": null,
            "grid_template_areas": null,
            "grid_template_columns": null,
            "grid_template_rows": null,
            "height": null,
            "justify_content": null,
            "justify_items": null,
            "left": null,
            "margin": null,
            "max_height": null,
            "max_width": null,
            "min_height": null,
            "min_width": null,
            "object_fit": null,
            "object_position": null,
            "order": null,
            "overflow": null,
            "overflow_x": null,
            "overflow_y": null,
            "padding": null,
            "right": null,
            "top": null,
            "visibility": null,
            "width": null
          }
        },
        "41d4863695f8402d8a6612707a5ad524": {
          "model_module": "@jupyter-widgets/controls",
          "model_name": "DescriptionStyleModel",
          "model_module_version": "1.5.0",
          "state": {
            "_model_module": "@jupyter-widgets/controls",
            "_model_module_version": "1.5.0",
            "_model_name": "DescriptionStyleModel",
            "_view_count": null,
            "_view_module": "@jupyter-widgets/base",
            "_view_module_version": "1.2.0",
            "_view_name": "StyleView",
            "description_width": ""
          }
        },
        "b1fea61486ac492fa3eca8e9cb035b66": {
          "model_module": "@jupyter-widgets/base",
          "model_name": "LayoutModel",
          "model_module_version": "1.2.0",
          "state": {
            "_model_module": "@jupyter-widgets/base",
            "_model_module_version": "1.2.0",
            "_model_name": "LayoutModel",
            "_view_count": null,
            "_view_module": "@jupyter-widgets/base",
            "_view_module_version": "1.2.0",
            "_view_name": "LayoutView",
            "align_content": null,
            "align_items": null,
            "align_self": null,
            "border": null,
            "bottom": null,
            "display": null,
            "flex": null,
            "flex_flow": null,
            "grid_area": null,
            "grid_auto_columns": null,
            "grid_auto_flow": null,
            "grid_auto_rows": null,
            "grid_column": null,
            "grid_gap": null,
            "grid_row": null,
            "grid_template_areas": null,
            "grid_template_columns": null,
            "grid_template_rows": null,
            "height": null,
            "justify_content": null,
            "justify_items": null,
            "left": null,
            "margin": null,
            "max_height": null,
            "max_width": null,
            "min_height": null,
            "min_width": null,
            "object_fit": null,
            "object_position": null,
            "order": null,
            "overflow": null,
            "overflow_x": null,
            "overflow_y": null,
            "padding": null,
            "right": null,
            "top": null,
            "visibility": null,
            "width": null
          }
        },
        "108599b61b9844f290d83d6f7de8ca9b": {
          "model_module": "@jupyter-widgets/controls",
          "model_name": "ProgressStyleModel",
          "model_module_version": "1.5.0",
          "state": {
            "_model_module": "@jupyter-widgets/controls",
            "_model_module_version": "1.5.0",
            "_model_name": "ProgressStyleModel",
            "_view_count": null,
            "_view_module": "@jupyter-widgets/base",
            "_view_module_version": "1.2.0",
            "_view_name": "StyleView",
            "bar_color": null,
            "description_width": ""
          }
        },
        "f0d22e1348f2420085624ea43bb347dd": {
          "model_module": "@jupyter-widgets/base",
          "model_name": "LayoutModel",
          "model_module_version": "1.2.0",
          "state": {
            "_model_module": "@jupyter-widgets/base",
            "_model_module_version": "1.2.0",
            "_model_name": "LayoutModel",
            "_view_count": null,
            "_view_module": "@jupyter-widgets/base",
            "_view_module_version": "1.2.0",
            "_view_name": "LayoutView",
            "align_content": null,
            "align_items": null,
            "align_self": null,
            "border": null,
            "bottom": null,
            "display": null,
            "flex": null,
            "flex_flow": null,
            "grid_area": null,
            "grid_auto_columns": null,
            "grid_auto_flow": null,
            "grid_auto_rows": null,
            "grid_column": null,
            "grid_gap": null,
            "grid_row": null,
            "grid_template_areas": null,
            "grid_template_columns": null,
            "grid_template_rows": null,
            "height": null,
            "justify_content": null,
            "justify_items": null,
            "left": null,
            "margin": null,
            "max_height": null,
            "max_width": null,
            "min_height": null,
            "min_width": null,
            "object_fit": null,
            "object_position": null,
            "order": null,
            "overflow": null,
            "overflow_x": null,
            "overflow_y": null,
            "padding": null,
            "right": null,
            "top": null,
            "visibility": null,
            "width": null
          }
        },
        "9aad7d47c8524b068d48006d5ab6e9a0": {
          "model_module": "@jupyter-widgets/controls",
          "model_name": "DescriptionStyleModel",
          "model_module_version": "1.5.0",
          "state": {
            "_model_module": "@jupyter-widgets/controls",
            "_model_module_version": "1.5.0",
            "_model_name": "DescriptionStyleModel",
            "_view_count": null,
            "_view_module": "@jupyter-widgets/base",
            "_view_module_version": "1.2.0",
            "_view_name": "StyleView",
            "description_width": ""
          }
        }
      }
    }
  },
  "nbformat": 4,
  "nbformat_minor": 5
}