{
  "cells": [
    {
      "cell_type": "markdown",
      "metadata": {
        "id": "59943946"
      },
      "source": [
        "# <font color = 'indianred'>**HW5 PartB - MultiClass Classification with different checkpoints- 6 Points** </font>\n",
        "\n",
        "**Homework Instructions: Model Performance Comparisons**\n",
        "\n",
        "---\n",
        "\n",
        "**Objective:**  \n",
        "Compare the performance of different model checkpoints on a given task using the provided functions and notebook setup.\n",
        "\n",
        "---\n",
        "\n",
        "**Instructions:**\n",
        "\n",
        "1. **Setup & Initialization:**\n",
        "    - Start by setting up your environment. Ensure you have all necessary dependencies installed.\n",
        "    - All functions and required code blocks are pre-written for you.\n",
        "\n",
        "2. **Experiment 1 - Using DistilBERT:**\n",
        "    - In the specified code block, set the model checkpoint name to `\"distilbert-base-uncased\"`.\n",
        "\n",
        "3. **Experiment 2 - Choosing a New Model:**\n",
        "    -  Search for a model similar in size to DistilBERT that have a similar or better performance.\n",
        "    - Get the model check point name from the [Hugging Face Model Hub](https://huggingface.co/models).\n",
        "    - In this experiment, replace the model checkpoint name with the one you've chosen from the Model Hub.\n",
        "\n",
        "\n",
        "4. **Experiment 3 - Another Model Choice:**\n",
        "    - Go back to the [Hugging Face Model Hub](https://huggingface.co/models).\n",
        "    - Select another model (different from your choice in Experiment 2) with a similar size to DistilBERT.\n",
        "    - Update the model checkpoint name in the cell for experiment 3.\n",
        "\n",
        "5. **Conclusion:**\n",
        "    - Analyze the results of all three experiments.\n",
        "    - Discuss any differences in performance between the models. What might be causing these differences?\n",
        "    - Conclude by summarizing your findings and providing insights on which model checkpoint performed best and why.\n",
        "\n",
        "---\n",
        "\n",
        "**Note:** It's essential to only change the model checkpoint name in each experiment. All other parameters and functions should remain unchanged to ensure a fair comparison between the models.\n",
        "\n",
        "---\n",
        "- **You have to submit two files for this part of the HW**\n",
        "  >(1) ipynb (colab notebook) and<br>\n",
        "  >(2) pdf file (pdf version of the colab file).**\n",
        "- **Files should be named as follows**:\n",
        ">FirstName_LastName_HW_5_PartB**"
      ],
      "id": "59943946"
    },
    {
      "cell_type": "markdown",
      "metadata": {
        "id": "e8665b2c"
      },
      "source": [
        "This notebook has been modified to include functions that allow switching between different pre-trained models for training and evaluation."
      ],
      "id": "e8665b2c"
    },
    {
      "cell_type": "markdown",
      "metadata": {
        "id": "145419c4"
      },
      "source": [
        "## Set Up Environment"
      ],
      "id": "145419c4"
    },
    {
      "cell_type": "code",
      "execution_count": 15,
      "metadata": {
        "colab": {
          "base_uri": "https://localhost:8080/"
        },
        "id": "63fbeb4c",
        "outputId": "a5a0fe4e-eb12-4811-de74-21988eea044f"
      },
      "outputs": [
        {
          "output_type": "stream",
          "name": "stdout",
          "text": [
            "Drive already mounted at /content/drive; to attempt to forcibly remount, call drive.mount(\"/content/drive\", force_remount=True).\n"
          ]
        }
      ],
      "source": [
        "from pathlib import Path\n",
        "if 'google.colab' in str(get_ipython()):\n",
        "    from google.colab import drive\n",
        "    drive.mount(\"/content/drive\")\n",
        "    !pip install datasets transformers evaluate wandb accelerate -U -qq\n",
        "    base_folder = Path(\"/content/drive/MyDrive/Colab Notebooks/NLP\") # CHANGE BASED ON YOUR SETUP\n",
        "else:\n",
        "    base_folder = Path(\"/home/harpreet/Insync/google_drive_shaannoor/data\") # CHANGE BASED ON YOUR SETUP\n",
        "\n",
        "\n",
        "from transformers import AutoConfig, AutoModelForSequenceClassification, AutoTokenizer, Trainer, TrainingArguments, DistilBertTokenizer, XLNetTokenizer, XLNetForSequenceClassification\n",
        "from transformers import AutoTokenizer, DataCollatorWithPadding, pipeline, RobertaTokenizer, RobertaForSequenceClassification, GPT2Tokenizer, GPT2ForSequenceClassification\n",
        "from datasets import load_dataset, DatasetDict, Dataset, ClassLabel\n",
        "import evaluate\n",
        "\n",
        "import torch\n",
        "from torch.utils.data import DataLoader\n",
        "\n",
        "import wandb\n",
        "\n",
        "import numpy as np\n",
        "from sklearn.metrics import ConfusionMatrixDisplay\n",
        "import matplotlib.pyplot as plt\n",
        "import random\n",
        "\n",
        "import textwrap\n",
        "import gc\n",
        "\n",
        "from datasets.utils.logging import disable_progress_bar\n",
        "disable_progress_bar()\n",
        "\n",
        "data_folder = base_folder # CHANGE BASED ON YOUR SETUP\n",
        "model_folder = base_folder/'Models' # CHANGE BASED ON YOUR SETUP\n",
        "model_folder.mkdir(exist_ok=True)\n"
      ],
      "id": "63fbeb4c"
    },
    {
      "cell_type": "markdown",
      "metadata": {
        "id": "wnpoK38UK-iu"
      },
      "source": [
        "**---------DO NOT CHANGE ANY OF THE FUNCTIONS------------**"
      ],
      "id": "wnpoK38UK-iu"
    },
    {
      "cell_type": "markdown",
      "metadata": {
        "id": "e3b5d101"
      },
      "source": [
        "## Function to Load Dataset"
      ],
      "id": "e3b5d101"
    },
    {
      "cell_type": "code",
      "execution_count": 2,
      "metadata": {
        "id": "188b9434"
      },
      "outputs": [],
      "source": [
        "def load_custom_dataset(data_path, label_columns_name, text_column_name, class_names=None):\n",
        "    from datasets import load_dataset\n",
        "    dataset = load_dataset('csv', data_files=str(data_path))\n",
        "    selected_columns = {\n",
        "    'text': dataset['train'][text_column_name],\n",
        "    'label': dataset['train'][label_columns_name]\n",
        "    }\n",
        "\n",
        "    # Create a new dataset with the selected columns\n",
        "    dataset_selected_columns = Dataset.from_dict(selected_columns)\n",
        "    dataset_selected_columns.set_format(type='pandas')\n",
        "    df = dataset_selected_columns[:]\n",
        "    df['text'] = df['text'].fillna('')\n",
        "    dataset_selected_columns.reset_format()\n",
        "\n",
        "    if class_names:\n",
        "        dataset_selected_columns = dataset_selected_columns.cast_column('label', ClassLabel(names = class_names))\n",
        "\n",
        "    return dataset_selected_columns\n"
      ],
      "id": "188b9434"
    },
    {
      "cell_type": "markdown",
      "metadata": {
        "id": "0a5740d9"
      },
      "source": [
        "## Function to Split Dataset\n"
      ],
      "id": "0a5740d9"
    },
    {
      "cell_type": "code",
      "execution_count": 3,
      "metadata": {
        "id": "29a9e5fb"
      },
      "outputs": [],
      "source": [
        "def split_dataset(dataset, train_size, val_size, test_size):\n",
        "    test_val_splits = dataset.train_test_split(train_size=train_size, seed=42, stratify_by_column='label')\n",
        "    train_split= test_val_splits['train']\n",
        "    test_size_new =test_size/(test_size + val_size)\n",
        "    test_val_splits = test_val_splits['test'].train_test_split(test_size=test_size_new, seed=42, stratify_by_column='label')\n",
        "    val_split = test_val_splits['train']\n",
        "    test_split = test_val_splits['test']\n",
        "\n",
        "    train_val_dataset = DatasetDict({'train': train_split, 'val': val_split})\n",
        "    test_dataset = DatasetDict({'test': test_split})\n",
        "\n",
        "    return train_val_dataset, test_dataset\n"
      ],
      "id": "29a9e5fb"
    },
    {
      "cell_type": "markdown",
      "metadata": {
        "id": "5ffc2f60"
      },
      "source": [
        "## Function to Create smaller subset"
      ],
      "id": "5ffc2f60"
    },
    {
      "cell_type": "code",
      "execution_count": 4,
      "metadata": {
        "id": "b2d2507b"
      },
      "outputs": [],
      "source": [
        "def get_small_balanced_subset(dataset, num_samples_per_class):\n",
        "    subset = DatasetDict()\n",
        "\n",
        "    for split in list(dataset.keys()):\n",
        "        texts = []\n",
        "        labels = []\n",
        "        for label in range(10):\n",
        "            label_texts = dataset[split].filter(lambda x: x['label'] == label)['text']\n",
        "            label_subset = random.sample(list(label_texts), num_samples_per_class)\n",
        "            texts.extend(label_subset)\n",
        "            labels.extend([label]*len(label_subset))\n",
        "\n",
        "        subset[split] = Dataset.from_dict({'text': texts, 'label': labels})\n",
        "\n",
        "    return subset"
      ],
      "id": "b2d2507b"
    },
    {
      "cell_type": "markdown",
      "metadata": {
        "id": "9c9671ad"
      },
      "source": [
        "## Function for Tokenization"
      ],
      "id": "9c9671ad"
    },
    {
      "cell_type": "code",
      "execution_count": 5,
      "metadata": {
        "id": "06ad039a"
      },
      "outputs": [],
      "source": [
        "def get_tokenized_dataset(checkpoint, dataset):\n",
        "    tokenizer = AutoTokenizer.from_pretrained(checkpoint)\n",
        "\n",
        "    def tokenize_fn(batch):\n",
        "        # Debug print statements\n",
        "        # print(f\"Type of batch['text']: {type(batch['text'])}\")\n",
        "        # print(f\"First item in batch['text']: {batch['text'][0]}\")\n",
        "        return tokenizer(batch[\"text\"], truncation=True)\n",
        "\n",
        "    tokenized_dataset = dataset.map(tokenize_fn, batched=True)\n",
        "    return tokenized_dataset\n"
      ],
      "id": "06ad039a"
    },
    {
      "cell_type": "markdown",
      "metadata": {
        "id": "9ea508bc"
      },
      "source": [
        "## Function to Create Datasets"
      ],
      "id": "9ea508bc"
    },
    {
      "cell_type": "code",
      "execution_count": 6,
      "metadata": {
        "id": "6bffad28"
      },
      "outputs": [],
      "source": [
        "def setup_dataset(data_folder, class_names, num_samples_per_class):\n",
        "\n",
        "    # Constants for loading and splitting\n",
        "    data_path = data_folder / 'multiclass_hw_basic_clean.csv'\n",
        "    label_columns_name = 'Tag_Number_final'\n",
        "    text_column_name = 'basic_cleaned_text'\n",
        "\n",
        "    # 1. Load Dataset\n",
        "    dataset = load_custom_dataset(data_path, label_columns_name, text_column_name, class_names=class_names)\n",
        "\n",
        "    # 2. Split Dataset\n",
        "    train_val_dataset, test_dataset = split_dataset(dataset, train_size=0.6, val_size=0.2, test_size=0.2)\n",
        "\n",
        "    # 3. Get Small Balanced Subset\n",
        "    train_val_subset = get_small_balanced_subset(train_val_dataset, num_samples_per_class=num_samples_per_class)\n",
        "\n",
        "    return train_val_subset, train_val_dataset, test_dataset\n",
        "\n"
      ],
      "id": "6bffad28"
    },
    {
      "cell_type": "markdown",
      "metadata": {
        "id": "0b4b6048"
      },
      "source": [
        "## Function to Initialize Model"
      ],
      "id": "0b4b6048"
    },
    {
      "cell_type": "code",
      "execution_count": 7,
      "metadata": {
        "id": "0cac30bc"
      },
      "outputs": [],
      "source": [
        "def initialize_model(checkpoint, class_names):\n",
        "    config = AutoConfig.from_pretrained(checkpoint)\n",
        "    id2label = {}\n",
        "    for id_, label_ in enumerate(class_names):\n",
        "        id2label[str(id_)] = label_\n",
        "\n",
        "    label2id = {}\n",
        "    for id_, label_ in enumerate(class_names):\n",
        "        label2id[label_] = id_\n",
        "\n",
        "    config.id2label = id2label\n",
        "    config.label2id = label2id\n",
        "\n",
        "    model = AutoModelForSequenceClassification.from_pretrained(checkpoint, config=config)\n",
        "    return model"
      ],
      "id": "0cac30bc"
    },
    {
      "cell_type": "markdown",
      "metadata": {
        "id": "79623f01"
      },
      "source": [
        "## Function to Compute Metrics"
      ],
      "id": "79623f01"
    },
    {
      "cell_type": "code",
      "execution_count": 8,
      "metadata": {
        "id": "8fe967fb"
      },
      "outputs": [],
      "source": [
        "def compute_metrics(eval_pred):\n",
        "\n",
        "    logits, labels = eval_pred\n",
        "    predictions = np.argmax(logits, axis=-1)\n",
        "\n",
        "    f1_metric = evaluate.load(\"f1\", average=\"macro\")\n",
        "    accuracy = evaluate.load(\"accuracy\")\n",
        "\n",
        "    evaluations = {}\n",
        "    evaluations.update(f1_metric.compute(predictions=predictions, references = labels, average=\"macro\"))\n",
        "    evaluations.update(accuracy.compute(predictions=predictions, references = labels))\n",
        "\n",
        "    return evaluations"
      ],
      "id": "8fe967fb"
    },
    {
      "cell_type": "markdown",
      "metadata": {
        "id": "52370c8a"
      },
      "source": [
        "## Function to set Trainer"
      ],
      "id": "52370c8a"
    },
    {
      "cell_type": "code",
      "execution_count": 9,
      "metadata": {
        "id": "4240b3e8"
      },
      "outputs": [],
      "source": [
        "def get_trainer(model, training_args, train_dataset, eval_dataset, compute_metrics, tokenizer, data_collator):\n",
        "    trainer = Trainer(\n",
        "        model=model,\n",
        "        args=training_args,\n",
        "        train_dataset=train_dataset,\n",
        "        eval_dataset=eval_dataset,\n",
        "        compute_metrics=compute_metrics,\n",
        "        tokenizer=tokenizer,\n",
        "        data_collator= data_collator\n",
        "    )\n",
        "    return trainer"
      ],
      "id": "4240b3e8"
    },
    {
      "cell_type": "markdown",
      "metadata": {
        "id": "af37d2ae"
      },
      "source": [
        "## Function to plot confusion matrix"
      ],
      "id": "af37d2ae"
    },
    {
      "cell_type": "code",
      "execution_count": 10,
      "metadata": {
        "id": "f9cad3f5"
      },
      "outputs": [],
      "source": [
        "def log_and_plot_confusion_matrix(trainer, tokenized_val_dataset, class_names):\n",
        "    # Perform prediction using the trainer\n",
        "    valid_output = trainer.predict(tokenized_val_dataset)\n",
        "\n",
        "    # Extract the predicted labels and true labels\n",
        "    valid_preds = np.argmax(valid_output.predictions, axis=1)\n",
        "    valid_labels = np.array(valid_output.label_ids)\n",
        "\n",
        "    # Log the confusion matrix to wandb\n",
        "    wandb.log({\n",
        "        \"conf_mat\": wandb.plot.confusion_matrix(\n",
        "            preds=valid_preds,\n",
        "            y_true=valid_labels,\n",
        "            class_names=class_names\n",
        "        )\n",
        "    })\n",
        "\n",
        "    # Plot the confusion matrix using Matplotlib\n",
        "    fig, ax = plt.subplots(figsize=(8, 6))\n",
        "    ConfusionMatrixDisplay.from_predictions(\n",
        "        y_true=valid_labels,\n",
        "        y_pred=valid_preds,\n",
        "        ax=ax,\n",
        "        normalize=\"true\",\n",
        "        display_labels=class_names,\n",
        "        xticks_rotation=90\n",
        "    )\n",
        "    plt.show()"
      ],
      "id": "f9cad3f5"
    },
    {
      "cell_type": "markdown",
      "metadata": {
        "id": "4bf60cc4"
      },
      "source": [
        "## Function to free memory"
      ],
      "id": "4bf60cc4"
    },
    {
      "cell_type": "code",
      "execution_count": 11,
      "metadata": {
        "id": "7200c892"
      },
      "outputs": [],
      "source": [
        "def free_memory():\n",
        "    \"\"\"\n",
        "    Attempts to free up memory by deleting variables and running Python's garbage collector.\n",
        "    \"\"\"\n",
        "    gc.collect()\n",
        "    for device_id in range(torch.cuda.device_count()):\n",
        "        torch.cuda.set_device(device_id)\n",
        "        torch.cuda.empty_cache()\n",
        "    gc.collect()\n"
      ],
      "id": "7200c892"
    },
    {
      "cell_type": "markdown",
      "metadata": {
        "id": "7cef1674"
      },
      "source": [
        "## Function to tokenize dataset and, train and eval models\n",
        "\n",
        "<font color = 'indianred'>**ALLOWED TO CHANGE THE BLOCK IN THE FUNCTION BELOW**"
      ],
      "id": "7cef1674"
    },
    {
      "cell_type": "code",
      "execution_count": 12,
      "metadata": {
        "id": "8be2ae4f"
      },
      "outputs": [],
      "source": [
        "def tokenize_train_evaluate_log(training_args, checkpoint, base_folder, class_names, train_val_subset, compute_metrics):\n",
        "    # 1. Free memory\n",
        "    free_memory()\n",
        "\n",
        "    # 2. Setup wandb\n",
        "    wandb.login()\n",
        "    %env WANDB_PROJECT = nlp_course_fall_2023-HW5-Part-B-Colab\n",
        "\n",
        "    ######################## ALLOWED TO CHANGE THIS BLOCK ################################################\n",
        "\n",
        "    # MAKE SURE THE BASE FOLDER IS SETUP CORRECTLY\n",
        "    #  YOU CAN CHANGE THIS LINE IF YOU WANT TO SAVE IN A DIFFERENT FOLDER\n",
        "\n",
        "    model_folder = base_folder/'Models'/checkpoint\n",
        "    model_folder.mkdir(exist_ok=True, parents=True)\n",
        "\n",
        "    ######################## ALLOWED TO CHANGE THIS BLOCK ################################################\n",
        "\n",
        "\n",
        "    # 3. Get Tokenized Dataset and Data Collator\n",
        "    train_val_tokenized_dataset = get_tokenized_dataset(checkpoint, train_val_subset)\n",
        "\n",
        "    # 4. Initialize Model and Tokenizer\n",
        "    model = initialize_model(checkpoint, class_names)\n",
        "    tokenizer = AutoTokenizer.from_pretrained(checkpoint)\n",
        "\n",
        "    # 5. Initialize Trainer\n",
        "    data_collator = DataCollatorWithPadding(tokenizer=tokenizer)\n",
        "    trainer = get_trainer(model, training_args, train_val_tokenized_dataset['train'],\n",
        "                          train_val_tokenized_dataset['val'], compute_metrics, tokenizer, data_collator)\n",
        "\n",
        "    # 6. Train and Evaluate\n",
        "    trainer.train()\n",
        "    trainer.evaluate(train_val_tokenized_dataset['val'])\n",
        "\n",
        "    # 7. Log Metrics and Plot\n",
        "    log_and_plot_confusion_matrix(trainer, train_val_tokenized_dataset['val'], class_names)\n",
        "\n",
        "    best_model_checkpoint_step = trainer.state.best_model_checkpoint.split('-')[-1]\n",
        "    wandb.log({\"best_model_checkpoint_step\": best_model_checkpoint_step})\n",
        "    print(f\"The best model was saved at step {best_model_checkpoint_step}.\")\n",
        "\n",
        "    wandb.finish()"
      ],
      "id": "8be2ae4f"
    },
    {
      "cell_type": "markdown",
      "metadata": {
        "id": "648be75c"
      },
      "source": [
        "## Initial Training Arguments\n",
        "\n",
        "DO NOT CHANGE ANY ARGUMENTS"
      ],
      "id": "648be75c"
    },
    {
      "cell_type": "code",
      "execution_count": 22,
      "metadata": {
        "id": "a81746c2"
      },
      "outputs": [],
      "source": [
        "training_args = TrainingArguments(\n",
        "    # Training-specific configurations\n",
        "    num_train_epochs=2,\n",
        "    per_device_train_batch_size=16,\n",
        "    per_device_eval_batch_size=16,\n",
        "    weight_decay=0.01,  # Apply L2 regularization to prevent overfitting\n",
        "    learning_rate=2e-5,  # Step size for the optimizer during training\n",
        "    optim='adamw_torch',  # Optimizer,\n",
        "\n",
        "    # Checkpoint saving and model evaluation settings\n",
        "    output_dir=str(model_folder),  # Directory to save model checkpoints\n",
        "    evaluation_strategy='steps',  # Evaluate model at specified step intervals\n",
        "    eval_steps=20,  # Perform evaluation every 10 training steps\n",
        "    save_strategy=\"steps\",  # Save model checkpoint at specified step intervals\n",
        "    save_steps=20,  # Save a model checkpoint every 10 training steps\n",
        "    load_best_model_at_end=True,  # Reload the best model at the end of training\n",
        "    save_total_limit=2,  # Retain only the best and the most recent model checkpoints\n",
        "    # Use 'accuracy' as the metric to determine the best model\n",
        "    metric_for_best_model=\"accuracy\",\n",
        "    greater_is_better=True,  # A model is 'better' if its accuracy is higher\n",
        "    # Experiment logging configurations (commented out in this example)\n",
        "    logging_strategy='steps',\n",
        "    logging_steps=20,\n",
        "    report_to='wandb',  # Log metrics and results to Weights & Biases platform\n",
        "    run_name= 'exp1',  # Experiment name for Weights & Biases\n",
        ")"
      ],
      "id": "a81746c2"
    },
    {
      "cell_type": "markdown",
      "metadata": {
        "id": "1e09e994"
      },
      "source": [
        "# Experiments"
      ],
      "id": "1e09e994"
    },
    {
      "cell_type": "markdown",
      "metadata": {
        "id": "9cf49386"
      },
      "source": [
        "## Dataset hyperparameters"
      ],
      "id": "9cf49386"
    },
    {
      "cell_type": "code",
      "execution_count": 19,
      "metadata": {
        "id": "0e15f38c"
      },
      "outputs": [],
      "source": [
        "class_names = ['c#', 'java', 'php','javascript', 'android', 'jquery', 'c++',  'python', 'iphone', 'asp.net']\n",
        "num_samples_per_class = 200\n",
        "train_val_subset, train_val_dataset, test_dataset = setup_dataset(data_folder, class_names, num_samples_per_class)"
      ],
      "id": "0e15f38c"
    },
    {
      "cell_type": "markdown",
      "metadata": {
        "id": "7d562e17"
      },
      "source": [
        "## Experiment 1 : distilbert-base-uncased"
      ],
      "id": "7d562e17"
    },
    {
      "cell_type": "markdown",
      "metadata": {
        "id": "2784e7fe"
      },
      "source": [
        "### Trainer hyperparameters"
      ],
      "id": "2784e7fe"
    },
    {
      "cell_type": "code",
      "execution_count": 23,
      "metadata": {
        "colab": {
          "base_uri": "https://localhost:8080/"
        },
        "id": "59c49186",
        "outputId": "c169f124-82e9-4e74-ea9d-2d0b33ff53de"
      },
      "outputs": [
        {
          "output_type": "stream",
          "name": "stderr",
          "text": [
            "/usr/local/lib/python3.10/dist-packages/transformers/training_args.py:1711: FutureWarning: `--push_to_hub_token` is deprecated and will be removed in version 5 of 🤗 Transformers. Use `--hub_token` instead.\n",
            "  warnings.warn(\n"
          ]
        }
      ],
      "source": [
        "checkpoint = \"distilbert-base-uncased\"\n",
        "training_args_dict = training_args.to_dict() # Convert TrainingArguments to dictionary\n",
        "training_args_dict['run_name'] = f'{checkpoint}-{num_samples_per_class}' # Update the run_name\n",
        "new_training_args = TrainingArguments(**training_args_dict)"
      ],
      "id": "59c49186"
    },
    {
      "cell_type": "code",
      "execution_count": 24,
      "metadata": {
        "colab": {
          "base_uri": "https://localhost:8080/",
          "height": 1000,
          "referenced_widgets": [
            "0056ba20af4e4102af416e7fbe7cf879",
            "4cfc1c75e2a24190950028aa984be5a0",
            "22985283b47f4c04b8d71aa3f8c84bb5",
            "b2048aeaa9ff450fa27708cd11ad410f",
            "783b48ff649e41d789f7a9dc6af0d7f1",
            "08b238aba3a0474b9a0f3a9a4f1828b7",
            "23d0d58a935c4eb5a27aee973b5c9bd5",
            "b79f1702145d45bfbd4161d1c20c13a6"
          ]
        },
        "id": "bfb9a11b",
        "outputId": "ea85e6ba-8237-4ea0-cdf7-c5ce66023013"
      },
      "outputs": [
        {
          "output_type": "stream",
          "name": "stderr",
          "text": [
            "\u001b[34m\u001b[1mwandb\u001b[0m: \u001b[33mWARNING\u001b[0m Calling wandb.login() after wandb.init() has no effect.\n"
          ]
        },
        {
          "output_type": "stream",
          "name": "stdout",
          "text": [
            "env: WANDB_PROJECT=nlp_course_fall_2023-HW5-Part-B-Colab\n"
          ]
        },
        {
          "output_type": "stream",
          "name": "stderr",
          "text": [
            "Some weights of DistilBertForSequenceClassification were not initialized from the model checkpoint at distilbert-base-uncased and are newly initialized: ['classifier.weight', 'classifier.bias', 'pre_classifier.bias', 'pre_classifier.weight']\n",
            "You should probably TRAIN this model on a down-stream task to be able to use it for predictions and inference.\n",
            "You're using a DistilBertTokenizerFast tokenizer. Please note that with a fast tokenizer, using the `__call__` method is faster than using a method to encode the text followed by a call to the `pad` method to get a padded encoding.\n"
          ]
        },
        {
          "output_type": "display_data",
          "data": {
            "text/plain": [
              "<IPython.core.display.HTML object>"
            ],
            "text/html": [
              "\n",
              "    <div>\n",
              "      \n",
              "      <progress value='250' max='250' style='width:300px; height:20px; vertical-align: middle;'></progress>\n",
              "      [250/250 11:02, Epoch 2/2]\n",
              "    </div>\n",
              "    <table border=\"1\" class=\"dataframe\">\n",
              "  <thead>\n",
              " <tr style=\"text-align: left;\">\n",
              "      <th>Step</th>\n",
              "      <th>Training Loss</th>\n",
              "      <th>Validation Loss</th>\n",
              "      <th>F1</th>\n",
              "      <th>Accuracy</th>\n",
              "    </tr>\n",
              "  </thead>\n",
              "  <tbody>\n",
              "    <tr>\n",
              "      <td>20</td>\n",
              "      <td>2.301300</td>\n",
              "      <td>2.266512</td>\n",
              "      <td>0.169491</td>\n",
              "      <td>0.241500</td>\n",
              "    </tr>\n",
              "    <tr>\n",
              "      <td>40</td>\n",
              "      <td>2.192800</td>\n",
              "      <td>2.111894</td>\n",
              "      <td>0.219319</td>\n",
              "      <td>0.309500</td>\n",
              "    </tr>\n",
              "    <tr>\n",
              "      <td>60</td>\n",
              "      <td>1.992200</td>\n",
              "      <td>1.861009</td>\n",
              "      <td>0.481237</td>\n",
              "      <td>0.516500</td>\n",
              "    </tr>\n",
              "    <tr>\n",
              "      <td>80</td>\n",
              "      <td>1.799000</td>\n",
              "      <td>1.633552</td>\n",
              "      <td>0.597018</td>\n",
              "      <td>0.619000</td>\n",
              "    </tr>\n",
              "    <tr>\n",
              "      <td>100</td>\n",
              "      <td>1.572000</td>\n",
              "      <td>1.437181</td>\n",
              "      <td>0.706313</td>\n",
              "      <td>0.705000</td>\n",
              "    </tr>\n",
              "    <tr>\n",
              "      <td>120</td>\n",
              "      <td>1.399100</td>\n",
              "      <td>1.295257</td>\n",
              "      <td>0.737147</td>\n",
              "      <td>0.732500</td>\n",
              "    </tr>\n",
              "    <tr>\n",
              "      <td>140</td>\n",
              "      <td>1.170000</td>\n",
              "      <td>1.189163</td>\n",
              "      <td>0.735903</td>\n",
              "      <td>0.733500</td>\n",
              "    </tr>\n",
              "    <tr>\n",
              "      <td>160</td>\n",
              "      <td>1.132700</td>\n",
              "      <td>1.102823</td>\n",
              "      <td>0.752746</td>\n",
              "      <td>0.751000</td>\n",
              "    </tr>\n",
              "    <tr>\n",
              "      <td>180</td>\n",
              "      <td>1.085500</td>\n",
              "      <td>1.044080</td>\n",
              "      <td>0.766886</td>\n",
              "      <td>0.764000</td>\n",
              "    </tr>\n",
              "    <tr>\n",
              "      <td>200</td>\n",
              "      <td>1.022300</td>\n",
              "      <td>1.000147</td>\n",
              "      <td>0.779152</td>\n",
              "      <td>0.776000</td>\n",
              "    </tr>\n",
              "    <tr>\n",
              "      <td>220</td>\n",
              "      <td>1.033400</td>\n",
              "      <td>0.977463</td>\n",
              "      <td>0.783018</td>\n",
              "      <td>0.778500</td>\n",
              "    </tr>\n",
              "    <tr>\n",
              "      <td>240</td>\n",
              "      <td>0.991000</td>\n",
              "      <td>0.965828</td>\n",
              "      <td>0.784419</td>\n",
              "      <td>0.779500</td>\n",
              "    </tr>\n",
              "  </tbody>\n",
              "</table><p>"
            ]
          },
          "metadata": {}
        },
        {
          "output_type": "display_data",
          "data": {
            "text/plain": [
              "<IPython.core.display.HTML object>"
            ],
            "text/html": []
          },
          "metadata": {}
        },
        {
          "output_type": "display_data",
          "data": {
            "text/plain": [
              "<Figure size 800x600 with 2 Axes>"
            ],
            "image/png": "[encoded data removed]"
          },
          "metadata": {}
        },
        {
          "output_type": "stream",
          "name": "stdout",
          "text": [
            "The best model was saved at step 240.\n"
          ]
        },
        {
          "output_type": "display_data",
          "data": {
            "text/plain": [
              "<IPython.core.display.HTML object>"
            ],
            "text/html": [
              "Waiting for W&B process to finish... <strong style=\"color:green\">(success).</strong>"
            ]
          },
          "metadata": {}
        },
        {
          "output_type": "display_data",
          "data": {
            "text/plain": [
              "VBox(children=(Label(value='0.004 MB of 0.007 MB uploaded (0.000 MB deduped)\\r'), FloatProgress(value=0.619684…"
            ],
            "application/vnd.jupyter.widget-view+json": {
              "version_major": 2,
              "version_minor": 0,
              "model_id": "0056ba20af4e4102af416e7fbe7cf879"
            }
          },
          "metadata": {}
        },
        {
          "output_type": "display_data",
          "data": {
            "text/plain": [
              "<IPython.core.display.HTML object>"
            ],
            "text/html": [
              "<style>\n",
              "    table.wandb td:nth-child(1) { padding: 0 10px; text-align: left ; width: auto;} td:nth-child(2) {text-align: left ; width: 100%}\n",
              "    .wandb-row { display: flex; flex-direction: row; flex-wrap: wrap; justify-content: flex-start; width: 100% }\n",
              "    .wandb-col { display: flex; flex-direction: column; flex-basis: 100%; flex: 1; padding: 10px; }\n",
              "    </style>\n",
              "<div class=\"wandb-row\"><div class=\"wandb-col\"><h3>Run history:</h3><br/><table class=\"wandb\"><tr><td>eval/accuracy</td><td>▁▂▃▄▄▆▇▇▂▃▅▆▇▇▇██████</td></tr><tr><td>eval/f1</td><td>▁▂▃▃▄▆▇▇▂▂▅▆▇████████</td></tr><tr><td>eval/loss</td><td>██▇▇▆▆▅▄█▇▆▅▃▃▂▂▁▁▁▁▁</td></tr><tr><td>eval/runtime</td><td>▁▁▄█▆▆▆▅▇▅▆▅▅▅▆▅▅▅▆▅▆</td></tr><tr><td>eval/samples_per_second</td><td>██▄▁▂▃▃▄▂▄▃▄▄▄▃▄▄▄▃▄▃</td></tr><tr><td>eval/steps_per_second</td><td>██▄▁▂▃▃▄▂▄▃▄▄▄▃▄▄▄▃▄▃</td></tr><tr><td>train/epoch</td><td>▁▁▁▂▂▂▂▂▂▃▃▃▁▁▂▂▂▂▃▃▄▄▄▄▅▅▅▅▆▆▇▇▇▇████</td></tr><tr><td>train/global_step</td><td>▁▁▁▂▂▂▂▂▂▃▃▃▁▁▂▂▂▂▃▃▄▄▄▄▅▅▅▅▆▆▇▇▇▇██████</td></tr><tr><td>train/learning_rate</td><td>█▇▇▆█▇▇▆▅▅▄▄▃▂▂▁</td></tr><tr><td>train/loss</td><td>█▇▆▅█▇▆▅▄▃▂▂▂▁▁▁</td></tr><tr><td>train/total_flos</td><td>▁</td></tr><tr><td>train/train_loss</td><td>▁</td></tr><tr><td>train/train_runtime</td><td>▁</td></tr><tr><td>train/train_samples_per_second</td><td>▁</td></tr><tr><td>train/train_steps_per_second</td><td>▁</td></tr></table><br/></div><div class=\"wandb-col\"><h3>Run summary:</h3><br/><table class=\"wandb\"><tr><td>best_model_checkpoint_step</td><td>240</td></tr><tr><td>eval/accuracy</td><td>0.7795</td></tr><tr><td>eval/f1</td><td>0.78442</td></tr><tr><td>eval/loss</td><td>0.96583</td></tr><tr><td>eval/runtime</td><td>35.3949</td></tr><tr><td>eval/samples_per_second</td><td>56.505</td></tr><tr><td>eval/steps_per_second</td><td>3.532</td></tr><tr><td>train/epoch</td><td>2.0</td></tr><tr><td>train/global_step</td><td>250</td></tr><tr><td>train/learning_rate</td><td>0.0</td></tr><tr><td>train/loss</td><td>0.991</td></tr><tr><td>train/total_flos</td><td>510627032131200.0</td></tr><tr><td>train/train_loss</td><td>1.45116</td></tr><tr><td>train/train_runtime</td><td>663.3854</td></tr><tr><td>train/train_samples_per_second</td><td>6.03</td></tr><tr><td>train/train_steps_per_second</td><td>0.377</td></tr></table><br/></div></div>"
            ]
          },
          "metadata": {}
        },
        {
          "output_type": "display_data",
          "data": {
            "text/plain": [
              "<IPython.core.display.HTML object>"
            ],
            "text/html": [
              " View run <strong style=\"color:#cdcd00\">distilbert-base-uncased-200</strong> at: <a href='https://wandb.ai/shremuk/nlp_course_fall_2023-HW5-Part-B-Colab/runs/3che0wn8' target=\"_blank\">https://wandb.ai/shremuk/nlp_course_fall_2023-HW5-Part-B-Colab/runs/3che0wn8</a><br/>Synced 5 W&B file(s), 1 media file(s), 1 artifact file(s) and 0 other file(s)"
            ]
          },
          "metadata": {}
        },
        {
          "output_type": "display_data",
          "data": {
            "text/plain": [
              "<IPython.core.display.HTML object>"
            ],
            "text/html": [
              "Find logs at: <code>./wandb/run-20231012_034907-3che0wn8/logs</code>"
            ]
          },
          "metadata": {}
        }
      ],
      "source": [
        "tokenize_train_evaluate_log(training_args= new_training_args, checkpoint=checkpoint, base_folder=base_folder, class_names=class_names, train_val_subset=train_val_subset,\\\n",
        "                            compute_metrics=compute_metrics)"
      ],
      "id": "bfb9a11b"
    },
    {
      "cell_type": "markdown",
      "metadata": {
        "id": "2d74ec70"
      },
      "source": [
        "## Experiment 2 : Your choice of checkpoint"
      ],
      "id": "2d74ec70"
    },
    {
      "cell_type": "markdown",
      "metadata": {
        "id": "71291f73"
      },
      "source": [
        "### Trainer hyperparameters"
      ],
      "id": "71291f73"
    },
    {
      "cell_type": "code",
      "execution_count": null,
      "metadata": {
        "colab": {
          "base_uri": "https://localhost:8080/"
        },
        "id": "tms2q7gL_M7R",
        "outputId": "f9a0e54d-dcb9-42b1-8be3-2b646d95c1e0"
      },
      "outputs": [
        {
          "name": "stdout",
          "output_type": "stream",
          "text": [
            "Collecting sentencepiece\n",
            "  Downloading sentencepiece-0.1.99-cp310-cp310-manylinux_2_17_x86_64.manylinux2014_x86_64.whl (1.3 MB)\n",
            "\u001b[2K     \u001b[90m━━━━━━━━━━━━━━━━━━━━━━━━━━━━━━━━━━━━━━━━\u001b[0m \u001b[32m1.3/1.3 MB\u001b[0m \u001b[31m7.9 MB/s\u001b[0m eta \u001b[36m0:00:00\u001b[0m\n",
            "\u001b[?25hInstalling collected packages: sentencepiece\n",
            "Successfully installed sentencepiece-0.1.99\n"
          ]
        }
      ],
      "source": [
        "# !pip install sentencepiece"
      ],
      "id": "tms2q7gL_M7R"
    },
    {
      "cell_type": "code",
      "execution_count": null,
      "metadata": {
        "colab": {
          "base_uri": "https://localhost:8080/"
        },
        "id": "f7433c1c",
        "outputId": "8f1eb5db-94d9-442b-a904-8ebb14d800f5"
      },
      "outputs": [
        {
          "name": "stderr",
          "output_type": "stream",
          "text": [
            "/usr/local/lib/python3.10/dist-packages/transformers/training_args.py:1711: FutureWarning: `--push_to_hub_token` is deprecated and will be removed in version 5 of 🤗 Transformers. Use `--hub_token` instead.\n",
            "  warnings.warn(\n"
          ]
        }
      ],
      "source": [
        "checkpoint = 'bert-base-uncased'\n",
        "training_args_dict = training_args.to_dict() # Convert TrainingArguments to dictionary\n",
        "training_args_dict['run_name'] = f'{checkpoint}-{num_samples_per_class}' # Update the run_name\n",
        "new_training_args = TrainingArguments(**training_args_dict)"
      ],
      "id": "f7433c1c"
    },
    {
      "cell_type": "code",
      "execution_count": null,
      "metadata": {
        "colab": {
          "background_save": true,
          "base_uri": "https://localhost:8080/",
          "height": 796,
          "referenced_widgets": [
            "01d618b394e94a30a38d039d7d5e0dc9",
            "5e2d828b47f845769f62c33c31be6ec2",
            "d2068f9c861a497b9407eb98cad78e82",
            "274db9436c7c44b8be5ead3d3b0d71b0",
            "bb85ba34eb3b45c4aae251a3fedb0fbe",
            "912a63c99cc6489aa4b8b10f0ad56418",
            "25605fe7e41646159d732a67a6e697ee",
            "ca158b4958054ddf8906188338c38394",
            "25e76b1c0496422aa30528dbf0861912",
            "50e6d15fe59941d196f5933b3fde4b69",
            "561229ff6ef6482091ba8160fd409996",
            "1b71a90d17c64e7286a0b77c19484999",
            "53306716325542cd86aeb67f5d55e3f2",
            "070a99f9410240968f14fd48d630f6e1",
            "e7d6439392694bf1bff1b872cdbc7b48",
            "c9189eb297f84febb26f35b1849b9fe6",
            "651bd5f96d644c59b981a5e0ee87eb4b",
            "dd6e92163da74818ae6c08e378a3be5f",
            "5f56dc44cc7e4ba59f3ce0a1175bb04a",
            "6a14be3c6cd743c0ad5d74f848a40324",
            "b24f9aa0b83e42528391db394721f669",
            "97a5a1212751442a813a9d3072aa07c4",
            "edab76f513db490581ad5c79de698a76",
            "f01bab934be744e28ab099dfa0e0377a",
            "0d4147cdc8454159a57c847e7b3d9e79",
            "af11f8d5769c42ce9051a18abff6ab01",
            "d781e70874484e44bf170cb488316625",
            "6814f2c798834f7ca524ede5f1ffa34a",
            "304bce2010f444bda1aec33dd3fd24ac",
            "a3f610042f8f435f928517bbaa2f7f21",
            "3d6c191f2e3c426bb964336ea2186d64",
            "30c0cd0da06e4f03a3f601d39bb621e0",
            "43c7a13eacb04416b9400355fd2766a3",
            "47a6cc08043b41f19e3bf4176380291d"
          ]
        },
        "id": "3c09cec3",
        "outputId": "fbdbbedd-112f-4071-cc29-9fbc0962ac8c"
      },
      "outputs": [
        {
          "name": "stderr",
          "output_type": "stream",
          "text": [
            "\u001b[34m\u001b[1mwandb\u001b[0m: Currently logged in as: \u001b[33mshremuk\u001b[0m. Use \u001b[1m`wandb login --relogin`\u001b[0m to force relogin\n"
          ]
        },
        {
          "name": "stdout",
          "output_type": "stream",
          "text": [
            "env: WANDB_PROJECT=nlp_course_fall_2023-HW5-Part-B-Colab\n"
          ]
        },
        {
          "data": {
            "application/vnd.jupyter.widget-view+json": {
              "model_id": "01d618b394e94a30a38d039d7d5e0dc9",
              "version_major": 2,
              "version_minor": 0
            },
            "text/plain": [
              "Downloading model.safetensors:   0%|          | 0.00/440M [00:00<?, ?B/s]"
            ]
          },
          "metadata": {},
          "output_type": "display_data"
        },
        {
          "name": "stderr",
          "output_type": "stream",
          "text": [
            "Some weights of BertForSequenceClassification were not initialized from the model checkpoint at bert-base-uncased and are newly initialized: ['classifier.weight', 'classifier.bias']\n",
            "You should probably TRAIN this model on a down-stream task to be able to use it for predictions and inference.\n"
          ]
        },
        {
          "data": {
            "text/html": [
              "Changes to your `wandb` environment variables will be ignored because your `wandb` session has already started. For more information on how to modify your settings with `wandb.init()` arguments, please refer to <a href='https://wandb.me/wandb-init' target=\"_blank\">the W&B docs</a>."
            ],
            "text/plain": [
              "<IPython.core.display.HTML object>"
            ]
          },
          "metadata": {},
          "output_type": "display_data"
        },
        {
          "data": {
            "text/html": [
              "Tracking run with wandb version 0.15.12"
            ],
            "text/plain": [
              "<IPython.core.display.HTML object>"
            ]
          },
          "metadata": {},
          "output_type": "display_data"
        },
        {
          "data": {
            "text/html": [
              "Run data is saved locally in <code>/content/wandb/run-20231012_003107-7ralbxn4</code>"
            ],
            "text/plain": [
              "<IPython.core.display.HTML object>"
            ]
          },
          "metadata": {},
          "output_type": "display_data"
        },
        {
          "data": {
            "text/html": [
              "Syncing run <strong><a href='https://wandb.ai/shremuk/nlp_course_fall_2023-HW5-Part-B-Colab/runs/7ralbxn4' target=\"_blank\">bert-base-uncased-200</a></strong> to <a href='https://wandb.ai/shremuk/nlp_course_fall_2023-HW5-Part-B-Colab' target=\"_blank\">Weights & Biases</a> (<a href='https://wandb.me/run' target=\"_blank\">docs</a>)<br/>"
            ],
            "text/plain": [
              "<IPython.core.display.HTML object>"
            ]
          },
          "metadata": {},
          "output_type": "display_data"
        },
        {
          "data": {
            "text/html": [
              " View project at <a href='https://wandb.ai/shremuk/nlp_course_fall_2023-HW5-Part-B-Colab' target=\"_blank\">https://wandb.ai/shremuk/nlp_course_fall_2023-HW5-Part-B-Colab</a>"
            ],
            "text/plain": [
              "<IPython.core.display.HTML object>"
            ]
          },
          "metadata": {},
          "output_type": "display_data"
        },
        {
          "data": {
            "text/html": [
              " View run at <a href='https://wandb.ai/shremuk/nlp_course_fall_2023-HW5-Part-B-Colab/runs/7ralbxn4' target=\"_blank\">https://wandb.ai/shremuk/nlp_course_fall_2023-HW5-Part-B-Colab/runs/7ralbxn4</a>"
            ],
            "text/plain": [
              "<IPython.core.display.HTML object>"
            ]
          },
          "metadata": {},
          "output_type": "display_data"
        },
        {
          "name": "stderr",
          "output_type": "stream",
          "text": [
            "You're using a BertTokenizerFast tokenizer. Please note that with a fast tokenizer, using the `__call__` method is faster than using a method to encode the text followed by a call to the `pad` method to get a padded encoding.\n"
          ]
        },
        {
          "data": {
            "text/html": [
              "\n",
              "    <div>\n",
              "      \n",
              "      <progress value='250' max='250' style='width:300px; height:20px; vertical-align: middle;'></progress>\n",
              "      [250/250 20:47, Epoch 2/2]\n",
              "    </div>\n",
              "    <table border=\"1\" class=\"dataframe\">\n",
              "  <thead>\n",
              " <tr style=\"text-align: left;\">\n",
              "      <th>Step</th>\n",
              "      <th>Training Loss</th>\n",
              "      <th>Validation Loss</th>\n",
              "      <th>F1</th>\n",
              "      <th>Accuracy</th>\n",
              "    </tr>\n",
              "  </thead>\n",
              "  <tbody>\n",
              "    <tr>\n",
              "      <td>20</td>\n",
              "      <td>2.329200</td>\n",
              "      <td>2.306038</td>\n",
              "      <td>0.062536</td>\n",
              "      <td>0.127500</td>\n",
              "    </tr>\n",
              "    <tr>\n",
              "      <td>40</td>\n",
              "      <td>2.225500</td>\n",
              "      <td>2.161874</td>\n",
              "      <td>0.121934</td>\n",
              "      <td>0.213000</td>\n",
              "    </tr>\n",
              "    <tr>\n",
              "      <td>60</td>\n",
              "      <td>2.128600</td>\n",
              "      <td>1.992325</td>\n",
              "      <td>0.302981</td>\n",
              "      <td>0.373500</td>\n",
              "    </tr>\n",
              "    <tr>\n",
              "      <td>80</td>\n",
              "      <td>1.935600</td>\n",
              "      <td>1.760059</td>\n",
              "      <td>0.448248</td>\n",
              "      <td>0.513500</td>\n",
              "    </tr>\n",
              "    <tr>\n",
              "      <td>100</td>\n",
              "      <td>1.680800</td>\n",
              "      <td>1.534807</td>\n",
              "      <td>0.577825</td>\n",
              "      <td>0.606000</td>\n",
              "    </tr>\n",
              "    <tr>\n",
              "      <td>120</td>\n",
              "      <td>1.510800</td>\n",
              "      <td>1.357742</td>\n",
              "      <td>0.712661</td>\n",
              "      <td>0.711500</td>\n",
              "    </tr>\n",
              "    <tr>\n",
              "      <td>140</td>\n",
              "      <td>1.332700</td>\n",
              "      <td>1.232566</td>\n",
              "      <td>0.707579</td>\n",
              "      <td>0.721500</td>\n",
              "    </tr>\n",
              "    <tr>\n",
              "      <td>160</td>\n",
              "      <td>1.188300</td>\n",
              "      <td>1.119183</td>\n",
              "      <td>0.768887</td>\n",
              "      <td>0.769500</td>\n",
              "    </tr>\n",
              "    <tr>\n",
              "      <td>180</td>\n",
              "      <td>1.191100</td>\n",
              "      <td>1.033231</td>\n",
              "      <td>0.790769</td>\n",
              "      <td>0.792500</td>\n",
              "    </tr>\n",
              "    <tr>\n",
              "      <td>200</td>\n",
              "      <td>0.962000</td>\n",
              "      <td>0.966259</td>\n",
              "      <td>0.803465</td>\n",
              "      <td>0.802500</td>\n",
              "    </tr>\n",
              "    <tr>\n",
              "      <td>220</td>\n",
              "      <td>1.008700</td>\n",
              "      <td>0.932006</td>\n",
              "      <td>0.808577</td>\n",
              "      <td>0.805500</td>\n",
              "    </tr>\n",
              "    <tr>\n",
              "      <td>240</td>\n",
              "      <td>1.003100</td>\n",
              "      <td>0.909073</td>\n",
              "      <td>0.809032</td>\n",
              "      <td>0.806000</td>\n",
              "    </tr>\n",
              "  </tbody>\n",
              "</table><p>"
            ],
            "text/plain": [
              "<IPython.core.display.HTML object>"
            ]
          },
          "metadata": {},
          "output_type": "display_data"
        },
        {
          "data": {
            "application/vnd.jupyter.widget-view+json": {
              "model_id": "1b71a90d17c64e7286a0b77c19484999",
              "version_major": 2,
              "version_minor": 0
            },
            "text/plain": [
              "Downloading builder script:   0%|          | 0.00/6.77k [00:00<?, ?B/s]"
            ]
          },
          "metadata": {},
          "output_type": "display_data"
        },
        {
          "data": {
            "application/vnd.jupyter.widget-view+json": {
              "model_id": "edab76f513db490581ad5c79de698a76",
              "version_major": 2,
              "version_minor": 0
            },
            "text/plain": [
              "Downloading builder script:   0%|          | 0.00/4.20k [00:00<?, ?B/s]"
            ]
          },
          "metadata": {},
          "output_type": "display_data"
        },
        {
          "data": {
            "text/html": [],
            "text/plain": [
              "<IPython.core.display.HTML object>"
            ]
          },
          "metadata": {},
          "output_type": "display_data"
        },
        {
          "data": {
            "image/png": "[encoded data removed]",
            "text/plain": [
              "<Figure size 800x600 with 2 Axes>"
            ]
          },
          "metadata": {},
          "output_type": "display_data"
        },
        {
          "name": "stdout",
          "output_type": "stream",
          "text": [
            "The best model was saved at step 240.\n"
          ]
        },
        {
          "data": {
            "text/html": [
              "Waiting for W&B process to finish... <strong style=\"color:green\">(success).</strong>"
            ],
            "text/plain": [
              "<IPython.core.display.HTML object>"
            ]
          },
          "metadata": {},
          "output_type": "display_data"
        },
        {
          "data": {
            "application/vnd.jupyter.widget-view+json": {
              "model_id": "47a6cc08043b41f19e3bf4176380291d",
              "version_major": 2,
              "version_minor": 0
            },
            "text/plain": [
              "VBox(children=(Label(value='0.004 MB of 0.007 MB uploaded (0.000 MB deduped)\\r'), FloatProgress(value=0.620008…"
            ]
          },
          "metadata": {},
          "output_type": "display_data"
        },
        {
          "data": {
            "text/html": [
              "<style>\n",
              "    table.wandb td:nth-child(1) { padding: 0 10px; text-align: left ; width: auto;} td:nth-child(2) {text-align: left ; width: 100%}\n",
              "    .wandb-row { display: flex; flex-direction: row; flex-wrap: wrap; justify-content: flex-start; width: 100% }\n",
              "    .wandb-col { display: flex; flex-direction: column; flex-basis: 100%; flex: 1; padding: 10px; }\n",
              "    </style>\n",
              "<div class=\"wandb-row\"><div class=\"wandb-col\"><h3>Run history:</h3><br/><table class=\"wandb\"><tr><td>eval/accuracy</td><td>▁▂▄▅▆▇▇██████</td></tr><tr><td>eval/f1</td><td>▁▂▃▅▆▇▇██████</td></tr><tr><td>eval/loss</td><td>█▇▆▅▄▃▃▂▂▁▁▁▁</td></tr><tr><td>eval/runtime</td><td>█▁▃▂▂▃▃▃▅▃▃▂▅</td></tr><tr><td>eval/samples_per_second</td><td>▁█▆▇▇▆▆▆▄▆▆▇▄</td></tr><tr><td>eval/steps_per_second</td><td>▁█▆▇▇▆▆▆▄▆▆▇▄</td></tr><tr><td>train/epoch</td><td>▁▁▂▂▂▂▃▃▃▃▄▄▅▅▅▅▆▆▆▆▇▇████</td></tr><tr><td>train/global_step</td><td>▁▁▂▂▂▂▃▃▃▃▄▄▅▅▅▅▆▆▆▆▇▇██████</td></tr><tr><td>train/learning_rate</td><td>█▇▇▆▅▅▄▄▃▂▂▁</td></tr><tr><td>train/loss</td><td>█▇▇▆▅▄▃▂▂▁▁▁</td></tr><tr><td>train/total_flos</td><td>▁</td></tr><tr><td>train/train_loss</td><td>▁</td></tr><tr><td>train/train_runtime</td><td>▁</td></tr><tr><td>train/train_samples_per_second</td><td>▁</td></tr><tr><td>train/train_steps_per_second</td><td>▁</td></tr></table><br/></div><div class=\"wandb-col\"><h3>Run summary:</h3><br/><table class=\"wandb\"><tr><td>best_model_checkpoint_step</td><td>240</td></tr><tr><td>eval/accuracy</td><td>0.806</td></tr><tr><td>eval/f1</td><td>0.80903</td></tr><tr><td>eval/loss</td><td>0.90907</td></tr><tr><td>eval/runtime</td><td>68.0378</td></tr><tr><td>eval/samples_per_second</td><td>29.395</td></tr><tr><td>eval/steps_per_second</td><td>1.837</td></tr><tr><td>train/epoch</td><td>2.0</td></tr><tr><td>train/global_step</td><td>250</td></tr><tr><td>train/learning_rate</td><td>0.0</td></tr><tr><td>train/loss</td><td>1.0031</td></tr><tr><td>train/total_flos</td><td>1008363321759360.0</td></tr><tr><td>train/train_loss</td><td>1.51909</td></tr><tr><td>train/train_runtime</td><td>1254.5642</td></tr><tr><td>train/train_samples_per_second</td><td>3.188</td></tr><tr><td>train/train_steps_per_second</td><td>0.199</td></tr></table><br/></div></div>"
            ],
            "text/plain": [
              "<IPython.core.display.HTML object>"
            ]
          },
          "metadata": {},
          "output_type": "display_data"
        },
        {
          "data": {
            "text/html": [
              " View run <strong style=\"color:#cdcd00\">bert-base-uncased-200</strong> at: <a href='https://wandb.ai/shremuk/nlp_course_fall_2023-HW5-Part-B-Colab/runs/7ralbxn4' target=\"_blank\">https://wandb.ai/shremuk/nlp_course_fall_2023-HW5-Part-B-Colab/runs/7ralbxn4</a><br/>Synced 5 W&B file(s), 1 media file(s), 1 artifact file(s) and 0 other file(s)"
            ],
            "text/plain": [
              "<IPython.core.display.HTML object>"
            ]
          },
          "metadata": {},
          "output_type": "display_data"
        },
        {
          "data": {
            "text/html": [
              "Find logs at: <code>./wandb/run-20231012_003107-7ralbxn4/logs</code>"
            ],
            "text/plain": [
              "<IPython.core.display.HTML object>"
            ]
          },
          "metadata": {},
          "output_type": "display_data"
        }
      ],
      "source": [
        "tokenize_train_evaluate_log(training_args= new_training_args, checkpoint=checkpoint, base_folder=base_folder, class_names=class_names, train_val_subset=train_val_subset,\\\n",
        "                            compute_metrics=compute_metrics)"
      ],
      "id": "3c09cec3"
    },
    {
      "cell_type": "markdown",
      "metadata": {
        "id": "f63f639b"
      },
      "source": [
        "## Experiment 3 -  Your second choice of checkpoint here"
      ],
      "id": "f63f639b"
    },
    {
      "cell_type": "markdown",
      "metadata": {
        "id": "bf2d4a3e"
      },
      "source": [
        "### Trainer hyperparameters"
      ],
      "id": "bf2d4a3e"
    },
    {
      "cell_type": "code",
      "execution_count": null,
      "metadata": {
        "id": "934b91bd"
      },
      "outputs": [],
      "source": [
        "checkpoint =  'roberta-base'\n",
        "training_args_dict = training_args.to_dict() # Convert TrainingArguments to dictionary\n",
        "training_args_dict['run_name'] = f'{checkpoint}-{num_samples_per_class}' # Update the run_name\n",
        "new_training_args = TrainingArguments(**training_args_dict)"
      ],
      "id": "934b91bd"
    },
    {
      "cell_type": "code",
      "execution_count": null,
      "metadata": {
        "colab": {
          "base_uri": "https://localhost:8080/",
          "height": 1000,
          "referenced_widgets": [
            "469b9b5667c3416390ca66c67a0b29cc",
            "5a31807a7f2b4f35b4beef275231b252",
            "ec0d90c6193d4c5d9ec91e5c2298ef1d",
            "79eeff0ef7f54231982a638e724a0e1f",
            "38d6d6194a63464ca8677651690c1c59",
            "322c02a5b5ec424baae2dc6185646534",
            "3f8349a954064f20aa3444c66b0ea825",
            "6f6e925ccb6a446392a371a2328b6fa5",
            "e381b39227134ff7950c24e887b47f48",
            "cf35b287dd0e4ea889c6e385c9640d3d",
            "61c4e5f1c31a45c9bf2b1ee731c58aac",
            "f32550ae00ed46a1a72d26fb4ba05093"
          ]
        },
        "id": "64553710",
        "outputId": "e074b16f-3147-4cc6-e83a-623b492b29fe"
      },
      "outputs": [
        {
          "output_type": "stream",
          "name": "stderr",
          "text": [
            "\u001b[34m\u001b[1mwandb\u001b[0m: \u001b[33mWARNING\u001b[0m Calling wandb.login() after wandb.init() has no effect.\n"
          ]
        },
        {
          "output_type": "stream",
          "name": "stdout",
          "text": [
            "env: WANDB_PROJECT=nlp_course_fall_2023-HW5-Part-B-Colab\n"
          ]
        },
        {
          "output_type": "display_data",
          "data": {
            "text/plain": [
              "Downloading model.safetensors:   0%|          | 0.00/499M [00:00<?, ?B/s]"
            ],
            "application/vnd.jupyter.widget-view+json": {
              "version_major": 2,
              "version_minor": 0,
              "model_id": "469b9b5667c3416390ca66c67a0b29cc"
            }
          },
          "metadata": {}
        },
        {
          "output_type": "stream",
          "name": "stderr",
          "text": [
            "Some weights of RobertaForSequenceClassification were not initialized from the model checkpoint at roberta-base and are newly initialized: ['classifier.dense.bias', 'classifier.dense.weight', 'classifier.out_proj.bias', 'classifier.out_proj.weight']\n",
            "You should probably TRAIN this model on a down-stream task to be able to use it for predictions and inference.\n",
            "You're using a RobertaTokenizerFast tokenizer. Please note that with a fast tokenizer, using the `__call__` method is faster than using a method to encode the text followed by a call to the `pad` method to get a padded encoding.\n"
          ]
        },
        {
          "output_type": "display_data",
          "data": {
            "text/plain": [
              "<IPython.core.display.HTML object>"
            ],
            "text/html": [
              "\n",
              "    <div>\n",
              "      \n",
              "      <progress value='250' max='250' style='width:300px; height:20px; vertical-align: middle;'></progress>\n",
              "      [250/250 20:53, Epoch 2/2]\n",
              "    </div>\n",
              "    <table border=\"1\" class=\"dataframe\">\n",
              "  <thead>\n",
              " <tr style=\"text-align: left;\">\n",
              "      <th>Step</th>\n",
              "      <th>Training Loss</th>\n",
              "      <th>Validation Loss</th>\n",
              "      <th>F1</th>\n",
              "      <th>Accuracy</th>\n",
              "    </tr>\n",
              "  </thead>\n",
              "  <tbody>\n",
              "    <tr>\n",
              "      <td>20</td>\n",
              "      <td>2.325700</td>\n",
              "      <td>2.296893</td>\n",
              "      <td>0.036240</td>\n",
              "      <td>0.111000</td>\n",
              "    </tr>\n",
              "    <tr>\n",
              "      <td>40</td>\n",
              "      <td>2.287700</td>\n",
              "      <td>2.273592</td>\n",
              "      <td>0.075106</td>\n",
              "      <td>0.148000</td>\n",
              "    </tr>\n",
              "    <tr>\n",
              "      <td>60</td>\n",
              "      <td>2.215500</td>\n",
              "      <td>2.074683</td>\n",
              "      <td>0.216870</td>\n",
              "      <td>0.306000</td>\n",
              "    </tr>\n",
              "    <tr>\n",
              "      <td>80</td>\n",
              "      <td>1.872100</td>\n",
              "      <td>1.521888</td>\n",
              "      <td>0.531451</td>\n",
              "      <td>0.579000</td>\n",
              "    </tr>\n",
              "    <tr>\n",
              "      <td>100</td>\n",
              "      <td>1.354800</td>\n",
              "      <td>1.101879</td>\n",
              "      <td>0.734017</td>\n",
              "      <td>0.740500</td>\n",
              "    </tr>\n",
              "    <tr>\n",
              "      <td>120</td>\n",
              "      <td>1.049000</td>\n",
              "      <td>0.887094</td>\n",
              "      <td>0.791908</td>\n",
              "      <td>0.792000</td>\n",
              "    </tr>\n",
              "    <tr>\n",
              "      <td>140</td>\n",
              "      <td>0.882500</td>\n",
              "      <td>0.751588</td>\n",
              "      <td>0.809793</td>\n",
              "      <td>0.811000</td>\n",
              "    </tr>\n",
              "    <tr>\n",
              "      <td>160</td>\n",
              "      <td>0.722400</td>\n",
              "      <td>0.693456</td>\n",
              "      <td>0.818736</td>\n",
              "      <td>0.821000</td>\n",
              "    </tr>\n",
              "    <tr>\n",
              "      <td>180</td>\n",
              "      <td>0.754900</td>\n",
              "      <td>0.648315</td>\n",
              "      <td>0.826159</td>\n",
              "      <td>0.827000</td>\n",
              "    </tr>\n",
              "    <tr>\n",
              "      <td>200</td>\n",
              "      <td>0.604700</td>\n",
              "      <td>0.625646</td>\n",
              "      <td>0.827820</td>\n",
              "      <td>0.829000</td>\n",
              "    </tr>\n",
              "    <tr>\n",
              "      <td>220</td>\n",
              "      <td>0.635800</td>\n",
              "      <td>0.591421</td>\n",
              "      <td>0.845277</td>\n",
              "      <td>0.845500</td>\n",
              "    </tr>\n",
              "    <tr>\n",
              "      <td>240</td>\n",
              "      <td>0.655700</td>\n",
              "      <td>0.589394</td>\n",
              "      <td>0.837845</td>\n",
              "      <td>0.839000</td>\n",
              "    </tr>\n",
              "  </tbody>\n",
              "</table><p>"
            ]
          },
          "metadata": {}
        },
        {
          "output_type": "display_data",
          "data": {
            "text/plain": [
              "<IPython.core.display.HTML object>"
            ],
            "text/html": []
          },
          "metadata": {}
        },
        {
          "output_type": "display_data",
          "data": {
            "text/plain": [
              "<Figure size 800x600 with 2 Axes>"
            ],
            "image/png": "[encoded data removed]"
          },
          "metadata": {}
        },
        {
          "output_type": "stream",
          "name": "stdout",
          "text": [
            "The best model was saved at step 220.\n"
          ]
        },
        {
          "output_type": "display_data",
          "data": {
            "text/plain": [
              "<IPython.core.display.HTML object>"
            ],
            "text/html": [
              "Waiting for W&B process to finish... <strong style=\"color:green\">(success).</strong>"
            ]
          },
          "metadata": {}
        },
        {
          "output_type": "display_data",
          "data": {
            "text/plain": [
              "VBox(children=(Label(value='0.007 MB of 0.007 MB uploaded (0.000 MB deduped)\\r'), FloatProgress(value=1.0, max…"
            ],
            "application/vnd.jupyter.widget-view+json": {
              "version_major": 2,
              "version_minor": 0,
              "model_id": "f32550ae00ed46a1a72d26fb4ba05093"
            }
          },
          "metadata": {}
        },
        {
          "output_type": "display_data",
          "data": {
            "text/plain": [
              "<IPython.core.display.HTML object>"
            ],
            "text/html": [
              "<style>\n",
              "    table.wandb td:nth-child(1) { padding: 0 10px; text-align: left ; width: auto;} td:nth-child(2) {text-align: left ; width: 100%}\n",
              "    .wandb-row { display: flex; flex-direction: row; flex-wrap: wrap; justify-content: flex-start; width: 100% }\n",
              "    .wandb-col { display: flex; flex-direction: column; flex-basis: 100%; flex: 1; padding: 10px; }\n",
              "    </style>\n",
              "<div class=\"wandb-row\"><div class=\"wandb-col\"><h3>Run history:</h3><br/><table class=\"wandb\"><tr><td>eval/accuracy</td><td>▁▁▃▅▇▇███████</td></tr><tr><td>eval/f1</td><td>▁▁▃▅▇████████</td></tr><tr><td>eval/loss</td><td>██▇▅▃▂▂▁▁▁▁▁▁</td></tr><tr><td>eval/runtime</td><td>▁▃▂▂▃▅▃▃▂▄▁▁█</td></tr><tr><td>eval/samples_per_second</td><td>█▆▇▇▆▄▆▆▇▅██▁</td></tr><tr><td>eval/steps_per_second</td><td>█▆▇▇▆▄▆▆▇▅██▁</td></tr><tr><td>train/epoch</td><td>▁▁▂▂▂▂▃▃▃▃▄▄▅▅▅▅▆▆▆▆▇▇████</td></tr><tr><td>train/global_step</td><td>▁▁▂▂▂▂▃▃▃▃▄▄▅▅▅▅▆▆▆▆▇▇██████</td></tr><tr><td>train/learning_rate</td><td>█▇▇▆▅▅▄▄▃▂▂▁</td></tr><tr><td>train/loss</td><td>███▆▄▃▂▁▂▁▁▁</td></tr><tr><td>train/total_flos</td><td>▁</td></tr><tr><td>train/train_loss</td><td>▁</td></tr><tr><td>train/train_runtime</td><td>▁</td></tr><tr><td>train/train_samples_per_second</td><td>▁</td></tr><tr><td>train/train_steps_per_second</td><td>▁</td></tr></table><br/></div><div class=\"wandb-col\"><h3>Run summary:</h3><br/><table class=\"wandb\"><tr><td>best_model_checkpoint_step</td><td>220</td></tr><tr><td>eval/accuracy</td><td>0.8455</td></tr><tr><td>eval/f1</td><td>0.84528</td></tr><tr><td>eval/loss</td><td>0.59142</td></tr><tr><td>eval/runtime</td><td>65.5196</td></tr><tr><td>eval/samples_per_second</td><td>30.525</td></tr><tr><td>eval/steps_per_second</td><td>1.908</td></tr><tr><td>train/epoch</td><td>2.0</td></tr><tr><td>train/global_step</td><td>250</td></tr><tr><td>train/learning_rate</td><td>0.0</td></tr><tr><td>train/loss</td><td>0.6557</td></tr><tr><td>train/total_flos</td><td>1025655893443776.0</td></tr><tr><td>train/train_loss</td><td>1.2527</td></tr><tr><td>train/train_runtime</td><td>1255.1</td></tr><tr><td>train/train_samples_per_second</td><td>3.187</td></tr><tr><td>train/train_steps_per_second</td><td>0.199</td></tr></table><br/></div></div>"
            ]
          },
          "metadata": {}
        },
        {
          "output_type": "display_data",
          "data": {
            "text/plain": [
              "<IPython.core.display.HTML object>"
            ],
            "text/html": [
              " View run <strong style=\"color:#cdcd00\">xlnet-base-cased-200</strong> at: <a href='https://wandb.ai/shremuk/nlp_course_fall_2023-HW5-Part-B-Colab/runs/dpfhwrmk' target=\"_blank\">https://wandb.ai/shremuk/nlp_course_fall_2023-HW5-Part-B-Colab/runs/dpfhwrmk</a><br/>Synced 5 W&B file(s), 1 media file(s), 1 artifact file(s) and 0 other file(s)"
            ]
          },
          "metadata": {}
        },
        {
          "output_type": "display_data",
          "data": {
            "text/plain": [
              "<IPython.core.display.HTML object>"
            ],
            "text/html": [
              "Find logs at: <code>./wandb/run-20231012_010129-dpfhwrmk/logs</code>"
            ]
          },
          "metadata": {}
        }
      ],
      "source": [
        "tokenize_train_evaluate_log(training_args= new_training_args, checkpoint=checkpoint, base_folder=base_folder, class_names=class_names, train_val_subset=train_val_subset,\\\n",
        "                            compute_metrics=compute_metrics)"
      ],
      "id": "64553710"
    },
    {
      "cell_type": "markdown",
      "source": [
        "## Conclusion"
      ],
      "metadata": {
        "id": "33zKACbmh2Rq"
      },
      "id": "33zKACbmh2Rq"
    },
    {
      "cell_type": "markdown",
      "source": [
        "My conclusions are as follows:\n",
        "\n",
        "1.   Model 3 using roberta base appears to be the **best-performing model overall**, with the highest accuracy, F1 score, and the lowest loss.\n",
        "2.   Model 2 that uses bert follows closely behind and model 1 that uses distilbert lags behind in terms of performance metrics.\n",
        "\n",
        "Considering the trade-offs between accuracy, training time, and other metrics, model 3 is the most suitable model for the task. However, if training time is a critical factor, model 2 could be a good alternative with a slightly shorter training time and still competitive performance.\n",
        "For this task, I'll go for model 3."
      ],
      "metadata": {
        "id": "yOY7Z9nGh_P1"
      },
      "id": "yOY7Z9nGh_P1"
    }
  ],
  "metadata": {
    "accelerator": "GPU",
    "colab": {
      "provenance": [],
      "gpuType": "T4"
    },
    "kernelspec": {
      "display_name": "Python 3",
      "name": "python3"
    },
    "language_info": {
      "codemirror_mode": {
        "name": "ipython",
        "version": 3
      },
      "file_extension": ".py",
      "mimetype": "text/x-python",
      "name": "python",
      "nbconvert_exporter": "python",
      "pygments_lexer": "ipython3",
      "version": "3.10.10"
    },
    "widgets": {
      "application/vnd.jupyter.widget-state+json": {
        "01d618b394e94a30a38d039d7d5e0dc9": {
          "model_module": "@jupyter-widgets/controls",
          "model_module_version": "1.5.0",
          "model_name": "HBoxModel",
          "state": {
            "_dom_classes": [],
            "_model_module": "@jupyter-widgets/controls",
            "_model_module_version": "1.5.0",
            "_model_name": "HBoxModel",
            "_view_count": null,
            "_view_module": "@jupyter-widgets/controls",
            "_view_module_version": "1.5.0",
            "_view_name": "HBoxView",
            "box_style": "",
            "children": [
              "IPY_MODEL_5e2d828b47f845769f62c33c31be6ec2",
              "IPY_MODEL_d2068f9c861a497b9407eb98cad78e82",
              "IPY_MODEL_274db9436c7c44b8be5ead3d3b0d71b0"
            ],
            "layout": "IPY_MODEL_bb85ba34eb3b45c4aae251a3fedb0fbe"
          }
        },
        "070a99f9410240968f14fd48d630f6e1": {
          "model_module": "@jupyter-widgets/controls",
          "model_module_version": "1.5.0",
          "model_name": "FloatProgressModel",
          "state": {
            "_dom_classes": [],
            "_model_module": "@jupyter-widgets/controls",
            "_model_module_version": "1.5.0",
            "_model_name": "FloatProgressModel",
            "_view_count": null,
            "_view_module": "@jupyter-widgets/controls",
            "_view_module_version": "1.5.0",
            "_view_name": "ProgressView",
            "bar_style": "success",
            "description": "",
            "description_tooltip": null,
            "layout": "IPY_MODEL_5f56dc44cc7e4ba59f3ce0a1175bb04a",
            "max": 6771,
            "min": 0,
            "orientation": "horizontal",
            "style": "IPY_MODEL_6a14be3c6cd743c0ad5d74f848a40324",
            "value": 6771
          }
        },
        "0d4147cdc8454159a57c847e7b3d9e79": {
          "model_module": "@jupyter-widgets/controls",
          "model_module_version": "1.5.0",
          "model_name": "FloatProgressModel",
          "state": {
            "_dom_classes": [],
            "_model_module": "@jupyter-widgets/controls",
            "_model_module_version": "1.5.0",
            "_model_name": "FloatProgressModel",
            "_view_count": null,
            "_view_module": "@jupyter-widgets/controls",
            "_view_module_version": "1.5.0",
            "_view_name": "ProgressView",
            "bar_style": "success",
            "description": "",
            "description_tooltip": null,
            "layout": "IPY_MODEL_a3f610042f8f435f928517bbaa2f7f21",
            "max": 4203,
            "min": 0,
            "orientation": "horizontal",
            "style": "IPY_MODEL_3d6c191f2e3c426bb964336ea2186d64",
            "value": 4203
          }
        },
        "1b71a90d17c64e7286a0b77c19484999": {
          "model_module": "@jupyter-widgets/controls",
          "model_module_version": "1.5.0",
          "model_name": "HBoxModel",
          "state": {
            "_dom_classes": [],
            "_model_module": "@jupyter-widgets/controls",
            "_model_module_version": "1.5.0",
            "_model_name": "HBoxModel",
            "_view_count": null,
            "_view_module": "@jupyter-widgets/controls",
            "_view_module_version": "1.5.0",
            "_view_name": "HBoxView",
            "box_style": "",
            "children": [
              "IPY_MODEL_53306716325542cd86aeb67f5d55e3f2",
              "IPY_MODEL_070a99f9410240968f14fd48d630f6e1",
              "IPY_MODEL_e7d6439392694bf1bff1b872cdbc7b48"
            ],
            "layout": "IPY_MODEL_c9189eb297f84febb26f35b1849b9fe6"
          }
        },
        "25605fe7e41646159d732a67a6e697ee": {
          "model_module": "@jupyter-widgets/controls",
          "model_module_version": "1.5.0",
          "model_name": "DescriptionStyleModel",
          "state": {
            "_model_module": "@jupyter-widgets/controls",
            "_model_module_version": "1.5.0",
            "_model_name": "DescriptionStyleModel",
            "_view_count": null,
            "_view_module": "@jupyter-widgets/base",
            "_view_module_version": "1.2.0",
            "_view_name": "StyleView",
            "description_width": ""
          }
        },
        "25e76b1c0496422aa30528dbf0861912": {
          "model_module": "@jupyter-widgets/controls",
          "model_module_version": "1.5.0",
          "model_name": "ProgressStyleModel",
          "state": {
            "_model_module": "@jupyter-widgets/controls",
            "_model_module_version": "1.5.0",
            "_model_name": "ProgressStyleModel",
            "_view_count": null,
            "_view_module": "@jupyter-widgets/base",
            "_view_module_version": "1.2.0",
            "_view_name": "StyleView",
            "bar_color": null,
            "description_width": ""
          }
        },
        "274db9436c7c44b8be5ead3d3b0d71b0": {
          "model_module": "@jupyter-widgets/controls",
          "model_module_version": "1.5.0",
          "model_name": "HTMLModel",
          "state": {
            "_dom_classes": [],
            "_model_module": "@jupyter-widgets/controls",
            "_model_module_version": "1.5.0",
            "_model_name": "HTMLModel",
            "_view_count": null,
            "_view_module": "@jupyter-widgets/controls",
            "_view_module_version": "1.5.0",
            "_view_name": "HTMLView",
            "description": "",
            "description_tooltip": null,
            "layout": "IPY_MODEL_50e6d15fe59941d196f5933b3fde4b69",
            "placeholder": "​",
            "style": "IPY_MODEL_561229ff6ef6482091ba8160fd409996",
            "value": " 440M/440M [00:02&lt;00:00, 214MB/s]"
          }
        },
        "304bce2010f444bda1aec33dd3fd24ac": {
          "model_module": "@jupyter-widgets/controls",
          "model_module_version": "1.5.0",
          "model_name": "DescriptionStyleModel",
          "state": {
            "_model_module": "@jupyter-widgets/controls",
            "_model_module_version": "1.5.0",
            "_model_name": "DescriptionStyleModel",
            "_view_count": null,
            "_view_module": "@jupyter-widgets/base",
            "_view_module_version": "1.2.0",
            "_view_name": "StyleView",
            "description_width": ""
          }
        },
        "30c0cd0da06e4f03a3f601d39bb621e0": {
          "model_module": "@jupyter-widgets/base",
          "model_module_version": "1.2.0",
          "model_name": "LayoutModel",
          "state": {
            "_model_module": "@jupyter-widgets/base",
            "_model_module_version": "1.2.0",
            "_model_name": "LayoutModel",
            "_view_count": null,
            "_view_module": "@jupyter-widgets/base",
            "_view_module_version": "1.2.0",
            "_view_name": "LayoutView",
            "align_content": null,
            "align_items": null,
            "align_self": null,
            "border": null,
            "bottom": null,
            "display": null,
            "flex": null,
            "flex_flow": null,
            "grid_area": null,
            "grid_auto_columns": null,
            "grid_auto_flow": null,
            "grid_auto_rows": null,
            "grid_column": null,
            "grid_gap": null,
            "grid_row": null,
            "grid_template_areas": null,
            "grid_template_columns": null,
            "grid_template_rows": null,
            "height": null,
            "justify_content": null,
            "justify_items": null,
            "left": null,
            "margin": null,
            "max_height": null,
            "max_width": null,
            "min_height": null,
            "min_width": null,
            "object_fit": null,
            "object_position": null,
            "order": null,
            "overflow": null,
            "overflow_x": null,
            "overflow_y": null,
            "padding": null,
            "right": null,
            "top": null,
            "visibility": null,
            "width": null
          }
        },
        "3d6c191f2e3c426bb964336ea2186d64": {
          "model_module": "@jupyter-widgets/controls",
          "model_module_version": "1.5.0",
          "model_name": "ProgressStyleModel",
          "state": {
            "_model_module": "@jupyter-widgets/controls",
            "_model_module_version": "1.5.0",
            "_model_name": "ProgressStyleModel",
            "_view_count": null,
            "_view_module": "@jupyter-widgets/base",
            "_view_module_version": "1.2.0",
            "_view_name": "StyleView",
            "bar_color": null,
            "description_width": ""
          }
        },
        "43c7a13eacb04416b9400355fd2766a3": {
          "model_module": "@jupyter-widgets/controls",
          "model_module_version": "1.5.0",
          "model_name": "DescriptionStyleModel",
          "state": {
            "_model_module": "@jupyter-widgets/controls",
            "_model_module_version": "1.5.0",
            "_model_name": "DescriptionStyleModel",
            "_view_count": null,
            "_view_module": "@jupyter-widgets/base",
            "_view_module_version": "1.2.0",
            "_view_name": "StyleView",
            "description_width": ""
          }
        },
        "50e6d15fe59941d196f5933b3fde4b69": {
          "model_module": "@jupyter-widgets/base",
          "model_module_version": "1.2.0",
          "model_name": "LayoutModel",
          "state": {
            "_model_module": "@jupyter-widgets/base",
            "_model_module_version": "1.2.0",
            "_model_name": "LayoutModel",
            "_view_count": null,
            "_view_module": "@jupyter-widgets/base",
            "_view_module_version": "1.2.0",
            "_view_name": "LayoutView",
            "align_content": null,
            "align_items": null,
            "align_self": null,
            "border": null,
            "bottom": null,
            "display": null,
            "flex": null,
            "flex_flow": null,
            "grid_area": null,
            "grid_auto_columns": null,
            "grid_auto_flow": null,
            "grid_auto_rows": null,
            "grid_column": null,
            "grid_gap": null,
            "grid_row": null,
            "grid_template_areas": null,
            "grid_template_columns": null,
            "grid_template_rows": null,
            "height": null,
            "justify_content": null,
            "justify_items": null,
            "left": null,
            "margin": null,
            "max_height": null,
            "max_width": null,
            "min_height": null,
            "min_width": null,
            "object_fit": null,
            "object_position": null,
            "order": null,
            "overflow": null,
            "overflow_x": null,
            "overflow_y": null,
            "padding": null,
            "right": null,
            "top": null,
            "visibility": null,
            "width": null
          }
        },
        "53306716325542cd86aeb67f5d55e3f2": {
          "model_module": "@jupyter-widgets/controls",
          "model_module_version": "1.5.0",
          "model_name": "HTMLModel",
          "state": {
            "_dom_classes": [],
            "_model_module": "@jupyter-widgets/controls",
            "_model_module_version": "1.5.0",
            "_model_name": "HTMLModel",
            "_view_count": null,
            "_view_module": "@jupyter-widgets/controls",
            "_view_module_version": "1.5.0",
            "_view_name": "HTMLView",
            "description": "",
            "description_tooltip": null,
            "layout": "IPY_MODEL_651bd5f96d644c59b981a5e0ee87eb4b",
            "placeholder": "​",
            "style": "IPY_MODEL_dd6e92163da74818ae6c08e378a3be5f",
            "value": "Downloading builder script: 100%"
          }
        },
        "561229ff6ef6482091ba8160fd409996": {
          "model_module": "@jupyter-widgets/controls",
          "model_module_version": "1.5.0",
          "model_name": "DescriptionStyleModel",
          "state": {
            "_model_module": "@jupyter-widgets/controls",
            "_model_module_version": "1.5.0",
            "_model_name": "DescriptionStyleModel",
            "_view_count": null,
            "_view_module": "@jupyter-widgets/base",
            "_view_module_version": "1.2.0",
            "_view_name": "StyleView",
            "description_width": ""
          }
        },
        "5e2d828b47f845769f62c33c31be6ec2": {
          "model_module": "@jupyter-widgets/controls",
          "model_module_version": "1.5.0",
          "model_name": "HTMLModel",
          "state": {
            "_dom_classes": [],
            "_model_module": "@jupyter-widgets/controls",
            "_model_module_version": "1.5.0",
            "_model_name": "HTMLModel",
            "_view_count": null,
            "_view_module": "@jupyter-widgets/controls",
            "_view_module_version": "1.5.0",
            "_view_name": "HTMLView",
            "description": "",
            "description_tooltip": null,
            "layout": "IPY_MODEL_912a63c99cc6489aa4b8b10f0ad56418",
            "placeholder": "​",
            "style": "IPY_MODEL_25605fe7e41646159d732a67a6e697ee",
            "value": "Downloading model.safetensors: 100%"
          }
        },
        "5f56dc44cc7e4ba59f3ce0a1175bb04a": {
          "model_module": "@jupyter-widgets/base",
          "model_module_version": "1.2.0",
          "model_name": "LayoutModel",
          "state": {
            "_model_module": "@jupyter-widgets/base",
            "_model_module_version": "1.2.0",
            "_model_name": "LayoutModel",
            "_view_count": null,
            "_view_module": "@jupyter-widgets/base",
            "_view_module_version": "1.2.0",
            "_view_name": "LayoutView",
            "align_content": null,
            "align_items": null,
            "align_self": null,
            "border": null,
            "bottom": null,
            "display": null,
            "flex": null,
            "flex_flow": null,
            "grid_area": null,
            "grid_auto_columns": null,
            "grid_auto_flow": null,
            "grid_auto_rows": null,
            "grid_column": null,
            "grid_gap": null,
            "grid_row": null,
            "grid_template_areas": null,
            "grid_template_columns": null,
            "grid_template_rows": null,
            "height": null,
            "justify_content": null,
            "justify_items": null,
            "left": null,
            "margin": null,
            "max_height": null,
            "max_width": null,
            "min_height": null,
            "min_width": null,
            "object_fit": null,
            "object_position": null,
            "order": null,
            "overflow": null,
            "overflow_x": null,
            "overflow_y": null,
            "padding": null,
            "right": null,
            "top": null,
            "visibility": null,
            "width": null
          }
        },
        "651bd5f96d644c59b981a5e0ee87eb4b": {
          "model_module": "@jupyter-widgets/base",
          "model_module_version": "1.2.0",
          "model_name": "LayoutModel",
          "state": {
            "_model_module": "@jupyter-widgets/base",
            "_model_module_version": "1.2.0",
            "_model_name": "LayoutModel",
            "_view_count": null,
            "_view_module": "@jupyter-widgets/base",
            "_view_module_version": "1.2.0",
            "_view_name": "LayoutView",
            "align_content": null,
            "align_items": null,
            "align_self": null,
            "border": null,
            "bottom": null,
            "display": null,
            "flex": null,
            "flex_flow": null,
            "grid_area": null,
            "grid_auto_columns": null,
            "grid_auto_flow": null,
            "grid_auto_rows": null,
            "grid_column": null,
            "grid_gap": null,
            "grid_row": null,
            "grid_template_areas": null,
            "grid_template_columns": null,
            "grid_template_rows": null,
            "height": null,
            "justify_content": null,
            "justify_items": null,
            "left": null,
            "margin": null,
            "max_height": null,
            "max_width": null,
            "min_height": null,
            "min_width": null,
            "object_fit": null,
            "object_position": null,
            "order": null,
            "overflow": null,
            "overflow_x": null,
            "overflow_y": null,
            "padding": null,
            "right": null,
            "top": null,
            "visibility": null,
            "width": null
          }
        },
        "6814f2c798834f7ca524ede5f1ffa34a": {
          "model_module": "@jupyter-widgets/base",
          "model_module_version": "1.2.0",
          "model_name": "LayoutModel",
          "state": {
            "_model_module": "@jupyter-widgets/base",
            "_model_module_version": "1.2.0",
            "_model_name": "LayoutModel",
            "_view_count": null,
            "_view_module": "@jupyter-widgets/base",
            "_view_module_version": "1.2.0",
            "_view_name": "LayoutView",
            "align_content": null,
            "align_items": null,
            "align_self": null,
            "border": null,
            "bottom": null,
            "display": null,
            "flex": null,
            "flex_flow": null,
            "grid_area": null,
            "grid_auto_columns": null,
            "grid_auto_flow": null,
            "grid_auto_rows": null,
            "grid_column": null,
            "grid_gap": null,
            "grid_row": null,
            "grid_template_areas": null,
            "grid_template_columns": null,
            "grid_template_rows": null,
            "height": null,
            "justify_content": null,
            "justify_items": null,
            "left": null,
            "margin": null,
            "max_height": null,
            "max_width": null,
            "min_height": null,
            "min_width": null,
            "object_fit": null,
            "object_position": null,
            "order": null,
            "overflow": null,
            "overflow_x": null,
            "overflow_y": null,
            "padding": null,
            "right": null,
            "top": null,
            "visibility": null,
            "width": null
          }
        },
        "6a14be3c6cd743c0ad5d74f848a40324": {
          "model_module": "@jupyter-widgets/controls",
          "model_module_version": "1.5.0",
          "model_name": "ProgressStyleModel",
          "state": {
            "_model_module": "@jupyter-widgets/controls",
            "_model_module_version": "1.5.0",
            "_model_name": "ProgressStyleModel",
            "_view_count": null,
            "_view_module": "@jupyter-widgets/base",
            "_view_module_version": "1.2.0",
            "_view_name": "StyleView",
            "bar_color": null,
            "description_width": ""
          }
        },
        "912a63c99cc6489aa4b8b10f0ad56418": {
          "model_module": "@jupyter-widgets/base",
          "model_module_version": "1.2.0",
          "model_name": "LayoutModel",
          "state": {
            "_model_module": "@jupyter-widgets/base",
            "_model_module_version": "1.2.0",
            "_model_name": "LayoutModel",
            "_view_count": null,
            "_view_module": "@jupyter-widgets/base",
            "_view_module_version": "1.2.0",
            "_view_name": "LayoutView",
            "align_content": null,
            "align_items": null,
            "align_self": null,
            "border": null,
            "bottom": null,
            "display": null,
            "flex": null,
            "flex_flow": null,
            "grid_area": null,
            "grid_auto_columns": null,
            "grid_auto_flow": null,
            "grid_auto_rows": null,
            "grid_column": null,
            "grid_gap": null,
            "grid_row": null,
            "grid_template_areas": null,
            "grid_template_columns": null,
            "grid_template_rows": null,
            "height": null,
            "justify_content": null,
            "justify_items": null,
            "left": null,
            "margin": null,
            "max_height": null,
            "max_width": null,
            "min_height": null,
            "min_width": null,
            "object_fit": null,
            "object_position": null,
            "order": null,
            "overflow": null,
            "overflow_x": null,
            "overflow_y": null,
            "padding": null,
            "right": null,
            "top": null,
            "visibility": null,
            "width": null
          }
        },
        "97a5a1212751442a813a9d3072aa07c4": {
          "model_module": "@jupyter-widgets/controls",
          "model_module_version": "1.5.0",
          "model_name": "DescriptionStyleModel",
          "state": {
            "_model_module": "@jupyter-widgets/controls",
            "_model_module_version": "1.5.0",
            "_model_name": "DescriptionStyleModel",
            "_view_count": null,
            "_view_module": "@jupyter-widgets/base",
            "_view_module_version": "1.2.0",
            "_view_name": "StyleView",
            "description_width": ""
          }
        },
        "a3f610042f8f435f928517bbaa2f7f21": {
          "model_module": "@jupyter-widgets/base",
          "model_module_version": "1.2.0",
          "model_name": "LayoutModel",
          "state": {
            "_model_module": "@jupyter-widgets/base",
            "_model_module_version": "1.2.0",
            "_model_name": "LayoutModel",
            "_view_count": null,
            "_view_module": "@jupyter-widgets/base",
            "_view_module_version": "1.2.0",
            "_view_name": "LayoutView",
            "align_content": null,
            "align_items": null,
            "align_self": null,
            "border": null,
            "bottom": null,
            "display": null,
            "flex": null,
            "flex_flow": null,
            "grid_area": null,
            "grid_auto_columns": null,
            "grid_auto_flow": null,
            "grid_auto_rows": null,
            "grid_column": null,
            "grid_gap": null,
            "grid_row": null,
            "grid_template_areas": null,
            "grid_template_columns": null,
            "grid_template_rows": null,
            "height": null,
            "justify_content": null,
            "justify_items": null,
            "left": null,
            "margin": null,
            "max_height": null,
            "max_width": null,
            "min_height": null,
            "min_width": null,
            "object_fit": null,
            "object_position": null,
            "order": null,
            "overflow": null,
            "overflow_x": null,
            "overflow_y": null,
            "padding": null,
            "right": null,
            "top": null,
            "visibility": null,
            "width": null
          }
        },
        "af11f8d5769c42ce9051a18abff6ab01": {
          "model_module": "@jupyter-widgets/controls",
          "model_module_version": "1.5.0",
          "model_name": "HTMLModel",
          "state": {
            "_dom_classes": [],
            "_model_module": "@jupyter-widgets/controls",
            "_model_module_version": "1.5.0",
            "_model_name": "HTMLModel",
            "_view_count": null,
            "_view_module": "@jupyter-widgets/controls",
            "_view_module_version": "1.5.0",
            "_view_name": "HTMLView",
            "description": "",
            "description_tooltip": null,
            "layout": "IPY_MODEL_30c0cd0da06e4f03a3f601d39bb621e0",
            "placeholder": "​",
            "style": "IPY_MODEL_43c7a13eacb04416b9400355fd2766a3",
            "value": " 4.20k/4.20k [00:00&lt;00:00, 187kB/s]"
          }
        },
        "b24f9aa0b83e42528391db394721f669": {
          "model_module": "@jupyter-widgets/base",
          "model_module_version": "1.2.0",
          "model_name": "LayoutModel",
          "state": {
            "_model_module": "@jupyter-widgets/base",
            "_model_module_version": "1.2.0",
            "_model_name": "LayoutModel",
            "_view_count": null,
            "_view_module": "@jupyter-widgets/base",
            "_view_module_version": "1.2.0",
            "_view_name": "LayoutView",
            "align_content": null,
            "align_items": null,
            "align_self": null,
            "border": null,
            "bottom": null,
            "display": null,
            "flex": null,
            "flex_flow": null,
            "grid_area": null,
            "grid_auto_columns": null,
            "grid_auto_flow": null,
            "grid_auto_rows": null,
            "grid_column": null,
            "grid_gap": null,
            "grid_row": null,
            "grid_template_areas": null,
            "grid_template_columns": null,
            "grid_template_rows": null,
            "height": null,
            "justify_content": null,
            "justify_items": null,
            "left": null,
            "margin": null,
            "max_height": null,
            "max_width": null,
            "min_height": null,
            "min_width": null,
            "object_fit": null,
            "object_position": null,
            "order": null,
            "overflow": null,
            "overflow_x": null,
            "overflow_y": null,
            "padding": null,
            "right": null,
            "top": null,
            "visibility": null,
            "width": null
          }
        },
        "bb85ba34eb3b45c4aae251a3fedb0fbe": {
          "model_module": "@jupyter-widgets/base",
          "model_module_version": "1.2.0",
          "model_name": "LayoutModel",
          "state": {
            "_model_module": "@jupyter-widgets/base",
            "_model_module_version": "1.2.0",
            "_model_name": "LayoutModel",
            "_view_count": null,
            "_view_module": "@jupyter-widgets/base",
            "_view_module_version": "1.2.0",
            "_view_name": "LayoutView",
            "align_content": null,
            "align_items": null,
            "align_self": null,
            "border": null,
            "bottom": null,
            "display": null,
            "flex": null,
            "flex_flow": null,
            "grid_area": null,
            "grid_auto_columns": null,
            "grid_auto_flow": null,
            "grid_auto_rows": null,
            "grid_column": null,
            "grid_gap": null,
            "grid_row": null,
            "grid_template_areas": null,
            "grid_template_columns": null,
            "grid_template_rows": null,
            "height": null,
            "justify_content": null,
            "justify_items": null,
            "left": null,
            "margin": null,
            "max_height": null,
            "max_width": null,
            "min_height": null,
            "min_width": null,
            "object_fit": null,
            "object_position": null,
            "order": null,
            "overflow": null,
            "overflow_x": null,
            "overflow_y": null,
            "padding": null,
            "right": null,
            "top": null,
            "visibility": null,
            "width": null
          }
        },
        "c9189eb297f84febb26f35b1849b9fe6": {
          "model_module": "@jupyter-widgets/base",
          "model_module_version": "1.2.0",
          "model_name": "LayoutModel",
          "state": {
            "_model_module": "@jupyter-widgets/base",
            "_model_module_version": "1.2.0",
            "_model_name": "LayoutModel",
            "_view_count": null,
            "_view_module": "@jupyter-widgets/base",
            "_view_module_version": "1.2.0",
            "_view_name": "LayoutView",
            "align_content": null,
            "align_items": null,
            "align_self": null,
            "border": null,
            "bottom": null,
            "display": null,
            "flex": null,
            "flex_flow": null,
            "grid_area": null,
            "grid_auto_columns": null,
            "grid_auto_flow": null,
            "grid_auto_rows": null,
            "grid_column": null,
            "grid_gap": null,
            "grid_row": null,
            "grid_template_areas": null,
            "grid_template_columns": null,
            "grid_template_rows": null,
            "height": null,
            "justify_content": null,
            "justify_items": null,
            "left": null,
            "margin": null,
            "max_height": null,
            "max_width": null,
            "min_height": null,
            "min_width": null,
            "object_fit": null,
            "object_position": null,
            "order": null,
            "overflow": null,
            "overflow_x": null,
            "overflow_y": null,
            "padding": null,
            "right": null,
            "top": null,
            "visibility": null,
            "width": null
          }
        },
        "ca158b4958054ddf8906188338c38394": {
          "model_module": "@jupyter-widgets/base",
          "model_module_version": "1.2.0",
          "model_name": "LayoutModel",
          "state": {
            "_model_module": "@jupyter-widgets/base",
            "_model_module_version": "1.2.0",
            "_model_name": "LayoutModel",
            "_view_count": null,
            "_view_module": "@jupyter-widgets/base",
            "_view_module_version": "1.2.0",
            "_view_name": "LayoutView",
            "align_content": null,
            "align_items": null,
            "align_self": null,
            "border": null,
            "bottom": null,
            "display": null,
            "flex": null,
            "flex_flow": null,
            "grid_area": null,
            "grid_auto_columns": null,
            "grid_auto_flow": null,
            "grid_auto_rows": null,
            "grid_column": null,
            "grid_gap": null,
            "grid_row": null,
            "grid_template_areas": null,
            "grid_template_columns": null,
            "grid_template_rows": null,
            "height": null,
            "justify_content": null,
            "justify_items": null,
            "left": null,
            "margin": null,
            "max_height": null,
            "max_width": null,
            "min_height": null,
            "min_width": null,
            "object_fit": null,
            "object_position": null,
            "order": null,
            "overflow": null,
            "overflow_x": null,
            "overflow_y": null,
            "padding": null,
            "right": null,
            "top": null,
            "visibility": null,
            "width": null
          }
        },
        "d2068f9c861a497b9407eb98cad78e82": {
          "model_module": "@jupyter-widgets/controls",
          "model_module_version": "1.5.0",
          "model_name": "FloatProgressModel",
          "state": {
            "_dom_classes": [],
            "_model_module": "@jupyter-widgets/controls",
            "_model_module_version": "1.5.0",
            "_model_name": "FloatProgressModel",
            "_view_count": null,
            "_view_module": "@jupyter-widgets/controls",
            "_view_module_version": "1.5.0",
            "_view_name": "ProgressView",
            "bar_style": "success",
            "description": "",
            "description_tooltip": null,
            "layout": "IPY_MODEL_ca158b4958054ddf8906188338c38394",
            "max": 440449768,
            "min": 0,
            "orientation": "horizontal",
            "style": "IPY_MODEL_25e76b1c0496422aa30528dbf0861912",
            "value": 440449768
          }
        },
        "d781e70874484e44bf170cb488316625": {
          "model_module": "@jupyter-widgets/base",
          "model_module_version": "1.2.0",
          "model_name": "LayoutModel",
          "state": {
            "_model_module": "@jupyter-widgets/base",
            "_model_module_version": "1.2.0",
            "_model_name": "LayoutModel",
            "_view_count": null,
            "_view_module": "@jupyter-widgets/base",
            "_view_module_version": "1.2.0",
            "_view_name": "LayoutView",
            "align_content": null,
            "align_items": null,
            "align_self": null,
            "border": null,
            "bottom": null,
            "display": null,
            "flex": null,
            "flex_flow": null,
            "grid_area": null,
            "grid_auto_columns": null,
            "grid_auto_flow": null,
            "grid_auto_rows": null,
            "grid_column": null,
            "grid_gap": null,
            "grid_row": null,
            "grid_template_areas": null,
            "grid_template_columns": null,
            "grid_template_rows": null,
            "height": null,
            "justify_content": null,
            "justify_items": null,
            "left": null,
            "margin": null,
            "max_height": null,
            "max_width": null,
            "min_height": null,
            "min_width": null,
            "object_fit": null,
            "object_position": null,
            "order": null,
            "overflow": null,
            "overflow_x": null,
            "overflow_y": null,
            "padding": null,
            "right": null,
            "top": null,
            "visibility": null,
            "width": null
          }
        },
        "dd6e92163da74818ae6c08e378a3be5f": {
          "model_module": "@jupyter-widgets/controls",
          "model_module_version": "1.5.0",
          "model_name": "DescriptionStyleModel",
          "state": {
            "_model_module": "@jupyter-widgets/controls",
            "_model_module_version": "1.5.0",
            "_model_name": "DescriptionStyleModel",
            "_view_count": null,
            "_view_module": "@jupyter-widgets/base",
            "_view_module_version": "1.2.0",
            "_view_name": "StyleView",
            "description_width": ""
          }
        },
        "e7d6439392694bf1bff1b872cdbc7b48": {
          "model_module": "@jupyter-widgets/controls",
          "model_module_version": "1.5.0",
          "model_name": "HTMLModel",
          "state": {
            "_dom_classes": [],
            "_model_module": "@jupyter-widgets/controls",
            "_model_module_version": "1.5.0",
            "_model_name": "HTMLModel",
            "_view_count": null,
            "_view_module": "@jupyter-widgets/controls",
            "_view_module_version": "1.5.0",
            "_view_name": "HTMLView",
            "description": "",
            "description_tooltip": null,
            "layout": "IPY_MODEL_b24f9aa0b83e42528391db394721f669",
            "placeholder": "​",
            "style": "IPY_MODEL_97a5a1212751442a813a9d3072aa07c4",
            "value": " 6.77k/6.77k [00:00&lt;00:00, 424kB/s]"
          }
        },
        "edab76f513db490581ad5c79de698a76": {
          "model_module": "@jupyter-widgets/controls",
          "model_module_version": "1.5.0",
          "model_name": "HBoxModel",
          "state": {
            "_dom_classes": [],
            "_model_module": "@jupyter-widgets/controls",
            "_model_module_version": "1.5.0",
            "_model_name": "HBoxModel",
            "_view_count": null,
            "_view_module": "@jupyter-widgets/controls",
            "_view_module_version": "1.5.0",
            "_view_name": "HBoxView",
            "box_style": "",
            "children": [
              "IPY_MODEL_f01bab934be744e28ab099dfa0e0377a",
              "IPY_MODEL_0d4147cdc8454159a57c847e7b3d9e79",
              "IPY_MODEL_af11f8d5769c42ce9051a18abff6ab01"
            ],
            "layout": "IPY_MODEL_d781e70874484e44bf170cb488316625"
          }
        },
        "f01bab934be744e28ab099dfa0e0377a": {
          "model_module": "@jupyter-widgets/controls",
          "model_module_version": "1.5.0",
          "model_name": "HTMLModel",
          "state": {
            "_dom_classes": [],
            "_model_module": "@jupyter-widgets/controls",
            "_model_module_version": "1.5.0",
            "_model_name": "HTMLModel",
            "_view_count": null,
            "_view_module": "@jupyter-widgets/controls",
            "_view_module_version": "1.5.0",
            "_view_name": "HTMLView",
            "description": "",
            "description_tooltip": null,
            "layout": "IPY_MODEL_6814f2c798834f7ca524ede5f1ffa34a",
            "placeholder": "​",
            "style": "IPY_MODEL_304bce2010f444bda1aec33dd3fd24ac",
            "value": "Downloading builder script: 100%"
          }
        },
        "469b9b5667c3416390ca66c67a0b29cc": {
          "model_module": "@jupyter-widgets/controls",
          "model_name": "HBoxModel",
          "model_module_version": "1.5.0",
          "state": {
            "_dom_classes": [],
            "_model_module": "@jupyter-widgets/controls",
            "_model_module_version": "1.5.0",
            "_model_name": "HBoxModel",
            "_view_count": null,
            "_view_module": "@jupyter-widgets/controls",
            "_view_module_version": "1.5.0",
            "_view_name": "HBoxView",
            "box_style": "",
            "children": [
              "IPY_MODEL_5a31807a7f2b4f35b4beef275231b252",
              "IPY_MODEL_ec0d90c6193d4c5d9ec91e5c2298ef1d",
              "IPY_MODEL_79eeff0ef7f54231982a638e724a0e1f"
            ],
            "layout": "IPY_MODEL_38d6d6194a63464ca8677651690c1c59"
          }
        },
        "5a31807a7f2b4f35b4beef275231b252": {
          "model_module": "@jupyter-widgets/controls",
          "model_name": "HTMLModel",
          "model_module_version": "1.5.0",
          "state": {
            "_dom_classes": [],
            "_model_module": "@jupyter-widgets/controls",
            "_model_module_version": "1.5.0",
            "_model_name": "HTMLModel",
            "_view_count": null,
            "_view_module": "@jupyter-widgets/controls",
            "_view_module_version": "1.5.0",
            "_view_name": "HTMLView",
            "description": "",
            "description_tooltip": null,
            "layout": "IPY_MODEL_322c02a5b5ec424baae2dc6185646534",
            "placeholder": "​",
            "style": "IPY_MODEL_3f8349a954064f20aa3444c66b0ea825",
            "value": "Downloading model.safetensors: 100%"
          }
        },
        "ec0d90c6193d4c5d9ec91e5c2298ef1d": {
          "model_module": "@jupyter-widgets/controls",
          "model_name": "FloatProgressModel",
          "model_module_version": "1.5.0",
          "state": {
            "_dom_classes": [],
            "_model_module": "@jupyter-widgets/controls",
            "_model_module_version": "1.5.0",
            "_model_name": "FloatProgressModel",
            "_view_count": null,
            "_view_module": "@jupyter-widgets/controls",
            "_view_module_version": "1.5.0",
            "_view_name": "ProgressView",
            "bar_style": "success",
            "description": "",
            "description_tooltip": null,
            "layout": "IPY_MODEL_6f6e925ccb6a446392a371a2328b6fa5",
            "max": 498818054,
            "min": 0,
            "orientation": "horizontal",
            "style": "IPY_MODEL_e381b39227134ff7950c24e887b47f48",
            "value": 498818054
          }
        },
        "79eeff0ef7f54231982a638e724a0e1f": {
          "model_module": "@jupyter-widgets/controls",
          "model_name": "HTMLModel",
          "model_module_version": "1.5.0",
          "state": {
            "_dom_classes": [],
            "_model_module": "@jupyter-widgets/controls",
            "_model_module_version": "1.5.0",
            "_model_name": "HTMLModel",
            "_view_count": null,
            "_view_module": "@jupyter-widgets/controls",
            "_view_module_version": "1.5.0",
            "_view_name": "HTMLView",
            "description": "",
            "description_tooltip": null,
            "layout": "IPY_MODEL_cf35b287dd0e4ea889c6e385c9640d3d",
            "placeholder": "​",
            "style": "IPY_MODEL_61c4e5f1c31a45c9bf2b1ee731c58aac",
            "value": " 499M/499M [00:07&lt;00:00, 121MB/s]"
          }
        },
        "38d6d6194a63464ca8677651690c1c59": {
          "model_module": "@jupyter-widgets/base",
          "model_name": "LayoutModel",
          "model_module_version": "1.2.0",
          "state": {
            "_model_module": "@jupyter-widgets/base",
            "_model_module_version": "1.2.0",
            "_model_name": "LayoutModel",
            "_view_count": null,
            "_view_module": "@jupyter-widgets/base",
            "_view_module_version": "1.2.0",
            "_view_name": "LayoutView",
            "align_content": null,
            "align_items": null,
            "align_self": null,
            "border": null,
            "bottom": null,
            "display": null,
            "flex": null,
            "flex_flow": null,
            "grid_area": null,
            "grid_auto_columns": null,
            "grid_auto_flow": null,
            "grid_auto_rows": null,
            "grid_column": null,
            "grid_gap": null,
            "grid_row": null,
            "grid_template_areas": null,
            "grid_template_columns": null,
            "grid_template_rows": null,
            "height": null,
            "justify_content": null,
            "justify_items": null,
            "left": null,
            "margin": null,
            "max_height": null,
            "max_width": null,
            "min_height": null,
            "min_width": null,
            "object_fit": null,
            "object_position": null,
            "order": null,
            "overflow": null,
            "overflow_x": null,
            "overflow_y": null,
            "padding": null,
            "right": null,
            "top": null,
            "visibility": null,
            "width": null
          }
        },
        "322c02a5b5ec424baae2dc6185646534": {
          "model_module": "@jupyter-widgets/base",
          "model_name": "LayoutModel",
          "model_module_version": "1.2.0",
          "state": {
            "_model_module": "@jupyter-widgets/base",
            "_model_module_version": "1.2.0",
            "_model_name": "LayoutModel",
            "_view_count": null,
            "_view_module": "@jupyter-widgets/base",
            "_view_module_version": "1.2.0",
            "_view_name": "LayoutView",
            "align_content": null,
            "align_items": null,
            "align_self": null,
            "border": null,
            "bottom": null,
            "display": null,
            "flex": null,
            "flex_flow": null,
            "grid_area": null,
            "grid_auto_columns": null,
            "grid_auto_flow": null,
            "grid_auto_rows": null,
            "grid_column": null,
            "grid_gap": null,
            "grid_row": null,
            "grid_template_areas": null,
            "grid_template_columns": null,
            "grid_template_rows": null,
            "height": null,
            "justify_content": null,
            "justify_items": null,
            "left": null,
            "margin": null,
            "max_height": null,
            "max_width": null,
            "min_height": null,
            "min_width": null,
            "object_fit": null,
            "object_position": null,
            "order": null,
            "overflow": null,
            "overflow_x": null,
            "overflow_y": null,
            "padding": null,
            "right": null,
            "top": null,
            "visibility": null,
            "width": null
          }
        },
        "3f8349a954064f20aa3444c66b0ea825": {
          "model_module": "@jupyter-widgets/controls",
          "model_name": "DescriptionStyleModel",
          "model_module_version": "1.5.0",
          "state": {
            "_model_module": "@jupyter-widgets/controls",
            "_model_module_version": "1.5.0",
            "_model_name": "DescriptionStyleModel",
            "_view_count": null,
            "_view_module": "@jupyter-widgets/base",
            "_view_module_version": "1.2.0",
            "_view_name": "StyleView",
            "description_width": ""
          }
        },
        "6f6e925ccb6a446392a371a2328b6fa5": {
          "model_module": "@jupyter-widgets/base",
          "model_name": "LayoutModel",
          "model_module_version": "1.2.0",
          "state": {
            "_model_module": "@jupyter-widgets/base",
            "_model_module_version": "1.2.0",
            "_model_name": "LayoutModel",
            "_view_count": null,
            "_view_module": "@jupyter-widgets/base",
            "_view_module_version": "1.2.0",
            "_view_name": "LayoutView",
            "align_content": null,
            "align_items": null,
            "align_self": null,
            "border": null,
            "bottom": null,
            "display": null,
            "flex": null,
            "flex_flow": null,
            "grid_area": null,
            "grid_auto_columns": null,
            "grid_auto_flow": null,
            "grid_auto_rows": null,
            "grid_column": null,
            "grid_gap": null,
            "grid_row": null,
            "grid_template_areas": null,
            "grid_template_columns": null,
            "grid_template_rows": null,
            "height": null,
            "justify_content": null,
            "justify_items": null,
            "left": null,
            "margin": null,
            "max_height": null,
            "max_width": null,
            "min_height": null,
            "min_width": null,
            "object_fit": null,
            "object_position": null,
            "order": null,
            "overflow": null,
            "overflow_x": null,
            "overflow_y": null,
            "padding": null,
            "right": null,
            "top": null,
            "visibility": null,
            "width": null
          }
        },
        "e381b39227134ff7950c24e887b47f48": {
          "model_module": "@jupyter-widgets/controls",
          "model_name": "ProgressStyleModel",
          "model_module_version": "1.5.0",
          "state": {
            "_model_module": "@jupyter-widgets/controls",
            "_model_module_version": "1.5.0",
            "_model_name": "ProgressStyleModel",
            "_view_count": null,
            "_view_module": "@jupyter-widgets/base",
            "_view_module_version": "1.2.0",
            "_view_name": "StyleView",
            "bar_color": null,
            "description_width": ""
          }
        },
        "cf35b287dd0e4ea889c6e385c9640d3d": {
          "model_module": "@jupyter-widgets/base",
          "model_name": "LayoutModel",
          "model_module_version": "1.2.0",
          "state": {
            "_model_module": "@jupyter-widgets/base",
            "_model_module_version": "1.2.0",
            "_model_name": "LayoutModel",
            "_view_count": null,
            "_view_module": "@jupyter-widgets/base",
            "_view_module_version": "1.2.0",
            "_view_name": "LayoutView",
            "align_content": null,
            "align_items": null,
            "align_self": null,
            "border": null,
            "bottom": null,
            "display": null,
            "flex": null,
            "flex_flow": null,
            "grid_area": null,
            "grid_auto_columns": null,
            "grid_auto_flow": null,
            "grid_auto_rows": null,
            "grid_column": null,
            "grid_gap": null,
            "grid_row": null,
            "grid_template_areas": null,
            "grid_template_columns": null,
            "grid_template_rows": null,
            "height": null,
            "justify_content": null,
            "justify_items": null,
            "left": null,
            "margin": null,
            "max_height": null,
            "max_width": null,
            "min_height": null,
            "min_width": null,
            "object_fit": null,
            "object_position": null,
            "order": null,
            "overflow": null,
            "overflow_x": null,
            "overflow_y": null,
            "padding": null,
            "right": null,
            "top": null,
            "visibility": null,
            "width": null
          }
        },
        "61c4e5f1c31a45c9bf2b1ee731c58aac": {
          "model_module": "@jupyter-widgets/controls",
          "model_name": "DescriptionStyleModel",
          "model_module_version": "1.5.0",
          "state": {
            "_model_module": "@jupyter-widgets/controls",
            "_model_module_version": "1.5.0",
            "_model_name": "DescriptionStyleModel",
            "_view_count": null,
            "_view_module": "@jupyter-widgets/base",
            "_view_module_version": "1.2.0",
            "_view_name": "StyleView",
            "description_width": ""
          }
        },
        "0056ba20af4e4102af416e7fbe7cf879": {
          "model_module": "@jupyter-widgets/controls",
          "model_name": "VBoxModel",
          "model_module_version": "1.5.0",
          "state": {
            "_dom_classes": [],
            "_model_module": "@jupyter-widgets/controls",
            "_model_module_version": "1.5.0",
            "_model_name": "VBoxModel",
            "_view_count": null,
            "_view_module": "@jupyter-widgets/controls",
            "_view_module_version": "1.5.0",
            "_view_name": "VBoxView",
            "box_style": "",
            "children": [
              "IPY_MODEL_4cfc1c75e2a24190950028aa984be5a0",
              "IPY_MODEL_22985283b47f4c04b8d71aa3f8c84bb5"
            ],
            "layout": "IPY_MODEL_b2048aeaa9ff450fa27708cd11ad410f"
          }
        },
        "4cfc1c75e2a24190950028aa984be5a0": {
          "model_module": "@jupyter-widgets/controls",
          "model_name": "LabelModel",
          "model_module_version": "1.5.0",
          "state": {
            "_dom_classes": [],
            "_model_module": "@jupyter-widgets/controls",
            "_model_module_version": "1.5.0",
            "_model_name": "LabelModel",
            "_view_count": null,
            "_view_module": "@jupyter-widgets/controls",
            "_view_module_version": "1.5.0",
            "_view_name": "LabelView",
            "description": "",
            "description_tooltip": null,
            "layout": "IPY_MODEL_783b48ff649e41d789f7a9dc6af0d7f1",
            "placeholder": "​",
            "style": "IPY_MODEL_08b238aba3a0474b9a0f3a9a4f1828b7",
            "value": "0.007 MB of 0.007 MB uploaded (0.000 MB deduped)\r"
          }
        },
        "22985283b47f4c04b8d71aa3f8c84bb5": {
          "model_module": "@jupyter-widgets/controls",
          "model_name": "FloatProgressModel",
          "model_module_version": "1.5.0",
          "state": {
            "_dom_classes": [],
            "_model_module": "@jupyter-widgets/controls",
            "_model_module_version": "1.5.0",
            "_model_name": "FloatProgressModel",
            "_view_count": null,
            "_view_module": "@jupyter-widgets/controls",
            "_view_module_version": "1.5.0",
            "_view_name": "ProgressView",
            "bar_style": "",
            "description": "",
            "description_tooltip": null,
            "layout": "IPY_MODEL_23d0d58a935c4eb5a27aee973b5c9bd5",
            "max": 1,
            "min": 0,
            "orientation": "horizontal",
            "style": "IPY_MODEL_b79f1702145d45bfbd4161d1c20c13a6",
            "value": 1
          }
        },
        "b2048aeaa9ff450fa27708cd11ad410f": {
          "model_module": "@jupyter-widgets/base",
          "model_name": "LayoutModel",
          "model_module_version": "1.2.0",
          "state": {
            "_model_module": "@jupyter-widgets/base",
            "_model_module_version": "1.2.0",
            "_model_name": "LayoutModel",
            "_view_count": null,
            "_view_module": "@jupyter-widgets/base",
            "_view_module_version": "1.2.0",
            "_view_name": "LayoutView",
            "align_content": null,
            "align_items": null,
            "align_self": null,
            "border": null,
            "bottom": null,
            "display": null,
            "flex": null,
            "flex_flow": null,
            "grid_area": null,
            "grid_auto_columns": null,
            "grid_auto_flow": null,
            "grid_auto_rows": null,
            "grid_column": null,
            "grid_gap": null,
            "grid_row": null,
            "grid_template_areas": null,
            "grid_template_columns": null,
            "grid_template_rows": null,
            "height": null,
            "justify_content": null,
            "justify_items": null,
            "left": null,
            "margin": null,
            "max_height": null,
            "max_width": null,
            "min_height": null,
            "min_width": null,
            "object_fit": null,
            "object_position": null,
            "order": null,
            "overflow": null,
            "overflow_x": null,
            "overflow_y": null,
            "padding": null,
            "right": null,
            "top": null,
            "visibility": null,
            "width": null
          }
        },
        "783b48ff649e41d789f7a9dc6af0d7f1": {
          "model_module": "@jupyter-widgets/base",
          "model_name": "LayoutModel",
          "model_module_version": "1.2.0",
          "state": {
            "_model_module": "@jupyter-widgets/base",
            "_model_module_version": "1.2.0",
            "_model_name": "LayoutModel",
            "_view_count": null,
            "_view_module": "@jupyter-widgets/base",
            "_view_module_version": "1.2.0",
            "_view_name": "LayoutView",
            "align_content": null,
            "align_items": null,
            "align_self": null,
            "border": null,
            "bottom": null,
            "display": null,
            "flex": null,
            "flex_flow": null,
            "grid_area": null,
            "grid_auto_columns": null,
            "grid_auto_flow": null,
            "grid_auto_rows": null,
            "grid_column": null,
            "grid_gap": null,
            "grid_row": null,
            "grid_template_areas": null,
            "grid_template_columns": null,
            "grid_template_rows": null,
            "height": null,
            "justify_content": null,
            "justify_items": null,
            "left": null,
            "margin": null,
            "max_height": null,
            "max_width": null,
            "min_height": null,
            "min_width": null,
            "object_fit": null,
            "object_position": null,
            "order": null,
            "overflow": null,
            "overflow_x": null,
            "overflow_y": null,
            "padding": null,
            "right": null,
            "top": null,
            "visibility": null,
            "width": null
          }
        },
        "08b238aba3a0474b9a0f3a9a4f1828b7": {
          "model_module": "@jupyter-widgets/controls",
          "model_name": "DescriptionStyleModel",
          "model_module_version": "1.5.0",
          "state": {
            "_model_module": "@jupyter-widgets/controls",
            "_model_module_version": "1.5.0",
            "_model_name": "DescriptionStyleModel",
            "_view_count": null,
            "_view_module": "@jupyter-widgets/base",
            "_view_module_version": "1.2.0",
            "_view_name": "StyleView",
            "description_width": ""
          }
        },
        "23d0d58a935c4eb5a27aee973b5c9bd5": {
          "model_module": "@jupyter-widgets/base",
          "model_name": "LayoutModel",
          "model_module_version": "1.2.0",
          "state": {
            "_model_module": "@jupyter-widgets/base",
            "_model_module_version": "1.2.0",
            "_model_name": "LayoutModel",
            "_view_count": null,
            "_view_module": "@jupyter-widgets/base",
            "_view_module_version": "1.2.0",
            "_view_name": "LayoutView",
            "align_content": null,
            "align_items": null,
            "align_self": null,
            "border": null,
            "bottom": null,
            "display": null,
            "flex": null,
            "flex_flow": null,
            "grid_area": null,
            "grid_auto_columns": null,
            "grid_auto_flow": null,
            "grid_auto_rows": null,
            "grid_column": null,
            "grid_gap": null,
            "grid_row": null,
            "grid_template_areas": null,
            "grid_template_columns": null,
            "grid_template_rows": null,
            "height": null,
            "justify_content": null,
            "justify_items": null,
            "left": null,
            "margin": null,
            "max_height": null,
            "max_width": null,
            "min_height": null,
            "min_width": null,
            "object_fit": null,
            "object_position": null,
            "order": null,
            "overflow": null,
            "overflow_x": null,
            "overflow_y": null,
            "padding": null,
            "right": null,
            "top": null,
            "visibility": null,
            "width": null
          }
        },
        "b79f1702145d45bfbd4161d1c20c13a6": {
          "model_module": "@jupyter-widgets/controls",
          "model_name": "ProgressStyleModel",
          "model_module_version": "1.5.0",
          "state": {
            "_model_module": "@jupyter-widgets/controls",
            "_model_module_version": "1.5.0",
            "_model_name": "ProgressStyleModel",
            "_view_count": null,
            "_view_module": "@jupyter-widgets/base",
            "_view_module_version": "1.2.0",
            "_view_name": "StyleView",
            "bar_color": null,
            "description_width": ""
          }
        }
      }
    }
  },
  "nbformat": 4,
  "nbformat_minor": 5
}