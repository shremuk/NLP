{
 "cells": [
  {
   "cell_type": "code",
   "execution_count": 1,
   "metadata": {
    "colab": {
     "base_uri": "https://localhost:8080/"
    },
    "execution": {
     "iopub.execute_input": "2023-08-23T00:26:48.606255Z",
     "iopub.status.busy": "2023-08-23T00:26:48.605951Z",
     "iopub.status.idle": "2023-08-23T00:26:49.073359Z",
     "shell.execute_reply": "2023-08-23T00:26:49.072413Z",
     "shell.execute_reply.started": "2023-08-23T00:26:48.606229Z"
    },
    "executionInfo": {
     "elapsed": 9,
     "status": "ok",
     "timestamp": 1693614974289,
     "user": {
      "displayName": "Anurag Gupta",
      "userId": "11665593466360904385"
     },
     "user_tz": 300
    },
    "id": "aPva0yVbvk0x",
    "outputId": "2e2e32e4-1310-4171-911a-a0db88b7c284"
   },
   "outputs": [
    {
     "name": "stdout",
     "output_type": "stream",
     "text": [
      "Sat Sep  2 00:36:14 2023       \n",
      "+-----------------------------------------------------------------------------+\n",
      "| NVIDIA-SMI 525.105.17   Driver Version: 525.105.17   CUDA Version: 12.0     |\n",
      "|-------------------------------+----------------------+----------------------+\n",
      "| GPU  Name        Persistence-M| Bus-Id        Disp.A | Volatile Uncorr. ECC |\n",
      "| Fan  Temp  Perf  Pwr:Usage/Cap|         Memory-Usage | GPU-Util  Compute M. |\n",
      "|                               |                      |               MIG M. |\n",
      "|===============================+======================+======================|\n",
      "|   0  Tesla T4            Off  | 00000000:00:04.0 Off |                    0 |\n",
      "| N/A   69C    P8    12W /  70W |      0MiB / 15360MiB |      0%      Default |\n",
      "|                               |                      |                  N/A |\n",
      "+-------------------------------+----------------------+----------------------+\n",
      "                                                                               \n",
      "+-----------------------------------------------------------------------------+\n",
      "| Processes:                                                                  |\n",
      "|  GPU   GI   CI        PID   Type   Process name                  GPU Memory |\n",
      "|        ID   ID                                                   Usage      |\n",
      "|=============================================================================|\n",
      "|  No running processes found                                                 |\n",
      "+-----------------------------------------------------------------------------+\n"
     ]
    }
   ],
   "source": [
    "!nvidia-smi"
   ]
  },
  {
   "cell_type": "markdown",
   "metadata": {
    "id": "3cfCXWzzuZKE"
   },
   "source": [
    "# <Font color = 'dodgerblue'>**ZeroShot Classification**"
   ]
  },
  {
   "cell_type": "markdown",
   "metadata": {
    "id": "b514c073-e3b2-46db-a198-ba1c5fa3d15f"
   },
   "source": [
    "# <Font color = 'dodgerblue'>**Zero Shot Classification - Brief Overview** </font>\n",
    "\n",
    "### Introduction to Natural Language Inference (NLI)\n",
    "\n",
    "Natural Language Inference (NLI) is a task in natural language processing where a model determines the relationship between two sentences, often referred to as the premise and the hypothesis. The relationship might be **entailment (the hypothesis follows from the premise)**, contradiction, or neutrality.\n",
    "\n",
    "### Zero-Shot Classification Using Hugging Face's Pipeline\n",
    "\n",
    "Building on NLI, Hugging Face's zero-shot classification leverages entailment (hypotheses follows from the premise) relationships to classify text into various categories.\n",
    "\n",
    "1. **Premise:** The input text, like a restaurant review.\n",
    "\n",
    "2. **Labels**:<br>\n",
    "Possible labels (categories) represent distinct classifications within a given problem. In the context of the review dataset that you will be working with, the possible labels correspond to specific aspects of a dining experience. The labels include: 'food,' referring to the quality and taste of the dishes; 'ambiance,' reflecting the overall atmosphere and decor of the restaurant; 'service,' pertaining to the staff's attentiveness and professionalism; and 'other,' a category that encompasses any additional comments or observations not covered by the aforementioned labels.\n",
    "\n",
    "3. **Hypothesis Template:**<br>\n",
    "A specially formatted string that transforms each label into an NLI-style hypothesis. An example of hypothesis template could be **\"This example is {}.\"**. The {} is a placeholder where the candidate label is inserted, allowing the model to consider each label as a potential classification.\n",
    "\n",
    "3. **Forming Hypotheses using template and labels:**<br>\n",
    "Based on the label examples and hypothesis template, the resulting hypotheses will be:\n",
    "   - \"This example is food.\"\n",
    "   - \"This example is ambiance.\"\n",
    "   - \"This example is service.\"\n",
    "   - \"This example is other.\"\n",
    "\n",
    "4. **Zero-Shot Classification Process:**\n",
    "   - **Step 1:** Combine premise and hypotheses.\n",
    "   - **Step 2:** Utilize a pre-trained NLI model to calculate entailment probabilities (probability that hypothesis follows from premise) for each hypothesis.\n",
    "   - **Step 3:** Return the probabilities for each label.\n",
    "\n",
    "### Example\n",
    "\n",
    "Given a review like \"The food was excellent,\" the model might return:\n",
    "   - food: 0.95\n",
    "   - ambiance: 0.05\n",
    "   - service: 0.02\n",
    "   - other: 0.023\n",
    "\n",
    "**The probability of 0.95 for the label \"food\" means that the model has a 95% confidence that the premise \"The food was excellent\" entails the hypothesis \"This example is food.\"**  The other probabilities represent the model's confidence for the remaining labels.\n",
    "\n",
    "### Conclusion\n",
    "\n",
    "Hugging Face's zero-shot classification pipeline calculates probabilities for multiple categories by leveraging NLI concepts. This approach offers flexibility in text analysis without the need for task-specific training, providing insights into the relevance of different labels to a given text.\n",
    "\n",
    "\n"
   ]
  },
  {
   "cell_type": "markdown",
   "metadata": {
    "id": "qYn8mf9mpl_G"
   },
   "source": [
    "# <Font color = 'dodgerblue'>**Data and Task Description**\n",
    "\n",
    "- For this Question, you are provided a csv file (review_sentences.csv) that has 584 sentences from restautant reviews from Yelp. You have to classify the sentences in to four labels: `[\"food,\" \"ambiance,\" \"service,\" and \"other.\"]`.\n",
    "- The csv file is availble in eLearning in 0_Data folder.\n",
    "- You will use a zero-shot-classification pipleine from huggingface to make predictions.\n",
    "- You are also provided the actual labels. You will use these labels to access the accuracy of the model."
   ]
  },
  {
   "cell_type": "markdown",
   "metadata": {
    "id": "12773301-f940-4545-ac8e-8545ed6c964b"
   },
   "source": [
    "# <font color = 'indian red'> **Install/Import Modules**"
   ]
  },
  {
   "cell_type": "code",
   "execution_count": 2,
   "metadata": {
    "colab": {
     "base_uri": "https://localhost:8080/"
    },
    "execution": {
     "iopub.execute_input": "2022-09-25T17:30:13.094523Z",
     "iopub.status.busy": "2022-09-25T17:30:13.094325Z",
     "iopub.status.idle": "2022-09-25T17:30:13.097566Z",
     "shell.execute_reply": "2022-09-25T17:30:13.096998Z",
     "shell.execute_reply.started": "2022-09-25T17:30:13.094509Z"
    },
    "executionInfo": {
     "elapsed": 19911,
     "status": "ok",
     "timestamp": 1693615004858,
     "user": {
      "displayName": "Anurag Gupta",
      "userId": "11665593466360904385"
     },
     "user_tz": 300
    },
    "id": "96a03b3c-53a5-4478-b864-e8a735f1f614",
    "outputId": "c49f5741-190f-4eff-928a-aeb85610da24",
    "tags": []
   },
   "outputs": [
    {
     "name": "stdout",
     "output_type": "stream",
     "text": [
      "\u001b[2K     \u001b[90m━━━━━━━━━━━━━━━━━━━━━━━━━━━━━━━━━━━━━━━━\u001b[0m \u001b[32m7.5/7.5 MB\u001b[0m \u001b[31m18.2 MB/s\u001b[0m eta \u001b[36m0:00:00\u001b[0m\n",
      "\u001b[2K     \u001b[90m━━━━━━━━━━━━━━━━━━━━━━━━━━━━━━━━━━━━━━\u001b[0m \u001b[32m268.8/268.8 kB\u001b[0m \u001b[31m28.2 MB/s\u001b[0m eta \u001b[36m0:00:00\u001b[0m\n",
      "\u001b[2K     \u001b[90m━━━━━━━━━━━━━━━━━━━━━━━━━━━━━━━━━━━━━━━━\u001b[0m \u001b[32m7.8/7.8 MB\u001b[0m \u001b[31m47.3 MB/s\u001b[0m eta \u001b[36m0:00:00\u001b[0m\n",
      "\u001b[2K     \u001b[90m━━━━━━━━━━━━━━━━━━━━━━━━━━━━━━━━━━━━━━━━\u001b[0m \u001b[32m1.3/1.3 MB\u001b[0m \u001b[31m48.7 MB/s\u001b[0m eta \u001b[36m0:00:00\u001b[0m\n",
      "\u001b[2K     \u001b[90m━━━━━━━━━━━━━━━━━━━━━━━━━━━━━━━━━━━━━━━━\u001b[0m \u001b[32m1.3/1.3 MB\u001b[0m \u001b[31m8.9 MB/s\u001b[0m eta \u001b[36m0:00:00\u001b[0m\n",
      "\u001b[?25h"
     ]
    }
   ],
   "source": [
    "if 'google.colab' in str(get_ipython()):\n",
    "    !pip install transformers -U -qq\n",
    "    !pip install sentencepiece -U -qq"
   ]
  },
  {
   "cell_type": "code",
   "execution_count": 3,
   "metadata": {
    "execution": {
     "iopub.execute_input": "2022-09-25T17:30:19.802075Z",
     "iopub.status.busy": "2022-09-25T17:30:19.801789Z",
     "iopub.status.idle": "2022-09-25T17:30:19.804799Z",
     "shell.execute_reply": "2022-09-25T17:30:19.804440Z",
     "shell.execute_reply.started": "2022-09-25T17:30:19.802059Z"
    },
    "executionInfo": {
     "elapsed": 15816,
     "status": "ok",
     "timestamp": 1693615020669,
     "user": {
      "displayName": "Anurag Gupta",
      "userId": "11665593466360904385"
     },
     "user_tz": 300
    },
    "id": "7a9a863b-d87c-4df6-bdf3-b30aa695f846",
    "tags": []
   },
   "outputs": [],
   "source": [
    "# Import the pandas library for data manipulation and analysis\n",
    "import pandas as pd\n",
    "\n",
    "# Import the numpy library for numerical computing\n",
    "import numpy as np\n",
    "\n",
    "# Import the Matplotlib library for creating visualizations such as plots, graphs, etc.\n",
    "import matplotlib.pyplot as plt\n",
    "\n",
    "# Import the pathlib library for working with file paths in a way that is cross-platform\n",
    "from pathlib import Path\n",
    "\n",
    "# Import functions for metrics computation like confusion matrix, and accuracy\n",
    "from sklearn.metrics import confusion_matrix, ConfusionMatrixDisplay, accuracy_score, classification_report\n",
    "\n",
    "# Import the transformers library for state-of-the-art Natural Language Processing (NLP) models like BERT, GPT, etc.\n",
    "from transformers import pipeline\n",
    "\n",
    "from itertools import islice"
   ]
  },
  {
   "cell_type": "code",
   "execution_count": 4,
   "metadata": {
    "colab": {
     "base_uri": "https://localhost:8080/"
    },
    "executionInfo": {
     "elapsed": 12947,
     "status": "ok",
     "timestamp": 1693615033611,
     "user": {
      "displayName": "Anurag Gupta",
      "userId": "11665593466360904385"
     },
     "user_tz": 300
    },
    "id": "hS8jehl6menq",
    "outputId": "97f267b4-77ba-4dbf-cd81-00948823c67c"
   },
   "outputs": [
    {
     "name": "stdout",
     "output_type": "stream",
     "text": [
      "Name: transformers\n",
      "Version: 4.32.1\n",
      "Summary: State-of-the-art Machine Learning for JAX, PyTorch and TensorFlow\n",
      "Home-page: https://github.com/huggingface/transformers\n",
      "Author: The Hugging Face team (past and future) with the help of all our contributors (https://github.com/huggingface/transformers/graphs/contributors)\n",
      "Author-email: transformers@huggingface.co\n",
      "License: Apache 2.0 License\n",
      "Location: /usr/local/lib/python3.10/dist-packages\n",
      "Requires: filelock, huggingface-hub, numpy, packaging, pyyaml, regex, requests, safetensors, tokenizers, tqdm\n",
      "Required-by: \n"
     ]
    }
   ],
   "source": [
    "!pip show transformers"
   ]
  },
  {
   "cell_type": "markdown",
   "metadata": {
    "id": "a43e7e8e-42fb-48bb-92ee-7664bba37482"
   },
   "source": [
    "# <font color = 'indian red'>**Specify Base folder for Project**"
   ]
  },
  {
   "cell_type": "code",
   "execution_count": 5,
   "metadata": {
    "colab": {
     "base_uri": "https://localhost:8080/"
    },
    "execution": {
     "iopub.execute_input": "2022-09-24T20:52:39.665944Z",
     "iopub.status.busy": "2022-09-24T20:52:39.665715Z",
     "iopub.status.idle": "2022-09-24T20:52:39.688510Z",
     "shell.execute_reply": "2022-09-24T20:52:39.687856Z",
     "shell.execute_reply.started": "2022-09-24T20:52:39.665930Z"
    },
    "executionInfo": {
     "elapsed": 16346,
     "status": "ok",
     "timestamp": 1693615049951,
     "user": {
      "displayName": "Anurag Gupta",
      "userId": "11665593466360904385"
     },
     "user_tz": 300
    },
    "id": "46473c1e-a70c-4f30-b0b4-baafcfc9dccf",
    "outputId": "25c21ad6-3d9b-4ce1-9d5a-75c22b72c1e6",
    "tags": []
   },
   "outputs": [
    {
     "name": "stdout",
     "output_type": "stream",
     "text": [
      "Mounted at /content/drive\n"
     ]
    }
   ],
   "source": [
    "if 'google.colab' in str(get_ipython()):\n",
    "  from google.colab import drive\n",
    "  drive.mount('/content/drive')\n",
    "  base_folder = Path('/content/drive/MyDrive') # MAKE SURE TO CHANGE THE PATH\n",
    "\n",
    "# (the else block is required only if you have local GPU machine, other wise you can ignore the else block)\n",
    "else:\n",
    "  base_folder = Path('/home/harpreet/Insync/google_drive_shaannoor/data') # MAKE SURE TO CHANGE THE PATH\n"
   ]
  },
  {
   "cell_type": "markdown",
   "metadata": {
    "id": "LEuZToXJvbp_"
   },
   "source": [
    "## <Font color = 'dodgerblue'>**Create DataFrame**"
   ]
  },
  {
   "cell_type": "code",
   "execution_count": 6,
   "metadata": {
    "executionInfo": {
     "elapsed": 7,
     "status": "ok",
     "timestamp": 1693615049951,
     "user": {
      "displayName": "Anurag Gupta",
      "userId": "11665593466360904385"
     },
     "user_tz": 300
    },
    "id": "pLouBkwinb9g"
   },
   "outputs": [],
   "source": [
    "data_folder = base_folder/'Colab_Notebooks'  # MAKE SURE TO CHANGE THE PATH"
   ]
  },
  {
   "cell_type": "code",
   "execution_count": 7,
   "metadata": {
    "executionInfo": {
     "elapsed": 5,
     "status": "ok",
     "timestamp": 1693615049951,
     "user": {
      "displayName": "Anurag Gupta",
      "userId": "11665593466360904385"
     },
     "user_tz": 300
    },
    "id": "OS0nt6thnccL"
   },
   "outputs": [],
   "source": [
    "# location of train and test files\n",
    "data_file = data_folder/'review_sentences.csv'"
   ]
  },
  {
   "cell_type": "code",
   "execution_count": 8,
   "metadata": {
    "execution": {
     "iopub.execute_input": "2022-11-27T12:00:46.966533Z",
     "iopub.status.busy": "2022-11-27T12:00:46.966294Z",
     "iopub.status.idle": "2022-11-27T12:00:47.330265Z",
     "shell.execute_reply": "2022-11-27T12:00:47.329743Z",
     "shell.execute_reply.started": "2022-11-27T12:00:46.966507Z"
    },
    "executionInfo": {
     "elapsed": 419,
     "status": "ok",
     "timestamp": 1693615050365,
     "user": {
      "displayName": "Anurag Gupta",
      "userId": "11665593466360904385"
     },
     "user_tz": 300
    },
    "id": "98f933d1-7cf1-49fc-b3e0-33d5e1810080",
    "tags": []
   },
   "outputs": [],
   "source": [
    "# creating Pandas Dataframe\n",
    "train_data = pd.read_csv(data_file, index_col=0, encoding='ISO-8859-1')"
   ]
  },
  {
   "cell_type": "code",
   "execution_count": 9,
   "metadata": {
    "colab": {
     "base_uri": "https://localhost:8080/"
    },
    "execution": {
     "iopub.execute_input": "2022-11-27T12:00:49.141600Z",
     "iopub.status.busy": "2022-11-27T12:00:49.141359Z",
     "iopub.status.idle": "2022-11-27T12:00:49.144979Z",
     "shell.execute_reply": "2022-11-27T12:00:49.144442Z",
     "shell.execute_reply.started": "2022-11-27T12:00:49.141574Z"
    },
    "executionInfo": {
     "elapsed": 137,
     "status": "ok",
     "timestamp": 1693615050497,
     "user": {
      "displayName": "Anurag Gupta",
      "userId": "11665593466360904385"
     },
     "user_tz": 300
    },
    "id": "e51abd57-98dc-42e8-8eb7-8ee7aa2c0826",
    "outputId": "2d33ad73-514f-4822-812a-58853c2791b7",
    "tags": []
   },
   "outputs": [
    {
     "name": "stdout",
     "output_type": "stream",
     "text": [
      "Shape of Training data set is : (584, 2)\n"
     ]
    }
   ],
   "source": [
    "# print shape of the datasets\n",
    "print(f'Shape of Training data set is : {train_data.shape}')"
   ]
  },
  {
   "cell_type": "code",
   "execution_count": 10,
   "metadata": {
    "colab": {
     "base_uri": "https://localhost:8080/"
    },
    "execution": {
     "iopub.execute_input": "2022-11-27T12:00:53.875850Z",
     "iopub.status.busy": "2022-11-27T12:00:53.875722Z",
     "iopub.status.idle": "2022-11-27T12:00:53.881530Z",
     "shell.execute_reply": "2022-11-27T12:00:53.880914Z",
     "shell.execute_reply.started": "2022-11-27T12:00:53.875838Z"
    },
    "executionInfo": {
     "elapsed": 10,
     "status": "ok",
     "timestamp": 1693615050498,
     "user": {
      "displayName": "Anurag Gupta",
      "userId": "11665593466360904385"
     },
     "user_tz": 300
    },
    "id": "8d3157a4-b99c-40b8-af7a-07f604a819a1",
    "outputId": "47ecbefb-6f08-487a-ec42-ec2fa6d1775e",
    "tags": []
   },
   "outputs": [
    {
     "name": "stdout",
     "output_type": "stream",
     "text": [
      "<class 'pandas.core.frame.DataFrame'>\n",
      "Int64Index: 584 entries, 0 to 599\n",
      "Data columns (total 2 columns):\n",
      " #   Column       Non-Null Count  Dtype \n",
      "---  ------       --------------  ----- \n",
      " 0   text         584 non-null    object\n",
      " 1   final_label  584 non-null    object\n",
      "dtypes: object(2)\n",
      "memory usage: 13.7+ KB\n"
     ]
    }
   ],
   "source": [
    "train_data.info()"
   ]
  },
  {
   "cell_type": "code",
   "execution_count": 11,
   "metadata": {
    "colab": {
     "base_uri": "https://localhost:8080/",
     "height": 238
    },
    "executionInfo": {
     "elapsed": 8,
     "status": "ok",
     "timestamp": 1693615050498,
     "user": {
      "displayName": "Anurag Gupta",
      "userId": "11665593466360904385"
     },
     "user_tz": 300
    },
    "id": "HfJq-sfztFWK",
    "outputId": "7287f0fe-46d5-4970-a4c5-f28f2b4d3df6"
   },
   "outputs": [
    {
     "data": {
      "text/html": [
       "\n",
       "  <div id=\"df-91213186-c297-4b72-9701-985185a88278\" class=\"colab-df-container\">\n",
       "    <div>\n",
       "<style scoped>\n",
       "    .dataframe tbody tr th:only-of-type {\n",
       "        vertical-align: middle;\n",
       "    }\n",
       "\n",
       "    .dataframe tbody tr th {\n",
       "        vertical-align: top;\n",
       "    }\n",
       "\n",
       "    .dataframe thead th {\n",
       "        text-align: right;\n",
       "    }\n",
       "</style>\n",
       "<table border=\"1\" class=\"dataframe\">\n",
       "  <thead>\n",
       "    <tr style=\"text-align: right;\">\n",
       "      <th></th>\n",
       "      <th>text</th>\n",
       "      <th>final_label</th>\n",
       "    </tr>\n",
       "    <tr>\n",
       "      <th>sentences</th>\n",
       "      <th></th>\n",
       "      <th></th>\n",
       "    </tr>\n",
       "  </thead>\n",
       "  <tbody>\n",
       "    <tr>\n",
       "      <th>0</th>\n",
       "      <td>If you love unagi (eel) on rice, you'll absolu...</td>\n",
       "      <td>food</td>\n",
       "    </tr>\n",
       "    <tr>\n",
       "      <th>1</th>\n",
       "      <td>But it is definitely worth the wait.</td>\n",
       "      <td>service</td>\n",
       "    </tr>\n",
       "    <tr>\n",
       "      <th>3</th>\n",
       "      <td>Sometimes get the Pho w/ rare beef which is de...</td>\n",
       "      <td>food</td>\n",
       "    </tr>\n",
       "    <tr>\n",
       "      <th>4</th>\n",
       "      <td>Other items on this menu was a crab soup, duck...</td>\n",
       "      <td>food</td>\n",
       "    </tr>\n",
       "    <tr>\n",
       "      <th>5</th>\n",
       "      <td>I visited the restaurant for lunch and arrived...</td>\n",
       "      <td>other</td>\n",
       "    </tr>\n",
       "  </tbody>\n",
       "</table>\n",
       "</div>\n",
       "    <div class=\"colab-df-buttons\">\n",
       "\n",
       "  <div class=\"colab-df-container\">\n",
       "    <button class=\"colab-df-convert\" onclick=\"convertToInteractive('df-91213186-c297-4b72-9701-985185a88278')\"\n",
       "            title=\"Convert this dataframe to an interactive table.\"\n",
       "            style=\"display:none;\">\n",
       "\n",
       "  <svg xmlns=\"http://www.w3.org/2000/svg\" height=\"24px\" viewBox=\"0 -960 960 960\">\n",
       "    <path d=\"M120-120v-720h720v720H120Zm60-500h600v-160H180v160Zm220 220h160v-160H400v160Zm0 220h160v-160H400v160ZM180-400h160v-160H180v160Zm440 0h160v-160H620v160ZM180-180h160v-160H180v160Zm440 0h160v-160H620v160Z\"/>\n",
       "  </svg>\n",
       "    </button>\n",
       "\n",
       "  <style>\n",
       "    .colab-df-container {\n",
       "      display:flex;\n",
       "      gap: 12px;\n",
       "    }\n",
       "\n",
       "    .colab-df-convert {\n",
       "      background-color: #E8F0FE;\n",
       "      border: none;\n",
       "      border-radius: 50%;\n",
       "      cursor: pointer;\n",
       "      display: none;\n",
       "      fill: #1967D2;\n",
       "      height: 32px;\n",
       "      padding: 0 0 0 0;\n",
       "      width: 32px;\n",
       "    }\n",
       "\n",
       "    .colab-df-convert:hover {\n",
       "      background-color: #E2EBFA;\n",
       "      box-shadow: 0px 1px 2px rgba(60, 64, 67, 0.3), 0px 1px 3px 1px rgba(60, 64, 67, 0.15);\n",
       "      fill: #174EA6;\n",
       "    }\n",
       "\n",
       "    .colab-df-buttons div {\n",
       "      margin-bottom: 4px;\n",
       "    }\n",
       "\n",
       "    [theme=dark] .colab-df-convert {\n",
       "      background-color: #3B4455;\n",
       "      fill: #D2E3FC;\n",
       "    }\n",
       "\n",
       "    [theme=dark] .colab-df-convert:hover {\n",
       "      background-color: #434B5C;\n",
       "      box-shadow: 0px 1px 3px 1px rgba(0, 0, 0, 0.15);\n",
       "      filter: drop-shadow(0px 1px 2px rgba(0, 0, 0, 0.3));\n",
       "      fill: #FFFFFF;\n",
       "    }\n",
       "  </style>\n",
       "\n",
       "    <script>\n",
       "      const buttonEl =\n",
       "        document.querySelector('#df-91213186-c297-4b72-9701-985185a88278 button.colab-df-convert');\n",
       "      buttonEl.style.display =\n",
       "        google.colab.kernel.accessAllowed ? 'block' : 'none';\n",
       "\n",
       "      async function convertToInteractive(key) {\n",
       "        const element = document.querySelector('#df-91213186-c297-4b72-9701-985185a88278');\n",
       "        const dataTable =\n",
       "          await google.colab.kernel.invokeFunction('convertToInteractive',\n",
       "                                                    [key], {});\n",
       "        if (!dataTable) return;\n",
       "\n",
       "        const docLinkHtml = 'Like what you see? Visit the ' +\n",
       "          '<a target=\"_blank\" href=https://colab.research.google.com/notebooks/data_table.ipynb>data table notebook</a>'\n",
       "          + ' to learn more about interactive tables.';\n",
       "        element.innerHTML = '';\n",
       "        dataTable['output_type'] = 'display_data';\n",
       "        await google.colab.output.renderOutput(dataTable, element);\n",
       "        const docLink = document.createElement('div');\n",
       "        docLink.innerHTML = docLinkHtml;\n",
       "        element.appendChild(docLink);\n",
       "      }\n",
       "    </script>\n",
       "  </div>\n",
       "\n",
       "\n",
       "<div id=\"df-bbe3b127-aa91-435c-a3c1-a7b45cfb471a\">\n",
       "  <button class=\"colab-df-quickchart\" onclick=\"quickchart('df-bbe3b127-aa91-435c-a3c1-a7b45cfb471a')\"\n",
       "            title=\"Suggest charts.\"\n",
       "            style=\"display:none;\">\n",
       "\n",
       "<svg xmlns=\"http://www.w3.org/2000/svg\" height=\"24px\"viewBox=\"0 0 24 24\"\n",
       "     width=\"24px\">\n",
       "    <g>\n",
       "        <path d=\"M19 3H5c-1.1 0-2 .9-2 2v14c0 1.1.9 2 2 2h14c1.1 0 2-.9 2-2V5c0-1.1-.9-2-2-2zM9 17H7v-7h2v7zm4 0h-2V7h2v10zm4 0h-2v-4h2v4z\"/>\n",
       "    </g>\n",
       "</svg>\n",
       "  </button>\n",
       "\n",
       "<style>\n",
       "  .colab-df-quickchart {\n",
       "      --bg-color: #E8F0FE;\n",
       "      --fill-color: #1967D2;\n",
       "      --hover-bg-color: #E2EBFA;\n",
       "      --hover-fill-color: #174EA6;\n",
       "      --disabled-fill-color: #AAA;\n",
       "      --disabled-bg-color: #DDD;\n",
       "  }\n",
       "\n",
       "  [theme=dark] .colab-df-quickchart {\n",
       "      --bg-color: #3B4455;\n",
       "      --fill-color: #D2E3FC;\n",
       "      --hover-bg-color: #434B5C;\n",
       "      --hover-fill-color: #FFFFFF;\n",
       "      --disabled-bg-color: #3B4455;\n",
       "      --disabled-fill-color: #666;\n",
       "  }\n",
       "\n",
       "  .colab-df-quickchart {\n",
       "    background-color: var(--bg-color);\n",
       "    border: none;\n",
       "    border-radius: 50%;\n",
       "    cursor: pointer;\n",
       "    display: none;\n",
       "    fill: var(--fill-color);\n",
       "    height: 32px;\n",
       "    padding: 0;\n",
       "    width: 32px;\n",
       "  }\n",
       "\n",
       "  .colab-df-quickchart:hover {\n",
       "    background-color: var(--hover-bg-color);\n",
       "    box-shadow: 0 1px 2px rgba(60, 64, 67, 0.3), 0 1px 3px 1px rgba(60, 64, 67, 0.15);\n",
       "    fill: var(--button-hover-fill-color);\n",
       "  }\n",
       "\n",
       "  .colab-df-quickchart-complete:disabled,\n",
       "  .colab-df-quickchart-complete:disabled:hover {\n",
       "    background-color: var(--disabled-bg-color);\n",
       "    fill: var(--disabled-fill-color);\n",
       "    box-shadow: none;\n",
       "  }\n",
       "\n",
       "  .colab-df-spinner {\n",
       "    border: 2px solid var(--fill-color);\n",
       "    border-color: transparent;\n",
       "    border-bottom-color: var(--fill-color);\n",
       "    animation:\n",
       "      spin 1s steps(1) infinite;\n",
       "  }\n",
       "\n",
       "  @keyframes spin {\n",
       "    0% {\n",
       "      border-color: transparent;\n",
       "      border-bottom-color: var(--fill-color);\n",
       "      border-left-color: var(--fill-color);\n",
       "    }\n",
       "    20% {\n",
       "      border-color: transparent;\n",
       "      border-left-color: var(--fill-color);\n",
       "      border-top-color: var(--fill-color);\n",
       "    }\n",
       "    30% {\n",
       "      border-color: transparent;\n",
       "      border-left-color: var(--fill-color);\n",
       "      border-top-color: var(--fill-color);\n",
       "      border-right-color: var(--fill-color);\n",
       "    }\n",
       "    40% {\n",
       "      border-color: transparent;\n",
       "      border-right-color: var(--fill-color);\n",
       "      border-top-color: var(--fill-color);\n",
       "    }\n",
       "    60% {\n",
       "      border-color: transparent;\n",
       "      border-right-color: var(--fill-color);\n",
       "    }\n",
       "    80% {\n",
       "      border-color: transparent;\n",
       "      border-right-color: var(--fill-color);\n",
       "      border-bottom-color: var(--fill-color);\n",
       "    }\n",
       "    90% {\n",
       "      border-color: transparent;\n",
       "      border-bottom-color: var(--fill-color);\n",
       "    }\n",
       "  }\n",
       "</style>\n",
       "\n",
       "  <script>\n",
       "    async function quickchart(key) {\n",
       "      const quickchartButtonEl =\n",
       "        document.querySelector('#' + key + ' button');\n",
       "      quickchartButtonEl.disabled = true;  // To prevent multiple clicks.\n",
       "      quickchartButtonEl.classList.add('colab-df-spinner');\n",
       "      try {\n",
       "        const charts = await google.colab.kernel.invokeFunction(\n",
       "            'suggestCharts', [key], {});\n",
       "      } catch (error) {\n",
       "        console.error('Error during call to suggestCharts:', error);\n",
       "      }\n",
       "      quickchartButtonEl.classList.remove('colab-df-spinner');\n",
       "      quickchartButtonEl.classList.add('colab-df-quickchart-complete');\n",
       "    }\n",
       "    (() => {\n",
       "      let quickchartButtonEl =\n",
       "        document.querySelector('#df-bbe3b127-aa91-435c-a3c1-a7b45cfb471a button');\n",
       "      quickchartButtonEl.style.display =\n",
       "        google.colab.kernel.accessAllowed ? 'block' : 'none';\n",
       "    })();\n",
       "  </script>\n",
       "</div>\n",
       "    </div>\n",
       "  </div>\n"
      ],
      "text/plain": [
       "                                                        text final_label\n",
       "sentences                                                               \n",
       "0          If you love unagi (eel) on rice, you'll absolu...        food\n",
       "1                       But it is definitely worth the wait.     service\n",
       "3          Sometimes get the Pho w/ rare beef which is de...        food\n",
       "4          Other items on this menu was a crab soup, duck...        food\n",
       "5          I visited the restaurant for lunch and arrived...       other"
      ]
     },
     "execution_count": 11,
     "metadata": {},
     "output_type": "execute_result"
    }
   ],
   "source": [
    "# check first five examples\n",
    "train_data.head()"
   ]
  },
  {
   "cell_type": "code",
   "execution_count": 12,
   "metadata": {
    "colab": {
     "base_uri": "https://localhost:8080/"
    },
    "executionInfo": {
     "elapsed": 7,
     "status": "ok",
     "timestamp": 1693615050498,
     "user": {
      "displayName": "Anurag Gupta",
      "userId": "11665593466360904385"
     },
     "user_tz": 300
    },
    "id": "MYLzdiWRZ2Hl",
    "outputId": "2e378043-fe86-4155-f89b-0e86fed0d2c8"
   },
   "outputs": [
    {
     "data": {
      "text/plain": [
       "food        279\n",
       "other       139\n",
       "service     120\n",
       "ambiance     46\n",
       "Name: final_label, dtype: int64"
      ]
     },
     "execution_count": 12,
     "metadata": {},
     "output_type": "execute_result"
    }
   ],
   "source": [
    "# check distribution of labels\n",
    "train_data['final_label'].value_counts()"
   ]
  },
  {
   "cell_type": "markdown",
   "metadata": {
    "id": "_4fujYvhv1Rt"
   },
   "source": [
    "## <Font color = 'dodgerblue'>**Load Pipeline**"
   ]
  },
  {
   "cell_type": "code",
   "execution_count": 13,
   "metadata": {
    "colab": {
     "base_uri": "https://localhost:8080/",
     "height": 245,
     "referenced_widgets": [
      "423c303a873f4468a83ceb912f19c8d7",
      "4c02ac2eeff44f77b3efe61a680f642f",
      "f430ae02c2a84b8786899ea055000726",
      "6a20dbabc7784757b185244382a5c4b6",
      "a990adb0f78c47d4867d9e12ce821fc5",
      "0a8f2fa7bb75428f8d8806c858698c5b",
      "b8245465b9ca42eabfd8fbe0658028b9",
      "53a90f6262ec49baad167fd182146a30",
      "5946d83aff634abaa6e2726257f57c2f",
      "b231e9635c364607b14ca8f821d674b8",
      "b8c0345e0dae44b9acbcbb08cb9264b1",
      "28c2dbb204734382b11f61024bc09548",
      "4379db85441241e2a50288e6d20c06ca",
      "d30322f31b744f07b897786454758708",
      "af6ab40e93ad4bea8841c0c425468566",
      "26a9677c39a640158c2d1e8e71365619",
      "d8ac9f235fe3409b8735faeeea7c4334",
      "68aa4d9a08634d079fc1bbac3f4a0e69",
      "4eee4db7ce4847cb831faa2a90cc0fb3",
      "e73dc0a5ef684f5aa3d336e8a16e1eb1",
      "f692699a12784566b77117c81013ff3b",
      "bd17421036b24f3a97d873125d10c3ee",
      "d26c3aa64ff84ed892d774c6763a2706",
      "21de8272d2e240dd84b27e3b15133e06",
      "44687f61217b4194826f642a032dff2f",
      "c00dac928ab74d7095075e08b6ffd081",
      "ae7bdd181684450987c07362d8498990",
      "f0eb845e827b4b75984122d8cc9a34a3",
      "3b02a99797b0440ea6cdde17dadb517d",
      "5497226b40af4a4bab461e4ea5adc834",
      "0db83dd55cd140889251d02692ddc422",
      "ccb06b2840834967ab83846574f1b2ef",
      "96499dcd5c404951a1b4317d1dee4a2f",
      "22e86965adba4c169694c5fb2821b228",
      "f00cfc76210749efa9d440f65297e5fa",
      "2c5e46018d564b2d93931d6362a9deaa",
      "90721331783e4ba7b176c75d25d4bd13",
      "f2150d0a454849b985038718ca5894be",
      "74c7a793937346859b6074200f406471",
      "3de2702f6fb3400b9ca72ac33283cc2a",
      "891f212d0eb840fa8b840cd0570bf4cc",
      "531a88e156234dd4adb019fcd0bf1168",
      "4016d16ff49047d4bb8fa9efd35855f6",
      "ae03f569b77b42bc9ec40ea183d8ca48",
      "8709e7084c0049c8bd9d2d4090208fee",
      "f8d695ca4ddf42eb889df34aef4e808a",
      "d9156bc20dd548f7bc674ed5b7d6d28f",
      "00a1a30dc5f9451d81e4b7c56848de1c",
      "46fa49caf68044859ca651b1936913c9",
      "78a92134aaca4bd0a754ae5ee6dc3bdc",
      "795a3a319f464618ae1038e97d439b49",
      "cfa3f90877334725b894230f02532f73",
      "de755344d1734d1b9ec8788e0ce83030",
      "fae0470916d847f3a4ce0b12ed389de8",
      "4e3857eb8b7849479046ccfa55ef1f48",
      "23271c763d9743d7970255c63f8d372a",
      "7f5dce4587444c0b92e9c08444ac7421",
      "ccf15d372d734223943077ff729dcaa8",
      "6febe810ae714121a624a9b049d2e926",
      "fccd1208f8334fffa3f2c244beb97679",
      "c7bbfe68e3b7473997b7656b3ffb909f",
      "5d99ea9fd73a4df98ebc2443dfec1f2b",
      "f0e10b5c0d2d413abfbaf13dbcc87645",
      "fbbb425b7da74773a955945f6cf8c692",
      "7a812cf5ad01486f818fe8d8c74e2dd5",
      "32bfdce6bb5e4ea3a52188892940d59e"
     ]
    },
    "execution": {
     "iopub.execute_input": "2022-11-27T12:01:44.481793Z",
     "iopub.status.busy": "2022-11-27T12:01:44.481554Z",
     "iopub.status.idle": "2022-11-27T12:01:44.486406Z",
     "shell.execute_reply": "2022-11-27T12:01:44.485776Z",
     "shell.execute_reply.started": "2022-11-27T12:01:44.481768Z"
    },
    "executionInfo": {
     "elapsed": 31025,
     "status": "ok",
     "timestamp": 1693615081518,
     "user": {
      "displayName": "Anurag Gupta",
      "userId": "11665593466360904385"
     },
     "user_tz": 300
    },
    "id": "cbd916e4-6587-46c8-93c4-f2f00edf7748",
    "outputId": "4fee3c8d-8b57-4c0a-82f9-e3fcb6b00e8b",
    "tags": []
   },
   "outputs": [
    {
     "name": "stderr",
     "output_type": "stream",
     "text": [
      "No model was supplied, defaulted to facebook/bart-large-mnli and revision c626438 (https://huggingface.co/facebook/bart-large-mnli).\n",
      "Using a pipeline without specifying a model name and revision in production is not recommended.\n"
     ]
    },
    {
     "data": {
      "application/vnd.jupyter.widget-view+json": {
       "model_id": "423c303a873f4468a83ceb912f19c8d7",
       "version_major": 2,
       "version_minor": 0
      },
      "text/plain": [
       "Downloading (…)lve/main/config.json:   0%|          | 0.00/1.15k [00:00<?, ?B/s]"
      ]
     },
     "metadata": {},
     "output_type": "display_data"
    },
    {
     "data": {
      "application/vnd.jupyter.widget-view+json": {
       "model_id": "28c2dbb204734382b11f61024bc09548",
       "version_major": 2,
       "version_minor": 0
      },
      "text/plain": [
       "Downloading model.safetensors:   0%|          | 0.00/1.63G [00:00<?, ?B/s]"
      ]
     },
     "metadata": {},
     "output_type": "display_data"
    },
    {
     "data": {
      "application/vnd.jupyter.widget-view+json": {
       "model_id": "d26c3aa64ff84ed892d774c6763a2706",
       "version_major": 2,
       "version_minor": 0
      },
      "text/plain": [
       "Downloading (…)okenizer_config.json:   0%|          | 0.00/26.0 [00:00<?, ?B/s]"
      ]
     },
     "metadata": {},
     "output_type": "display_data"
    },
    {
     "data": {
      "application/vnd.jupyter.widget-view+json": {
       "model_id": "22e86965adba4c169694c5fb2821b228",
       "version_major": 2,
       "version_minor": 0
      },
      "text/plain": [
       "Downloading (…)olve/main/vocab.json:   0%|          | 0.00/899k [00:00<?, ?B/s]"
      ]
     },
     "metadata": {},
     "output_type": "display_data"
    },
    {
     "data": {
      "application/vnd.jupyter.widget-view+json": {
       "model_id": "8709e7084c0049c8bd9d2d4090208fee",
       "version_major": 2,
       "version_minor": 0
      },
      "text/plain": [
       "Downloading (…)olve/main/merges.txt:   0%|          | 0.00/456k [00:00<?, ?B/s]"
      ]
     },
     "metadata": {},
     "output_type": "display_data"
    },
    {
     "data": {
      "application/vnd.jupyter.widget-view+json": {
       "model_id": "23271c763d9743d7970255c63f8d372a",
       "version_major": 2,
       "version_minor": 0
      },
      "text/plain": [
       "Downloading (…)/main/tokenizer.json:   0%|          | 0.00/1.36M [00:00<?, ?B/s]"
      ]
     },
     "metadata": {},
     "output_type": "display_data"
    }
   ],
   "source": [
    "# Load zero shot classification pipleine - do not pass any model. We will use the default model\n",
    "# use pytorch as framework and move the pipleine to GPU\n",
    "# syntax : zero_shot_classifier = pipeline(name-of-pipeline, framework=, device =)\n",
    "\n",
    "zero_shot_classifier = pipeline(\"zero-shot-classification\", framework='pt', device = 0)"
   ]
  },
  {
   "cell_type": "markdown",
   "metadata": {
    "id": "xuHnPBf8pSjA"
   },
   "source": [
    "## <Font color = 'dodgerblue'>**Base experiment**.\n",
    "\n",
    "- **In this Task you will pass all the four labels to the classifier.**"
   ]
  },
  {
   "cell_type": "markdown",
   "metadata": {
    "id": "wCZK8GT_wHwa"
   },
   "source": [
    "### <Font color = 'dodgerblue'>**Create a list of reviews**"
   ]
  },
  {
   "cell_type": "code",
   "execution_count": 14,
   "metadata": {
    "colab": {
     "base_uri": "https://localhost:8080/"
    },
    "executionInfo": {
     "elapsed": 89,
     "status": "ok",
     "timestamp": 1693615086768,
     "user": {
      "displayName": "Anurag Gupta",
      "userId": "11665593466360904385"
     },
     "user_tz": 300
    },
    "id": "i-ZhfJiDBPuV",
    "outputId": "a7232b49-53e0-4cf9-9575-d31e9e73767b"
   },
   "outputs": [
    {
     "data": {
      "text/plain": [
       "sentences\n",
       "0      If you love unagi (eel) on rice, you'll absolu...\n",
       "1                   But it is definitely worth the wait.\n",
       "3      Sometimes get the Pho w/ rare beef which is de...\n",
       "4      Other items on this menu was a crab soup, duck...\n",
       "5      I visited the restaurant for lunch and arrived...\n",
       "                             ...                        \n",
       "595    The staff is amazingly friendly, upon placing ...\n",
       "596    Said hold on, went to the back and brought out...\n",
       "597            Then the pizza came out, wow it was huge!\n",
       "598                                Crispy and wonderful.\n",
       "599    Stopped here with my wife due to the 18 pizza ...\n",
       "Name: text, Length: 584, dtype: object"
      ]
     },
     "execution_count": 14,
     "metadata": {},
     "output_type": "execute_result"
    }
   ],
   "source": [
    "train_data.text"
   ]
  },
  {
   "cell_type": "code",
   "execution_count": 15,
   "metadata": {
    "executionInfo": {
     "elapsed": 91,
     "status": "ok",
     "timestamp": 1693615087656,
     "user": {
      "displayName": "Anurag Gupta",
      "userId": "11665593466360904385"
     },
     "user_tz": 300
    },
    "id": "3_BlvcFmvzA4"
   },
   "outputs": [],
   "source": [
    "# create a list of reviews (hint use column.tolist() to convert numpy array series to python list)\n",
    "texts_train =  train_data.text.to_list()\n",
    "\n",
    "# list of labels\n",
    "candidate_labels = [\"food\", \"ambiance\", \"service\", \"other\"]"
   ]
  },
  {
   "cell_type": "code",
   "execution_count": 16,
   "metadata": {
    "executionInfo": {
     "elapsed": 91,
     "status": "ok",
     "timestamp": 1693615088638,
     "user": {
      "displayName": "Anurag Gupta",
      "userId": "11665593466360904385"
     },
     "user_tz": 300
    },
    "id": "sJKKVI5iBr9z"
   },
   "outputs": [],
   "source": [
    "#texts_train"
   ]
  },
  {
   "cell_type": "markdown",
   "metadata": {
    "id": "HfoUsKpPwTtb"
   },
   "source": [
    "### <Font color = 'dodgerblue'>**Get Probabilities**\n",
    "\n",
    "Pass the list of text and labels you created in the previous step to the classifier to get predictions.\n",
    "\n",
    "The syntax is : **```probs = zero_shot_classifier(sequences= , candidate_labels =  )```**"
   ]
  },
  {
   "cell_type": "code",
   "execution_count": 17,
   "metadata": {
    "execution": {
     "iopub.execute_input": "2022-11-27T12:01:45.594721Z",
     "iopub.status.busy": "2022-11-27T12:01:45.594481Z",
     "iopub.status.idle": "2022-11-27T12:01:50.801737Z",
     "shell.execute_reply": "2022-11-27T12:01:50.801068Z",
     "shell.execute_reply.started": "2022-11-27T12:01:45.594695Z"
    },
    "executionInfo": {
     "elapsed": 82085,
     "status": "ok",
     "timestamp": 1693615176462,
     "user": {
      "displayName": "Anurag Gupta",
      "userId": "11665593466360904385"
     },
     "user_tz": 300
    },
    "id": "95e85b0a-81ac-4b04-af9f-11ee9cfe9cf1",
    "tags": []
   },
   "outputs": [],
   "source": [
    "probs = zero_shot_classifier(sequences = texts_train, candidate_labels = candidate_labels)"
   ]
  },
  {
   "cell_type": "code",
   "execution_count": 18,
   "metadata": {
    "colab": {
     "base_uri": "https://localhost:8080/"
    },
    "executionInfo": {
     "elapsed": 7,
     "status": "ok",
     "timestamp": 1693615176462,
     "user": {
      "displayName": "Anurag Gupta",
      "userId": "11665593466360904385"
     },
     "user_tz": 300
    },
    "id": "kbiET8QIHprI",
    "outputId": "07158d45-7f0f-41e6-8c3d-458ffbe04a37"
   },
   "outputs": [
    {
     "data": {
      "text/plain": [
       "[{'sequence': \"If you love unagi (eel) on rice, you'll absolutely enjoy their version.\",\n",
       "  'labels': ['food', 'ambiance', 'service', 'other'],\n",
       "  'scores': [0.9423722624778748,\n",
       "   0.023495187982916832,\n",
       "   0.021316785365343094,\n",
       "   0.012815762311220169]},\n",
       " {'sequence': 'But it is definitely worth the wait.',\n",
       "  'labels': ['other', 'service', 'ambiance', 'food'],\n",
       "  'scores': [0.4905829429626465,\n",
       "   0.2534791827201843,\n",
       "   0.20231030881404877,\n",
       "   0.05362754687666893]},\n",
       " {'sequence': 'Sometimes get the Pho w/ rare beef which is decent.',\n",
       "  'labels': ['food', 'other', 'service', 'ambiance'],\n",
       "  'scores': [0.7790170311927795,\n",
       "   0.10868176817893982,\n",
       "   0.08358323574066162,\n",
       "   0.02871803753077984]}]"
      ]
     },
     "execution_count": 18,
     "metadata": {},
     "output_type": "execute_result"
    }
   ],
   "source": [
    "probs[0:3]"
   ]
  },
  {
   "cell_type": "code",
   "execution_count": null,
   "metadata": {
    "id": "gFA_I0CgDpQ0"
   },
   "outputs": [],
   "source": [
    "# final_labels = [review['labels'][np.argmax(review['scores'])] for review in probs]\n",
    "\n",
    "# # Getting the final labels\n",
    "# print(final_labels)"
   ]
  },
  {
   "cell_type": "markdown",
   "metadata": {
    "id": "dPph80xNupUO"
   },
   "source": [
    "### <Font color = 'dodgerblue'>**Get Predictions**\n",
    "- The output from the classifier will give you the probbaility for each label\n",
    "- The label with the highest probbaility should be your prediction\n",
    "- You might need to use more than one line of the code to complete this step"
   ]
  },
  {
   "cell_type": "code",
   "execution_count": 19,
   "metadata": {
    "executionInfo": {
     "elapsed": 6,
     "status": "ok",
     "timestamp": 1693615176463,
     "user": {
      "displayName": "Anurag Gupta",
      "userId": "11665593466360904385"
     },
     "user_tz": 300
    },
    "id": "MHKrANtowpQ9"
   },
   "outputs": [],
   "source": [
    "predictions = [review['labels'][np.argmax(review['scores'])] for review in probs]"
   ]
  },
  {
   "cell_type": "code",
   "execution_count": 20,
   "metadata": {
    "colab": {
     "base_uri": "https://localhost:8080/"
    },
    "executionInfo": {
     "elapsed": 6,
     "status": "ok",
     "timestamp": 1693615176463,
     "user": {
      "displayName": "Anurag Gupta",
      "userId": "11665593466360904385"
     },
     "user_tz": 300
    },
    "id": "MZfPYzoKHf7U",
    "outputId": "acdfb492-dceb-4bc3-ca33-34f54cff9a9d"
   },
   "outputs": [
    {
     "data": {
      "text/plain": [
       "['food', 'other', 'food', 'food', 'food']"
      ]
     },
     "execution_count": 20,
     "metadata": {},
     "output_type": "execute_result"
    }
   ],
   "source": [
    "# get first five preeictions\n",
    "predictions[0:5]"
   ]
  },
  {
   "cell_type": "markdown",
   "metadata": {
    "id": "We6JZ9fXuXUz"
   },
   "source": [
    "### <Font color = 'dodgerblue'>**Accuracy**\n",
    "- You might need to use more than one line of the code to complete this step\n",
    "- Now you have the actual Label and predicted Label for each sentence.\n",
    "- Calculate the overall acacuracy (Hint : you can use accuracy_score form from sklearn - `from sklearn.metrics import accuracy_score`\n"
   ]
  },
  {
   "cell_type": "code",
   "execution_count": 21,
   "metadata": {
    "colab": {
     "base_uri": "https://localhost:8080/"
    },
    "executionInfo": {
     "elapsed": 83,
     "status": "ok",
     "timestamp": 1693615194030,
     "user": {
      "displayName": "Anurag Gupta",
      "userId": "11665593466360904385"
     },
     "user_tz": 300
    },
    "id": "dy9P6LSvSJbj",
    "outputId": "dac1d2ab-884c-489d-8b06-bcc6a42c3db0"
   },
   "outputs": [
    {
     "data": {
      "text/plain": [
       "66.6095890410959"
      ]
     },
     "execution_count": 21,
     "metadata": {},
     "output_type": "execute_result"
    }
   ],
   "source": [
    "accuracy = (accuracy_score(train_data.final_label.to_list(), predictions) * 100)\n",
    "accuracy"
   ]
  },
  {
   "cell_type": "markdown",
   "metadata": {
    "id": "QYaQqsw8v8ln"
   },
   "source": [
    "### <Font color = 'dodgerblue'>**Classification Report**\n",
    "- Print the classification report\n",
    "- HINT- `from sklearn.metrics import classification_report`"
   ]
  },
  {
   "cell_type": "code",
   "execution_count": 23,
   "metadata": {
    "colab": {
     "base_uri": "https://localhost:8080/"
    },
    "executionInfo": {
     "elapsed": 87,
     "status": "ok",
     "timestamp": 1693615198827,
     "user": {
      "displayName": "Anurag Gupta",
      "userId": "11665593466360904385"
     },
     "user_tz": 300
    },
    "id": "Q7MFdMnBxLFM",
    "outputId": "c887b6da-cc69-420a-bfe3-54d8a6e85f7e"
   },
   "outputs": [
    {
     "name": "stdout",
     "output_type": "stream",
     "text": [
      "              precision    recall  f1-score   support\n",
      "\n",
      "    ambiance       0.39      0.33      0.36        46\n",
      "        food       0.76      0.84      0.80       279\n",
      "       other       0.52      0.54      0.53       139\n",
      "     service       0.69      0.54      0.61       120\n",
      "\n",
      "    accuracy                           0.67       584\n",
      "   macro avg       0.59      0.56      0.57       584\n",
      "weighted avg       0.66      0.67      0.66       584\n",
      "\n"
     ]
    }
   ],
   "source": [
    "# print classification report\n",
    "class_report =  classification_report(train_data.final_label.to_list(), predictions)\n",
    "print(class_report)"
   ]
  },
  {
   "cell_type": "markdown",
   "metadata": {
    "id": "z7mkN2E1RgY8"
   },
   "source": [
    "### <Font color = 'dodgerblue'>**Conclusion from the classification report** </font>\n",
    "\n",
    "Although the recall score of food = 0.84 but for the rest it's almost 0.5 or less. The accuracy score is 66% which doesn't make this a viable model to use.\n",
    "\n"
   ]
  },
  {
   "cell_type": "markdown",
   "metadata": {
    "id": "vv9btE81O6an"
   },
   "source": [
    "### <Font color = 'dodgerblue'>**Confusion Matrix**\n",
    "- You might need to use more than one line of the code to complete this step\n",
    "- Print confusionm matrix\n",
    "- Hint:use ConfusionMatrixDisplay.from_predictions from sklearn"
   ]
  },
  {
   "cell_type": "code",
   "execution_count": 24,
   "metadata": {
    "colab": {
     "base_uri": "https://localhost:8080/"
    },
    "executionInfo": {
     "elapsed": 77,
     "status": "ok",
     "timestamp": 1693615203401,
     "user": {
      "displayName": "Anurag Gupta",
      "userId": "11665593466360904385"
     },
     "user_tz": 300
    },
    "id": "zsU4JUtdKBdp",
    "outputId": "65ba85ef-9e5b-4b0b-a5c8-a0d101f7c26d"
   },
   "outputs": [
    {
     "data": {
      "text/plain": [
       "['food', 'ambiance', 'service', 'other']"
      ]
     },
     "execution_count": 24,
     "metadata": {},
     "output_type": "execute_result"
    }
   ],
   "source": [
    "probs[0].keys()\n",
    "fi, sec = islice(probs[0].values(), 2)\n",
    "sec"
   ]
  },
  {
   "cell_type": "code",
   "execution_count": null,
   "metadata": {
    "id": "bw9M-jHlToSN"
   },
   "outputs": [],
   "source": [
    "# con_mat = confusion_matrix(train_data.final_label.to_list(), predictions, normalize = 'true')\n",
    "# con_diag = ConfusionMatrixDisplay(con_mat, display_labels = sec)\n",
    "# con_diag.plot()"
   ]
  },
  {
   "cell_type": "code",
   "execution_count": 25,
   "metadata": {
    "colab": {
     "base_uri": "https://localhost:8080/",
     "height": 467
    },
    "executionInfo": {
     "elapsed": 619,
     "status": "ok",
     "timestamp": 1693615209483,
     "user": {
      "displayName": "Anurag Gupta",
      "userId": "11665593466360904385"
     },
     "user_tz": 300
    },
    "id": "HfFunOX-MO0O",
    "outputId": "1fe7ec98-b6b0-4d22-d729-039bd61dc399"
   },
   "outputs": [
    {
     "data": {
      "text/plain": [
       "<sklearn.metrics._plot.confusion_matrix.ConfusionMatrixDisplay at 0x7912c78e3340>"
      ]
     },
     "execution_count": 25,
     "metadata": {},
     "output_type": "execute_result"
    },
    {
     "data": {
      "image/png": "[encoded data removed]",
      "text/plain": [
       "<Figure size 640x480 with 2 Axes>"
      ]
     },
     "metadata": {},
     "output_type": "display_data"
    }
   ],
   "source": [
    "ConfusionMatrixDisplay.from_predictions(train_data.final_label.to_list(), predictions, normalize = 'true', labels = sec)"
   ]
  },
  {
   "cell_type": "markdown",
   "metadata": {
    "id": "Ejw_5vPtzOS1"
   },
   "source": [
    "### <Font color = 'dodgerblue'>**Conclusions from the Confusion Matrix** </font>\n",
    "\n",
    "What do you conclude from the Confusion Matrix?\n",
    "\n",
    "Since recall score of food = 0.84 which is high hence food has been well classified whereas ambiance is << 0.5 i.e. it isn't well classsified. Hence, it isn't a viable model to use.\n",
    "\n",
    "\n"
   ]
  },
  {
   "cell_type": "markdown",
   "metadata": {
    "id": "Fk5oM0qQ0lqQ"
   },
   "source": [
    "## <Font color = 'dodgerblue'>**Change hypothesis template**</font>\n",
    "\n",
    "In this experiment, we are exploring the impact of changing the hypothesis template in a zero-shot classification model. The default template used in the pipeline is **\"This example is {}\"**. In the experiment the default template is being replaced with a domain-specific template to classify restaurant reviews into categories like food, service, ambiance, and other.\n",
    "\n",
    "### Steps:\n",
    "\n",
    "1. **Modify Hypothesis Template:** Adjust the template to better fit the context of restaurant reviews.\n",
    "2. **Evaluate Model:** Apply the modified template and report accuracy, a classification report, and confusion matrix.\n",
    "3. **Compare Results:** Analyze the findings in comparison to the previous experiment using the default template.\n",
    "\n",
    "### Conclusion:\n",
    "\n",
    "Changing the hypothesis template may lead to variations in model performance, possibly improving accuracy in certain categories. The comparison between the experiments can reveal insights into how the model interprets premises differently with various templates, helping to tailor the model to specific tasks or domains."
   ]
  },
  {
   "cell_type": "markdown",
   "metadata": {
    "id": "eniliCyO23Qr"
   },
   "source": [
    "### <Font color = 'dodgerblue'>**Create a list of reviews**"
   ]
  },
  {
   "cell_type": "code",
   "execution_count": 26,
   "metadata": {
    "executionInfo": {
     "elapsed": 90,
     "status": "ok",
     "timestamp": 1693615218833,
     "user": {
      "displayName": "Anurag Gupta",
      "userId": "11665593466360904385"
     },
     "user_tz": 300
    },
    "id": "fZB1sjVw23Qr"
   },
   "outputs": [],
   "source": [
    "# create a list of reviews (hint use column.tolist() to convert pandas series to python list)\n",
    "texts_train =  train_data.text.to_list()\n",
    "\n",
    "# list of labels\n",
    "candidate_labels = [\"food\", \"ambiance\", \"service\", \"other\"]"
   ]
  },
  {
   "cell_type": "markdown",
   "metadata": {
    "id": "sE1emxDW23Qr"
   },
   "source": [
    "### <Font color = 'dodgerblue'>**Get Probabilities**\n",
    "\n",
    "In the previous experiment, you only passed sequences and candiadte labels. Since you did not pass any hypothesis template, the classifier used the default template \"This example is {}.\" Now, in this experiment, you will introduce a custom hypothesis template to replace the default. The suggested custom template is \"This review is related to the restaurant's {}.\" By specifying a template more aligned with the context of restaurant reviews, you may influence how the classifier interprets the relationship between the premise and each candidate label. Feel free to explore other custom templates that may be suitable for this task, and compare how these changes affect the classification performance.\n",
    "\n",
    "The syntax is : **```zero_shot_classifier(sequences= , candidate_labels = , hypothesis_template =   )```**"
   ]
  },
  {
   "cell_type": "code",
   "execution_count": 27,
   "metadata": {
    "execution": {
     "iopub.execute_input": "2022-11-27T12:01:45.594721Z",
     "iopub.status.busy": "2022-11-27T12:01:45.594481Z",
     "iopub.status.idle": "2022-11-27T12:01:50.801737Z",
     "shell.execute_reply": "2022-11-27T12:01:50.801068Z",
     "shell.execute_reply.started": "2022-11-27T12:01:45.594695Z"
    },
    "executionInfo": {
     "elapsed": 66730,
     "status": "ok",
     "timestamp": 1693615325440,
     "user": {
      "displayName": "Anurag Gupta",
      "userId": "11665593466360904385"
     },
     "user_tz": 300
    },
    "id": "aEV28Et723Qr",
    "tags": []
   },
   "outputs": [],
   "source": [
    "# pass the sequences, candiadte labels and hypothesis_template to the classifier\n",
    "probs_newlabels = zero_shot_classifier(sequences = texts_train, candidate_labels = candidate_labels, hypothesis_template = \"This review is related to the restaurant's {}.\")"
   ]
  },
  {
   "cell_type": "code",
   "execution_count": 28,
   "metadata": {
    "colab": {
     "base_uri": "https://localhost:8080/"
    },
    "executionInfo": {
     "elapsed": 11,
     "status": "ok",
     "timestamp": 1693615325440,
     "user": {
      "displayName": "Anurag Gupta",
      "userId": "11665593466360904385"
     },
     "user_tz": 300
    },
    "id": "rajMDD2ZK6ms",
    "outputId": "5279a046-6c44-477a-e155-946ad7c9d592"
   },
   "outputs": [
    {
     "data": {
      "text/plain": [
       "[{'sequence': \"If you love unagi (eel) on rice, you'll absolutely enjoy their version.\",\n",
       "  'labels': ['food', 'other', 'service', 'ambiance'],\n",
       "  'scores': [0.8286234140396118,\n",
       "   0.1660204827785492,\n",
       "   0.002787330187857151,\n",
       "   0.0025688130408525467]},\n",
       " {'sequence': 'But it is definitely worth the wait.',\n",
       "  'labels': ['other', 'food', 'service', 'ambiance'],\n",
       "  'scores': [0.3562210202217102,\n",
       "   0.30787432193756104,\n",
       "   0.24831949174404144,\n",
       "   0.08758512139320374]},\n",
       " {'sequence': 'Sometimes get the Pho w/ rare beef which is decent.',\n",
       "  'labels': ['food', 'other', 'ambiance', 'service'],\n",
       "  'scores': [0.809067964553833,\n",
       "   0.18316298723220825,\n",
       "   0.004174679517745972,\n",
       "   0.003594418754801154]}]"
      ]
     },
     "execution_count": 28,
     "metadata": {},
     "output_type": "execute_result"
    }
   ],
   "source": [
    "probs_newlabels[0:3]"
   ]
  },
  {
   "cell_type": "markdown",
   "metadata": {
    "id": "NXB_v7XB23Qs"
   },
   "source": [
    "### <Font color = 'dodgerblue'>**Get Predictions**\n",
    "- The output from the classifier will give you the probbaility for each label\n",
    "- The label with the highest probbaility should be your prediction\n",
    "- You might need to use more than one line of the code to complete this step"
   ]
  },
  {
   "cell_type": "code",
   "execution_count": 29,
   "metadata": {
    "executionInfo": {
     "elapsed": 8,
     "status": "ok",
     "timestamp": 1693615325440,
     "user": {
      "displayName": "Anurag Gupta",
      "userId": "11665593466360904385"
     },
     "user_tz": 300
    },
    "id": "zIRClFhD23Qs"
   },
   "outputs": [],
   "source": [
    "predictions = [review['labels'][np.argmax(review['scores'])] for review in probs_newlabels]"
   ]
  },
  {
   "cell_type": "code",
   "execution_count": 30,
   "metadata": {
    "colab": {
     "base_uri": "https://localhost:8080/"
    },
    "executionInfo": {
     "elapsed": 8,
     "status": "ok",
     "timestamp": 1693615325441,
     "user": {
      "displayName": "Anurag Gupta",
      "userId": "11665593466360904385"
     },
     "user_tz": 300
    },
    "id": "2H1y8kl1s9J8",
    "outputId": "e69826a4-7bef-44c2-fda3-8305290f611a"
   },
   "outputs": [
    {
     "data": {
      "text/plain": [
       "['food', 'other', 'food', 'food', 'other']"
      ]
     },
     "execution_count": 30,
     "metadata": {},
     "output_type": "execute_result"
    }
   ],
   "source": [
    "# get first five predictions\n",
    "predictions[0:5]"
   ]
  },
  {
   "cell_type": "markdown",
   "metadata": {
    "id": "R7n4vKFt23Qs"
   },
   "source": [
    "### <Font color = 'dodgerblue'>**Accuracy**\n",
    "- You might need to use more than one line of the code to complete this step\n",
    "- Now you have the actual Label and predicted Label for each sentence.\n",
    "- Calculate the overall acacuracy (Hint : you can use accuracy_score form from sklearn - `from sklearn.metrics import accuracy_score`\n"
   ]
  },
  {
   "cell_type": "code",
   "execution_count": 31,
   "metadata": {
    "colab": {
     "base_uri": "https://localhost:8080/"
    },
    "executionInfo": {
     "elapsed": 5,
     "status": "ok",
     "timestamp": 1693615325441,
     "user": {
      "displayName": "Anurag Gupta",
      "userId": "11665593466360904385"
     },
     "user_tz": 300
    },
    "id": "pDSRjHgStHre",
    "outputId": "85c4861f-3e7f-4f64-fbc3-78324f4d5c84"
   },
   "outputs": [
    {
     "data": {
      "text/plain": [
       "78.76712328767124"
      ]
     },
     "execution_count": 31,
     "metadata": {},
     "output_type": "execute_result"
    }
   ],
   "source": [
    "accuracy =  (accuracy_score(train_data.final_label.to_list(), predictions) * 100)\n",
    "accuracy"
   ]
  },
  {
   "cell_type": "code",
   "execution_count": null,
   "metadata": {
    "colab": {
     "base_uri": "https://localhost:8080/"
    },
    "id": "dJr8JCJ0tHre",
    "outputId": "678b1d26-82d3-4fc4-e4e3-26d5e0c2a4a9"
   },
   "outputs": [
    {
     "data": {
      "text/plain": [
       "78.76712328767124"
      ]
     },
     "execution_count": 47,
     "metadata": {},
     "output_type": "execute_result"
    }
   ],
   "source": [
    "# DO NOT RUN THIS CELL - If you have done everything correctly, you should get accurtacy close to reported below\n",
    "accuracy"
   ]
  },
  {
   "cell_type": "markdown",
   "metadata": {
    "id": "YKEC44ii23Qs"
   },
   "source": [
    "### <Font color = 'dodgerblue'>**Classification Report**\n",
    "- Print the classification report\n",
    "- HINT- `from sklearn.metrics import classification_report`"
   ]
  },
  {
   "cell_type": "code",
   "execution_count": 32,
   "metadata": {
    "colab": {
     "base_uri": "https://localhost:8080/"
    },
    "executionInfo": {
     "elapsed": 96,
     "status": "ok",
     "timestamp": 1693615334294,
     "user": {
      "displayName": "Anurag Gupta",
      "userId": "11665593466360904385"
     },
     "user_tz": 300
    },
    "id": "SPB653ZutXyw",
    "outputId": "569c2d21-2049-4d26-fee4-a09133b56d4f"
   },
   "outputs": [
    {
     "name": "stdout",
     "output_type": "stream",
     "text": [
      "              precision    recall  f1-score   support\n",
      "\n",
      "    ambiance       0.90      0.41      0.57        46\n",
      "        food       0.88      0.84      0.86       279\n",
      "       other       0.60      0.91      0.72       139\n",
      "     service       0.93      0.68      0.78       120\n",
      "\n",
      "    accuracy                           0.79       584\n",
      "   macro avg       0.83      0.71      0.73       584\n",
      "weighted avg       0.83      0.79      0.79       584\n",
      "\n"
     ]
    }
   ],
   "source": [
    "# print classification report\n",
    "class_report =  classification_report(train_data.final_label.to_list(), predictions)\n",
    "print(class_report)"
   ]
  },
  {
   "cell_type": "markdown",
   "metadata": {
    "id": "9gz7hRSB23Qs"
   },
   "source": [
    "### <Font color = 'dodgerblue'>**Compare the classification report** </font>\n",
    "\n",
    "Compare the classification report with previous experiment and provide your conclusion.\n",
    "\n",
    "The f1 score is highest for food, moderate for 'other' and service categories but less for ambiance. But since all are above the average ROC score hence this becomes a viable model to use."
   ]
  },
  {
   "cell_type": "markdown",
   "metadata": {
    "id": "HGU0AEUu23Qs"
   },
   "source": [
    "### <Font color = 'dodgerblue'>**Confusion Matrix**\n",
    "- You might need to use more than one line of the code to complete this step\n",
    "- Print confusionm matrix\n",
    "- Hint:use ConfusionMatrixDisplay.from_predictions from sklearn"
   ]
  },
  {
   "cell_type": "code",
   "execution_count": 33,
   "metadata": {
    "colab": {
     "base_uri": "https://localhost:8080/"
    },
    "executionInfo": {
     "elapsed": 80,
     "status": "ok",
     "timestamp": 1693615342318,
     "user": {
      "displayName": "Anurag Gupta",
      "userId": "11665593466360904385"
     },
     "user_tz": 300
    },
    "id": "bhjumxPmvF9c",
    "outputId": "1b1223d9-3199-43e1-f851-d8c4e056b0b5"
   },
   "outputs": [
    {
     "data": {
      "text/plain": [
       "['food', 'ambiance', 'service', 'other']"
      ]
     },
     "execution_count": 33,
     "metadata": {},
     "output_type": "execute_result"
    }
   ],
   "source": [
    "probs_newlabels[0].keys()\n",
    "fi_new, sec_new = islice(probs[0].values(), 2)\n",
    "sec_new"
   ]
  },
  {
   "cell_type": "code",
   "execution_count": 34,
   "metadata": {
    "colab": {
     "base_uri": "https://localhost:8080/",
     "height": 467
    },
    "executionInfo": {
     "elapsed": 384,
     "status": "ok",
     "timestamp": 1693615346190,
     "user": {
      "displayName": "Anurag Gupta",
      "userId": "11665593466360904385"
     },
     "user_tz": 300
    },
    "id": "RcSXNX1YVxsU",
    "outputId": "478c6686-f393-4bc7-9d9a-4225a7e20d55"
   },
   "outputs": [
    {
     "data": {
      "text/plain": [
       "<sklearn.metrics._plot.confusion_matrix.ConfusionMatrixDisplay at 0x791185e970d0>"
      ]
     },
     "execution_count": 34,
     "metadata": {},
     "output_type": "execute_result"
    },
    {
     "data": {
      "image/png": "[encoded data removed]",
      "text/plain": [
       "<Figure size 640x480 with 2 Axes>"
      ]
     },
     "metadata": {},
     "output_type": "display_data"
    }
   ],
   "source": [
    "ConfusionMatrixDisplay.from_predictions(train_data.final_label.to_list(), predictions, normalize = 'true', labels = sec_new)"
   ]
  },
  {
   "cell_type": "markdown",
   "metadata": {
    "id": "s2mVAmm-23Qs"
   },
   "source": [
    "### <Font color = 'dodgerblue'>**Conclusions from the Confusion Matrix** </font>\n",
    "\n",
    "What do you conclude from the Confusion Matrix (compare with previous experiment)?\n",
    "\n",
    "Compared to the previous model, we can observe that the 'other' category has been well classified this time. There isn't much change in the recall score of food. Recall of service has slightly improved but of ambiance has got reduced by 0.1 points. Since it's accuracy score is the highest(alongwith acceptable recall scores) hence it's a reasonable model to be used.\n"
   ]
  },
  {
   "cell_type": "markdown",
   "metadata": {
    "id": "t2n8UTav3O8L"
   },
   "source": [
    "## <Font color = 'dodgerblue'>**Use threshold probability to classify Others**\n",
    "\n",
    "\n",
    "\n",
    "\n",
    "In this next experiment, you will explore a nuanced approach to classification by **only considering the labels 'food', 'service', and 'ambiance'**. This is a departure from the previous experiments, where you also included 'other' as a label, and it brings some key distinctions:\n",
    "\n",
    "Unlike traditional classification, where the probabilities across all labels sum to one, in this experiment, you'll assess the probabilities for just the three given labels.\n",
    "\n",
    "By not including 'other' as a label, you are essentially allowing the model to classify instances into 'other' if none of the given labels strongly apply. If the maximum probability across 'food', 'service', and 'ambiance' is less than the threshold, the instance is classified as 'other'.\n",
    "\n",
    "This approach not only recognizes that some instances may not fit neatly into one of the specific categories but also aims to refine the handling of those instances. It encourages a more flexible and discerning classification, possibly reducing misclassification.\n",
    "\n",
    "The task will allow you to explore how this method of classification, guided by a threshold, can impact the model's performance. It offers an insightful comparison with the previous approaches and underlines the significance of understanding the nature of your data, the relationships between categories, and selecting an appropriate classification strategy accordingly."
   ]
  },
  {
   "cell_type": "markdown",
   "metadata": {
    "id": "DvH5d67U3WVa"
   },
   "source": [
    "### <Font color = 'dodgerblue'>**Create a list of reviews**"
   ]
  },
  {
   "cell_type": "code",
   "execution_count": 35,
   "metadata": {
    "executionInfo": {
     "elapsed": 87,
     "status": "ok",
     "timestamp": 1693615356984,
     "user": {
      "displayName": "Anurag Gupta",
      "userId": "11665593466360904385"
     },
     "user_tz": 300
    },
    "id": "dKoj2rXB3WVa"
   },
   "outputs": [],
   "source": [
    "# create a list of reviews (hint use column.tolist() to convert pandas series to python list)\n",
    "texts_train =  train_data.text.to_list()\n",
    "\n",
    "# list of labels\n",
    "candidate_labels = [\"food\", \"ambiance\", \"service\"]  #  MAKE SURE YOU DO NOT PASS 'other' in candidate labels"
   ]
  },
  {
   "cell_type": "markdown",
   "metadata": {
    "id": "_94oeSQB3WVb"
   },
   "source": [
    "### <Font color = 'dodgerblue'>**Get Probbailities**\n",
    "\n",
    "Pass the list of text and labels you craeted in the previous step to the classifier to get predictions."
   ]
  },
  {
   "cell_type": "code",
   "execution_count": 37,
   "metadata": {
    "execution": {
     "iopub.execute_input": "2022-11-27T12:01:45.594721Z",
     "iopub.status.busy": "2022-11-27T12:01:45.594481Z",
     "iopub.status.idle": "2022-11-27T12:01:50.801737Z",
     "shell.execute_reply": "2022-11-27T12:01:50.801068Z",
     "shell.execute_reply.started": "2022-11-27T12:01:45.594695Z"
    },
    "executionInfo": {
     "elapsed": 55651,
     "status": "ok",
     "timestamp": 1693615553540,
     "user": {
      "displayName": "Anurag Gupta",
      "userId": "11665593466360904385"
     },
     "user_tz": 300
    },
    "id": "KCkWBpr43WVb",
    "tags": []
   },
   "outputs": [],
   "source": [
    "# pass the sequences, candiadte labels and hypothesis_template to the classifier\n",
    "probs_threshold = zero_shot_classifier(sequences = texts_train, candidate_labels = candidate_labels, hypothesis_template = \"This review is related to the restaurant's {}.\")"
   ]
  },
  {
   "cell_type": "code",
   "execution_count": 38,
   "metadata": {
    "colab": {
     "base_uri": "https://localhost:8080/"
    },
    "executionInfo": {
     "elapsed": 80,
     "status": "ok",
     "timestamp": 1693615558227,
     "user": {
      "displayName": "Anurag Gupta",
      "userId": "11665593466360904385"
     },
     "user_tz": 300
    },
    "id": "J4ifIOjE1tpu",
    "outputId": "6fc0a334-8465-4175-b3be-9a5bfdc016da"
   },
   "outputs": [
    {
     "data": {
      "text/plain": [
       "[{'sequence': \"If you love unagi (eel) on rice, you'll absolutely enjoy their version.\",\n",
       "  'labels': ['food', 'service', 'ambiance'],\n",
       "  'scores': [0.9935776591300964,\n",
       "   0.0033422044944018126,\n",
       "   0.0030801871325820684]},\n",
       " {'sequence': 'But it is definitely worth the wait.',\n",
       "  'labels': ['food', 'service', 'ambiance'],\n",
       "  'scores': [0.4782298803329468, 0.38572168350219727, 0.13604843616485596]},\n",
       " {'sequence': 'Sometimes get the Pho w/ rare beef which is decent.',\n",
       "  'labels': ['food', 'ambiance', 'service'],\n",
       "  'scores': [0.9904888272285461, 0.00511078629642725, 0.004400411155074835]},\n",
       " {'sequence': 'Other items on this menu was a crab soup, duck and clams congee, 2 desserts (one chinese and one western) and free appetizers.',\n",
       "  'labels': ['food', 'service', 'ambiance'],\n",
       "  'scores': [0.9874481558799744, 0.006339206825941801, 0.006212593987584114]},\n",
       " {'sequence': 'I visited the restaurant for lunch and arrived there just after 12.30pm on a Sunday.',\n",
       "  'labels': ['food', 'ambiance', 'service'],\n",
       "  'scores': [0.7476781010627747, 0.13911722600460052, 0.11320469528436661]}]"
      ]
     },
     "execution_count": 38,
     "metadata": {},
     "output_type": "execute_result"
    }
   ],
   "source": [
    "probs_threshold[0:5]"
   ]
  },
  {
   "cell_type": "code",
   "execution_count": 39,
   "metadata": {
    "colab": {
     "base_uri": "https://localhost:8080/"
    },
    "executionInfo": {
     "elapsed": 91,
     "status": "ok",
     "timestamp": 1693615562673,
     "user": {
      "displayName": "Anurag Gupta",
      "userId": "11665593466360904385"
     },
     "user_tz": 300
    },
    "id": "HMKKmzCZgrNb",
    "outputId": "73fa4999-2102-4a33-b88c-73a2c8f4b24b"
   },
   "outputs": [
    {
     "data": {
      "text/plain": [
       "['food', 'other', 'food', 'food', 'other']"
      ]
     },
     "execution_count": 39,
     "metadata": {},
     "output_type": "execute_result"
    }
   ],
   "source": [
    "#list(probs_threshold[0].values())\n",
    "predictions_threshold = []\n",
    "for review in probs_threshold: #review['labels'][np.argmax(review['scores'])]\n",
    "    if max(review['scores']) > 0.8:\n",
    "        predictions_threshold.append(review['labels'][np.argmax(max(review['scores']))])\n",
    "  # elif 0.2 <= max(review['scores']) < 0.8 or review['labels'][np.argmax(max(review['scores']))] == 'service':\n",
    "  #   predictions_threshold.append(review['labels'][np.argmax(max(review['scores']))])\n",
    "  # elif 0.1 <= max(review['scores']) < 0.2 or review['labels'][np.argmax(max(review['scores']))] == 'ambiance':\n",
    "  #   predictions_threshold.append(review['labels'][np.argmax(max(review['scores']))])\n",
    "    else:\n",
    "        predictions_threshold.append('other')\n",
    "\n",
    "\n",
    "len(predictions_threshold)\n",
    "predictions_threshold[0:5]\n",
    "  #print(review['labels'][np.argmax(max(review['scores']))])\n",
    "  # for key, value in review.items():\n",
    "  #   print(key)"
   ]
  },
  {
   "cell_type": "markdown",
   "metadata": {
    "id": "qLZ9WP3j3WVb"
   },
   "source": [
    "### <Font color = 'dodgerblue'>**Get Predictions** </font>\n",
    "\n",
    "In this experiment , you'll be considering three specific categories: 'food', 'service', 'ambiance', and classify any instance that doesn't fit these categories as 'other'. To make this decision, you will use a concept called a threshold.\n",
    "\n",
    "#### Understanding the Threshold Concept:\n",
    "The threshold is a cutoff value that helps determine the class labels based on predicted probabilities. Here's how it works:\n",
    "\n",
    "Imagine your model predicts the following probabilities for a review:\n",
    "- 'food': 0.7\n",
    "- 'service': 0.2\n",
    "- 'ambiance': 0.1\n",
    "\n",
    "With a threshold of 0.5, you check whether the highest probability (0.7 for 'food') is greater than this threshold. Since 0.7 > 0.5, the review is classified as 'food'. If the highest probability dees not surpass the threshold, you classify the review as 'other'. By adjusting the threshold, you control how confident the model must be to assign a particular label.\n",
    "\n",
    "**In this experiment, you will use a theshold of 0.8**"
   ]
  },
  {
   "cell_type": "code",
   "execution_count": 40,
   "metadata": {
    "executionInfo": {
     "elapsed": 82,
     "status": "ok",
     "timestamp": 1693615569138,
     "user": {
      "displayName": "Anurag Gupta",
      "userId": "11665593466360904385"
     },
     "user_tz": 300
    },
    "id": "_z6Gdb7_zQg9"
   },
   "outputs": [],
   "source": [
    "threshold = 0.8"
   ]
  },
  {
   "cell_type": "code",
   "execution_count": 41,
   "metadata": {
    "executionInfo": {
     "elapsed": 1,
     "status": "ok",
     "timestamp": 1693615570052,
     "user": {
      "displayName": "Anurag Gupta",
      "userId": "11665593466360904385"
     },
     "user_tz": 300
    },
    "id": "AyAK7DRjzRB0"
   },
   "outputs": [],
   "source": [
    "pred_threshold = [review['labels'][np.argmax(max(review['scores']))] if max(review['scores']) > threshold else 'other' for review in probs_threshold]"
   ]
  },
  {
   "cell_type": "code",
   "execution_count": 42,
   "metadata": {
    "colab": {
     "base_uri": "https://localhost:8080/"
    },
    "executionInfo": {
     "elapsed": 92,
     "status": "ok",
     "timestamp": 1693615571183,
     "user": {
      "displayName": "Anurag Gupta",
      "userId": "11665593466360904385"
     },
     "user_tz": 300
    },
    "id": "U0EF5TJL9Ibm",
    "outputId": "152d93a8-6043-4614-a735-576e8f632b6c"
   },
   "outputs": [
    {
     "data": {
      "text/plain": [
       "['food', 'other', 'food', 'food', 'other']"
      ]
     },
     "execution_count": 42,
     "metadata": {},
     "output_type": "execute_result"
    }
   ],
   "source": [
    "pred_threshold[0:5]"
   ]
  },
  {
   "cell_type": "code",
   "execution_count": 43,
   "metadata": {
    "colab": {
     "base_uri": "https://localhost:8080/"
    },
    "executionInfo": {
     "elapsed": 89,
     "status": "ok",
     "timestamp": 1693615573344,
     "user": {
      "displayName": "Anurag Gupta",
      "userId": "11665593466360904385"
     },
     "user_tz": 300
    },
    "id": "LjdRb9ZSzRB0",
    "outputId": "0246ea0b-92bb-418a-af01-eef64075ca7e"
   },
   "outputs": [
    {
     "data": {
      "text/plain": [
       "['food', 'other', 'food', 'food', 'other']"
      ]
     },
     "execution_count": 43,
     "metadata": {},
     "output_type": "execute_result"
    }
   ],
   "source": [
    "# get first five predictions\n",
    "predictions[0:5]"
   ]
  },
  {
   "cell_type": "markdown",
   "metadata": {
    "id": "ncT2Qh7R3WVb"
   },
   "source": [
    "### <Font color = 'dodgerblue'>**Accuracy**\n",
    "- You might need to use more than one line of the code to complete this step\n",
    "- Now you have the True Label and predicted Label for each sentence.\n",
    "- Calculate the overall acacuracy (Hint : you can use accuracy_score form from sklearn - `from sklearn.metrics import accuracy_score`\n"
   ]
  },
  {
   "cell_type": "code",
   "execution_count": 44,
   "metadata": {
    "colab": {
     "base_uri": "https://localhost:8080/"
    },
    "executionInfo": {
     "elapsed": 85,
     "status": "ok",
     "timestamp": 1693615578449,
     "user": {
      "displayName": "Anurag Gupta",
      "userId": "11665593466360904385"
     },
     "user_tz": 300
    },
    "id": "myixU_Ky6OIl",
    "outputId": "eb734104-7b0d-4d5c-9754-e1a966611dfc"
   },
   "outputs": [
    {
     "data": {
      "text/plain": [
       "76.02739726027397"
      ]
     },
     "execution_count": 44,
     "metadata": {},
     "output_type": "execute_result"
    }
   ],
   "source": [
    "accuracy =  (accuracy_score(train_data.final_label.to_list(), pred_threshold) * 100)\n",
    "accuracy"
   ]
  },
  {
   "cell_type": "code",
   "execution_count": null,
   "metadata": {
    "colab": {
     "base_uri": "https://localhost:8080/"
    },
    "id": "AkCb8Qeg6OIm",
    "outputId": "2a6fd581-3d6d-4d6f-9ed3-0666a9baaa3e"
   },
   "outputs": [
    {
     "data": {
      "text/plain": [
       "76.02739726027397"
      ]
     },
     "execution_count": 68,
     "metadata": {},
     "output_type": "execute_result"
    }
   ],
   "source": [
    "# DO NOT RUN THIS CELL - If you have done everything correctly, you should get accurtacy close to reported below\n",
    "accuracy"
   ]
  },
  {
   "cell_type": "markdown",
   "metadata": {
    "id": "Wa-yI85Y4rlj"
   },
   "source": [
    "**The overall accurtacy has decreased. This might be the result of chosen threshold**"
   ]
  },
  {
   "cell_type": "markdown",
   "metadata": {
    "id": "AyzScDOh3WVb"
   },
   "source": [
    "### <Font color = 'dodgerblue'>**Classification Report**\n",
    "- Print the classification report\n",
    "- HINT- `from sklearn.metrics import classification_report`"
   ]
  },
  {
   "cell_type": "code",
   "execution_count": 45,
   "metadata": {
    "colab": {
     "base_uri": "https://localhost:8080/"
    },
    "executionInfo": {
     "elapsed": 89,
     "status": "ok",
     "timestamp": 1693615590461,
     "user": {
      "displayName": "Anurag Gupta",
      "userId": "11665593466360904385"
     },
     "user_tz": 300
    },
    "id": "HnkXaUZP5qp5",
    "outputId": "372a9d7d-0a06-4a28-d579-7c7d2b4e526a"
   },
   "outputs": [
    {
     "name": "stdout",
     "output_type": "stream",
     "text": [
      "              precision    recall  f1-score   support\n",
      "\n",
      "    ambiance       0.95      0.41      0.58        46\n",
      "        food       0.91      0.85      0.88       279\n",
      "       other       0.53      0.88      0.66       139\n",
      "     service       0.93      0.53      0.68       120\n",
      "\n",
      "    accuracy                           0.76       584\n",
      "   macro avg       0.83      0.67      0.70       584\n",
      "weighted avg       0.83      0.76      0.76       584\n",
      "\n"
     ]
    }
   ],
   "source": [
    "# print classification report\n",
    "class_report =  classification_report(train_data.final_label.to_list(), pred_threshold)\n",
    "print(class_report)"
   ]
  },
  {
   "cell_type": "markdown",
   "metadata": {
    "id": "aEkpcLJm3WVb"
   },
   "source": [
    "### <Font color = 'dodgerblue'>**Compare the classification report** </font>\n",
    "\n",
    "Compare the classification report with previous experiment and provide your conclusion.\n",
    "\n",
    "Since the accuracy has decreased alongwith reduction of f1 scores of all the labels hence this wouldn't be an optimum model to use."
   ]
  },
  {
   "cell_type": "markdown",
   "metadata": {
    "id": "MXuotn5J3WVb"
   },
   "source": [
    "### <Font color = 'dodgerblue'>**Confusion Matrix**\n",
    "- You might need to use more than one line of the code to complete this step\n",
    "- Print confusionm matrix\n",
    "- Hint:`from sklearn.metrics import confusion_matrix``"
   ]
  },
  {
   "cell_type": "code",
   "execution_count": 46,
   "metadata": {
    "colab": {
     "base_uri": "https://localhost:8080/",
     "height": 467
    },
    "executionInfo": {
     "elapsed": 513,
     "status": "ok",
     "timestamp": 1693615603653,
     "user": {
      "displayName": "Anurag Gupta",
      "userId": "11665593466360904385"
     },
     "user_tz": 300
    },
    "id": "0k7-MSek2qPz",
    "outputId": "045f4f3a-7d6d-4907-e2b5-9a327c9d685b"
   },
   "outputs": [
    {
     "data": {
      "text/plain": [
       "<sklearn.metrics._plot.confusion_matrix.ConfusionMatrixDisplay at 0x791185e96830>"
      ]
     },
     "execution_count": 46,
     "metadata": {},
     "output_type": "execute_result"
    },
    {
     "data": {
      "image/png": "[encoded data removed]",
      "text/plain": [
       "<Figure size 640x480 with 2 Axes>"
      ]
     },
     "metadata": {},
     "output_type": "display_data"
    }
   ],
   "source": [
    "# CODE HERE\n",
    "ConfusionMatrixDisplay.from_predictions(train_data.final_label.to_list(), pred_threshold, normalize = 'true', labels = sec_new)"
   ]
  },
  {
   "cell_type": "markdown",
   "metadata": {
    "id": "Ntk8kWWt3WVb"
   },
   "source": [
    "### Conclusions from the Confusion Matrix\n",
    "\n",
    "What do you conclude from the Confusion Matrix (compare with previous experiments)?\n",
    "\n",
    "Here, after comparing with the previous models, we can observe that by not mentioning 'other' as a label, the recall scores have decreased drastically. Amongst the models fitted here, this wouldn't give us a viable recall score although similar accuracy score as before.\n"
   ]
  }
 ],
 "metadata": {
  "accelerator": "GPU",
  "colab": {
   "gpuType": "T4",
   "provenance": []
  },
  "kernelspec": {
   "display_name": "Python 3 (ipykernel)",
   "language": "python",
   "name": "python3"
  },
  "language_info": {
   "codemirror_mode": {
    "name": "ipython",
    "version": 3
   },
   "file_extension": ".py",
   "mimetype": "text/x-python",
   "name": "python",
   "nbconvert_exporter": "python",
   "pygments_lexer": "ipython3",
   "version": "3.9.13"
  }
 },
 "nbformat": 4,
 "nbformat_minor": 1
}
